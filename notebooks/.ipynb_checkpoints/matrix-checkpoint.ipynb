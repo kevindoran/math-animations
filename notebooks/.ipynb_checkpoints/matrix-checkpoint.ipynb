{
 "cells": [
  {
   "cell_type": "code",
   "execution_count": 22,
   "id": "87fd5ea3-2f56-44f4-82b6-d73d1e52560e",
   "metadata": {},
   "outputs": [
    {
     "ename": "ModuleNotFoundError",
     "evalue": "No module named 'colormap'",
     "output_type": "error",
     "traceback": [
      "\u001b[0;31m---------------------------------------------------------------------------\u001b[0m",
      "\u001b[0;31mModuleNotFoundError\u001b[0m                       Traceback (most recent call last)",
      "\u001b[0;32m<ipython-input-22-cd9f27f519e1>\u001b[0m in \u001b[0;36m<module>\u001b[0;34m\u001b[0m\n\u001b[1;32m      2\u001b[0m \u001b[0;32mimport\u001b[0m \u001b[0mnumpy\u001b[0m \u001b[0;32mas\u001b[0m \u001b[0mnp\u001b[0m\u001b[0;34m\u001b[0m\u001b[0;34m\u001b[0m\u001b[0m\n\u001b[1;32m      3\u001b[0m \u001b[0;32mimport\u001b[0m \u001b[0mcopy\u001b[0m\u001b[0;34m\u001b[0m\u001b[0;34m\u001b[0m\u001b[0m\n\u001b[0;32m----> 4\u001b[0;31m \u001b[0;32mimport\u001b[0m \u001b[0mcolormap\u001b[0m\u001b[0;34m\u001b[0m\u001b[0;34m\u001b[0m\u001b[0m\n\u001b[0m\u001b[1;32m      5\u001b[0m \u001b[0;32mfrom\u001b[0m \u001b[0mpalettable\u001b[0m\u001b[0;34m.\u001b[0m\u001b[0mcmocean\u001b[0m\u001b[0;34m.\u001b[0m\u001b[0msequential\u001b[0m \u001b[0;32mimport\u001b[0m \u001b[0mDeep_20\u001b[0m\u001b[0;34m\u001b[0m\u001b[0;34m\u001b[0m\u001b[0m\n\u001b[1;32m      6\u001b[0m \u001b[0;32mfrom\u001b[0m \u001b[0mpalettable\u001b[0m\u001b[0;34m.\u001b[0m\u001b[0mcolorbrewer\u001b[0m\u001b[0;34m.\u001b[0m\u001b[0msequential\u001b[0m \u001b[0;32mimport\u001b[0m \u001b[0mYlGn_9\u001b[0m\u001b[0;34m\u001b[0m\u001b[0;34m\u001b[0m\u001b[0m\n",
      "\u001b[0;31mModuleNotFoundError\u001b[0m: No module named 'colormap'"
     ]
    }
   ],
   "source": [
    "import manim as manim\n",
    "import numpy as np\n",
    "import copy\n",
    "import colormap\n",
    "from palettable.cmocean.sequential import Deep_20\n",
    "from palettable.colorbrewer.sequential import YlGn_9\n",
    "from palettable.colorbrewer.sequential import Greens_9"
   ]
  },
  {
   "cell_type": "code",
   "execution_count": 5,
   "id": "081a4b8e-c5c7-4c57-a449-5328c23277c8",
   "metadata": {},
   "outputs": [
    {
     "name": "stdout",
     "output_type": "stream",
     "text": [
      "Usage: manim [OPTIONS] COMMAND [ARGS]...\n",
      "\n",
      "  Animation engine for explanatory math videos\n",
      "\n",
      "Options:\n",
      "  --version  Show version and exit.\n",
      "  --help     Show this message and exit.\n",
      "\n",
      "Commands:\n",
      "  render*  Render SCENE(S) from the input FILE.\n",
      "  cfg      Manages Manim configuration files.\n",
      "  plugins  Manages Manim plugins.\n",
      "\n",
      "  Made with <3 by Manim Community developers.\n"
     ]
    }
   ],
   "source": [
    "%manim --help"
   ]
  },
  {
   "cell_type": "code",
   "execution_count": 20,
   "id": "9551e64c-d0d0-4f2d-8d5f-04dcdca7c2ea",
   "metadata": {},
   "outputs": [],
   "source": [
    "colors = ['#caf0f8', '#90e0ef', '#00b4d8', '#0096c7']\n",
    "# Gradient generated at: https://coolors.co/gradient-palette/83a566-628444?number=7\n",
    "result_colors = ['#caffbf', '#BEF0B0', '#B2E1A1', '#A7D293', '#9BC384', '#8FB475', '#83A566', '#7EA060', '#789A5B', '#739555', '#6D8F4F', '#688A4A'] \n",
    "result_colors = YlGn_9.hex_colors #Deep_20.hex_colors\n",
    "result_color = result_colors[0]\n",
    "\n",
    "use_gradient = True\n",
    "mixes = np.array([[2, 4, 1], [1, 1, 1], [0, 3, 2], [0, 1, 0], [4, 1, 0], [3, 0, 0], [2, 2, 2], [1, 1, 3], [1, 0, 2]])\n",
    "X_in =  np.array([[1, 0, 1, 3], [1, 4, 0, 0], [0, 0, 2, 0]])\n",
    "bg_color = '#f0f0f0'\n",
    "font_color = '#0a0a0a'\n",
    "line_color = '#7b7b7b'\n",
    "scale = 0.5\n",
    "target_point = np.array([1, -5, 0])*scale\n",
    "source_point = np.array([0, 2, 0])\n",
    "num_input_boxes = 4\n",
    "num_inputs = 3\n",
    "mix = [2, 4, 1]\n",
    "publish = True\n",
    "manim.config[\"background_color\"] = bg_color\n",
    "if publish:\n",
    "    manim.config.quality = 'production_quality'\n",
    "    manim.config.pixel_width = 1280\n",
    "    manim.config.pixel_height = 720\n",
    "    manim.config.frame_rate = 60\n",
    "else:\n",
    "    manim.config.quality = 'low_quality'\n",
    "    manim.config.pixel_width = 640\n",
    "    manim.config.pixel_height = 360\n",
    "    manim.config.frame_rate = 60\n"
   ]
  },
  {
   "cell_type": "code",
   "execution_count": 297,
   "id": "51efca11-7e79-4c0c-956e-918cca2fb807",
   "metadata": {},
   "outputs": [
    {
     "name": "stdout",
     "output_type": "stream",
     "text": [
      "1\n",
      "1\n",
      "2\n",
      "3\n",
      "4\n"
     ]
    },
    {
     "name": "stderr",
     "output_type": "stream",
     "text": [
      "/usr/local/lib/python3.8/site-packages/numpy/core/_asarray.py:102: VisibleDeprecationWarning: Creating an ndarray from nested sequences exceeding the maximum number of dimensions of 32 is deprecated. If you mean to do this, you must specify 'dtype=object' when creating the ndarray.\n",
      "  return array(a, dtype, copy=False, order=order)\n"
     ]
    },
    {
     "data": {
      "text/html": [
       "<pre style=\"white-space:pre;overflow-x:auto;line-height:normal;font-family:Menlo,'DejaVu Sans Mono',consolas,'Courier New',monospace\"><span style=\"color: #7fbfbf\">[05/07/21 02:21:33] </span><span style=\"color: #008000\">INFO</span>                                             <a href=\"file:///usr/local/lib/python3.8/site-packages/manim/scene/scene_file_writer.py\"><span style=\"color: #7f7f7f\">scene_file_writer.py</span></a><span style=\"color: #7f7f7f\">:585</span>\n",
       "                             <span style=\"color: #808000; font-weight: bold\">File</span> ready at <span style=\"color: #800080\">/manim/notebooks/media/im</span>                         \n",
       "                             <span style=\"color: #800080\">ages/notebooks/</span><span style=\"color: #ff00ff\">Test_ManimCE_v0.6.0.png</span>                          \n",
       "                                                                                             \n",
       "</pre>\n"
      ],
      "text/plain": [
       "<rich.jupyter.JupyterRenderable at 0x7f31eed7ccd0>"
      ]
     },
     "metadata": {},
     "output_type": "display_data"
    },
    {
     "data": {
      "text/html": [
       "<pre style=\"white-space:pre;overflow-x:auto;line-height:normal;font-family:Menlo,'DejaVu Sans Mono',consolas,'Courier New',monospace\"><span style=\"color: #7fbfbf\">                    </span><span style=\"color: #008000\">INFO</span>     <span style=\"color: #808000; font-weight: bold\">Rendered</span> Test                                       <a href=\"file:///usr/local/lib/python3.8/site-packages/manim/scene/scene.py\"><span style=\"color: #7f7f7f\">scene.py</span></a><span style=\"color: #7f7f7f\">:217</span>\n",
       "                             <span style=\"color: #808000; font-weight: bold\">Played</span> <span style=\"color: #008000\">0</span> <span style=\"color: #808000; font-weight: bold\">animations</span>                                             \n",
       "</pre>\n"
      ],
      "text/plain": [
       "<rich.jupyter.JupyterRenderable at 0x7f31eed7ce80>"
      ]
     },
     "metadata": {},
     "output_type": "display_data"
    },
    {
     "ename": "FileNotFoundError",
     "evalue": "[Errno 2] No such file or directory: 'media/jupyter/077c4e083f870f98dcde3434d653f1acbdae52fc.png'",
     "output_type": "error",
     "traceback": [
      "\u001b[0;31m---------------------------------------------------------------------------\u001b[0m",
      "\u001b[0;31mFileNotFoundError\u001b[0m                         Traceback (most recent call last)",
      "\u001b[0;32m<ipython-input-297-1b6703373902>\u001b[0m in \u001b[0;36m<module>\u001b[0;34m\u001b[0m\n\u001b[0;32m----> 1\u001b[0;31m \u001b[0mget_ipython\u001b[0m\u001b[0;34m(\u001b[0m\u001b[0;34m)\u001b[0m\u001b[0;34m.\u001b[0m\u001b[0mrun_cell_magic\u001b[0m\u001b[0;34m(\u001b[0m\u001b[0;34m'manim'\u001b[0m\u001b[0;34m,\u001b[0m \u001b[0;34m'-ql Test'\u001b[0m\u001b[0;34m,\u001b[0m \u001b[0;34m'\\nclass Test(manim.Scene):\\n\\n    \\n    def construct(self):\\n        def f1(m):\\n            print(m)\\n            return manim.Circle(m)\\n        def f2(m):\\n            print(m)\\n            return m\\n        circles = [[manim.Circle(1), manim.Circle(2), manim.Circle(3), manim.Circle(4)]]     \\n        circles_np = np.array(circles, dtype=object)\\n        ints = [[1, 2, 3, 4]]\\n        m1 = manim.MobjectMatrix(ints,    element_to_mobject=f1)\\n        # m2 = manim.MobjectMatrix(circles, element_to_mobject=f2)\\n        c = circles_np[0,0]\\n'\u001b[0m\u001b[0;34m)\u001b[0m\u001b[0;34m\u001b[0m\u001b[0;34m\u001b[0m\u001b[0m\n\u001b[0m",
      "\u001b[0;32m/usr/local/lib/python3.8/site-packages/IPython/core/interactiveshell.py\u001b[0m in \u001b[0;36mrun_cell_magic\u001b[0;34m(self, magic_name, line, cell)\u001b[0m\n\u001b[1;32m   2401\u001b[0m             \u001b[0;32mwith\u001b[0m \u001b[0mself\u001b[0m\u001b[0;34m.\u001b[0m\u001b[0mbuiltin_trap\u001b[0m\u001b[0;34m:\u001b[0m\u001b[0;34m\u001b[0m\u001b[0;34m\u001b[0m\u001b[0m\n\u001b[1;32m   2402\u001b[0m                 \u001b[0margs\u001b[0m \u001b[0;34m=\u001b[0m \u001b[0;34m(\u001b[0m\u001b[0mmagic_arg_s\u001b[0m\u001b[0;34m,\u001b[0m \u001b[0mcell\u001b[0m\u001b[0;34m)\u001b[0m\u001b[0;34m\u001b[0m\u001b[0;34m\u001b[0m\u001b[0m\n\u001b[0;32m-> 2403\u001b[0;31m                 \u001b[0mresult\u001b[0m \u001b[0;34m=\u001b[0m \u001b[0mfn\u001b[0m\u001b[0;34m(\u001b[0m\u001b[0;34m*\u001b[0m\u001b[0margs\u001b[0m\u001b[0;34m,\u001b[0m \u001b[0;34m**\u001b[0m\u001b[0mkwargs\u001b[0m\u001b[0;34m)\u001b[0m\u001b[0;34m\u001b[0m\u001b[0;34m\u001b[0m\u001b[0m\n\u001b[0m\u001b[1;32m   2404\u001b[0m             \u001b[0;32mreturn\u001b[0m \u001b[0mresult\u001b[0m\u001b[0;34m\u001b[0m\u001b[0;34m\u001b[0m\u001b[0m\n\u001b[1;32m   2405\u001b[0m \u001b[0;34m\u001b[0m\u001b[0m\n",
      "\u001b[0;32m<decorator-gen-863>\u001b[0m in \u001b[0;36mmanim\u001b[0;34m(self, line, cell, local_ns)\u001b[0m\n",
      "\u001b[0;32m/usr/local/lib/python3.8/site-packages/IPython/core/magic.py\u001b[0m in \u001b[0;36m<lambda>\u001b[0;34m(f, *a, **k)\u001b[0m\n\u001b[1;32m    185\u001b[0m     \u001b[0;31m# but it's overkill for just that one bit of state.\u001b[0m\u001b[0;34m\u001b[0m\u001b[0;34m\u001b[0m\u001b[0;34m\u001b[0m\u001b[0m\n\u001b[1;32m    186\u001b[0m     \u001b[0;32mdef\u001b[0m \u001b[0mmagic_deco\u001b[0m\u001b[0;34m(\u001b[0m\u001b[0marg\u001b[0m\u001b[0;34m)\u001b[0m\u001b[0;34m:\u001b[0m\u001b[0;34m\u001b[0m\u001b[0;34m\u001b[0m\u001b[0m\n\u001b[0;32m--> 187\u001b[0;31m         \u001b[0mcall\u001b[0m \u001b[0;34m=\u001b[0m \u001b[0;32mlambda\u001b[0m \u001b[0mf\u001b[0m\u001b[0;34m,\u001b[0m \u001b[0;34m*\u001b[0m\u001b[0ma\u001b[0m\u001b[0;34m,\u001b[0m \u001b[0;34m**\u001b[0m\u001b[0mk\u001b[0m\u001b[0;34m:\u001b[0m \u001b[0mf\u001b[0m\u001b[0;34m(\u001b[0m\u001b[0;34m*\u001b[0m\u001b[0ma\u001b[0m\u001b[0;34m,\u001b[0m \u001b[0;34m**\u001b[0m\u001b[0mk\u001b[0m\u001b[0;34m)\u001b[0m\u001b[0;34m\u001b[0m\u001b[0;34m\u001b[0m\u001b[0m\n\u001b[0m\u001b[1;32m    188\u001b[0m \u001b[0;34m\u001b[0m\u001b[0m\n\u001b[1;32m    189\u001b[0m         \u001b[0;32mif\u001b[0m \u001b[0mcallable\u001b[0m\u001b[0;34m(\u001b[0m\u001b[0marg\u001b[0m\u001b[0;34m)\u001b[0m\u001b[0;34m:\u001b[0m\u001b[0;34m\u001b[0m\u001b[0;34m\u001b[0m\u001b[0m\n",
      "\u001b[0;32m/usr/local/lib/python3.8/site-packages/manim/utils/ipython_magic.py\u001b[0m in \u001b[0;36mmanim\u001b[0;34m(self, line, cell, local_ns)\u001b[0m\n\u001b[1;32m    116\u001b[0m \u001b[0;34m\u001b[0m\u001b[0m\n\u001b[1;32m    117\u001b[0m                 \u001b[0;32mif\u001b[0m \u001b[0mlocal_path\u001b[0m \u001b[0;32min\u001b[0m \u001b[0mself\u001b[0m\u001b[0;34m.\u001b[0m\u001b[0mrendered_files\u001b[0m\u001b[0;34m:\u001b[0m\u001b[0;34m\u001b[0m\u001b[0;34m\u001b[0m\u001b[0m\n\u001b[0;32m--> 118\u001b[0;31m                     \u001b[0mself\u001b[0m\u001b[0;34m.\u001b[0m\u001b[0mrendered_files\u001b[0m\u001b[0;34m[\u001b[0m\u001b[0mlocal_path\u001b[0m\u001b[0;34m]\u001b[0m\u001b[0;34m.\u001b[0m\u001b[0munlink\u001b[0m\u001b[0;34m(\u001b[0m\u001b[0;34m)\u001b[0m\u001b[0;34m\u001b[0m\u001b[0;34m\u001b[0m\u001b[0m\n\u001b[0m\u001b[1;32m    119\u001b[0m                 \u001b[0mself\u001b[0m\u001b[0;34m.\u001b[0m\u001b[0mrendered_files\u001b[0m\u001b[0;34m[\u001b[0m\u001b[0mlocal_path\u001b[0m\u001b[0;34m]\u001b[0m \u001b[0;34m=\u001b[0m \u001b[0mtmpfile\u001b[0m\u001b[0;34m\u001b[0m\u001b[0;34m\u001b[0m\u001b[0m\n\u001b[1;32m    120\u001b[0m                 \u001b[0mos\u001b[0m\u001b[0;34m.\u001b[0m\u001b[0mmakedirs\u001b[0m\u001b[0;34m(\u001b[0m\u001b[0mtmpfile\u001b[0m\u001b[0;34m.\u001b[0m\u001b[0mparent\u001b[0m\u001b[0;34m,\u001b[0m \u001b[0mexist_ok\u001b[0m\u001b[0;34m=\u001b[0m\u001b[0;32mTrue\u001b[0m\u001b[0;34m)\u001b[0m\u001b[0;34m\u001b[0m\u001b[0;34m\u001b[0m\u001b[0m\n",
      "\u001b[0;32m/usr/local/lib/python3.8/pathlib.py\u001b[0m in \u001b[0;36munlink\u001b[0;34m(self, missing_ok)\u001b[0m\n\u001b[1;32m   1322\u001b[0m             \u001b[0mself\u001b[0m\u001b[0;34m.\u001b[0m\u001b[0m_raise_closed\u001b[0m\u001b[0;34m(\u001b[0m\u001b[0;34m)\u001b[0m\u001b[0;34m\u001b[0m\u001b[0;34m\u001b[0m\u001b[0m\n\u001b[1;32m   1323\u001b[0m         \u001b[0;32mtry\u001b[0m\u001b[0;34m:\u001b[0m\u001b[0;34m\u001b[0m\u001b[0;34m\u001b[0m\u001b[0m\n\u001b[0;32m-> 1324\u001b[0;31m             \u001b[0mself\u001b[0m\u001b[0;34m.\u001b[0m\u001b[0m_accessor\u001b[0m\u001b[0;34m.\u001b[0m\u001b[0munlink\u001b[0m\u001b[0;34m(\u001b[0m\u001b[0mself\u001b[0m\u001b[0;34m)\u001b[0m\u001b[0;34m\u001b[0m\u001b[0;34m\u001b[0m\u001b[0m\n\u001b[0m\u001b[1;32m   1325\u001b[0m         \u001b[0;32mexcept\u001b[0m \u001b[0mFileNotFoundError\u001b[0m\u001b[0;34m:\u001b[0m\u001b[0;34m\u001b[0m\u001b[0;34m\u001b[0m\u001b[0m\n\u001b[1;32m   1326\u001b[0m             \u001b[0;32mif\u001b[0m \u001b[0;32mnot\u001b[0m \u001b[0mmissing_ok\u001b[0m\u001b[0;34m:\u001b[0m\u001b[0;34m\u001b[0m\u001b[0;34m\u001b[0m\u001b[0m\n",
      "\u001b[0;31mFileNotFoundError\u001b[0m: [Errno 2] No such file or directory: 'media/jupyter/077c4e083f870f98dcde3434d653f1acbdae52fc.png'"
     ]
    }
   ],
   "source": [
    "%%manim -ql Test\n",
    "\n",
    "class Test(manim.Scene):\n",
    "    def construct(self):\n",
    "        def f1(m):\n",
    "            print(m)\n",
    "            return manim.Circle(m)\n",
    "        def f2(m):\n",
    "            print(m)\n",
    "            return m\n",
    "        circles = [[manim.Circle(1), manim.Circle(2), manim.Circle(3), manim.Circle(4)]]     \n",
    "        circles_np = np.array(circles, dtype=object)\n",
    "        ints = [[1, 2, 3, 4]]\n",
    "        m1 = manim.MobjectMatrix(ints,    element_to_mobject=f1)\n",
    "        # m2 = manim.MobjectMatrix(circles, element_to_mobject=f2)\n",
    "        c = circles_np[0,0]"
   ]
  },
  {
   "cell_type": "code",
   "execution_count": null,
   "id": "5e389c45-ecd0-4cde-8b49-6a1e9abfdc95",
   "metadata": {},
   "outputs": [],
   "source": [
    "class Legend(manim.MovingCameraScene):\n",
    "    def construct(self):\n",
    "        "
   ]
  },
  {
   "cell_type": "code",
   "execution_count": 5,
   "id": "4a1c14df-dd97-4cd5-bed7-a465546a02cc",
   "metadata": {},
   "outputs": [
    {
     "ename": "NameError",
     "evalue": "name 'create_2d_vec' is not defined",
     "output_type": "error",
     "traceback": [
      "\u001b[0;31m---------------------------------------------------------------------------\u001b[0m",
      "\u001b[0;31mNameError\u001b[0m                                 Traceback (most recent call last)",
      "\u001b[0;32m<ipython-input-5-0bc36b3f17b9>\u001b[0m in \u001b[0;36m<module>\u001b[0;34m\u001b[0m\n\u001b[0;32m----> 1\u001b[0;31m \u001b[0mget_ipython\u001b[0m\u001b[0;34m(\u001b[0m\u001b[0;34m)\u001b[0m\u001b[0;34m.\u001b[0m\u001b[0mrun_cell_magic\u001b[0m\u001b[0;34m(\u001b[0m\u001b[0;34m'manim'\u001b[0m\u001b[0;34m,\u001b[0m \u001b[0;34m'-qh -r 1280,720 -o combining-columns.mp4 CombiningColumns'\u001b[0m\u001b[0;34m,\u001b[0m \u001b[0;34m\"##%%manim -qh -r 1280,720 -o linear-column-equation.png CombiningColumns\\n\\nmanim.config.quality = 'production_quality'\\nmanim.config.pixel_width = 1280\\nmanim.config.pixel_height = 720\\nmanim.config.frame_rate = 60\\n\\nscale = 0.5\\n\\n   \\nclass CombiningColumns(manim.MovingCameraScene):\\n    def __init__(self, *args, **kwargs):\\n        super().__init__(*args, **kwargs)\\n        self.vecs = []\\n        self.res = None\\n        self.factors = []\\n        self.equals = None\\n        self.other_text = [] \\n        \\n    def construct(self):\\n        self.construct_to_matrix_notation()\\n        #self.construct_adding_examples()\\n        \\n    def construct_to_matrix_notation(self):\\n        self.camera.frame_center = manim.ORIGIN - np.array([2.1, 0, 0])        \\n        eq1 = self.eq1()\\n        eq2_target = self.eq2()\\n        animations = self.anims(eq1, eq2_target)\\n        self.add(eq1)\\n        return # return here for img\\n        self.wait(1)\\n        self.play(*animations)\\n        self.add(eq2_target.obj)\\n        self.remove(*self.other_text)\\n        self.wait(1)\\n        \\n    def construct_adding_examples(self):\\n        self.camera.frame_center = manim.ORIGIN - np.array([-3.5, 0, 0]) \\n        self.camera.frame.scale(1.3)\\n        self.eq1()\\n        eq2 = self.eq2()\\n        self.add(eq2.obj)\\n        self.wait(1)\\n        def create_num_col(v):\\n            return manim.Group(*(manim.Integer(i, color=font_color) for i in v)).arrange(direction=-manim.Y_AXIS)\\n\\n        fs = [eq2.m['F']]\\n        ys = [eq2.m['Y']]\\n        # Without partials, it's easy to accidentally not capture a copy of a variable in a lambda.\\n        import functools\\n        def update_y(prev_y, y):\\n            y.next_to(prev_y)\\n            \\n        ys[0].add_updater(lambda o : o.next_to(eq2.m['lb3']))        \\n        for i in range(1, len(mixes)):          \\n            ys.append(copy.deepcopy(ys[i-1]).next_to(ys[i-1]).set_fill(result_colors[i]))\\n            fs.append(create_num_col(mixes[i]).next_to(fs[i-1]))\\n            ys[i].add_updater(functools.partial(update_y, ys[i-1]))\\n        eq2.m['='].add_updater(lambda o : o.next_to(eq2.m['rb2']))\\n        eq2.m['lb3'].add_updater(lambda o : o.next_to(eq2.m['=']))\\n        current = 0\\n        #eq2.m['rb3'].add_updater(lambda o : o.next_to(ys[current]))\\n        for i in range(1, len(mixes)):\\n            anims = []\\n            # I can't get next_to to work for rb3. So use hacky shift instead.\\n            #self.play(eq2.m['rb3'].animate.next_to(ys[i]))            \\n            self.play(eq2.m['rb2'].animate.next_to(fs[i]),\\n                      eq2.m['rb3'].animate.shift([2.4*scale, 0, 0]))\\n            current = i\\n            anims.append(manim.FadeIn(fs[i]))\\n            anims.append(manim.FadeIn(ys[i]))\\n            self.play(*anims)\\n            self.wait(0.5)\\n        self.wait(1)\\n        \\n        # Part 2.\\n        to_nums_anim = []\\n        to_blocks_anim = []\\n        y = mixes @ X_in\\n        block_num_pairs = list(zip([eq2.m['X0'], eq2.m['X1'], eq2.m['X2']], X_in)) + list(zip(ys, y))\\n        for c,nums in block_num_pairs:\\n            for block, n in zip(reversed(c), nums):\\n                manim_int = manim.Integer(n, color=font_color).move_to(block)\\n                to_nums_anim.append(manim.FadeIn(manim_int))\\n                to_nums_anim.append(manim.FadeOut(block))\\n                to_blocks_anim.append(manim.FadeOut(manim_int))\\n                to_blocks_anim.append(manim.FadeIn(block))\\n        self.play(*to_nums_anim)      \\n        self.wait(1.3)\\n        self.play(*to_blocks_anim)\\n        self.wait(1.3)\\n        self.play(*to_nums_anim)\\n        self.wait(1.3)\\n        self.play(*to_blocks_anim)\\n        self.wait(1)\\n    \\n    def eq2(self):\\n        lb = manim.MathTex(r'\\\\big[', color=font_color).scale(2).stretch_to_fit_height(self.vecs[0].height + 0.2)\\n        rb = manim.MathTex(r'\\\\big]', color=font_color).scale(2).stretch_to_fit_height(lb.height)\\n        eq2_map = TargetObject(OrderedDict({\\n                    #manim.IntegerMatrix([[mix[0]], [mix[1]], [mix[2]]]).set_color(font_color),\\n                    'lb1' : lb.copy(),\\n                    'X0'  : copy.deepcopy(self.vecs[0]),\\n                    'X1'  : self.vecs[1].copy(),\\n                    'X2'  : self.vecs[2].copy(),\\n                    'rb1' : rb.copy(),\\n                    'lb2' : lb.copy(),\\n                    'F'   : manim.Group(*(manim.Integer(i, color=font_color) for i in mix)).arrange(direction=-manim.Y_AXIS),\\n                    'rb2' : rb.copy(),             \\n                    '='   : manim.MathTex('=', color=font_color),\\n                    'lb3' : lb.copy(),\\n                    'Y'   : self.res.copy(),\\n                    'rb3' : rb.copy()}),\\n                    draw_exclude={'F', 'X0', 'X1', 'X2', 'Y', '='})\\n        eq2_map.obj.arrange(direction=manim.X_AXIS)\\n        # Maintain position of equals sign.\\n        equality_sign_disp = eq2_map.m['='].get_center() - self.equals.get_center()\\n        eq2_map.obj.shift(-equality_sign_disp)\\n        return eq2_map\\n        \\n        \\n    def anims(self, eq1, eq2_map):\\n        replacements = (\\n            (self.vecs[0],    eq2_map.m['X0']),\\n            (self.vecs[1],    eq2_map.m['X1']),      \\n            (self.vecs[2],    eq2_map.m['X2']), \\n            (self.res,        eq2_map.m['Y']),\\n            (self.factors[0], eq2_map.m['F'][0]),\\n            (self.factors[1], eq2_map.m['F'][1]),\\n            (self.factors[2], eq2_map.m['F'][2]),\\n            (self.equals,     eq2_map.m['='])\\n        )\\n        animations = [*(manim.ReplacementTransform(a, b) for a,b in replacements),\\n                      *(manim.FadeIn(o) for o in eq2_map.elements_to_draw()),\\n                     #manim.FadeIn(eq2_map.obj),\\n                      *(manim.FadeOut(o) for o in self.other_text)]\\n        return animations\\n       \\n    \\n    def eq1(self):\\n        eq = manim.Mobject()\\n        spacing = 4.3 * scale\\n        offsets = np.array([1, 0.3, 0.3, 0.5, 1.15]) * scale\\n        \\n        for i in range(len(mix)):\\n            vec = create_2d_vec(num_input_boxes, manim.Y_AXIS, colors[i])\\n            vec_pos = spacing * (-len(mix) + i) + offsets[0]\\n            vec.move_to([vec_pos, 0, 0])\\n            mult = manim.Tex('$\\\\\\\\times$', color=font_color)\\n            mult.next_to(vec, buff=offsets[1])\\n            factor = manim.Tex(f'${mix[i]}$', color=font_color)\\n            factor.next_to(mult, buff=offsets[2])\\n            if(i < len(mix) - 1):\\n                plus = manim.Tex('$+$', color=font_color)\\n                plus.next_to(factor, buff=offsets[3])\\n            self.vecs.append(vec)\\n            self.factors.append(factor)\\n            self.other_text.extend([mult, plus])\\n            eq.add(vec, factor, mult, plus)\\n        self.equals = manim.Tex('=', color=font_color)\\n        self.equals.move_to([0, 0, 0])\\n        self.res = create_2d_vec(num_input_boxes, manim.Y_AXIS, result_color)\\n        self.res.next_to(self.equals, buff=offsets[4])\\n        eq.add(self.equals, self.res)\\n        eq.add(self.equals)\\n        return eq\\n\"\u001b[0m\u001b[0;34m)\u001b[0m\u001b[0;34m\u001b[0m\u001b[0;34m\u001b[0m\u001b[0m\n\u001b[0m",
      "\u001b[0;32m/usr/local/lib/python3.8/site-packages/IPython/core/interactiveshell.py\u001b[0m in \u001b[0;36mrun_cell_magic\u001b[0;34m(self, magic_name, line, cell)\u001b[0m\n\u001b[1;32m   2401\u001b[0m             \u001b[0;32mwith\u001b[0m \u001b[0mself\u001b[0m\u001b[0;34m.\u001b[0m\u001b[0mbuiltin_trap\u001b[0m\u001b[0;34m:\u001b[0m\u001b[0;34m\u001b[0m\u001b[0;34m\u001b[0m\u001b[0m\n\u001b[1;32m   2402\u001b[0m                 \u001b[0margs\u001b[0m \u001b[0;34m=\u001b[0m \u001b[0;34m(\u001b[0m\u001b[0mmagic_arg_s\u001b[0m\u001b[0;34m,\u001b[0m \u001b[0mcell\u001b[0m\u001b[0;34m)\u001b[0m\u001b[0;34m\u001b[0m\u001b[0;34m\u001b[0m\u001b[0m\n\u001b[0;32m-> 2403\u001b[0;31m                 \u001b[0mresult\u001b[0m \u001b[0;34m=\u001b[0m \u001b[0mfn\u001b[0m\u001b[0;34m(\u001b[0m\u001b[0;34m*\u001b[0m\u001b[0margs\u001b[0m\u001b[0;34m,\u001b[0m \u001b[0;34m**\u001b[0m\u001b[0mkwargs\u001b[0m\u001b[0;34m)\u001b[0m\u001b[0;34m\u001b[0m\u001b[0;34m\u001b[0m\u001b[0m\n\u001b[0m\u001b[1;32m   2404\u001b[0m             \u001b[0;32mreturn\u001b[0m \u001b[0mresult\u001b[0m\u001b[0;34m\u001b[0m\u001b[0;34m\u001b[0m\u001b[0m\n\u001b[1;32m   2405\u001b[0m \u001b[0;34m\u001b[0m\u001b[0m\n",
      "\u001b[0;32m<decorator-gen-863>\u001b[0m in \u001b[0;36mmanim\u001b[0;34m(self, line, cell, local_ns)\u001b[0m\n",
      "\u001b[0;32m/usr/local/lib/python3.8/site-packages/IPython/core/magic.py\u001b[0m in \u001b[0;36m<lambda>\u001b[0;34m(f, *a, **k)\u001b[0m\n\u001b[1;32m    185\u001b[0m     \u001b[0;31m# but it's overkill for just that one bit of state.\u001b[0m\u001b[0;34m\u001b[0m\u001b[0;34m\u001b[0m\u001b[0;34m\u001b[0m\u001b[0m\n\u001b[1;32m    186\u001b[0m     \u001b[0;32mdef\u001b[0m \u001b[0mmagic_deco\u001b[0m\u001b[0;34m(\u001b[0m\u001b[0marg\u001b[0m\u001b[0;34m)\u001b[0m\u001b[0;34m:\u001b[0m\u001b[0;34m\u001b[0m\u001b[0;34m\u001b[0m\u001b[0m\n\u001b[0;32m--> 187\u001b[0;31m         \u001b[0mcall\u001b[0m \u001b[0;34m=\u001b[0m \u001b[0;32mlambda\u001b[0m \u001b[0mf\u001b[0m\u001b[0;34m,\u001b[0m \u001b[0;34m*\u001b[0m\u001b[0ma\u001b[0m\u001b[0;34m,\u001b[0m \u001b[0;34m**\u001b[0m\u001b[0mk\u001b[0m\u001b[0;34m:\u001b[0m \u001b[0mf\u001b[0m\u001b[0;34m(\u001b[0m\u001b[0;34m*\u001b[0m\u001b[0ma\u001b[0m\u001b[0;34m,\u001b[0m \u001b[0;34m**\u001b[0m\u001b[0mk\u001b[0m\u001b[0;34m)\u001b[0m\u001b[0;34m\u001b[0m\u001b[0;34m\u001b[0m\u001b[0m\n\u001b[0m\u001b[1;32m    188\u001b[0m \u001b[0;34m\u001b[0m\u001b[0m\n\u001b[1;32m    189\u001b[0m         \u001b[0;32mif\u001b[0m \u001b[0mcallable\u001b[0m\u001b[0;34m(\u001b[0m\u001b[0marg\u001b[0m\u001b[0;34m)\u001b[0m\u001b[0;34m:\u001b[0m\u001b[0;34m\u001b[0m\u001b[0;34m\u001b[0m\u001b[0m\n",
      "\u001b[0;32m/usr/local/lib/python3.8/site-packages/manim/utils/ipython_magic.py\u001b[0m in \u001b[0;36mmanim\u001b[0;34m(self, line, cell, local_ns)\u001b[0m\n\u001b[1;32m    107\u001b[0m             \u001b[0;32mwith\u001b[0m \u001b[0mtempconfig\u001b[0m\u001b[0;34m(\u001b[0m\u001b[0mlocal_ns\u001b[0m\u001b[0;34m.\u001b[0m\u001b[0mget\u001b[0m\u001b[0;34m(\u001b[0m\u001b[0;34m\"config\"\u001b[0m\u001b[0;34m,\u001b[0m \u001b[0;34m{\u001b[0m\u001b[0;34m}\u001b[0m\u001b[0;34m)\u001b[0m\u001b[0;34m)\u001b[0m\u001b[0;34m:\u001b[0m\u001b[0;34m\u001b[0m\u001b[0;34m\u001b[0m\u001b[0m\n\u001b[1;32m    108\u001b[0m                 \u001b[0mconfig\u001b[0m\u001b[0;34m.\u001b[0m\u001b[0mdigest_args\u001b[0m\u001b[0;34m(\u001b[0m\u001b[0margs\u001b[0m\u001b[0;34m)\u001b[0m\u001b[0;34m\u001b[0m\u001b[0;34m\u001b[0m\u001b[0m\n\u001b[0;32m--> 109\u001b[0;31m                 \u001b[0mexec\u001b[0m\u001b[0;34m(\u001b[0m\u001b[0;34mf\"{config['scene_names'][0]}().render()\"\u001b[0m\u001b[0;34m,\u001b[0m \u001b[0mlocal_ns\u001b[0m\u001b[0;34m)\u001b[0m\u001b[0;34m\u001b[0m\u001b[0;34m\u001b[0m\u001b[0m\n\u001b[0m\u001b[1;32m    110\u001b[0m                 \u001b[0mlocal_path\u001b[0m \u001b[0;34m=\u001b[0m \u001b[0mPath\u001b[0m\u001b[0;34m(\u001b[0m\u001b[0mconfig\u001b[0m\u001b[0;34m[\u001b[0m\u001b[0;34m\"output_file\"\u001b[0m\u001b[0;34m]\u001b[0m\u001b[0;34m)\u001b[0m\u001b[0;34m.\u001b[0m\u001b[0mrelative_to\u001b[0m\u001b[0;34m(\u001b[0m\u001b[0mPath\u001b[0m\u001b[0;34m.\u001b[0m\u001b[0mcwd\u001b[0m\u001b[0;34m(\u001b[0m\u001b[0;34m)\u001b[0m\u001b[0;34m)\u001b[0m\u001b[0;34m\u001b[0m\u001b[0;34m\u001b[0m\u001b[0m\n\u001b[1;32m    111\u001b[0m                 tmpfile = (\n",
      "\u001b[0;32m<string>\u001b[0m in \u001b[0;36m<module>\u001b[0;34m\u001b[0m\n",
      "\u001b[0;32m/usr/local/lib/python3.8/site-packages/manim/scene/scene.py\u001b[0m in \u001b[0;36mrender\u001b[0;34m(self, preview)\u001b[0m\n\u001b[1;32m    197\u001b[0m         \u001b[0mself\u001b[0m\u001b[0;34m.\u001b[0m\u001b[0msetup\u001b[0m\u001b[0;34m(\u001b[0m\u001b[0;34m)\u001b[0m\u001b[0;34m\u001b[0m\u001b[0;34m\u001b[0m\u001b[0m\n\u001b[1;32m    198\u001b[0m         \u001b[0;32mtry\u001b[0m\u001b[0;34m:\u001b[0m\u001b[0;34m\u001b[0m\u001b[0;34m\u001b[0m\u001b[0m\n\u001b[0;32m--> 199\u001b[0;31m             \u001b[0mself\u001b[0m\u001b[0;34m.\u001b[0m\u001b[0mconstruct\u001b[0m\u001b[0;34m(\u001b[0m\u001b[0;34m)\u001b[0m\u001b[0;34m\u001b[0m\u001b[0;34m\u001b[0m\u001b[0m\n\u001b[0m\u001b[1;32m    200\u001b[0m         \u001b[0;32mexcept\u001b[0m \u001b[0mEndSceneEarlyException\u001b[0m\u001b[0;34m:\u001b[0m\u001b[0;34m\u001b[0m\u001b[0;34m\u001b[0m\u001b[0m\n\u001b[1;32m    201\u001b[0m             \u001b[0;32mpass\u001b[0m\u001b[0;34m\u001b[0m\u001b[0;34m\u001b[0m\u001b[0m\n",
      "\u001b[0;32m<string>\u001b[0m in \u001b[0;36mconstruct\u001b[0;34m(self)\u001b[0m\n",
      "\u001b[0;32m<string>\u001b[0m in \u001b[0;36mconstruct_to_matrix_notation\u001b[0;34m(self)\u001b[0m\n",
      "\u001b[0;32m<string>\u001b[0m in \u001b[0;36meq1\u001b[0;34m(self)\u001b[0m\n",
      "\u001b[0;31mNameError\u001b[0m: name 'create_2d_vec' is not defined"
     ]
    }
   ],
   "source": [
    "%%manim -qh -r 1280,720 -o combining-columns.mp4 CombiningColumns\n",
    "##%%manim -qh -r 1280,720 -o linear-column-equation.png CombiningColumns\n",
    "\n",
    "manim.config.quality = 'production_quality'\n",
    "manim.config.pixel_width = 1280\n",
    "manim.config.pixel_height = 720\n",
    "manim.config.frame_rate = 60\n",
    "\n",
    "scale = 0.5\n",
    "\n",
    "   \n",
    "class CombiningColumns(manim.MovingCameraScene):\n",
    "    def __init__(self, *args, **kwargs):\n",
    "        super().__init__(*args, **kwargs)\n",
    "        self.vecs = []\n",
    "        self.res = None\n",
    "        self.factors = []\n",
    "        self.equals = None\n",
    "        self.other_text = [] \n",
    "        \n",
    "    def construct(self):\n",
    "        self.construct_to_matrix_notation()\n",
    "        #self.construct_adding_examples()\n",
    "        \n",
    "    def construct_to_matrix_notation(self):\n",
    "        self.camera.frame_center = manim.ORIGIN - np.array([2.1, 0, 0])        \n",
    "        eq1 = self.eq1()\n",
    "        eq2_target = self.eq2()\n",
    "        animations = self.anims(eq1, eq2_target)\n",
    "        self.add(eq1)\n",
    "        return # return here for img\n",
    "        self.wait(1)\n",
    "        self.play(*animations)\n",
    "        self.add(eq2_target.obj)\n",
    "        self.remove(*self.other_text)\n",
    "        self.wait(1)\n",
    "        \n",
    "    def construct_adding_examples(self):\n",
    "        self.camera.frame_center = manim.ORIGIN - np.array([-3.5, 0, 0]) \n",
    "        self.camera.frame.scale(1.3)\n",
    "        self.eq1()\n",
    "        eq2 = self.eq2()\n",
    "        self.add(eq2.obj)\n",
    "        self.wait(1)\n",
    "        def create_num_col(v):\n",
    "            return manim.Group(*(manim.Integer(i, color=font_color) for i in v)).arrange(direction=-manim.Y_AXIS)\n",
    "\n",
    "        fs = [eq2.m['F']]\n",
    "        ys = [eq2.m['Y']]\n",
    "        # Without partials, it's easy to accidentally not capture a copy of a variable in a lambda.\n",
    "        import functools\n",
    "        def update_y(prev_y, y):\n",
    "            y.next_to(prev_y)\n",
    "            \n",
    "        ys[0].add_updater(lambda o : o.next_to(eq2.m['lb3']))        \n",
    "        for i in range(1, len(mixes)):          \n",
    "            ys.append(copy.deepcopy(ys[i-1]).next_to(ys[i-1]).set_fill(result_colors[i]))\n",
    "            fs.append(create_num_col(mixes[i]).next_to(fs[i-1]))\n",
    "            ys[i].add_updater(functools.partial(update_y, ys[i-1]))\n",
    "        eq2.m['='].add_updater(lambda o : o.next_to(eq2.m['rb2']))\n",
    "        eq2.m['lb3'].add_updater(lambda o : o.next_to(eq2.m['=']))\n",
    "        current = 0\n",
    "        #eq2.m['rb3'].add_updater(lambda o : o.next_to(ys[current]))\n",
    "        for i in range(1, len(mixes)):\n",
    "            anims = []\n",
    "            # I can't get next_to to work for rb3. So use hacky shift instead.\n",
    "            #self.play(eq2.m['rb3'].animate.next_to(ys[i]))            \n",
    "            self.play(eq2.m['rb2'].animate.next_to(fs[i]),\n",
    "                      eq2.m['rb3'].animate.shift([2.4*scale, 0, 0]))\n",
    "            current = i\n",
    "            anims.append(manim.FadeIn(fs[i]))\n",
    "            anims.append(manim.FadeIn(ys[i]))\n",
    "            self.play(*anims)\n",
    "            self.wait(0.5)\n",
    "        self.wait(1)\n",
    "        \n",
    "        # Part 2.\n",
    "        to_nums_anim = []\n",
    "        to_blocks_anim = []\n",
    "        y = mixes @ X_in\n",
    "        block_num_pairs = list(zip([eq2.m['X0'], eq2.m['X1'], eq2.m['X2']], X_in)) + list(zip(ys, y))\n",
    "        for c,nums in block_num_pairs:\n",
    "            for block, n in zip(reversed(c), nums):\n",
    "                manim_int = manim.Integer(n, color=font_color).move_to(block)\n",
    "                to_nums_anim.append(manim.FadeIn(manim_int))\n",
    "                to_nums_anim.append(manim.FadeOut(block))\n",
    "                to_blocks_anim.append(manim.FadeOut(manim_int))\n",
    "                to_blocks_anim.append(manim.FadeIn(block))\n",
    "        self.play(*to_nums_anim)      \n",
    "        self.wait(1.3)\n",
    "        self.play(*to_blocks_anim)\n",
    "        self.wait(1.3)\n",
    "        self.play(*to_nums_anim)\n",
    "        self.wait(1.3)\n",
    "        self.play(*to_blocks_anim)\n",
    "        self.wait(1)\n",
    "    \n",
    "    def eq2(self):\n",
    "        lb = manim.MathTex(r'\\big[', color=font_color).scale(2).stretch_to_fit_height(self.vecs[0].height + 0.2)\n",
    "        rb = manim.MathTex(r'\\big]', color=font_color).scale(2).stretch_to_fit_height(lb.height)\n",
    "        eq2_map = TargetObject(OrderedDict({\n",
    "                    #manim.IntegerMatrix([[mix[0]], [mix[1]], [mix[2]]]).set_color(font_color),\n",
    "                    'lb1' : lb.copy(),\n",
    "                    'X0'  : copy.deepcopy(self.vecs[0]),\n",
    "                    'X1'  : self.vecs[1].copy(),\n",
    "                    'X2'  : self.vecs[2].copy(),\n",
    "                    'rb1' : rb.copy(),\n",
    "                    'lb2' : lb.copy(),\n",
    "                    'F'   : manim.Group(*(manim.Integer(i, color=font_color) for i in mix)).arrange(direction=-manim.Y_AXIS),\n",
    "                    'rb2' : rb.copy(),             \n",
    "                    '='   : manim.MathTex('=', color=font_color),\n",
    "                    'lb3' : lb.copy(),\n",
    "                    'Y'   : self.res.copy(),\n",
    "                    'rb3' : rb.copy()}),\n",
    "                    draw_exclude={'F', 'X0', 'X1', 'X2', 'Y', '='})\n",
    "        eq2_map.obj.arrange(direction=manim.X_AXIS)\n",
    "        # Maintain position of equals sign.\n",
    "        equality_sign_disp = eq2_map.m['='].get_center() - self.equals.get_center()\n",
    "        eq2_map.obj.shift(-equality_sign_disp)\n",
    "        return eq2_map\n",
    "        \n",
    "        \n",
    "    def anims(self, eq1, eq2_map):\n",
    "        replacements = (\n",
    "            (self.vecs[0],    eq2_map.m['X0']),\n",
    "            (self.vecs[1],    eq2_map.m['X1']),      \n",
    "            (self.vecs[2],    eq2_map.m['X2']), \n",
    "            (self.res,        eq2_map.m['Y']),\n",
    "            (self.factors[0], eq2_map.m['F'][0]),\n",
    "            (self.factors[1], eq2_map.m['F'][1]),\n",
    "            (self.factors[2], eq2_map.m['F'][2]),\n",
    "            (self.equals,     eq2_map.m['='])\n",
    "        )\n",
    "        animations = [*(manim.ReplacementTransform(a, b) for a,b in replacements),\n",
    "                      *(manim.FadeIn(o) for o in eq2_map.elements_to_draw()),\n",
    "                     #manim.FadeIn(eq2_map.obj),\n",
    "                      *(manim.FadeOut(o) for o in self.other_text)]\n",
    "        return animations\n",
    "       \n",
    "    \n",
    "    def eq1(self):\n",
    "        eq = manim.Mobject()\n",
    "        spacing = 4.3 * scale\n",
    "        offsets = np.array([1, 0.3, 0.3, 0.5, 1.15]) * scale\n",
    "        \n",
    "        for i in range(len(mix)):\n",
    "            vec = create_2d_vec(num_input_boxes, manim.Y_AXIS, colors[i])\n",
    "            vec_pos = spacing * (-len(mix) + i) + offsets[0]\n",
    "            vec.move_to([vec_pos, 0, 0])\n",
    "            mult = manim.Tex('$\\\\times$', color=font_color)\n",
    "            mult.next_to(vec, buff=offsets[1])\n",
    "            factor = manim.Tex(f'${mix[i]}$', color=font_color)\n",
    "            factor.next_to(mult, buff=offsets[2])\n",
    "            if(i < len(mix) - 1):\n",
    "                plus = manim.Tex('$+$', color=font_color)\n",
    "                plus.next_to(factor, buff=offsets[3])\n",
    "            self.vecs.append(vec)\n",
    "            self.factors.append(factor)\n",
    "            self.other_text.extend([mult, plus])\n",
    "            eq.add(vec, factor, mult, plus)\n",
    "        self.equals = manim.Tex('=', color=font_color)\n",
    "        self.equals.move_to([0, 0, 0])\n",
    "        self.res = create_2d_vec(num_input_boxes, manim.Y_AXIS, result_color)\n",
    "        self.res.next_to(self.equals, buff=offsets[4])\n",
    "        eq.add(self.equals, self.res)\n",
    "        eq.add(self.equals)\n",
    "        return eq"
   ]
  },
  {
   "cell_type": "code",
   "execution_count": 690,
   "id": "0147b351-b56c-45a1-8d9e-138dd45dac7c",
   "metadata": {},
   "outputs": [
    {
     "data": {
      "text/html": [
       "<pre style=\"white-space:pre;overflow-x:auto;line-height:normal;font-family:Menlo,'DejaVu Sans Mono',consolas,'Courier New',monospace\"><span style=\"color: #7fbfbf\">[05/09/21 02:30:20] </span><span style=\"color: #008000\">INFO</span>     Animation <span style=\"color: #008000\">0</span> : Partial movie file        <a href=\"file:///usr/local/lib/python3.8/site-packages/manim/scene/scene_file_writer.py\"><span style=\"color: #7f7f7f\">scene_file_writer.py</span></a><span style=\"color: #7f7f7f\">:401</span>\n",
       "                             written in <span style=\"font-weight: bold\">{</span><span style=\"color: #008000\">'/manim/notebooks/media/vid</span>                         \n",
       "                             <span style=\"color: #008000\">eos/notebooks/720p60/partial_movie_file</span>                         \n",
       "                             <span style=\"color: #008000\">s/TransitionToNumbers/1513851329_243224</span>                         \n",
       "                             <span style=\"color: #008000\">1074_3910001509.mp4'</span><span style=\"font-weight: bold\">}</span>                                           \n",
       "</pre>\n"
      ],
      "text/plain": [
       "<rich.jupyter.JupyterRenderable at 0x7f31f138dbe0>"
      ]
     },
     "metadata": {},
     "output_type": "display_data"
    },
    {
     "name": "stderr",
     "output_type": "stream",
     "text": [
      "                                                                                                        \r"
     ]
    },
    {
     "data": {
      "text/html": [
       "<pre style=\"white-space:pre;overflow-x:auto;line-height:normal;font-family:Menlo,'DejaVu Sans Mono',consolas,'Courier New',monospace\"><span style=\"color: #7fbfbf\">[05/09/21 02:30:21] </span><span style=\"color: #008000\">INFO</span>     Animation <span style=\"color: #008000\">1</span> : Partial movie file        <a href=\"file:///usr/local/lib/python3.8/site-packages/manim/scene/scene_file_writer.py\"><span style=\"color: #7f7f7f\">scene_file_writer.py</span></a><span style=\"color: #7f7f7f\">:401</span>\n",
       "                             written in <span style=\"font-weight: bold\">{</span><span style=\"color: #008000\">'/manim/notebooks/media/vid</span>                         \n",
       "                             <span style=\"color: #008000\">eos/notebooks/720p60/partial_movie_file</span>                         \n",
       "                             <span style=\"color: #008000\">s/TransitionToNumbers/1525768966_741668</span>                         \n",
       "                             <span style=\"color: #008000\">688_2442674879.mp4'</span><span style=\"font-weight: bold\">}</span>                                            \n",
       "</pre>\n"
      ],
      "text/plain": [
       "<rich.jupyter.JupyterRenderable at 0x7f31d1240d30>"
      ]
     },
     "metadata": {},
     "output_type": "display_data"
    },
    {
     "name": "stderr",
     "output_type": "stream",
     "text": [
      "                                                                                  \r"
     ]
    },
    {
     "data": {
      "text/html": [
       "<pre style=\"white-space:pre;overflow-x:auto;line-height:normal;font-family:Menlo,'DejaVu Sans Mono',consolas,'Courier New',monospace\"><span style=\"color: #7fbfbf\">                    </span><span style=\"color: #008000\">INFO</span>     Animation <span style=\"color: #008000\">2</span> : Partial movie file        <a href=\"file:///usr/local/lib/python3.8/site-packages/manim/scene/scene_file_writer.py\"><span style=\"color: #7f7f7f\">scene_file_writer.py</span></a><span style=\"color: #7f7f7f\">:401</span>\n",
       "                             written in <span style=\"font-weight: bold\">{</span><span style=\"color: #008000\">'/manim/notebooks/media/vid</span>                         \n",
       "                             <span style=\"color: #008000\">eos/notebooks/720p60/partial_movie_file</span>                         \n",
       "                             <span style=\"color: #008000\">s/TransitionToNumbers/1525768966_822937</span>                         \n",
       "                             <span style=\"color: #008000\">001_1767807063.mp4'</span><span style=\"font-weight: bold\">}</span>                                            \n",
       "</pre>\n"
      ],
      "text/plain": [
       "<rich.jupyter.JupyterRenderable at 0x7f31c2b673a0>"
      ]
     },
     "metadata": {},
     "output_type": "display_data"
    },
    {
     "data": {
      "text/html": [
       "<pre style=\"white-space:pre;overflow-x:auto;line-height:normal;font-family:Menlo,'DejaVu Sans Mono',consolas,'Courier New',monospace\"><span style=\"color: #7fbfbf\">[05/09/21 02:30:22] </span><span style=\"color: #008000\">INFO</span>     Animation <span style=\"color: #008000\">3</span> : Partial movie file        <a href=\"file:///usr/local/lib/python3.8/site-packages/manim/scene/scene_file_writer.py\"><span style=\"color: #7f7f7f\">scene_file_writer.py</span></a><span style=\"color: #7f7f7f\">:401</span>\n",
       "                             written in <span style=\"font-weight: bold\">{</span><span style=\"color: #008000\">'/manim/notebooks/media/vid</span>                         \n",
       "                             <span style=\"color: #008000\">eos/notebooks/720p60/partial_movie_file</span>                         \n",
       "                             <span style=\"color: #008000\">s/TransitionToNumbers/1525768966_276392</span>                         \n",
       "                             <span style=\"color: #008000\">2376_3657842666.mp4'</span><span style=\"font-weight: bold\">}</span>                                           \n",
       "</pre>\n"
      ],
      "text/plain": [
       "<rich.jupyter.JupyterRenderable at 0x7f31eee8a250>"
      ]
     },
     "metadata": {},
     "output_type": "display_data"
    },
    {
     "name": "stderr",
     "output_type": "stream",
     "text": [
      "                                                                                                        \r"
     ]
    },
    {
     "data": {
      "text/html": [
       "<pre style=\"white-space:pre;overflow-x:auto;line-height:normal;font-family:Menlo,'DejaVu Sans Mono',consolas,'Courier New',monospace\"><span style=\"color: #7fbfbf\">                    </span><span style=\"color: #008000\">INFO</span>     Animation <span style=\"color: #008000\">4</span> : Partial movie file        <a href=\"file:///usr/local/lib/python3.8/site-packages/manim/scene/scene_file_writer.py\"><span style=\"color: #7f7f7f\">scene_file_writer.py</span></a><span style=\"color: #7f7f7f\">:401</span>\n",
       "                             written in <span style=\"font-weight: bold\">{</span><span style=\"color: #008000\">'/manim/notebooks/media/vid</span>                         \n",
       "                             <span style=\"color: #008000\">eos/notebooks/720p60/partial_movie_file</span>                         \n",
       "                             <span style=\"color: #008000\">s/TransitionToNumbers/1525768966_108049</span>                         \n",
       "                             <span style=\"color: #008000\">3124_2615430486.mp4'</span><span style=\"font-weight: bold\">}</span>                                           \n",
       "</pre>\n"
      ],
      "text/plain": [
       "<rich.jupyter.JupyterRenderable at 0x7f31eec7f100>"
      ]
     },
     "metadata": {},
     "output_type": "display_data"
    },
    {
     "name": "stderr",
     "output_type": "stream",
     "text": [
      "                                                                                 \r"
     ]
    },
    {
     "data": {
      "text/html": [
       "<pre style=\"white-space:pre;overflow-x:auto;line-height:normal;font-family:Menlo,'DejaVu Sans Mono',consolas,'Courier New',monospace\"><span style=\"color: #7fbfbf\">[05/09/21 02:30:23] </span><span style=\"color: #008000\">INFO</span>     Animation <span style=\"color: #008000\">5</span> : Partial movie file        <a href=\"file:///usr/local/lib/python3.8/site-packages/manim/scene/scene_file_writer.py\"><span style=\"color: #7f7f7f\">scene_file_writer.py</span></a><span style=\"color: #7f7f7f\">:401</span>\n",
       "                             written in <span style=\"font-weight: bold\">{</span><span style=\"color: #008000\">'/manim/notebooks/media/vid</span>                         \n",
       "                             <span style=\"color: #008000\">eos/notebooks/720p60/partial_movie_file</span>                         \n",
       "                             <span style=\"color: #008000\">s/TransitionToNumbers/1525768966_391204</span>                         \n",
       "                             <span style=\"color: #008000\">095_3075991830.mp4'</span><span style=\"font-weight: bold\">}</span>                                            \n",
       "</pre>\n"
      ],
      "text/plain": [
       "<rich.jupyter.JupyterRenderable at 0x7f31eec7ff40>"
      ]
     },
     "metadata": {},
     "output_type": "display_data"
    },
    {
     "data": {
      "text/html": [
       "<pre style=\"white-space:pre;overflow-x:auto;line-height:normal;font-family:Menlo,'DejaVu Sans Mono',consolas,'Courier New',monospace\"><span style=\"color: #7fbfbf\">[05/09/21 02:30:24] </span><span style=\"color: #008000\">INFO</span>     Animation <span style=\"color: #008000\">6</span> : Partial movie file        <a href=\"file:///usr/local/lib/python3.8/site-packages/manim/scene/scene_file_writer.py\"><span style=\"color: #7f7f7f\">scene_file_writer.py</span></a><span style=\"color: #7f7f7f\">:401</span>\n",
       "                             written in <span style=\"font-weight: bold\">{</span><span style=\"color: #008000\">'/manim/notebooks/media/vid</span>                         \n",
       "                             <span style=\"color: #008000\">eos/notebooks/720p60/partial_movie_file</span>                         \n",
       "                             <span style=\"color: #008000\">s/TransitionToNumbers/1525768966_276392</span>                         \n",
       "                             <span style=\"color: #008000\">2376_2033797272.mp4'</span><span style=\"font-weight: bold\">}</span>                                           \n",
       "</pre>\n"
      ],
      "text/plain": [
       "<rich.jupyter.JupyterRenderable at 0x7f31eeda2bb0>"
      ]
     },
     "metadata": {},
     "output_type": "display_data"
    },
    {
     "name": "stderr",
     "output_type": "stream",
     "text": [
      "                                                                                                       \r"
     ]
    },
    {
     "data": {
      "text/html": [
       "<pre style=\"white-space:pre;overflow-x:auto;line-height:normal;font-family:Menlo,'DejaVu Sans Mono',consolas,'Courier New',monospace\"><span style=\"color: #7fbfbf\">                    </span><span style=\"color: #008000\">INFO</span>     Animation <span style=\"color: #008000\">7</span> : Partial movie file        <a href=\"file:///usr/local/lib/python3.8/site-packages/manim/scene/scene_file_writer.py\"><span style=\"color: #7f7f7f\">scene_file_writer.py</span></a><span style=\"color: #7f7f7f\">:401</span>\n",
       "                             written in <span style=\"font-weight: bold\">{</span><span style=\"color: #008000\">'/manim/notebooks/media/vid</span>                         \n",
       "                             <span style=\"color: #008000\">eos/notebooks/720p60/partial_movie_file</span>                         \n",
       "                             <span style=\"color: #008000\">s/TransitionToNumbers/1525768966_426316</span>                         \n",
       "                             <span style=\"color: #008000\">0503_1088068176.mp4'</span><span style=\"font-weight: bold\">}</span>                                           \n",
       "</pre>\n"
      ],
      "text/plain": [
       "<rich.jupyter.JupyterRenderable at 0x7f31eeda2d90>"
      ]
     },
     "metadata": {},
     "output_type": "display_data"
    },
    {
     "name": "stderr",
     "output_type": "stream",
     "text": [
      "                                                                                 \r"
     ]
    },
    {
     "data": {
      "text/html": [
       "<pre style=\"white-space:pre;overflow-x:auto;line-height:normal;font-family:Menlo,'DejaVu Sans Mono',consolas,'Courier New',monospace\"><span style=\"color: #7fbfbf\">[05/09/21 02:30:25] </span><span style=\"color: #008000\">INFO</span>     Animation <span style=\"color: #008000\">8</span> : Partial movie file        <a href=\"file:///usr/local/lib/python3.8/site-packages/manim/scene/scene_file_writer.py\"><span style=\"color: #7f7f7f\">scene_file_writer.py</span></a><span style=\"color: #7f7f7f\">:401</span>\n",
       "                             written in <span style=\"font-weight: bold\">{</span><span style=\"color: #008000\">'/manim/notebooks/media/vid</span>                         \n",
       "                             <span style=\"color: #008000\">eos/notebooks/720p60/partial_movie_file</span>                         \n",
       "                             <span style=\"color: #008000\">s/TransitionToNumbers/1525768966_288199</span>                         \n",
       "                             <span style=\"color: #008000\">3640_3423945792.mp4'</span><span style=\"font-weight: bold\">}</span>                                           \n",
       "</pre>\n"
      ],
      "text/plain": [
       "<rich.jupyter.JupyterRenderable at 0x7f31eec2bfd0>"
      ]
     },
     "metadata": {},
     "output_type": "display_data"
    },
    {
     "data": {
      "text/html": [
       "<pre style=\"white-space:pre;overflow-x:auto;line-height:normal;font-family:Menlo,'DejaVu Sans Mono',consolas,'Courier New',monospace\"><span style=\"color: #7fbfbf\">[05/09/21 02:30:26] </span><span style=\"color: #008000\">INFO</span>     Animation <span style=\"color: #008000\">9</span> : Partial movie file        <a href=\"file:///usr/local/lib/python3.8/site-packages/manim/scene/scene_file_writer.py\"><span style=\"color: #7f7f7f\">scene_file_writer.py</span></a><span style=\"color: #7f7f7f\">:401</span>\n",
       "                             written in <span style=\"font-weight: bold\">{</span><span style=\"color: #008000\">'/manim/notebooks/media/vid</span>                         \n",
       "                             <span style=\"color: #008000\">eos/notebooks/720p60/partial_movie_file</span>                         \n",
       "                             <span style=\"color: #008000\">s/TransitionToNumbers/1525768966_276392</span>                         \n",
       "                             <span style=\"color: #008000\">2376_834188922.mp4'</span><span style=\"font-weight: bold\">}</span>                                            \n",
       "</pre>\n"
      ],
      "text/plain": [
       "<rich.jupyter.JupyterRenderable at 0x7f31eebf7640>"
      ]
     },
     "metadata": {},
     "output_type": "display_data"
    },
    {
     "name": "stderr",
     "output_type": "stream",
     "text": [
      "                                                                                                        \r"
     ]
    },
    {
     "data": {
      "text/html": [
       "<pre style=\"white-space:pre;overflow-x:auto;line-height:normal;font-family:Menlo,'DejaVu Sans Mono',consolas,'Courier New',monospace\"><span style=\"color: #7fbfbf\">[05/09/21 02:30:27] </span><span style=\"color: #008000\">INFO</span>     Animation <span style=\"color: #008000\">10</span> : Partial movie file       <a href=\"file:///usr/local/lib/python3.8/site-packages/manim/scene/scene_file_writer.py\"><span style=\"color: #7f7f7f\">scene_file_writer.py</span></a><span style=\"color: #7f7f7f\">:401</span>\n",
       "                             written in <span style=\"font-weight: bold\">{</span><span style=\"color: #008000\">'/manim/notebooks/media/vid</span>                         \n",
       "                             <span style=\"color: #008000\">eos/notebooks/720p60/partial_movie_file</span>                         \n",
       "                             <span style=\"color: #008000\">s/TransitionToNumbers/1525768966_386547</span>                         \n",
       "                             <span style=\"color: #008000\">6529_1284882024.mp4'</span><span style=\"font-weight: bold\">}</span>                                           \n",
       "</pre>\n"
      ],
      "text/plain": [
       "<rich.jupyter.JupyterRenderable at 0x7f31d13404c0>"
      ]
     },
     "metadata": {},
     "output_type": "display_data"
    },
    {
     "name": "stderr",
     "output_type": "stream",
     "text": [
      "                                                                                  \r"
     ]
    },
    {
     "data": {
      "text/html": [
       "<pre style=\"white-space:pre;overflow-x:auto;line-height:normal;font-family:Menlo,'DejaVu Sans Mono',consolas,'Courier New',monospace\"><span style=\"color: #7fbfbf\">[05/09/21 02:30:28] </span><span style=\"color: #008000\">INFO</span>     Animation <span style=\"color: #008000\">11</span> : Partial movie file       <a href=\"file:///usr/local/lib/python3.8/site-packages/manim/scene/scene_file_writer.py\"><span style=\"color: #7f7f7f\">scene_file_writer.py</span></a><span style=\"color: #7f7f7f\">:401</span>\n",
       "                             written in <span style=\"font-weight: bold\">{</span><span style=\"color: #008000\">'/manim/notebooks/media/vid</span>                         \n",
       "                             <span style=\"color: #008000\">eos/notebooks/720p60/partial_movie_file</span>                         \n",
       "                             <span style=\"color: #008000\">s/TransitionToNumbers/1525768966_378162</span>                         \n",
       "                             <span style=\"color: #008000\">5846_842654304.mp4'</span><span style=\"font-weight: bold\">}</span>                                            \n",
       "</pre>\n"
      ],
      "text/plain": [
       "<rich.jupyter.JupyterRenderable at 0x7f31eebd36d0>"
      ]
     },
     "metadata": {},
     "output_type": "display_data"
    },
    {
     "data": {
      "text/html": [
       "<pre style=\"white-space:pre;overflow-x:auto;line-height:normal;font-family:Menlo,'DejaVu Sans Mono',consolas,'Courier New',monospace\"><span style=\"color: #7fbfbf\">                    </span><span style=\"color: #008000\">INFO</span>     Animation <span style=\"color: #008000\">12</span> : Partial movie file       <a href=\"file:///usr/local/lib/python3.8/site-packages/manim/scene/scene_file_writer.py\"><span style=\"color: #7f7f7f\">scene_file_writer.py</span></a><span style=\"color: #7f7f7f\">:401</span>\n",
       "                             written in <span style=\"font-weight: bold\">{</span><span style=\"color: #008000\">'/manim/notebooks/media/vid</span>                         \n",
       "                             <span style=\"color: #008000\">eos/notebooks/720p60/partial_movie_file</span>                         \n",
       "                             <span style=\"color: #008000\">s/TransitionToNumbers/1525768966_276392</span>                         \n",
       "                             <span style=\"color: #008000\">2376_4221732306.mp4'</span><span style=\"font-weight: bold\">}</span>                                           \n",
       "</pre>\n"
      ],
      "text/plain": [
       "<rich.jupyter.JupyterRenderable at 0x7f31eefe6a90>"
      ]
     },
     "metadata": {},
     "output_type": "display_data"
    },
    {
     "name": "stderr",
     "output_type": "stream",
     "text": [
      "                                                                                                        \r"
     ]
    },
    {
     "data": {
      "text/html": [
       "<pre style=\"white-space:pre;overflow-x:auto;line-height:normal;font-family:Menlo,'DejaVu Sans Mono',consolas,'Courier New',monospace\"><span style=\"color: #7fbfbf\">[05/09/21 02:30:30] </span><span style=\"color: #008000\">INFO</span>     Animation <span style=\"color: #008000\">13</span> : Partial movie file       <a href=\"file:///usr/local/lib/python3.8/site-packages/manim/scene/scene_file_writer.py\"><span style=\"color: #7f7f7f\">scene_file_writer.py</span></a><span style=\"color: #7f7f7f\">:401</span>\n",
       "                             written in <span style=\"font-weight: bold\">{</span><span style=\"color: #008000\">'/manim/notebooks/media/vid</span>                         \n",
       "                             <span style=\"color: #008000\">eos/notebooks/720p60/partial_movie_file</span>                         \n",
       "                             <span style=\"color: #008000\">s/TransitionToNumbers/1525768966_294090</span>                         \n",
       "                             <span style=\"color: #008000\">3418_2733355858.mp4'</span><span style=\"font-weight: bold\">}</span>                                           \n",
       "</pre>\n"
      ],
      "text/plain": [
       "<rich.jupyter.JupyterRenderable at 0x7f31d12f8040>"
      ]
     },
     "metadata": {},
     "output_type": "display_data"
    },
    {
     "name": "stderr",
     "output_type": "stream",
     "text": [
      "                                                                                  \r"
     ]
    },
    {
     "data": {
      "text/html": [
       "<pre style=\"white-space:pre;overflow-x:auto;line-height:normal;font-family:Menlo,'DejaVu Sans Mono',consolas,'Courier New',monospace\"><span style=\"color: #7fbfbf\">[05/09/21 02:30:31] </span><span style=\"color: #008000\">INFO</span>     Animation <span style=\"color: #008000\">14</span> : Partial movie file       <a href=\"file:///usr/local/lib/python3.8/site-packages/manim/scene/scene_file_writer.py\"><span style=\"color: #7f7f7f\">scene_file_writer.py</span></a><span style=\"color: #7f7f7f\">:401</span>\n",
       "                             written in <span style=\"font-weight: bold\">{</span><span style=\"color: #008000\">'/manim/notebooks/media/vid</span>                         \n",
       "                             <span style=\"color: #008000\">eos/notebooks/720p60/partial_movie_file</span>                         \n",
       "                             <span style=\"color: #008000\">s/TransitionToNumbers/1525768966_363643</span>                         \n",
       "                             <span style=\"color: #008000\">1600_1084189936.mp4'</span><span style=\"font-weight: bold\">}</span>                                           \n",
       "</pre>\n"
      ],
      "text/plain": [
       "<rich.jupyter.JupyterRenderable at 0x7f31f1523430>"
      ]
     },
     "metadata": {},
     "output_type": "display_data"
    },
    {
     "data": {
      "text/html": [
       "<pre style=\"white-space:pre;overflow-x:auto;line-height:normal;font-family:Menlo,'DejaVu Sans Mono',consolas,'Courier New',monospace\"><span style=\"color: #7fbfbf\">                    </span><span style=\"color: #008000\">INFO</span>     Animation <span style=\"color: #008000\">15</span> : Partial movie file       <a href=\"file:///usr/local/lib/python3.8/site-packages/manim/scene/scene_file_writer.py\"><span style=\"color: #7f7f7f\">scene_file_writer.py</span></a><span style=\"color: #7f7f7f\">:401</span>\n",
       "                             written in <span style=\"font-weight: bold\">{</span><span style=\"color: #008000\">'/manim/notebooks/media/vid</span>                         \n",
       "                             <span style=\"color: #008000\">eos/notebooks/720p60/partial_movie_file</span>                         \n",
       "                             <span style=\"color: #008000\">s/TransitionToNumbers/1525768966_276392</span>                         \n",
       "                             <span style=\"color: #008000\">2376_2674907808.mp4'</span><span style=\"font-weight: bold\">}</span>                                           \n",
       "</pre>\n"
      ],
      "text/plain": [
       "<rich.jupyter.JupyterRenderable at 0x7f31eeb4d100>"
      ]
     },
     "metadata": {},
     "output_type": "display_data"
    },
    {
     "name": "stderr",
     "output_type": "stream",
     "text": [
      "                                                                                                        \r"
     ]
    },
    {
     "data": {
      "text/html": [
       "<pre style=\"white-space:pre;overflow-x:auto;line-height:normal;font-family:Menlo,'DejaVu Sans Mono',consolas,'Courier New',monospace\"><span style=\"color: #7fbfbf\">[05/09/21 02:30:33] </span><span style=\"color: #008000\">INFO</span>     Animation <span style=\"color: #008000\">16</span> : Partial movie file       <a href=\"file:///usr/local/lib/python3.8/site-packages/manim/scene/scene_file_writer.py\"><span style=\"color: #7f7f7f\">scene_file_writer.py</span></a><span style=\"color: #7f7f7f\">:401</span>\n",
       "                             written in <span style=\"font-weight: bold\">{</span><span style=\"color: #008000\">'/manim/notebooks/media/vid</span>                         \n",
       "                             <span style=\"color: #008000\">eos/notebooks/720p60/partial_movie_file</span>                         \n",
       "                             <span style=\"color: #008000\">s/TransitionToNumbers/1525768966_188214</span>                         \n",
       "                             <span style=\"color: #008000\">8209_3309415914.mp4'</span><span style=\"font-weight: bold\">}</span>                                           \n",
       "</pre>\n"
      ],
      "text/plain": [
       "<rich.jupyter.JupyterRenderable at 0x7f31eee835e0>"
      ]
     },
     "metadata": {},
     "output_type": "display_data"
    },
    {
     "name": "stderr",
     "output_type": "stream",
     "text": [
      "                                                                                  \r"
     ]
    },
    {
     "data": {
      "text/html": [
       "<pre style=\"white-space:pre;overflow-x:auto;line-height:normal;font-family:Menlo,'DejaVu Sans Mono',consolas,'Courier New',monospace\"><span style=\"color: #7fbfbf\">[05/09/21 02:30:34] </span><span style=\"color: #008000\">INFO</span>     Animation <span style=\"color: #008000\">17</span> : Partial movie file       <a href=\"file:///usr/local/lib/python3.8/site-packages/manim/scene/scene_file_writer.py\"><span style=\"color: #7f7f7f\">scene_file_writer.py</span></a><span style=\"color: #7f7f7f\">:401</span>\n",
       "                             written in <span style=\"font-weight: bold\">{</span><span style=\"color: #008000\">'/manim/notebooks/media/vid</span>                         \n",
       "                             <span style=\"color: #008000\">eos/notebooks/720p60/partial_movie_file</span>                         \n",
       "                             <span style=\"color: #008000\">s/TransitionToNumbers/1525768966_378552</span>                         \n",
       "                             <span style=\"color: #008000\">3158_1536065447.mp4'</span><span style=\"font-weight: bold\">}</span>                                           \n",
       "</pre>\n"
      ],
      "text/plain": [
       "<rich.jupyter.JupyterRenderable at 0x7f31ef092460>"
      ]
     },
     "metadata": {},
     "output_type": "display_data"
    },
    {
     "data": {
      "text/html": [
       "<pre style=\"white-space:pre;overflow-x:auto;line-height:normal;font-family:Menlo,'DejaVu Sans Mono',consolas,'Courier New',monospace\"><span style=\"color: #7fbfbf\">[05/09/21 02:30:35] </span><span style=\"color: #008000\">INFO</span>     Animation <span style=\"color: #008000\">18</span> : Partial movie file       <a href=\"file:///usr/local/lib/python3.8/site-packages/manim/scene/scene_file_writer.py\"><span style=\"color: #7f7f7f\">scene_file_writer.py</span></a><span style=\"color: #7f7f7f\">:401</span>\n",
       "                             written in <span style=\"font-weight: bold\">{</span><span style=\"color: #008000\">'/manim/notebooks/media/vid</span>                         \n",
       "                             <span style=\"color: #008000\">eos/notebooks/720p60/partial_movie_file</span>                         \n",
       "                             <span style=\"color: #008000\">s/TransitionToNumbers/1525768966_276392</span>                         \n",
       "                             <span style=\"color: #008000\">2376_1481121640.mp4'</span><span style=\"font-weight: bold\">}</span>                                           \n",
       "</pre>\n"
      ],
      "text/plain": [
       "<rich.jupyter.JupyterRenderable at 0x7f31d132a970>"
      ]
     },
     "metadata": {},
     "output_type": "display_data"
    },
    {
     "name": "stderr",
     "output_type": "stream",
     "text": [
      "                                                                                                        \r"
     ]
    },
    {
     "data": {
      "text/html": [
       "<pre style=\"white-space:pre;overflow-x:auto;line-height:normal;font-family:Menlo,'DejaVu Sans Mono',consolas,'Courier New',monospace\"><span style=\"color: #7fbfbf\">[05/09/21 02:30:36] </span><span style=\"color: #008000\">INFO</span>     Animation <span style=\"color: #008000\">19</span> : Partial movie file       <a href=\"file:///usr/local/lib/python3.8/site-packages/manim/scene/scene_file_writer.py\"><span style=\"color: #7f7f7f\">scene_file_writer.py</span></a><span style=\"color: #7f7f7f\">:401</span>\n",
       "                             written in <span style=\"font-weight: bold\">{</span><span style=\"color: #008000\">'/manim/notebooks/media/vid</span>                         \n",
       "                             <span style=\"color: #008000\">eos/notebooks/720p60/partial_movie_file</span>                         \n",
       "                             <span style=\"color: #008000\">s/TransitionToNumbers/1525768966_255876</span>                         \n",
       "                             <span style=\"color: #008000\">2726_3567129565.mp4'</span><span style=\"font-weight: bold\">}</span>                                           \n",
       "</pre>\n"
      ],
      "text/plain": [
       "<rich.jupyter.JupyterRenderable at 0x7f31d15b6700>"
      ]
     },
     "metadata": {},
     "output_type": "display_data"
    },
    {
     "name": "stderr",
     "output_type": "stream",
     "text": [
      "                                                                                  \r"
     ]
    },
    {
     "data": {
      "text/html": [
       "<pre style=\"white-space:pre;overflow-x:auto;line-height:normal;font-family:Menlo,'DejaVu Sans Mono',consolas,'Courier New',monospace\"><span style=\"color: #7fbfbf\">[05/09/21 02:30:38] </span><span style=\"color: #008000\">INFO</span>     Animation <span style=\"color: #008000\">20</span> : Partial movie file       <a href=\"file:///usr/local/lib/python3.8/site-packages/manim/scene/scene_file_writer.py\"><span style=\"color: #7f7f7f\">scene_file_writer.py</span></a><span style=\"color: #7f7f7f\">:401</span>\n",
       "                             written in <span style=\"font-weight: bold\">{</span><span style=\"color: #008000\">'/manim/notebooks/media/vid</span>                         \n",
       "                             <span style=\"color: #008000\">eos/notebooks/720p60/partial_movie_file</span>                         \n",
       "                             <span style=\"color: #008000\">s/TransitionToNumbers/1525768966_393395</span>                         \n",
       "                             <span style=\"color: #008000\">5576_2647135368.mp4'</span><span style=\"font-weight: bold\">}</span>                                           \n",
       "</pre>\n"
      ],
      "text/plain": [
       "<rich.jupyter.JupyterRenderable at 0x7f31f14e15e0>"
      ]
     },
     "metadata": {},
     "output_type": "display_data"
    },
    {
     "data": {
      "text/html": [
       "<pre style=\"white-space:pre;overflow-x:auto;line-height:normal;font-family:Menlo,'DejaVu Sans Mono',consolas,'Courier New',monospace\"><span style=\"color: #7fbfbf\">[05/09/21 02:30:39] </span><span style=\"color: #008000\">INFO</span>     Animation <span style=\"color: #008000\">21</span> : Partial movie file       <a href=\"file:///usr/local/lib/python3.8/site-packages/manim/scene/scene_file_writer.py\"><span style=\"color: #7f7f7f\">scene_file_writer.py</span></a><span style=\"color: #7f7f7f\">:401</span>\n",
       "                             written in <span style=\"font-weight: bold\">{</span><span style=\"color: #008000\">'/manim/notebooks/media/vid</span>                         \n",
       "                             <span style=\"color: #008000\">eos/notebooks/720p60/partial_movie_file</span>                         \n",
       "                             <span style=\"color: #008000\">s/TransitionToNumbers/1525768966_276392</span>                         \n",
       "                             <span style=\"color: #008000\">2376_503295464.mp4'</span><span style=\"font-weight: bold\">}</span>                                            \n",
       "</pre>\n"
      ],
      "text/plain": [
       "<rich.jupyter.JupyterRenderable at 0x7f31eea7f250>"
      ]
     },
     "metadata": {},
     "output_type": "display_data"
    },
    {
     "name": "stderr",
     "output_type": "stream",
     "text": [
      "                                                                                                        \r"
     ]
    },
    {
     "data": {
      "text/html": [
       "<pre style=\"white-space:pre;overflow-x:auto;line-height:normal;font-family:Menlo,'DejaVu Sans Mono',consolas,'Courier New',monospace\"><span style=\"color: #7fbfbf\">[05/09/21 02:30:40] </span><span style=\"color: #008000\">INFO</span>     Animation <span style=\"color: #008000\">22</span> : Partial movie file       <a href=\"file:///usr/local/lib/python3.8/site-packages/manim/scene/scene_file_writer.py\"><span style=\"color: #7f7f7f\">scene_file_writer.py</span></a><span style=\"color: #7f7f7f\">:401</span>\n",
       "                             written in <span style=\"font-weight: bold\">{</span><span style=\"color: #008000\">'/manim/notebooks/media/vid</span>                         \n",
       "                             <span style=\"color: #008000\">eos/notebooks/720p60/partial_movie_file</span>                         \n",
       "                             <span style=\"color: #008000\">s/TransitionToNumbers/1525768966_162865</span>                         \n",
       "                             <span style=\"color: #008000\">9740_1604613926.mp4'</span><span style=\"font-weight: bold\">}</span>                                           \n",
       "</pre>\n"
      ],
      "text/plain": [
       "<rich.jupyter.JupyterRenderable at 0x7f31d162b9d0>"
      ]
     },
     "metadata": {},
     "output_type": "display_data"
    },
    {
     "name": "stderr",
     "output_type": "stream",
     "text": [
      "                                                                                  \r"
     ]
    },
    {
     "data": {
      "text/html": [
       "<pre style=\"white-space:pre;overflow-x:auto;line-height:normal;font-family:Menlo,'DejaVu Sans Mono',consolas,'Courier New',monospace\"><span style=\"color: #7fbfbf\">[05/09/21 02:30:43] </span><span style=\"color: #008000\">INFO</span>     Animation <span style=\"color: #008000\">23</span> : Partial movie file       <a href=\"file:///usr/local/lib/python3.8/site-packages/manim/scene/scene_file_writer.py\"><span style=\"color: #7f7f7f\">scene_file_writer.py</span></a><span style=\"color: #7f7f7f\">:401</span>\n",
       "                             written in <span style=\"font-weight: bold\">{</span><span style=\"color: #008000\">'/manim/notebooks/media/vid</span>                         \n",
       "                             <span style=\"color: #008000\">eos/notebooks/720p60/partial_movie_file</span>                         \n",
       "                             <span style=\"color: #008000\">s/TransitionToNumbers/1525768966_131734</span>                         \n",
       "                             <span style=\"color: #008000\">0721_3709694411.mp4'</span><span style=\"font-weight: bold\">}</span>                                           \n",
       "</pre>\n"
      ],
      "text/plain": [
       "<rich.jupyter.JupyterRenderable at 0x7f31f15616d0>"
      ]
     },
     "metadata": {},
     "output_type": "display_data"
    },
    {
     "data": {
      "text/html": [
       "<pre style=\"white-space:pre;overflow-x:auto;line-height:normal;font-family:Menlo,'DejaVu Sans Mono',consolas,'Courier New',monospace\"><span style=\"color: #7fbfbf\">                    </span><span style=\"color: #008000\">INFO</span>     Animation <span style=\"color: #008000\">24</span> : Partial movie file       <a href=\"file:///usr/local/lib/python3.8/site-packages/manim/scene/scene_file_writer.py\"><span style=\"color: #7f7f7f\">scene_file_writer.py</span></a><span style=\"color: #7f7f7f\">:401</span>\n",
       "                             written in <span style=\"font-weight: bold\">{</span><span style=\"color: #008000\">'/manim/notebooks/media/vid</span>                         \n",
       "                             <span style=\"color: #008000\">eos/notebooks/720p60/partial_movie_file</span>                         \n",
       "                             <span style=\"color: #008000\">s/TransitionToNumbers/1525768966_276392</span>                         \n",
       "                             <span style=\"color: #008000\">2376_2477052753.mp4'</span><span style=\"font-weight: bold\">}</span>                                           \n",
       "</pre>\n"
      ],
      "text/plain": [
       "<rich.jupyter.JupyterRenderable at 0x7f31f155a3d0>"
      ]
     },
     "metadata": {},
     "output_type": "display_data"
    },
    {
     "data": {
      "text/html": [
       "<pre style=\"white-space:pre;overflow-x:auto;line-height:normal;font-family:Menlo,'DejaVu Sans Mono',consolas,'Courier New',monospace\"><span style=\"color: #7fbfbf\">[05/09/21 02:30:44] </span><span style=\"color: #008000\">INFO</span>     Animation <span style=\"color: #008000\">25</span> : Partial movie file       <a href=\"file:///usr/local/lib/python3.8/site-packages/manim/scene/scene_file_writer.py\"><span style=\"color: #7f7f7f\">scene_file_writer.py</span></a><span style=\"color: #7f7f7f\">:401</span>\n",
       "                             written in <span style=\"font-weight: bold\">{</span><span style=\"color: #008000\">'/manim/notebooks/media/vid</span>                         \n",
       "                             <span style=\"color: #008000\">eos/notebooks/720p60/partial_movie_file</span>                         \n",
       "                             <span style=\"color: #008000\">s/TransitionToNumbers/1525768966_243224</span>                         \n",
       "                             <span style=\"color: #008000\">1074_2889974204.mp4'</span><span style=\"font-weight: bold\">}</span>                                           \n",
       "</pre>\n"
      ],
      "text/plain": [
       "<rich.jupyter.JupyterRenderable at 0x7f31ee9c42e0>"
      ]
     },
     "metadata": {},
     "output_type": "display_data"
    },
    {
     "name": "stderr",
     "output_type": "stream",
     "text": [
      "                                                                                    \r"
     ]
    },
    {
     "data": {
      "text/html": [
       "<pre style=\"white-space:pre;overflow-x:auto;line-height:normal;font-family:Menlo,'DejaVu Sans Mono',consolas,'Courier New',monospace\"><span style=\"color: #7fbfbf\">[05/09/21 02:30:47] </span><span style=\"color: #008000\">INFO</span>     Animation <span style=\"color: #008000\">26</span> : Partial movie file       <a href=\"file:///usr/local/lib/python3.8/site-packages/manim/scene/scene_file_writer.py\"><span style=\"color: #7f7f7f\">scene_file_writer.py</span></a><span style=\"color: #7f7f7f\">:401</span>\n",
       "                             written in <span style=\"font-weight: bold\">{</span><span style=\"color: #008000\">'/manim/notebooks/media/vid</span>                         \n",
       "                             <span style=\"color: #008000\">eos/notebooks/720p60/partial_movie_file</span>                         \n",
       "                             <span style=\"color: #008000\">s/TransitionToNumbers/1525768966_175418</span>                         \n",
       "                             <span style=\"color: #008000\">467_4241475951.mp4'</span><span style=\"font-weight: bold\">}</span>                                            \n",
       "</pre>\n"
      ],
      "text/plain": [
       "<rich.jupyter.JupyterRenderable at 0x7f31d1334040>"
      ]
     },
     "metadata": {},
     "output_type": "display_data"
    },
    {
     "data": {
      "text/html": [
       "<pre style=\"white-space:pre;overflow-x:auto;line-height:normal;font-family:Menlo,'DejaVu Sans Mono',consolas,'Courier New',monospace\"><span style=\"color: #7fbfbf\">[05/09/21 02:30:48] </span><span style=\"color: #008000\">INFO</span>     Animation <span style=\"color: #008000\">27</span> : Partial movie file       <a href=\"file:///usr/local/lib/python3.8/site-packages/manim/scene/scene_file_writer.py\"><span style=\"color: #7f7f7f\">scene_file_writer.py</span></a><span style=\"color: #7f7f7f\">:401</span>\n",
       "                             written in <span style=\"font-weight: bold\">{</span><span style=\"color: #008000\">'/manim/notebooks/media/vid</span>                         \n",
       "                             <span style=\"color: #008000\">eos/notebooks/720p60/partial_movie_file</span>                         \n",
       "                             <span style=\"color: #008000\">s/TransitionToNumbers/1525768966_154275</span>                         \n",
       "                             <span style=\"color: #008000\">3228_4283630366.mp4'</span><span style=\"font-weight: bold\">}</span>                                           \n",
       "</pre>\n"
      ],
      "text/plain": [
       "<rich.jupyter.JupyterRenderable at 0x7f31eec21220>"
      ]
     },
     "metadata": {},
     "output_type": "display_data"
    },
    {
     "name": "stderr",
     "output_type": "stream",
     "text": [
      "                                                                                     \r"
     ]
    },
    {
     "data": {
      "text/html": [
       "<pre style=\"white-space:pre;overflow-x:auto;line-height:normal;font-family:Menlo,'DejaVu Sans Mono',consolas,'Courier New',monospace\"><span style=\"color: #7fbfbf\">[05/09/21 02:30:50] </span><span style=\"color: #008000\">INFO</span>     Animation <span style=\"color: #008000\">28</span> : Partial movie file       <a href=\"file:///usr/local/lib/python3.8/site-packages/manim/scene/scene_file_writer.py\"><span style=\"color: #7f7f7f\">scene_file_writer.py</span></a><span style=\"color: #7f7f7f\">:401</span>\n",
       "                             written in <span style=\"font-weight: bold\">{</span><span style=\"color: #008000\">'/manim/notebooks/media/vid</span>                         \n",
       "                             <span style=\"color: #008000\">eos/notebooks/720p60/partial_movie_file</span>                         \n",
       "                             <span style=\"color: #008000\">s/TransitionToNumbers/1525768966_328879</span>                         \n",
       "                             <span style=\"color: #008000\">9966_1123247314.mp4'</span><span style=\"font-weight: bold\">}</span>                                           \n",
       "</pre>\n"
      ],
      "text/plain": [
       "<rich.jupyter.JupyterRenderable at 0x7f31eec21790>"
      ]
     },
     "metadata": {},
     "output_type": "display_data"
    },
    {
     "data": {
      "text/html": [
       "<pre style=\"white-space:pre;overflow-x:auto;line-height:normal;font-family:Menlo,'DejaVu Sans Mono',consolas,'Courier New',monospace\"><span style=\"color: #7fbfbf\">[05/09/21 02:30:51] </span><span style=\"color: #008000\">INFO</span>     Animation <span style=\"color: #008000\">29</span> : Partial movie file       <a href=\"file:///usr/local/lib/python3.8/site-packages/manim/scene/scene_file_writer.py\"><span style=\"color: #7f7f7f\">scene_file_writer.py</span></a><span style=\"color: #7f7f7f\">:401</span>\n",
       "                             written in <span style=\"font-weight: bold\">{</span><span style=\"color: #008000\">'/manim/notebooks/media/vid</span>                         \n",
       "                             <span style=\"color: #008000\">eos/notebooks/720p60/partial_movie_file</span>                         \n",
       "                             <span style=\"color: #008000\">s/TransitionToNumbers/1525768966_154275</span>                         \n",
       "                             <span style=\"color: #008000\">3228_2082235809.mp4'</span><span style=\"font-weight: bold\">}</span>                                           \n",
       "</pre>\n"
      ],
      "text/plain": [
       "<rich.jupyter.JupyterRenderable at 0x7f31eeaa8580>"
      ]
     },
     "metadata": {},
     "output_type": "display_data"
    },
    {
     "name": "stderr",
     "output_type": "stream",
     "text": [
      "                                                                                    \r"
     ]
    },
    {
     "data": {
      "text/html": [
       "<pre style=\"white-space:pre;overflow-x:auto;line-height:normal;font-family:Menlo,'DejaVu Sans Mono',consolas,'Courier New',monospace\"><span style=\"color: #7fbfbf\">[05/09/21 02:30:54] </span><span style=\"color: #008000\">INFO</span>     Animation <span style=\"color: #008000\">30</span> : Partial movie file       <a href=\"file:///usr/local/lib/python3.8/site-packages/manim/scene/scene_file_writer.py\"><span style=\"color: #7f7f7f\">scene_file_writer.py</span></a><span style=\"color: #7f7f7f\">:401</span>\n",
       "                             written in <span style=\"font-weight: bold\">{</span><span style=\"color: #008000\">'/manim/notebooks/media/vid</span>                         \n",
       "                             <span style=\"color: #008000\">eos/notebooks/720p60/partial_movie_file</span>                         \n",
       "                             <span style=\"color: #008000\">s/TransitionToNumbers/1525768966_208525</span>                         \n",
       "                             <span style=\"color: #008000\">5190_2357794351.mp4'</span><span style=\"font-weight: bold\">}</span>                                           \n",
       "</pre>\n"
      ],
      "text/plain": [
       "<rich.jupyter.JupyterRenderable at 0x7f31f1815c70>"
      ]
     },
     "metadata": {},
     "output_type": "display_data"
    },
    {
     "data": {
      "text/html": [
       "<pre style=\"white-space:pre;overflow-x:auto;line-height:normal;font-family:Menlo,'DejaVu Sans Mono',consolas,'Courier New',monospace\"><span style=\"color: #7fbfbf\">[05/09/21 02:30:55] </span><span style=\"color: #008000\">INFO</span>     Animation <span style=\"color: #008000\">31</span> : Partial movie file       <a href=\"file:///usr/local/lib/python3.8/site-packages/manim/scene/scene_file_writer.py\"><span style=\"color: #7f7f7f\">scene_file_writer.py</span></a><span style=\"color: #7f7f7f\">:401</span>\n",
       "                             written in <span style=\"font-weight: bold\">{</span><span style=\"color: #008000\">'/manim/notebooks/media/vid</span>                         \n",
       "                             <span style=\"color: #008000\">eos/notebooks/720p60/partial_movie_file</span>                         \n",
       "                             <span style=\"color: #008000\">s/TransitionToNumbers/1525768966_154275</span>                         \n",
       "                             <span style=\"color: #008000\">3228_142864201.mp4'</span><span style=\"font-weight: bold\">}</span>                                            \n",
       "</pre>\n"
      ],
      "text/plain": [
       "<rich.jupyter.JupyterRenderable at 0x7f31eeaa8460>"
      ]
     },
     "metadata": {},
     "output_type": "display_data"
    },
    {
     "name": "stderr",
     "output_type": "stream",
     "text": [
      "                                                                                     \r"
     ]
    },
    {
     "data": {
      "text/html": [
       "<pre style=\"white-space:pre;overflow-x:auto;line-height:normal;font-family:Menlo,'DejaVu Sans Mono',consolas,'Courier New',monospace\"><span style=\"color: #7fbfbf\">[05/09/21 02:30:58] </span><span style=\"color: #008000\">INFO</span>     Animation <span style=\"color: #008000\">32</span> : Partial movie file       <a href=\"file:///usr/local/lib/python3.8/site-packages/manim/scene/scene_file_writer.py\"><span style=\"color: #7f7f7f\">scene_file_writer.py</span></a><span style=\"color: #7f7f7f\">:401</span>\n",
       "                             written in <span style=\"font-weight: bold\">{</span><span style=\"color: #008000\">'/manim/notebooks/media/vid</span>                         \n",
       "                             <span style=\"color: #008000\">eos/notebooks/720p60/partial_movie_file</span>                         \n",
       "                             <span style=\"color: #008000\">s/TransitionToNumbers/1525768966_206136</span>                         \n",
       "                             <span style=\"color: #008000\">4399_2136582983.mp4'</span><span style=\"font-weight: bold\">}</span>                                           \n",
       "</pre>\n"
      ],
      "text/plain": [
       "<rich.jupyter.JupyterRenderable at 0x7f31f15ccfd0>"
      ]
     },
     "metadata": {},
     "output_type": "display_data"
    },
    {
     "data": {
      "text/html": [
       "<pre style=\"white-space:pre;overflow-x:auto;line-height:normal;font-family:Menlo,'DejaVu Sans Mono',consolas,'Courier New',monospace\"><span style=\"color: #7fbfbf\">                    </span><span style=\"color: #008000\">INFO</span>     Animation <span style=\"color: #008000\">33</span> : Partial movie file       <a href=\"file:///usr/local/lib/python3.8/site-packages/manim/scene/scene_file_writer.py\"><span style=\"color: #7f7f7f\">scene_file_writer.py</span></a><span style=\"color: #7f7f7f\">:401</span>\n",
       "                             written in <span style=\"font-weight: bold\">{</span><span style=\"color: #008000\">'/manim/notebooks/media/vid</span>                         \n",
       "                             <span style=\"color: #008000\">eos/notebooks/720p60/partial_movie_file</span>                         \n",
       "                             <span style=\"color: #008000\">s/TransitionToNumbers/1525768966_243224</span>                         \n",
       "                             <span style=\"color: #008000\">1074_1909997330.mp4'</span><span style=\"font-weight: bold\">}</span>                                           \n",
       "</pre>\n"
      ],
      "text/plain": [
       "<rich.jupyter.JupyterRenderable at 0x7f31f15d83d0>"
      ]
     },
     "metadata": {},
     "output_type": "display_data"
    },
    {
     "data": {
      "text/html": [
       "<pre style=\"white-space:pre;overflow-x:auto;line-height:normal;font-family:Menlo,'DejaVu Sans Mono',consolas,'Courier New',monospace\"><span style=\"color: #7fbfbf\">[05/09/21 02:30:59] </span><span style=\"color: #008000\">INFO</span>                                             <a href=\"file:///usr/local/lib/python3.8/site-packages/manim/scene/scene_file_writer.py\"><span style=\"color: #7f7f7f\">scene_file_writer.py</span></a><span style=\"color: #7f7f7f\">:585</span>\n",
       "                             <span style=\"color: #808000; font-weight: bold\">File</span> ready at <span style=\"color: #800080\">/manim/notebooks/media/vi</span>                         \n",
       "                             <span style=\"color: #800080\">deos/notebooks/720p60/</span><span style=\"color: #ff00ff\">combining-columns</span>                         \n",
       "                             <span style=\"color: #ff00ff\">-extension.mp4</span>                                                  \n",
       "                                                                                             \n",
       "</pre>\n"
      ],
      "text/plain": [
       "<rich.jupyter.JupyterRenderable at 0x7f31d15c0670>"
      ]
     },
     "metadata": {},
     "output_type": "display_data"
    },
    {
     "data": {
      "text/html": [
       "<pre style=\"white-space:pre;overflow-x:auto;line-height:normal;font-family:Menlo,'DejaVu Sans Mono',consolas,'Courier New',monospace\"><span style=\"color: #7fbfbf\">                    </span><span style=\"color: #008000\">INFO</span>     <span style=\"color: #808000; font-weight: bold\">Rendered</span> TransitionToNumbers                        <a href=\"file:///usr/local/lib/python3.8/site-packages/manim/scene/scene.py\"><span style=\"color: #7f7f7f\">scene.py</span></a><span style=\"color: #7f7f7f\">:217</span>\n",
       "                             <span style=\"color: #808000; font-weight: bold\">Played</span> <span style=\"color: #008000\">34</span> <span style=\"color: #808000; font-weight: bold\">animations</span>                                            \n",
       "</pre>\n"
      ],
      "text/plain": [
       "<rich.jupyter.JupyterRenderable at 0x7f31ee9c1f10>"
      ]
     },
     "metadata": {},
     "output_type": "display_data"
    },
    {
     "data": {
      "text/html": [
       "<video src=\"media/jupyter/479ee720dfabec72c786706ccdaf62c17277069a.mp4\" controls autoplay loop style=\"max-width: 25vw;\"  >\n",
       "      Your browser does not support the <code>video</code> element.\n",
       "    </video>"
      ],
      "text/plain": [
       "<IPython.core.display.Video object>"
      ]
     },
     "metadata": {},
     "output_type": "display_data"
    }
   ],
   "source": [
    "%%manim -qh -r 1280,720 -o combining-columns-extension.mp4 TransitionToNumbers\n",
    "\n",
    "class TransitionToNumbers(CombiningColumns):\n",
    "    def construct(self):\n",
    "        super().construct_adding_examples()"
   ]
  },
  {
   "cell_type": "code",
   "execution_count": 675,
   "id": "f6d61071-326c-4d2d-a7a2-30c021663a48",
   "metadata": {},
   "outputs": [
    {
     "data": {
      "text/html": [
       "<pre style=\"white-space:pre;overflow-x:auto;line-height:normal;font-family:Menlo,'DejaVu Sans Mono',consolas,'Courier New',monospace\"><span style=\"color: #7fbfbf\">                    </span><span style=\"color: #008000\">INFO</span>     Animation <span style=\"color: #008000\">0</span> : Using cached data <span style=\"font-weight: bold\">(</span>hash :    <a href=\"file:///usr/local/lib/python3.8/site-packages/manim/renderer/cairo_renderer.py\"><span style=\"color: #7f7f7f\">cairo_renderer.py</span></a><span style=\"color: #7f7f7f\">:100</span>\n",
       "                             2429694228_2432241074_870542297<span style=\"font-weight: bold\">)</span>                                \n",
       "</pre>\n"
      ],
      "text/plain": [
       "<rich.jupyter.JupyterRenderable at 0x7f31eeb424f0>"
      ]
     },
     "metadata": {},
     "output_type": "display_data"
    },
    {
     "name": "stderr",
     "output_type": "stream",
     "text": [
      "                                                                                               \r"
     ]
    },
    {
     "data": {
      "text/html": [
       "<pre style=\"white-space:pre;overflow-x:auto;line-height:normal;font-family:Menlo,'DejaVu Sans Mono',consolas,'Courier New',monospace\"><span style=\"color: #7fbfbf\">                    </span><span style=\"color: #008000\">INFO</span>     Animation <span style=\"color: #008000\">1</span> : Partial movie file        <a href=\"file:///usr/local/lib/python3.8/site-packages/manim/scene/scene_file_writer.py\"><span style=\"color: #7f7f7f\">scene_file_writer.py</span></a><span style=\"color: #7f7f7f\">:401</span>\n",
       "                             written in <span style=\"font-weight: bold\">{</span><span style=\"color: #008000\">'/manim/notebooks/media/vid</span>                         \n",
       "                             <span style=\"color: #008000\">eos/notebooks/720p60/partial_movie_file</span>                         \n",
       "                             <span style=\"color: #008000\">s/RowsCombineRows/1952873950_1034864707</span>                         \n",
       "                             <span style=\"color: #008000\">_1893573940.mp4'</span><span style=\"font-weight: bold\">}</span>                                               \n",
       "</pre>\n"
      ],
      "text/plain": [
       "<rich.jupyter.JupyterRenderable at 0x7f31eeb933a0>"
      ]
     },
     "metadata": {},
     "output_type": "display_data"
    },
    {
     "name": "stderr",
     "output_type": "stream",
     "text": [
      "                                                                                     \r"
     ]
    },
    {
     "data": {
      "text/html": [
       "<pre style=\"white-space:pre;overflow-x:auto;line-height:normal;font-family:Menlo,'DejaVu Sans Mono',consolas,'Courier New',monospace\"><span style=\"color: #7fbfbf\">[05/09/21 01:52:56] </span><span style=\"color: #008000\">INFO</span>     Animation <span style=\"color: #008000\">2</span> : Partial movie file        <a href=\"file:///usr/local/lib/python3.8/site-packages/manim/scene/scene_file_writer.py\"><span style=\"color: #7f7f7f\">scene_file_writer.py</span></a><span style=\"color: #7f7f7f\">:401</span>\n",
       "                             written in <span style=\"font-weight: bold\">{</span><span style=\"color: #008000\">'/manim/notebooks/media/vid</span>                         \n",
       "                             <span style=\"color: #008000\">eos/notebooks/720p60/partial_movie_file</span>                         \n",
       "                             <span style=\"color: #008000\">s/RowsCombineRows/1952873950_3743846995</span>                         \n",
       "                             <span style=\"color: #008000\">_1695294590.mp4'</span><span style=\"font-weight: bold\">}</span>                                               \n",
       "</pre>\n"
      ],
      "text/plain": [
       "<rich.jupyter.JupyterRenderable at 0x7f31eeb42ca0>"
      ]
     },
     "metadata": {},
     "output_type": "display_data"
    },
    {
     "data": {
      "text/html": [
       "<pre style=\"white-space:pre;overflow-x:auto;line-height:normal;font-family:Menlo,'DejaVu Sans Mono',consolas,'Courier New',monospace\"><span style=\"color: #7fbfbf\">                    </span><span style=\"color: #008000\">INFO</span>     Animation <span style=\"color: #008000\">3</span> : Partial movie file        <a href=\"file:///usr/local/lib/python3.8/site-packages/manim/scene/scene_file_writer.py\"><span style=\"color: #7f7f7f\">scene_file_writer.py</span></a><span style=\"color: #7f7f7f\">:401</span>\n",
       "                             written in <span style=\"font-weight: bold\">{</span><span style=\"color: #008000\">'/manim/notebooks/media/vid</span>                         \n",
       "                             <span style=\"color: #008000\">eos/notebooks/720p60/partial_movie_file</span>                         \n",
       "                             <span style=\"color: #008000\">s/RowsCombineRows/1952873950_2432241074</span>                         \n",
       "                             <span style=\"color: #008000\">_1420097179.mp4'</span><span style=\"font-weight: bold\">}</span>                                               \n",
       "</pre>\n"
      ],
      "text/plain": [
       "<rich.jupyter.JupyterRenderable at 0x7f31ef089d00>"
      ]
     },
     "metadata": {},
     "output_type": "display_data"
    },
    {
     "name": "stderr",
     "output_type": "stream",
     "text": [
      "                                                                                               \r"
     ]
    },
    {
     "data": {
      "text/html": [
       "<pre style=\"white-space:pre;overflow-x:auto;line-height:normal;font-family:Menlo,'DejaVu Sans Mono',consolas,'Courier New',monospace\"><span style=\"color: #7fbfbf\">[05/09/21 01:52:57] </span><span style=\"color: #008000\">INFO</span>     Animation <span style=\"color: #008000\">4</span> : Partial movie file        <a href=\"file:///usr/local/lib/python3.8/site-packages/manim/scene/scene_file_writer.py\"><span style=\"color: #7f7f7f\">scene_file_writer.py</span></a><span style=\"color: #7f7f7f\">:401</span>\n",
       "                             written in <span style=\"font-weight: bold\">{</span><span style=\"color: #008000\">'/manim/notebooks/media/vid</span>                         \n",
       "                             <span style=\"color: #008000\">eos/notebooks/720p60/partial_movie_file</span>                         \n",
       "                             <span style=\"color: #008000\">s/RowsCombineRows/1952873950_2156429709</span>                         \n",
       "                             <span style=\"color: #008000\">_2558304964.mp4'</span><span style=\"font-weight: bold\">}</span>                                               \n",
       "</pre>\n"
      ],
      "text/plain": [
       "<rich.jupyter.JupyterRenderable at 0x7f31eeb425b0>"
      ]
     },
     "metadata": {},
     "output_type": "display_data"
    },
    {
     "name": "stderr",
     "output_type": "stream",
     "text": [
      "                                                                                     \r"
     ]
    },
    {
     "data": {
      "text/html": [
       "<pre style=\"white-space:pre;overflow-x:auto;line-height:normal;font-family:Menlo,'DejaVu Sans Mono',consolas,'Courier New',monospace\"><span style=\"color: #7fbfbf\">                    </span><span style=\"color: #008000\">INFO</span>     Animation <span style=\"color: #008000\">5</span> : Partial movie file        <a href=\"file:///usr/local/lib/python3.8/site-packages/manim/scene/scene_file_writer.py\"><span style=\"color: #7f7f7f\">scene_file_writer.py</span></a><span style=\"color: #7f7f7f\">:401</span>\n",
       "                             written in <span style=\"font-weight: bold\">{</span><span style=\"color: #008000\">'/manim/notebooks/media/vid</span>                         \n",
       "                             <span style=\"color: #008000\">eos/notebooks/720p60/partial_movie_file</span>                         \n",
       "                             <span style=\"color: #008000\">s/RowsCombineRows/1952873950_22985765_6</span>                         \n",
       "                             <span style=\"color: #008000\">71210178.mp4'</span><span style=\"font-weight: bold\">}</span>                                                  \n",
       "</pre>\n"
      ],
      "text/plain": [
       "<rich.jupyter.JupyterRenderable at 0x7f31eee382e0>"
      ]
     },
     "metadata": {},
     "output_type": "display_data"
    },
    {
     "data": {
      "text/html": [
       "<pre style=\"white-space:pre;overflow-x:auto;line-height:normal;font-family:Menlo,'DejaVu Sans Mono',consolas,'Courier New',monospace\"><span style=\"color: #7fbfbf\">[05/09/21 01:52:58] </span><span style=\"color: #008000\">INFO</span>     Animation <span style=\"color: #008000\">6</span> : Partial movie file        <a href=\"file:///usr/local/lib/python3.8/site-packages/manim/scene/scene_file_writer.py\"><span style=\"color: #7f7f7f\">scene_file_writer.py</span></a><span style=\"color: #7f7f7f\">:401</span>\n",
       "                             written in <span style=\"font-weight: bold\">{</span><span style=\"color: #008000\">'/manim/notebooks/media/vid</span>                         \n",
       "                             <span style=\"color: #008000\">eos/notebooks/720p60/partial_movie_file</span>                         \n",
       "                             <span style=\"color: #008000\">s/RowsCombineRows/1952873950_2432241074</span>                         \n",
       "                             <span style=\"color: #008000\">_478549389.mp4'</span><span style=\"font-weight: bold\">}</span>                                                \n",
       "</pre>\n"
      ],
      "text/plain": [
       "<rich.jupyter.JupyterRenderable at 0x7f31d124c2b0>"
      ]
     },
     "metadata": {},
     "output_type": "display_data"
    },
    {
     "name": "stderr",
     "output_type": "stream",
     "text": [
      "                                                                                               \r"
     ]
    },
    {
     "data": {
      "text/html": [
       "<pre style=\"white-space:pre;overflow-x:auto;line-height:normal;font-family:Menlo,'DejaVu Sans Mono',consolas,'Courier New',monospace\"><span style=\"color: #7fbfbf\">                    </span><span style=\"color: #008000\">INFO</span>     Animation <span style=\"color: #008000\">7</span> : Partial movie file        <a href=\"file:///usr/local/lib/python3.8/site-packages/manim/scene/scene_file_writer.py\"><span style=\"color: #7f7f7f\">scene_file_writer.py</span></a><span style=\"color: #7f7f7f\">:401</span>\n",
       "                             written in <span style=\"font-weight: bold\">{</span><span style=\"color: #008000\">'/manim/notebooks/media/vid</span>                         \n",
       "                             <span style=\"color: #008000\">eos/notebooks/720p60/partial_movie_file</span>                         \n",
       "                             <span style=\"color: #008000\">s/RowsCombineRows/1952873950_4073383554</span>                         \n",
       "                             <span style=\"color: #008000\">_1220016823.mp4'</span><span style=\"font-weight: bold\">}</span>                                               \n",
       "</pre>\n"
      ],
      "text/plain": [
       "<rich.jupyter.JupyterRenderable at 0x7f31d124c040>"
      ]
     },
     "metadata": {},
     "output_type": "display_data"
    },
    {
     "name": "stderr",
     "output_type": "stream",
     "text": [
      "                                                                                     \r"
     ]
    },
    {
     "data": {
      "text/html": [
       "<pre style=\"white-space:pre;overflow-x:auto;line-height:normal;font-family:Menlo,'DejaVu Sans Mono',consolas,'Courier New',monospace\"><span style=\"color: #7fbfbf\">[05/09/21 01:52:59] </span><span style=\"color: #008000\">INFO</span>     Animation <span style=\"color: #008000\">8</span> : Partial movie file        <a href=\"file:///usr/local/lib/python3.8/site-packages/manim/scene/scene_file_writer.py\"><span style=\"color: #7f7f7f\">scene_file_writer.py</span></a><span style=\"color: #7f7f7f\">:401</span>\n",
       "                             written in <span style=\"font-weight: bold\">{</span><span style=\"color: #008000\">'/manim/notebooks/media/vid</span>                         \n",
       "                             <span style=\"color: #008000\">eos/notebooks/720p60/partial_movie_file</span>                         \n",
       "                             <span style=\"color: #008000\">s/RowsCombineRows/1952873950_707873645_</span>                         \n",
       "                             <span style=\"color: #008000\">176094032.mp4'</span><span style=\"font-weight: bold\">}</span>                                                 \n",
       "</pre>\n"
      ],
      "text/plain": [
       "<rich.jupyter.JupyterRenderable at 0x7f31d12e3b20>"
      ]
     },
     "metadata": {},
     "output_type": "display_data"
    },
    {
     "data": {
      "text/html": [
       "<pre style=\"white-space:pre;overflow-x:auto;line-height:normal;font-family:Menlo,'DejaVu Sans Mono',consolas,'Courier New',monospace\"><span style=\"color: #7fbfbf\">                    </span><span style=\"color: #008000\">INFO</span>     Animation <span style=\"color: #008000\">9</span> : Partial movie file        <a href=\"file:///usr/local/lib/python3.8/site-packages/manim/scene/scene_file_writer.py\"><span style=\"color: #7f7f7f\">scene_file_writer.py</span></a><span style=\"color: #7f7f7f\">:401</span>\n",
       "                             written in <span style=\"font-weight: bold\">{</span><span style=\"color: #008000\">'/manim/notebooks/media/vid</span>                         \n",
       "                             <span style=\"color: #008000\">eos/notebooks/720p60/partial_movie_file</span>                         \n",
       "                             <span style=\"color: #008000\">s/RowsCombineRows/1952873950_2432241074</span>                         \n",
       "                             <span style=\"color: #008000\">_621333215.mp4'</span><span style=\"font-weight: bold\">}</span>                                                \n",
       "</pre>\n"
      ],
      "text/plain": [
       "<rich.jupyter.JupyterRenderable at 0x7f31eebcc880>"
      ]
     },
     "metadata": {},
     "output_type": "display_data"
    },
    {
     "name": "stderr",
     "output_type": "stream",
     "text": [
      "                                                                                                \r"
     ]
    },
    {
     "data": {
      "text/html": [
       "<pre style=\"white-space:pre;overflow-x:auto;line-height:normal;font-family:Menlo,'DejaVu Sans Mono',consolas,'Courier New',monospace\"><span style=\"color: #7fbfbf\">[05/09/21 01:53:00] </span><span style=\"color: #008000\">INFO</span>     Animation <span style=\"color: #008000\">10</span> : Partial movie file       <a href=\"file:///usr/local/lib/python3.8/site-packages/manim/scene/scene_file_writer.py\"><span style=\"color: #7f7f7f\">scene_file_writer.py</span></a><span style=\"color: #7f7f7f\">:401</span>\n",
       "                             written in <span style=\"font-weight: bold\">{</span><span style=\"color: #008000\">'/manim/notebooks/media/vid</span>                         \n",
       "                             <span style=\"color: #008000\">eos/notebooks/720p60/partial_movie_file</span>                         \n",
       "                             <span style=\"color: #008000\">s/RowsCombineRows/1952873950_2556890964</span>                         \n",
       "                             <span style=\"color: #008000\">_448432333.mp4'</span><span style=\"font-weight: bold\">}</span>                                                \n",
       "</pre>\n"
      ],
      "text/plain": [
       "<rich.jupyter.JupyterRenderable at 0x7f31eed513a0>"
      ]
     },
     "metadata": {},
     "output_type": "display_data"
    },
    {
     "name": "stderr",
     "output_type": "stream",
     "text": [
      "                                                                                      \r"
     ]
    },
    {
     "data": {
      "text/html": [
       "<pre style=\"white-space:pre;overflow-x:auto;line-height:normal;font-family:Menlo,'DejaVu Sans Mono',consolas,'Courier New',monospace\"><span style=\"color: #7fbfbf\">                    </span><span style=\"color: #008000\">INFO</span>     Animation <span style=\"color: #008000\">11</span> : Partial movie file       <a href=\"file:///usr/local/lib/python3.8/site-packages/manim/scene/scene_file_writer.py\"><span style=\"color: #7f7f7f\">scene_file_writer.py</span></a><span style=\"color: #7f7f7f\">:401</span>\n",
       "                             written in <span style=\"font-weight: bold\">{</span><span style=\"color: #008000\">'/manim/notebooks/media/vid</span>                         \n",
       "                             <span style=\"color: #008000\">eos/notebooks/720p60/partial_movie_file</span>                         \n",
       "                             <span style=\"color: #008000\">s/RowsCombineRows/1952873950_945967602_</span>                         \n",
       "                             <span style=\"color: #008000\">1893257752.mp4'</span><span style=\"font-weight: bold\">}</span>                                                \n",
       "</pre>\n"
      ],
      "text/plain": [
       "<rich.jupyter.JupyterRenderable at 0x7f31eee38df0>"
      ]
     },
     "metadata": {},
     "output_type": "display_data"
    },
    {
     "data": {
      "text/html": [
       "<pre style=\"white-space:pre;overflow-x:auto;line-height:normal;font-family:Menlo,'DejaVu Sans Mono',consolas,'Courier New',monospace\"><span style=\"color: #7fbfbf\">[05/09/21 01:53:01] </span><span style=\"color: #008000\">INFO</span>     Animation <span style=\"color: #008000\">12</span> : Partial movie file       <a href=\"file:///usr/local/lib/python3.8/site-packages/manim/scene/scene_file_writer.py\"><span style=\"color: #7f7f7f\">scene_file_writer.py</span></a><span style=\"color: #7f7f7f\">:401</span>\n",
       "                             written in <span style=\"font-weight: bold\">{</span><span style=\"color: #008000\">'/manim/notebooks/media/vid</span>                         \n",
       "                             <span style=\"color: #008000\">eos/notebooks/720p60/partial_movie_file</span>                         \n",
       "                             <span style=\"color: #008000\">s/RowsCombineRows/1952873950_2432241074</span>                         \n",
       "                             <span style=\"color: #008000\">_2020718354.mp4'</span><span style=\"font-weight: bold\">}</span>                                               \n",
       "</pre>\n"
      ],
      "text/plain": [
       "<rich.jupyter.JupyterRenderable at 0x7f31eee380d0>"
      ]
     },
     "metadata": {},
     "output_type": "display_data"
    },
    {
     "name": "stderr",
     "output_type": "stream",
     "text": [
      "                                                                                                \r"
     ]
    },
    {
     "data": {
      "text/html": [
       "<pre style=\"white-space:pre;overflow-x:auto;line-height:normal;font-family:Menlo,'DejaVu Sans Mono',consolas,'Courier New',monospace\"><span style=\"color: #7fbfbf\">                    </span><span style=\"color: #008000\">INFO</span>     Animation <span style=\"color: #008000\">13</span> : Partial movie file       <a href=\"file:///usr/local/lib/python3.8/site-packages/manim/scene/scene_file_writer.py\"><span style=\"color: #7f7f7f\">scene_file_writer.py</span></a><span style=\"color: #7f7f7f\">:401</span>\n",
       "                             written in <span style=\"font-weight: bold\">{</span><span style=\"color: #008000\">'/manim/notebooks/media/vid</span>                         \n",
       "                             <span style=\"color: #008000\">eos/notebooks/720p60/partial_movie_file</span>                         \n",
       "                             <span style=\"color: #008000\">s/RowsCombineRows/1952873950_126949684_</span>                         \n",
       "                             <span style=\"color: #008000\">1342299710.mp4'</span><span style=\"font-weight: bold\">}</span>                                                \n",
       "</pre>\n"
      ],
      "text/plain": [
       "<rich.jupyter.JupyterRenderable at 0x7f31c2b56e50>"
      ]
     },
     "metadata": {},
     "output_type": "display_data"
    },
    {
     "name": "stderr",
     "output_type": "stream",
     "text": [
      "                                                                                      \r"
     ]
    },
    {
     "data": {
      "text/html": [
       "<pre style=\"white-space:pre;overflow-x:auto;line-height:normal;font-family:Menlo,'DejaVu Sans Mono',consolas,'Courier New',monospace\"><span style=\"color: #7fbfbf\">[05/09/21 01:53:02] </span><span style=\"color: #008000\">INFO</span>     Animation <span style=\"color: #008000\">14</span> : Partial movie file       <a href=\"file:///usr/local/lib/python3.8/site-packages/manim/scene/scene_file_writer.py\"><span style=\"color: #7f7f7f\">scene_file_writer.py</span></a><span style=\"color: #7f7f7f\">:401</span>\n",
       "                             written in <span style=\"font-weight: bold\">{</span><span style=\"color: #008000\">'/manim/notebooks/media/vid</span>                         \n",
       "                             <span style=\"color: #008000\">eos/notebooks/720p60/partial_movie_file</span>                         \n",
       "                             <span style=\"color: #008000\">s/RowsCombineRows/1952873950_674065319_</span>                         \n",
       "                             <span style=\"color: #008000\">3561962181.mp4'</span><span style=\"font-weight: bold\">}</span>                                                \n",
       "</pre>\n"
      ],
      "text/plain": [
       "<rich.jupyter.JupyterRenderable at 0x7f31ee97efa0>"
      ]
     },
     "metadata": {},
     "output_type": "display_data"
    },
    {
     "data": {
      "text/html": [
       "<pre style=\"white-space:pre;overflow-x:auto;line-height:normal;font-family:Menlo,'DejaVu Sans Mono',consolas,'Courier New',monospace\"><span style=\"color: #7fbfbf\">                    </span><span style=\"color: #008000\">INFO</span>     Animation <span style=\"color: #008000\">15</span> : Partial movie file       <a href=\"file:///usr/local/lib/python3.8/site-packages/manim/scene/scene_file_writer.py\"><span style=\"color: #7f7f7f\">scene_file_writer.py</span></a><span style=\"color: #7f7f7f\">:401</span>\n",
       "                             written in <span style=\"font-weight: bold\">{</span><span style=\"color: #008000\">'/manim/notebooks/media/vid</span>                         \n",
       "                             <span style=\"color: #008000\">eos/notebooks/720p60/partial_movie_file</span>                         \n",
       "                             <span style=\"color: #008000\">s/RowsCombineRows/1952873950_2432241074</span>                         \n",
       "                             <span style=\"color: #008000\">_2978790882.mp4'</span><span style=\"font-weight: bold\">}</span>                                               \n",
       "</pre>\n"
      ],
      "text/plain": [
       "<rich.jupyter.JupyterRenderable at 0x7f31c7863cd0>"
      ]
     },
     "metadata": {},
     "output_type": "display_data"
    },
    {
     "name": "stderr",
     "output_type": "stream",
     "text": [
      "                                                                                                \r"
     ]
    },
    {
     "data": {
      "text/html": [
       "<pre style=\"white-space:pre;overflow-x:auto;line-height:normal;font-family:Menlo,'DejaVu Sans Mono',consolas,'Courier New',monospace\"><span style=\"color: #7fbfbf\">[05/09/21 01:53:03] </span><span style=\"color: #008000\">INFO</span>     Animation <span style=\"color: #008000\">16</span> : Partial movie file       <a href=\"file:///usr/local/lib/python3.8/site-packages/manim/scene/scene_file_writer.py\"><span style=\"color: #7f7f7f\">scene_file_writer.py</span></a><span style=\"color: #7f7f7f\">:401</span>\n",
       "                             written in <span style=\"font-weight: bold\">{</span><span style=\"color: #008000\">'/manim/notebooks/media/vid</span>                         \n",
       "                             <span style=\"color: #008000\">eos/notebooks/720p60/partial_movie_file</span>                         \n",
       "                             <span style=\"color: #008000\">s/RowsCombineRows/1952873950_3695900545</span>                         \n",
       "                             <span style=\"color: #008000\">_4055701301.mp4'</span><span style=\"font-weight: bold\">}</span>                                               \n",
       "</pre>\n"
      ],
      "text/plain": [
       "<rich.jupyter.JupyterRenderable at 0x7f31f15afbe0>"
      ]
     },
     "metadata": {},
     "output_type": "display_data"
    },
    {
     "name": "stderr",
     "output_type": "stream",
     "text": [
      "                                                                                      \r"
     ]
    },
    {
     "data": {
      "text/html": [
       "<pre style=\"white-space:pre;overflow-x:auto;line-height:normal;font-family:Menlo,'DejaVu Sans Mono',consolas,'Courier New',monospace\"><span style=\"color: #7fbfbf\">[05/09/21 01:53:04] </span><span style=\"color: #008000\">INFO</span>     Animation <span style=\"color: #008000\">17</span> : Partial movie file       <a href=\"file:///usr/local/lib/python3.8/site-packages/manim/scene/scene_file_writer.py\"><span style=\"color: #7f7f7f\">scene_file_writer.py</span></a><span style=\"color: #7f7f7f\">:401</span>\n",
       "                             written in <span style=\"font-weight: bold\">{</span><span style=\"color: #008000\">'/manim/notebooks/media/vid</span>                         \n",
       "                             <span style=\"color: #008000\">eos/notebooks/720p60/partial_movie_file</span>                         \n",
       "                             <span style=\"color: #008000\">s/RowsCombineRows/1952873950_411257168_</span>                         \n",
       "                             <span style=\"color: #008000\">1970904415.mp4'</span><span style=\"font-weight: bold\">}</span>                                                \n",
       "</pre>\n"
      ],
      "text/plain": [
       "<rich.jupyter.JupyterRenderable at 0x7f31f1742370>"
      ]
     },
     "metadata": {},
     "output_type": "display_data"
    },
    {
     "data": {
      "text/html": [
       "<pre style=\"white-space:pre;overflow-x:auto;line-height:normal;font-family:Menlo,'DejaVu Sans Mono',consolas,'Courier New',monospace\"><span style=\"color: #7fbfbf\">                    </span><span style=\"color: #008000\">INFO</span>     Animation <span style=\"color: #008000\">18</span> : Partial movie file       <a href=\"file:///usr/local/lib/python3.8/site-packages/manim/scene/scene_file_writer.py\"><span style=\"color: #7f7f7f\">scene_file_writer.py</span></a><span style=\"color: #7f7f7f\">:401</span>\n",
       "                             written in <span style=\"font-weight: bold\">{</span><span style=\"color: #008000\">'/manim/notebooks/media/vid</span>                         \n",
       "                             <span style=\"color: #008000\">eos/notebooks/720p60/partial_movie_file</span>                         \n",
       "                             <span style=\"color: #008000\">s/RowsCombineRows/1952873950_2432241074</span>                         \n",
       "                             <span style=\"color: #008000\">_3310293651.mp4'</span><span style=\"font-weight: bold\">}</span>                                               \n",
       "</pre>\n"
      ],
      "text/plain": [
       "<rich.jupyter.JupyterRenderable at 0x7f31ee9738b0>"
      ]
     },
     "metadata": {},
     "output_type": "display_data"
    },
    {
     "name": "stderr",
     "output_type": "stream",
     "text": [
      "                                                                                               \r"
     ]
    },
    {
     "data": {
      "text/html": [
       "<pre style=\"white-space:pre;overflow-x:auto;line-height:normal;font-family:Menlo,'DejaVu Sans Mono',consolas,'Courier New',monospace\"><span style=\"color: #7fbfbf\">[05/09/21 01:53:05] </span><span style=\"color: #008000\">INFO</span>     Animation <span style=\"color: #008000\">19</span> : Partial movie file       <a href=\"file:///usr/local/lib/python3.8/site-packages/manim/scene/scene_file_writer.py\"><span style=\"color: #7f7f7f\">scene_file_writer.py</span></a><span style=\"color: #7f7f7f\">:401</span>\n",
       "                             written in <span style=\"font-weight: bold\">{</span><span style=\"color: #008000\">'/manim/notebooks/media/vid</span>                         \n",
       "                             <span style=\"color: #008000\">eos/notebooks/720p60/partial_movie_file</span>                         \n",
       "                             <span style=\"color: #008000\">s/RowsCombineRows/1952873950_2950869895</span>                         \n",
       "                             <span style=\"color: #008000\">_2405892630.mp4'</span><span style=\"font-weight: bold\">}</span>                                               \n",
       "</pre>\n"
      ],
      "text/plain": [
       "<rich.jupyter.JupyterRenderable at 0x7f31ee921610>"
      ]
     },
     "metadata": {},
     "output_type": "display_data"
    },
    {
     "name": "stderr",
     "output_type": "stream",
     "text": [
      "                                                                                      \r"
     ]
    },
    {
     "data": {
      "text/html": [
       "<pre style=\"white-space:pre;overflow-x:auto;line-height:normal;font-family:Menlo,'DejaVu Sans Mono',consolas,'Courier New',monospace\"><span style=\"color: #7fbfbf\">[05/09/21 01:53:06] </span><span style=\"color: #008000\">INFO</span>     Animation <span style=\"color: #008000\">20</span> : Partial movie file       <a href=\"file:///usr/local/lib/python3.8/site-packages/manim/scene/scene_file_writer.py\"><span style=\"color: #7f7f7f\">scene_file_writer.py</span></a><span style=\"color: #7f7f7f\">:401</span>\n",
       "                             written in <span style=\"font-weight: bold\">{</span><span style=\"color: #008000\">'/manim/notebooks/media/vid</span>                         \n",
       "                             <span style=\"color: #008000\">eos/notebooks/720p60/partial_movie_file</span>                         \n",
       "                             <span style=\"color: #008000\">s/RowsCombineRows/1952873950_4185326503</span>                         \n",
       "                             <span style=\"color: #008000\">_1746651929.mp4'</span><span style=\"font-weight: bold\">}</span>                                               \n",
       "</pre>\n"
      ],
      "text/plain": [
       "<rich.jupyter.JupyterRenderable at 0x7f31eec0adc0>"
      ]
     },
     "metadata": {},
     "output_type": "display_data"
    },
    {
     "data": {
      "text/html": [
       "<pre style=\"white-space:pre;overflow-x:auto;line-height:normal;font-family:Menlo,'DejaVu Sans Mono',consolas,'Courier New',monospace\"><span style=\"color: #7fbfbf\">                    </span><span style=\"color: #008000\">INFO</span>     Animation <span style=\"color: #008000\">21</span> : Partial movie file       <a href=\"file:///usr/local/lib/python3.8/site-packages/manim/scene/scene_file_writer.py\"><span style=\"color: #7f7f7f\">scene_file_writer.py</span></a><span style=\"color: #7f7f7f\">:401</span>\n",
       "                             written in <span style=\"font-weight: bold\">{</span><span style=\"color: #008000\">'/manim/notebooks/media/vid</span>                         \n",
       "                             <span style=\"color: #008000\">eos/notebooks/720p60/partial_movie_file</span>                         \n",
       "                             <span style=\"color: #008000\">s/RowsCombineRows/1952873950_2432241074</span>                         \n",
       "                             <span style=\"color: #008000\">_3472103910.mp4'</span><span style=\"font-weight: bold\">}</span>                                               \n",
       "</pre>\n"
      ],
      "text/plain": [
       "<rich.jupyter.JupyterRenderable at 0x7f31eed61eb0>"
      ]
     },
     "metadata": {},
     "output_type": "display_data"
    },
    {
     "name": "stderr",
     "output_type": "stream",
     "text": [
      "                                                                                               \r"
     ]
    },
    {
     "data": {
      "text/html": [
       "<pre style=\"white-space:pre;overflow-x:auto;line-height:normal;font-family:Menlo,'DejaVu Sans Mono',consolas,'Courier New',monospace\"><span style=\"color: #7fbfbf\">[05/09/21 01:53:07] </span><span style=\"color: #008000\">INFO</span>     Animation <span style=\"color: #008000\">22</span> : Partial movie file       <a href=\"file:///usr/local/lib/python3.8/site-packages/manim/scene/scene_file_writer.py\"><span style=\"color: #7f7f7f\">scene_file_writer.py</span></a><span style=\"color: #7f7f7f\">:401</span>\n",
       "                             written in <span style=\"font-weight: bold\">{</span><span style=\"color: #008000\">'/manim/notebooks/media/vid</span>                         \n",
       "                             <span style=\"color: #008000\">eos/notebooks/720p60/partial_movie_file</span>                         \n",
       "                             <span style=\"color: #008000\">s/RowsCombineRows/1952873950_1494480927</span>                         \n",
       "                             <span style=\"color: #008000\">_70062726.mp4'</span><span style=\"font-weight: bold\">}</span>                                                 \n",
       "</pre>\n"
      ],
      "text/plain": [
       "<rich.jupyter.JupyterRenderable at 0x7f31eec7f580>"
      ]
     },
     "metadata": {},
     "output_type": "display_data"
    },
    {
     "name": "stderr",
     "output_type": "stream",
     "text": [
      "                                                                                      \r"
     ]
    },
    {
     "data": {
      "text/html": [
       "<pre style=\"white-space:pre;overflow-x:auto;line-height:normal;font-family:Menlo,'DejaVu Sans Mono',consolas,'Courier New',monospace\"><span style=\"color: #7fbfbf\">[05/09/21 01:53:08] </span><span style=\"color: #008000\">INFO</span>     Animation <span style=\"color: #008000\">23</span> : Partial movie file       <a href=\"file:///usr/local/lib/python3.8/site-packages/manim/scene/scene_file_writer.py\"><span style=\"color: #7f7f7f\">scene_file_writer.py</span></a><span style=\"color: #7f7f7f\">:401</span>\n",
       "                             written in <span style=\"font-weight: bold\">{</span><span style=\"color: #008000\">'/manim/notebooks/media/vid</span>                         \n",
       "                             <span style=\"color: #008000\">eos/notebooks/720p60/partial_movie_file</span>                         \n",
       "                             <span style=\"color: #008000\">s/RowsCombineRows/1952873950_3478951232</span>                         \n",
       "                             <span style=\"color: #008000\">_4125513227.mp4'</span><span style=\"font-weight: bold\">}</span>                                               \n",
       "</pre>\n"
      ],
      "text/plain": [
       "<rich.jupyter.JupyterRenderable at 0x7f31d121c4f0>"
      ]
     },
     "metadata": {},
     "output_type": "display_data"
    },
    {
     "data": {
      "text/html": [
       "<pre style=\"white-space:pre;overflow-x:auto;line-height:normal;font-family:Menlo,'DejaVu Sans Mono',consolas,'Courier New',monospace\"><span style=\"color: #7fbfbf\">                    </span><span style=\"color: #008000\">INFO</span>                                             <a href=\"file:///usr/local/lib/python3.8/site-packages/manim/scene/scene_file_writer.py\"><span style=\"color: #7f7f7f\">scene_file_writer.py</span></a><span style=\"color: #7f7f7f\">:585</span>\n",
       "                             <span style=\"color: #808000; font-weight: bold\">File</span> ready at <span style=\"color: #800080\">/manim/notebooks/media/vi</span>                         \n",
       "                             <span style=\"color: #800080\">deos/notebooks/720p60/</span><span style=\"color: #ff00ff\">rows-combine-rows</span>                         \n",
       "                             <span style=\"color: #ff00ff\">.mp4</span>                                                            \n",
       "                                                                                             \n",
       "</pre>\n"
      ],
      "text/plain": [
       "<rich.jupyter.JupyterRenderable at 0x7f31d121cc70>"
      ]
     },
     "metadata": {},
     "output_type": "display_data"
    },
    {
     "data": {
      "text/html": [
       "<pre style=\"white-space:pre;overflow-x:auto;line-height:normal;font-family:Menlo,'DejaVu Sans Mono',consolas,'Courier New',monospace\"><span style=\"color: #7fbfbf\">                    </span><span style=\"color: #008000\">INFO</span>     The partial movie directory is full <span style=\"font-weight: bold\">(</span>&gt;  <a href=\"file:///usr/local/lib/python3.8/site-packages/manim/scene/scene_file_writer.py\"><span style=\"color: #7f7f7f\">scene_file_writer.py</span></a><span style=\"color: #7f7f7f\">:563</span>\n",
       "                             <span style=\"color: #008000\">100</span> files<span style=\"font-weight: bold\">)</span>. Therefore, manim has                                \n",
       "                             removed <span style=\"color: #008000\">23</span> file<span style=\"font-weight: bold\">(</span>s<span style=\"font-weight: bold\">)</span> used by it the                               \n",
       "                             longest ago.You can change this                                 \n",
       "                             behaviour by changing max_files_cached                          \n",
       "                             in config.                                                      \n",
       "</pre>\n"
      ],
      "text/plain": [
       "<rich.jupyter.JupyterRenderable at 0x7f31d121c8e0>"
      ]
     },
     "metadata": {},
     "output_type": "display_data"
    },
    {
     "data": {
      "text/html": [
       "<pre style=\"white-space:pre;overflow-x:auto;line-height:normal;font-family:Menlo,'DejaVu Sans Mono',consolas,'Courier New',monospace\"><span style=\"color: #7fbfbf\">                    </span><span style=\"color: #008000\">INFO</span>     <span style=\"color: #808000; font-weight: bold\">Rendered</span> RowsCombineRows                            <a href=\"file:///usr/local/lib/python3.8/site-packages/manim/scene/scene.py\"><span style=\"color: #7f7f7f\">scene.py</span></a><span style=\"color: #7f7f7f\">:217</span>\n",
       "                             <span style=\"color: #808000; font-weight: bold\">Played</span> <span style=\"color: #008000\">24</span> <span style=\"color: #808000; font-weight: bold\">animations</span>                                            \n",
       "</pre>\n"
      ],
      "text/plain": [
       "<rich.jupyter.JupyterRenderable at 0x7f31d121ca60>"
      ]
     },
     "metadata": {},
     "output_type": "display_data"
    },
    {
     "data": {
      "text/html": [
       "<video src=\"media/jupyter/8f4000695eb667faa82ad37736492e3b1f85a925.mp4\" controls autoplay loop style=\"max-width: 25vw;\"  >\n",
       "      Your browser does not support the <code>video</code> element.\n",
       "    </video>"
      ],
      "text/plain": [
       "<IPython.core.display.Video object>"
      ]
     },
     "metadata": {},
     "output_type": "display_data"
    }
   ],
   "source": [
    "%%manim -qh -r 1280,720 -o rows-combine-rows.mp4 RowsCombineRows\n",
    "\n",
    "\n",
    "def create_bracket(length=4.0, side_length=0.14, open_dir=manim.RIGHT):\n",
    "    obj = manim.VMobject(stroke_color=font_color)\n",
    "    obj.set_points_as_corners([np.array(p) for p in ((0, 0, 0), (side_length, 0, 0), (side_length, length, 0), (0,length, 0))])\n",
    "    if np.array_equal(open_dir, manim.LEFT):\n",
    "        pass\n",
    "    elif np.array_equal(open_dir, manim.RIGHT):\n",
    "        obj.flip(manim.Y_AXIS)\n",
    "    elif np.array_equal(open_dir, manim.UP):\n",
    "        obj.rotate_about_origin(manim.DEGREES*90)\n",
    "    elif np.array_equal(open_dir == manim.DOWN):\n",
    "        obj.flip(manim.Y_AXIS)\n",
    "        obj.rotate_about_origin(manim.DEGREES*90)\n",
    "    else:\n",
    "        raise Exception(f'Unexpected direction: {open_dir}')\n",
    "    return obj\n",
    "\n",
    "\n",
    "# Can't seem to get the svg version to work\n",
    "def create_brace_svg(length=1.0, side_length=0.2, open_dir=manim.RIGHT, stroke_width=0):\n",
    "    path_string_template = f'M0 0L{side_length} 0L{side_length} {length}L{0} {side_length}z'\n",
    "    obj = manim.SVGPathMobject(path_string=path_string_template, \n",
    "                               stroke_width=stroke_width,\n",
    "                               stroke_color=font_color,\n",
    "                               sharpness=2).set_color(font_color)\n",
    "    if np.array_equal(open_dir, manim.LEFT):\n",
    "        pass\n",
    "    elif np.array_equal(open_dir, manim.RIGHT):\n",
    "        obj.flip(manim.X_AXIS)\n",
    "    elif np.array_equal(open_dir, manim.UP):\n",
    "        obj.rotate_about_origin(manim.DEGREES*90)\n",
    "    elif np.array_equal(open_dir == manim.DOWN):\n",
    "        obj.flip(manim.X_AXIS)\n",
    "        obj.rotate_about_origin(manim.DEGREES*90)\n",
    "    else:\n",
    "        raise Exception(f'Unexpected direction: {open_dir}')\n",
    "    return obj\n",
    "\n",
    "\n",
    "\n",
    "\n",
    "class RowsCombineRows(manim.MovingCameraScene):\n",
    "    def __init__(self, *args, **kwargs):\n",
    "        super().__init__(*args, **kwargs)\n",
    "        self.vecs = []\n",
    "        self.res = None\n",
    "        self.factors = []\n",
    "        self.equals = None\n",
    "        self.other_text = [] \n",
    "        \n",
    "    def construct(self):\n",
    "        self.camera.frame_center = manim.ORIGIN + np.array([0.7, -2.5, 0])\n",
    "        self.camera.frame.scale(1.2)        \n",
    "        self.eq_animated()\n",
    "        return\n",
    "\n",
    "        fs = [eq2.m['F']]\n",
    "        ys = [eq2.m['Y']]\n",
    "        # Without partials, it's easy to accidentally not capture a copy of a variable in a lambda.\n",
    "        import functools\n",
    "        def update_y(prev_y, y):\n",
    "            y.next_to(prev_y)\n",
    "            \n",
    "        ys[0].add_updater(lambda o : o.next_to(eq2.m['lb3']))        \n",
    "        for i in range(1, len(mixes)):\n",
    "            ys.append(copy.deepcopy(ys[i-1]).next_to(ys[i-1]))\n",
    "            fs.append(create_num_col(mixes[i]).next_to(fs[i-1]))\n",
    "            ys[i].add_updater(functools.partial(update_y, ys[i-1]))\n",
    "        eq2.m['='].add_updater(lambda o : o.next_to(eq2.m['rb2']))\n",
    "        eq2.m['lb3'].add_updater(lambda o : o.next_to(eq2.m['=']))\n",
    "        current = 0\n",
    "        #eq2.m['rb3'].add_updater(lambda o : o.next_to(ys[current]))\n",
    "        for i in range(1, len(mixes)):\n",
    "            anims = []\n",
    "            # I can't get next_to to work for rb3. So use hacky shift instead.\n",
    "            #self.play(eq2.m['rb3'].animate.next_to(ys[i]))            \n",
    "            self.play(eq2.m['rb2'].animate.next_to(fs[i]),\n",
    "                      eq2.m['rb3'].animate.shift([2.4*scale, 0, 0]))\n",
    "            current = i\n",
    "            anims.append(manim.FadeIn(fs[i]))\n",
    "            anims.append(manim.FadeIn(ys[i]))\n",
    "            self.play(*anims)\n",
    "            self.wait(0.5)\n",
    "        self.wait(1)\n",
    "        \n",
    "        # Part 2.\n",
    "        to_nums_anim = []\n",
    "        to_blocks_anim = []\n",
    "        y = mixes @ X_in\n",
    "        block_num_pairs = list(zip([eq2.m['X0'], eq2.m['X1'], eq2.m['X2']], X_in)) + list(zip(ys, y))\n",
    "        for c,nums in block_num_pairs:\n",
    "            for block, n in zip(reversed(c), nums):\n",
    "                manim_int = manim.Integer(n, color=font_color).move_to(block)\n",
    "                to_nums_anim.append(manim.FadeIn(manim_int))\n",
    "                to_nums_anim.append(manim.FadeOut(block))\n",
    "                to_blocks_anim.append(manim.FadeOut(manim_int))\n",
    "                to_blocks_anim.append(manim.FadeIn(block))\n",
    "        self.play(*to_nums_anim)      \n",
    "        self.wait(1.3)\n",
    "        self.play(*to_blocks_anim)\n",
    "        self.wait(1.3)\n",
    "        self.play(*to_nums_anim)\n",
    "        self.wait(1.3)\n",
    "        self.play(*to_blocks_anim)\n",
    "        self.wait(1)\n",
    "   \n",
    "    def create_num_row(self, v):\n",
    "        return manim.Group(*(manim.Integer(i, color=font_color) for i in v)).arrange(direction=manim.X_AXIS, buff= 0.5)\n",
    "\n",
    "    def eq_animated(self):\n",
    "        xs = manim.Group()\n",
    "        x_vecs = [create_2d_vec(num_input_boxes, manim.X_AXIS, colors[i]) for i in range(len(mix))] \n",
    "        xs.add(*reversed(x_vecs))\n",
    "        xs.arrange(direction=manim.Y_AXIS)        \n",
    "        xs.move_to(manim.ORIGIN)\n",
    "        lb_x = manim.MathTex(r'\\big[', color=font_color).scale(3).stretch_to_fit_height(xs.height + 0.4).next_to(xs, manim.LEFT)\n",
    "        rb_x = manim.MathTex(r'\\big]', color=font_color).scale(3).stretch_to_fit_height(lb_x.height) .next_to(xs, manim.RIGHT)\n",
    "        lb_x = create_bracket(xs.height + 0.4, open_dir=manim.RIGHT).next_to(xs, manim.LEFT)\n",
    "        rb_x = create_bracket(xs.height + 0.4, open_dir=manim.LEFT).next_to(xs, manim.RIGHT)\n",
    "        equality = manim.MathTex('=', color=font_color).next_to(rb_x, manim.RIGHT)\n",
    "        self.add(xs, lb_x, rb_x, equality)\n",
    "        ys = [create_2d_vec(num_input_boxes, manim.X_AXIS, result_color)]\n",
    "        fs = [self.create_num_row(mixes[0])]\n",
    "        f_buff = np.array([-2, 0, 0])\n",
    "        y_buff = np.array([3, 0, 0])\n",
    "        fs[0].move_to(x_vecs[0].get_critical_point([-1, 0, 0]) + f_buff)\n",
    "        ys[0].move_to(x_vecs[0].get_critical_point([1, 0, 0]) + y_buff)        \n",
    "        self.add(ys[0], fs[0])\n",
    "\n",
    "        def bracket_height():\n",
    "            return ys[0].get_critical_point([0, 1, 0])[1] - ys[-1].get_critical_point([0, -1, 0])[1] + bracket_margin\n",
    "        bracket_margin = 0.4\n",
    "        #lb_f = manim.MathTex(r'\\big[', color=font_color).scale(2).stretch_to_fit_height(ys[0].height + bracket_margin).next_to(fs[0], manim.LEFT)\n",
    "        lb_f = create_brace(bracket_height()).next_to(fs[0], manim.LEFT)\n",
    "        rb_f = create_brace(bracket_height(), open_dir=manim.LEFT).next_to(fs[0], manim.RIGHT)\n",
    "        lb_y = create_brace(bracket_height()).next_to(ys[0], manim.LEFT)\n",
    "        rb_y = create_brace(bracket_height(), open_dir=manim.LEFT).next_to(ys[0], manim.RIGHT)\n",
    "        self.add(lb_f, rb_f, lb_y, rb_y)\n",
    "        \n",
    "        cur = 0\n",
    "        bracket_incr = 0.7\n",
    "        for i in range(1, len(mixes)):\n",
    "            cur += 1\n",
    "            self.wait(1)\n",
    "            y_pos = ys[-1].get_critical_point(np.array([0, -1, 0]))\n",
    "            f_pos = fs[-1].get_critical_point(np.array([0, -1, 0]))\n",
    "            buff = np.array([0, -0.5, 0])\n",
    "            new_y_pos = y_pos + buff\n",
    "            ys.append(create_2d_vec(num_input_boxes, manim.X_AXIS, result_color).move_to(new_y_pos))\n",
    "            new_f_pos = np.array([f_pos[0], new_y_pos[1], 0])\n",
    "            fs.append(self.create_num_row(mixes[i]).move_to(new_f_pos))\n",
    "            self.play(*[\n",
    "                lb_f.animate.become(create_brace(bracket_height(), open_dir=manim.RIGHT).align_to(lb_f, direction=[-1,1, 0])),\n",
    "                rb_f.animate.become(create_brace(bracket_height(), open_dir=manim.LEFT ).align_to(rb_f, direction=[-1,1, 0])),\n",
    "                lb_y.animate.become(create_brace(bracket_height(), open_dir=manim.RIGHT).align_to(lb_y, direction=[-1,1, 0])),\n",
    "                rb_y.animate.become(create_brace(bracket_height(), open_dir=manim.LEFT ).align_to(rb_y, direction=[-1,1, 0])),\n",
    "            \n",
    "            ])\n",
    "            self.play(*[manim.FadeIn(ys[-1]), manim.FadeIn(fs[-1])])\n",
    "\n",
    "    def eq(self):\n",
    "        xs = manim.Group()\n",
    "        ys = manim.Group()  \n",
    "        fs = manim.Group()        \n",
    "        xs.add(*[create_2d_vec(num_input_boxes, manim.X_AXIS, colors[i]) for i in range(len(mix))])\n",
    "        ys.add(*[create_2d_vec(num_input_boxes, manim.X_AXIS, result_color) for i in range(len(mixes))])\n",
    "        fs.add(*[self.create_num_row(r) for r in mixes])\n",
    "        xs.arrange(direction=manim.Y_AXIS)        \n",
    "        ys.arrange(direction=manim.Y_AXIS)          \n",
    "        fs.arrange(direction=manim.Y_AXIS)\n",
    "        lb_tall = manim.MathTex(r'\\big[', color=font_color).scale(2).stretch_to_fit_height(fs.height + 0.4)\n",
    "        rb_tall = manim.MathTex(r'\\big]', color=font_color).scale(2).stretch_to_fit_height(lb_tall.height)        \n",
    "        lb_short = manim.MathTex(r'\\big[', color=font_color).scale(2).stretch_to_fit_height(xs.height + 0.4)\n",
    "        rb_short = manim.MathTex(r'\\big]', color=font_color).scale(2).stretch_to_fit_height(lb_short.height)         \n",
    "        eq = TargetObject(OrderedDict({\n",
    "                    #manim.IntegerMatrix([[mix[0]], [mix[1]], [mix[2]]]).set_color(font_color),\n",
    "                    'lb1' : lb_tall.copy(),\n",
    "                    'F'   : fs,\n",
    "                    'rb1' : rb_tall.copy(),\n",
    "                    'lb2' : lb_short.copy(),\n",
    "                    'X'   : xs,            \n",
    "                    'rb2' : rb_short.copy(),             \n",
    "                    '='   : manim.MathTex('=', color=font_color),\n",
    "                    'lb3' : lb_tall.copy(),\n",
    "                    'Y'   : ys,\n",
    "                    'rb3' : rb_tall.copy()}))\n",
    "        # Maintain position of equals sign.\n",
    "        def stretch_to_y_height(o):\n",
    "            pass#o.stretch_to_fit_height(eq.m['Y'].height + 0.4)\n",
    "        \n",
    "        def stretch_to_f_height(o):\n",
    "            pass#o.stretch_to_fit_height(eq.m['F'].height + 0.4)\n",
    "            \n",
    "        eq.m['lb1'].add_updater(stretch_to_f_height)\n",
    "        eq.m['rb1'].add_updater(stretch_to_f_height)\n",
    "        eq.m['lb3'].add_updater(stretch_to_y_height)\n",
    "        eq.m['rb3'].add_updater(stretch_to_y_height)\n",
    "        eq.obj.arrange(direction=manim.X_AXIS)\n",
    "        anims = []\n",
    "        return eq\n",
    "    \n",
    "    def eq1(self):\n",
    "        eq = manim.Mobject()\n",
    "        spacing = 4.3 * scale\n",
    "        offsets = np.array([1, 0.3, 0.3, 0.5, 1.15]) * scale\n",
    "        \n",
    "        for i in range(len(mix)):\n",
    "            vec = create_2d_vec(num_input_boxes, manim.Y_AXIS, colors[i])\n",
    "            vec_pos = spacing * (-len(mix) + i) + offsets[0]\n",
    "            vec.move_to([vec_pos, 0, 0])\n",
    "            mult = manim.Tex('$\\\\times$', color=font_color)\n",
    "            mult.next_to(vec, buff=offsets[1])\n",
    "            factor = manim.Tex(f'${mix[i]}$', color=font_color)\n",
    "            factor.next_to(mult, buff=offsets[2])\n",
    "            if(i < len(mix) - 1):\n",
    "                plus = manim.Tex('$+$', color=font_color)\n",
    "                plus.next_to(factor, buff=offsets[3])\n",
    "            self.vecs.append(vec)\n",
    "            self.factors.append(factor)\n",
    "            self.other_text.extend([mult, plus])\n",
    "            eq.add(vec, factor, mult, plus)\n",
    "        self.equals = manim.Tex('=', color=font_color)\n",
    "        self.equals.move_to([0, 0, 0])\n",
    "        self.res = create_2d_vec(num_input_boxes, manim.Y_AXIS, result_color)\n",
    "        self.res.next_to(self.equals, buff=offsets[4])\n",
    "        eq.add(self.equals, self.res)\n",
    "        eq.add(self.equals)\n",
    "        return eq        "
   ]
  },
  {
   "cell_type": "code",
   "execution_count": 21,
   "id": "3c6fc136-118c-4ae2-9868-fd98abca7e47",
   "metadata": {},
   "outputs": [
    {
     "name": "stderr",
     "output_type": "stream",
     "text": [
      "                                                                                                             \r"
     ]
    },
    {
     "data": {
      "text/html": [
       "<pre style=\"white-space:pre;overflow-x:auto;line-height:normal;font-family:Menlo,'DejaVu Sans Mono',consolas,'Courier New',monospace\"><span style=\"color: #7fbfbf\">[05/09/21 03:58:22] </span><span style=\"color: #008000\">INFO</span>     Animation <span style=\"color: #008000\">0</span> : Partial movie file        <a href=\"file:///usr/local/lib/python3.8/site-packages/manim/scene/scene_file_writer.py\"><span style=\"color: #7f7f7f\">scene_file_writer.py</span></a><span style=\"color: #7f7f7f\">:401</span>\n",
       "                             written in <span style=\"font-weight: bold\">{</span><span style=\"color: #008000\">'/manim/notebooks/media/vid</span>                         \n",
       "                             <span style=\"color: #008000\">eos/notebooks/720p15/partial_movie_file</span>                         \n",
       "                             <span style=\"color: #008000\">s/CRecipe/1522890637_3397370190_3115538</span>                         \n",
       "                             <span style=\"color: #008000\">456.mp4'</span><span style=\"font-weight: bold\">}</span>                                                       \n",
       "</pre>\n"
      ],
      "text/plain": [
       "<rich.jupyter.JupyterRenderable at 0x7f2590b8d4c0>"
      ]
     },
     "metadata": {},
     "output_type": "display_data"
    },
    {
     "name": "stderr",
     "output_type": "stream",
     "text": [
      "                                                                                                             \r"
     ]
    },
    {
     "data": {
      "text/html": [
       "<pre style=\"white-space:pre;overflow-x:auto;line-height:normal;font-family:Menlo,'DejaVu Sans Mono',consolas,'Courier New',monospace\"><span style=\"color: #7fbfbf\">[05/09/21 03:58:25] </span><span style=\"color: #008000\">INFO</span>     Animation <span style=\"color: #008000\">1</span> : Partial movie file        <a href=\"file:///usr/local/lib/python3.8/site-packages/manim/scene/scene_file_writer.py\"><span style=\"color: #7f7f7f\">scene_file_writer.py</span></a><span style=\"color: #7f7f7f\">:401</span>\n",
       "                             written in <span style=\"font-weight: bold\">{</span><span style=\"color: #008000\">'/manim/notebooks/media/vid</span>                         \n",
       "                             <span style=\"color: #008000\">eos/notebooks/720p15/partial_movie_file</span>                         \n",
       "                             <span style=\"color: #008000\">s/CRecipe/57331516_1451514841_230145418</span>                         \n",
       "                             <span style=\"color: #008000\">1.mp4'</span><span style=\"font-weight: bold\">}</span>                                                         \n",
       "</pre>\n"
      ],
      "text/plain": [
       "<rich.jupyter.JupyterRenderable at 0x7f2590efdb20>"
      ]
     },
     "metadata": {},
     "output_type": "display_data"
    },
    {
     "data": {
      "text/html": [
       "<pre style=\"white-space:pre;overflow-x:auto;line-height:normal;font-family:Menlo,'DejaVu Sans Mono',consolas,'Courier New',monospace\"><span style=\"color: #7fbfbf\">                    </span><span style=\"color: #008000\">INFO</span>     Animation <span style=\"color: #008000\">2</span> : Partial movie file        <a href=\"file:///usr/local/lib/python3.8/site-packages/manim/scene/scene_file_writer.py\"><span style=\"color: #7f7f7f\">scene_file_writer.py</span></a><span style=\"color: #7f7f7f\">:401</span>\n",
       "                             written in <span style=\"font-weight: bold\">{</span><span style=\"color: #008000\">'/manim/notebooks/media/vid</span>                         \n",
       "                             <span style=\"color: #008000\">eos/notebooks/720p15/partial_movie_file</span>                         \n",
       "                             <span style=\"color: #008000\">s/CRecipe/57331516_2763922376_202780754</span>                         \n",
       "                             <span style=\"color: #008000\">4.mp4'</span><span style=\"font-weight: bold\">}</span>                                                         \n",
       "</pre>\n"
      ],
      "text/plain": [
       "<rich.jupyter.JupyterRenderable at 0x7f258e69a160>"
      ]
     },
     "metadata": {},
     "output_type": "display_data"
    },
    {
     "name": "stderr",
     "output_type": "stream",
     "text": [
      "                                                                                                               \r"
     ]
    },
    {
     "data": {
      "text/html": [
       "<pre style=\"white-space:pre;overflow-x:auto;line-height:normal;font-family:Menlo,'DejaVu Sans Mono',consolas,'Courier New',monospace\"><span style=\"color: #7fbfbf\">[05/09/21 03:58:26] </span><span style=\"color: #008000\">INFO</span>     Animation <span style=\"color: #008000\">3</span> : Partial movie file        <a href=\"file:///usr/local/lib/python3.8/site-packages/manim/scene/scene_file_writer.py\"><span style=\"color: #7f7f7f\">scene_file_writer.py</span></a><span style=\"color: #7f7f7f\">:401</span>\n",
       "                             written in <span style=\"font-weight: bold\">{</span><span style=\"color: #008000\">'/manim/notebooks/media/vid</span>                         \n",
       "                             <span style=\"color: #008000\">eos/notebooks/720p15/partial_movie_file</span>                         \n",
       "                             <span style=\"color: #008000\">s/CRecipe/57331516_985155644_3866386060</span>                         \n",
       "                             <span style=\"color: #008000\">.mp4'</span><span style=\"font-weight: bold\">}</span>                                                          \n",
       "</pre>\n"
      ],
      "text/plain": [
       "<rich.jupyter.JupyterRenderable at 0x7f2590c5f070>"
      ]
     },
     "metadata": {},
     "output_type": "display_data"
    },
    {
     "name": "stderr",
     "output_type": "stream",
     "text": [
      "                                                                                                             \r"
     ]
    },
    {
     "data": {
      "text/html": [
       "<pre style=\"white-space:pre;overflow-x:auto;line-height:normal;font-family:Menlo,'DejaVu Sans Mono',consolas,'Courier New',monospace\"><span style=\"color: #7fbfbf\">[05/09/21 03:58:28] </span><span style=\"color: #008000\">INFO</span>     Animation <span style=\"color: #008000\">4</span> : Partial movie file        <a href=\"file:///usr/local/lib/python3.8/site-packages/manim/scene/scene_file_writer.py\"><span style=\"color: #7f7f7f\">scene_file_writer.py</span></a><span style=\"color: #7f7f7f\">:401</span>\n",
       "                             written in <span style=\"font-weight: bold\">{</span><span style=\"color: #008000\">'/manim/notebooks/media/vid</span>                         \n",
       "                             <span style=\"color: #008000\">eos/notebooks/720p15/partial_movie_file</span>                         \n",
       "                             <span style=\"color: #008000\">s/CRecipe/57331516_629326009_1476406426</span>                         \n",
       "                             <span style=\"color: #008000\">.mp4'</span><span style=\"font-weight: bold\">}</span>                                                          \n",
       "</pre>\n"
      ],
      "text/plain": [
       "<rich.jupyter.JupyterRenderable at 0x7f2590b5c190>"
      ]
     },
     "metadata": {},
     "output_type": "display_data"
    },
    {
     "name": "stderr",
     "output_type": "stream",
     "text": [
      "                                                                                                             \r"
     ]
    },
    {
     "data": {
      "text/html": [
       "<pre style=\"white-space:pre;overflow-x:auto;line-height:normal;font-family:Menlo,'DejaVu Sans Mono',consolas,'Courier New',monospace\"><span style=\"color: #7fbfbf\">[05/09/21 03:58:29] </span><span style=\"color: #008000\">INFO</span>     Animation <span style=\"color: #008000\">5</span> : Partial movie file        <a href=\"file:///usr/local/lib/python3.8/site-packages/manim/scene/scene_file_writer.py\"><span style=\"color: #7f7f7f\">scene_file_writer.py</span></a><span style=\"color: #7f7f7f\">:401</span>\n",
       "                             written in <span style=\"font-weight: bold\">{</span><span style=\"color: #008000\">'/manim/notebooks/media/vid</span>                         \n",
       "                             <span style=\"color: #008000\">eos/notebooks/720p15/partial_movie_file</span>                         \n",
       "                             <span style=\"color: #008000\">s/CRecipe/57331516_3611511019_31611705.</span>                         \n",
       "                             <span style=\"color: #008000\">mp4'</span><span style=\"font-weight: bold\">}</span>                                                           \n",
       "</pre>\n"
      ],
      "text/plain": [
       "<rich.jupyter.JupyterRenderable at 0x7f2590f77040>"
      ]
     },
     "metadata": {},
     "output_type": "display_data"
    },
    {
     "data": {
      "text/html": [
       "<pre style=\"white-space:pre;overflow-x:auto;line-height:normal;font-family:Menlo,'DejaVu Sans Mono',consolas,'Courier New',monospace\"><span style=\"color: #7fbfbf\">[05/09/21 03:58:30] </span><span style=\"color: #008000\">INFO</span>     Animation <span style=\"color: #008000\">6</span> : Partial movie file        <a href=\"file:///usr/local/lib/python3.8/site-packages/manim/scene/scene_file_writer.py\"><span style=\"color: #7f7f7f\">scene_file_writer.py</span></a><span style=\"color: #7f7f7f\">:401</span>\n",
       "                             written in <span style=\"font-weight: bold\">{</span><span style=\"color: #008000\">'/manim/notebooks/media/vid</span>                         \n",
       "                             <span style=\"color: #008000\">eos/notebooks/720p15/partial_movie_file</span>                         \n",
       "                             <span style=\"color: #008000\">s/CRecipe/57331516_2763922376_344477605</span>                         \n",
       "                             <span style=\"color: #008000\">8.mp4'</span><span style=\"font-weight: bold\">}</span>                                                         \n",
       "</pre>\n"
      ],
      "text/plain": [
       "<rich.jupyter.JupyterRenderable at 0x7f2574715970>"
      ]
     },
     "metadata": {},
     "output_type": "display_data"
    },
    {
     "name": "stderr",
     "output_type": "stream",
     "text": [
      "                                                                                                               \r"
     ]
    },
    {
     "data": {
      "text/html": [
       "<pre style=\"white-space:pre;overflow-x:auto;line-height:normal;font-family:Menlo,'DejaVu Sans Mono',consolas,'Courier New',monospace\"><span style=\"color: #7fbfbf\">[05/09/21 03:58:31] </span><span style=\"color: #008000\">INFO</span>     Animation <span style=\"color: #008000\">7</span> : Partial movie file        <a href=\"file:///usr/local/lib/python3.8/site-packages/manim/scene/scene_file_writer.py\"><span style=\"color: #7f7f7f\">scene_file_writer.py</span></a><span style=\"color: #7f7f7f\">:401</span>\n",
       "                             written in <span style=\"font-weight: bold\">{</span><span style=\"color: #008000\">'/manim/notebooks/media/vid</span>                         \n",
       "                             <span style=\"color: #008000\">eos/notebooks/720p15/partial_movie_file</span>                         \n",
       "                             <span style=\"color: #008000\">s/CRecipe/57331516_1641766103_143502064</span>                         \n",
       "                             <span style=\"color: #008000\">9.mp4'</span><span style=\"font-weight: bold\">}</span>                                                         \n",
       "</pre>\n"
      ],
      "text/plain": [
       "<rich.jupyter.JupyterRenderable at 0x7f2590d0b670>"
      ]
     },
     "metadata": {},
     "output_type": "display_data"
    },
    {
     "name": "stderr",
     "output_type": "stream",
     "text": [
      "                                                                                                             \r"
     ]
    },
    {
     "data": {
      "text/html": [
       "<pre style=\"white-space:pre;overflow-x:auto;line-height:normal;font-family:Menlo,'DejaVu Sans Mono',consolas,'Courier New',monospace\"><span style=\"color: #7fbfbf\">[05/09/21 03:58:34] </span><span style=\"color: #008000\">INFO</span>     Animation <span style=\"color: #008000\">8</span> : Partial movie file        <a href=\"file:///usr/local/lib/python3.8/site-packages/manim/scene/scene_file_writer.py\"><span style=\"color: #7f7f7f\">scene_file_writer.py</span></a><span style=\"color: #7f7f7f\">:401</span>\n",
       "                             written in <span style=\"font-weight: bold\">{</span><span style=\"color: #008000\">'/manim/notebooks/media/vid</span>                         \n",
       "                             <span style=\"color: #008000\">eos/notebooks/720p15/partial_movie_file</span>                         \n",
       "                             <span style=\"color: #008000\">s/CRecipe/57331516_1852348954_774412968</span>                         \n",
       "                             <span style=\"color: #008000\">.mp4'</span><span style=\"font-weight: bold\">}</span>                                                          \n",
       "</pre>\n"
      ],
      "text/plain": [
       "<rich.jupyter.JupyterRenderable at 0x7f25747f0190>"
      ]
     },
     "metadata": {},
     "output_type": "display_data"
    },
    {
     "name": "stderr",
     "output_type": "stream",
     "text": [
      "                                                                                                             \r"
     ]
    },
    {
     "data": {
      "text/html": [
       "<pre style=\"white-space:pre;overflow-x:auto;line-height:normal;font-family:Menlo,'DejaVu Sans Mono',consolas,'Courier New',monospace\"><span style=\"color: #7fbfbf\">[05/09/21 03:58:36] </span><span style=\"color: #008000\">INFO</span>     Animation <span style=\"color: #008000\">9</span> : Partial movie file        <a href=\"file:///usr/local/lib/python3.8/site-packages/manim/scene/scene_file_writer.py\"><span style=\"color: #7f7f7f\">scene_file_writer.py</span></a><span style=\"color: #7f7f7f\">:401</span>\n",
       "                             written in <span style=\"font-weight: bold\">{</span><span style=\"color: #008000\">'/manim/notebooks/media/vid</span>                         \n",
       "                             <span style=\"color: #008000\">eos/notebooks/720p15/partial_movie_file</span>                         \n",
       "                             <span style=\"color: #008000\">s/CRecipe/57331516_2728791827_8646881.m</span>                         \n",
       "                             <span style=\"color: #008000\">p4'</span><span style=\"font-weight: bold\">}</span>                                                            \n",
       "</pre>\n"
      ],
      "text/plain": [
       "<rich.jupyter.JupyterRenderable at 0x7f2590ff1ee0>"
      ]
     },
     "metadata": {},
     "output_type": "display_data"
    },
    {
     "data": {
      "text/html": [
       "<pre style=\"white-space:pre;overflow-x:auto;line-height:normal;font-family:Menlo,'DejaVu Sans Mono',consolas,'Courier New',monospace\"><span style=\"color: #7fbfbf\">                    </span><span style=\"color: #008000\">INFO</span>     Animation <span style=\"color: #008000\">10</span> : Partial movie file       <a href=\"file:///usr/local/lib/python3.8/site-packages/manim/scene/scene_file_writer.py\"><span style=\"color: #7f7f7f\">scene_file_writer.py</span></a><span style=\"color: #7f7f7f\">:401</span>\n",
       "                             written in <span style=\"font-weight: bold\">{</span><span style=\"color: #008000\">'/manim/notebooks/media/vid</span>                         \n",
       "                             <span style=\"color: #008000\">eos/notebooks/720p15/partial_movie_file</span>                         \n",
       "                             <span style=\"color: #008000\">s/CRecipe/57331516_2763922376_421656709</span>                         \n",
       "                             <span style=\"color: #008000\">1.mp4'</span><span style=\"font-weight: bold\">}</span>                                                         \n",
       "</pre>\n"
      ],
      "text/plain": [
       "<rich.jupyter.JupyterRenderable at 0x7f2590c6cb80>"
      ]
     },
     "metadata": {},
     "output_type": "display_data"
    },
    {
     "name": "stderr",
     "output_type": "stream",
     "text": [
      "                                                                                                                \r"
     ]
    },
    {
     "data": {
      "text/html": [
       "<pre style=\"white-space:pre;overflow-x:auto;line-height:normal;font-family:Menlo,'DejaVu Sans Mono',consolas,'Courier New',monospace\"><span style=\"color: #7fbfbf\">[05/09/21 03:58:37] </span><span style=\"color: #008000\">INFO</span>     Animation <span style=\"color: #008000\">11</span> : Partial movie file       <a href=\"file:///usr/local/lib/python3.8/site-packages/manim/scene/scene_file_writer.py\"><span style=\"color: #7f7f7f\">scene_file_writer.py</span></a><span style=\"color: #7f7f7f\">:401</span>\n",
       "                             written in <span style=\"font-weight: bold\">{</span><span style=\"color: #008000\">'/manim/notebooks/media/vid</span>                         \n",
       "                             <span style=\"color: #008000\">eos/notebooks/720p15/partial_movie_file</span>                         \n",
       "                             <span style=\"color: #008000\">s/CRecipe/57331516_3848762285_356801999</span>                         \n",
       "                             <span style=\"color: #008000\">1.mp4'</span><span style=\"font-weight: bold\">}</span>                                                         \n",
       "</pre>\n"
      ],
      "text/plain": [
       "<rich.jupyter.JupyterRenderable at 0x7f2590caa850>"
      ]
     },
     "metadata": {},
     "output_type": "display_data"
    },
    {
     "name": "stderr",
     "output_type": "stream",
     "text": [
      "                                                                                                        \r"
     ]
    },
    {
     "data": {
      "text/html": [
       "<pre style=\"white-space:pre;overflow-x:auto;line-height:normal;font-family:Menlo,'DejaVu Sans Mono',consolas,'Courier New',monospace\"><span style=\"color: #7fbfbf\">[05/09/21 03:58:39] </span><span style=\"color: #008000\">INFO</span>     Animation <span style=\"color: #008000\">12</span> : Partial movie file       <a href=\"file:///usr/local/lib/python3.8/site-packages/manim/scene/scene_file_writer.py\"><span style=\"color: #7f7f7f\">scene_file_writer.py</span></a><span style=\"color: #7f7f7f\">:401</span>\n",
       "                             written in <span style=\"font-weight: bold\">{</span><span style=\"color: #008000\">'/manim/notebooks/media/vid</span>                         \n",
       "                             <span style=\"color: #008000\">eos/notebooks/720p15/partial_movie_file</span>                         \n",
       "                             <span style=\"color: #008000\">s/CRecipe/57331516_2619323005_154316459</span>                         \n",
       "                             <span style=\"color: #008000\">1.mp4'</span><span style=\"font-weight: bold\">}</span>                                                         \n",
       "</pre>\n"
      ],
      "text/plain": [
       "<rich.jupyter.JupyterRenderable at 0x7f2590cb4610>"
      ]
     },
     "metadata": {},
     "output_type": "display_data"
    },
    {
     "name": "stderr",
     "output_type": "stream",
     "text": [
      "                                                                                                        \r"
     ]
    },
    {
     "data": {
      "text/html": [
       "<pre style=\"white-space:pre;overflow-x:auto;line-height:normal;font-family:Menlo,'DejaVu Sans Mono',consolas,'Courier New',monospace\"><span style=\"color: #7fbfbf\">[05/09/21 03:58:40] </span><span style=\"color: #008000\">INFO</span>     Animation <span style=\"color: #008000\">13</span> : Partial movie file       <a href=\"file:///usr/local/lib/python3.8/site-packages/manim/scene/scene_file_writer.py\"><span style=\"color: #7f7f7f\">scene_file_writer.py</span></a><span style=\"color: #7f7f7f\">:401</span>\n",
       "                             written in <span style=\"font-weight: bold\">{</span><span style=\"color: #008000\">'/manim/notebooks/media/vid</span>                         \n",
       "                             <span style=\"color: #008000\">eos/notebooks/720p15/partial_movie_file</span>                         \n",
       "                             <span style=\"color: #008000\">s/CRecipe/57331516_1005468732_425883029</span>                         \n",
       "                             <span style=\"color: #008000\">3.mp4'</span><span style=\"font-weight: bold\">}</span>                                                         \n",
       "</pre>\n"
      ],
      "text/plain": [
       "<rich.jupyter.JupyterRenderable at 0x7f2590b6a8b0>"
      ]
     },
     "metadata": {},
     "output_type": "display_data"
    },
    {
     "data": {
      "text/html": [
       "<pre style=\"white-space:pre;overflow-x:auto;line-height:normal;font-family:Menlo,'DejaVu Sans Mono',consolas,'Courier New',monospace\"><span style=\"color: #7fbfbf\">                    </span><span style=\"color: #008000\">INFO</span>     Animation <span style=\"color: #008000\">14</span> : Partial movie file       <a href=\"file:///usr/local/lib/python3.8/site-packages/manim/scene/scene_file_writer.py\"><span style=\"color: #7f7f7f\">scene_file_writer.py</span></a><span style=\"color: #7f7f7f\">:401</span>\n",
       "                             written in <span style=\"font-weight: bold\">{</span><span style=\"color: #008000\">'/manim/notebooks/media/vid</span>                         \n",
       "                             <span style=\"color: #008000\">eos/notebooks/720p15/partial_movie_file</span>                         \n",
       "                             <span style=\"color: #008000\">s/CRecipe/57331516_2763922376_217510230</span>                         \n",
       "                             <span style=\"color: #008000\">.mp4'</span><span style=\"font-weight: bold\">}</span>                                                          \n",
       "</pre>\n"
      ],
      "text/plain": [
       "<rich.jupyter.JupyterRenderable at 0x7f2590f9d3a0>"
      ]
     },
     "metadata": {},
     "output_type": "display_data"
    },
    {
     "name": "stderr",
     "output_type": "stream",
     "text": [
      "                                                                                                                \r"
     ]
    },
    {
     "data": {
      "text/html": [
       "<pre style=\"white-space:pre;overflow-x:auto;line-height:normal;font-family:Menlo,'DejaVu Sans Mono',consolas,'Courier New',monospace\"><span style=\"color: #7fbfbf\">[05/09/21 03:58:42] </span><span style=\"color: #008000\">INFO</span>     Animation <span style=\"color: #008000\">15</span> : Partial movie file       <a href=\"file:///usr/local/lib/python3.8/site-packages/manim/scene/scene_file_writer.py\"><span style=\"color: #7f7f7f\">scene_file_writer.py</span></a><span style=\"color: #7f7f7f\">:401</span>\n",
       "                             written in <span style=\"font-weight: bold\">{</span><span style=\"color: #008000\">'/manim/notebooks/media/vid</span>                         \n",
       "                             <span style=\"color: #008000\">eos/notebooks/720p15/partial_movie_file</span>                         \n",
       "                             <span style=\"color: #008000\">s/CRecipe/57331516_1479723784_124741897</span>                         \n",
       "                             <span style=\"color: #008000\">9.mp4'</span><span style=\"font-weight: bold\">}</span>                                                         \n",
       "</pre>\n"
      ],
      "text/plain": [
       "<rich.jupyter.JupyterRenderable at 0x7f2568cb2e50>"
      ]
     },
     "metadata": {},
     "output_type": "display_data"
    },
    {
     "name": "stderr",
     "output_type": "stream",
     "text": [
      "                                                                                                              \r"
     ]
    },
    {
     "data": {
      "text/html": [
       "<pre style=\"white-space:pre;overflow-x:auto;line-height:normal;font-family:Menlo,'DejaVu Sans Mono',consolas,'Courier New',monospace\"><span style=\"color: #7fbfbf\">[05/09/21 03:58:44] </span><span style=\"color: #008000\">INFO</span>     Animation <span style=\"color: #008000\">16</span> : Partial movie file       <a href=\"file:///usr/local/lib/python3.8/site-packages/manim/scene/scene_file_writer.py\"><span style=\"color: #7f7f7f\">scene_file_writer.py</span></a><span style=\"color: #7f7f7f\">:401</span>\n",
       "                             written in <span style=\"font-weight: bold\">{</span><span style=\"color: #008000\">'/manim/notebooks/media/vid</span>                         \n",
       "                             <span style=\"color: #008000\">eos/notebooks/720p15/partial_movie_file</span>                         \n",
       "                             <span style=\"color: #008000\">s/CRecipe/57331516_2121533137_238247825</span>                         \n",
       "                             <span style=\"color: #008000\">3.mp4'</span><span style=\"font-weight: bold\">}</span>                                                         \n",
       "</pre>\n"
      ],
      "text/plain": [
       "<rich.jupyter.JupyterRenderable at 0x7f2590f05760>"
      ]
     },
     "metadata": {},
     "output_type": "display_data"
    },
    {
     "name": "stderr",
     "output_type": "stream",
     "text": [
      "                                                                                                              \r"
     ]
    },
    {
     "data": {
      "text/html": [
       "<pre style=\"white-space:pre;overflow-x:auto;line-height:normal;font-family:Menlo,'DejaVu Sans Mono',consolas,'Courier New',monospace\"><span style=\"color: #7fbfbf\">[05/09/21 03:58:46] </span><span style=\"color: #008000\">INFO</span>     Animation <span style=\"color: #008000\">17</span> : Partial movie file       <a href=\"file:///usr/local/lib/python3.8/site-packages/manim/scene/scene_file_writer.py\"><span style=\"color: #7f7f7f\">scene_file_writer.py</span></a><span style=\"color: #7f7f7f\">:401</span>\n",
       "                             written in <span style=\"font-weight: bold\">{</span><span style=\"color: #008000\">'/manim/notebooks/media/vid</span>                         \n",
       "                             <span style=\"color: #008000\">eos/notebooks/720p15/partial_movie_file</span>                         \n",
       "                             <span style=\"color: #008000\">s/CRecipe/57331516_2213973139_375272105</span>                         \n",
       "                             <span style=\"color: #008000\">3.mp4'</span><span style=\"font-weight: bold\">}</span>                                                         \n",
       "</pre>\n"
      ],
      "text/plain": [
       "<rich.jupyter.JupyterRenderable at 0x7f258e6f2370>"
      ]
     },
     "metadata": {},
     "output_type": "display_data"
    },
    {
     "data": {
      "text/html": [
       "<pre style=\"white-space:pre;overflow-x:auto;line-height:normal;font-family:Menlo,'DejaVu Sans Mono',consolas,'Courier New',monospace\"><span style=\"color: #7fbfbf\">[05/09/21 03:58:47] </span><span style=\"color: #008000\">INFO</span>     Animation <span style=\"color: #008000\">18</span> : Partial movie file       <a href=\"file:///usr/local/lib/python3.8/site-packages/manim/scene/scene_file_writer.py\"><span style=\"color: #7f7f7f\">scene_file_writer.py</span></a><span style=\"color: #7f7f7f\">:401</span>\n",
       "                             written in <span style=\"font-weight: bold\">{</span><span style=\"color: #008000\">'/manim/notebooks/media/vid</span>                         \n",
       "                             <span style=\"color: #008000\">eos/notebooks/720p15/partial_movie_file</span>                         \n",
       "                             <span style=\"color: #008000\">s/CRecipe/57331516_2763922376_348448809</span>                         \n",
       "                             <span style=\"color: #008000\">9.mp4'</span><span style=\"font-weight: bold\">}</span>                                                         \n",
       "</pre>\n"
      ],
      "text/plain": [
       "<rich.jupyter.JupyterRenderable at 0x7f2590d619a0>"
      ]
     },
     "metadata": {},
     "output_type": "display_data"
    },
    {
     "name": "stderr",
     "output_type": "stream",
     "text": [
      "                                                                                                                \r"
     ]
    },
    {
     "data": {
      "text/html": [
       "<pre style=\"white-space:pre;overflow-x:auto;line-height:normal;font-family:Menlo,'DejaVu Sans Mono',consolas,'Courier New',monospace\"><span style=\"color: #7fbfbf\">[05/09/21 03:58:49] </span><span style=\"color: #008000\">INFO</span>     Animation <span style=\"color: #008000\">19</span> : Partial movie file       <a href=\"file:///usr/local/lib/python3.8/site-packages/manim/scene/scene_file_writer.py\"><span style=\"color: #7f7f7f\">scene_file_writer.py</span></a><span style=\"color: #7f7f7f\">:401</span>\n",
       "                             written in <span style=\"font-weight: bold\">{</span><span style=\"color: #008000\">'/manim/notebooks/media/vid</span>                         \n",
       "                             <span style=\"color: #008000\">eos/notebooks/720p15/partial_movie_file</span>                         \n",
       "                             <span style=\"color: #008000\">s/CRecipe/57331516_3917496934_416380387</span>                         \n",
       "                             <span style=\"color: #008000\">0.mp4'</span><span style=\"font-weight: bold\">}</span>                                                         \n",
       "</pre>\n"
      ],
      "text/plain": [
       "<rich.jupyter.JupyterRenderable at 0x7f258e7c0b20>"
      ]
     },
     "metadata": {},
     "output_type": "display_data"
    },
    {
     "name": "stderr",
     "output_type": "stream",
     "text": [
      "                                                                                                              \r"
     ]
    },
    {
     "data": {
      "text/html": [
       "<pre style=\"white-space:pre;overflow-x:auto;line-height:normal;font-family:Menlo,'DejaVu Sans Mono',consolas,'Courier New',monospace\"><span style=\"color: #7fbfbf\">[05/09/21 03:58:51] </span><span style=\"color: #008000\">INFO</span>     Animation <span style=\"color: #008000\">20</span> : Partial movie file       <a href=\"file:///usr/local/lib/python3.8/site-packages/manim/scene/scene_file_writer.py\"><span style=\"color: #7f7f7f\">scene_file_writer.py</span></a><span style=\"color: #7f7f7f\">:401</span>\n",
       "                             written in <span style=\"font-weight: bold\">{</span><span style=\"color: #008000\">'/manim/notebooks/media/vid</span>                         \n",
       "                             <span style=\"color: #008000\">eos/notebooks/720p15/partial_movie_file</span>                         \n",
       "                             <span style=\"color: #008000\">s/CRecipe/57331516_2942946456_346054913</span>                         \n",
       "                             <span style=\"color: #008000\">6.mp4'</span><span style=\"font-weight: bold\">}</span>                                                         \n",
       "</pre>\n"
      ],
      "text/plain": [
       "<rich.jupyter.JupyterRenderable at 0x7f2590db9ca0>"
      ]
     },
     "metadata": {},
     "output_type": "display_data"
    },
    {
     "name": "stderr",
     "output_type": "stream",
     "text": [
      "                                                                                                              \r"
     ]
    },
    {
     "data": {
      "text/html": [
       "<pre style=\"white-space:pre;overflow-x:auto;line-height:normal;font-family:Menlo,'DejaVu Sans Mono',consolas,'Courier New',monospace\"><span style=\"color: #7fbfbf\">[05/09/21 03:58:53] </span><span style=\"color: #008000\">INFO</span>     Animation <span style=\"color: #008000\">21</span> : Partial movie file       <a href=\"file:///usr/local/lib/python3.8/site-packages/manim/scene/scene_file_writer.py\"><span style=\"color: #7f7f7f\">scene_file_writer.py</span></a><span style=\"color: #7f7f7f\">:401</span>\n",
       "                             written in <span style=\"font-weight: bold\">{</span><span style=\"color: #008000\">'/manim/notebooks/media/vid</span>                         \n",
       "                             <span style=\"color: #008000\">eos/notebooks/720p15/partial_movie_file</span>                         \n",
       "                             <span style=\"color: #008000\">s/CRecipe/57331516_2840706256_224988615</span>                         \n",
       "                             <span style=\"color: #008000\">8.mp4'</span><span style=\"font-weight: bold\">}</span>                                                         \n",
       "</pre>\n"
      ],
      "text/plain": [
       "<rich.jupyter.JupyterRenderable at 0x7f2590b45e20>"
      ]
     },
     "metadata": {},
     "output_type": "display_data"
    },
    {
     "data": {
      "text/html": [
       "<pre style=\"white-space:pre;overflow-x:auto;line-height:normal;font-family:Menlo,'DejaVu Sans Mono',consolas,'Courier New',monospace\"><span style=\"color: #7fbfbf\">                    </span><span style=\"color: #008000\">INFO</span>     Animation <span style=\"color: #008000\">22</span> : Partial movie file       <a href=\"file:///usr/local/lib/python3.8/site-packages/manim/scene/scene_file_writer.py\"><span style=\"color: #7f7f7f\">scene_file_writer.py</span></a><span style=\"color: #7f7f7f\">:401</span>\n",
       "                             written in <span style=\"font-weight: bold\">{</span><span style=\"color: #008000\">'/manim/notebooks/media/vid</span>                         \n",
       "                             <span style=\"color: #008000\">eos/notebooks/720p15/partial_movie_file</span>                         \n",
       "                             <span style=\"color: #008000\">s/CRecipe/57331516_2763922376_244899602</span>                         \n",
       "                             <span style=\"color: #008000\">0.mp4'</span><span style=\"font-weight: bold\">}</span>                                                         \n",
       "</pre>\n"
      ],
      "text/plain": [
       "<rich.jupyter.JupyterRenderable at 0x7f258e728610>"
      ]
     },
     "metadata": {},
     "output_type": "display_data"
    },
    {
     "name": "stderr",
     "output_type": "stream",
     "text": [
      "                                                                                                                \r"
     ]
    },
    {
     "data": {
      "text/html": [
       "<pre style=\"white-space:pre;overflow-x:auto;line-height:normal;font-family:Menlo,'DejaVu Sans Mono',consolas,'Courier New',monospace\"><span style=\"color: #7fbfbf\">[05/09/21 03:58:55] </span><span style=\"color: #008000\">INFO</span>     Animation <span style=\"color: #008000\">23</span> : Partial movie file       <a href=\"file:///usr/local/lib/python3.8/site-packages/manim/scene/scene_file_writer.py\"><span style=\"color: #7f7f7f\">scene_file_writer.py</span></a><span style=\"color: #7f7f7f\">:401</span>\n",
       "                             written in <span style=\"font-weight: bold\">{</span><span style=\"color: #008000\">'/manim/notebooks/media/vid</span>                         \n",
       "                             <span style=\"color: #008000\">eos/notebooks/720p15/partial_movie_file</span>                         \n",
       "                             <span style=\"color: #008000\">s/CRecipe/57331516_694786731_1955078769</span>                         \n",
       "                             <span style=\"color: #008000\">.mp4'</span><span style=\"font-weight: bold\">}</span>                                                          \n",
       "</pre>\n"
      ],
      "text/plain": [
       "<rich.jupyter.JupyterRenderable at 0x7f2590bb4cd0>"
      ]
     },
     "metadata": {},
     "output_type": "display_data"
    },
    {
     "name": "stderr",
     "output_type": "stream",
     "text": [
      "                                                                                                              \r"
     ]
    },
    {
     "data": {
      "text/html": [
       "<pre style=\"white-space:pre;overflow-x:auto;line-height:normal;font-family:Menlo,'DejaVu Sans Mono',consolas,'Courier New',monospace\"><span style=\"color: #7fbfbf\">[05/09/21 03:58:58] </span><span style=\"color: #008000\">INFO</span>     Animation <span style=\"color: #008000\">24</span> : Partial movie file       <a href=\"file:///usr/local/lib/python3.8/site-packages/manim/scene/scene_file_writer.py\"><span style=\"color: #7f7f7f\">scene_file_writer.py</span></a><span style=\"color: #7f7f7f\">:401</span>\n",
       "                             written in <span style=\"font-weight: bold\">{</span><span style=\"color: #008000\">'/manim/notebooks/media/vid</span>                         \n",
       "                             <span style=\"color: #008000\">eos/notebooks/720p15/partial_movie_file</span>                         \n",
       "                             <span style=\"color: #008000\">s/CRecipe/57331516_1254342762_805832395</span>                         \n",
       "                             <span style=\"color: #008000\">.mp4'</span><span style=\"font-weight: bold\">}</span>                                                          \n",
       "</pre>\n"
      ],
      "text/plain": [
       "<rich.jupyter.JupyterRenderable at 0x7f2590fcf850>"
      ]
     },
     "metadata": {},
     "output_type": "display_data"
    },
    {
     "name": "stderr",
     "output_type": "stream",
     "text": [
      "                                                                                                              \r"
     ]
    },
    {
     "data": {
      "text/html": [
       "<pre style=\"white-space:pre;overflow-x:auto;line-height:normal;font-family:Menlo,'DejaVu Sans Mono',consolas,'Courier New',monospace\"><span style=\"color: #7fbfbf\">[05/09/21 03:59:01] </span><span style=\"color: #008000\">INFO</span>     Animation <span style=\"color: #008000\">25</span> : Partial movie file       <a href=\"file:///usr/local/lib/python3.8/site-packages/manim/scene/scene_file_writer.py\"><span style=\"color: #7f7f7f\">scene_file_writer.py</span></a><span style=\"color: #7f7f7f\">:401</span>\n",
       "                             written in <span style=\"font-weight: bold\">{</span><span style=\"color: #008000\">'/manim/notebooks/media/vid</span>                         \n",
       "                             <span style=\"color: #008000\">eos/notebooks/720p15/partial_movie_file</span>                         \n",
       "                             <span style=\"color: #008000\">s/CRecipe/57331516_593249337_2580503087</span>                         \n",
       "                             <span style=\"color: #008000\">.mp4'</span><span style=\"font-weight: bold\">}</span>                                                          \n",
       "</pre>\n"
      ],
      "text/plain": [
       "<rich.jupyter.JupyterRenderable at 0x7f257470a550>"
      ]
     },
     "metadata": {},
     "output_type": "display_data"
    },
    {
     "data": {
      "text/html": [
       "<pre style=\"white-space:pre;overflow-x:auto;line-height:normal;font-family:Menlo,'DejaVu Sans Mono',consolas,'Courier New',monospace\"><span style=\"color: #7fbfbf\">[05/09/21 03:59:02] </span><span style=\"color: #008000\">INFO</span>     Animation <span style=\"color: #008000\">26</span> : Partial movie file       <a href=\"file:///usr/local/lib/python3.8/site-packages/manim/scene/scene_file_writer.py\"><span style=\"color: #7f7f7f\">scene_file_writer.py</span></a><span style=\"color: #7f7f7f\">:401</span>\n",
       "                             written in <span style=\"font-weight: bold\">{</span><span style=\"color: #008000\">'/manim/notebooks/media/vid</span>                         \n",
       "                             <span style=\"color: #008000\">eos/notebooks/720p15/partial_movie_file</span>                         \n",
       "                             <span style=\"color: #008000\">s/CRecipe/57331516_2763922376_265094482</span>                         \n",
       "                             <span style=\"color: #008000\">.mp4'</span><span style=\"font-weight: bold\">}</span>                                                          \n",
       "</pre>\n"
      ],
      "text/plain": [
       "<rich.jupyter.JupyterRenderable at 0x7f2564609dc0>"
      ]
     },
     "metadata": {},
     "output_type": "display_data"
    },
    {
     "name": "stderr",
     "output_type": "stream",
     "text": [
      "                                                                                                                \r"
     ]
    },
    {
     "data": {
      "text/html": [
       "<pre style=\"white-space:pre;overflow-x:auto;line-height:normal;font-family:Menlo,'DejaVu Sans Mono',consolas,'Courier New',monospace\"><span style=\"color: #7fbfbf\">[05/09/21 03:59:04] </span><span style=\"color: #008000\">INFO</span>     Animation <span style=\"color: #008000\">27</span> : Partial movie file       <a href=\"file:///usr/local/lib/python3.8/site-packages/manim/scene/scene_file_writer.py\"><span style=\"color: #7f7f7f\">scene_file_writer.py</span></a><span style=\"color: #7f7f7f\">:401</span>\n",
       "                             written in <span style=\"font-weight: bold\">{</span><span style=\"color: #008000\">'/manim/notebooks/media/vid</span>                         \n",
       "                             <span style=\"color: #008000\">eos/notebooks/720p15/partial_movie_file</span>                         \n",
       "                             <span style=\"color: #008000\">s/CRecipe/57331516_2199428218_106131426</span>                         \n",
       "                             <span style=\"color: #008000\">3.mp4'</span><span style=\"font-weight: bold\">}</span>                                                         \n",
       "</pre>\n"
      ],
      "text/plain": [
       "<rich.jupyter.JupyterRenderable at 0x7f2590d74be0>"
      ]
     },
     "metadata": {},
     "output_type": "display_data"
    },
    {
     "name": "stderr",
     "output_type": "stream",
     "text": [
      "                                                                                                              \r"
     ]
    },
    {
     "data": {
      "text/html": [
       "<pre style=\"white-space:pre;overflow-x:auto;line-height:normal;font-family:Menlo,'DejaVu Sans Mono',consolas,'Courier New',monospace\"><span style=\"color: #7fbfbf\">[05/09/21 03:59:07] </span><span style=\"color: #008000\">INFO</span>     Animation <span style=\"color: #008000\">28</span> : Partial movie file       <a href=\"file:///usr/local/lib/python3.8/site-packages/manim/scene/scene_file_writer.py\"><span style=\"color: #7f7f7f\">scene_file_writer.py</span></a><span style=\"color: #7f7f7f\">:401</span>\n",
       "                             written in <span style=\"font-weight: bold\">{</span><span style=\"color: #008000\">'/manim/notebooks/media/vid</span>                         \n",
       "                             <span style=\"color: #008000\">eos/notebooks/720p15/partial_movie_file</span>                         \n",
       "                             <span style=\"color: #008000\">s/CRecipe/57331516_3166413339_328644230</span>                         \n",
       "                             <span style=\"color: #008000\">6.mp4'</span><span style=\"font-weight: bold\">}</span>                                                         \n",
       "</pre>\n"
      ],
      "text/plain": [
       "<rich.jupyter.JupyterRenderable at 0x7f2590ec8b80>"
      ]
     },
     "metadata": {},
     "output_type": "display_data"
    },
    {
     "name": "stderr",
     "output_type": "stream",
     "text": [
      "                                                                                                              \r"
     ]
    },
    {
     "data": {
      "text/html": [
       "<pre style=\"white-space:pre;overflow-x:auto;line-height:normal;font-family:Menlo,'DejaVu Sans Mono',consolas,'Courier New',monospace\"><span style=\"color: #7fbfbf\">[05/09/21 03:59:09] </span><span style=\"color: #008000\">INFO</span>     Animation <span style=\"color: #008000\">29</span> : Partial movie file       <a href=\"file:///usr/local/lib/python3.8/site-packages/manim/scene/scene_file_writer.py\"><span style=\"color: #7f7f7f\">scene_file_writer.py</span></a><span style=\"color: #7f7f7f\">:401</span>\n",
       "                             written in <span style=\"font-weight: bold\">{</span><span style=\"color: #008000\">'/manim/notebooks/media/vid</span>                         \n",
       "                             <span style=\"color: #008000\">eos/notebooks/720p15/partial_movie_file</span>                         \n",
       "                             <span style=\"color: #008000\">s/CRecipe/57331516_728199224_2594399461</span>                         \n",
       "                             <span style=\"color: #008000\">.mp4'</span><span style=\"font-weight: bold\">}</span>                                                          \n",
       "</pre>\n"
      ],
      "text/plain": [
       "<rich.jupyter.JupyterRenderable at 0x7f2568ca5670>"
      ]
     },
     "metadata": {},
     "output_type": "display_data"
    },
    {
     "data": {
      "text/html": [
       "<pre style=\"white-space:pre;overflow-x:auto;line-height:normal;font-family:Menlo,'DejaVu Sans Mono',consolas,'Courier New',monospace\"><span style=\"color: #7fbfbf\">[05/09/21 03:59:10] </span><span style=\"color: #008000\">INFO</span>     Animation <span style=\"color: #008000\">30</span> : Partial movie file       <a href=\"file:///usr/local/lib/python3.8/site-packages/manim/scene/scene_file_writer.py\"><span style=\"color: #7f7f7f\">scene_file_writer.py</span></a><span style=\"color: #7f7f7f\">:401</span>\n",
       "                             written in <span style=\"font-weight: bold\">{</span><span style=\"color: #008000\">'/manim/notebooks/media/vid</span>                         \n",
       "                             <span style=\"color: #008000\">eos/notebooks/720p15/partial_movie_file</span>                         \n",
       "                             <span style=\"color: #008000\">s/CRecipe/57331516_2763922376_127267151</span>                         \n",
       "                             <span style=\"color: #008000\">0.mp4'</span><span style=\"font-weight: bold\">}</span>                                                         \n",
       "</pre>\n"
      ],
      "text/plain": [
       "<rich.jupyter.JupyterRenderable at 0x7f2574c46ca0>"
      ]
     },
     "metadata": {},
     "output_type": "display_data"
    },
    {
     "name": "stderr",
     "output_type": "stream",
     "text": [
      "                                                                                                                \r"
     ]
    },
    {
     "data": {
      "text/html": [
       "<pre style=\"white-space:pre;overflow-x:auto;line-height:normal;font-family:Menlo,'DejaVu Sans Mono',consolas,'Courier New',monospace\"><span style=\"color: #7fbfbf\">[05/09/21 03:59:12] </span><span style=\"color: #008000\">INFO</span>     Animation <span style=\"color: #008000\">31</span> : Partial movie file       <a href=\"file:///usr/local/lib/python3.8/site-packages/manim/scene/scene_file_writer.py\"><span style=\"color: #7f7f7f\">scene_file_writer.py</span></a><span style=\"color: #7f7f7f\">:401</span>\n",
       "                             written in <span style=\"font-weight: bold\">{</span><span style=\"color: #008000\">'/manim/notebooks/media/vid</span>                         \n",
       "                             <span style=\"color: #008000\">eos/notebooks/720p15/partial_movie_file</span>                         \n",
       "                             <span style=\"color: #008000\">s/CRecipe/57331516_3448037625_478894241</span>                         \n",
       "                             <span style=\"color: #008000\">.mp4'</span><span style=\"font-weight: bold\">}</span>                                                          \n",
       "</pre>\n"
      ],
      "text/plain": [
       "<rich.jupyter.JupyterRenderable at 0x7f2590b51910>"
      ]
     },
     "metadata": {},
     "output_type": "display_data"
    },
    {
     "name": "stderr",
     "output_type": "stream",
     "text": [
      "                                                                                                              \r"
     ]
    },
    {
     "data": {
      "text/html": [
       "<pre style=\"white-space:pre;overflow-x:auto;line-height:normal;font-family:Menlo,'DejaVu Sans Mono',consolas,'Courier New',monospace\"><span style=\"color: #7fbfbf\">[05/09/21 03:59:15] </span><span style=\"color: #008000\">INFO</span>     Animation <span style=\"color: #008000\">32</span> : Partial movie file       <a href=\"file:///usr/local/lib/python3.8/site-packages/manim/scene/scene_file_writer.py\"><span style=\"color: #7f7f7f\">scene_file_writer.py</span></a><span style=\"color: #7f7f7f\">:401</span>\n",
       "                             written in <span style=\"font-weight: bold\">{</span><span style=\"color: #008000\">'/manim/notebooks/media/vid</span>                         \n",
       "                             <span style=\"color: #008000\">eos/notebooks/720p15/partial_movie_file</span>                         \n",
       "                             <span style=\"color: #008000\">s/CRecipe/57331516_428772615_2989079829</span>                         \n",
       "                             <span style=\"color: #008000\">.mp4'</span><span style=\"font-weight: bold\">}</span>                                                          \n",
       "</pre>\n"
      ],
      "text/plain": [
       "<rich.jupyter.JupyterRenderable at 0x7f25746fdfd0>"
      ]
     },
     "metadata": {},
     "output_type": "display_data"
    },
    {
     "name": "stderr",
     "output_type": "stream",
     "text": [
      "                                                                                                              \r"
     ]
    },
    {
     "data": {
      "text/html": [
       "<pre style=\"white-space:pre;overflow-x:auto;line-height:normal;font-family:Menlo,'DejaVu Sans Mono',consolas,'Courier New',monospace\"><span style=\"color: #7fbfbf\">[05/09/21 03:59:17] </span><span style=\"color: #008000\">INFO</span>     Animation <span style=\"color: #008000\">33</span> : Partial movie file       <a href=\"file:///usr/local/lib/python3.8/site-packages/manim/scene/scene_file_writer.py\"><span style=\"color: #7f7f7f\">scene_file_writer.py</span></a><span style=\"color: #7f7f7f\">:401</span>\n",
       "                             written in <span style=\"font-weight: bold\">{</span><span style=\"color: #008000\">'/manim/notebooks/media/vid</span>                         \n",
       "                             <span style=\"color: #008000\">eos/notebooks/720p15/partial_movie_file</span>                         \n",
       "                             <span style=\"color: #008000\">s/CRecipe/57331516_490775846_3037187692</span>                         \n",
       "                             <span style=\"color: #008000\">.mp4'</span><span style=\"font-weight: bold\">}</span>                                                          \n",
       "</pre>\n"
      ],
      "text/plain": [
       "<rich.jupyter.JupyterRenderable at 0x7f2590db4dc0>"
      ]
     },
     "metadata": {},
     "output_type": "display_data"
    },
    {
     "data": {
      "text/html": [
       "<pre style=\"white-space:pre;overflow-x:auto;line-height:normal;font-family:Menlo,'DejaVu Sans Mono',consolas,'Courier New',monospace\"><span style=\"color: #7fbfbf\">[05/09/21 03:59:18] </span><span style=\"color: #008000\">INFO</span>     Animation <span style=\"color: #008000\">34</span> : Partial movie file       <a href=\"file:///usr/local/lib/python3.8/site-packages/manim/scene/scene_file_writer.py\"><span style=\"color: #7f7f7f\">scene_file_writer.py</span></a><span style=\"color: #7f7f7f\">:401</span>\n",
       "                             written in <span style=\"font-weight: bold\">{</span><span style=\"color: #008000\">'/manim/notebooks/media/vid</span>                         \n",
       "                             <span style=\"color: #008000\">eos/notebooks/720p15/partial_movie_file</span>                         \n",
       "                             <span style=\"color: #008000\">s/CRecipe/57331516_2763922376_296412855</span>                         \n",
       "                             <span style=\"color: #008000\">3.mp4'</span><span style=\"font-weight: bold\">}</span>                                                         \n",
       "</pre>\n"
      ],
      "text/plain": [
       "<rich.jupyter.JupyterRenderable at 0x7f2590da3400>"
      ]
     },
     "metadata": {},
     "output_type": "display_data"
    },
    {
     "data": {
      "text/html": [
       "<pre style=\"white-space:pre;overflow-x:auto;line-height:normal;font-family:Menlo,'DejaVu Sans Mono',consolas,'Courier New',monospace\"><span style=\"color: #7fbfbf\">                    </span><span style=\"color: #008000\">INFO</span>                                             <a href=\"file:///usr/local/lib/python3.8/site-packages/manim/scene/scene_file_writer.py\"><span style=\"color: #7f7f7f\">scene_file_writer.py</span></a><span style=\"color: #7f7f7f\">:585</span>\n",
       "                             <span style=\"color: #808000; font-weight: bold\">File</span> ready at <span style=\"color: #800080\">/manim/notebooks/media/vi</span>                         \n",
       "                             <span style=\"color: #800080\">deos/notebooks/720p15/</span><span style=\"color: #ff00ff\">many-times.mp4</span>                            \n",
       "                                                                                             \n",
       "</pre>\n"
      ],
      "text/plain": [
       "<rich.jupyter.JupyterRenderable at 0x7f2590b6ac10>"
      ]
     },
     "metadata": {},
     "output_type": "display_data"
    },
    {
     "data": {
      "text/html": [
       "<pre style=\"white-space:pre;overflow-x:auto;line-height:normal;font-family:Menlo,'DejaVu Sans Mono',consolas,'Courier New',monospace\"><span style=\"color: #7fbfbf\">                    </span><span style=\"color: #008000\">INFO</span>     <span style=\"color: #808000; font-weight: bold\">Rendered</span> CRecipe                                    <a href=\"file:///usr/local/lib/python3.8/site-packages/manim/scene/scene.py\"><span style=\"color: #7f7f7f\">scene.py</span></a><span style=\"color: #7f7f7f\">:217</span>\n",
       "                             <span style=\"color: #808000; font-weight: bold\">Played</span> <span style=\"color: #008000\">35</span> <span style=\"color: #808000; font-weight: bold\">animations</span>                                            \n",
       "</pre>\n"
      ],
      "text/plain": [
       "<rich.jupyter.JupyterRenderable at 0x7f2590b51d90>"
      ]
     },
     "metadata": {},
     "output_type": "display_data"
    },
    {
     "data": {
      "text/html": [
       "<video src=\"media/jupyter/07c9a6943dd77442ff30d22fcc8d24f3a74929ba.mp4\" controls autoplay loop style=\"max-width: 25vw;\"  >\n",
       "      Your browser does not support the <code>video</code> element.\n",
       "    </video>"
      ],
      "text/plain": [
       "<IPython.core.display.Video object>"
      ]
     },
     "metadata": {},
     "output_type": "display_data"
    }
   ],
   "source": [
    "%%manim -ql -r 1280,720 -o many-times.mp4 CRecipe\n",
    "\n",
    "def create_3d_vec(segments, color=None, opacity=1.0):\n",
    "    box_size = 1*scale\n",
    "    vector_ob = manim.VGroup()\n",
    "    prisms = []\n",
    "    for s in range(segments):\n",
    "        p = manim.Prism([box_size, box_size, box_size])\n",
    "        p.set_fill(color, opacity=opacity)\n",
    "        p.align_on_border(manim.IN)\n",
    "        p.set_stroke(color='#000000', width=1.0)\n",
    "        prisms.append(p)\n",
    "    vector_ob.add(*prisms)\n",
    "    vector_ob.arrange(direction=-manim.Y_AXIS, buff=0)\n",
    "    return vector_ob\n",
    "\n",
    "\n",
    "def surrounding_box(mobject, buff=0):\n",
    "    prism = manim.Prism([mobject.width+buff, mobject.height+buff, mobject.depth+buff])\n",
    "    prism.move_to(mobject.get_critical_point(direction=manim.ORIGIN))\n",
    "    return prism\n",
    "\n",
    "\n",
    "def apply_scaffold_style(mobject):\n",
    "    mobject.set_fill(opacity=0.1, color=bg_color)\n",
    "    mobject.set_stroke(opacity=0.3)\n",
    "    return mobject\n",
    "\n",
    "\n",
    "def create_vec_list(num_vecs, segments, pos):\n",
    "    vec_list = manim.VMobject()\n",
    "    for i in range(num_vecs):\n",
    "        v = create_3d_vec(segments, colors[i])\n",
    "        vec_list.add(v)\n",
    "        vec_list.arrange(direction=manim.RIGHT) \n",
    "        vec_list.move_to(pos)\n",
    "    return vec_list\n",
    "\n",
    "    \n",
    "def create_mix_nums(vec_list, mix):\n",
    "    mix_decimals = manim.VGroup()\n",
    "    offset = np.array([0, -1.2, -0.5]) * scale\n",
    "    for i in range(len(mix)):\n",
    "        pos = vec_list[i].get_edge_center(manim.DOWN) + offset\n",
    "        num = manim.DecimalNumber(mix[i], num_decimal_places=0, color=font_color)\n",
    "        num.move_to(pos)\n",
    "        mix_decimals.add(num)\n",
    "    return mix_decimals\n",
    "\n",
    "\n",
    "def create_mix_result(vec_list, mix, target_point, color=result_color):\n",
    "    dup_vecs = manim.VGroup()\n",
    "    shift_dist = vec_list[0].depth + 0\n",
    "    offset = 2 * scale\n",
    "    dup_anims = []\n",
    "    for i in range(len(vec_list)):\n",
    "        dup_i = [copy.deepcopy(vec_list[i]) for j in range(mix[i])]\n",
    "        for j in range(0, len(dup_i)):\n",
    "            dist = j * shift_dist + offset\n",
    "            dup_anims.append(dup_i[j].animate.shift(dist * manim.OUT))\n",
    "        dup_vecs.add(*dup_i)\n",
    "    def animation(scene):\n",
    "        scene.add(dup_vecs)\n",
    "        scene.play(*dup_anims)\n",
    "        dup_vecs.set_fill(color)\n",
    "        animations = [dv.animate.move_to(target_point) for dv in dup_vecs]\n",
    "        def add_surrounding_box():\n",
    "            bb = surrounding_box(dup_vecs, buff=0.2)   \n",
    "            bb.set_color(color)\n",
    "            bb.set_opacity(0.2)\n",
    "            scene.add(bb)\n",
    "            scene.wait(0.2)\n",
    "            animations.extend([bb.animate.move_to(target_point), manim.ReplacementTransform(bb, replacement_vec)])\n",
    "        # this doesn't work well enough to use.\n",
    "        #add_surrounding_box()\n",
    "        scene.play(*animations)\n",
    "        scene.remove(dup_vecs)\n",
    "    replacement_vec = create_3d_vec(num_input_boxes, color=color)\n",
    "    replacement_vec.move_to(target_point)\n",
    "    return replacement_vec, animation\n",
    "\n",
    "\n",
    "def create_mix_lines(vec_list, target_point):\n",
    "    lines = []\n",
    "    for i in range(len(vec_list)):\n",
    "        start_point = vec_list[i].get_edge_center(manim.DOWN)\n",
    "        # Should we move the start point to be at the bottom of the box?\n",
    "        end_point = target_point + np.array([0, 2.05, -0.5])*scale\n",
    "        l = manim.DashedLine(start_point, end_point, dash_length=0.02, \n",
    "                             positive_space_ratio=0.2, color=line_color)\n",
    "        # Doesn't seem to have an effect.\n",
    "        #l.set_opacity(0.7)\n",
    "        lines.append(l)\n",
    "    g1 = manim.Group(*lines)\n",
    "    return g1\n",
    "\n",
    "def create_2d_vec(segments, direction=manim.X_AXIS, color=None, opacity=1.0):\n",
    "    box_size = 1*scale\n",
    "    vector_ob = manim.VMobject()\n",
    "    rects = []\n",
    "    for s in range(segments):\n",
    "        r = manim.Square(side_length=box_size, color=color, fill_opacity=opacity)\n",
    "        #r.align_on_border(manim.X_AXIS)\n",
    "        r.set_stroke(color='#000000', width=1.0)\n",
    "        rects.append(r)\n",
    "    vector_ob.add(*rects)\n",
    "    vector_ob.arrange(direction=direction, buff=0)\n",
    "    return vector_ob\n",
    "    \n",
    "from collections import OrderedDict\n",
    "\n",
    "class TargetObject():\n",
    "    def __init__(self, obj_map : OrderedDict, draw_exclude=None, **kwargs):\n",
    "        self.obj = manim.Mobject(**kwargs)\n",
    "        self.obj.add(*obj_map.values())\n",
    "        self.m = obj_map\n",
    "        self.draw_exclude = set() if not draw_exclude else set(draw_exclude)\n",
    "        \n",
    "    def elements_to_draw(self):\n",
    "        elems = [v for k,v in self.m.items() if k not in self.draw_exclude]\n",
    "        return elems\n",
    "\n",
    "\n",
    "class ARecipe(manim.ThreeDScene):\n",
    "    def construct(self):\n",
    "        self.set_camera_orientation(phi=55*manim.DEGREES, theta=-115*manim.DEGREES, distance=400.0)\n",
    "        #self.camera.background_color = '#f0f0f0'\n",
    "        # Moving camera doesn't seem to work. A black dot is created.\n",
    "        #self.move_camera(frame_center=target_point)\n",
    "        vec_list = create_vec_list(num_inputs, num_input_boxes, pos=source_point)\n",
    "        self.add(vec_list)        \n",
    "        self.add(apply_scaffold_style(create_vec_list(1, num_input_boxes, pos=target_point)))\n",
    "        self.add(create_mix_lines(vec_list, np.array(target_point)))\n",
    "        self.add(*create_mix_nums(vec_list, mix))\n",
    "        res_vec, animation = create_mix_result(vec_list, mix, target_point)\n",
    "        animation(self)\n",
    "        self.add(res_vec)\n",
    "        self.wait()\n",
    "\n",
    "    \n",
    "class BRecipe(ARecipe):\n",
    "    def construct(self):\n",
    "        self.set_camera_orientation(phi=55*manim.DEGREES, theta=-115*manim.DEGREES, distance=400.0)\n",
    "        vec_list = create_vec_list(num_inputs, num_input_boxes, pos=source_point)\n",
    "        self.add(vec_list)        \n",
    "        self.add(create_mix_lines(vec_list, np.array(target_point)))\n",
    "        self.add(*create_mix_nums(vec_list, mix))\n",
    "        res_vec, animation = create_mix_result(vec_list, mix, target_point)\n",
    "        self.add(res_vec)\n",
    "        num_extensions = 4\n",
    "        def extend_vec(v, direction):\n",
    "            fixed_ref = np.array([0, 0, 0]) - direction\n",
    "            fixed_point = v.get_critical_point(fixed_ref)\n",
    "            to_append = copy.deepcopy(v[-1])\n",
    "            v.add(to_append)\n",
    "            v.arrange(direction=manim.Y_AXIS, buff=0)\n",
    "            v.move_to(fixed_point, aligned_edge=fixed_ref) \n",
    "            return to_append\n",
    "\n",
    "        def extend_vecs():\n",
    "            for i in range(num_extensions):\n",
    "                self.wait(0.5)\n",
    "                added = []\n",
    "                for v in vec_list:\n",
    "                    added.append(extend_vec(v, direction=np.array([0, 1, 0])))\n",
    "                added.append(extend_vec(res_vec, direction=np.array([0, -1, 0])))\n",
    "                # Some horrible z-order issues make this annimation not work well.\n",
    "                #self.play(*[manim.FadeIn(b) for b in added])\n",
    "        def shrink_vecs():\n",
    "            for i in range(num_extensions):\n",
    "                self.wait(0.1)\n",
    "                for v in vec_list:\n",
    "                    v.remove(v[-1])\n",
    "                res_vec.remove(res_vec[0])\n",
    "        extend_vecs()\n",
    "        self.wait(1)\n",
    "        shrink_vecs()\n",
    "        self.wait()   \n",
    "        \n",
    "        \n",
    "class CRecipe(manim.ThreeDScene):\n",
    "    def construct(self):\n",
    "        offset = np.array([-3, 0, 0])\n",
    "        self.set_camera_orientation(phi=55*manim.DEGREES, theta=-115*manim.DEGREES, distance=400.0)\n",
    "        source_vecs = create_vec_list(num_inputs, num_input_boxes, pos=source_point + offset)\n",
    "        self.add(source_vecs)            \n",
    "        placement_point = np.array([1, -5, 0])*scale + offset\n",
    "        mix_nums = None\n",
    "        mix_lines = None\n",
    "        for i, m in enumerate(mixes):\n",
    "            # 1. Lines and numbers\n",
    "            if mix_nums:\n",
    "                mix_nums_next = create_mix_nums(source_vecs, m)\n",
    "                mix_lines_next = create_mix_lines(source_vecs, np.array(placement_point))\n",
    "                self.play(manim.ReplacementTransform(mix_nums, mix_nums_next), \n",
    "                          manim.ReplacementTransform(mix_lines, mix_lines_next), \n",
    "                          manim.FadeIn(apply_scaffold_style(create_vec_list(1, num_input_boxes, pos=placement_point))),run_time=0.4)\n",
    "                mix_nums = mix_nums_next\n",
    "                mix_lines = mix_lines_next\n",
    "            else:\n",
    "                assert mix_lines == None\n",
    "                mix_nums = create_mix_nums(source_vecs, m)\n",
    "                mix_lines = create_mix_lines(source_vecs, np.array(placement_point))\n",
    "                self.add(*mix_nums, *mix_lines)\n",
    "                self.add(apply_scaffold_style(create_vec_list(1, num_input_boxes, pos=placement_point)))\n",
    "                \n",
    "            # 2. Mix animation and result\n",
    "            # The gradient just seems a bit distracting.\n",
    "            color = result_colors[i] if use_gradient else result_color\n",
    "            res_vec, animation = create_mix_result(source_vecs, m, placement_point, color=color)\n",
    "            animation(self)\n",
    "            self.add(res_vec)\n",
    "            self.wait(0.5)\n",
    "            placement_point = placement_point + np.array([1.5, 0, 0]) * scale"
   ]
  },
  {
   "cell_type": "code",
   "execution_count": 18,
   "id": "2f8de3bc-63ee-4a90-b36b-c3a1070e8d0f",
   "metadata": {},
   "outputs": [
    {
     "name": "stderr",
     "output_type": "stream",
     "text": [
      "                                                                                                             \r"
     ]
    },
    {
     "data": {
      "text/html": [
       "<pre style=\"white-space:pre;overflow-x:auto;line-height:normal;font-family:Menlo,'DejaVu Sans Mono',consolas,'Courier New',monospace\"><span style=\"color: #7fbfbf\">[05/09/21 03:56:53] </span><span style=\"color: #008000\">INFO</span>     Animation <span style=\"color: #008000\">0</span> : Partial movie file        <a href=\"file:///usr/local/lib/python3.8/site-packages/manim/scene/scene_file_writer.py\"><span style=\"color: #7f7f7f\">scene_file_writer.py</span></a><span style=\"color: #7f7f7f\">:401</span>\n",
       "                             written in <span style=\"font-weight: bold\">{</span><span style=\"color: #008000\">'/manim/notebooks/media/vid</span>                         \n",
       "                             <span style=\"color: #008000\">eos/notebooks/720p60/partial_movie_file</span>                         \n",
       "                             <span style=\"color: #008000\">s/ARecipe/3157264259_2151329273_1765090</span>                         \n",
       "                             <span style=\"color: #008000\">34.mp4'</span><span style=\"font-weight: bold\">}</span>                                                        \n",
       "</pre>\n"
      ],
      "text/plain": [
       "<rich.jupyter.JupyterRenderable at 0x7f2574682fd0>"
      ]
     },
     "metadata": {},
     "output_type": "display_data"
    },
    {
     "name": "stderr",
     "output_type": "stream",
     "text": [
      "                                                                                                             \r"
     ]
    },
    {
     "data": {
      "text/html": [
       "<pre style=\"white-space:pre;overflow-x:auto;line-height:normal;font-family:Menlo,'DejaVu Sans Mono',consolas,'Courier New',monospace\"><span style=\"color: #7fbfbf\">[05/09/21 03:57:02] </span><span style=\"color: #008000\">INFO</span>     Animation <span style=\"color: #008000\">1</span> : Partial movie file        <a href=\"file:///usr/local/lib/python3.8/site-packages/manim/scene/scene_file_writer.py\"><span style=\"color: #7f7f7f\">scene_file_writer.py</span></a><span style=\"color: #7f7f7f\">:401</span>\n",
       "                             written in <span style=\"font-weight: bold\">{</span><span style=\"color: #008000\">'/manim/notebooks/media/vid</span>                         \n",
       "                             <span style=\"color: #008000\">eos/notebooks/720p60/partial_movie_file</span>                         \n",
       "                             <span style=\"color: #008000\">s/ARecipe/682978632_1854413885_47003420</span>                         \n",
       "                             <span style=\"color: #008000\">8.mp4'</span><span style=\"font-weight: bold\">}</span>                                                         \n",
       "</pre>\n"
      ],
      "text/plain": [
       "<rich.jupyter.JupyterRenderable at 0x7f256fe3fb50>"
      ]
     },
     "metadata": {},
     "output_type": "display_data"
    },
    {
     "data": {
      "text/html": [
       "<pre style=\"white-space:pre;overflow-x:auto;line-height:normal;font-family:Menlo,'DejaVu Sans Mono',consolas,'Courier New',monospace\"><span style=\"color: #7fbfbf\">[05/09/21 03:57:03] </span><span style=\"color: #008000\">INFO</span>     Animation <span style=\"color: #008000\">2</span> : Partial movie file        <a href=\"file:///usr/local/lib/python3.8/site-packages/manim/scene/scene_file_writer.py\"><span style=\"color: #7f7f7f\">scene_file_writer.py</span></a><span style=\"color: #7f7f7f\">:401</span>\n",
       "                             written in <span style=\"font-weight: bold\">{</span><span style=\"color: #008000\">'/manim/notebooks/media/vid</span>                         \n",
       "                             <span style=\"color: #008000\">eos/notebooks/720p60/partial_movie_file</span>                         \n",
       "                             <span style=\"color: #008000\">s/ARecipe/682978632_1615497636_13556531</span>                         \n",
       "                             <span style=\"color: #008000\">45.mp4'</span><span style=\"font-weight: bold\">}</span>                                                        \n",
       "</pre>\n"
      ],
      "text/plain": [
       "<rich.jupyter.JupyterRenderable at 0x7f2574855220>"
      ]
     },
     "metadata": {},
     "output_type": "display_data"
    },
    {
     "data": {
      "text/html": [
       "<pre style=\"white-space:pre;overflow-x:auto;line-height:normal;font-family:Menlo,'DejaVu Sans Mono',consolas,'Courier New',monospace\"><span style=\"color: #7fbfbf\">                    </span><span style=\"color: #008000\">INFO</span>                                             <a href=\"file:///usr/local/lib/python3.8/site-packages/manim/scene/scene_file_writer.py\"><span style=\"color: #7f7f7f\">scene_file_writer.py</span></a><span style=\"color: #7f7f7f\">:585</span>\n",
       "                             <span style=\"color: #808000; font-weight: bold\">File</span> ready at <span style=\"color: #800080\">/manim/notebooks/media/vi</span>                         \n",
       "                             <span style=\"color: #800080\">deos/notebooks/720p60/</span><span style=\"color: #ff00ff\">one-combination.m</span>                         \n",
       "                             <span style=\"color: #ff00ff\">p4</span>                                                              \n",
       "                                                                                             \n",
       "</pre>\n"
      ],
      "text/plain": [
       "<rich.jupyter.JupyterRenderable at 0x7f2590b19520>"
      ]
     },
     "metadata": {},
     "output_type": "display_data"
    },
    {
     "data": {
      "text/html": [
       "<pre style=\"white-space:pre;overflow-x:auto;line-height:normal;font-family:Menlo,'DejaVu Sans Mono',consolas,'Courier New',monospace\"><span style=\"color: #7fbfbf\">                    </span><span style=\"color: #008000\">INFO</span>     <span style=\"color: #808000; font-weight: bold\">Rendered</span> ARecipe                                    <a href=\"file:///usr/local/lib/python3.8/site-packages/manim/scene/scene.py\"><span style=\"color: #7f7f7f\">scene.py</span></a><span style=\"color: #7f7f7f\">:217</span>\n",
       "                             <span style=\"color: #808000; font-weight: bold\">Played</span> <span style=\"color: #008000\">3</span> <span style=\"color: #808000; font-weight: bold\">animations</span>                                             \n",
       "</pre>\n"
      ],
      "text/plain": [
       "<rich.jupyter.JupyterRenderable at 0x7f2590b19820>"
      ]
     },
     "metadata": {},
     "output_type": "display_data"
    },
    {
     "data": {
      "text/html": [
       "<video src=\"media/jupyter/e5314a35e66380a7f73345580599ee47182d0640.mp4\" controls autoplay loop style=\"max-width: 25vw;\"  >\n",
       "      Your browser does not support the <code>video</code> element.\n",
       "    </video>"
      ],
      "text/plain": [
       "<IPython.core.display.Video object>"
      ]
     },
     "metadata": {},
     "output_type": "display_data"
    }
   ],
   "source": [
    "%%manim -qh -r 1280,720 -o one-combination.mp4 ARecipe\n",
    "pass"
   ]
  },
  {
   "cell_type": "code",
   "execution_count": 677,
   "id": "aa75c201-6bca-42df-b10f-511d49e8f698",
   "metadata": {},
   "outputs": [
    {
     "data": {
      "text/html": [
       "<pre style=\"white-space:pre;overflow-x:auto;line-height:normal;font-family:Menlo,'DejaVu Sans Mono',consolas,'Courier New',monospace\"><span style=\"color: #7fbfbf\">[05/09/21 01:56:06] </span><span style=\"color: #008000\">INFO</span>     Animation <span style=\"color: #008000\">0</span> : Partial movie file        <a href=\"file:///usr/local/lib/python3.8/site-packages/manim/scene/scene_file_writer.py\"><span style=\"color: #7f7f7f\">scene_file_writer.py</span></a><span style=\"color: #7f7f7f\">:401</span>\n",
       "                             written in <span style=\"font-weight: bold\">{</span><span style=\"color: #008000\">'/manim/notebooks/media/vid</span>                         \n",
       "                             <span style=\"color: #008000\">eos/notebooks/720p60/partial_movie_file</span>                         \n",
       "                             <span style=\"color: #008000\">s/BRecipe/3157264259_2763922376_1823934</span>                         \n",
       "                             <span style=\"color: #008000\">937.mp4'</span><span style=\"font-weight: bold\">}</span>                                                       \n",
       "</pre>\n"
      ],
      "text/plain": [
       "<rich.jupyter.JupyterRenderable at 0x7f31f1523400>"
      ]
     },
     "metadata": {},
     "output_type": "display_data"
    },
    {
     "data": {
      "text/html": [
       "<pre style=\"white-space:pre;overflow-x:auto;line-height:normal;font-family:Menlo,'DejaVu Sans Mono',consolas,'Courier New',monospace\"><span style=\"color: #7fbfbf\">                    </span><span style=\"color: #008000\">INFO</span>     Animation <span style=\"color: #008000\">1</span> : Partial movie file        <a href=\"file:///usr/local/lib/python3.8/site-packages/manim/scene/scene_file_writer.py\"><span style=\"color: #7f7f7f\">scene_file_writer.py</span></a><span style=\"color: #7f7f7f\">:401</span>\n",
       "                             written in <span style=\"font-weight: bold\">{</span><span style=\"color: #008000\">'/manim/notebooks/media/vid</span>                         \n",
       "                             <span style=\"color: #008000\">eos/notebooks/720p60/partial_movie_file</span>                         \n",
       "                             <span style=\"color: #008000\">s/BRecipe/682978632_2763922376_30127887</span>                         \n",
       "                             <span style=\"color: #008000\">27.mp4'</span><span style=\"font-weight: bold\">}</span>                                                        \n",
       "</pre>\n"
      ],
      "text/plain": [
       "<rich.jupyter.JupyterRenderable at 0x7f31eedb1370>"
      ]
     },
     "metadata": {},
     "output_type": "display_data"
    },
    {
     "data": {
      "text/html": [
       "<pre style=\"white-space:pre;overflow-x:auto;line-height:normal;font-family:Menlo,'DejaVu Sans Mono',consolas,'Courier New',monospace\"><span style=\"color: #7fbfbf\">[05/09/21 01:56:07] </span><span style=\"color: #008000\">INFO</span>     Animation <span style=\"color: #008000\">2</span> : Partial movie file        <a href=\"file:///usr/local/lib/python3.8/site-packages/manim/scene/scene_file_writer.py\"><span style=\"color: #7f7f7f\">scene_file_writer.py</span></a><span style=\"color: #7f7f7f\">:401</span>\n",
       "                             written in <span style=\"font-weight: bold\">{</span><span style=\"color: #008000\">'/manim/notebooks/media/vid</span>                         \n",
       "                             <span style=\"color: #008000\">eos/notebooks/720p60/partial_movie_file</span>                         \n",
       "                             <span style=\"color: #008000\">s/BRecipe/682978632_2763922376_29981609</span>                         \n",
       "                             <span style=\"color: #008000\">79.mp4'</span><span style=\"font-weight: bold\">}</span>                                                        \n",
       "</pre>\n"
      ],
      "text/plain": [
       "<rich.jupyter.JupyterRenderable at 0x7f320de0fcd0>"
      ]
     },
     "metadata": {},
     "output_type": "display_data"
    },
    {
     "data": {
      "text/html": [
       "<pre style=\"white-space:pre;overflow-x:auto;line-height:normal;font-family:Menlo,'DejaVu Sans Mono',consolas,'Courier New',monospace\"><span style=\"color: #7fbfbf\">[05/09/21 01:56:08] </span><span style=\"color: #008000\">INFO</span>     Animation <span style=\"color: #008000\">3</span> : Partial movie file        <a href=\"file:///usr/local/lib/python3.8/site-packages/manim/scene/scene_file_writer.py\"><span style=\"color: #7f7f7f\">scene_file_writer.py</span></a><span style=\"color: #7f7f7f\">:401</span>\n",
       "                             written in <span style=\"font-weight: bold\">{</span><span style=\"color: #008000\">'/manim/notebooks/media/vid</span>                         \n",
       "                             <span style=\"color: #008000\">eos/notebooks/720p60/partial_movie_file</span>                         \n",
       "                             <span style=\"color: #008000\">s/BRecipe/682978632_2763922376_24481048</span>                         \n",
       "                             <span style=\"color: #008000\">68.mp4'</span><span style=\"font-weight: bold\">}</span>                                                        \n",
       "</pre>\n"
      ],
      "text/plain": [
       "<rich.jupyter.JupyterRenderable at 0x7f31c78568b0>"
      ]
     },
     "metadata": {},
     "output_type": "display_data"
    },
    {
     "data": {
      "text/html": [
       "<pre style=\"white-space:pre;overflow-x:auto;line-height:normal;font-family:Menlo,'DejaVu Sans Mono',consolas,'Courier New',monospace\"><span style=\"color: #7fbfbf\">                    </span><span style=\"color: #008000\">INFO</span>     Animation <span style=\"color: #008000\">4</span> : Partial movie file        <a href=\"file:///usr/local/lib/python3.8/site-packages/manim/scene/scene_file_writer.py\"><span style=\"color: #7f7f7f\">scene_file_writer.py</span></a><span style=\"color: #7f7f7f\">:401</span>\n",
       "                             written in <span style=\"font-weight: bold\">{</span><span style=\"color: #008000\">'/manim/notebooks/media/vid</span>                         \n",
       "                             <span style=\"color: #008000\">eos/notebooks/720p60/partial_movie_file</span>                         \n",
       "                             <span style=\"color: #008000\">s/BRecipe/682978632_2432241074_16396357</span>                         \n",
       "                             <span style=\"color: #008000\">35.mp4'</span><span style=\"font-weight: bold\">}</span>                                                        \n",
       "</pre>\n"
      ],
      "text/plain": [
       "<rich.jupyter.JupyterRenderable at 0x7f31eec9ac10>"
      ]
     },
     "metadata": {},
     "output_type": "display_data"
    },
    {
     "data": {
      "text/html": [
       "<pre style=\"white-space:pre;overflow-x:auto;line-height:normal;font-family:Menlo,'DejaVu Sans Mono',consolas,'Courier New',monospace\"><span style=\"color: #7fbfbf\">[05/09/21 01:56:09] </span><span style=\"color: #008000\">INFO</span>     Animation <span style=\"color: #008000\">5</span> : Partial movie file        <a href=\"file:///usr/local/lib/python3.8/site-packages/manim/scene/scene_file_writer.py\"><span style=\"color: #7f7f7f\">scene_file_writer.py</span></a><span style=\"color: #7f7f7f\">:401</span>\n",
       "                             written in <span style=\"font-weight: bold\">{</span><span style=\"color: #008000\">'/manim/notebooks/media/vid</span>                         \n",
       "                             <span style=\"color: #008000\">eos/notebooks/720p60/partial_movie_file</span>                         \n",
       "                             <span style=\"color: #008000\">s/BRecipe/682978632_1211702935_39873478</span>                         \n",
       "                             <span style=\"color: #008000\">81.mp4'</span><span style=\"font-weight: bold\">}</span>                                                        \n",
       "</pre>\n"
      ],
      "text/plain": [
       "<rich.jupyter.JupyterRenderable at 0x7f320de0fcd0>"
      ]
     },
     "metadata": {},
     "output_type": "display_data"
    },
    {
     "data": {
      "text/html": [
       "<pre style=\"white-space:pre;overflow-x:auto;line-height:normal;font-family:Menlo,'DejaVu Sans Mono',consolas,'Courier New',monospace\"><span style=\"color: #7fbfbf\">                    </span><span style=\"color: #008000\">INFO</span>     Animation <span style=\"color: #008000\">6</span> : Partial movie file        <a href=\"file:///usr/local/lib/python3.8/site-packages/manim/scene/scene_file_writer.py\"><span style=\"color: #7f7f7f\">scene_file_writer.py</span></a><span style=\"color: #7f7f7f\">:401</span>\n",
       "                             written in <span style=\"font-weight: bold\">{</span><span style=\"color: #008000\">'/manim/notebooks/media/vid</span>                         \n",
       "                             <span style=\"color: #008000\">eos/notebooks/720p60/partial_movie_file</span>                         \n",
       "                             <span style=\"color: #008000\">s/BRecipe/682978632_1211702935_25736479</span>                         \n",
       "                             <span style=\"color: #008000\">49.mp4'</span><span style=\"font-weight: bold\">}</span>                                                        \n",
       "</pre>\n"
      ],
      "text/plain": [
       "<rich.jupyter.JupyterRenderable at 0x7f31eed69df0>"
      ]
     },
     "metadata": {},
     "output_type": "display_data"
    },
    {
     "data": {
      "text/html": [
       "<pre style=\"white-space:pre;overflow-x:auto;line-height:normal;font-family:Menlo,'DejaVu Sans Mono',consolas,'Courier New',monospace\"><span style=\"color: #7fbfbf\">[05/09/21 01:56:10] </span><span style=\"color: #008000\">INFO</span>     Animation <span style=\"color: #008000\">7</span> : Partial movie file        <a href=\"file:///usr/local/lib/python3.8/site-packages/manim/scene/scene_file_writer.py\"><span style=\"color: #7f7f7f\">scene_file_writer.py</span></a><span style=\"color: #7f7f7f\">:401</span>\n",
       "                             written in <span style=\"font-weight: bold\">{</span><span style=\"color: #008000\">'/manim/notebooks/media/vid</span>                         \n",
       "                             <span style=\"color: #008000\">eos/notebooks/720p60/partial_movie_file</span>                         \n",
       "                             <span style=\"color: #008000\">s/BRecipe/682978632_1211702935_17435321</span>                         \n",
       "                             <span style=\"color: #008000\">97.mp4'</span><span style=\"font-weight: bold\">}</span>                                                        \n",
       "</pre>\n"
      ],
      "text/plain": [
       "<rich.jupyter.JupyterRenderable at 0x7f31eeca0e80>"
      ]
     },
     "metadata": {},
     "output_type": "display_data"
    },
    {
     "data": {
      "text/html": [
       "<pre style=\"white-space:pre;overflow-x:auto;line-height:normal;font-family:Menlo,'DejaVu Sans Mono',consolas,'Courier New',monospace\"><span style=\"color: #7fbfbf\">                    </span><span style=\"color: #008000\">INFO</span>     Animation <span style=\"color: #008000\">8</span> : Partial movie file        <a href=\"file:///usr/local/lib/python3.8/site-packages/manim/scene/scene_file_writer.py\"><span style=\"color: #7f7f7f\">scene_file_writer.py</span></a><span style=\"color: #7f7f7f\">:401</span>\n",
       "                             written in <span style=\"font-weight: bold\">{</span><span style=\"color: #008000\">'/manim/notebooks/media/vid</span>                         \n",
       "                             <span style=\"color: #008000\">eos/notebooks/720p60/partial_movie_file</span>                         \n",
       "                             <span style=\"color: #008000\">s/BRecipe/682978632_1211702935_21756133</span>                         \n",
       "                             <span style=\"color: #008000\">29.mp4'</span><span style=\"font-weight: bold\">}</span>                                                        \n",
       "</pre>\n"
      ],
      "text/plain": [
       "<rich.jupyter.JupyterRenderable at 0x7f31eeca0df0>"
      ]
     },
     "metadata": {},
     "output_type": "display_data"
    },
    {
     "data": {
      "text/html": [
       "<pre style=\"white-space:pre;overflow-x:auto;line-height:normal;font-family:Menlo,'DejaVu Sans Mono',consolas,'Courier New',monospace\"><span style=\"color: #7fbfbf\">[05/09/21 01:56:11] </span><span style=\"color: #008000\">INFO</span>     Animation <span style=\"color: #008000\">9</span> : Partial movie file        <a href=\"file:///usr/local/lib/python3.8/site-packages/manim/scene/scene_file_writer.py\"><span style=\"color: #7f7f7f\">scene_file_writer.py</span></a><span style=\"color: #7f7f7f\">:401</span>\n",
       "                             written in <span style=\"font-weight: bold\">{</span><span style=\"color: #008000\">'/manim/notebooks/media/vid</span>                         \n",
       "                             <span style=\"color: #008000\">eos/notebooks/720p60/partial_movie_file</span>                         \n",
       "                             <span style=\"color: #008000\">s/BRecipe/682978632_1615497636_42701723</span>                         \n",
       "                             <span style=\"color: #008000\">26.mp4'</span><span style=\"font-weight: bold\">}</span>                                                        \n",
       "</pre>\n"
      ],
      "text/plain": [
       "<rich.jupyter.JupyterRenderable at 0x7f31ef07a100>"
      ]
     },
     "metadata": {},
     "output_type": "display_data"
    },
    {
     "data": {
      "text/html": [
       "<pre style=\"white-space:pre;overflow-x:auto;line-height:normal;font-family:Menlo,'DejaVu Sans Mono',consolas,'Courier New',monospace\"><span style=\"color: #7fbfbf\">                    </span><span style=\"color: #008000\">INFO</span>                                             <a href=\"file:///usr/local/lib/python3.8/site-packages/manim/scene/scene_file_writer.py\"><span style=\"color: #7f7f7f\">scene_file_writer.py</span></a><span style=\"color: #7f7f7f\">:585</span>\n",
       "                             <span style=\"color: #808000; font-weight: bold\">File</span> ready at <span style=\"color: #800080\">/manim/notebooks/media/vi</span>                         \n",
       "                             <span style=\"color: #800080\">deos/notebooks/720p60/</span><span style=\"color: #ff00ff\">resize-objects.mp</span>                         \n",
       "                             <span style=\"color: #ff00ff\">4</span>                                                               \n",
       "                                                                                             \n",
       "</pre>\n"
      ],
      "text/plain": [
       "<rich.jupyter.JupyterRenderable at 0x7f31ee9a1a90>"
      ]
     },
     "metadata": {},
     "output_type": "display_data"
    },
    {
     "data": {
      "text/html": [
       "<pre style=\"white-space:pre;overflow-x:auto;line-height:normal;font-family:Menlo,'DejaVu Sans Mono',consolas,'Courier New',monospace\"><span style=\"color: #7fbfbf\">                    </span><span style=\"color: #008000\">INFO</span>     <span style=\"color: #808000; font-weight: bold\">Rendered</span> BRecipe                                    <a href=\"file:///usr/local/lib/python3.8/site-packages/manim/scene/scene.py\"><span style=\"color: #7f7f7f\">scene.py</span></a><span style=\"color: #7f7f7f\">:217</span>\n",
       "                             <span style=\"color: #808000; font-weight: bold\">Played</span> <span style=\"color: #008000\">10</span> <span style=\"color: #808000; font-weight: bold\">animations</span>                                            \n",
       "</pre>\n"
      ],
      "text/plain": [
       "<rich.jupyter.JupyterRenderable at 0x7f31ee9a1a90>"
      ]
     },
     "metadata": {},
     "output_type": "display_data"
    },
    {
     "data": {
      "text/html": [
       "<video src=\"media/jupyter/0a3fed92e7a6de32ec8da2c45e4a4a765375d243.mp4\" controls autoplay loop style=\"max-width: 25vw;\"  >\n",
       "      Your browser does not support the <code>video</code> element.\n",
       "    </video>"
      ],
      "text/plain": [
       "<IPython.core.display.Video object>"
      ]
     },
     "metadata": {},
     "output_type": "display_data"
    }
   ],
   "source": [
    "%%manim -qh -r 1280,720 -o resize-objects.mp4 BRecipe\n",
    "pass"
   ]
  },
  {
   "cell_type": "code",
   "execution_count": 6,
   "id": "c88b9a6c-708c-43b8-86d7-01fefa7869bb",
   "metadata": {},
   "outputs": [
    {
     "name": "stderr",
     "output_type": "stream",
     "text": [
      "/usr/local/lib/python3.8/site-packages/numpy/core/_asarray.py:102: VisibleDeprecationWarning: Creating an ndarray from nested sequences exceeding the maximum number of dimensions of 32 is deprecated. If you mean to do this, you must specify 'dtype=object' when creating the ndarray.\n",
      "  return array(a, dtype, copy=False, order=order)\n"
     ]
    },
    {
     "name": "stdout",
     "output_type": "stream",
     "text": [
      "0\n"
     ]
    },
    {
     "name": "stderr",
     "output_type": "stream",
     "text": [
      "Waiting 0:   0%|          | 0/45 [00:00<?, ?it/s]/usr/local/lib/python3.8/site-packages/numpy/core/_asarray.py:102: VisibleDeprecationWarning: Creating an ndarray from nested sequences exceeding the maximum number of dimensions of 32 is deprecated. If you mean to do this, you must specify 'dtype=object' when creating the ndarray.\n",
      "  return array(a, dtype, copy=False, order=order)\n"
     ]
    },
    {
     "name": "stdout",
     "output_type": "stream",
     "text": [
      "0.0\n"
     ]
    },
    {
     "name": "stderr",
     "output_type": "stream",
     "text": [
      "Waiting 0:   2%|▏         | 1/45 [00:00<00:10,  4.35it/s]"
     ]
    },
    {
     "name": "stdout",
     "output_type": "stream",
     "text": [
      "0.06666666666666667\n"
     ]
    },
    {
     "name": "stderr",
     "output_type": "stream",
     "text": [
      "Waiting 0:   4%|▍         | 2/45 [00:00<00:09,  4.60it/s]"
     ]
    },
    {
     "name": "stdout",
     "output_type": "stream",
     "text": [
      "0.06666666666666667\n"
     ]
    },
    {
     "name": "stderr",
     "output_type": "stream",
     "text": [
      "Waiting 0:   7%|▋         | 3/45 [00:00<00:09,  4.52it/s]"
     ]
    },
    {
     "name": "stdout",
     "output_type": "stream",
     "text": [
      "0.06666666666666668\n"
     ]
    },
    {
     "name": "stderr",
     "output_type": "stream",
     "text": [
      "Waiting 0:   9%|▉         | 4/45 [00:00<00:09,  4.45it/s]"
     ]
    },
    {
     "name": "stdout",
     "output_type": "stream",
     "text": [
      "0.06666666666666665\n"
     ]
    },
    {
     "name": "stderr",
     "output_type": "stream",
     "text": [
      "Waiting 0:  11%|█         | 5/45 [00:01<00:09,  4.36it/s]"
     ]
    },
    {
     "name": "stdout",
     "output_type": "stream",
     "text": [
      "0.06666666666666665\n"
     ]
    },
    {
     "name": "stderr",
     "output_type": "stream",
     "text": [
      "Waiting 0:  13%|█▎        | 6/45 [00:01<00:08,  4.35it/s]"
     ]
    },
    {
     "name": "stdout",
     "output_type": "stream",
     "text": [
      "0.06666666666666671\n"
     ]
    },
    {
     "name": "stderr",
     "output_type": "stream",
     "text": [
      "Waiting 0:  16%|█▌        | 7/45 [00:01<00:09,  4.15it/s]"
     ]
    },
    {
     "name": "stdout",
     "output_type": "stream",
     "text": [
      "0.06666666666666665\n"
     ]
    },
    {
     "name": "stderr",
     "output_type": "stream",
     "text": [
      "Waiting 0:  18%|█▊        | 8/45 [00:01<00:08,  4.19it/s]"
     ]
    },
    {
     "name": "stdout",
     "output_type": "stream",
     "text": [
      "0.06666666666666665\n"
     ]
    },
    {
     "name": "stderr",
     "output_type": "stream",
     "text": [
      "Waiting 0:  20%|██        | 9/45 [00:02<00:08,  4.23it/s]"
     ]
    },
    {
     "name": "stdout",
     "output_type": "stream",
     "text": [
      "0.06666666666666665\n"
     ]
    },
    {
     "name": "stderr",
     "output_type": "stream",
     "text": [
      "Waiting 0:  22%|██▏       | 10/45 [00:02<00:08,  4.19it/s]"
     ]
    },
    {
     "name": "stdout",
     "output_type": "stream",
     "text": [
      "0.06666666666666665\n"
     ]
    },
    {
     "name": "stderr",
     "output_type": "stream",
     "text": [
      "Waiting 0:  24%|██▍       | 11/45 [00:02<00:07,  4.26it/s]"
     ]
    },
    {
     "name": "stdout",
     "output_type": "stream",
     "text": [
      "0.06666666666666665\n"
     ]
    },
    {
     "name": "stderr",
     "output_type": "stream",
     "text": [
      "Waiting 0:  27%|██▋       | 12/45 [00:02<00:07,  4.32it/s]"
     ]
    },
    {
     "name": "stdout",
     "output_type": "stream",
     "text": [
      "0.06666666666666676\n"
     ]
    },
    {
     "name": "stderr",
     "output_type": "stream",
     "text": [
      "Waiting 0:  29%|██▉       | 13/45 [00:03<00:07,  4.34it/s]"
     ]
    },
    {
     "name": "stdout",
     "output_type": "stream",
     "text": [
      "0.06666666666666665\n"
     ]
    },
    {
     "name": "stderr",
     "output_type": "stream",
     "text": [
      "Waiting 0:  31%|███       | 14/45 [00:03<00:07,  4.37it/s]"
     ]
    },
    {
     "name": "stdout",
     "output_type": "stream",
     "text": [
      "0.06666666666666665\n"
     ]
    },
    {
     "name": "stderr",
     "output_type": "stream",
     "text": [
      "Waiting 0:  33%|███▎      | 15/45 [00:03<00:06,  4.35it/s]"
     ]
    },
    {
     "name": "stdout",
     "output_type": "stream",
     "text": [
      "0.06666666666666665\n"
     ]
    },
    {
     "name": "stderr",
     "output_type": "stream",
     "text": [
      "Waiting 0:  36%|███▌      | 16/45 [00:03<00:06,  4.33it/s]"
     ]
    },
    {
     "name": "stdout",
     "output_type": "stream",
     "text": [
      "0.06666666666666665\n"
     ]
    },
    {
     "name": "stderr",
     "output_type": "stream",
     "text": [
      "Waiting 0:  38%|███▊      | 17/45 [00:03<00:06,  4.31it/s]"
     ]
    },
    {
     "name": "stdout",
     "output_type": "stream",
     "text": [
      "0.06666666666666665\n"
     ]
    },
    {
     "name": "stderr",
     "output_type": "stream",
     "text": [
      "Waiting 0:  40%|████      | 18/45 [00:04<00:06,  4.13it/s]"
     ]
    },
    {
     "name": "stdout",
     "output_type": "stream",
     "text": [
      "0.06666666666666665\n"
     ]
    },
    {
     "name": "stderr",
     "output_type": "stream",
     "text": [
      "Waiting 0:  42%|████▏     | 19/45 [00:04<00:06,  4.02it/s]"
     ]
    },
    {
     "name": "stdout",
     "output_type": "stream",
     "text": [
      "0.06666666666666665\n"
     ]
    },
    {
     "name": "stderr",
     "output_type": "stream",
     "text": [
      "Waiting 0:  44%|████▍     | 20/45 [00:04<00:06,  3.99it/s]"
     ]
    },
    {
     "name": "stdout",
     "output_type": "stream",
     "text": [
      "0.06666666666666665\n"
     ]
    },
    {
     "name": "stderr",
     "output_type": "stream",
     "text": [
      "Waiting 0:  47%|████▋     | 21/45 [00:04<00:06,  3.97it/s]"
     ]
    },
    {
     "name": "stdout",
     "output_type": "stream",
     "text": [
      "0.06666666666666665\n"
     ]
    },
    {
     "name": "stderr",
     "output_type": "stream",
     "text": [
      "Waiting 0:  49%|████▉     | 22/45 [00:05<00:05,  3.95it/s]"
     ]
    },
    {
     "name": "stdout",
     "output_type": "stream",
     "text": [
      "0.06666666666666665\n"
     ]
    },
    {
     "name": "stderr",
     "output_type": "stream",
     "text": [
      "Waiting 0:  51%|█████     | 23/45 [00:05<00:05,  3.92it/s]"
     ]
    },
    {
     "name": "stdout",
     "output_type": "stream",
     "text": [
      "0.06666666666666665\n"
     ]
    },
    {
     "name": "stderr",
     "output_type": "stream",
     "text": [
      "Waiting 0:  53%|█████▎    | 24/45 [00:05<00:05,  3.90it/s]"
     ]
    },
    {
     "name": "stdout",
     "output_type": "stream",
     "text": [
      "0.06666666666666687\n"
     ]
    },
    {
     "name": "stderr",
     "output_type": "stream",
     "text": [
      "Waiting 0:  56%|█████▌    | 25/45 [00:06<00:05,  3.89it/s]"
     ]
    },
    {
     "name": "stdout",
     "output_type": "stream",
     "text": [
      "0.06666666666666665\n"
     ]
    },
    {
     "name": "stderr",
     "output_type": "stream",
     "text": [
      "Waiting 0:  58%|█████▊    | 26/45 [00:06<00:04,  3.88it/s]"
     ]
    },
    {
     "name": "stdout",
     "output_type": "stream",
     "text": [
      "0.06666666666666665\n"
     ]
    },
    {
     "name": "stderr",
     "output_type": "stream",
     "text": [
      "Waiting 0:  60%|██████    | 27/45 [00:06<00:04,  3.85it/s]"
     ]
    },
    {
     "name": "stdout",
     "output_type": "stream",
     "text": [
      "0.06666666666666665\n"
     ]
    },
    {
     "name": "stderr",
     "output_type": "stream",
     "text": [
      "Waiting 0:  62%|██████▏   | 28/45 [00:06<00:04,  3.70it/s]"
     ]
    },
    {
     "name": "stdout",
     "output_type": "stream",
     "text": [
      "0.06666666666666665\n"
     ]
    },
    {
     "name": "stderr",
     "output_type": "stream",
     "text": [
      "Waiting 0:  64%|██████▍   | 29/45 [00:07<00:04,  3.73it/s]"
     ]
    },
    {
     "name": "stdout",
     "output_type": "stream",
     "text": [
      "0.06666666666666665\n"
     ]
    },
    {
     "name": "stderr",
     "output_type": "stream",
     "text": [
      "Waiting 0:  67%|██████▋   | 30/45 [00:07<00:04,  3.71it/s]"
     ]
    },
    {
     "name": "stdout",
     "output_type": "stream",
     "text": [
      "0.06666666666666665\n"
     ]
    },
    {
     "name": "stderr",
     "output_type": "stream",
     "text": [
      "Waiting 0:  69%|██████▉   | 31/45 [00:07<00:03,  3.70it/s]"
     ]
    },
    {
     "name": "stdout",
     "output_type": "stream",
     "text": [
      "0.06666666666666643\n"
     ]
    },
    {
     "name": "stderr",
     "output_type": "stream",
     "text": [
      "Waiting 0:  71%|███████   | 32/45 [00:07<00:03,  3.69it/s]"
     ]
    },
    {
     "name": "stdout",
     "output_type": "stream",
     "text": [
      "0.06666666666666687\n"
     ]
    },
    {
     "name": "stderr",
     "output_type": "stream",
     "text": [
      "Waiting 0:  73%|███████▎  | 33/45 [00:08<00:03,  3.66it/s]"
     ]
    },
    {
     "name": "stdout",
     "output_type": "stream",
     "text": [
      "0.06666666666666687\n"
     ]
    },
    {
     "name": "stderr",
     "output_type": "stream",
     "text": [
      "Waiting 0:  76%|███████▌  | 34/45 [00:08<00:03,  3.64it/s]"
     ]
    },
    {
     "name": "stdout",
     "output_type": "stream",
     "text": [
      "0.06666666666666643\n"
     ]
    },
    {
     "name": "stderr",
     "output_type": "stream",
     "text": [
      "Waiting 0:  78%|███████▊  | 35/45 [00:08<00:02,  3.57it/s]"
     ]
    },
    {
     "name": "stdout",
     "output_type": "stream",
     "text": [
      "0.06666666666666687\n"
     ]
    },
    {
     "name": "stderr",
     "output_type": "stream",
     "text": [
      "Waiting 0:  80%|████████  | 36/45 [00:09<00:02,  3.52it/s]"
     ]
    },
    {
     "name": "stdout",
     "output_type": "stream",
     "text": [
      "0.06666666666666643\n"
     ]
    },
    {
     "name": "stderr",
     "output_type": "stream",
     "text": [
      "Waiting 0:  82%|████████▏ | 37/45 [00:09<00:02,  3.44it/s]"
     ]
    },
    {
     "name": "stdout",
     "output_type": "stream",
     "text": [
      "0.06666666666666687\n"
     ]
    },
    {
     "name": "stderr",
     "output_type": "stream",
     "text": [
      "Waiting 0:  84%|████████▍ | 38/45 [00:09<00:02,  3.38it/s]"
     ]
    },
    {
     "name": "stdout",
     "output_type": "stream",
     "text": [
      "0.06666666666666643\n"
     ]
    },
    {
     "name": "stderr",
     "output_type": "stream",
     "text": [
      "Waiting 0:  87%|████████▋ | 39/45 [00:09<00:01,  3.33it/s]"
     ]
    },
    {
     "name": "stdout",
     "output_type": "stream",
     "text": [
      "0.06666666666666687\n"
     ]
    },
    {
     "name": "stderr",
     "output_type": "stream",
     "text": [
      "Waiting 0:  89%|████████▉ | 40/45 [00:10<00:01,  3.30it/s]"
     ]
    },
    {
     "name": "stdout",
     "output_type": "stream",
     "text": [
      "0.06666666666666643\n"
     ]
    },
    {
     "name": "stderr",
     "output_type": "stream",
     "text": [
      "Waiting 0:  91%|█████████ | 41/45 [00:10<00:01,  3.27it/s]"
     ]
    },
    {
     "name": "stdout",
     "output_type": "stream",
     "text": [
      "0.06666666666666687\n"
     ]
    },
    {
     "name": "stderr",
     "output_type": "stream",
     "text": [
      "Waiting 0:  93%|█████████▎| 42/45 [00:10<00:00,  3.24it/s]"
     ]
    },
    {
     "name": "stdout",
     "output_type": "stream",
     "text": [
      "0.06666666666666643\n"
     ]
    },
    {
     "name": "stderr",
     "output_type": "stream",
     "text": [
      "Waiting 0:  96%|█████████▌| 43/45 [00:11<00:00,  3.20it/s]"
     ]
    },
    {
     "name": "stdout",
     "output_type": "stream",
     "text": [
      "0.06666666666666687\n"
     ]
    },
    {
     "name": "stderr",
     "output_type": "stream",
     "text": [
      "Waiting 0:  98%|█████████▊| 44/45 [00:11<00:00,  3.18it/s]"
     ]
    },
    {
     "name": "stdout",
     "output_type": "stream",
     "text": [
      "0.06666666666666643\n"
     ]
    },
    {
     "name": "stderr",
     "output_type": "stream",
     "text": [
      "                                                          \r"
     ]
    },
    {
     "name": "stdout",
     "output_type": "stream",
     "text": [
      "0\n"
     ]
    },
    {
     "data": {
      "text/html": [
       "<pre style=\"white-space:pre;overflow-x:auto;line-height:normal;font-family:Menlo,'DejaVu Sans Mono',consolas,'Courier New',monospace\"><span style=\"color: #7fbfbf\">[05/04/21 06:25:22] </span><span style=\"color: #008000\">INFO</span>     Animation <span style=\"color: #008000\">0</span> : Partial movie file        <a href=\"file:///usr/local/lib/python3.8/site-packages/manim/scene/scene_file_writer.py\"><span style=\"color: #7f7f7f\">scene_file_writer.py</span></a><span style=\"color: #7f7f7f\">:401</span>\n",
       "                             written in <span style=\"font-weight: bold\">{</span><span style=\"color: #008000\">'/manim/notebooks/media/vid</span>                         \n",
       "                             <span style=\"color: #008000\">eos/notebooks/480p15/partial_movie_file</span>                         \n",
       "                             <span style=\"color: #008000\">s/My2DScene/1694171206_3010425686_10113</span>                         \n",
       "                             <span style=\"color: #008000\">9217.mp4'</span><span style=\"font-weight: bold\">}</span>                                                      \n",
       "</pre>\n"
      ],
      "text/plain": [
       "<rich.jupyter.JupyterRenderable at 0x7f8ab05a0fa0>"
      ]
     },
     "metadata": {},
     "output_type": "display_data"
    },
    {
     "data": {
      "text/html": [
       "<pre style=\"white-space:pre;overflow-x:auto;line-height:normal;font-family:Menlo,'DejaVu Sans Mono',consolas,'Courier New',monospace\"><span style=\"color: #7fbfbf\">                    </span><span style=\"color: #008000\">INFO</span>                                             <a href=\"file:///usr/local/lib/python3.8/site-packages/manim/scene/scene_file_writer.py\"><span style=\"color: #7f7f7f\">scene_file_writer.py</span></a><span style=\"color: #7f7f7f\">:585</span>\n",
       "                             <span style=\"color: #808000; font-weight: bold\">File</span> ready at <span style=\"color: #800080\">/manim/notebooks/media/vi</span>                         \n",
       "                             <span style=\"color: #800080\">deos/notebooks/480p15/</span><span style=\"color: #ff00ff\">My2DScene.mp4</span>                             \n",
       "                                                                                             \n",
       "</pre>\n"
      ],
      "text/plain": [
       "<rich.jupyter.JupyterRenderable at 0x7f8ab05a0fa0>"
      ]
     },
     "metadata": {},
     "output_type": "display_data"
    },
    {
     "data": {
      "text/html": [
       "<pre style=\"white-space:pre;overflow-x:auto;line-height:normal;font-family:Menlo,'DejaVu Sans Mono',consolas,'Courier New',monospace\"><span style=\"color: #7fbfbf\">                    </span><span style=\"color: #008000\">INFO</span>     <span style=\"color: #808000; font-weight: bold\">Rendered</span> My2DScene                                  <a href=\"file:///usr/local/lib/python3.8/site-packages/manim/scene/scene.py\"><span style=\"color: #7f7f7f\">scene.py</span></a><span style=\"color: #7f7f7f\">:199</span>\n",
       "                             <span style=\"color: #808000; font-weight: bold\">Played</span> <span style=\"color: #008000\">1</span> <span style=\"color: #808000; font-weight: bold\">animations</span>                                             \n",
       "</pre>\n"
      ],
      "text/plain": [
       "<rich.jupyter.JupyterRenderable at 0x7f8ab05a0b20>"
      ]
     },
     "metadata": {},
     "output_type": "display_data"
    },
    {
     "data": {
      "text/html": [
       "<video src=\"media/jupyter/440c12690ced10bdc17c62923c0b455fd70268f4.mp4\" controls autoplay loop style=\"max-width: 25vw;\"  >\n",
       "      Your browser does not support the <code>video</code> element.\n",
       "    </video>"
      ],
      "text/plain": [
       "<IPython.core.display.Video object>"
      ]
     },
     "metadata": {},
     "output_type": "display_data"
    }
   ],
   "source": [
    "%%manim -ql My2DScene\n",
    "\n",
    "import functools as ft\n",
    "import copy\n",
    "colors = ['#caf0f8', '#90e0ef', '#00b4d8', '#0096c7']\n",
    "\n",
    "class MyMatrix(manim.DecimalMatrix):\n",
    "    pass\n",
    "\n",
    "M = np.array([[2, 0.5, 1],[0.5, 1, 1]])\n",
    "M0 = np.zeros(M.shape)\n",
    "M = M0\n",
    "W = np.array([[3, 1, 4,1],[0, 2, 1, 0.5],[0.5, 0, 2, 0]])\n",
    "add1 = np.zeros(M.shape)\n",
    "add1[0, 1] = 1.0\n",
    "Z = M0 @ W\n",
    "\n",
    "class My2DScene(manim.Scene):\n",
    "    def construct(self):\n",
    "        M_matrix = MyMatrix(M)\n",
    "        M0_matrix = MyMatrix(M0)\n",
    "        Z_matrix = MyMatrix(Z)\n",
    "        W_matrix = MyMatrix(W)\n",
    "        arrow = manim.Arrow(start=manim.LEFT, end=manim.RIGHT, color='#505050')\n",
    "        matrix_eq = manim.VMobject()\n",
    "        #matrix_eq.add(M0_matrix, W_matrix, arrow, Z_matrix)\n",
    "        #matrix_eq.arrange()\n",
    "        #self.add(matrix_eq)\n",
    "        \n",
    "        #matrix_mult_ob.arrange()\n",
    "        #W_matrix.next_to(M0_matrix, manim.RIGHT)        \n",
    "        #arrow.next_to(W_matrix, manim.RIGHT)\n",
    "        #Z_matrix.next_to(arrow, manim.RIGHT)\n",
    "        #self.add(M0_matrix, W_matrix, arrow, Z_matrix)\n",
    "        #dup_row1 = copy.deepcopy(W_matrix.get_rows()[0])\n",
    "        #target_x = W_matrix.get_center()[1]\n",
    "        #y_offset = 2\n",
    "        #target_y = W_matrix.get_critical_point(manim.DOWN)[0] - 2\n",
    "        #animate_row_mult(self, dup_row1, 2.0, np.array([target_x, target_y, 0]))\n",
    "        #matrix_mult_ob.add(M_matrix, W_matrix)\n",
    "        #matrix_mult_ob.arrange()\n",
    "        #self.add(matrix_mult_ob)\n",
    "        \n",
    "        def plus(to_add, m, dt):\n",
    "            if m.mob_matrix.shape != to_add.shape:\n",
    "                raise Exception(\"shapes must match\")\n",
    "            rate = 0.2\n",
    "            factor = min(1.0, dt*rate)\n",
    "            for r in range(m.mob_matrix.shape[0]):\n",
    "                for c in range(m.mob_matrix.shape[1]):\n",
    "                    m.mob_matrix[r,c].set_value(m.mob_matrix[r,c].get_value() + \n",
    "                                                to_add[r,c]*factor)\n",
    "                    \n",
    "                    \n",
    "        def plus_complete(eq, dt):\n",
    "            rate = 0.4\n",
    "            factor = min(1.0, dt*rate)\n",
    "            print(dt)\n",
    "            global M\n",
    "            M = factor*add1 + M\n",
    "        \n",
    "        def get_M():\n",
    "            return MyMatrix(M).next_to(W_matrix, manim.LEFT)\n",
    "            \n",
    "        def get_mult_result():\n",
    "            y = M @ W\n",
    "            y_matrix = MyMatrix(y).next_to(arrow, manim.RIGHT)\n",
    "            return y_matrix\n",
    "        \n",
    "        matrix_eq.add(manim.always_redraw(get_M), \n",
    "                      W_matrix, arrow, manim.always_redraw(get_mult_result).next_to(arrow))\n",
    "        matrix_eq.add_updater(plus_complete)\n",
    "        matrix_eq.arrange()\n",
    "        self.add(matrix_eq)\n",
    "        #M_matrix.add_updater(ft.partial(plus, negM))\n",
    "        #matrix_eq.add_updater(lambda meq : meq.arrange())\n",
    "        self.wait(3)\n",
    "        \n",
    "                    \n",
    "            \n",
    "def animate_row_mult(scene, row, multiplier, target_pos, alignment=manim.ORIGIN):\n",
    "    init_values = [d.get_value() for d in row]\n",
    "    get_dist = lambda : np.linalg.norm(target_pos - row.get_critical_point(alignment))\n",
    "    init_dist = get_dist()\n",
    "\n",
    "    def updater(row):\n",
    "        for i, d in enumerate(row):\n",
    "            current_dist = get_dist()\n",
    "            progress = round(1 - current_dist/init_dist, 10)\n",
    "            temp_mult = 1 * (1 - progress) + multiplier * progress\n",
    "            d.set_value(init_values[i] * temp_mult)\n",
    "    #    decimal.add_updater(ft.partial(updater, init_val=init_values[i]))\n",
    "    #row.add_updater(updater)\n",
    "    #scene.play(row.animate.move_to(target_pos, alignment), run_time=3)\n",
    "    scene.play(row.animate.shift(target_pos - row.get_critical_point(alignment)))\n",
    "    scene.wait(1)"
   ]
  },
  {
   "cell_type": "code",
   "execution_count": 7,
   "id": "44129ed0-8c2e-48f4-b61e-4d069df2e44b",
   "metadata": {},
   "outputs": [
    {
     "name": "stderr",
     "output_type": "stream",
     "text": [
      "/usr/local/lib/python3.8/site-packages/numpy/core/_asarray.py:102: VisibleDeprecationWarning: Creating an ndarray from nested sequences exceeding the maximum number of dimensions of 32 is deprecated. If you mean to do this, you must specify 'dtype=object' when creating the ndarray.\n",
      "  return array(a, dtype, copy=False, order=order)\n",
      "                                                                                 \r"
     ]
    },
    {
     "data": {
      "text/html": [
       "<pre style=\"white-space:pre;overflow-x:auto;line-height:normal;font-family:Menlo,'DejaVu Sans Mono',consolas,'Courier New',monospace\"><span style=\"color: #7fbfbf\">[05/04/21 06:25:24] </span><span style=\"color: #008000\">INFO</span>     Animation <span style=\"color: #008000\">0</span> : Partial movie file        <a href=\"file:///usr/local/lib/python3.8/site-packages/manim/scene/scene_file_writer.py\"><span style=\"color: #7f7f7f\">scene_file_writer.py</span></a><span style=\"color: #7f7f7f\">:401</span>\n",
       "                             written in <span style=\"font-weight: bold\">{</span><span style=\"color: #008000\">'/manim/notebooks/media/vid</span>                         \n",
       "                             <span style=\"color: #008000\">eos/notebooks/480p15/partial_movie_file</span>                         \n",
       "                             <span style=\"color: #008000\">s/MyScene/2660467682_702053902_34907134</span>                         \n",
       "                             <span style=\"color: #008000\">54.mp4'</span><span style=\"font-weight: bold\">}</span>                                                        \n",
       "</pre>\n"
      ],
      "text/plain": [
       "<rich.jupyter.JupyterRenderable at 0x7f8ab0791c70>"
      ]
     },
     "metadata": {},
     "output_type": "display_data"
    },
    {
     "data": {
      "text/html": [
       "<pre style=\"white-space:pre;overflow-x:auto;line-height:normal;font-family:Menlo,'DejaVu Sans Mono',consolas,'Courier New',monospace\"><span style=\"color: #7fbfbf\">[05/04/21 06:25:26] </span><span style=\"color: #008000\">INFO</span>     Animation <span style=\"color: #008000\">1</span> : Partial movie file        <a href=\"file:///usr/local/lib/python3.8/site-packages/manim/scene/scene_file_writer.py\"><span style=\"color: #7f7f7f\">scene_file_writer.py</span></a><span style=\"color: #7f7f7f\">:401</span>\n",
       "                             written in <span style=\"font-weight: bold\">{</span><span style=\"color: #008000\">'/manim/notebooks/media/vid</span>                         \n",
       "                             <span style=\"color: #008000\">eos/notebooks/480p15/partial_movie_file</span>                         \n",
       "                             <span style=\"color: #008000\">s/MyScene/42459752_171535338_3368390139</span>                         \n",
       "                             <span style=\"color: #008000\">.mp4'</span><span style=\"font-weight: bold\">}</span>                                                          \n",
       "</pre>\n"
      ],
      "text/plain": [
       "<rich.jupyter.JupyterRenderable at 0x7f8ab0aba700>"
      ]
     },
     "metadata": {},
     "output_type": "display_data"
    },
    {
     "data": {
      "text/html": [
       "<pre style=\"white-space:pre;overflow-x:auto;line-height:normal;font-family:Menlo,'DejaVu Sans Mono',consolas,'Courier New',monospace\"><span style=\"color: #7fbfbf\">                    </span><span style=\"color: #008000\">INFO</span>                                             <a href=\"file:///usr/local/lib/python3.8/site-packages/manim/scene/scene_file_writer.py\"><span style=\"color: #7f7f7f\">scene_file_writer.py</span></a><span style=\"color: #7f7f7f\">:585</span>\n",
       "                             <span style=\"color: #808000; font-weight: bold\">File</span> ready at <span style=\"color: #800080\">/manim/notebooks/media/vi</span>                         \n",
       "                             <span style=\"color: #800080\">deos/notebooks/480p15/</span><span style=\"color: #ff00ff\">MyScene.mp4</span>                               \n",
       "                                                                                             \n",
       "</pre>\n"
      ],
      "text/plain": [
       "<rich.jupyter.JupyterRenderable at 0x7f8ab0aba6d0>"
      ]
     },
     "metadata": {},
     "output_type": "display_data"
    },
    {
     "data": {
      "text/html": [
       "<pre style=\"white-space:pre;overflow-x:auto;line-height:normal;font-family:Menlo,'DejaVu Sans Mono',consolas,'Courier New',monospace\"><span style=\"color: #7fbfbf\">                    </span><span style=\"color: #008000\">INFO</span>     <span style=\"color: #808000; font-weight: bold\">Rendered</span> MyScene                                    <a href=\"file:///usr/local/lib/python3.8/site-packages/manim/scene/scene.py\"><span style=\"color: #7f7f7f\">scene.py</span></a><span style=\"color: #7f7f7f\">:199</span>\n",
       "                             <span style=\"color: #808000; font-weight: bold\">Played</span> <span style=\"color: #008000\">2</span> <span style=\"color: #808000; font-weight: bold\">animations</span>                                             \n",
       "</pre>\n"
      ],
      "text/plain": [
       "<rich.jupyter.JupyterRenderable at 0x7f8ab07b5820>"
      ]
     },
     "metadata": {},
     "output_type": "display_data"
    },
    {
     "data": {
      "text/html": [
       "<video src=\"media/jupyter/3ea7942e8ffba2e5a1033f9065093a625dd18e07.mp4\" controls autoplay loop style=\"max-width: 25vw;\"  >\n",
       "      Your browser does not support the <code>video</code> element.\n",
       "    </video>"
      ],
      "text/plain": [
       "<IPython.core.display.Video object>"
      ]
     },
     "metadata": {},
     "output_type": "display_data"
    }
   ],
   "source": [
    "%%manim -ql MyScene\n",
    "\n",
    "colors = ['#caf0f8', '#90e0ef', '#00b4d8', '#0096c7']\n",
    "\n",
    "M = np.array([[2, 0.5, 1],[0.5, 1, 1]])\n",
    "W = np.array([[2, 1, 4,1],[0, 2, 1, 0.5],[0.5, 0, 2, 0]])\n",
    "\n",
    "class MyScene(manim.ThreeDScene):     \n",
    "    def construct(self):\n",
    "        #self.move_camera(distance=90*scale)\n",
    "        #self.set_camera_orientation(phi=50*manim.DEGREES, theta=-60*manim.DEGREES)\n",
    "        self.set_camera_orientation(phi=0, theta=-90*manim.DEGREES)\n",
    "        axes = manim.ThreeDAxes()\n",
    "        self.add(axes)\n",
    "        M_prisms = self.matrix_as_prisms(M)\n",
    "        W_prisims = self.matrix_as_prisms(W)\n",
    "        M_matrix = manim.Matrix(M)\n",
    "        W_matrix = manim.Matrix(W)\n",
    "        #M_matrix.move_to(manim.ORIGIN, aligned_edge=[-1, 1, -1])\n",
    "        #W_matrix.next_to(M_matrix, manim.RIGHT)\n",
    "        matrix_mult_ob = manim.VMobject()\n",
    "        matrix_mult_ob.add(M_matrix, W_matrix)\n",
    "        matrix_mult_ob.arrange()\n",
    "        matrix_mult_ob.move_to(manim.ORIGIN, aligned_edge=[-1, 1, -1])\n",
    "        #self.add(M_matrix, W_matrix)\n",
    "        self.add(matrix_mult_ob)\n",
    "        self.move_camera(frame_center=np.array([10,50,0]))#matrix_mult_ob.get_center())\n",
    "        #self.move_camera(phi=45*manim.DEGREES)\n",
    "        #self.begin_ambient_camera_rotation(rate=0.25)\n",
    "        self.wait(3)\n",
    "        #self.stop_ambient_camera_rotation()\n",
    "        \n",
    "    def matrix_as_prisms(self, matrix, max_opacity=1.0, min_opacity=1.0):\n",
    "        matrix_ob = manim.VMobject()\n",
    "        opacity_step = (max_opacity - min_opacity) / matrix.shape[0]\n",
    "        prisms = []\n",
    "        for r in range(matrix.shape[0]):\n",
    "            #for c in range(matrix.shape[1]):\n",
    "             #   p = manim.Prism([width, depth, matrix[r, c]*scale])\n",
    "             #   p.move_to(c*scale * manim.RIGHT + (r + r * row_spacing) * scale * manim.DOWN)#-0.5*matrix[r,c]*IN)\n",
    "             #   p.align_on_border(manim.IN)\n",
    "             #   p.set_fill(colors[r], opacity=max_opacity - r*opacity_step)\n",
    "             #   p.set_stroke(color='#00000', width=1.0)\n",
    "             #   matrix_ob.add(p)\n",
    "            vec = self.vector_as_prisms(matrix[r], colors[r], opacity=max_opacity - r*opacity_step)\n",
    "            matrix_ob.add(vec)\n",
    "        matrix_ob.arrange(direction=np.array([0,-1,0]), center=False, coor_mask=np.array([0,1,0]))\n",
    "        #matrix_ob.space_out_submobjects(factor=0.1)\n",
    "        return matrix_ob\n",
    "    \n",
    "    def vector_as_prisms(self, vector, color=None, opacity=1.0):\n",
    "        width = depth = 1\n",
    "        vector_ob = manim.VMobject()\n",
    "        prisms = []\n",
    "        i = 0\n",
    "        for val in vector:\n",
    "            p = manim.Prism([width, depth, val])\n",
    "            p.set_fill(color, opacity=opacity)\n",
    "            p.align_on_border(manim.IN)\n",
    "            #p.set_stroke(color='#00000', width=1.0)\n",
    "            #bottom_left_corner = p.get_critical_point([-1,-1,-1])\n",
    "            #p.shift(-val*scale*0.5*np.array([0,0,1]))\n",
    "            #p.shift(np.array([2,0,0])*i)\n",
    "            #i+=1\n",
    "            prisms.append(p)\n",
    "        vector_ob.add(*prisms)\n",
    "        #vector_ob.to_edge(edge=manim.IN)\n",
    "        vector_ob.arrange(direction=manim.X_AXIS, center=False, coor_mask=np.array([1,0,0]))\n",
    "        return vector_ob\n",
    "            \n",
    "                \n",
    "                \n"
   ]
  },
  {
   "cell_type": "code",
   "execution_count": null,
   "id": "7aa36a4e-4533-45b1-99db-b2082be8bfc6",
   "metadata": {},
   "outputs": [],
   "source": [
    "# Graveyard\n",
    "\n",
    "\n",
    "\n",
    "class CombiningColumns3(manim.Scene):\n",
    "    def construct(self): \n",
    "        vecs = [create_2d_vec(num_input_boxes, manim.Y_AXIS, colors[i]) for i in range(len(mix))]\n",
    "        vec_identifiers = ['X0', 'X1', 'X2', 'Y']\n",
    "        factor_identifiers = ['f0', 'f1', 'f2']\n",
    "        all_identifiers = vec_identifiers + factor_identifiers + ['=']\n",
    "        \n",
    "        def repl(eq1, tex, obj):\n",
    "            idx = eq1.index_of_part_by_tex(tex)\n",
    "            repl = eq1[idx].become(obj.move_to(eq1[idx]))\n",
    "            return repl\n",
    "        \n",
    "        #def repl(obj1, )\n",
    "\n",
    "        def create_eqs():\n",
    "            # eq1\n",
    "            eq1 = manim.MathTex(r'X0 \\times f0 + X1 \\times f1 + X2 \\times f2 = Y', color=font_color,\n",
    "                                 substrings_to_isolate=all_identifiers)  \n",
    "            eq1_by_index = {k:eq1.index_of_part_by_tex(k) for k in ['X0', 'X1', 'X2', 'f0', 'f1', 'f2', 'Y']}\n",
    "            eq1_by_obj = {k:eq1.get_part_by_tex(k) for k in ['X0', 'X1', 'X2', 'f0', 'f1', 'f2', 'Y']}\n",
    "            x0, x1, x2 = (create_2d_vec(num_input_boxes, manim.Y_AXIS, colors[i]) for i in range(len(mix)))\n",
    "            f0, f1, f2 = (manim.Integer(i, color=font_color) for i in mix)\n",
    "            #f0, f1, f2 = (i for i in mix)\n",
    "            y = create_2d_vec(num_input_boxes,manim.Y_AXIS, result_color)\n",
    "            #xx = manim.MobjectMatrix([[x0.copy(), x1.copy(), x2.copy()]])\n",
    "            xx = manim.Matrix([['X0', 'X1', 'X2']])\n",
    "            ff = manim.IntegerMatrix([[0], [1], [2]])\n",
    "            print(manim.matrix_to_tex_string([[0,1, 2]]))\n",
    "            #yy = manim.MobjectMatrix(np.array([[y.copy()]]))  \n",
    "            xx.get_mob_matrix()[0,0].become(x0.copy().move_to(xx.get_mob_matrix()[0, 0]))\n",
    "            xx.get_mob_matrix()[0,1].become(x1.copy().move_to(xx.get_mob_matrix()[0, 1]))\n",
    "            xx.get_mob_matrix()[0,2].become(x2.copy().move_to(xx.get_mob_matrix()[0, 2]))\n",
    "            \n",
    "            repl(eq1, 'X0', x0)\n",
    "            repl(eq1, 'X1', x1)\n",
    "            repl(eq1, 'X2', x2)\n",
    "            repl(eq1, 'f0', f0)\n",
    "            repl(eq1, 'f1', f1)\n",
    "            repl(eq1, 'f2', f2)\n",
    "            repl(eq1, 'Y', y)\n",
    "            #eq1_by_obj['X1'].become(x1)\n",
    "            #eq1_by_obj['X2'].become(x2)\n",
    "            #eq1_by_obj['f0'].become(f0)\n",
    "            #eq1_by_obj['f1'].become(f1)\n",
    "            #eq1_by_obj['f2'].become(f2)\n",
    "            #eq1_by_obj['Y'].become(y)\n",
    "            # eq2\n",
    "\n",
    "            replacements = []\n",
    "            #replacements = [(x0, m[0,0]), (x1, m[0, 1]), (x2, m[0, 1]),\n",
    "            #                (f0, ff[0, 0]), (f1, m[1, 0]), (f2, m[2, 0]), (y, yy[0, 0])]\n",
    "            eq2 = manim.Tex('XX ff = YY', color=font_color, substrings_to_isolate=['XX', 'YY', 'ff'])\n",
    "            eq2.get_part_by_tex('XX').become(xx)\n",
    "            #eq2.get_part_by_tex('ff').become(ff)\n",
    "            #eq2.get_part_by_tex('yy').become(yy)\n",
    "            return eq1, eq2, replacements\n",
    "        eq1, eq2, replacements = create_eqs()\n",
    "        #eq2.shift([0, -2, 0])\n",
    "        self.add(eq2)\n",
    "        #self.add(eq1)\n",
    "        #self.wait(1)\n",
    "        #self.play(*[manim.ReplacementTransform(eq1[r[0]], eq2[r[1]]) for r in replacements])\n",
    "        #self.play(manim.ReplacementTransform(eq1, eq2))\n",
    "        #self.play(eq1.animate.fade(darkness=1), rate=4.0)\n",
    "\n",
    "class CombiningColumns2(manim.Scene):\n",
    "    def construct(self):\n",
    "        vecs = [create_2d_vec(num_input_boxes, manim.Y_AXIS, colors[i]) for i in range(len(mix))]\n",
    "        vecs.append(create_2d_vec(num_input_boxes,manim.Y_AXIS, result_color))\n",
    "        #          0     \n",
    "        #         X0 xf0 + X1 xf1 X2 xf2 = Y\n",
    "        #         [X0 & X1 & X2][f1 \\\\ f2 \\\\ f3] = [Y]\n",
    "        vec_identifiers = ['X0', 'X1', 'X2', 'Y']\n",
    "        factor_identifiers = ['f0', 'f1', 'f2']\n",
    "        all_identifiers = vec_identifiers + factor_identifiers + ['=']\n",
    "        eq1 = manim.MathTex('X0',       #0\n",
    "                            '\\\\times',  #1\n",
    "                            'f0',       #2\n",
    "                            '+',        #3\n",
    "                            'X1',       #4\n",
    "                            '\\\\times',  #5\n",
    "                            'f1',       #6\n",
    "                            '+',        #7\n",
    "                            'X2',       #8\n",
    "                            '\\\\times',  #9\n",
    "                            'f2',       #10\n",
    "                            '=',        #11\n",
    "                            'Y',        #12\n",
    "                            color=font_color, substrings_to_isolate=all_identifiers)\n",
    "        eq2 = manim.MathTex('\\\\left[',  #0\n",
    "                            'X0',       #1\n",
    "                            'X1',       #2\n",
    "                            'X2',       #3\n",
    "                            '\\\\right]', #4\n",
    "                            '=',        #5\n",
    "                            '\\\\left[',  #6\n",
    "                            'Y',        #7\n",
    "                            '\\\\right]', #8\n",
    "                            color=font_color,\n",
    "                           substrings_to_isolate=vec_identifiers) \n",
    "        #changes = [(0, 2, 4, 6, 8, 10, 12),\n",
    "        #           (1, , 3,)]        \n",
    "        eq1 = manim.MathTex(r'X0 \\times f0 + X1 \\times f1 + X2 \\times f2 = Y', color=font_color,\n",
    "                           substrings_to_isolate=all_identifiers)\n",
    "        eq2 = manim.MathTex(\n",
    "                        r'\\left[ X0 X1 X2 \\right] \\big[ f0  f1 f2 \\big] = \\left[ Y \\right]',\n",
    "                        #'\\\\left[ \\\\begin{array}{ccc}X0 & X1 & X2\\\\end{array} \\\\right] f0 f1 f0 Y',\n",
    "                        #r'\\left[ X0  X1  X2  \\right] \\big[ f0  f1 f2 \\big] = \\left[ Y \\right]',\n",
    "                        #r'\\left[ X0 X1 X2 \\right] \\begin{bmatrix} f0 \\\\ f1 \\\\ f2 \\end{bmatrix} = \\left[ Y \\right]',\n",
    "                        color=font_color, substrings_to_isolate=all_identifiers)\n",
    "        eq2.shift([0, -2, 0])\n",
    "        replacements = []\n",
    "        # Insert column vectors\n",
    "        for i in range(len(vecs)):\n",
    "            idx1 = eq1.index_of_part_by_tex(vec_identifiers[i])\n",
    "            idx2 = eq2.index_of_part_by_tex(vec_identifiers[i])\n",
    "            replacements.append((idx1, idx2))\n",
    "            cp1 = vecs[i].copy()\n",
    "            cp2 = vecs[i].copy()\n",
    "            cp1.move_to(eq1[idx1])\n",
    "            cp2.move_to(eq2[idx2])\n",
    "            eq1[idx1].become(cp1)\n",
    "            eq2[idx2].become(cp2) \n",
    "        for f in factor_identifiers + ['=']:\n",
    "            idx1 = eq1.index_of_part_by_tex(f)\n",
    "            idx2 = eq2.index_of_part_by_tex(f)\n",
    "            replacements.append((idx1, idx2)) \n",
    "        #self.add(eq2)\n",
    "        self.add(eq1)\n",
    "        #self.play(manim.Write(eq1))\n",
    "        self.wait(1)\n",
    "        eq2cp = eq2.copy()\n",
    "        self.play(*[manim.ReplacementTransform(eq1[r[0]], eq2[r[1]]) for r in replacements])\n",
    "        self.add(eq2cp)\n",
    "        self.wait(1)\n",
    "        #self.play(manim.ReplacementTransform(eq1, eq2))\n",
    "        #self.play(eq1.animate.fade(darkness=1), rate=4.0)\n",
    "        #self.add(eq2)"
   ]
  }
 ],
 "metadata": {
  "kernelspec": {
   "display_name": "Python 3",
   "language": "python",
   "name": "python3"
  },
  "language_info": {
   "codemirror_mode": {
    "name": "ipython",
    "version": 3
   },
   "file_extension": ".py",
   "mimetype": "text/x-python",
   "name": "python",
   "nbconvert_exporter": "python",
   "pygments_lexer": "ipython3",
   "version": "3.8.9"
  }
 },
 "nbformat": 4,
 "nbformat_minor": 5
}
