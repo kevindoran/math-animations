{
 "cells": [
  {
   "cell_type": "code",
   "execution_count": 3,
   "id": "e50a23d6",
   "metadata": {},
   "outputs": [
    {
     "data": {
      "text/html": [
       "<pre style=\"white-space:pre;overflow-x:auto;line-height:normal;font-family:Menlo,'DejaVu Sans Mono',consolas,'Courier New',monospace\">Manim Community <span style=\"color: #008000\">v0.6.0</span>\n",
       "\n",
       "</pre>\n"
      ],
      "text/plain": [
       "<rich.jupyter.JupyterRenderable at 0x7f230638a520>"
      ]
     },
     "metadata": {},
     "output_type": "display_data"
    }
   ],
   "source": [
    "import numpy as np\n",
    "import matplotlib.pyplot as plt\n",
    "import math\n",
    "import manim\n",
    "import functools\n",
    "import copy\n",
    "from enum import Enum\n",
    "import sklearn as sk\n",
    "import sklearn.decomposition as sk_dcomp"
   ]
  },
  {
   "cell_type": "markdown",
   "id": "93ce175f-46a8-4029-b8f4-c8292213f78c",
   "metadata": {},
   "source": [
    "Ref  \n",
    "[Colors](https://www.reddit.com/r/manim/comments/dzxoen/predefined_color_scheme/)"
   ]
  },
  {
   "cell_type": "code",
   "execution_count": 4,
   "id": "91b43256",
   "metadata": {
    "tags": []
   },
   "outputs": [
    {
     "data": {
      "text/plain": [
       "[<matplotlib.lines.Line2D at 0x7f23043c7580>]"
      ]
     },
     "execution_count": 4,
     "metadata": {},
     "output_type": "execute_result"
    },
    {
     "data": {
      "image/png": "[encoded data removed]",
      "text/plain": [
       "<Figure size 576x360 with 1 Axes>"
      ]
     },
     "metadata": {
      "needs_background": "light"
     },
     "output_type": "display_data"
    }
   ],
   "source": [
    "NUM_POINTS_PER_CLASS = 14\n",
    "NUM_CLASSES = 2\n",
    "NUM_POINTS = NUM_CLASSES * NUM_POINTS_PER_CLASS\n",
    "\n",
    "def generate_data():\n",
    "    seed = 124\n",
    "    rng = np.random.Generator(np.random.PCG64(seed))\n",
    "    def transform(points, rotate_rads, offset):\n",
    "        scale = np.array([[0.25, 0], [0, 2.5]])\n",
    "        rotate = np.array([[math.cos(rotate_rads), math.sin(rotate_rads)],\n",
    "                           [-math.sin(rotate_rads), math.cos(rotate_rads)]])\n",
    "        points = points @ scale\n",
    "        points = points @ rotate\n",
    "        points = points + offset\n",
    "        return points\n",
    "    points = rng.multivariate_normal([0,0], [[1, 0],[0,1]], size=NUM_POINTS)\n",
    "    points_c1 = transform(points[:NUM_POINTS//2], 1.2, np.array([1.5, 1]))\n",
    "    points_c2 = transform(points[NUM_POINTS//2:], 0.9, np.array([2.5, 2]))\n",
    "    return np.concatenate([points_c1, points_c2], axis=0)\n",
    "\n",
    "def generate_data2():\n",
    "    seed = 5\n",
    "    num_points = 60\n",
    "    rng = np.random.Generator(np.random.PCG64(seed))\n",
    "    def transform(points, rotate_rads, offset):\n",
    "        scale = np.array([[1.2, 0], [0, 1.2]])\n",
    "        rotate = np.array([[math.cos(rotate_rads), math.sin(rotate_rads)],\n",
    "                           [-math.sin(rotate_rads), math.cos(rotate_rads)]])\n",
    "        points = points @ scale\n",
    "        points = points @ rotate\n",
    "        points = points + offset\n",
    "        return points\n",
    "    points = rng.multivariate_normal([0,0], [[1, 0],[0,1]], size=num_points)\n",
    "    points_c1 = transform(points[:num_points//2], 0.2, np.array([-3.8, 1.8]))\n",
    "    points_c2 = transform(points[num_points//2:], 0.3, np.array([-0.5, 3.5]))\n",
    "    return np.concatenate([points_c1, points_c2], axis=0)\n",
    "\n",
    "def generate_labelled_data(gen_fctn=generate_data):\n",
    "    X = gen_fctn()\n",
    "    y = np.zeros(X.shape[0])\n",
    "    y[X.shape[0]//2:] = 1\n",
    "    return (X, y)\n",
    "\n",
    "points = generate_data()\n",
    "fig, ax = plt.subplots(figsize=(8,5))\n",
    "ax.set_ylim([-5, 10])\n",
    "ax.set_xlim([-5, 10])\n",
    "points.T[0, :]\n",
    "ax.plot(points.T[0, :], points.T[1, :], 'x')"
   ]
  },
  {
   "cell_type": "code",
   "execution_count": 468,
   "id": "9af5b18a-bc09-4a5f-8d09-64775c15f90d",
   "metadata": {},
   "outputs": [],
   "source": [
    "def project_points(points, vec, bias, progress):\n",
    "    scalars = points @ vec.T\n",
    "    projected_points = scalars[:, np.newaxis] @ vec.T[np.newaxis, :] + bias\n",
    "    interpolated = points - progress * (points - projected_points) \n",
    "    return projected_points, interpolated\n",
    "\n",
    "def vec_to_angle(vec):\n",
    "    a = np.arctan2(vec[1], vec[0])\n",
    "    if a < 0:\n",
    "        a = 2*math.pi + a\n",
    "    return a\n",
    "\n",
    "class NumberLineThinTicks(manim.NumberLine):\n",
    "    def get_tick(self, x, size=None):\n",
    "        if size is None:\n",
    "            size = self.tick_size\n",
    "        result = manim.Line(size * manim.DOWN, size * manim.UP)\n",
    "        result.rotate(self.get_angle())\n",
    "        result.move_to(self.number_to_point(x))\n",
    "        result.match_style(self)\n",
    "        result.set(stroke_width=3)\n",
    "        return result    \n",
    "    \n",
    "class SceneData:\n",
    "    def __init__(self, points, vec, bias=None, class_labels=None, progress=0):\n",
    "        self.points = points\n",
    "        self.points_projected = None\n",
    "        self.points_progress = None\n",
    "        self.class_labels=class_labels\n",
    "        self.vec = vec\n",
    "        self.bias = bias if bias else np.zeros(vec.shape)\n",
    "        self.progress = progress\n",
    "        self.update()\n",
    "        \n",
    "    def update(self):\n",
    "        projected, progress =  project_points(self.points, self.vec, self.bias, self.progress)\n",
    "        self.points_projected = projected\n",
    "        self.points_progress = progress\n",
    "        \n",
    "    def update_vec(self, vec):\n",
    "        self.vec = vec\n",
    "        self.update()\n",
    "    \n",
    "    def update_progress(self, progress):\n",
    "        self.progress = progress\n",
    "        self.update()\n",
    "        \n",
    "        \n",
    "class SceneObjects:\n",
    "    def __init__(self, scene_data):\n",
    "        self.scene_data = scene_data\n",
    "        self._dot_orig_color = manim.utils.color.WHITE\n",
    "        self._dot_options =  {'radius':0.08, 'stroke_width':0.5, 'fill_opacity':1.0,\n",
    "                              'stroke_color':manim.utils.color.BLACK}\n",
    "        self._triangle_options =  {'radius':0.13, 'stroke_width':0.5, 'fill_opacity':1.0,\n",
    "                                   'color':manim.utils.color.MAROON_B,\n",
    "                                   'stroke_color':manim.utils.color.BLACK}\n",
    "        self.dots = self.create_dots()\n",
    "        self.dots_projected = self.create_projected_dots()\n",
    "        self.projection_lines = self.create_projection_lines()\n",
    "        self.vec_arrow = self.create_vec_arrow()\n",
    "        self.vec_line = self.create_vec_line()\n",
    "        \n",
    "    def create_dots(self):\n",
    "        dots = self.create_stationary_dots()\n",
    "        for i,d in enumerate(dots):\n",
    "            def update_dot(i, o):\n",
    "                o.move_to([*self.scene_data.points_progress[i], 0])\n",
    "            d.add_updater(functools.partial(update_dot, i))\n",
    "        return dots\n",
    "    \n",
    "    def enable_dull_orig_dots(self, is_enabled):\n",
    "        color = manim.utils.color.DARK_GREY if is_enabled else self._dot_orig_color\n",
    "        opacity = 0.5 if is_enabled else 1.0\n",
    "        for d in self.dots:\n",
    "            d.set_color(color)\n",
    "            d.set(stroke_width=0.0)\n",
    "   \n",
    "    def create_stationary_dots(self):\n",
    "        dots = []\n",
    "        for i,p in enumerate(self.scene_data.points_progress):\n",
    "            dots.append(self.create_dot(p, i))\n",
    "        return dots\n",
    "    \n",
    "    def create_dot(self, pos, point_idx):\n",
    "        class_id = 0 if self.scene_data.class_labels is None else self.scene_data.class_labels[point_idx]\n",
    "        if class_id == 0:\n",
    "            d = manim.Dot([*pos, 0], color=self._dot_orig_color, **self._dot_options)\n",
    "        elif class_id == 1:\n",
    "            # Class support needs proper support. \n",
    "            # Radius doesn't seem to work, so scale instead.\n",
    "            d = manim.Triangle(**self._triangle_options).move_to([*pos, 0]).scale(self._triangle_options['radius'])\n",
    "        else:\n",
    "            raise Exception(f\"Currently, only 2 classes are supported.\")\n",
    "        return d\n",
    "\n",
    "    def create_projected_dots(self):\n",
    "        dots = []\n",
    "        dot_options = self._dot_options\n",
    "        for i,p in enumerate(self.scene_data.points_projected):\n",
    "            d = self.create_dot(p, i)\n",
    "            def reproject_dot(i, o):\n",
    "                o.move_to([*self.scene_data.points_projected[i], 0])\n",
    "            d.add_updater(functools.partial(reproject_dot, i))\n",
    "            dots.append(d)\n",
    "        return dots\n",
    "    \n",
    "    def create_projection_lines(self):\n",
    "        lines = []\n",
    "        if self.scene_data.points.shape != self.scene_data.points_projected.shape:\n",
    "            raise Exception('Points and projections must come in pairs.')\n",
    "        for i, (p1, p2) in enumerate(zip(self.scene_data.points_progress, \n",
    "                                         self.scene_data.points_projected)):\n",
    "            dashed_line_options = {\n",
    "                          'dash_length':0.15, \n",
    "                          'positive_space_ratio':0.8,\n",
    "                          'stroke_width':4, # default is 4, from VMobject.\n",
    "                          'stroke_opacity':0.8,\n",
    "                          'color':'#707070'}\n",
    "            l = manim.DashedLine([*p1, 0], [*p2, 0], **dashed_line_options)\n",
    "            def reproject(i, o):\n",
    "                # Because I want the dashes to increase/decrease and not stretch/shrink, I'm using\n",
    "                # a replace instead of an update.\n",
    "                # o.put_start_and_end_on([*scene_data.points[i],0], [*scene_data.points_projected[i], 0])\n",
    "                l2 = manim.DashedLine([*self.scene_data.points_progress[i], 0], \n",
    "                                      [*self.scene_data.points_projected[i], 0], \n",
    "                                      **dashed_line_options)\n",
    "                o.become(l2)\n",
    "            l.add_updater(functools.partial(reproject, i))\n",
    "            lines.append(l)\n",
    "        return lines\n",
    "    \n",
    "    def create_vec_arrow(self):\n",
    "        color = manim.utils.color.WHITE\n",
    "        vec = manim.Arrow(manim.ORIGIN, [*self.scene_data.vec, 0], buff=0, \n",
    "                          color=color\n",
    "                         #stroke_width=10,\n",
    "                         #max_stroke_width_to_length_ratio=10,\n",
    "                         #max_tip_length_to_length_ratio=0.4\n",
    "                         )\n",
    "        def rotate_vec(o):\n",
    "            o.set_angle(vec_to_angle(self.scene_data.vec))\n",
    "        vec.add_updater(rotate_vec)\n",
    "        return vec\n",
    "    \n",
    "    def create_vec_line(self, range=20, include_numbers=True, include_ticks=True, **kwargs):\n",
    "        color = manim.utils.color.YELLOW_A\n",
    "        stroke_width = 4.0\n",
    "        line = NumberLineThinTicks(rotation=math.atan(self.scene_data.vec[1]/self.scene_data.vec[0]),\n",
    "                                x_range=[-range,range],\n",
    "                                tick_size=0.05,\n",
    "                                number_scale_value=0.5,\n",
    "                                include_numbers=include_numbers,\n",
    "                                include_ticks=include_ticks,\n",
    "                                stroke_width=stroke_width, color=color,\n",
    "                                **kwargs)\n",
    "        def rotate_line(o):\n",
    "            o.rotate_about_zero(vec_to_angle(self.scene_data.vec) - line.get_angle())\n",
    "        line.add_updater(rotate_line)\n",
    "        return line\n",
    "    \n",
    "        \n",
    "def create_data(starting_vec=None, gen_fctn=generate_data, use_classes=False):\n",
    "    if starting_vec is None:\n",
    "        starting_vec = np.array([math.cos(0), math.sin(0)])\n",
    "    points, class_labels = generate_labelled_data(gen_fctn)\n",
    "    if not use_classes:\n",
    "        class_labels = None \n",
    "    sd = SceneData(points, starting_vec, class_labels=class_labels)\n",
    "    so = SceneObjects(sd)\n",
    "    return sd, so\n",
    "\n",
    "def setup_camera(scene):\n",
    "    scene.camera.frame_center = np.array([2, 1, 0])\n",
    "    scene.camera.frame.scale(1.3)\n",
    "    \n",
    "def setup_3d_axes(scene):\n",
    "    axes = manim.ThreeDAxes(x_range=[-15, 15], y_range=[-15, 15])\n",
    "    scene.add(axes)\n",
    "    \n",
    "    \n",
    "def setup_plane(scene, include_numbers=False):\n",
    "    plane = manim.NumberPlane(x_range=[-15, 15], y_range=[-15, 15],\n",
    "                             background_line_style={'stroke_width': 0.9},\n",
    "                             axis_config={'stroke_color': manim.utils.color.LIGHT_GREY,\n",
    "                                          'stroke_weight': 1.0,\n",
    "                                          'include_numbers':include_numbers,\n",
    "                                          'include_ticks':include_numbers},\n",
    "                             faded_line_ratio=2,\n",
    "                             faded_line_style={'stroke_color': manim.utils.color.BLUE_D,\n",
    "                                               'stroke_width': 0.6,\n",
    "                                               'stroke_opacity': 0.7})\n",
    "    # This is a hack to deal with Axes centering _after_ axes are created.\n",
    "    plane.shift(-plane.coords_to_point(0, 0))\n",
    "    scene.add(plane)\n",
    "    return plane\n",
    "\n",
    "def setup_scene(scene, include_numbers=False):\n",
    "    setup_camera(scene)\n",
    "    setup_plane(scene, include_numbers)"
   ]
  },
  {
   "cell_type": "code",
   "execution_count": 503,
   "id": "8f2218ab-2984-410b-80f5-0c18645ffecb",
   "metadata": {},
   "outputs": [],
   "source": [
    "Axis = Enum('Axis', 'X Y')\n",
    "def highlighted_axis_plane(axis : Axis):\n",
    "    highlight_config = {'include_ticks':True, \n",
    "                        'stroke_color':manim.utils.color.YELLOW_A,\n",
    "                        'include_numbers': True,\n",
    "                        'stroke_width': 6}\n",
    "    normal_config = {'include_ticks':False,\n",
    "                     'stroke_color':manim.utils.color.WHITE}\n",
    "    if axis == Axis.X:\n",
    "        axis_config = highlight_config\n",
    "        y_axis_config = normal_config  \n",
    "    elif axis == Axis.Y:\n",
    "        axis_config = normal_config\n",
    "        y_axis_config = highlight_config  \n",
    "    else:\n",
    "        raise Exception(f'Unexpected input: {axis}')\n",
    "    plane = manim.NumberPlane(x_range=[-15, 15],  y_range=[-15, 15],\n",
    "                              axis_config=axis_config, y_axis_config=y_axis_config)\n",
    "    return plane\n",
    "    \n",
    "def x_highlighted_plane():\n",
    "    return highlighted_axis_plane(Axis.X)\n",
    "    \n",
    "def y_highlighted_plane():\n",
    "    return highlighted_axis_plane(Axis.Y)\n",
    "\n",
    "class ProjectionAnim(manim.Animation):\n",
    "    def __init__(self, scene_objects, **kwargs):\n",
    "        self.scene_objects = scene_objects\n",
    "        super().__init__(None, **kwargs)\n",
    "        \n",
    "    def interpolate_mobject(self, alpha):\n",
    "        self.scene_objects.scene_data.update_progress(alpha)\n",
    "\n",
    "class ProjectAndFadeAnim(manim.AnimationGroup):\n",
    "    def __init__(self, scene_objects, **kwargs):\n",
    "        orig_dots = scene_objects.create_stationary_dots()\n",
    "        \n",
    "        g = manim.Group()\n",
    "        for d in orig_dots:\n",
    "            d.set_z_index(-1000)\n",
    "            g.add(d.set_color(manim.utils.color.GREY))\n",
    "        fade_out_dots = manim.FadeOut(g, rate_func=manim.rate_functions.ease_out_sine)\n",
    "        super().__init__(fade_out_dots, ProjectionAnim(scene_objects), **kwargs)\n",
    "        \n",
    "def project_anim(scene_objects, **kwargs):\n",
    "    w = manim.Wait(0.6)\n",
    "    return manim.Succession(w, ProjectAndFadeAnim(scene_objects, **kwargs))"
   ]
  },
  {
   "cell_type": "markdown",
   "id": "780fc3fa-8895-4eda-8e72-09d2ab999fbb",
   "metadata": {},
   "source": [
    "# Story"
   ]
  },
  {
   "cell_type": "markdown",
   "id": "ac474d3f-a5f5-4eed-9014-3866cbc50e88",
   "metadata": {},
   "source": [
    "Quite a lot of machine learning techniques can be viewed as an attempt to find a vector to represent some data. Usually, we use this vector to project the data onto a line; this is converting each data point into a single number.\n",
    "\n",
    "From a high level perspective, we have available high-dimensional data points and we wish to convert each data point to a single number, and once we do, we can design simple rules, like `if x > 0, then class_1 else class_2`. \n",
    "\n",
    "Perceptrons, regression, support vector machines, and principal component analysis are examples of methods which can be viewed as searching for an appropriate vector, then projecting all data onto this vector. A single visualization can provide visual intuition for all of these methods.\n",
    "\n",
    "You can find yourself reinventing famous machine learning methods if you give yourself a problem with the right constraints. Consider you are given the following data points. There are 14 data points in 2D Euclidean space. "
   ]
  },
  {
   "cell_type": "code",
   "execution_count": 7,
   "id": "ab10556a-8b2c-4636-b1fa-ae9a533a5f4a",
   "metadata": {
    "tags": []
   },
   "outputs": [],
   "source": [
    "class DisplayPoints(manim.MovingCameraScene):\n",
    "    def construct(self):\n",
    "        setup_scene(self, include_numbers=True)\n",
    "        sd, so = create_data()\n",
    "        self.add(*so.dots)"
   ]
  },
  {
   "cell_type": "code",
   "execution_count": 8,
   "id": "1b7f2766-3711-450e-b134-c70789cceb0a",
   "metadata": {},
   "outputs": [
    {
     "data": {
      "image/png": "[encoded data removed]",
      "text/plain": [
       "<IPython.core.display.Image object>"
      ]
     },
     "metadata": {},
     "output_type": "display_data"
    }
   ],
   "source": [
    "%%manim -qh -r 1280,720 -v warning -o data.png DisplayPoints\n",
    "pass"
   ]
  },
  {
   "cell_type": "code",
   "execution_count": 151,
   "id": "609c2768-fa41-4f6a-a715-aca2b8db2481",
   "metadata": {
    "tags": []
   },
   "outputs": [],
   "source": [
    "class DisplayPoints2(manim.MovingCameraScene):\n",
    "    def construct(self):\n",
    "        setup_scene(self, include_numbers=True)\n",
    "        sd, so = create_data(gen_fctn=generate_data2, use_classes=True)\n",
    "        self.add(*so.dots)"
   ]
  },
  {
   "cell_type": "code",
   "execution_count": 152,
   "id": "194f182e-00eb-4003-bd87-252d4efa7c26",
   "metadata": {},
   "outputs": [
    {
     "data": {
      "image/png": "[encoded data removed]",
      "text/plain": [
       "<IPython.core.display.Image object>"
      ]
     },
     "metadata": {},
     "output_type": "display_data"
    }
   ],
   "source": [
    "%%manim -qh -r 1280,720 -v warning -o data2.png DisplayPoints2\n",
    "pass"
   ]
  },
  {
   "cell_type": "markdown",
   "id": "2665a268-2fe4-4362-a956-fde2a88943c5",
   "metadata": {},
   "source": [
    "Warm up with a simple projection: the data can be projected onto the first axis by zero-ing the second element of each data point. This is equivalent to projecting onto the vector (1, 0)."
   ]
  },
  {
   "cell_type": "code",
   "execution_count": 504,
   "id": "f0873643-e3b3-41b8-9653-15bdc4a9fe2b",
   "metadata": {
    "tags": []
   },
   "outputs": [],
   "source": [
    "class DisplayProjectedX(manim.MovingCameraScene):\n",
    "    def construct(self):\n",
    "        setup_scene(self)\n",
    "        sd, so = create_data()\n",
    "        self.add(*so.projection_lines)\n",
    "        self.add(so.vec_arrow)\n",
    "        self.add(so.vec_line)\n",
    "        self.add(*so.dots)\n",
    "        self.play(project_anim(so))\n",
    "        self.wait()"
   ]
  },
  {
   "cell_type": "code",
   "execution_count": 505,
   "id": "96eda422-c2a4-45e9-9ab1-3cafffff5466",
   "metadata": {
    "tags": []
   },
   "outputs": [
    {
     "name": "stderr",
     "output_type": "stream",
     "text": [
      "                                                                               \r"
     ]
    },
    {
     "data": {
      "text/html": [
       "<video src=\"media/jupyter/3dd2e6c1d63fdc19241780c928478213551a90a3.mp4\" controls autoplay loop style=\"max-width: 25vw;\"  >\n",
       "      Your browser does not support the <code>video</code> element.\n",
       "    </video>"
      ],
      "text/plain": [
       "<IPython.core.display.Video object>"
      ]
     },
     "metadata": {},
     "output_type": "display_data"
    }
   ],
   "source": [
    "%%manim -qh -r 1280,720 -v warning -o x-axis-projection.mp4 DisplayProjectedX\n",
    "pass"
   ]
  },
  {
   "cell_type": "markdown",
   "id": "9f703363-3d94-40e8-a80d-96d5364aabec",
   "metadata": {},
   "source": [
    "And the data can be projected onto the the second axis by zero-ing the first element of each data point. This is equivalent to projecting onto the vector (0, 1)."
   ]
  },
  {
   "cell_type": "code",
   "execution_count": 491,
   "id": "5cb4b739-63d3-470b-a16d-8d4e533eff54",
   "metadata": {
    "tags": []
   },
   "outputs": [],
   "source": [
    "class DisplayProjectedY(manim.MovingCameraScene):\n",
    "    def construct(self):\n",
    "        setup_scene(self)\n",
    "        sd, so = create_data(starting_vec=np.array([0, 1]))\n",
    "        self.add(*so.vec_arrow)\n",
    "        vec_line = so.create_vec_line(include_numbers=False)\n",
    "        vec_line.add_numbers(direction=manim.LEFT)\n",
    "        self.add(*so.projection_lines)\n",
    "        self.add(vec_line)\n",
    "        self.add(*so.dots)\n",
    "        #self.add(*so.dots_projected)\n",
    "        #self.add(*so.vec_line)\n",
    "        self.play(project_anim(so))\n",
    "        self.wait()"
   ]
  },
  {
   "cell_type": "code",
   "execution_count": 492,
   "id": "7c41a074-3f16-4659-a36b-c7daf8001a35",
   "metadata": {
    "tags": []
   },
   "outputs": [
    {
     "name": "stderr",
     "output_type": "stream",
     "text": [
      "<ipython-input-468-1f47a4c60d4d>:149: RuntimeWarning: divide by zero encountered in long_scalars\n",
      "  line = NumberLineThinTicks(rotation=math.atan(self.scene_data.vec[1]/self.scene_data.vec[0]),\n",
      "                                                                               \r"
     ]
    },
    {
     "data": {
      "text/html": [
       "<video src=\"media/jupyter/0bb5071ce2e45ec129041a97380008210810e091.mp4\" controls autoplay loop style=\"max-width: 25vw;\"  >\n",
       "      Your browser does not support the <code>video</code> element.\n",
       "    </video>"
      ],
      "text/plain": [
       "<IPython.core.display.Video object>"
      ]
     },
     "metadata": {},
     "output_type": "display_data"
    }
   ],
   "source": [
    "%%manim -qh -r 1280,720 -v warning -o y-axis-projection.mp4 DisplayProjectedY\n",
    "pass"
   ]
  },
  {
   "cell_type": "markdown",
   "id": "0220a822-44da-4bf4-b3ae-44a6cf89ded4",
   "metadata": {},
   "source": [
    "Below you can see all possible projections of the data onto a vector of unit length."
   ]
  },
  {
   "cell_type": "code",
   "execution_count": null,
   "id": "e2bf5ca0-7dcc-4cbe-a294-2bf3e4f1c663",
   "metadata": {},
   "outputs": [],
   "source": [
    "class RotateVectorAnim(manim.Animation):\n",
    "    def __init__(self, scene_data, **kwargs):\n",
    "        self.scene_data = scene_data\n",
    "        super().__init__(None, run_time=14, rate_func=manim.rate_functions.linear, **kwargs)\n",
    "        \n",
    "    def update_mobjects(self, dt):\n",
    "        v = self.scene_data.vec\n",
    "        step = (dt * math.pi * 2)/self.run_time\n",
    "        v_new = v @ np.array([[math.cos(step), math.sin(step)],\n",
    "                              [-math.sin(step), math.cos(step)]])\n",
    "        self.scene_data.update_vec(v_new) \n",
    "        \n",
    "class AllUnitProjections(manim.MovingCameraScene):\n",
    "    def construct(self):\n",
    "        setup_scene(self)\n",
    "        sd, so = create_data()\n",
    "        self.add(*so.projection_lines)\n",
    "        self.add(so.vec_arrow)\n",
    "        self.add(so.vec_line)\n",
    "        self.add(*so.dots)\n",
    "        self.add(*so.dots_projected)\n",
    "        self.play(RotateVectorAnim(sd))"
   ]
  },
  {
   "cell_type": "code",
   "execution_count": null,
   "id": "9c0f5ad4-b810-4a91-a113-ef8521ce1d0b",
   "metadata": {},
   "outputs": [],
   "source": [
    "%%manim -qh -r 1280,720 -v warning -o all-projections.mp4 AllUnitProjections\n",
    "pass"
   ]
  },
  {
   "cell_type": "code",
   "execution_count": 493,
   "id": "f27ea825-d3d7-4b7e-b646-7a933c2a62b0",
   "metadata": {},
   "outputs": [],
   "source": [
    "class PcaProjectionWithClasses(manim.MovingCameraScene):\n",
    "    def construct(self):\n",
    "        setup_scene(self)\n",
    "        vec = np.array([ 0.88175754, -0.47170292])\n",
    "        sd, so = create_data(starting_vec=vec, use_classes=True)\n",
    "        self.add(*so.projection_lines)\n",
    "        self.add(so.vec_arrow)\n",
    "        self.add(so.vec_line)\n",
    "        self.add(*so.dots)\n",
    "        self.play(project_anim(so))\n",
    "        self.wait()"
   ]
  },
  {
   "cell_type": "code",
   "execution_count": 494,
   "id": "27d5744b-6947-4754-9b97-6b6d49a36e39",
   "metadata": {},
   "outputs": [
    {
     "name": "stderr",
     "output_type": "stream",
     "text": [
      "                                                                               \r"
     ]
    },
    {
     "data": {
      "text/html": [
       "<video src=\"media/jupyter/91a78a8c8f56b9899d7d62fecab9469ee382359d.mp4\" controls autoplay loop style=\"max-width: 25vw;\"  >\n",
       "      Your browser does not support the <code>video</code> element.\n",
       "    </video>"
      ],
      "text/plain": [
       "<IPython.core.display.Video object>"
      ]
     },
     "metadata": {},
     "output_type": "display_data"
    }
   ],
   "source": [
    "%%manim -qh -r 1280,720 -v warning -o pca-projection-with-classes.mp4 PcaProjectionWithClasses\n",
    "pass"
   ]
  },
  {
   "cell_type": "code",
   "execution_count": 495,
   "id": "f3887f92-dc86-47c6-a5d1-559c74754f20",
   "metadata": {},
   "outputs": [],
   "source": [
    "def train_perceptron(X, y):\n",
    "    model = sk.linear_model.LogisticRegression()\n",
    "    model.fit(X, y)\n",
    "    vec = model.coef_[0]\n",
    "    b = model.intercept_\n",
    "    # Rescale v to be a unit vector.\n",
    "    b = b / np.linalg.norm(vec)\n",
    "    vec = vec / np.linalg.norm(vec)\n",
    "    print(vec)\n",
    "    print(f'Score: {model.score(X, y)}')\n",
    "    return vec, b\n",
    "\n",
    "def create_intercept_line(vec, bias):\n",
    "    vec_inv = vec / np.linalg.norm(vec)**2\n",
    "    intersection_point = -vec_inv*bias\n",
    "    vec_perp = np.array([vec[1], -vec[0]])\n",
    "    start = intersection_point + 20*vec_perp\n",
    "    end   = intersection_point - 20*vec_perp\n",
    "    #print(start, end)\n",
    "    #print(bias)\n",
    "    line = manim.DashedLine([*start,0], [*end, 0])\n",
    "    return line\n",
    "\n",
    "class PerceptronProjection(manim.MovingCameraScene):\n",
    "    def construct(self):\n",
    "        setup_scene(self)\n",
    "        vec, b = train_perceptron(*generate_labelled_data())\n",
    "        sd, so = create_data(starting_vec=vec, use_classes=True)\n",
    "        self.add(*so.projection_lines)\n",
    "        self.add(create_intercept_line(vec, b))\n",
    "        self.add(so.vec_arrow)\n",
    "        self.add(so.vec_line)\n",
    "        self.add(*so.dots)\n",
    "        self.play(project_anim(so))\n",
    "        self.wait()"
   ]
  },
  {
   "cell_type": "code",
   "execution_count": 496,
   "id": "41daedb7-d306-49a5-ad92-511a3439610f",
   "metadata": {},
   "outputs": [
    {
     "name": "stdout",
     "output_type": "stream",
     "text": [
      "[0.55628637 0.83099066]\n",
      "Score: 0.9642857142857143\n"
     ]
    },
    {
     "name": "stderr",
     "output_type": "stream",
     "text": [
      "                                                                               \r"
     ]
    },
    {
     "data": {
      "text/html": [
       "<video src=\"media/jupyter/16ae66b4aae189b6af8e556a318667c22b7c060b.mp4\" controls autoplay loop style=\"max-width: 25vw;\"  >\n",
       "      Your browser does not support the <code>video</code> element.\n",
       "    </video>"
      ],
      "text/plain": [
       "<IPython.core.display.Video object>"
      ]
     },
     "metadata": {},
     "output_type": "display_data"
    }
   ],
   "source": [
    "%%manim -qh -r 1280,720 -v warning -o perceptron-projection-with-classes.mp4 PerceptronProjection\n",
    "pass"
   ]
  },
  {
   "cell_type": "code",
   "execution_count": null,
   "id": "683b2554-ec1d-44a8-9a8b-5fe1f3934004",
   "metadata": {},
   "outputs": [],
   "source": [
    "def vec_intercept_2(recalculate=False):\n",
    "        vec = np.array([0.94838108, 0.31713299])\n",
    "        intercept = 1.64816896\n",
    "        if recalculate:\n",
    "            vec, intercept = train_perceptron(*generate_labelled_data(gen_fctn=generate_data2))\n",
    "        return vec, intercept\n",
    "        \n",
    "class PerceptronProjection2a(manim.MovingCameraScene):\n",
    "    def construct(self):\n",
    "        #vec, intercept = vec_intercept_2()\n",
    "        vec = np.array([2, 2/3])\n",
    "        bias = 2.8\n",
    "        setup_scene(self, include_numbers=True)\n",
    "        sd, so = create_data(starting_vec=vec, gen_fctn=generate_data2, use_classes=True)\n",
    "        self.add(create_intercept_line(vec, bias))\n",
    "        self.add(*so.dots)\n"
   ]
  },
  {
   "cell_type": "code",
   "execution_count": null,
   "id": "62f6492a-7603-42e7-a777-58f7d2acc0cc",
   "metadata": {},
   "outputs": [],
   "source": [
    "%%manim -qh -r 1280,720 -v warning -o data2-with-split-line.png PerceptronProjection2a\n",
    "pass"
   ]
  },
  {
   "cell_type": "code",
   "execution_count": null,
   "id": "d649260e-5051-45c5-9550-911911dc24cb",
   "metadata": {},
   "outputs": [],
   "source": [
    "class PerceptronProjection2b(manim.MovingCameraScene):\n",
    "    def construct(self):\n",
    "        setup_scene(self, include_numbers=True)\n",
    "        #vec, intercept = vec_intercept_2()\n",
    "        vec = np.array([2, 2/3])\n",
    "        bias = 2.8\n",
    "        sd, so = create_data(starting_vec=vec, gen_fctn=generate_data2, use_classes=True)\n",
    "        self.add(create_intercept_line(vec, bias))\n",
    "        self.add(*so.dots)\n",
    "        self.add(so.create_vec_line(include_numbers=False,\n",
    "                                    include_ticks=False, \n",
    "                                    unit_size=np.linalg.norm(vec)))"
   ]
  },
  {
   "cell_type": "code",
   "execution_count": null,
   "id": "c23a7a7f-5338-49bd-8c1f-a07a0c708789",
   "metadata": {},
   "outputs": [],
   "source": [
    "%%manim -qh -r 1280,720 -v warning -o data2-with-split-and-perp-line.png PerceptronProjection2b\n",
    "pass"
   ]
  },
  {
   "cell_type": "code",
   "execution_count": null,
   "id": "dc61773d-c66a-48df-84cb-96bc79b948f2",
   "metadata": {},
   "outputs": [],
   "source": [
    "class PerceptronProjection2c(manim.MovingCameraScene):\n",
    "    def construct(self):\n",
    "        setup_scene(self, include_numbers=True)\n",
    "        vec = np.array([2, 2/3])\n",
    "        print(np.linalg.norm(vec))\n",
    "        bias = 2.8\n",
    "        sd, so = create_data(starting_vec=vec, gen_fctn=generate_data2, use_classes=True)\n",
    "        self.add(create_intercept_line(vec, bias))\n",
    "        self.add(*so.dots)\n",
    "        num_line = so.create_vec_line(range=20*np.linalg.norm(vec), unit_size=1/np.linalg.norm(vec))\n",
    "        self.add(num_line.shift([0.08, 0.03,0])) # Why is this needed?\n",
    "        self.add(so.vec_arrow)"
   ]
  },
  {
   "cell_type": "code",
   "execution_count": null,
   "id": "fc90290e-f8a3-4b45-ba92-a46ff304f23b",
   "metadata": {},
   "outputs": [],
   "source": [
    "%%manim -qh -r 1280,720 -v warning -o data2-with-split-perp-and-vec.png PerceptronProjection2c\n",
    "pass"
   ]
  },
  {
   "cell_type": "code",
   "execution_count": null,
   "id": "33fbbbbc-42de-4277-b9df-573134d810af",
   "metadata": {},
   "outputs": [],
   "source": [
    "class PerceptronProjection2d(manim.MovingCameraScene):\n",
    "    def construct(self):\n",
    "        setup_scene(self, include_numbers=True)\n",
    "        vec = np.array([2, 2/3])\n",
    "        print(np.linalg.norm(vec))\n",
    "        bias = 2.8\n",
    "        sd, so = create_data(starting_vec=vec, gen_fctn=generate_data2, use_classes=True)\n",
    "        self.add(create_intercept_line(vec, bias))\n",
    "        self.add(*so.dots)\n",
    "        num_line = so.create_vec_line(range=20*np.linalg.norm(vec), unit_size=1/np.linalg.norm(vec))\n",
    "        vec_inv = vec / np.linalg.norm(vec)**2\n",
    "        num_line.shift(-bias*(np.array([*vec_inv, 0])))\n",
    "        self.add(num_line.shift([0.08, 0.03,0])) # Why is this needed?\n",
    "        self.add(so.vec_arrow)"
   ]
  },
  {
   "cell_type": "code",
   "execution_count": null,
   "id": "fb0606fa-d678-45fa-bcbf-64d0b0a5b461",
   "metadata": {},
   "outputs": [],
   "source": [
    "%%manim -qh -r 1280,720 -v warning -o data2-with-perceptron.png PerceptronProjection2d\n",
    "pass"
   ]
  },
  {
   "cell_type": "code",
   "execution_count": null,
   "id": "4f963962-2bc6-4675-b305-060a8be61909",
   "metadata": {},
   "outputs": [],
   "source": [
    "def classify(x):\n",
    "    \"\"\"Classify a 2D point as either 0 or 1.\"\"\"\n",
    "    v = np.array([2, 2/3])\n",
    "    b = 2.8\n",
    "    x_projected = np.dot(x, v) + b\n",
    "    return 0 if x_projected < 0 else 1\n",
    "\n",
    "# X.shape = (60, 2) and y.shape = (60,)\n",
    "X,y = generate_labelled_data(gen_fctn=generate_data2)\n",
    "num_correct = 0\n",
    "for x_i,y_i in zip(X,y):\n",
    "    if classify(x_i) == y_i:\n",
    "        num_correct += 1\n",
    "accuracy = num_correct/X.shape[0]\n",
    "print(f'Accuracy: {accuracy:.3f}')\n",
    "\n",
    "def classify_with_sklearn(X, y):\n",
    "    model = sk.linear_model.LogisticRegression()\n",
    "    model.fit(X, y)\n",
    "    v = model.coef_[0]\n",
    "    b = model.intercept_\n",
    "    print(f'v: {v}, b: {b}')\n",
    "    y_predict = model.predict(X)\n",
    "    accuracy = sk.metrics.accuracy_score(y, y_predict)\n",
    "    print(f'Accuracy: {accuracy}')\n",
    "\n",
    "classify_with_sklearn(X, y)"
   ]
  },
  {
   "cell_type": "code",
   "execution_count": null,
   "id": "a73bf5d5-cd01-456f-8d99-5fe8d141be44",
   "metadata": {},
   "outputs": [],
   "source": [
    "class PerceptronProjection2e(manim.MovingCameraScene):\n",
    "    def construct(self):\n",
    "        setup_scene(self, include_numbers=True)\n",
    "        #vec = np.array([2.80970464, 0.93954853])\n",
    "        #intercept = 4.88291899 / np.linalg.norm(vec)\n",
    "        vec = np.array([1.81096933, 0.64242439])\n",
    "        bias = 2.24777174 \n",
    "        print(np.linalg.norm(vec))\n",
    "        #vec = vec / np.linalg.norm(vec)\n",
    "        sd, so = create_data(starting_vec=vec, gen_fctn=generate_data2, use_classes=True)\n",
    "        self.add(create_intercept_line(vec, bias))\n",
    "        self.add(*so.dots)\n",
    "        num_line = so.create_vec_line(range=20*np.linalg.norm(vec), unit_size=1/np.linalg.norm(vec))\n",
    "        #num_line = so.create_vec_line(unit_size=np.linalg.norm(vec))\n",
    "        vec_inv = vec / np.linalg.norm(vec)**2\n",
    "        num_line.shift(-bias*(np.array([*vec_inv, 0])))\n",
    "        self.add(num_line.shift([0.22, 0.08,0])) # Why is this needed?\n",
    "        self.add(so.vec_arrow)"
   ]
  },
  {
   "cell_type": "code",
   "execution_count": null,
   "id": "7ecf0b69-ac4a-45d7-974f-5b50b08cf6aa",
   "metadata": {},
   "outputs": [],
   "source": [
    "%%manim -qh -r 1280,720 -v warning -o sklearn-classifier.png PerceptronProjection2e\n",
    "pass"
   ]
  },
  {
   "cell_type": "code",
   "execution_count": null,
   "id": "8e68b23e-d370-410e-b2ab-43d6df8cb386",
   "metadata": {},
   "outputs": [],
   "source": []
  },
  {
   "cell_type": "code",
   "execution_count": null,
   "id": "bebce172-ff0f-4372-b61a-adfee250d019",
   "metadata": {},
   "outputs": [],
   "source": [
    "class AllUnitProjectionsWithClasses(manim.MovingCameraScene):\n",
    "    def construct(self):\n",
    "        setup_scene(self)\n",
    "        sd, so = create_data(use_classes=True)\n",
    "        self.add(*so.projection_lines)\n",
    "        self.add(so.vec_arrow)\n",
    "        self.add(so.vec_line)\n",
    "        self.add(*so.dots)\n",
    "        self.add(*so.dots_projected)\n",
    "        self.play(RotateVectorAnim(sd))"
   ]
  },
  {
   "cell_type": "code",
   "execution_count": null,
   "id": "fbd11d94-3511-4ed0-ad4a-9d61233ebb1d",
   "metadata": {},
   "outputs": [],
   "source": [
    "%%manim -qh -r 1280,720 -v warning -o all-projections-with-classes.mp4 AllUnitProjectionsWithClasses\n",
    "pass"
   ]
  },
  {
   "cell_type": "markdown",
   "id": "8844d62e-3d81-4d8e-82f6-96ac9bc95c43",
   "metadata": {},
   "source": [
    "Already you can spot some interesting projections. For example, below the vector is chosen so that the projected data points are spread out on the line."
   ]
  },
  {
   "cell_type": "code",
   "execution_count": 497,
   "id": "e9b70eb7-71a3-409f-bc1b-1ff0e2cecb22",
   "metadata": {
    "tags": []
   },
   "outputs": [],
   "source": [
    "def create_pca_vec(data):\n",
    "    pca = sk_dcomp.PCA()\n",
    "    pca.fit(data)\n",
    "    vec = pca.components_[0]\n",
    "    vec = vec / np.linalg.norm(vec)\n",
    "    return vec\n",
    "\n",
    "class DisplayProjectedPCA(manim.MovingCameraScene):\n",
    "    def construct(self):\n",
    "        setup_scene(self)\n",
    "        vec = create_pca_vec(generate_data())\n",
    "        print(vec)\n",
    "        sd, so = create_data(starting_vec=vec)\n",
    "        self.add(so.vec_arrow)\n",
    "        self.add(*so.projection_lines)\n",
    "        self.add(so.vec_line)\n",
    "        self.add(*so.dots)\n",
    "        self.play(project_anim(so))\n",
    "        self.wait()"
   ]
  },
  {
   "cell_type": "code",
   "execution_count": 498,
   "id": "f05de365-3cb5-4eac-9111-2c4150a1a3bd",
   "metadata": {},
   "outputs": [
    {
     "name": "stdout",
     "output_type": "stream",
     "text": [
      "[ 0.88175754 -0.47170292]\n"
     ]
    },
    {
     "name": "stderr",
     "output_type": "stream",
     "text": [
      "                                                                               \r"
     ]
    },
    {
     "data": {
      "text/html": [
       "<video src=\"media/jupyter/3281a299b1a1d3ff208d24bc9de39e78687158fe.mp4\" controls autoplay loop style=\"max-width: 25vw;\"  >\n",
       "      Your browser does not support the <code>video</code> element.\n",
       "    </video>"
      ],
      "text/plain": [
       "<IPython.core.display.Video object>"
      ]
     },
     "metadata": {},
     "output_type": "display_data"
    }
   ],
   "source": [
    "%%manim -qh -r 1280,720 -v warning -o pca-projection-1.mp4 DisplayProjectedPCA\n",
    "pass"
   ]
  },
  {
   "cell_type": "code",
   "execution_count": 499,
   "id": "366aa812-cb53-4079-8c1a-f5c703a0790b",
   "metadata": {},
   "outputs": [],
   "source": [
    "class ChangeBias(manim.MovingCameraScene):\n",
    "    def construct(self):\n",
    "        setup_scene(self)\n",
    "        vec = create_pca_vec(generate_data())\n",
    "        sd, so = create_data(starting_vec=vec)\n",
    "        label_pos = np.array([6, 3.5, 0])\n",
    "        self.add(*so.projection_lines)\n",
    "        self.add(so.vec_arrow)\n",
    "        self.add(so.vec_line)\n",
    "        self.add(*so.dots)\n",
    "       \n",
    "        vec_dir = np.array([*(vec / np.linalg.norm(vec)), 0])\n",
    "        bias_tracker = manim.ValueTracker(0)\n",
    "        bias_label = manim.MathTex(r'\\text{bias:}').move_to(label_pos)\n",
    "        bias_text = manim.DecimalNumber(bias_tracker.get_value()).next_to(bias_label, manim.RIGHT)\n",
    "        bias_text.add_updater(lambda o : o.set_value(bias_tracker.get_value()))\n",
    "        self.add(bias_label, bias_text)\n",
    "        line_mid_point = so.vec_line.get_critical_point([0, 0, 0])\n",
    "        self.play(project_anim(so))\n",
    "        def move_dot(position_orig, dot):\n",
    "            dot.move_to(vec_dir * bias_tracker.get_value() + position_orig)\n",
    "        for d in so.dots:\n",
    "            d.clear_updaters()\n",
    "            d.add_updater(functools.partial(move_dot, d.get_critical_point([0, 0, 0])))\n",
    "        self.play(bias_tracker.animate.set_value(4), run_time=6, rate_func=manim.rate_functions.there_and_back_with_pause)\n",
    "        self.wait()"
   ]
  },
  {
   "cell_type": "code",
   "execution_count": 500,
   "id": "74354979-f061-4b67-9412-e83590ddf5be",
   "metadata": {},
   "outputs": [
    {
     "name": "stderr",
     "output_type": "stream",
     "text": [
      "                                                                                              \r"
     ]
    },
    {
     "data": {
      "text/html": [
       "<video src=\"media/jupyter/952915b6fdba969d2afca1902c6fdddc5039e288.mp4\" controls autoplay loop style=\"max-width: 25vw;\"  >\n",
       "      Your browser does not support the <code>video</code> element.\n",
       "    </video>"
      ],
      "text/plain": [
       "<IPython.core.display.Video object>"
      ]
     },
     "metadata": {},
     "output_type": "display_data"
    }
   ],
   "source": [
    "%%manim -qh -r 1280,720 -v warning -o change-bias.mp4 ChangeBias\n",
    "pass"
   ]
  },
  {
   "cell_type": "code",
   "execution_count": null,
   "id": "e6566ede-f8c3-403d-8206-8f45007dbfd8",
   "metadata": {},
   "outputs": [],
   "source": [
    "class ChangeBias2(manim.MovingCameraScene):\n",
    "    def construct(self):\n",
    "        setup_scene(self)\n",
    "        vec = create_pca_vec(generate_data())\n",
    "        sd, so = create_data(starting_vec=vec)\n",
    "        label_pos = np.array([6, 3.5, 0])\n",
    "        self.add(*so.vec_arrow)\n",
    "        self.add(*so.projection_lines)\n",
    "        self.add(*so.vec_line)\n",
    "        self.add(*so.dots)\n",
    "       \n",
    "        vec_dir = -np.array([*(vec / np.linalg.norm(vec)), 0])\n",
    "        bias_tracker = manim.ValueTracker(0)\n",
    "        bias_label = manim.MathTex(r'\\text{bias:}').move_to(label_pos)\n",
    "        bias_text = manim.DecimalNumber(bias_tracker.get_value()).next_to(bias_label, manim.RIGHT)\n",
    "        bias_text.add_updater(lambda o : o.set_value(bias_tracker.get_value()))\n",
    "        self.add(bias_label, bias_text)\n",
    "        line_mid_point = so.vec_line.get_critical_point([0, 0, 0])\n",
    "        so.vec_line.clear_updaters()\n",
    "        so.vec_line.add_updater(\n",
    "            lambda l : l.move_to(vec_dir * bias_tracker.get_value() + line_mid_point))\n",
    "        self.play(bias_tracker.animate.set_value(4), run_time=6, rate_func=manim.rate_functions.there_and_back_with_pause)\n",
    "        self.wait()"
   ]
  },
  {
   "cell_type": "code",
   "execution_count": null,
   "id": "f9206caa-8bde-4b4f-8291-85f98c16a51b",
   "metadata": {},
   "outputs": [],
   "source": [
    "%%manim -qh -r 1280,720 -v warning -o change-bias-2.mp4 ChangeBias2\n",
    "pass"
   ]
  },
  {
   "cell_type": "code",
   "execution_count": 501,
   "id": "ddf2ba47-5625-42cf-aacf-814ade21a7b7",
   "metadata": {},
   "outputs": [],
   "source": [
    "class ChangeNorm(manim.MovingCameraScene):\n",
    "    def construct(self):\n",
    "        setup_scene(self)\n",
    "        vec = create_pca_vec(generate_data())\n",
    "        sd, so = create_data(starting_vec=vec)\n",
    "        label_pos = np.array([6, 3.5, 0])\n",
    "        self.add(*so.projection_lines)\n",
    "        self.add(so.vec_arrow)\n",
    "        self.add(so.vec_line)\n",
    "        self.add(*so.dots)\n",
    "       \n",
    "        vec_dir = np.array([*(vec / np.linalg.norm(vec)), 0])\n",
    "        norm_tracker = manim.ValueTracker(1)\n",
    "        norm_label = manim.MathTex(r'\\norm{\\mathbf{v}}:}').move_to(label_pos)\n",
    "        norm_text = manim.DecimalNumber(norm_tracker.get_value()).next_to(norm_label, manim.RIGHT)\n",
    "        norm_text.add_updater(lambda o : o.set_value(norm_tracker.get_value()))\n",
    "        self.add(norm_label, norm_text)\n",
    "        line_mid_point = so.vec_line.get_critical_point([0, 0, 0])\n",
    "        self.play(project_anim(so))\n",
    "        def move_dot(position_orig, dot):\n",
    "            dot.move_to(norm_tracker.get_value() * position_orig)\n",
    "        so.vec_arrow.clear_updaters()\n",
    "        so.vec_arrow.add_updater(\n",
    "            lambda a : a.put_start_and_end_on(a.get_start(), vec_dir*norm_tracker.get_value()))\n",
    "        for d in so.dots:\n",
    "            d.clear_updaters()\n",
    "            d.add_updater(functools.partial(move_dot, d.get_critical_point([0, 0, 0])))\n",
    "        max_scale = 3\n",
    "        min_scale = 0.5\n",
    "        total_run_time = 8\n",
    "        targets = [max_scale, 1, min_scale, 1]\n",
    "        for t in targets:\n",
    "            self.play(norm_tracker.animate.set_value(t), run_time=total_run_time/len(targets))\n",
    "            self.wait(0.25)\n",
    "        self.wait(0.75)"
   ]
  },
  {
   "cell_type": "code",
   "execution_count": 502,
   "id": "19acb45e-92e1-4f53-af25-872fd5f808e7",
   "metadata": {},
   "outputs": [
    {
     "name": "stderr",
     "output_type": "stream",
     "text": [
      "                                                                                              \r"
     ]
    },
    {
     "data": {
      "text/html": [
       "<video src=\"media/jupyter/0c9532b90de14735299d68d0b7b889257331ba6a.mp4\" controls autoplay loop style=\"max-width: 25vw;\"  >\n",
       "      Your browser does not support the <code>video</code> element.\n",
       "    </video>"
      ],
      "text/plain": [
       "<IPython.core.display.Video object>"
      ]
     },
     "metadata": {},
     "output_type": "display_data"
    }
   ],
   "source": [
    "%%manim -qh -r 1280,720 -v warning -o change-norm-1.mp4 ChangeNorm\n",
    "pass"
   ]
  },
  {
   "cell_type": "code",
   "execution_count": null,
   "id": "42bb3c99-7c70-437c-8d6a-fb611c68a11f",
   "metadata": {},
   "outputs": [],
   "source": [
    "class ChangeNorm2(manim.MovingCameraScene):\n",
    "    def construct(self):\n",
    "        setup_scene(self)\n",
    "        vec = create_pca_vec(generate_data())\n",
    "        sd, so = create_data(starting_vec=vec)\n",
    "        label_pos = np.array([6, 3.5, 0])\n",
    "        self.add(*so.vec_arrow)\n",
    "        self.add(*so.projection_lines)\n",
    "        self.add(*so.vec_line)\n",
    "        self.add(*so.dots)\n",
    "       \n",
    "        vec_dir = np.array([*(vec / np.linalg.norm(vec)), 0])\n",
    "        norm_tracker = manim.ValueTracker(1)\n",
    "        norm_label = manim.MathTex(r'\\norm{\\mathbf{v}}:}').move_to(label_pos)\n",
    "        norm_text = manim.DecimalNumber(norm_tracker.get_value()).next_to(norm_label, manim.RIGHT)\n",
    "        norm_text.add_updater(lambda o : o.set_value(norm_tracker.get_value()))\n",
    "        self.add(norm_label, norm_text)\n",
    "        line_mid_point = so.vec_line.get_critical_point([0, 0, 0])\n",
    "        so.vec_line.clear_updaters()\n",
    "        max_scale = 3\n",
    "        min_scale = 0.5\n",
    "        total_run_time = 8\n",
    "        targets = [max_scale, 1, min_scale, 1]\n",
    "        so.vec_line.add_updater(\n",
    "            lambda l : l.become(so.create_vec_line(range=10*max_scale, unit_size=1/norm_tracker.get_value())))\n",
    "        so.vec_arrow.clear_updaters()\n",
    "        so.vec_arrow.add_updater(\n",
    "            lambda a : a.put_start_and_end_on(a.get_start(), vec_dir*norm_tracker.get_value()))\n",
    "        for t in targets:\n",
    "            self.play(norm_tracker.animate.set_value(t), run_time=total_run_time/len(targets))\n",
    "            self.wait(0.25)\n",
    "        self.wait(0.75)"
   ]
  },
  {
   "cell_type": "code",
   "execution_count": null,
   "id": "44e260ce-6506-4de3-a53a-9f450766efdb",
   "metadata": {},
   "outputs": [],
   "source": [
    "%%manim -qh -r 1280,720 -v warning -o change-norm-2.mp4 ChangeNorm2\n",
    "pass"
   ]
  },
  {
   "cell_type": "markdown",
   "id": "eba8db86-4c99-431b-8093-541e85fd84eb",
   "metadata": {},
   "source": [
    "Indeed, this is the first vector calculated by principle component analysis, and thus, it is the vector that maximizes the variance of the data when it is projected onto a line. Principal components must be orthogonal, and as we are only in 2D, there can be only 2 principal components and the second one is perpendicular to the one we just found."
   ]
  },
  {
   "cell_type": "markdown",
   "id": "2f1869a3-0322-4dd5-b6ed-24efd36b254d",
   "metadata": {},
   "source": [
    "If we replay the previous video from the perspective we see the following:"
   ]
  },
  {
   "cell_type": "code",
   "execution_count": 472,
   "id": "a1505277-e1cc-48db-ae91-35066df72aa0",
   "metadata": {},
   "outputs": [],
   "source": [
    "_temp_camera = None\n",
    "class SyncCameraRotation(manim.Animation):\n",
    "    def __init__(self, scene, scene_data, run_time, **kwargs):\n",
    "        self.scene_data = scene_data\n",
    "        self.scene = scene\n",
    "        super().__init__(None, run_time=16, rate_func=manim.rate_functions.linear, **kwargs)\n",
    "        \n",
    "    def update_mobjects(self, dt):\n",
    "        v = self.scene_data.vec\n",
    "        step = (dt * math.pi * 2)/self.run_time\n",
    "        v_new = v @ np.array([[math.cos(step), math.sin(step)],\n",
    "                              [-math.sin(step), math.cos(step)]])\n",
    "        self.scene_data.update_vec(v_new) \n",
    "        \n",
    "class AllProjectionsLinePerspective(manim.ThreeDScene):\n",
    "    def construct(self):\n",
    "        plane = setup_plane(self)\n",
    "        sd, so = create_data()\n",
    "        so.enable_dull_orig_dots(True)\n",
    "        self.add(*so.projection_lines)\n",
    "        self.add(*so.vec_arrow)\n",
    "        self.add(*so.vec_line)\n",
    "        self.add(*so.dots)\n",
    "        self.add(*so.dots_projected)\n",
    "        camera_rotate_anim = manim.ApplyMethod(self.renderer.camera.theta_tracker.set_value)\n",
    "        run_time = 16\n",
    "        self.move_camera(theta=2*math.pi + (-math.pi/2), run_time=run_time, rate_func=manim.rate_functions.linear,\n",
    "                        added_anims=[SyncCameraRotation(self, sd, run_time)])"
   ]
  },
  {
   "cell_type": "code",
   "execution_count": 473,
   "id": "46fd2d4c-e689-4d53-8f5a-5bc47f3409b8",
   "metadata": {},
   "outputs": [
    {
     "name": "stderr",
     "output_type": "stream",
     "text": [
      "                                                                                               \r"
     ]
    },
    {
     "data": {
      "text/html": [
       "<video src=\"media/jupyter/f32839872c5c8fd7fff8a40ee831cae24fd42243.mp4\" controls autoplay loop style=\"max-width: 25vw;\"  >\n",
       "      Your browser does not support the <code>video</code> element.\n",
       "    </video>"
      ],
      "text/plain": [
       "<IPython.core.display.Video object>"
      ]
     },
     "metadata": {},
     "output_type": "display_data"
    }
   ],
   "source": [
    "%%manim -qh -r 1280,720 -o all-projections-follow.mp4 AllProjectionsLinePerspective\n",
    "pass"
   ]
  },
  {
   "cell_type": "code",
   "execution_count": 508,
   "id": "991ae925-90a4-4005-aa4b-89ed19d2b887",
   "metadata": {},
   "outputs": [],
   "source": [
    "def sigmoid(t):\n",
    "    return 1 / (1 + math.exp(-t))\n",
    "\n",
    "class SigmoidGraph(manim.MovingCameraScene):\n",
    "    def construct(self):\n",
    "        self.camera.frame_center = np.array([0.05, 0.7, 0])\n",
    "        self.camera.frame.scale(0.55)\n",
    "        plane = manim.NumberPlane(x_range=[-5, 5, 1],\n",
    "                               \n",
    "                              include_numbers=True)\n",
    "        plane = manim.NumberPlane(x_range=[-5, 5], y_range=[-3, 3],\n",
    "                                 background_line_style={'stroke_width': 0.5},\n",
    "                                 axis_config={'stroke_color': manim.utils.color.LIGHT_GREY,\n",
    "                                              'stroke_weight': 0.2,\n",
    "                                              'include_numbers': True,\n",
    "                                              'include_ticks': True,\n",
    "                                              'number_scale_value': 0.35,\n",
    "                                              'tick_size': 0.04},\n",
    "                                 y_axis_config={'label_direction': manim.LEFT},\n",
    "                                 x_axis_config={'label_direction': manim.DOWN},\n",
    "                                 faded_line_ratio=2,\n",
    "                                 faded_line_style={'stroke_color': manim.utils.color.BLUE_D,\n",
    "                                                   'stroke_width': 0.4,\n",
    "                                                   'stroke_opacity': 0.7})\n",
    "        x_axis_label = manim.MathTex('t')\n",
    "        x_axis_label.move_to([3.5, -0.4, 0]).scale(0.5)\n",
    "        y_axis_label = manim.MathTex('g(t)')\n",
    "        y_axis_label.move_to([-0.5, 2.1, 0]).scale(0.40)\n",
    "        fctn_color = manim.YELLOW_A\n",
    "        fctn_label = manim.MathTex('g(t) = \\operatorname{sigmoid}(t)', color=fctn_color) \n",
    "        fctn_label.move_to([2.4, 1.3, 0]).scale(0.50)\n",
    "        zero_label = manim.MathTex('0').scale(0.4).move_to(np.array([0.2, -0.2, 0]))\n",
    "        sigmoid_graph = plane.get_graph(lambda t: sigmoid(t), stroke_width=1.5, color=fctn_color)\n",
    "        self.add(plane, sigmoid_graph, x_axis_label, y_axis_label, fctn_label, zero_label)    "
   ]
  },
  {
   "cell_type": "code",
   "execution_count": 1559,
   "id": "5ce4a830-3edf-412d-8fdc-3860fabfbf90",
   "metadata": {},
   "outputs": [
    {
     "data": {
      "text/plain": [
       "540.0"
      ]
     },
     "execution_count": 1559,
     "metadata": {},
     "output_type": "execute_result"
    }
   ],
   "source": [
    "720*3/4"
   ]
  },
  {
   "cell_type": "code",
   "execution_count": 1560,
   "id": "7df9ab28-e9da-41a1-bbd7-01ed4476d736",
   "metadata": {},
   "outputs": [
    {
     "data": {
      "image/png": "[encoded data removed]",
      "text/plain": [
       "<IPython.core.display.Image object>"
      ]
     },
     "metadata": {},
     "output_type": "display_data"
    }
   ],
   "source": [
    "%%manim -qh -r 1280,540 -v warning -o sigmoid.png SigmoidGraph\n",
    "pass"
   ]
  },
  {
   "cell_type": "code",
   "execution_count": 509,
   "id": "25783c8c-3a30-4d68-a595-c2df4a7972ab",
   "metadata": {},
   "outputs": [],
   "source": [
    "class ThreeDSigmoid(manim.ThreeDScene):\n",
    "    def construct(self):\n",
    "        #setup_plane(self)\n",
    "        vec = np.array([1, 0.35])\n",
    "        vec = vec / np.linalg.norm(vec)\n",
    "        rotation=math.atan(vec[1]/vec[0])\n",
    "        sd, so = create_data(starting_vec=vec, use_classes=True)\n",
    "        self.add(*so.projection_lines)\n",
    "        self.set_camera_orientation(phi=manim.DEGREES*0, theta=None, distance=None, gamma=None)\n",
    "        self.add(*so.vec_arrow)\n",
    "        self.add(*so.vec_line)\n",
    "        self.add(*so.dots)\n",
    "        self.add(*so.dots_projected)\n",
    "        plane = manim.NumberPlane(x_range=[-10, 10], y_range=[-15, 15],\n",
    "                                 background_line_style={'stroke_width': 0.5},\n",
    "                                 axis_config={'stroke_color': manim.utils.color.LIGHT_GREY,\n",
    "                                              'stroke_weight': 0.2,\n",
    "                                              'include_numbers': True,\n",
    "                                              'include_ticks': True,\n",
    "                                              'number_scale_value': 0.35,\n",
    "                                              'tick_size': 0.04},\n",
    "                                 y_axis_config={'label_direction': manim.LEFT,\n",
    "                                                'stroke_weight': 0,\n",
    "                                                'include_numbers':False},\n",
    "                                 x_axis_config={'label_direction': manim.DOWN},\n",
    "                                 faded_line_ratio=2,\n",
    "                                 faded_line_style={'stroke_color': manim.utils.color.BLUE_D,\n",
    "                                                   'stroke_width': 0.4,\n",
    "                                                   'stroke_opacity': 0.7})\n",
    "        fctn_color = manim.YELLOW_A\n",
    "        fctn_label = manim.MathTex('g(t) = \\operatorname{sigmoid}(t)', color=fctn_color) \n",
    "        fctn_label.move_to([3.4, 1.3, 0]).scale(0.90)\n",
    "        sigmoid_graph = plane.get_graph(lambda t: sigmoid(t), stroke_width=4.5, color=fctn_color,\n",
    "                                       fill_color=manim.BLUE_A)\n",
    "        gp = manim.Group(sigmoid_graph, fctn_label)\n",
    "        def place_in_plane(o):\n",
    "            o.rotate(math.pi/2, axis=[1, 0, 0], about_point=manim.ORIGIN)\n",
    "            o.rotate(rotation, axis=[0, 0, 1], about_point=manim.ORIGIN)\n",
    "        place_in_plane(gp)\n",
    "        bias_tracker = manim.ValueTracker(0)\n",
    "        bias_label = manim.Text(f'bias: -{bias_tracker.get_value():.2f}').scale(0.5)\n",
    "        bias_label.add_updater(lambda o : o.become(manim.Text(f'bias: {bias_tracker.get_value():.2f}').scale(0.5).move_to([4, 3, 0])))\n",
    "        bias_label.move_to([4, 3, 0 ])\n",
    "        #bias_text = manim.DecimalNumber(bias_tracker.get_value()).scale(4)\n",
    "        #bias_text.add_updater(lambda o : o.set_value(bias_tracker.get_value()))\n",
    "        self.add_fixed_in_frame_mobjects(bias_label)\n",
    "        self.add(gp, plane)\n",
    "        #combo_anim = manim.AnimationGroup(None, )\n",
    "        #camera_rotate_anim = manim.ApplyMethod(self.renderer.camera.theta_tracker.set_value)\n",
    "        #self.move_camera(phi=manim.DEGREES*90, run_time=4, rate_func=manim.there_and_back_with_pause)\n",
    "        self.wait(1)\n",
    "        self.move_camera(phi=manim.DEGREES*85, run_time=3)\n",
    "        gp.add_updater(lambda o: o.move_to(np.array([*-vec, 0])*bias_tracker.get_value(), aligned_edge=[0, 0, -1]))\n",
    "        self.play(bias_tracker.animate.set_value(-3), run_time=4, rate_func=manim.there_and_back_with_pause)\n",
    "        self.wait(1)\n",
    "        pass"
   ]
  },
  {
   "cell_type": "code",
   "execution_count": 510,
   "id": "b1e74807-9a82-4635-935a-03dabe9d5192",
   "metadata": {},
   "outputs": [
    {
     "name": "stderr",
     "output_type": "stream",
     "text": [
      "                                                                                              \r"
     ]
    },
    {
     "data": {
      "text/html": [
       "<video src=\"media/jupyter/d2a7df34ff24d1a1743242bb85d362c2aad8a1b4.mp4\" controls autoplay loop style=\"max-width: 25vw;\"  >\n",
       "      Your browser does not support the <code>video</code> element.\n",
       "    </video>"
      ],
      "text/plain": [
       "<IPython.core.display.Video object>"
      ]
     },
     "metadata": {},
     "output_type": "display_data"
    }
   ],
   "source": [
    "%%manim -qh -r 1280,720 -v warning -o sigmoid-3d.mp4 ThreeDSigmoid\n",
    "pass"
   ]
  },
  {
   "cell_type": "code",
   "execution_count": null,
   "id": "b21298f0-f9ff-40be-b336-e1bf358b4f57",
   "metadata": {},
   "outputs": [],
   "source": []
  }
 ],
 "metadata": {
  "kernelspec": {
   "display_name": "Python 3",
   "language": "python",
   "name": "python3"
  },
  "language_info": {
   "codemirror_mode": {
    "name": "ipython",
    "version": 3
   },
   "file_extension": ".py",
   "mimetype": "text/x-python",
   "name": "python",
   "nbconvert_exporter": "python",
   "pygments_lexer": "ipython3",
   "version": "3.8.8"
  }
 },
 "nbformat": 4,
 "nbformat_minor": 5
}
