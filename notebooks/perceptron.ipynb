{
 "cells": [
  {
   "cell_type": "markdown",
   "id": "c281f126-ba5d-4621-9e1e-97be1874d87f",
   "metadata": {
    "tags": []
   },
   "source": [
    "import functools\n",
    "import manim\n",
    "import numpy as np\n",
    "import math\n",
    "\n",
    "class SceneObjects:\n",
    "    def __init__(self):\n",
    "        vec = np.array([1,0])\n",
    "        self.points = np.array([[4.2, 2.1], [1.2, -0.5], [3.7, 3.5], [-1.1, -0.2], [-1.9, 1.5]])\n",
    "        self.points_projected = None\n",
    "        self.update_vec(vec)\n",
    "        self.dots = self.create_dots()\n",
    "        \n",
    "    def update_vec(self, vec):\n",
    "        self.vec = vec\n",
    "        self.points_projected = self.project(self.points, self.vec)\n",
    "    \n",
    "    @staticmethod\n",
    "    def project(points, vec):\n",
    "        scalars = points @ vec.T\n",
    "        projected_points = scalars[:, np.newaxis] @ vec.T[np.newaxis, :]\n",
    "        return projected_points\n",
    "        \n",
    "    def create_dots(self):\n",
    "        dots = []\n",
    "        def reproject_dot(o, i):\n",
    "            o.move_to([*self.points_projected[i], 0])\n",
    "        for i,p in enumerate(self.points_projected):\n",
    "            d = manim.Dot([*p, 0])\n",
    "            d.add_updater(functools.partial(reproject_dot, i=i))\n",
    "            dots.append(d)            \n",
    "        return dots\n",
    "    \n",
    "    \n",
    "class MyScene(manim.Scene):\n",
    "    def construct(self):\n",
    "        self.add(manim.NumberPlane())\n",
    "        scene_objects = SceneObjects()\n",
    "        self.add(*scene_objects.dots)\n",
    "        class ProxyAnim(manim.Animation):\n",
    "            def update_mobjects(self, dt):\n",
    "                rotate_rate = 0.2\n",
    "                rotate_rads = dt * rotate_rate\n",
    "                v_new = scene_objects.vec @ np.array([[math.cos(rotate_rads), math.sin(rotate_rads)],\n",
    "                                                      [-math.sin(rotate_rads), math.cos(rotate_rads)]])\n",
    "                scene_objects.update_vec(v_new)\n",
    "        self.play(ProxyAnim(None))\n",
    "        self.wait()\n",
    "            "
   ]
  },
  {
   "cell_type": "code",
   "execution_count": 1,
   "id": "e50a23d6",
   "metadata": {},
   "outputs": [
    {
     "data": {
      "text/html": [
       "<pre style=\"white-space:pre;overflow-x:auto;line-height:normal;font-family:Menlo,'DejaVu Sans Mono',consolas,'Courier New',monospace\">Manim Community <span style=\"color: #008000\">v0.6.0</span>\n",
       "\n",
       "</pre>\n"
      ],
      "text/plain": [
       "<rich.jupyter.JupyterRenderable at 0x7f11bb59f280>"
      ]
     },
     "metadata": {},
     "output_type": "display_data"
    }
   ],
   "source": [
    "import numpy as np\n",
    "import matplotlib.pyplot as plt\n",
    "import math\n",
    "import manim\n",
    "import functools\n",
    "import copy"
   ]
  },
  {
   "cell_type": "markdown",
   "id": "93ce175f-46a8-4029-b8f4-c8292213f78c",
   "metadata": {},
   "source": [
    "Ref  \n",
    "[Colors](https://www.reddit.com/r/manim/comments/dzxoen/predefined_color_scheme/)"
   ]
  },
  {
   "cell_type": "code",
   "execution_count": 2,
   "id": "91b43256",
   "metadata": {
    "tags": []
   },
   "outputs": [
    {
     "data": {
      "text/plain": [
       "[<matplotlib.lines.Line2D at 0x7f11baa96fd0>]"
      ]
     },
     "execution_count": 2,
     "metadata": {},
     "output_type": "execute_result"
    },
    {
     "data": {
      "image/png": "[encoded data removed]",
      "text/plain": [
       "<Figure size 576x360 with 1 Axes>"
      ]
     },
     "metadata": {
      "needs_background": "light"
     },
     "output_type": "display_data"
    }
   ],
   "source": [
    "NUM_POINTS_PER_CLASS = 14\n",
    "NUM_CLASSES = 2\n",
    "NUM_POINTS = NUM_CLASSES * NUM_POINTS_PER_CLASS\n",
    "\n",
    "def generate_data():\n",
    "    seed = 124\n",
    "    rng = np.random.Generator(np.random.PCG64(seed))\n",
    "    def transform(points, rotate_rads, offset):\n",
    "        scale = np.array([[0.5, 0], [0, 5.0]])\n",
    "        rotate = np.array([[math.cos(rotate_rads), math.sin(rotate_rads)],\n",
    "                           [-math.sin(rotate_rads), math.cos(rotate_rads)]])\n",
    "        points = points @ scale\n",
    "        points = points @ rotate\n",
    "        points = points + offset\n",
    "        return points\n",
    "    points = rng.multivariate_normal([0,0], [[1, 0],[0,1]], size=NUM_POINTS)\n",
    "    points_c1 = transform(points[:NUM_POINTS//2], 1.2, np.array([3, 4]))\n",
    "    points_c2 = transform(points[NUM_POINTS//2:], 0.9, np.array([5, 6]))\n",
    "    return np.concatenate([points_c1, points_c2], axis=0)\n",
    "\n",
    "points = generate_data()\n",
    "fig, ax = plt.subplots(figsize=(8,5))\n",
    "ax.set_ylim([-4, 20])\n",
    "ax.set_xlim([-4, 20])\n",
    "points.T[0, :]\n",
    "ax.plot(points.T[0, :], points.T[1, :], 'x')"
   ]
  },
  {
   "cell_type": "code",
   "execution_count": 21,
   "id": "563943c2-0388-477e-9885-e4b17518e1f5",
   "metadata": {},
   "outputs": [],
   "source": [
    "def project_points(points, vec, progress):\n",
    "    scalars = points @ vec.T\n",
    "    projected_points = scalars[:, np.newaxis] @ vec.T[np.newaxis, :]\n",
    "    interpolated = points - progress * (points - projected_points) \n",
    "    return projected_points, interpolated\n",
    "\n",
    "def vec_to_angle(vec):\n",
    "    a = np.arctan2(vec[1], vec[0])\n",
    "    if a < 0:\n",
    "        a = 2*math.pi + a\n",
    "    return a\n",
    "\n",
    "class SceneData:\n",
    "    def __init__(self, points, vec, progress=0):\n",
    "        self.points = points\n",
    "        self.points_projected = None\n",
    "        self.points_progress = None\n",
    "        self.vec = vec\n",
    "        self.progress = progress\n",
    "        self.update()\n",
    "        \n",
    "    def update(self):\n",
    "        projected, progress =  project_points(self.points, self.vec, self.progress)\n",
    "        self.points_projected = projected\n",
    "        self.points_progress = progress\n",
    "        \n",
    "    def update_vec(self, vec):\n",
    "        self.vec = vec\n",
    "        self.update()\n",
    "    \n",
    "    def update_progress(self, progress):\n",
    "        self.progress = progress\n",
    "        self.update()\n",
    "        \n",
    "        \n",
    "class SceneObjects:\n",
    "    def __init__(self, scene_data):\n",
    "        self.scene_data = scene_data\n",
    "        self.dots = self.create_dots(scene_data)\n",
    "        self.dots_projected = self.create_projected_dots(scene_data)\n",
    "        self.projection_lines = self.create_projection_lines(scene_data)\n",
    "        self.vec_arrow = self.create_vec_arrow(scene_data)\n",
    "        self.vec_line = self.create_vec_line(scene_data)\n",
    "    \n",
    "    @staticmethod\n",
    "    def create_dots(scene_data):\n",
    "        dots = SceneObjects.create_stationary_dots(scene_data)\n",
    "        for i,d in enumerate(dots):\n",
    "            def update_dot(i, o):\n",
    "                o.move_to([*scene_data.points_progress[i], 0])\n",
    "            d.add_updater(functools.partial(update_dot, i))\n",
    "        return dots\n",
    "   \n",
    "    @staticmethod\n",
    "    def create_stationary_dots(scene_data):\n",
    "        dots = []\n",
    "        for i,p in enumerate(scene_data.points_progress):\n",
    "            d = manim.Dot([*p, 0])\n",
    "            dots.append(d)\n",
    "        return dots\n",
    "\n",
    "    @staticmethod\n",
    "    def create_projected_dots(scene_data):\n",
    "        dots = []\n",
    "        color = manim.utils.color.YELLOW\n",
    "        for i,p in enumerate(scene_data.points_projected):\n",
    "            d = manim.Dot([*p, 0], color=color)\n",
    "            def reproject_dot(i, o):\n",
    "                o.move_to([*scene_data.points_projected[i], 0])\n",
    "            d.add_updater(functools.partial(reproject_dot, i))\n",
    "            dots.append(d)\n",
    "        return dots\n",
    "    \n",
    "    @staticmethod\n",
    "    def create_projection_lines(scene_data):\n",
    "        lines = []\n",
    "        if scene_data.points.shape != scene_data.points_projected.shape:\n",
    "            raise Exception('Points and projections must come in pairs.')\n",
    "        for i, (p1, p2) in enumerate(zip(scene_data.points_progress, scene_data.points_projected)):\n",
    "            l = manim.DashedLine([*p1, 0], [*p2, 0], \n",
    "                          dash_length=0.2, \n",
    "                          positive_space_ratio=0.8,\n",
    "                          color='#707070')\n",
    "            def reproject(i, o):\n",
    "                # Because I want the dashes to increase/decrease and not stretch/shrink, I'm using\n",
    "                # a replace instead of an update.\n",
    "                # o.put_start_and_end_on([*scene_data.points[i],0], [*scene_data.points_projected[i], 0])\n",
    "                l2 = manim.DashedLine([*scene_data.points_progress[i], 0], [*scene_data.points_projected[i], 0], \n",
    "                              dash_length=0.2, \n",
    "                              positive_space_ratio=0.8,\n",
    "                              color='#707070')\n",
    "                o.become(l2)\n",
    "            l.add_updater(functools.partial(reproject, i))\n",
    "            lines.append(l)\n",
    "        return lines\n",
    "    \n",
    "    @staticmethod\n",
    "    def create_vec_arrow(scene_data):\n",
    "        vec = manim.Arrow(manim.ORIGIN, [*scene_data.vec, 0], buff=0)\n",
    "        def rotate_vec(o):\n",
    "            o.set_angle(vec_to_angle(scene_data.vec))\n",
    "        vec.add_updater(rotate_vec)\n",
    "        return vec\n",
    "    \n",
    "    @staticmethod\n",
    "    def create_vec_line(scene_data):\n",
    "        color = manim.utils.color.YELLOW_A\n",
    "        stroke_width = 6.0\n",
    "        line = manim.NumberLine(rotation=math.atan(scene_data.vec[1]/scene_data.vec[0]),\n",
    "                                length=40, \n",
    "                                include_numbers=True,\n",
    "                                stroke_width=stroke_width, color=color)\n",
    "        def rotate_line(o):\n",
    "            o.rotate_about_zero(vec_to_angle(scene_data.vec) - line.get_angle())\n",
    "        line.add_updater(rotate_line)\n",
    "        return line\n",
    "    \n",
    "        \n",
    "def create_data(starting_vec=None):\n",
    "    if starting_vec is None:\n",
    "        starting_vec = np.array([math.cos(0), math.sin(0)])\n",
    "    points = generate_data()\n",
    "    sd = SceneData(points, starting_vec)\n",
    "    so = SceneObjects(sd)\n",
    "    return sd, so"
   ]
  },
  {
   "cell_type": "code",
   "execution_count": 22,
   "id": "e34e1d00-fc89-4255-937f-b637434c9409",
   "metadata": {},
   "outputs": [],
   "source": [
    "def setup_camera(scene):\n",
    "    scene.camera.frame_center = np.array([5, 2, 0])\n",
    "    scene.camera.frame.scale(2.3)\n",
    "    \n",
    "def setup_plane(scene):\n",
    "    plane = manim.NumberPlane(x_range=[-30, 30], y_range=[-30, 30])\n",
    "    scene.add(plane)\n",
    "\n",
    "def setup_scene(scene):\n",
    "    setup_camera(scene)\n",
    "    setup_plane(scene)"
   ]
  },
  {
   "cell_type": "code",
   "execution_count": 23,
   "id": "3e591c26-0353-4bf5-8aa1-5e85a18732e3",
   "metadata": {},
   "outputs": [],
   "source": [
    "class MasterAnim(manim.Animation):\n",
    "    def update_mobjects(self, dt):\n",
    "        v = sd.vec\n",
    "        dt = dt * 0.25\n",
    "        v_new = v @ np.array([[math.cos(dt), math.sin(dt)],[-math.sin(dt), math.cos(dt)]])\n",
    "        sd.update_vec(v_new)\n",
    "        \n",
    "class ProjectionAnim(manim.Animation):\n",
    "    def interpolate_mobject(self, alpha):\n",
    "        sd.update_progress(alpha)\n",
    "\n",
    "class DisplayProjected(manim.MovingCameraScene):\n",
    "    def construct(self):\n",
    "        sd, so = create_data()\n",
    "        setup_scene(self)\n",
    "        self.add(*so.projection_lines)\n",
    "        self.add(*so.dots)\n",
    "        self.add(*so.dots_projected)\n",
    "        self.add(*so.vec_arrow)\n",
    "        self.add(*so.vec_line)\n",
    "        #self.play(MasterAnim(None))\n",
    "        self.play(ProjectionAnim(None, rate_func=manim.rate_functions.ease_out_sine))\n",
    "        self.wait()"
   ]
  },
  {
   "cell_type": "code",
   "execution_count": 38,
   "id": "8f2218ab-2984-410b-80f5-0c18645ffecb",
   "metadata": {},
   "outputs": [],
   "source": [
    "class ProjectionAnim(manim.Animation):\n",
    "    def __init__(self, scene_data, **kwargs):\n",
    "        self.scene_data = scene_data\n",
    "        super().__init__(None, **kwargs)\n",
    "        \n",
    "    def interpolate_mobject(self, alpha):\n",
    "        self.scene_data.update_progress(alpha)\n",
    "\n",
    "class ProjectAndFadeAnim(manim.AnimationGroup):\n",
    "    def __init__(self, scene_data, **kwargs):\n",
    "        orig_dots = SceneObjects.create_stationary_dots(scene_data)\n",
    "        g = manim.Group()\n",
    "        for d in orig_dots:\n",
    "            g.add(d.set_color(manim.utils.color.GREY))\n",
    "        fade_out_dots = manim.FadeOut(g, rate_func=manim.rate_functions.ease_out_sine)\n",
    "        super().__init__(fade_out_dots, ProjectionAnim(scene_data), **kwargs)"
   ]
  },
  {
   "cell_type": "markdown",
   "id": "780fc3fa-8895-4eda-8e72-09d2ab999fbb",
   "metadata": {},
   "source": [
    "# Story"
   ]
  },
  {
   "cell_type": "markdown",
   "id": "ac474d3f-a5f5-4eed-9014-3866cbc50e88",
   "metadata": {},
   "source": [
    "Quite a lot of machine learning techniques can be viewed as an attempt to find a vector to represent some data. Usually, we use this vector to project the data onto a line; this is converting each data point into a single number.\n",
    "\n",
    "From a high level perspective, we have available high-dimensional data points and we wish to convert each data point to a single number, and once we do, we can design simple rules, like `if x > 0, then class_1 else class_2`. \n",
    "\n",
    "Perceptrons, regression, support vector machines, and principal component analysis are examples of methods which can be viewed as searching for an appropriate vector, then projecting all data onto this vector. A single visualization can provide visual intuition for all of these methods.\n",
    "\n",
    "You can find yourself reinventing famous machine learning methods if you give yourself a problem with the right constraints. Consider you are given the following data points. There are 14 data points in 2D Euclidean space. "
   ]
  },
  {
   "cell_type": "code",
   "execution_count": 52,
   "id": "ab10556a-8b2c-4636-b1fa-ae9a533a5f4a",
   "metadata": {
    "tags": []
   },
   "outputs": [],
   "source": [
    "class DisplayPoints(manim.MovingCameraScene):\n",
    "    def construct(self):\n",
    "        setup_scene(self)\n",
    "        sd, so = create_data()\n",
    "        self.add(*so.dots)"
   ]
  },
  {
   "cell_type": "code",
   "execution_count": 51,
   "id": "1b7f2766-3711-450e-b134-c70789cceb0a",
   "metadata": {},
   "outputs": [
    {
     "data": {
      "image/png": "[encoded data removed]",
      "text/plain": [
       "<IPython.core.display.Image object>"
      ]
     },
     "metadata": {},
     "output_type": "display_data"
    }
   ],
   "source": [
    "%%manim -ql -v warning -o points.png DisplayPoints\n",
    "pass"
   ]
  },
  {
   "cell_type": "markdown",
   "id": "2665a268-2fe4-4362-a956-fde2a88943c5",
   "metadata": {},
   "source": [
    "Warm up with a simple projection: the data can be projected onto the first axis by zero-ing the second element of each data point."
   ]
  },
  {
   "cell_type": "code",
   "execution_count": 49,
   "id": "f0873643-e3b3-41b8-9653-15bdc4a9fe2b",
   "metadata": {
    "jupyter": {
     "source_hidden": true
    },
    "tags": []
   },
   "outputs": [],
   "source": [
    "class DisplayProjectedX(manim.MovingCameraScene):\n",
    "    def construct(self):\n",
    "        setup_scene(self)\n",
    "        sd, so = create_data()\n",
    "        self.add(*so.projection_lines)\n",
    "        self.add(*so.dots)\n",
    "        #self.add(*so.dots_projected)\n",
    "        #self.add(*so.vec_line)\n",
    "        self.play(ProjectAndFadeAnim(sd))\n",
    "        self.wait()"
   ]
  },
  {
   "cell_type": "code",
   "execution_count": 50,
   "id": "96eda422-c2a4-45e9-9ab1-3cafffff5466",
   "metadata": {
    "jupyter": {
     "source_hidden": true
    },
    "tags": []
   },
   "outputs": [
    {
     "name": "stderr",
     "output_type": "stream",
     "text": [
      "                                                                                       \r"
     ]
    },
    {
     "data": {
      "text/html": [
       "<video src=\"media/jupyter/c33425bec7692276cd0339cab39d90641839bc3e.mp4\" controls autoplay loop style=\"max-width: 25vw;\"  >\n",
       "      Your browser does not support the <code>video</code> element.\n",
       "    </video>"
      ],
      "text/plain": [
       "<IPython.core.display.Video object>"
      ]
     },
     "metadata": {},
     "output_type": "display_data"
    }
   ],
   "source": [
    "%%manim -ql -v warning -o project-to-x.mp4 DisplayProjectedX\n",
    "pass"
   ]
  },
  {
   "cell_type": "markdown",
   "id": "9f703363-3d94-40e8-a80d-96d5364aabec",
   "metadata": {},
   "source": [
    "And the data can be projected onto the the second axis by zero-ing the first element of each data point."
   ]
  },
  {
   "cell_type": "code",
   "execution_count": 41,
   "id": "5cb4b739-63d3-470b-a16d-8d4e533eff54",
   "metadata": {
    "jupyter": {
     "source_hidden": true
    },
    "tags": []
   },
   "outputs": [],
   "source": [
    "class DisplayProjectedY(manim.MovingCameraScene):\n",
    "    def construct(self):\n",
    "        setup_scene(self)\n",
    "        sd, so = create_data(starting_vec=np.array([0, 1]))\n",
    "        self.add(*so.projection_lines)\n",
    "        self.add(*so.dots)\n",
    "        #self.add(*so.dots_projected)\n",
    "        #self.add(*so.vec_line)\n",
    "        self.play(ProjectAndFadeAnim(sd))\n",
    "        self.wait()"
   ]
  },
  {
   "cell_type": "code",
   "execution_count": 45,
   "id": "7c41a074-3f16-4659-a36b-c7daf8001a35",
   "metadata": {
    "jupyter": {
     "source_hidden": true
    },
    "tags": []
   },
   "outputs": [
    {
     "name": "stderr",
     "output_type": "stream",
     "text": [
      "<ipython-input-21-185a95dbcb24>:109: RuntimeWarning: divide by zero encountered in long_scalars\n",
      "  line = manim.NumberLine(rotation=math.atan(scene_data.vec[1]/scene_data.vec[0]),\n",
      "                                                                                       \r"
     ]
    },
    {
     "data": {
      "text/html": [
       "<video src=\"media/jupyter/7ad0099f229acc98fad217605f90e6ab61342efc.mp4\" controls autoplay loop style=\"max-width: 25vw;\"  >\n",
       "      Your browser does not support the <code>video</code> element.\n",
       "    </video>"
      ],
      "text/plain": [
       "<IPython.core.display.Video object>"
      ]
     },
     "metadata": {},
     "output_type": "display_data"
    }
   ],
   "source": [
    "%%manim -ql -v warning DisplayProjectedY\n",
    "pass"
   ]
  },
  {
   "cell_type": "markdown",
   "id": "0220a822-44da-4bf4-b3ae-44a6cf89ded4",
   "metadata": {},
   "source": [
    "Below you can see all possible projections of the data onto a vector of unit length."
   ]
  },
  {
   "cell_type": "code",
   "execution_count": 67,
   "id": "e2bf5ca0-7dcc-4cbe-a294-2bf3e4f1c663",
   "metadata": {},
   "outputs": [],
   "source": [
    "class RotateVectorAnim(manim.Animation):\n",
    "    def __init__(self, scene_data, **kwargs):\n",
    "        self.scene_data = scene_data\n",
    "        super().__init__(None, run_time=8, rate_func=manim.rate_functions.linear, **kwargs)\n",
    "        \n",
    "    def update_mobjects(self, dt):\n",
    "        v = self.scene_data.vec\n",
    "        step = (dt * math.pi * 2)/self.run_time\n",
    "        v_new = v @ np.array([[math.cos(step), math.sin(step)],\n",
    "                              [-math.sin(step), math.cos(step)]])\n",
    "        self.scene_data.update_vec(v_new) \n",
    "        \n",
    "class AllUnitProjections(manim.MovingCameraScene):\n",
    "    def construct(self):\n",
    "        setup_scene(self)\n",
    "        sd, so = create_data()\n",
    "        self.add(*so.dots)\n",
    "        self.add(*so.projection_lines)\n",
    "        self.add(*so.dots_projected)\n",
    "        self.add(*so.vec_arrow)\n",
    "        self.add(*so.vec_line)\n",
    "        self.play(RotateVectorAnim(sd))"
   ]
  },
  {
   "cell_type": "code",
   "execution_count": null,
   "id": "9c0f5ad4-b810-4a91-a113-ef8521ce1d0b",
   "metadata": {},
   "outputs": [
    {
     "name": "stderr",
     "output_type": "stream",
     "text": [
      "Animation 0: RotateVectorAnim(Mobject):  28%|██▊       | 133/480 [01:35<04:37,  1.25it/s]"
     ]
    }
   ],
   "source": [
    "%%manim -qh -v warning -o all-unit-projections.mp4 AllUnitProjections\n",
    "pass"
   ]
  },
  {
   "cell_type": "code",
   "execution_count": null,
   "id": "a1505277-e1cc-48db-ae91-35066df72aa0",
   "metadata": {},
   "outputs": [],
   "source": []
  }
 ],
 "metadata": {
  "kernelspec": {
   "display_name": "Python 3",
   "language": "python",
   "name": "python3"
  },
  "language_info": {
   "codemirror_mode": {
    "name": "ipython",
    "version": 3
   },
   "file_extension": ".py",
   "mimetype": "text/x-python",
   "name": "python",
   "nbconvert_exporter": "python",
   "pygments_lexer": "ipython3",
   "version": "3.8.8"
  }
 },
 "nbformat": 4,
 "nbformat_minor": 5
}
