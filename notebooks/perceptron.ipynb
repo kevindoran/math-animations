{
 "cells": [
  {
   "cell_type": "markdown",
   "id": "c281f126-ba5d-4621-9e1e-97be1874d87f",
   "metadata": {
    "tags": []
   },
   "source": [
    "import functools\n",
    "import manim\n",
    "import numpy as np\n",
    "import math\n",
    "\n",
    "class SceneObjects:\n",
    "    def __init__(self):\n",
    "        vec = np.array([1,0])\n",
    "        self.points = np.array([[4.2, 2.1], [1.2, -0.5], [3.7, 3.5], [-1.1, -0.2], [-1.9, 1.5]])\n",
    "        self.points_projected = None\n",
    "        self.update_vec(vec)\n",
    "        self.dots = self.create_dots()\n",
    "        \n",
    "    def update_vec(self, vec):\n",
    "        self.vec = vec\n",
    "        self.points_projected = self.project(self.points, self.vec)\n",
    "    \n",
    "    @staticmethod\n",
    "    def project(points, vec):\n",
    "        scalars = points @ vec.T\n",
    "        projected_points = scalars[:, np.newaxis] @ vec.T[np.newaxis, :]\n",
    "        return projected_points\n",
    "        \n",
    "    def create_dots(self):\n",
    "        dots = []\n",
    "        def reproject_dot(o, i):\n",
    "            o.move_to([*self.points_projected[i], 0])\n",
    "        for i,p in enumerate(self.points_projected):\n",
    "            d = manim.Dot([*p, 0])\n",
    "            d.add_updater(functools.partial(reproject_dot, i=i))\n",
    "            dots.append(d)            \n",
    "        return dots\n",
    "    \n",
    "    \n",
    "class MyScene(manim.Scene):\n",
    "    def construct(self):\n",
    "        self.add(manim.NumberPlane())\n",
    "        scene_objects = SceneObjects()\n",
    "        self.add(*scene_objects.dots)\n",
    "        class ProxyAnim(manim.Animation):\n",
    "            def update_mobjects(self, dt):\n",
    "                rotate_rate = 0.2\n",
    "                rotate_rads = dt * rotate_rate\n",
    "                v_new = scene_objects.vec @ np.array([[math.cos(rotate_rads), math.sin(rotate_rads)],\n",
    "                                                      [-math.sin(rotate_rads), math.cos(rotate_rads)]])\n",
    "                scene_objects.update_vec(v_new)\n",
    "        self.play(ProxyAnim(None))\n",
    "        self.wait()\n",
    "            "
   ]
  },
  {
   "cell_type": "code",
   "execution_count": 740,
   "id": "e50a23d6",
   "metadata": {},
   "outputs": [],
   "source": [
    "import numpy as np\n",
    "import matplotlib.pyplot as plt\n",
    "import math\n",
    "import manim\n",
    "import functools\n",
    "import copy\n",
    "from enum import Enum\n",
    "import sklearn as sk\n",
    "import sklearn.decomposition as sk_dcomp"
   ]
  },
  {
   "cell_type": "markdown",
   "id": "93ce175f-46a8-4029-b8f4-c8292213f78c",
   "metadata": {},
   "source": [
    "Ref  \n",
    "[Colors](https://www.reddit.com/r/manim/comments/dzxoen/predefined_color_scheme/)"
   ]
  },
  {
   "cell_type": "code",
   "execution_count": 138,
   "id": "91b43256",
   "metadata": {
    "tags": []
   },
   "outputs": [
    {
     "data": {
      "text/plain": [
       "[<matplotlib.lines.Line2D at 0x7f4489c76a30>]"
      ]
     },
     "execution_count": 138,
     "metadata": {},
     "output_type": "execute_result"
    },
    {
     "data": {
      "image/png": "[encoded data removed]",
      "text/plain": [
       "<Figure size 576x360 with 1 Axes>"
      ]
     },
     "metadata": {
      "needs_background": "light"
     },
     "output_type": "display_data"
    }
   ],
   "source": [
    "NUM_POINTS_PER_CLASS = 14\n",
    "NUM_CLASSES = 2\n",
    "NUM_POINTS = NUM_CLASSES * NUM_POINTS_PER_CLASS\n",
    "\n",
    "def generate_data():\n",
    "    seed = 124\n",
    "    rng = np.random.Generator(np.random.PCG64(seed))\n",
    "    def transform(points, rotate_rads, offset):\n",
    "        scale = np.array([[0.25, 0], [0, 2.5]])\n",
    "        rotate = np.array([[math.cos(rotate_rads), math.sin(rotate_rads)],\n",
    "                           [-math.sin(rotate_rads), math.cos(rotate_rads)]])\n",
    "        points = points @ scale\n",
    "        points = points @ rotate\n",
    "        points = points + offset\n",
    "        return points\n",
    "    points = rng.multivariate_normal([0,0], [[1, 0],[0,1]], size=NUM_POINTS)\n",
    "    points_c1 = transform(points[:NUM_POINTS//2], 1.2, np.array([1.5, 1]))\n",
    "    points_c2 = transform(points[NUM_POINTS//2:], 0.9, np.array([2.5, 2]))\n",
    "    return np.concatenate([points_c1, points_c2], axis=0)\n",
    "\n",
    "points = generate_data()\n",
    "fig, ax = plt.subplots(figsize=(8,5))\n",
    "ax.set_ylim([-4, 10])\n",
    "ax.set_xlim([-4, 10])\n",
    "points.T[0, :]\n",
    "ax.plot(points.T[0, :], points.T[1, :], 'x')"
   ]
  },
  {
   "cell_type": "code",
   "execution_count": 763,
   "id": "563943c2-0388-477e-9885-e4b17518e1f5",
   "metadata": {},
   "outputs": [],
   "source": [
    "def project_points(points, vec, progress):\n",
    "    scalars = points @ vec.T\n",
    "    projected_points = scalars[:, np.newaxis] @ vec.T[np.newaxis, :]\n",
    "    interpolated = points - progress * (points - projected_points) \n",
    "    return projected_points, interpolated\n",
    "\n",
    "def vec_to_angle(vec):\n",
    "    a = np.arctan2(vec[1], vec[0])\n",
    "    if a < 0:\n",
    "        a = 2*math.pi + a\n",
    "    return a\n",
    "\n",
    "class NumberLineThinTicks(manim.NumberLine):\n",
    "    def get_tick(self, x, size=None):\n",
    "        if size is None:\n",
    "            size = self.tick_size\n",
    "        result = manim.Line(size * manim.DOWN, size * manim.UP)\n",
    "        result.rotate(self.get_angle())\n",
    "        result.move_to(self.number_to_point(x))\n",
    "        result.match_style(self)\n",
    "        result.set(stroke_width=3)\n",
    "        return result    \n",
    "    \n",
    "class SceneData:\n",
    "    def __init__(self, points, vec, progress=0):\n",
    "        self.points = points\n",
    "        self.points_projected = None\n",
    "        self.points_progress = None\n",
    "        self.vec = vec\n",
    "        self.progress = progress\n",
    "        self.update()\n",
    "        \n",
    "    def update(self):\n",
    "        projected, progress =  project_points(self.points, self.vec, self.progress)\n",
    "        self.points_projected = projected\n",
    "        self.points_progress = progress\n",
    "        \n",
    "    def update_vec(self, vec):\n",
    "        self.vec = vec\n",
    "        self.update()\n",
    "    \n",
    "    def update_progress(self, progress):\n",
    "        self.progress = progress\n",
    "        self.update()\n",
    "        \n",
    "        \n",
    "class SceneObjects:\n",
    "    def __init__(self, scene_data):\n",
    "        self.scene_data = scene_data\n",
    "        self._dot_orig_color = manim.utils.color.WHITE\n",
    "        self._dot_options =  {'radius':0.08, 'stroke_width':0.5, 'fill_opacity':1.0,\n",
    "                              'stroke_color':manim.utils.color.BLACK}\n",
    "        self.dots = self.create_dots()\n",
    "        self.dots_projected = self.create_projected_dots()\n",
    "        self.projection_lines = self.create_projection_lines()\n",
    "        self.vec_arrow = self.create_vec_arrow()\n",
    "        self.vec_line = self.create_vec_line()\n",
    "        \n",
    "    def create_dots(self):\n",
    "        dots = self.create_stationary_dots()\n",
    "        for i,d in enumerate(dots):\n",
    "            def update_dot(i, o):\n",
    "                o.move_to([*self.scene_data.points_progress[i], 0])\n",
    "            d.add_updater(functools.partial(update_dot, i))\n",
    "        return dots\n",
    "    \n",
    "    def enable_dull_orig_dots(self, is_enabled):\n",
    "        color = manim.utils.color.GREY if is_enabled else self._dot_orig_color\n",
    "        #opacity = 0.5 if is_enabled else 1.0\n",
    "        for d in self.dots:\n",
    "            #d.set_color(color)\n",
    "            d.set_stroke_width(0.0)\n",
    "   \n",
    "    def create_stationary_dots(self):\n",
    "        dots = []\n",
    "        for i,p in enumerate(self.scene_data.points_progress):\n",
    "            d = manim.Dot([*p, 0], color=self._dot_orig_color, **self._dot_options)\n",
    "            dots.append(d)\n",
    "        return dots\n",
    "\n",
    "    def create_projected_dots(self):\n",
    "        dots = []\n",
    "        dot_options = self._dot_options\n",
    "        for i,p in enumerate(self.scene_data.points_projected):\n",
    "            d = manim.Dot([*p, 0], color=manim.utils.color.WHITE, **dot_options)\n",
    "            def reproject_dot(i, o):\n",
    "                o.move_to([*self.scene_data.points_projected[i], 0])\n",
    "            d.add_updater(functools.partial(reproject_dot, i))\n",
    "            dots.append(d)\n",
    "        return dots\n",
    "    \n",
    "    def create_projection_lines(self):\n",
    "        lines = []\n",
    "        if self.scene_data.points.shape != self.scene_data.points_projected.shape:\n",
    "            raise Exception('Points and projections must come in pairs.')\n",
    "        for i, (p1, p2) in enumerate(zip(self.scene_data.points_progress, \n",
    "                                         self.scene_data.points_projected)):\n",
    "            dashed_line_options = {\n",
    "                          'dash_length':0.15, \n",
    "                          'positive_space_ratio':0.8,\n",
    "                          'stroke_width':4, # default is 4, from VMobject.\n",
    "                          'stroke_opacity':0.8,\n",
    "                          'color':'#707070'}\n",
    "            l = manim.DashedLine([*p1, 0], [*p2, 0], **dashed_line_options)\n",
    "            def reproject(i, o):\n",
    "                # Because I want the dashes to increase/decrease and not stretch/shrink, I'm using\n",
    "                # a replace instead of an update.\n",
    "                # o.put_start_and_end_on([*scene_data.points[i],0], [*scene_data.points_projected[i], 0])\n",
    "                l2 = manim.DashedLine([*self.scene_data.points_progress[i], 0], \n",
    "                                      [*self.scene_data.points_projected[i], 0], \n",
    "                                      **dashed_line_options)\n",
    "                o.become(l2)\n",
    "            l.add_updater(functools.partial(reproject, i))\n",
    "            lines.append(l)\n",
    "        return lines\n",
    "    \n",
    "    def create_vec_arrow(self):\n",
    "        color = manim.utils.color.WHITE\n",
    "        vec = manim.Arrow(manim.ORIGIN, [*self.scene_data.vec, 0], buff=0, \n",
    "                          color=color\n",
    "                         #stroke_width=10,\n",
    "                         #max_stroke_width_to_length_ratio=10,\n",
    "                         #max_tip_length_to_length_ratio=0.4\n",
    "                         )\n",
    "        def rotate_vec(o):\n",
    "            o.set_angle(vec_to_angle(self.scene_data.vec))\n",
    "        vec.add_updater(rotate_vec)\n",
    "        return vec\n",
    "    \n",
    "    def create_vec_line(self, include_numbers=True):\n",
    "        color = manim.utils.color.YELLOW_A\n",
    "        stroke_width = 4.0\n",
    "        line = NumberLineThinTicks(rotation=math.atan(self.scene_data.vec[1]/self.scene_data.vec[0]),\n",
    "                                x_range=[-20,20],\n",
    "                                tick_size=0.05,\n",
    "                                number_scale_value=0.5,\n",
    "                                include_numbers=include_numbers,\n",
    "                                include_ticks=True,\n",
    "                                stroke_width=stroke_width, color=color)\n",
    "        def rotate_line(o):\n",
    "            o.rotate_about_zero(vec_to_angle(self.scene_data.vec) - line.get_angle())\n",
    "        line.add_updater(rotate_line)\n",
    "        return line\n",
    "    \n",
    "        \n",
    "def create_data(starting_vec=None):\n",
    "    if starting_vec is None:\n",
    "        starting_vec = np.array([math.cos(0), math.sin(0)])\n",
    "    points = generate_data()\n",
    "    sd = SceneData(points, starting_vec)\n",
    "    so = SceneObjects(sd)\n",
    "    return sd, so"
   ]
  },
  {
   "cell_type": "code",
   "execution_count": 757,
   "id": "e34e1d00-fc89-4255-937f-b637434c9409",
   "metadata": {},
   "outputs": [],
   "source": [
    "def setup_camera(scene):\n",
    "    scene.camera.frame_center = np.array([2, 1, 0])\n",
    "    scene.camera.frame.scale(1.3)\n",
    "    \n",
    "def setup_3d_axes(scene):\n",
    "    axes = manim.ThreeDAxes(x_range=[-15, 15], y_range=[-15, 15])\n",
    "    scene.add(axes)\n",
    "    \n",
    "    \n",
    "def setup_plane(scene):\n",
    "    plane = manim.NumberPlane(x_range=[-15, 15], y_range=[-15, 15],\n",
    "                             background_line_style={'stroke_width': 0.5},\n",
    "                             axis_config={'stroke_color': manim.utils.color.LIGHT_GREY,\n",
    "                                          'stroke_weight': 0.5},\n",
    "                             faded_line_ratio=2,\n",
    "                             faded_line_style={'stroke_color': manim.utils.color.BLUE_D,\n",
    "                                               'stroke_width': 1.0,\n",
    "                                               'stroke_opacity': 0.7})\n",
    "    scene.add(plane)\n",
    "    return plane\n",
    "\n",
    "def setup_scene(scene):\n",
    "    setup_camera(scene)\n",
    "    setup_plane(scene)"
   ]
  },
  {
   "cell_type": "code",
   "execution_count": 758,
   "id": "8f2218ab-2984-410b-80f5-0c18645ffecb",
   "metadata": {},
   "outputs": [],
   "source": [
    "Axis = Enum('Axis', 'X Y')\n",
    "def highlighted_axis_plane(axis : Axis):\n",
    "    highlight_config = {'include_ticks':True, \n",
    "                        'stroke_color':manim.utils.color.YELLOW_A,\n",
    "                        'include_numbers': True,\n",
    "                        'stroke_width': 6}\n",
    "    normal_config = {'include_ticks':False,\n",
    "                     'stroke_color':manim.utils.color.WHITE}\n",
    "    if axis == Axis.X:\n",
    "        axis_config = highlight_config\n",
    "        y_axis_config = normal_config  \n",
    "    elif axis == Axis.Y:\n",
    "        axis_config = normal_config\n",
    "        y_axis_config = highlight_config  \n",
    "    else:\n",
    "        raise Exception(f'Unexpected input: {axis}')\n",
    "    plane = manim.NumberPlane(x_range=[-15, 15],  y_range=[-15, 15],\n",
    "                              axis_config=axis_config, y_axis_config=y_axis_config)\n",
    "    return plane\n",
    "    \n",
    "def x_highlighted_plane():\n",
    "    return highlighted_axis_plane(Axis.X)\n",
    "    \n",
    "def y_highlighted_plane():\n",
    "    return highlighted_axis_plane(Axis.Y)\n",
    "\n",
    "class ProjectionAnim(manim.Animation):\n",
    "    def __init__(self, scene_objects, **kwargs):\n",
    "        self.scene_objects = scene_objects\n",
    "        super().__init__(None, **kwargs)\n",
    "        \n",
    "    def interpolate_mobject(self, alpha):\n",
    "        self.scene_objects.scene_data.update_progress(alpha)\n",
    "\n",
    "class ProjectAndFadeAnim(manim.AnimationGroup):\n",
    "    def __init__(self, scene_objects, **kwargs):\n",
    "        orig_dots = scene_objects.create_stationary_dots()\n",
    "        \n",
    "        g = manim.Group()\n",
    "        for d in orig_dots:\n",
    "            d.set_z_index(-1000)\n",
    "            g.add(d.set_color(manim.utils.color.GREY))\n",
    "        fade_out_dots = manim.FadeOut(g, rate_func=manim.rate_functions.ease_out_sine)\n",
    "        super().__init__(fade_out_dots, ProjectionAnim(scene_objects), **kwargs)"
   ]
  },
  {
   "cell_type": "markdown",
   "id": "780fc3fa-8895-4eda-8e72-09d2ab999fbb",
   "metadata": {},
   "source": [
    "# Story"
   ]
  },
  {
   "cell_type": "markdown",
   "id": "ac474d3f-a5f5-4eed-9014-3866cbc50e88",
   "metadata": {},
   "source": [
    "Quite a lot of machine learning techniques can be viewed as an attempt to find a vector to represent some data. Usually, we use this vector to project the data onto a line; this is converting each data point into a single number.\n",
    "\n",
    "From a high level perspective, we have available high-dimensional data points and we wish to convert each data point to a single number, and once we do, we can design simple rules, like `if x > 0, then class_1 else class_2`. \n",
    "\n",
    "Perceptrons, regression, support vector machines, and principal component analysis are examples of methods which can be viewed as searching for an appropriate vector, then projecting all data onto this vector. A single visualization can provide visual intuition for all of these methods.\n",
    "\n",
    "You can find yourself reinventing famous machine learning methods if you give yourself a problem with the right constraints. Consider you are given the following data points. There are 14 data points in 2D Euclidean space. "
   ]
  },
  {
   "cell_type": "code",
   "execution_count": 759,
   "id": "ab10556a-8b2c-4636-b1fa-ae9a533a5f4a",
   "metadata": {
    "tags": []
   },
   "outputs": [],
   "source": [
    "class DisplayPoints(manim.MovingCameraScene):\n",
    "    def construct(self):\n",
    "        setup_scene(self)\n",
    "        sd, so = create_data()\n",
    "        self.add(*so.dots)"
   ]
  },
  {
   "cell_type": "code",
   "execution_count": 760,
   "id": "1b7f2766-3711-450e-b134-c70789cceb0a",
   "metadata": {},
   "outputs": [
    {
     "data": {
      "image/png": "[encoded data removed]",
      "text/plain": [
       "<IPython.core.display.Image object>"
      ]
     },
     "metadata": {},
     "output_type": "display_data"
    }
   ],
   "source": [
    "%%manim -ql -v warning -o points.png DisplayPoints\n",
    "pass"
   ]
  },
  {
   "cell_type": "markdown",
   "id": "2665a268-2fe4-4362-a956-fde2a88943c5",
   "metadata": {},
   "source": [
    "Warm up with a simple projection: the data can be projected onto the first axis by zero-ing the second element of each data point. This is equivalent to projecting onto the vector (1, 0)."
   ]
  },
  {
   "cell_type": "code",
   "execution_count": 725,
   "id": "f0873643-e3b3-41b8-9653-15bdc4a9fe2b",
   "metadata": {
    "tags": []
   },
   "outputs": [],
   "source": [
    "class DisplayProjectedX(manim.MovingCameraScene):\n",
    "    def construct(self):\n",
    "        setup_scene(self)\n",
    "        sd, so = create_data()\n",
    "        self.add(*so.projection_lines)\n",
    "        self.add(*so.vec_arrow)\n",
    "        self.add(*so.vec_line)\n",
    "        self.add(*so.dots)\n",
    "        self.play(ProjectAndFadeAnim(so))\n",
    "        self.wait()"
   ]
  },
  {
   "cell_type": "code",
   "execution_count": 726,
   "id": "96eda422-c2a4-45e9-9ab1-3cafffff5466",
   "metadata": {
    "tags": []
   },
   "outputs": [
    {
     "name": "stderr",
     "output_type": "stream",
     "text": [
      "                                                                                       \r"
     ]
    },
    {
     "data": {
      "text/html": [
       "<video src=\"media/jupyter/b0df681fee1583d070399b33fb608f21590ea359.mp4\" controls autoplay loop style=\"max-width: 25vw;\"  >\n",
       "      Your browser does not support the <code>video</code> element.\n",
       "    </video>"
      ],
      "text/plain": [
       "<IPython.core.display.Video object>"
      ]
     },
     "metadata": {},
     "output_type": "display_data"
    }
   ],
   "source": [
    "%%manim -ql -v warning -o project-to-x.mp4 DisplayProjectedX\n",
    "pass"
   ]
  },
  {
   "cell_type": "markdown",
   "id": "9f703363-3d94-40e8-a80d-96d5364aabec",
   "metadata": {},
   "source": [
    "And the data can be projected onto the the second axis by zero-ing the first element of each data point. This is equivalent to projecting onto the vector (0, 1)."
   ]
  },
  {
   "cell_type": "code",
   "execution_count": 656,
   "id": "5cb4b739-63d3-470b-a16d-8d4e533eff54",
   "metadata": {
    "tags": []
   },
   "outputs": [],
   "source": [
    "class DisplayProjectedY(manim.MovingCameraScene):\n",
    "    def construct(self):\n",
    "        setup_scene(self)\n",
    "        sd, so = create_data(starting_vec=np.array([0, 1]))\n",
    "        self.add(*so.vec_arrow)\n",
    "        vec_line = so.create_vec_line(include_numbers=False)\n",
    "        vec_line.add_numbers(direction=manim.LEFT)\n",
    "        self.add(*so.projection_lines)\n",
    "        self.add(vec_line)\n",
    "        self.add(*so.dots)\n",
    "        #self.add(*so.dots_projected)\n",
    "        #self.add(*so.vec_line)\n",
    "        self.play(ProjectAndFadeAnim(so))\n",
    "        self.wait()"
   ]
  },
  {
   "cell_type": "code",
   "execution_count": 657,
   "id": "7c41a074-3f16-4659-a36b-c7daf8001a35",
   "metadata": {
    "tags": []
   },
   "outputs": [
    {
     "name": "stderr",
     "output_type": "stream",
     "text": [
      "<ipython-input-649-5d4e9e6fdfc0>:119: RuntimeWarning: divide by zero encountered in long_scalars\n",
      "  line = manim.NumberLine(rotation=math.atan(self.scene_data.vec[1]/self.scene_data.vec[0]),\n",
      "                                                                                       \r"
     ]
    },
    {
     "data": {
      "text/html": [
       "<video src=\"media/jupyter/036f1d88289b5fc930cf4b60300ff99d51afea29.mp4\" controls autoplay loop style=\"max-width: 25vw;\"  >\n",
       "      Your browser does not support the <code>video</code> element.\n",
       "    </video>"
      ],
      "text/plain": [
       "<IPython.core.display.Video object>"
      ]
     },
     "metadata": {},
     "output_type": "display_data"
    }
   ],
   "source": [
    "%%manim -ql -v warning DisplayProjectedY\n",
    "pass"
   ]
  },
  {
   "cell_type": "markdown",
   "id": "0220a822-44da-4bf4-b3ae-44a6cf89ded4",
   "metadata": {},
   "source": [
    "Below you can see all possible projections of the data onto a vector of unit length."
   ]
  },
  {
   "cell_type": "code",
   "execution_count": 669,
   "id": "e2bf5ca0-7dcc-4cbe-a294-2bf3e4f1c663",
   "metadata": {},
   "outputs": [],
   "source": [
    "class RotateVectorAnim(manim.Animation):\n",
    "    def __init__(self, scene_data, **kwargs):\n",
    "        self.scene_data = scene_data\n",
    "        super().__init__(None, run_time=8, rate_func=manim.rate_functions.linear, **kwargs)\n",
    "        \n",
    "    def update_mobjects(self, dt):\n",
    "        v = self.scene_data.vec\n",
    "        step = (dt * math.pi * 2)/self.run_time\n",
    "        v_new = v @ np.array([[math.cos(step), math.sin(step)],\n",
    "                              [-math.sin(step), math.cos(step)]])\n",
    "        self.scene_data.update_vec(v_new) \n",
    "        \n",
    "class AllUnitProjections(manim.MovingCameraScene):\n",
    "    def construct(self):\n",
    "        setup_scene(self)\n",
    "        sd, so = create_data()\n",
    "        so.enable_dull_orig_dots(True)\n",
    "        self.add(*so.projection_lines)\n",
    "        self.add(*so.vec_arrow)\n",
    "        self.add(*so.vec_line)\n",
    "        self.add(*so.dots)\n",
    "        self.add(*so.dots_projected)\n",
    "        self.play(RotateVectorAnim(sd))"
   ]
  },
  {
   "cell_type": "code",
   "execution_count": 764,
   "id": "9c0f5ad4-b810-4a91-a113-ef8521ce1d0b",
   "metadata": {},
   "outputs": [
    {
     "name": "stderr",
     "output_type": "stream",
     "text": [
      "<ipython-input-763-e21baac3b6bb>:72: DeprecationWarning: This method is not guaranteed to stay around. Please prefer setting the attribute normally or with Mobject.set().\n",
      "  d.set_stroke_width(0.0)\n",
      "                                                                                         \r"
     ]
    },
    {
     "data": {
      "text/html": [
       "<video src=\"media/jupyter/07ae231c09f372c7ea4c5f6eafa294425aa97014.mp4\" controls autoplay loop style=\"max-width: 25vw;\"  >\n",
       "      Your browser does not support the <code>video</code> element.\n",
       "    </video>"
      ],
      "text/plain": [
       "<IPython.core.display.Video object>"
      ]
     },
     "metadata": {},
     "output_type": "display_data"
    }
   ],
   "source": [
    "%%manim -ql -v warning -o allprojections.mp4 AllUnitProjections\n",
    "pass"
   ]
  },
  {
   "cell_type": "markdown",
   "id": "8844d62e-3d81-4d8e-82f6-96ac9bc95c43",
   "metadata": {},
   "source": [
    "Already you can spot some interesting projections. For example, below the vector is chosen so that the projected data points are spread out on the line. Indeed, this is the first vector calculated by principle component analysis, and thus, it is the vector that maximizes the variance of the data when it is projected onto a line. Principal components must be orthogonal, and as we are only in 2D, there can be only 2 principal components and the second one is perpendicular to the one we just found."
   ]
  },
  {
   "cell_type": "code",
   "execution_count": 762,
   "id": "e9b70eb7-71a3-409f-bc1b-1ff0e2cecb22",
   "metadata": {
    "jupyter": {
     "source_hidden": true
    },
    "tags": []
   },
   "outputs": [],
   "source": [
    "def create_pca_vec(data):\n",
    "    pca = sk_dcomp.PCA()\n",
    "    pca.fit(data)\n",
    "    vec = pca.components_[0]\n",
    "    vec = vec / np.linalg.norm(vec)\n",
    "    return vec\n",
    "\n",
    "class DisplayProjectedPCA(manim.MovingCameraScene):\n",
    "    def construct(self):\n",
    "        setup_scene(self)\n",
    "        vec = create_pca_vec(generate_data())\n",
    "        sd, so = create_data(starting_vec=vec)\n",
    "        self.add(*so.vec_arrow)\n",
    "        vec_line = so.create_vec_line(include_numbers=False)\n",
    "        vec_line.add_numbers(direction=manim.LEFT)\n",
    "        self.add(*so.projection_lines)\n",
    "        self.add(vec_line)\n",
    "        self.add(*so.dots)\n",
    "        #self.add(*so.dots_projected)\n",
    "        #self.add(*so.vec_line)\n",
    "        self.play(ProjectAndFadeAnim(so))\n",
    "        self.wait()"
   ]
  },
  {
   "cell_type": "code",
   "execution_count": 755,
   "id": "f05de365-3cb5-4eac-9111-2c4150a1a3bd",
   "metadata": {},
   "outputs": [
    {
     "name": "stderr",
     "output_type": "stream",
     "text": [
      "                                                                                       \r"
     ]
    },
    {
     "data": {
      "text/html": [
       "<video src=\"media/jupyter/d21d4ca2d48b86b86d57ff4a01d14a3eb7f9f055.mp4\" controls autoplay loop style=\"max-width: 25vw;\"  >\n",
       "      Your browser does not support the <code>video</code> element.\n",
       "    </video>"
      ],
      "text/plain": [
       "<IPython.core.display.Video object>"
      ]
     },
     "metadata": {},
     "output_type": "display_data"
    }
   ],
   "source": [
    "%%manim -ql -v warning -o pca.mp4 DisplayProjectedPCA\n",
    "pass"
   ]
  },
  {
   "cell_type": "markdown",
   "id": "2f1869a3-0322-4dd5-b6ed-24efd36b254d",
   "metadata": {},
   "source": [
    "If we replay the previous video from the perspective we see the following:"
   ]
  },
  {
   "cell_type": "code",
   "execution_count": 718,
   "id": "a1505277-e1cc-48db-ae91-35066df72aa0",
   "metadata": {},
   "outputs": [],
   "source": [
    "_temp_camera = None\n",
    "class SyncCameraRotation(manim.Animation):\n",
    "    def __init__(self, scene, scene_data, **kwargs):\n",
    "        self.scene_data = scene_data\n",
    "        self.scene = scene\n",
    "        super().__init__(None, run_time=8, rate_func=manim.rate_functions.linear, **kwargs)\n",
    "        \n",
    "    def update_mobjects(self, dt):\n",
    "        v = self.scene_data.vec\n",
    "        step = (dt * math.pi * 2)/self.run_time\n",
    "        v_new = v @ np.array([[math.cos(step), math.sin(step)],\n",
    "                              [-math.sin(step), math.cos(step)]])\n",
    "        self.scene_data.update_vec(v_new) \n",
    "        #self.scene.camera.theta_tracker += step #+ math.pi/2\n",
    "        \n",
    "class AllProjectionsLinePerspective(manim.ThreeDScene):\n",
    "    def construct(self):\n",
    "        plane = setup_plane(self)\n",
    "        sd, so = create_data()\n",
    "        self.add(*so.projection_lines)\n",
    "        self.add(*so.vec_arrow)\n",
    "        self.add(*so.vec_line)\n",
    "        self.add(*so.dots)\n",
    "        self.add(*so.dots_projected)\n",
    "        #combo_anim = manim.AnimationGroup(None, )\n",
    "        camera_rotate_anim = manim.ApplyMethod(self.renderer.camera.theta_tracker.set_value)\n",
    "        \n",
    "        self.move_camera(theta=2*math.pi + (-math.pi/2), run_time=8, rate_func=manim.rate_functions.linear,\n",
    "                        added_anims=[SyncCameraRotation(self, sd)])#, added_anims=[SyncCameraRotation(sd)])\n",
    "        #self.wait(2)\n",
    "        #self.play(SyncCameraRotation(self, sd))\n",
    "        #self.wait(1)"
   ]
  },
  {
   "cell_type": "code",
   "execution_count": 719,
   "id": "46fd2d4c-e689-4d53-8f5a-5bc47f3409b8",
   "metadata": {},
   "outputs": [
    {
     "name": "stderr",
     "output_type": "stream",
     "text": [
      "                                                                                               \r"
     ]
    },
    {
     "data": {
      "text/html": [
       "<video src=\"media/jupyter/422dc8edfb2f5880e967d26b9a8ec46973ad3c64.mp4\" controls autoplay loop style=\"max-width: 25vw;\"  >\n",
       "      Your browser does not support the <code>video</code> element.\n",
       "    </video>"
      ],
      "text/plain": [
       "<IPython.core.display.Video object>"
      ]
     },
     "metadata": {},
     "output_type": "display_data"
    }
   ],
   "source": [
    "%%manim -ql -o all-projections-line-perspective.mp4 AllProjectionsLinePerspective\n",
    "pass"
   ]
  },
  {
   "cell_type": "code",
   "execution_count": null,
   "id": "37569c78-c4ea-42d0-8a2f-ccdf700d3cae",
   "metadata": {},
   "outputs": [],
   "source": []
  }
 ],
 "metadata": {
  "kernelspec": {
   "display_name": "Python 3",
   "language": "python",
   "name": "python3"
  },
  "language_info": {
   "codemirror_mode": {
    "name": "ipython",
    "version": 3
   },
   "file_extension": ".py",
   "mimetype": "text/x-python",
   "name": "python",
   "nbconvert_exporter": "python",
   "pygments_lexer": "ipython3",
   "version": "3.8.8"
  }
 },
 "nbformat": 4,
 "nbformat_minor": 5
}
