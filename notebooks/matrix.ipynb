{
 "cells": [
  {
   "cell_type": "code",
   "execution_count": 4,
   "id": "87fd5ea3-2f56-44f4-82b6-d73d1e52560e",
   "metadata": {},
   "outputs": [],
   "source": [
    "import manim as manim\n",
    "import numpy as np\n",
    "import copy\n",
    "import colormap\n",
    "import palettable"
   ]
  },
  {
   "cell_type": "code",
   "execution_count": 5,
   "id": "081a4b8e-c5c7-4c57-a449-5328c23277c8",
   "metadata": {},
   "outputs": [
    {
     "name": "stdout",
     "output_type": "stream",
     "text": [
      "Usage: manim [OPTIONS] COMMAND [ARGS]...\n",
      "\n",
      "  Animation engine for explanatory math videos\n",
      "\n",
      "Options:\n",
      "  --version  Show version and exit.\n",
      "  --help     Show this message and exit.\n",
      "\n",
      "Commands:\n",
      "  render*  Render SCENE(S) from the input FILE.\n",
      "  cfg      Manages Manim configuration files.\n",
      "  plugins  Manages Manim plugins.\n",
      "\n",
      "  Made with <3 by Manim Community developers.\n"
     ]
    }
   ],
   "source": [
    "%manim --help"
   ]
  },
  {
   "cell_type": "code",
   "execution_count": 8,
   "id": "9551e64c-d0d0-4f2d-8d5f-04dcdca7c2ea",
   "metadata": {},
   "outputs": [],
   "source": [
    "colors = ['#caf0f8', '#90e0ef', '#00b4d8', '#0096c7']\n",
    "# Gradient generated at: https://coolors.co/gradient-palette/83a566-628444?number=7\n",
    "result_colors = ['#caffbf', '#BEF0B0', '#B2E1A1', '#A7D293', '#9BC384', '#8FB475', '#83A566', '#7EA060', '#789A5B', '#739555', '#6D8F4F', '#688A4A'] \n",
    "#result_colors = YlGn_9.hex_colors #Deep_20.hex_colors\n",
    "result_colors = [colormap.rgb2hex(*palettable.cartocolors.sequential.Emrld_7.mpl_colormap(n)) for n in np.linspace(0.0, 0.5, 10)]\n",
    "result_color = result_colors[0]\n",
    "\n",
    "use_gradient = True\n",
    "mixes = np.array([[2, 4, 1], [1, 1, 1], [0, 3, 2], [0, 1, 0], [4, 1, 0], [3, 0, 0], [2, 2, 2], [1, 1, 3], [1, 0, 2]])\n",
    "X_in =  np.array([[1, 0, 1, 3], [1, 4, 0, 0], [0, 0, 2, 0]])\n",
    "bg_color = '#f0f0f0'\n",
    "font_color = '#0a0a0a'\n",
    "line_color = '#7b7b7b'\n",
    "scale = 0.5\n",
    "target_point = np.array([1, -5, 0])*scale\n",
    "source_point = np.array([0, 2, 0])\n",
    "num_input_boxes = 4\n",
    "num_inputs = 3\n",
    "mix = [2, 4, 1]\n",
    "publish = True\n",
    "manim.config[\"background_color\"] = bg_color\n",
    "if publish:\n",
    "    manim.config.quality = 'production_quality'\n",
    "    manim.config.pixel_width = 1280\n",
    "    manim.config.pixel_height = 720\n",
    "    manim.config.frame_rate = 60\n",
    "else:\n",
    "    manim.config.quality = 'low_quality'\n",
    "    manim.config.pixel_width = 640\n",
    "    manim.config.pixel_height = 360\n",
    "    manim.config.frame_rate = 60\n"
   ]
  },
  {
   "cell_type": "code",
   "execution_count": 16,
   "id": "4a1c14df-dd97-4cd5-bed7-a465546a02cc",
   "metadata": {},
   "outputs": [
    {
     "data": {
      "text/html": [
       "<pre style=\"white-space:pre;overflow-x:auto;line-height:normal;font-family:Menlo,'DejaVu Sans Mono',consolas,'Courier New',monospace\"><span style=\"color: #7fbfbf\">[05/29/21 08:41:48] </span><span style=\"color: #008000\">INFO</span>     <span style=\"color: #808000; font-weight: bold\">Writing</span> <span style=\"color: #008000\">\"$\\times$\"</span> to                     <a href=\"file:///opt/conda/lib/python3.8/site-packages/manim/utils/tex_file_writing.py\"><span style=\"color: #7f7f7f\">tex_file_writing.py</span></a><span style=\"color: #7f7f7f\">:81</span>\n",
       "                             media/Tex/1413b97f288b63f9.tex                                  \n",
       "</pre>\n"
      ],
      "text/plain": [
       "<rich.jupyter.JupyterRenderable at 0x7f0d6b480fd0>"
      ]
     },
     "metadata": {},
     "output_type": "display_data"
    },
    {
     "data": {
      "text/html": [
       "<pre style=\"white-space:pre;overflow-x:auto;line-height:normal;font-family:Menlo,'DejaVu Sans Mono',consolas,'Courier New',monospace\"><span style=\"color: #7fbfbf\">                    </span><span style=\"color: #800000; font-weight: bold\">ERROR</span>    LaTeX compilation error! latex reports:  <a href=\"file:///opt/conda/lib/python3.8/site-packages/manim/utils/tex_file_writing.py\"><span style=\"color: #7f7f7f\">tex_file_writing.py</span></a><span style=\"color: #7f7f7f\">:178</span>\n",
       "</pre>\n"
      ],
      "text/plain": [
       "<rich.jupyter.JupyterRenderable at 0x7f0d6b480dc0>"
      ]
     },
     "metadata": {},
     "output_type": "display_data"
    },
    {
     "data": {
      "text/html": [
       "<pre style=\"white-space:pre;overflow-x:auto;line-height:normal;font-family:Menlo,'DejaVu Sans Mono',consolas,'Courier New',monospace\"><span style=\"color: #7fbfbf\">[05/29/21 08:41:49] </span><span style=\"color: #800000; font-weight: bold\">ERROR</span>    ! LaTeX Error: <span style=\"color: #808000; font-weight: bold\">File</span> `lmodern.sty' not    <a href=\"file:///opt/conda/lib/python3.8/site-packages/manim/utils/tex_file_writing.py\"><span style=\"color: #7f7f7f\">tex_file_writing.py</span></a><span style=\"color: #7f7f7f\">:189</span>\n",
       "                             found.                                                          \n",
       "                                                                                             \n",
       "</pre>\n"
      ],
      "text/plain": [
       "<rich.jupyter.JupyterRenderable at 0x7f0d6b4802b0>"
      ]
     },
     "metadata": {},
     "output_type": "display_data"
    },
    {
     "data": {
      "text/html": [
       "<pre style=\"white-space:pre;overflow-x:auto;line-height:normal;font-family:Menlo,'DejaVu Sans Mono',consolas,'Courier New',monospace\"><span style=\"color: #7fbfbf\">                    </span><span style=\"color: #800000; font-weight: bold\">ERROR</span>                                             <a href=\"file:///opt/conda/lib/python3.8/site-packages/manim/utils/tex_file_writing.py\"><span style=\"color: #7f7f7f\">tex_file_writing.py</span></a><span style=\"color: #7f7f7f\">:189</span>\n",
       "                                                                                             \n",
       "</pre>\n"
      ],
      "text/plain": [
       "<rich.jupyter.JupyterRenderable at 0x7f0d6b480280>"
      ]
     },
     "metadata": {},
     "output_type": "display_data"
    },
    {
     "data": {
      "text/html": [
       "<pre style=\"white-space:pre;overflow-x:auto;line-height:normal;font-family:Menlo,'DejaVu Sans Mono',consolas,'Courier New',monospace\"><span style=\"color: #7fbfbf\">                    </span><span style=\"color: #800000; font-weight: bold\">ERROR</span>    Type X to quit or <span style=\"font-weight: bold\">&lt;</span><span style=\"color: #ff00ff; font-weight: bold\">RETURN</span><span style=\"font-weight: bold\">&gt;</span> to proceed,   <a href=\"file:///opt/conda/lib/python3.8/site-packages/manim/utils/tex_file_writing.py\"><span style=\"color: #7f7f7f\">tex_file_writing.py</span></a><span style=\"color: #7f7f7f\">:189</span>\n",
       "                                                                                             \n",
       "</pre>\n"
      ],
      "text/plain": [
       "<rich.jupyter.JupyterRenderable at 0x7f0d6b480cd0>"
      ]
     },
     "metadata": {},
     "output_type": "display_data"
    },
    {
     "data": {
      "text/html": [
       "<pre style=\"white-space:pre;overflow-x:auto;line-height:normal;font-family:Menlo,'DejaVu Sans Mono',consolas,'Courier New',monospace\"><span style=\"color: #7fbfbf\">                    </span><span style=\"color: #800000; font-weight: bold\">ERROR</span>    or enter new name. <span style=\"font-weight: bold\">(</span>Default extension:   <a href=\"file:///opt/conda/lib/python3.8/site-packages/manim/utils/tex_file_writing.py\"><span style=\"color: #7f7f7f\">tex_file_writing.py</span></a><span style=\"color: #7f7f7f\">:189</span>\n",
       "                             sty<span style=\"font-weight: bold\">)</span>                                                            \n",
       "                                                                                             \n",
       "</pre>\n"
      ],
      "text/plain": [
       "<rich.jupyter.JupyterRenderable at 0x7f0d6b480fa0>"
      ]
     },
     "metadata": {},
     "output_type": "display_data"
    },
    {
     "data": {
      "text/html": [
       "<pre style=\"white-space:pre;overflow-x:auto;line-height:normal;font-family:Menlo,'DejaVu Sans Mono',consolas,'Courier New',monospace\"><span style=\"color: #7fbfbf\">                    </span><span style=\"color: #800000; font-weight: bold\">ERROR</span>                                             <a href=\"file:///opt/conda/lib/python3.8/site-packages/manim/utils/tex_file_writing.py\"><span style=\"color: #7f7f7f\">tex_file_writing.py</span></a><span style=\"color: #7f7f7f\">:189</span>\n",
       "                                                                                             \n",
       "</pre>\n"
      ],
      "text/plain": [
       "<rich.jupyter.JupyterRenderable at 0x7f0d6b480760>"
      ]
     },
     "metadata": {},
     "output_type": "display_data"
    },
    {
     "data": {
      "text/html": [
       "<pre style=\"white-space:pre;overflow-x:auto;line-height:normal;font-family:Menlo,'DejaVu Sans Mono',consolas,'Courier New',monospace\"><span style=\"color: #7fbfbf\">                    </span><span style=\"color: #800000; font-weight: bold\">ERROR</span>    Enter file name:                         <a href=\"file:///opt/conda/lib/python3.8/site-packages/manim/utils/tex_file_writing.py\"><span style=\"color: #7f7f7f\">tex_file_writing.py</span></a><span style=\"color: #7f7f7f\">:189</span>\n",
       "                                                                                             \n",
       "</pre>\n"
      ],
      "text/plain": [
       "<rich.jupyter.JupyterRenderable at 0x7f0d6b480280>"
      ]
     },
     "metadata": {},
     "output_type": "display_data"
    },
    {
     "data": {
      "text/html": [
       "<pre style=\"white-space:pre;overflow-x:auto;line-height:normal;font-family:Menlo,'DejaVu Sans Mono',consolas,'Courier New',monospace\"><span style=\"color: #7fbfbf\">                    </span><span style=\"color: #800000; font-weight: bold\">ERROR</span>    ! Emergency stop.                        <a href=\"file:///opt/conda/lib/python3.8/site-packages/manim/utils/tex_file_writing.py\"><span style=\"color: #7f7f7f\">tex_file_writing.py</span></a><span style=\"color: #7f7f7f\">:189</span>\n",
       "                                                                                             \n",
       "</pre>\n"
      ],
      "text/plain": [
       "<rich.jupyter.JupyterRenderable at 0x7f0d6b480940>"
      ]
     },
     "metadata": {},
     "output_type": "display_data"
    },
    {
     "data": {
      "text/html": [
       "<pre style=\"white-space:pre;overflow-x:auto;line-height:normal;font-family:Menlo,'DejaVu Sans Mono',consolas,'Courier New',monospace\"><span style=\"color: #7fbfbf\">                    </span><span style=\"color: #800000; font-weight: bold\">ERROR</span>    <span style=\"font-weight: bold\">&lt;</span><span style=\"color: #ff00ff; font-weight: bold\">read</span><span style=\"color: #000000\"> *</span><span style=\"font-weight: bold\">&gt;</span>                                 <a href=\"file:///opt/conda/lib/python3.8/site-packages/manim/utils/tex_file_writing.py\"><span style=\"color: #7f7f7f\">tex_file_writing.py</span></a><span style=\"color: #7f7f7f\">:189</span>\n",
       "                                                                                             \n",
       "</pre>\n"
      ],
      "text/plain": [
       "<rich.jupyter.JupyterRenderable at 0x7f0d6b480d60>"
      ]
     },
     "metadata": {},
     "output_type": "display_data"
    },
    {
     "data": {
      "text/html": [
       "<pre style=\"white-space:pre;overflow-x:auto;line-height:normal;font-family:Menlo,'DejaVu Sans Mono',consolas,'Courier New',monospace\"><span style=\"color: #7fbfbf\">                    </span><span style=\"color: #800000; font-weight: bold\">ERROR</span>                                             <a href=\"file:///opt/conda/lib/python3.8/site-packages/manim/utils/tex_file_writing.py\"><span style=\"color: #7f7f7f\">tex_file_writing.py</span></a><span style=\"color: #7f7f7f\">:189</span>\n",
       "                                                                                             \n",
       "</pre>\n"
      ],
      "text/plain": [
       "<rich.jupyter.JupyterRenderable at 0x7f0d6b480ee0>"
      ]
     },
     "metadata": {},
     "output_type": "display_data"
    },
    {
     "data": {
      "text/html": [
       "<pre style=\"white-space:pre;overflow-x:auto;line-height:normal;font-family:Menlo,'DejaVu Sans Mono',consolas,'Courier New',monospace\"><span style=\"color: #7fbfbf\">                    </span><span style=\"color: #800000; font-weight: bold\">ERROR</span>    l.<span style=\"color: #008000\">7</span> \\usepackage                          <a href=\"file:///opt/conda/lib/python3.8/site-packages/manim/utils/tex_file_writing.py\"><span style=\"color: #7f7f7f\">tex_file_writing.py</span></a><span style=\"color: #7f7f7f\">:189</span>\n",
       "                                                                                             \n",
       "</pre>\n"
      ],
      "text/plain": [
       "<rich.jupyter.JupyterRenderable at 0x7f0d6b480fa0>"
      ]
     },
     "metadata": {},
     "output_type": "display_data"
    },
    {
     "data": {
      "text/html": [
       "<pre style=\"white-space:pre;overflow-x:auto;line-height:normal;font-family:Menlo,'DejaVu Sans Mono',consolas,'Courier New',monospace\"><span style=\"color: #7fbfbf\">                    </span><span style=\"color: #800000; font-weight: bold\">ERROR</span>    ! Emergency stop.                        <a href=\"file:///opt/conda/lib/python3.8/site-packages/manim/utils/tex_file_writing.py\"><span style=\"color: #7f7f7f\">tex_file_writing.py</span></a><span style=\"color: #7f7f7f\">:189</span>\n",
       "                                                                                             \n",
       "</pre>\n"
      ],
      "text/plain": [
       "<rich.jupyter.JupyterRenderable at 0x7f0d6b480cd0>"
      ]
     },
     "metadata": {},
     "output_type": "display_data"
    },
    {
     "data": {
      "text/html": [
       "<pre style=\"white-space:pre;overflow-x:auto;line-height:normal;font-family:Menlo,'DejaVu Sans Mono',consolas,'Courier New',monospace\"><span style=\"color: #7fbfbf\">                    </span><span style=\"color: #800000; font-weight: bold\">ERROR</span>    <span style=\"font-weight: bold\">&lt;</span><span style=\"color: #ff00ff; font-weight: bold\">read</span><span style=\"color: #000000\"> *</span><span style=\"font-weight: bold\">&gt;</span>                                 <a href=\"file:///opt/conda/lib/python3.8/site-packages/manim/utils/tex_file_writing.py\"><span style=\"color: #7f7f7f\">tex_file_writing.py</span></a><span style=\"color: #7f7f7f\">:189</span>\n",
       "                                                                                             \n",
       "</pre>\n"
      ],
      "text/plain": [
       "<rich.jupyter.JupyterRenderable at 0x7f0d6b480dc0>"
      ]
     },
     "metadata": {},
     "output_type": "display_data"
    },
    {
     "data": {
      "text/html": [
       "<pre style=\"white-space:pre;overflow-x:auto;line-height:normal;font-family:Menlo,'DejaVu Sans Mono',consolas,'Courier New',monospace\"><span style=\"color: #7fbfbf\">                    </span><span style=\"color: #800000; font-weight: bold\">ERROR</span>                                             <a href=\"file:///opt/conda/lib/python3.8/site-packages/manim/utils/tex_file_writing.py\"><span style=\"color: #7f7f7f\">tex_file_writing.py</span></a><span style=\"color: #7f7f7f\">:189</span>\n",
       "                                                                                             \n",
       "</pre>\n"
      ],
      "text/plain": [
       "<rich.jupyter.JupyterRenderable at 0x7f0d6b480c70>"
      ]
     },
     "metadata": {},
     "output_type": "display_data"
    },
    {
     "data": {
      "text/html": [
       "<pre style=\"white-space:pre;overflow-x:auto;line-height:normal;font-family:Menlo,'DejaVu Sans Mono',consolas,'Courier New',monospace\"><span style=\"color: #7fbfbf\">                    </span><span style=\"color: #800000; font-weight: bold\">ERROR</span>    l.<span style=\"color: #008000\">7</span> \\usepackage                          <a href=\"file:///opt/conda/lib/python3.8/site-packages/manim/utils/tex_file_writing.py\"><span style=\"color: #7f7f7f\">tex_file_writing.py</span></a><span style=\"color: #7f7f7f\">:189</span>\n",
       "                                                                                             \n",
       "</pre>\n"
      ],
      "text/plain": [
       "<rich.jupyter.JupyterRenderable at 0x7f0d6b480cd0>"
      ]
     },
     "metadata": {},
     "output_type": "display_data"
    },
    {
     "ename": "ValueError",
     "evalue": "latex error converting to dvi. See log output above or the log file: media/Tex/1413b97f288b63f9.log",
     "output_type": "error",
     "traceback": [
      "\u001b[0;31m---------------------------------------------------------------------------\u001b[0m",
      "\u001b[0;31mValueError\u001b[0m                                Traceback (most recent call last)",
      "\u001b[0;32m<ipython-input-16-d15c779dad09>\u001b[0m in \u001b[0;36m<module>\u001b[0;34m\u001b[0m\n\u001b[0;32m----> 1\u001b[0;31m \u001b[0mget_ipython\u001b[0m\u001b[0;34m(\u001b[0m\u001b[0;34m)\u001b[0m\u001b[0;34m.\u001b[0m\u001b[0mrun_cell_magic\u001b[0m\u001b[0;34m(\u001b[0m\u001b[0;34m'manim'\u001b[0m\u001b[0;34m,\u001b[0m \u001b[0;34m'-qh -r 1280,720 -o combining-columns.mp4 CombiningColumns'\u001b[0m\u001b[0;34m,\u001b[0m \u001b[0;34m\"\\n#%%manim -qh -r 1280,720 -o linear-column-equation.png CombiningColumns\\n\\nmanim.config.quality = 'production_quality'\\nmanim.config.pixel_width = 1280\\nmanim.config.pixel_height = 720\\nmanim.config.frame_rate = 60\\n\\nscale = 0.5\\n\\n   \\nclass CombiningColumns(manim.MovingCameraScene):\\n    def __init__(self, *args, **kwargs):\\n        super().__init__(*args, **kwargs)\\n        self.vecs = []\\n        self.res = None\\n        self.factors = []\\n        self.equals = None\\n        self.other_text = [] \\n        \\n    def construct(self):\\n        self.construct_to_matrix_notation()\\n        #self.construct_adding_examples()\\n        \\n    def construct_to_matrix_notation(self):\\n        self.camera.frame_center = manim.ORIGIN - np.array([2.1, 0, 0])        \\n        eq1 = self.eq1()\\n        eq2_target = self.eq2()\\n        animations = self.anims(eq1, eq2_target)\\n        self.add(eq1)\\n        #return # return here for img\\n        self.wait(1)\\n        self.play(*animations)\\n        self.add(eq2_target.obj)\\n        self.remove(*self.other_text)\\n        self.wait(1)\\n        \\n    def construct_adding_examples(self):\\n        self.camera.frame_center = manim.ORIGIN - np.array([-3.5, 0, 0]) \\n        self.camera.frame.scale(1.3)\\n        self.eq1()\\n        eq2 = self.eq2()\\n        self.add(eq2.obj)\\n        self.wait(1)\\n        def create_num_col(v):\\n            return manim.Group(*(manim.Integer(i, color=font_color) for i in v)).arrange(direction=-manim.Y_AXIS)\\n\\n        fs = [eq2.m['F']]\\n        ys = [eq2.m['Y']]\\n        # Without partials, it's easy to accidentally not capture a copy of a variable in a lambda.\\n        import functools\\n        def update_y(prev_y, y):\\n            y.next_to(prev_y)\\n            \\n        ys[0].add_updater(lambda o : o.next_to(eq2.m['lb3']))        \\n        for i in range(1, len(mixes)):          \\n            ys.append(copy.deepcopy(ys[i-1]).next_to(ys[i-1]).set_fill(result_colors[i]))\\n            fs.append(create_num_col(mixes[i]).next_to(fs[i-1]))\\n            ys[i].add_updater(functools.partial(update_y, ys[i-1]))\\n        eq2.m['='].add_updater(lambda o : o.next_to(eq2.m['rb2']))\\n        eq2.m['lb3'].add_updater(lambda o : o.next_to(eq2.m['=']))\\n        current = 0\\n        #eq2.m['rb3'].add_updater(lambda o : o.next_to(ys[current]))\\n        for i in range(1, len(mixes)):\\n            anims = []\\n            # I can't get next_to to work for rb3. So use hacky shift instead.\\n            #self.play(eq2.m['rb3'].animate.next_to(ys[i]))            \\n            self.play(eq2.m['rb2'].animate.next_to(fs[i]),\\n                      eq2.m['rb3'].animate.shift([2.4*scale, 0, 0]))\\n            current = i\\n            anims.append(manim.FadeIn(fs[i]))\\n            anims.append(manim.FadeIn(ys[i]))\\n            self.play(*anims)\\n            self.wait(0.5)\\n        self.wait(1)\\n        \\n        # Part 2.\\n        to_nums_anim = []\\n        to_blocks_anim = []\\n        y = mixes @ X_in\\n        block_num_pairs = list(zip([eq2.m['X0'], eq2.m['X1'], eq2.m['X2']], X_in)) + list(zip(ys, y))\\n        for c,nums in block_num_pairs:\\n            for block, n in zip(reversed(c), nums):\\n                manim_int = manim.Integer(n, color=font_color).move_to(block)\\n                to_nums_anim.append(manim.FadeIn(manim_int))\\n                to_nums_anim.append(manim.FadeOut(block))\\n                to_blocks_anim.append(manim.FadeOut(manim_int))\\n                to_blocks_anim.append(manim.FadeIn(block))\\n        self.play(*to_nums_anim)      \\n        self.wait(1.3)\\n        self.play(*to_blocks_anim)\\n        self.wait(1.3)\\n        self.play(*to_nums_anim)\\n        self.wait(1.3)\\n        self.play(*to_blocks_anim)\\n        self.wait(1)\\n    \\n    def eq2(self):\\n        lb = manim.MathTex(r'\\\\big[', color=font_color).scale(2).stretch_to_fit_height(self.vecs[0].height + 0.2)\\n        rb = manim.MathTex(r'\\\\big]', color=font_color).scale(2).stretch_to_fit_height(lb.height)\\n        eq2_map = TargetObject(OrderedDict({\\n                    #manim.IntegerMatrix([[mix[0]], [mix[1]], [mix[2]]]).set_color(font_color),\\n                    'lb1' : lb.copy(),\\n                    'X0'  : copy.deepcopy(self.vecs[0]),\\n                    'X1'  : self.vecs[1].copy(),\\n                    'X2'  : self.vecs[2].copy(),\\n                    'rb1' : rb.copy(),\\n                    'lb2' : lb.copy(),\\n                    'F'   : manim.Group(*(manim.Integer(i, color=font_color) for i in mix)).arrange(direction=-manim.Y_AXIS),\\n                    'rb2' : rb.copy(),             \\n                    '='   : manim.MathTex('=', color=font_color),\\n                    'lb3' : lb.copy(),\\n                    'Y'   : self.res.copy(),\\n                    'rb3' : rb.copy()}),\\n                    draw_exclude={'F', 'X0', 'X1', 'X2', 'Y', '='})\\n        eq2_map.obj.arrange(direction=manim.X_AXIS)\\n        # Maintain position of equals sign.\\n        equality_sign_disp = eq2_map.m['='].get_center() - self.equals.get_center()\\n        eq2_map.obj.shift(-equality_sign_disp)\\n        return eq2_map\\n        \\n        \\n    def anims(self, eq1, eq2_map):\\n        replacements = (\\n            (self.vecs[0],    eq2_map.m['X0']),\\n            (self.vecs[1],    eq2_map.m['X1']),      \\n            (self.vecs[2],    eq2_map.m['X2']), \\n            (self.res,        eq2_map.m['Y']),\\n            (self.factors[0], eq2_map.m['F'][0]),\\n            (self.factors[1], eq2_map.m['F'][1]),\\n            (self.factors[2], eq2_map.m['F'][2]),\\n            (self.equals,     eq2_map.m['='])\\n        )\\n        animations = [*(manim.ReplacementTransform(a, b) for a,b in replacements),\\n                      *(manim.FadeIn(o) for o in eq2_map.elements_to_draw()),\\n                     #manim.FadeIn(eq2_map.obj),\\n                      *(manim.FadeOut(o) for o in self.other_text)]\\n        return animations\\n       \\n    \\n    def eq1(self):\\n        eq = manim.Mobject()\\n        spacing = 4.3 * scale\\n        offsets = np.array([1, 0.3, 0.3, 0.5, 1.15]) * scale\\n        \\n        for i in range(len(mix)):\\n            vec = create_2d_vec(num_input_boxes, manim.Y_AXIS, colors[i])\\n            vec_pos = spacing * (-len(mix) + i) + offsets[0]\\n            vec.move_to([vec_pos, 0, 0])\\n            mult = manim.Tex('$\\\\\\\\times$', color=font_color)\\n            mult.next_to(vec, buff=offsets[1])\\n            factor = manim.Tex(f'${mix[i]}$', color=font_color)\\n            factor.next_to(mult, buff=offsets[2])\\n            if(i < len(mix) - 1):\\n                plus = manim.Tex('$+$', color=font_color)\\n                plus.next_to(factor, buff=offsets[3])\\n            self.vecs.append(vec)\\n            self.factors.append(factor)\\n            self.other_text.extend([mult, plus])\\n            eq.add(vec, factor, mult, plus)\\n        self.equals = manim.Tex('=', color=font_color)\\n        self.equals.move_to([0, 0, 0])\\n        self.res = create_2d_vec(num_input_boxes, manim.Y_AXIS, result_color)\\n        self.res.next_to(self.equals, buff=offsets[4])\\n        eq.add(self.equals, self.res)\\n        eq.add(self.equals)\\n        return eq\\n\"\u001b[0m\u001b[0;34m)\u001b[0m\u001b[0;34m\u001b[0m\u001b[0;34m\u001b[0m\u001b[0m\n\u001b[0m",
      "\u001b[0;32m/opt/conda/lib/python3.8/site-packages/IPython/core/interactiveshell.py\u001b[0m in \u001b[0;36mrun_cell_magic\u001b[0;34m(self, magic_name, line, cell)\u001b[0m\n\u001b[1;32m   2397\u001b[0m             \u001b[0;32mwith\u001b[0m \u001b[0mself\u001b[0m\u001b[0;34m.\u001b[0m\u001b[0mbuiltin_trap\u001b[0m\u001b[0;34m:\u001b[0m\u001b[0;34m\u001b[0m\u001b[0;34m\u001b[0m\u001b[0m\n\u001b[1;32m   2398\u001b[0m                 \u001b[0margs\u001b[0m \u001b[0;34m=\u001b[0m \u001b[0;34m(\u001b[0m\u001b[0mmagic_arg_s\u001b[0m\u001b[0;34m,\u001b[0m \u001b[0mcell\u001b[0m\u001b[0;34m)\u001b[0m\u001b[0;34m\u001b[0m\u001b[0;34m\u001b[0m\u001b[0m\n\u001b[0;32m-> 2399\u001b[0;31m                 \u001b[0mresult\u001b[0m \u001b[0;34m=\u001b[0m \u001b[0mfn\u001b[0m\u001b[0;34m(\u001b[0m\u001b[0;34m*\u001b[0m\u001b[0margs\u001b[0m\u001b[0;34m,\u001b[0m \u001b[0;34m**\u001b[0m\u001b[0mkwargs\u001b[0m\u001b[0;34m)\u001b[0m\u001b[0;34m\u001b[0m\u001b[0;34m\u001b[0m\u001b[0m\n\u001b[0m\u001b[1;32m   2400\u001b[0m             \u001b[0;32mreturn\u001b[0m \u001b[0mresult\u001b[0m\u001b[0;34m\u001b[0m\u001b[0;34m\u001b[0m\u001b[0m\n\u001b[1;32m   2401\u001b[0m \u001b[0;34m\u001b[0m\u001b[0m\n",
      "\u001b[0;32m<decorator-gen-863>\u001b[0m in \u001b[0;36mmanim\u001b[0;34m(self, line, cell, local_ns)\u001b[0m\n",
      "\u001b[0;32m/opt/conda/lib/python3.8/site-packages/IPython/core/magic.py\u001b[0m in \u001b[0;36m<lambda>\u001b[0;34m(f, *a, **k)\u001b[0m\n\u001b[1;32m    185\u001b[0m     \u001b[0;31m# but it's overkill for just that one bit of state.\u001b[0m\u001b[0;34m\u001b[0m\u001b[0;34m\u001b[0m\u001b[0;34m\u001b[0m\u001b[0m\n\u001b[1;32m    186\u001b[0m     \u001b[0;32mdef\u001b[0m \u001b[0mmagic_deco\u001b[0m\u001b[0;34m(\u001b[0m\u001b[0marg\u001b[0m\u001b[0;34m)\u001b[0m\u001b[0;34m:\u001b[0m\u001b[0;34m\u001b[0m\u001b[0;34m\u001b[0m\u001b[0m\n\u001b[0;32m--> 187\u001b[0;31m         \u001b[0mcall\u001b[0m \u001b[0;34m=\u001b[0m \u001b[0;32mlambda\u001b[0m \u001b[0mf\u001b[0m\u001b[0;34m,\u001b[0m \u001b[0;34m*\u001b[0m\u001b[0ma\u001b[0m\u001b[0;34m,\u001b[0m \u001b[0;34m**\u001b[0m\u001b[0mk\u001b[0m\u001b[0;34m:\u001b[0m \u001b[0mf\u001b[0m\u001b[0;34m(\u001b[0m\u001b[0;34m*\u001b[0m\u001b[0ma\u001b[0m\u001b[0;34m,\u001b[0m \u001b[0;34m**\u001b[0m\u001b[0mk\u001b[0m\u001b[0;34m)\u001b[0m\u001b[0;34m\u001b[0m\u001b[0;34m\u001b[0m\u001b[0m\n\u001b[0m\u001b[1;32m    188\u001b[0m \u001b[0;34m\u001b[0m\u001b[0m\n\u001b[1;32m    189\u001b[0m         \u001b[0;32mif\u001b[0m \u001b[0mcallable\u001b[0m\u001b[0;34m(\u001b[0m\u001b[0marg\u001b[0m\u001b[0;34m)\u001b[0m\u001b[0;34m:\u001b[0m\u001b[0;34m\u001b[0m\u001b[0;34m\u001b[0m\u001b[0m\n",
      "\u001b[0;32m/opt/conda/lib/python3.8/site-packages/manim/utils/ipython_magic.py\u001b[0m in \u001b[0;36mmanim\u001b[0;34m(self, line, cell, local_ns)\u001b[0m\n\u001b[1;32m    107\u001b[0m             \u001b[0;32mwith\u001b[0m \u001b[0mtempconfig\u001b[0m\u001b[0;34m(\u001b[0m\u001b[0mlocal_ns\u001b[0m\u001b[0;34m.\u001b[0m\u001b[0mget\u001b[0m\u001b[0;34m(\u001b[0m\u001b[0;34m\"config\"\u001b[0m\u001b[0;34m,\u001b[0m \u001b[0;34m{\u001b[0m\u001b[0;34m}\u001b[0m\u001b[0;34m)\u001b[0m\u001b[0;34m)\u001b[0m\u001b[0;34m:\u001b[0m\u001b[0;34m\u001b[0m\u001b[0;34m\u001b[0m\u001b[0m\n\u001b[1;32m    108\u001b[0m                 \u001b[0mconfig\u001b[0m\u001b[0;34m.\u001b[0m\u001b[0mdigest_args\u001b[0m\u001b[0;34m(\u001b[0m\u001b[0margs\u001b[0m\u001b[0;34m)\u001b[0m\u001b[0;34m\u001b[0m\u001b[0;34m\u001b[0m\u001b[0m\n\u001b[0;32m--> 109\u001b[0;31m                 \u001b[0mexec\u001b[0m\u001b[0;34m(\u001b[0m\u001b[0;34mf\"{config['scene_names'][0]}().render()\"\u001b[0m\u001b[0;34m,\u001b[0m \u001b[0mlocal_ns\u001b[0m\u001b[0;34m)\u001b[0m\u001b[0;34m\u001b[0m\u001b[0;34m\u001b[0m\u001b[0m\n\u001b[0m\u001b[1;32m    110\u001b[0m                 \u001b[0mlocal_path\u001b[0m \u001b[0;34m=\u001b[0m \u001b[0mPath\u001b[0m\u001b[0;34m(\u001b[0m\u001b[0mconfig\u001b[0m\u001b[0;34m[\u001b[0m\u001b[0;34m\"output_file\"\u001b[0m\u001b[0;34m]\u001b[0m\u001b[0;34m)\u001b[0m\u001b[0;34m.\u001b[0m\u001b[0mrelative_to\u001b[0m\u001b[0;34m(\u001b[0m\u001b[0mPath\u001b[0m\u001b[0;34m.\u001b[0m\u001b[0mcwd\u001b[0m\u001b[0;34m(\u001b[0m\u001b[0;34m)\u001b[0m\u001b[0;34m)\u001b[0m\u001b[0;34m\u001b[0m\u001b[0;34m\u001b[0m\u001b[0m\n\u001b[1;32m    111\u001b[0m                 tmpfile = (\n",
      "\u001b[0;32m<string>\u001b[0m in \u001b[0;36m<module>\u001b[0;34m\u001b[0m\n",
      "\u001b[0;32m/opt/conda/lib/python3.8/site-packages/manim/scene/scene.py\u001b[0m in \u001b[0;36mrender\u001b[0;34m(self, preview)\u001b[0m\n\u001b[1;32m    197\u001b[0m         \u001b[0mself\u001b[0m\u001b[0;34m.\u001b[0m\u001b[0msetup\u001b[0m\u001b[0;34m(\u001b[0m\u001b[0;34m)\u001b[0m\u001b[0;34m\u001b[0m\u001b[0;34m\u001b[0m\u001b[0m\n\u001b[1;32m    198\u001b[0m         \u001b[0;32mtry\u001b[0m\u001b[0;34m:\u001b[0m\u001b[0;34m\u001b[0m\u001b[0;34m\u001b[0m\u001b[0m\n\u001b[0;32m--> 199\u001b[0;31m             \u001b[0mself\u001b[0m\u001b[0;34m.\u001b[0m\u001b[0mconstruct\u001b[0m\u001b[0;34m(\u001b[0m\u001b[0;34m)\u001b[0m\u001b[0;34m\u001b[0m\u001b[0;34m\u001b[0m\u001b[0m\n\u001b[0m\u001b[1;32m    200\u001b[0m         \u001b[0;32mexcept\u001b[0m \u001b[0mEndSceneEarlyException\u001b[0m\u001b[0;34m:\u001b[0m\u001b[0;34m\u001b[0m\u001b[0;34m\u001b[0m\u001b[0m\n\u001b[1;32m    201\u001b[0m             \u001b[0;32mpass\u001b[0m\u001b[0;34m\u001b[0m\u001b[0;34m\u001b[0m\u001b[0m\n",
      "\u001b[0;32m<string>\u001b[0m in \u001b[0;36mconstruct\u001b[0;34m(self)\u001b[0m\n",
      "\u001b[0;32m<string>\u001b[0m in \u001b[0;36mconstruct_to_matrix_notation\u001b[0;34m(self)\u001b[0m\n",
      "\u001b[0;32m<string>\u001b[0m in \u001b[0;36meq1\u001b[0;34m(self)\u001b[0m\n",
      "\u001b[0;32m/opt/conda/lib/python3.8/site-packages/manim/mobject/svg/tex_mobject.py\u001b[0m in \u001b[0;36m__init__\u001b[0;34m(self, arg_separator, tex_environment, *tex_strings, **kwargs)\u001b[0m\n\u001b[1;32m    575\u001b[0m         \u001b[0mself\u001b[0m\u001b[0;34m,\u001b[0m \u001b[0;34m*\u001b[0m\u001b[0mtex_strings\u001b[0m\u001b[0;34m,\u001b[0m \u001b[0marg_separator\u001b[0m\u001b[0;34m=\u001b[0m\u001b[0;34m\"\"\u001b[0m\u001b[0;34m,\u001b[0m \u001b[0mtex_environment\u001b[0m\u001b[0;34m=\u001b[0m\u001b[0;34m\"center\"\u001b[0m\u001b[0;34m,\u001b[0m \u001b[0;34m**\u001b[0m\u001b[0mkwargs\u001b[0m\u001b[0;34m\u001b[0m\u001b[0;34m\u001b[0m\u001b[0m\n\u001b[1;32m    576\u001b[0m     ):\n\u001b[0;32m--> 577\u001b[0;31m         MathTex.__init__(\n\u001b[0m\u001b[1;32m    578\u001b[0m             \u001b[0mself\u001b[0m\u001b[0;34m,\u001b[0m\u001b[0;34m\u001b[0m\u001b[0;34m\u001b[0m\u001b[0m\n\u001b[1;32m    579\u001b[0m             \u001b[0;34m*\u001b[0m\u001b[0mtex_strings\u001b[0m\u001b[0;34m,\u001b[0m\u001b[0;34m\u001b[0m\u001b[0;34m\u001b[0m\u001b[0m\n",
      "\u001b[0;32m/opt/conda/lib/python3.8/site-packages/manim/mobject/svg/tex_mobject.py\u001b[0m in \u001b[0;36m__init__\u001b[0;34m(self, arg_separator, substrings_to_isolate, tex_to_color_map, tex_environment, *tex_strings, **kwargs)\u001b[0m\n\u001b[1;32m    446\u001b[0m                     )\n\u001b[1;32m    447\u001b[0m                 )\n\u001b[0;32m--> 448\u001b[0;31m             \u001b[0;32mraise\u001b[0m \u001b[0mcompilation_error\u001b[0m\u001b[0;34m\u001b[0m\u001b[0;34m\u001b[0m\u001b[0m\n\u001b[0m\u001b[1;32m    449\u001b[0m         \u001b[0mself\u001b[0m\u001b[0;34m.\u001b[0m\u001b[0mset_color_by_tex_to_color_map\u001b[0m\u001b[0;34m(\u001b[0m\u001b[0mself\u001b[0m\u001b[0;34m.\u001b[0m\u001b[0mtex_to_color_map\u001b[0m\u001b[0;34m)\u001b[0m\u001b[0;34m\u001b[0m\u001b[0;34m\u001b[0m\u001b[0m\n\u001b[1;32m    450\u001b[0m \u001b[0;34m\u001b[0m\u001b[0m\n",
      "\u001b[0;32m/opt/conda/lib/python3.8/site-packages/manim/mobject/svg/tex_mobject.py\u001b[0m in \u001b[0;36m__init__\u001b[0;34m(self, arg_separator, substrings_to_isolate, tex_to_color_map, tex_environment, *tex_strings, **kwargs)\u001b[0m\n\u001b[1;32m    424\u001b[0m         \u001b[0mself\u001b[0m\u001b[0;34m.\u001b[0m\u001b[0mtex_strings\u001b[0m \u001b[0;34m=\u001b[0m \u001b[0mtex_strings\u001b[0m\u001b[0;34m\u001b[0m\u001b[0;34m\u001b[0m\u001b[0m\n\u001b[1;32m    425\u001b[0m         \u001b[0;32mtry\u001b[0m\u001b[0;34m:\u001b[0m\u001b[0;34m\u001b[0m\u001b[0;34m\u001b[0m\u001b[0m\n\u001b[0;32m--> 426\u001b[0;31m             SingleStringMathTex.__init__(\n\u001b[0m\u001b[1;32m    427\u001b[0m                 \u001b[0mself\u001b[0m\u001b[0;34m,\u001b[0m\u001b[0;34m\u001b[0m\u001b[0;34m\u001b[0m\u001b[0m\n\u001b[1;32m    428\u001b[0m                 \u001b[0mself\u001b[0m\u001b[0;34m.\u001b[0m\u001b[0marg_separator\u001b[0m\u001b[0;34m.\u001b[0m\u001b[0mjoin\u001b[0m\u001b[0;34m(\u001b[0m\u001b[0mtex_strings\u001b[0m\u001b[0;34m)\u001b[0m\u001b[0;34m,\u001b[0m\u001b[0;34m\u001b[0m\u001b[0;34m\u001b[0m\u001b[0m\n",
      "\u001b[0;32m/opt/conda/lib/python3.8/site-packages/manim/mobject/svg/tex_mobject.py\u001b[0m in \u001b[0;36m__init__\u001b[0;34m(self, tex_string, stroke_width, fill_opacity, background_stroke_width, background_stroke_color, should_center, height, organize_left_to_right, tex_environment, tex_template, **kwargs)\u001b[0m\n\u001b[1;32m    257\u001b[0m         \u001b[0;32massert\u001b[0m \u001b[0misinstance\u001b[0m\u001b[0;34m(\u001b[0m\u001b[0mtex_string\u001b[0m\u001b[0;34m,\u001b[0m \u001b[0mstr\u001b[0m\u001b[0;34m)\u001b[0m\u001b[0;34m\u001b[0m\u001b[0;34m\u001b[0m\u001b[0m\n\u001b[1;32m    258\u001b[0m         \u001b[0mself\u001b[0m\u001b[0;34m.\u001b[0m\u001b[0mtex_string\u001b[0m \u001b[0;34m=\u001b[0m \u001b[0mtex_string\u001b[0m\u001b[0;34m\u001b[0m\u001b[0;34m\u001b[0m\u001b[0m\n\u001b[0;32m--> 259\u001b[0;31m         file_name = tex_to_svg_file(\n\u001b[0m\u001b[1;32m    260\u001b[0m             \u001b[0mself\u001b[0m\u001b[0;34m.\u001b[0m\u001b[0mget_modified_expression\u001b[0m\u001b[0;34m(\u001b[0m\u001b[0mtex_string\u001b[0m\u001b[0;34m)\u001b[0m\u001b[0;34m,\u001b[0m\u001b[0;34m\u001b[0m\u001b[0;34m\u001b[0m\u001b[0m\n\u001b[1;32m    261\u001b[0m             \u001b[0menvironment\u001b[0m\u001b[0;34m=\u001b[0m\u001b[0mself\u001b[0m\u001b[0;34m.\u001b[0m\u001b[0mtex_environment\u001b[0m\u001b[0;34m,\u001b[0m\u001b[0;34m\u001b[0m\u001b[0;34m\u001b[0m\u001b[0m\n",
      "\u001b[0;32m/opt/conda/lib/python3.8/site-packages/manim/utils/tex_file_writing.py\u001b[0m in \u001b[0;36mtex_to_svg_file\u001b[0;34m(expression, environment, tex_template)\u001b[0m\n\u001b[1;32m     42\u001b[0m         \u001b[0mtex_template\u001b[0m \u001b[0;34m=\u001b[0m \u001b[0mconfig\u001b[0m\u001b[0;34m[\u001b[0m\u001b[0;34m\"tex_template\"\u001b[0m\u001b[0;34m]\u001b[0m\u001b[0;34m\u001b[0m\u001b[0;34m\u001b[0m\u001b[0m\n\u001b[1;32m     43\u001b[0m     \u001b[0mtex_file\u001b[0m \u001b[0;34m=\u001b[0m \u001b[0mgenerate_tex_file\u001b[0m\u001b[0;34m(\u001b[0m\u001b[0mexpression\u001b[0m\u001b[0;34m,\u001b[0m \u001b[0menvironment\u001b[0m\u001b[0;34m,\u001b[0m \u001b[0mtex_template\u001b[0m\u001b[0;34m)\u001b[0m\u001b[0;34m\u001b[0m\u001b[0;34m\u001b[0m\u001b[0m\n\u001b[0;32m---> 44\u001b[0;31m     dvi_file = compile_tex(\n\u001b[0m\u001b[1;32m     45\u001b[0m         \u001b[0mtex_file\u001b[0m\u001b[0;34m,\u001b[0m \u001b[0mtex_template\u001b[0m\u001b[0;34m.\u001b[0m\u001b[0mtex_compiler\u001b[0m\u001b[0;34m,\u001b[0m \u001b[0mtex_template\u001b[0m\u001b[0;34m.\u001b[0m\u001b[0moutput_format\u001b[0m\u001b[0;34m\u001b[0m\u001b[0;34m\u001b[0m\u001b[0m\n\u001b[1;32m     46\u001b[0m     )\n",
      "\u001b[0;32m/opt/conda/lib/python3.8/site-packages/manim/utils/tex_file_writing.py\u001b[0m in \u001b[0;36mcompile_tex\u001b[0;34m(tex_file, tex_compiler, output_format)\u001b[0m\n\u001b[1;32m    189\u001b[0m                             \u001b[0mlogger\u001b[0m\u001b[0;34m.\u001b[0m\u001b[0merror\u001b[0m\u001b[0;34m(\u001b[0m\u001b[0mline\u001b[0m\u001b[0;34m)\u001b[0m\u001b[0;34m\u001b[0m\u001b[0;34m\u001b[0m\u001b[0m\n\u001b[1;32m    190\u001b[0m \u001b[0;34m\u001b[0m\u001b[0m\n\u001b[0;32m--> 191\u001b[0;31m             raise ValueError(\n\u001b[0m\u001b[1;32m    192\u001b[0m                 \u001b[0;34mf\"{tex_compiler} error converting to\"\u001b[0m\u001b[0;34m\u001b[0m\u001b[0;34m\u001b[0m\u001b[0m\n\u001b[1;32m    193\u001b[0m                 \u001b[0;34mf\" {output_format[1:]}. See log output above or\"\u001b[0m\u001b[0;34m\u001b[0m\u001b[0;34m\u001b[0m\u001b[0m\n",
      "\u001b[0;31mValueError\u001b[0m: latex error converting to dvi. See log output above or the log file: media/Tex/1413b97f288b63f9.log"
     ]
    }
   ],
   "source": [
    "%%manim -qh -r 1280,720 -o combining-columns.mp4 CombiningColumns\n",
    "\n",
    "#%%manim -qh -r 1280,720 -o linear-column-equation.png CombiningColumns\n",
    "\n",
    "manim.config.quality = 'production_quality'\n",
    "manim.config.pixel_width = 1280\n",
    "manim.config.pixel_height = 720\n",
    "manim.config.frame_rate = 60\n",
    "\n",
    "scale = 0.5\n",
    "\n",
    "   \n",
    "class CombiningColumns(manim.MovingCameraScene):\n",
    "    def __init__(self, *args, **kwargs):\n",
    "        super().__init__(*args, **kwargs)\n",
    "        self.vecs = []\n",
    "        self.res = None\n",
    "        self.factors = []\n",
    "        self.equals = None\n",
    "        self.other_text = [] \n",
    "        \n",
    "    def construct(self):\n",
    "        self.construct_to_matrix_notation()\n",
    "        #self.construct_adding_examples()\n",
    "        \n",
    "    def construct_to_matrix_notation(self):\n",
    "        self.camera.frame_center = manim.ORIGIN - np.array([2.1, 0, 0])        \n",
    "        eq1 = self.eq1()\n",
    "        eq2_target = self.eq2()\n",
    "        animations = self.anims(eq1, eq2_target)\n",
    "        self.add(eq1)\n",
    "        #return # return here for img\n",
    "        self.wait(1)\n",
    "        self.play(*animations)\n",
    "        self.add(eq2_target.obj)\n",
    "        self.remove(*self.other_text)\n",
    "        self.wait(1)\n",
    "        \n",
    "    def construct_adding_examples(self):\n",
    "        self.camera.frame_center = manim.ORIGIN - np.array([-3.5, 0, 0]) \n",
    "        self.camera.frame.scale(1.3)\n",
    "        self.eq1()\n",
    "        eq2 = self.eq2()\n",
    "        self.add(eq2.obj)\n",
    "        self.wait(1)\n",
    "        def create_num_col(v):\n",
    "            return manim.Group(*(manim.Integer(i, color=font_color) for i in v)).arrange(direction=-manim.Y_AXIS)\n",
    "\n",
    "        fs = [eq2.m['F']]\n",
    "        ys = [eq2.m['Y']]\n",
    "        # Without partials, it's easy to accidentally not capture a copy of a variable in a lambda.\n",
    "        import functools\n",
    "        def update_y(prev_y, y):\n",
    "            y.next_to(prev_y)\n",
    "            \n",
    "        ys[0].add_updater(lambda o : o.next_to(eq2.m['lb3']))        \n",
    "        for i in range(1, len(mixes)):          \n",
    "            ys.append(copy.deepcopy(ys[i-1]).next_to(ys[i-1]).set_fill(result_colors[i]))\n",
    "            fs.append(create_num_col(mixes[i]).next_to(fs[i-1]))\n",
    "            ys[i].add_updater(functools.partial(update_y, ys[i-1]))\n",
    "        eq2.m['='].add_updater(lambda o : o.next_to(eq2.m['rb2']))\n",
    "        eq2.m['lb3'].add_updater(lambda o : o.next_to(eq2.m['=']))\n",
    "        current = 0\n",
    "        #eq2.m['rb3'].add_updater(lambda o : o.next_to(ys[current]))\n",
    "        for i in range(1, len(mixes)):\n",
    "            anims = []\n",
    "            # I can't get next_to to work for rb3. So use hacky shift instead.\n",
    "            #self.play(eq2.m['rb3'].animate.next_to(ys[i]))            \n",
    "            self.play(eq2.m['rb2'].animate.next_to(fs[i]),\n",
    "                      eq2.m['rb3'].animate.shift([2.4*scale, 0, 0]))\n",
    "            current = i\n",
    "            anims.append(manim.FadeIn(fs[i]))\n",
    "            anims.append(manim.FadeIn(ys[i]))\n",
    "            self.play(*anims)\n",
    "            self.wait(0.5)\n",
    "        self.wait(1)\n",
    "        \n",
    "        # Part 2.\n",
    "        to_nums_anim = []\n",
    "        to_blocks_anim = []\n",
    "        y = mixes @ X_in\n",
    "        block_num_pairs = list(zip([eq2.m['X0'], eq2.m['X1'], eq2.m['X2']], X_in)) + list(zip(ys, y))\n",
    "        for c,nums in block_num_pairs:\n",
    "            for block, n in zip(reversed(c), nums):\n",
    "                manim_int = manim.Integer(n, color=font_color).move_to(block)\n",
    "                to_nums_anim.append(manim.FadeIn(manim_int))\n",
    "                to_nums_anim.append(manim.FadeOut(block))\n",
    "                to_blocks_anim.append(manim.FadeOut(manim_int))\n",
    "                to_blocks_anim.append(manim.FadeIn(block))\n",
    "        self.play(*to_nums_anim)      \n",
    "        self.wait(1.3)\n",
    "        self.play(*to_blocks_anim)\n",
    "        self.wait(1.3)\n",
    "        self.play(*to_nums_anim)\n",
    "        self.wait(1.3)\n",
    "        self.play(*to_blocks_anim)\n",
    "        self.wait(1)\n",
    "    \n",
    "    def eq2(self):\n",
    "        lb = manim.MathTex(r'\\big[', color=font_color).scale(2).stretch_to_fit_height(self.vecs[0].height + 0.2)\n",
    "        rb = manim.MathTex(r'\\big]', color=font_color).scale(2).stretch_to_fit_height(lb.height)\n",
    "        eq2_map = TargetObject(OrderedDict({\n",
    "                    #manim.IntegerMatrix([[mix[0]], [mix[1]], [mix[2]]]).set_color(font_color),\n",
    "                    'lb1' : lb.copy(),\n",
    "                    'X0'  : copy.deepcopy(self.vecs[0]),\n",
    "                    'X1'  : self.vecs[1].copy(),\n",
    "                    'X2'  : self.vecs[2].copy(),\n",
    "                    'rb1' : rb.copy(),\n",
    "                    'lb2' : lb.copy(),\n",
    "                    'F'   : manim.Group(*(manim.Integer(i, color=font_color) for i in mix)).arrange(direction=-manim.Y_AXIS),\n",
    "                    'rb2' : rb.copy(),             \n",
    "                    '='   : manim.MathTex('=', color=font_color),\n",
    "                    'lb3' : lb.copy(),\n",
    "                    'Y'   : self.res.copy(),\n",
    "                    'rb3' : rb.copy()}),\n",
    "                    draw_exclude={'F', 'X0', 'X1', 'X2', 'Y', '='})\n",
    "        eq2_map.obj.arrange(direction=manim.X_AXIS)\n",
    "        # Maintain position of equals sign.\n",
    "        equality_sign_disp = eq2_map.m['='].get_center() - self.equals.get_center()\n",
    "        eq2_map.obj.shift(-equality_sign_disp)\n",
    "        return eq2_map\n",
    "        \n",
    "        \n",
    "    def anims(self, eq1, eq2_map):\n",
    "        replacements = (\n",
    "            (self.vecs[0],    eq2_map.m['X0']),\n",
    "            (self.vecs[1],    eq2_map.m['X1']),      \n",
    "            (self.vecs[2],    eq2_map.m['X2']), \n",
    "            (self.res,        eq2_map.m['Y']),\n",
    "            (self.factors[0], eq2_map.m['F'][0]),\n",
    "            (self.factors[1], eq2_map.m['F'][1]),\n",
    "            (self.factors[2], eq2_map.m['F'][2]),\n",
    "            (self.equals,     eq2_map.m['='])\n",
    "        )\n",
    "        animations = [*(manim.ReplacementTransform(a, b) for a,b in replacements),\n",
    "                      *(manim.FadeIn(o) for o in eq2_map.elements_to_draw()),\n",
    "                     #manim.FadeIn(eq2_map.obj),\n",
    "                      *(manim.FadeOut(o) for o in self.other_text)]\n",
    "        return animations\n",
    "       \n",
    "    \n",
    "    def eq1(self):\n",
    "        eq = manim.Mobject()\n",
    "        spacing = 4.3 * scale\n",
    "        offsets = np.array([1, 0.3, 0.3, 0.5, 1.15]) * scale\n",
    "        \n",
    "        for i in range(len(mix)):\n",
    "            vec = create_2d_vec(num_input_boxes, manim.Y_AXIS, colors[i])\n",
    "            vec_pos = spacing * (-len(mix) + i) + offsets[0]\n",
    "            vec.move_to([vec_pos, 0, 0])\n",
    "            mult = manim.Tex('$\\\\times$', color=font_color)\n",
    "            mult.next_to(vec, buff=offsets[1])\n",
    "            factor = manim.Tex(f'${mix[i]}$', color=font_color)\n",
    "            factor.next_to(mult, buff=offsets[2])\n",
    "            if(i < len(mix) - 1):\n",
    "                plus = manim.Tex('$+$', color=font_color)\n",
    "                plus.next_to(factor, buff=offsets[3])\n",
    "            self.vecs.append(vec)\n",
    "            self.factors.append(factor)\n",
    "            self.other_text.extend([mult, plus])\n",
    "            eq.add(vec, factor, mult, plus)\n",
    "        self.equals = manim.Tex('=', color=font_color)\n",
    "        self.equals.move_to([0, 0, 0])\n",
    "        self.res = create_2d_vec(num_input_boxes, manim.Y_AXIS, result_color)\n",
    "        self.res.next_to(self.equals, buff=offsets[4])\n",
    "        eq.add(self.equals, self.res)\n",
    "        eq.add(self.equals)\n",
    "        return eq"
   ]
  },
  {
   "cell_type": "code",
   "execution_count": 10,
   "id": "0147b351-b56c-45a1-8d9e-138dd45dac7c",
   "metadata": {},
   "outputs": [
    {
     "ename": "NameError",
     "evalue": "name 'create_2d_vec' is not defined",
     "output_type": "error",
     "traceback": [
      "\u001b[0;31m---------------------------------------------------------------------------\u001b[0m",
      "\u001b[0;31mNameError\u001b[0m                                 Traceback (most recent call last)",
      "\u001b[0;32m<ipython-input-10-6db2cbb91743>\u001b[0m in \u001b[0;36m<module>\u001b[0;34m\u001b[0m\n\u001b[0;32m----> 1\u001b[0;31m \u001b[0mget_ipython\u001b[0m\u001b[0;34m(\u001b[0m\u001b[0;34m)\u001b[0m\u001b[0;34m.\u001b[0m\u001b[0mrun_cell_magic\u001b[0m\u001b[0;34m(\u001b[0m\u001b[0;34m'manim'\u001b[0m\u001b[0;34m,\u001b[0m \u001b[0;34m'-qh -r 1280,720 -o combining-columns-extension.mp4 TransitionToNumbers'\u001b[0m\u001b[0;34m,\u001b[0m \u001b[0;34m'\\nclass TransitionToNumbers(CombiningColumns):\\n    def construct(self):\\n        super().construct_adding_examples()\\n'\u001b[0m\u001b[0;34m)\u001b[0m\u001b[0;34m\u001b[0m\u001b[0;34m\u001b[0m\u001b[0m\n\u001b[0m",
      "\u001b[0;32m/opt/conda/lib/python3.8/site-packages/IPython/core/interactiveshell.py\u001b[0m in \u001b[0;36mrun_cell_magic\u001b[0;34m(self, magic_name, line, cell)\u001b[0m\n\u001b[1;32m   2397\u001b[0m             \u001b[0;32mwith\u001b[0m \u001b[0mself\u001b[0m\u001b[0;34m.\u001b[0m\u001b[0mbuiltin_trap\u001b[0m\u001b[0;34m:\u001b[0m\u001b[0;34m\u001b[0m\u001b[0;34m\u001b[0m\u001b[0m\n\u001b[1;32m   2398\u001b[0m                 \u001b[0margs\u001b[0m \u001b[0;34m=\u001b[0m \u001b[0;34m(\u001b[0m\u001b[0mmagic_arg_s\u001b[0m\u001b[0;34m,\u001b[0m \u001b[0mcell\u001b[0m\u001b[0;34m)\u001b[0m\u001b[0;34m\u001b[0m\u001b[0;34m\u001b[0m\u001b[0m\n\u001b[0;32m-> 2399\u001b[0;31m                 \u001b[0mresult\u001b[0m \u001b[0;34m=\u001b[0m \u001b[0mfn\u001b[0m\u001b[0;34m(\u001b[0m\u001b[0;34m*\u001b[0m\u001b[0margs\u001b[0m\u001b[0;34m,\u001b[0m \u001b[0;34m**\u001b[0m\u001b[0mkwargs\u001b[0m\u001b[0;34m)\u001b[0m\u001b[0;34m\u001b[0m\u001b[0;34m\u001b[0m\u001b[0m\n\u001b[0m\u001b[1;32m   2400\u001b[0m             \u001b[0;32mreturn\u001b[0m \u001b[0mresult\u001b[0m\u001b[0;34m\u001b[0m\u001b[0;34m\u001b[0m\u001b[0m\n\u001b[1;32m   2401\u001b[0m \u001b[0;34m\u001b[0m\u001b[0m\n",
      "\u001b[0;32m<decorator-gen-863>\u001b[0m in \u001b[0;36mmanim\u001b[0;34m(self, line, cell, local_ns)\u001b[0m\n",
      "\u001b[0;32m/opt/conda/lib/python3.8/site-packages/IPython/core/magic.py\u001b[0m in \u001b[0;36m<lambda>\u001b[0;34m(f, *a, **k)\u001b[0m\n\u001b[1;32m    185\u001b[0m     \u001b[0;31m# but it's overkill for just that one bit of state.\u001b[0m\u001b[0;34m\u001b[0m\u001b[0;34m\u001b[0m\u001b[0;34m\u001b[0m\u001b[0m\n\u001b[1;32m    186\u001b[0m     \u001b[0;32mdef\u001b[0m \u001b[0mmagic_deco\u001b[0m\u001b[0;34m(\u001b[0m\u001b[0marg\u001b[0m\u001b[0;34m)\u001b[0m\u001b[0;34m:\u001b[0m\u001b[0;34m\u001b[0m\u001b[0;34m\u001b[0m\u001b[0m\n\u001b[0;32m--> 187\u001b[0;31m         \u001b[0mcall\u001b[0m \u001b[0;34m=\u001b[0m \u001b[0;32mlambda\u001b[0m \u001b[0mf\u001b[0m\u001b[0;34m,\u001b[0m \u001b[0;34m*\u001b[0m\u001b[0ma\u001b[0m\u001b[0;34m,\u001b[0m \u001b[0;34m**\u001b[0m\u001b[0mk\u001b[0m\u001b[0;34m:\u001b[0m \u001b[0mf\u001b[0m\u001b[0;34m(\u001b[0m\u001b[0;34m*\u001b[0m\u001b[0ma\u001b[0m\u001b[0;34m,\u001b[0m \u001b[0;34m**\u001b[0m\u001b[0mk\u001b[0m\u001b[0;34m)\u001b[0m\u001b[0;34m\u001b[0m\u001b[0;34m\u001b[0m\u001b[0m\n\u001b[0m\u001b[1;32m    188\u001b[0m \u001b[0;34m\u001b[0m\u001b[0m\n\u001b[1;32m    189\u001b[0m         \u001b[0;32mif\u001b[0m \u001b[0mcallable\u001b[0m\u001b[0;34m(\u001b[0m\u001b[0marg\u001b[0m\u001b[0;34m)\u001b[0m\u001b[0;34m:\u001b[0m\u001b[0;34m\u001b[0m\u001b[0;34m\u001b[0m\u001b[0m\n",
      "\u001b[0;32m/opt/conda/lib/python3.8/site-packages/manim/utils/ipython_magic.py\u001b[0m in \u001b[0;36mmanim\u001b[0;34m(self, line, cell, local_ns)\u001b[0m\n\u001b[1;32m    107\u001b[0m             \u001b[0;32mwith\u001b[0m \u001b[0mtempconfig\u001b[0m\u001b[0;34m(\u001b[0m\u001b[0mlocal_ns\u001b[0m\u001b[0;34m.\u001b[0m\u001b[0mget\u001b[0m\u001b[0;34m(\u001b[0m\u001b[0;34m\"config\"\u001b[0m\u001b[0;34m,\u001b[0m \u001b[0;34m{\u001b[0m\u001b[0;34m}\u001b[0m\u001b[0;34m)\u001b[0m\u001b[0;34m)\u001b[0m\u001b[0;34m:\u001b[0m\u001b[0;34m\u001b[0m\u001b[0;34m\u001b[0m\u001b[0m\n\u001b[1;32m    108\u001b[0m                 \u001b[0mconfig\u001b[0m\u001b[0;34m.\u001b[0m\u001b[0mdigest_args\u001b[0m\u001b[0;34m(\u001b[0m\u001b[0margs\u001b[0m\u001b[0;34m)\u001b[0m\u001b[0;34m\u001b[0m\u001b[0;34m\u001b[0m\u001b[0m\n\u001b[0;32m--> 109\u001b[0;31m                 \u001b[0mexec\u001b[0m\u001b[0;34m(\u001b[0m\u001b[0;34mf\"{config['scene_names'][0]}().render()\"\u001b[0m\u001b[0;34m,\u001b[0m \u001b[0mlocal_ns\u001b[0m\u001b[0;34m)\u001b[0m\u001b[0;34m\u001b[0m\u001b[0;34m\u001b[0m\u001b[0m\n\u001b[0m\u001b[1;32m    110\u001b[0m                 \u001b[0mlocal_path\u001b[0m \u001b[0;34m=\u001b[0m \u001b[0mPath\u001b[0m\u001b[0;34m(\u001b[0m\u001b[0mconfig\u001b[0m\u001b[0;34m[\u001b[0m\u001b[0;34m\"output_file\"\u001b[0m\u001b[0;34m]\u001b[0m\u001b[0;34m)\u001b[0m\u001b[0;34m.\u001b[0m\u001b[0mrelative_to\u001b[0m\u001b[0;34m(\u001b[0m\u001b[0mPath\u001b[0m\u001b[0;34m.\u001b[0m\u001b[0mcwd\u001b[0m\u001b[0;34m(\u001b[0m\u001b[0;34m)\u001b[0m\u001b[0;34m)\u001b[0m\u001b[0;34m\u001b[0m\u001b[0;34m\u001b[0m\u001b[0m\n\u001b[1;32m    111\u001b[0m                 tmpfile = (\n",
      "\u001b[0;32m<string>\u001b[0m in \u001b[0;36m<module>\u001b[0;34m\u001b[0m\n",
      "\u001b[0;32m/opt/conda/lib/python3.8/site-packages/manim/scene/scene.py\u001b[0m in \u001b[0;36mrender\u001b[0;34m(self, preview)\u001b[0m\n\u001b[1;32m    197\u001b[0m         \u001b[0mself\u001b[0m\u001b[0;34m.\u001b[0m\u001b[0msetup\u001b[0m\u001b[0;34m(\u001b[0m\u001b[0;34m)\u001b[0m\u001b[0;34m\u001b[0m\u001b[0;34m\u001b[0m\u001b[0m\n\u001b[1;32m    198\u001b[0m         \u001b[0;32mtry\u001b[0m\u001b[0;34m:\u001b[0m\u001b[0;34m\u001b[0m\u001b[0;34m\u001b[0m\u001b[0m\n\u001b[0;32m--> 199\u001b[0;31m             \u001b[0mself\u001b[0m\u001b[0;34m.\u001b[0m\u001b[0mconstruct\u001b[0m\u001b[0;34m(\u001b[0m\u001b[0;34m)\u001b[0m\u001b[0;34m\u001b[0m\u001b[0;34m\u001b[0m\u001b[0m\n\u001b[0m\u001b[1;32m    200\u001b[0m         \u001b[0;32mexcept\u001b[0m \u001b[0mEndSceneEarlyException\u001b[0m\u001b[0;34m:\u001b[0m\u001b[0;34m\u001b[0m\u001b[0;34m\u001b[0m\u001b[0m\n\u001b[1;32m    201\u001b[0m             \u001b[0;32mpass\u001b[0m\u001b[0;34m\u001b[0m\u001b[0;34m\u001b[0m\u001b[0m\n",
      "\u001b[0;32m<string>\u001b[0m in \u001b[0;36mconstruct\u001b[0;34m(self)\u001b[0m\n",
      "\u001b[0;32m<string>\u001b[0m in \u001b[0;36mconstruct_adding_examples\u001b[0;34m(self)\u001b[0m\n",
      "\u001b[0;32m<string>\u001b[0m in \u001b[0;36meq1\u001b[0;34m(self)\u001b[0m\n",
      "\u001b[0;31mNameError\u001b[0m: name 'create_2d_vec' is not defined"
     ]
    }
   ],
   "source": [
    "%%manim -qh -r 1280,720 -o combining-columns-extension.mp4 TransitionToNumbers\n",
    "\n",
    "class TransitionToNumbers(CombiningColumns):\n",
    "    def construct(self):\n",
    "        super().construct_adding_examples()"
   ]
  },
  {
   "cell_type": "code",
   "execution_count": 17,
   "id": "f6d61071-326c-4d2d-a7a2-30c021663a48",
   "metadata": {},
   "outputs": [
    {
     "data": {
      "text/html": [
       "<pre style=\"white-space:pre;overflow-x:auto;line-height:normal;font-family:Menlo,'DejaVu Sans Mono',consolas,'Courier New',monospace\"><span style=\"color: #7fbfbf\">[05/29/21 08:42:15] </span><span style=\"color: #008000\">INFO</span>     <span style=\"color: #808000; font-weight: bold\">Writing</span> <span style=\"color: #008000\">\"\\big[\"</span> to                        <a href=\"file:///opt/conda/lib/python3.8/site-packages/manim/utils/tex_file_writing.py\"><span style=\"color: #7f7f7f\">tex_file_writing.py</span></a><span style=\"color: #7f7f7f\">:81</span>\n",
       "                             media/Tex/3b9613821610fd57.tex                                  \n",
       "</pre>\n"
      ],
      "text/plain": [
       "<rich.jupyter.JupyterRenderable at 0x7f0d6b41fc40>"
      ]
     },
     "metadata": {},
     "output_type": "display_data"
    },
    {
     "data": {
      "text/html": [
       "<pre style=\"white-space:pre;overflow-x:auto;line-height:normal;font-family:Menlo,'DejaVu Sans Mono',consolas,'Courier New',monospace\"><span style=\"color: #7fbfbf\">                    </span><span style=\"color: #800000; font-weight: bold\">ERROR</span>    LaTeX compilation error! latex reports:  <a href=\"file:///opt/conda/lib/python3.8/site-packages/manim/utils/tex_file_writing.py\"><span style=\"color: #7f7f7f\">tex_file_writing.py</span></a><span style=\"color: #7f7f7f\">:178</span>\n",
       "</pre>\n"
      ],
      "text/plain": [
       "<rich.jupyter.JupyterRenderable at 0x7f0d6b41fc70>"
      ]
     },
     "metadata": {},
     "output_type": "display_data"
    },
    {
     "data": {
      "text/html": [
       "<pre style=\"white-space:pre;overflow-x:auto;line-height:normal;font-family:Menlo,'DejaVu Sans Mono',consolas,'Courier New',monospace\"><span style=\"color: #7fbfbf\">                    </span><span style=\"color: #800000; font-weight: bold\">ERROR</span>    ! LaTeX Error: <span style=\"color: #808000; font-weight: bold\">File</span> `lmodern.sty' not    <a href=\"file:///opt/conda/lib/python3.8/site-packages/manim/utils/tex_file_writing.py\"><span style=\"color: #7f7f7f\">tex_file_writing.py</span></a><span style=\"color: #7f7f7f\">:189</span>\n",
       "                             found.                                                          \n",
       "                                                                                             \n",
       "</pre>\n"
      ],
      "text/plain": [
       "<rich.jupyter.JupyterRenderable at 0x7f0d6b41f1c0>"
      ]
     },
     "metadata": {},
     "output_type": "display_data"
    },
    {
     "data": {
      "text/html": [
       "<pre style=\"white-space:pre;overflow-x:auto;line-height:normal;font-family:Menlo,'DejaVu Sans Mono',consolas,'Courier New',monospace\"><span style=\"color: #7fbfbf\">                    </span><span style=\"color: #800000; font-weight: bold\">ERROR</span>                                             <a href=\"file:///opt/conda/lib/python3.8/site-packages/manim/utils/tex_file_writing.py\"><span style=\"color: #7f7f7f\">tex_file_writing.py</span></a><span style=\"color: #7f7f7f\">:189</span>\n",
       "                                                                                             \n",
       "</pre>\n"
      ],
      "text/plain": [
       "<rich.jupyter.JupyterRenderable at 0x7f0d6b41f040>"
      ]
     },
     "metadata": {},
     "output_type": "display_data"
    },
    {
     "data": {
      "text/html": [
       "<pre style=\"white-space:pre;overflow-x:auto;line-height:normal;font-family:Menlo,'DejaVu Sans Mono',consolas,'Courier New',monospace\"><span style=\"color: #7fbfbf\">                    </span><span style=\"color: #800000; font-weight: bold\">ERROR</span>    Type X to quit or <span style=\"font-weight: bold\">&lt;</span><span style=\"color: #ff00ff; font-weight: bold\">RETURN</span><span style=\"font-weight: bold\">&gt;</span> to proceed,   <a href=\"file:///opt/conda/lib/python3.8/site-packages/manim/utils/tex_file_writing.py\"><span style=\"color: #7f7f7f\">tex_file_writing.py</span></a><span style=\"color: #7f7f7f\">:189</span>\n",
       "                                                                                             \n",
       "</pre>\n"
      ],
      "text/plain": [
       "<rich.jupyter.JupyterRenderable at 0x7f0d6b41fc40>"
      ]
     },
     "metadata": {},
     "output_type": "display_data"
    },
    {
     "data": {
      "text/html": [
       "<pre style=\"white-space:pre;overflow-x:auto;line-height:normal;font-family:Menlo,'DejaVu Sans Mono',consolas,'Courier New',monospace\"><span style=\"color: #7fbfbf\">                    </span><span style=\"color: #800000; font-weight: bold\">ERROR</span>    or enter new name. <span style=\"font-weight: bold\">(</span>Default extension:   <a href=\"file:///opt/conda/lib/python3.8/site-packages/manim/utils/tex_file_writing.py\"><span style=\"color: #7f7f7f\">tex_file_writing.py</span></a><span style=\"color: #7f7f7f\">:189</span>\n",
       "                             sty<span style=\"font-weight: bold\">)</span>                                                            \n",
       "                                                                                             \n",
       "</pre>\n"
      ],
      "text/plain": [
       "<rich.jupyter.JupyterRenderable at 0x7f0d6b41f100>"
      ]
     },
     "metadata": {},
     "output_type": "display_data"
    },
    {
     "data": {
      "text/html": [
       "<pre style=\"white-space:pre;overflow-x:auto;line-height:normal;font-family:Menlo,'DejaVu Sans Mono',consolas,'Courier New',monospace\"><span style=\"color: #7fbfbf\">                    </span><span style=\"color: #800000; font-weight: bold\">ERROR</span>                                             <a href=\"file:///opt/conda/lib/python3.8/site-packages/manim/utils/tex_file_writing.py\"><span style=\"color: #7f7f7f\">tex_file_writing.py</span></a><span style=\"color: #7f7f7f\">:189</span>\n",
       "                                                                                             \n",
       "</pre>\n"
      ],
      "text/plain": [
       "<rich.jupyter.JupyterRenderable at 0x7f0d6b41f2e0>"
      ]
     },
     "metadata": {},
     "output_type": "display_data"
    },
    {
     "data": {
      "text/html": [
       "<pre style=\"white-space:pre;overflow-x:auto;line-height:normal;font-family:Menlo,'DejaVu Sans Mono',consolas,'Courier New',monospace\"><span style=\"color: #7fbfbf\">                    </span><span style=\"color: #800000; font-weight: bold\">ERROR</span>    Enter file name:                         <a href=\"file:///opt/conda/lib/python3.8/site-packages/manim/utils/tex_file_writing.py\"><span style=\"color: #7f7f7f\">tex_file_writing.py</span></a><span style=\"color: #7f7f7f\">:189</span>\n",
       "                                                                                             \n",
       "</pre>\n"
      ],
      "text/plain": [
       "<rich.jupyter.JupyterRenderable at 0x7f0d6b41f040>"
      ]
     },
     "metadata": {},
     "output_type": "display_data"
    },
    {
     "data": {
      "text/html": [
       "<pre style=\"white-space:pre;overflow-x:auto;line-height:normal;font-family:Menlo,'DejaVu Sans Mono',consolas,'Courier New',monospace\"><span style=\"color: #7fbfbf\">                    </span><span style=\"color: #800000; font-weight: bold\">ERROR</span>    ! Emergency stop.                        <a href=\"file:///opt/conda/lib/python3.8/site-packages/manim/utils/tex_file_writing.py\"><span style=\"color: #7f7f7f\">tex_file_writing.py</span></a><span style=\"color: #7f7f7f\">:189</span>\n",
       "                                                                                             \n",
       "</pre>\n"
      ],
      "text/plain": [
       "<rich.jupyter.JupyterRenderable at 0x7f0d6b41fe80>"
      ]
     },
     "metadata": {},
     "output_type": "display_data"
    },
    {
     "data": {
      "text/html": [
       "<pre style=\"white-space:pre;overflow-x:auto;line-height:normal;font-family:Menlo,'DejaVu Sans Mono',consolas,'Courier New',monospace\"><span style=\"color: #7fbfbf\">                    </span><span style=\"color: #800000; font-weight: bold\">ERROR</span>    <span style=\"font-weight: bold\">&lt;</span><span style=\"color: #ff00ff; font-weight: bold\">read</span><span style=\"color: #000000\"> *</span><span style=\"font-weight: bold\">&gt;</span>                                 <a href=\"file:///opt/conda/lib/python3.8/site-packages/manim/utils/tex_file_writing.py\"><span style=\"color: #7f7f7f\">tex_file_writing.py</span></a><span style=\"color: #7f7f7f\">:189</span>\n",
       "                                                                                             \n",
       "</pre>\n"
      ],
      "text/plain": [
       "<rich.jupyter.JupyterRenderable at 0x7f0d6b41fd00>"
      ]
     },
     "metadata": {},
     "output_type": "display_data"
    },
    {
     "data": {
      "text/html": [
       "<pre style=\"white-space:pre;overflow-x:auto;line-height:normal;font-family:Menlo,'DejaVu Sans Mono',consolas,'Courier New',monospace\"><span style=\"color: #7fbfbf\">                    </span><span style=\"color: #800000; font-weight: bold\">ERROR</span>                                             <a href=\"file:///opt/conda/lib/python3.8/site-packages/manim/utils/tex_file_writing.py\"><span style=\"color: #7f7f7f\">tex_file_writing.py</span></a><span style=\"color: #7f7f7f\">:189</span>\n",
       "                                                                                             \n",
       "</pre>\n"
      ],
      "text/plain": [
       "<rich.jupyter.JupyterRenderable at 0x7f0d6b41fdc0>"
      ]
     },
     "metadata": {},
     "output_type": "display_data"
    },
    {
     "data": {
      "text/html": [
       "<pre style=\"white-space:pre;overflow-x:auto;line-height:normal;font-family:Menlo,'DejaVu Sans Mono',consolas,'Courier New',monospace\"><span style=\"color: #7fbfbf\">                    </span><span style=\"color: #800000; font-weight: bold\">ERROR</span>    l.<span style=\"color: #008000\">7</span> \\usepackage                          <a href=\"file:///opt/conda/lib/python3.8/site-packages/manim/utils/tex_file_writing.py\"><span style=\"color: #7f7f7f\">tex_file_writing.py</span></a><span style=\"color: #7f7f7f\">:189</span>\n",
       "                                                                                             \n",
       "</pre>\n"
      ],
      "text/plain": [
       "<rich.jupyter.JupyterRenderable at 0x7f0d6b41f220>"
      ]
     },
     "metadata": {},
     "output_type": "display_data"
    },
    {
     "data": {
      "text/html": [
       "<pre style=\"white-space:pre;overflow-x:auto;line-height:normal;font-family:Menlo,'DejaVu Sans Mono',consolas,'Courier New',monospace\"><span style=\"color: #7fbfbf\">                    </span><span style=\"color: #800000; font-weight: bold\">ERROR</span>    ! Emergency stop.                        <a href=\"file:///opt/conda/lib/python3.8/site-packages/manim/utils/tex_file_writing.py\"><span style=\"color: #7f7f7f\">tex_file_writing.py</span></a><span style=\"color: #7f7f7f\">:189</span>\n",
       "                                                                                             \n",
       "</pre>\n"
      ],
      "text/plain": [
       "<rich.jupyter.JupyterRenderable at 0x7f0d6b41f250>"
      ]
     },
     "metadata": {},
     "output_type": "display_data"
    },
    {
     "data": {
      "text/html": [
       "<pre style=\"white-space:pre;overflow-x:auto;line-height:normal;font-family:Menlo,'DejaVu Sans Mono',consolas,'Courier New',monospace\"><span style=\"color: #7fbfbf\">                    </span><span style=\"color: #800000; font-weight: bold\">ERROR</span>    <span style=\"font-weight: bold\">&lt;</span><span style=\"color: #ff00ff; font-weight: bold\">read</span><span style=\"color: #000000\"> *</span><span style=\"font-weight: bold\">&gt;</span>                                 <a href=\"file:///opt/conda/lib/python3.8/site-packages/manim/utils/tex_file_writing.py\"><span style=\"color: #7f7f7f\">tex_file_writing.py</span></a><span style=\"color: #7f7f7f\">:189</span>\n",
       "                                                                                             \n",
       "</pre>\n"
      ],
      "text/plain": [
       "<rich.jupyter.JupyterRenderable at 0x7f0d6b41fa90>"
      ]
     },
     "metadata": {},
     "output_type": "display_data"
    },
    {
     "data": {
      "text/html": [
       "<pre style=\"white-space:pre;overflow-x:auto;line-height:normal;font-family:Menlo,'DejaVu Sans Mono',consolas,'Courier New',monospace\"><span style=\"color: #7fbfbf\">                    </span><span style=\"color: #800000; font-weight: bold\">ERROR</span>                                             <a href=\"file:///opt/conda/lib/python3.8/site-packages/manim/utils/tex_file_writing.py\"><span style=\"color: #7f7f7f\">tex_file_writing.py</span></a><span style=\"color: #7f7f7f\">:189</span>\n",
       "                                                                                             \n",
       "</pre>\n"
      ],
      "text/plain": [
       "<rich.jupyter.JupyterRenderable at 0x7f0d6b41f280>"
      ]
     },
     "metadata": {},
     "output_type": "display_data"
    },
    {
     "data": {
      "text/html": [
       "<pre style=\"white-space:pre;overflow-x:auto;line-height:normal;font-family:Menlo,'DejaVu Sans Mono',consolas,'Courier New',monospace\"><span style=\"color: #7fbfbf\">                    </span><span style=\"color: #800000; font-weight: bold\">ERROR</span>    l.<span style=\"color: #008000\">7</span> \\usepackage                          <a href=\"file:///opt/conda/lib/python3.8/site-packages/manim/utils/tex_file_writing.py\"><span style=\"color: #7f7f7f\">tex_file_writing.py</span></a><span style=\"color: #7f7f7f\">:189</span>\n",
       "                                                                                             \n",
       "</pre>\n"
      ],
      "text/plain": [
       "<rich.jupyter.JupyterRenderable at 0x7f0d6b41fd60>"
      ]
     },
     "metadata": {},
     "output_type": "display_data"
    },
    {
     "ename": "ValueError",
     "evalue": "latex error converting to dvi. See log output above or the log file: media/Tex/3b9613821610fd57.log",
     "output_type": "error",
     "traceback": [
      "\u001b[0;31m---------------------------------------------------------------------------\u001b[0m",
      "\u001b[0;31mValueError\u001b[0m                                Traceback (most recent call last)",
      "\u001b[0;32m<ipython-input-17-5a24e07fb4ad>\u001b[0m in \u001b[0;36m<module>\u001b[0;34m\u001b[0m\n\u001b[0;32m----> 1\u001b[0;31m \u001b[0mget_ipython\u001b[0m\u001b[0;34m(\u001b[0m\u001b[0;34m)\u001b[0m\u001b[0;34m.\u001b[0m\u001b[0mrun_cell_magic\u001b[0m\u001b[0;34m(\u001b[0m\u001b[0;34m'manim'\u001b[0m\u001b[0;34m,\u001b[0m \u001b[0;34m'-qh -r 1280,720 -o rows-combine-rows.mp4 RowsCombineRows'\u001b[0m\u001b[0;34m,\u001b[0m \u001b[0;34m\"\\n\\ndef create_bracket(length=4.0, side_length=0.14, open_dir=manim.RIGHT):\\n    obj = manim.VMobject(stroke_color=font_color)\\n    obj.set_points_as_corners([np.array(p) for p in ((0, 0, 0), (side_length, 0, 0), (side_length, length, 0), (0,length, 0))])\\n    if np.array_equal(open_dir, manim.LEFT):\\n        pass\\n    elif np.array_equal(open_dir, manim.RIGHT):\\n        obj.flip(manim.Y_AXIS)\\n    elif np.array_equal(open_dir, manim.UP):\\n        obj.rotate_about_origin(manim.DEGREES*90)\\n    elif np.array_equal(open_dir == manim.DOWN):\\n        obj.flip(manim.Y_AXIS)\\n        obj.rotate_about_origin(manim.DEGREES*90)\\n    else:\\n        raise Exception(f'Unexpected direction: {open_dir}')\\n    return obj\\n\\n\\n# Can't seem to get the svg version to work\\ndef create_brace_svg(length=1.0, side_length=0.2, open_dir=manim.RIGHT, stroke_width=0):\\n    path_string_template = f'M0 0L{side_length} 0L{side_length} {length}L{0} {side_length}z'\\n    obj = manim.SVGPathMobject(path_string=path_string_template, \\n                               stroke_width=stroke_width,\\n                               stroke_color=font_color,\\n                               sharpness=2).set_color(font_color)\\n    if np.array_equal(open_dir, manim.LEFT):\\n        pass\\n    elif np.array_equal(open_dir, manim.RIGHT):\\n        obj.flip(manim.X_AXIS)\\n    elif np.array_equal(open_dir, manim.UP):\\n        obj.rotate_about_origin(manim.DEGREES*90)\\n    elif np.array_equal(open_dir == manim.DOWN):\\n        obj.flip(manim.X_AXIS)\\n        obj.rotate_about_origin(manim.DEGREES*90)\\n    else:\\n        raise Exception(f'Unexpected direction: {open_dir}')\\n    return obj\\n\\n\\n\\n\\nclass RowsCombineRows(manim.MovingCameraScene):\\n    def __init__(self, *args, **kwargs):\\n        super().__init__(*args, **kwargs)\\n        self.vecs = []\\n        self.res = None\\n        self.factors = []\\n        self.equals = None\\n        self.other_text = [] \\n        \\n    def construct(self):\\n        self.camera.frame_center = manim.ORIGIN + np.array([0.7, -2.5, 0])\\n        self.camera.frame.scale(1.2)        \\n        self.eq_animated()\\n        return\\n\\n        fs = [eq2.m['F']]\\n        ys = [eq2.m['Y']]\\n        # Without partials, it's easy to accidentally not capture a copy of a variable in a lambda.\\n        import functools\\n        def update_y(prev_y, y):\\n            y.next_to(prev_y)\\n            \\n        ys[0].add_updater(lambda o : o.next_to(eq2.m['lb3']))        \\n        for i in range(1, len(mixes)):\\n            ys.append(copy.deepcopy(ys[i-1]).next_to(ys[i-1]))\\n            fs.append(create_num_col(mixes[i]).next_to(fs[i-1]))\\n            ys[i].add_updater(functools.partial(update_y, ys[i-1]))\\n        eq2.m['='].add_updater(lambda o : o.next_to(eq2.m['rb2']))\\n        eq2.m['lb3'].add_updater(lambda o : o.next_to(eq2.m['=']))\\n        current = 0\\n        #eq2.m['rb3'].add_updater(lambda o : o.next_to(ys[current]))\\n        for i in range(1, len(mixes)):\\n            anims = []\\n            # I can't get next_to to work for rb3. So use hacky shift instead.\\n            #self.play(eq2.m['rb3'].animate.next_to(ys[i]))            \\n            self.play(eq2.m['rb2'].animate.next_to(fs[i]),\\n                      eq2.m['rb3'].animate.shift([2.4*scale, 0, 0]))\\n            current = i\\n            anims.append(manim.FadeIn(fs[i]))\\n            anims.append(manim.FadeIn(ys[i]))\\n            self.play(*anims)\\n            self.wait(0.5)\\n        self.wait(1)\\n        \\n        # Part 2.\\n        to_nums_anim = []\\n        to_blocks_anim = []\\n        y = mixes @ X_in\\n        block_num_pairs = list(zip([eq2.m['X0'], eq2.m['X1'], eq2.m['X2']], X_in)) + list(zip(ys, y))\\n        for c,nums in block_num_pairs:\\n            for block, n in zip(reversed(c), nums):\\n                manim_int = manim.Integer(n, color=font_color).move_to(block)\\n                to_nums_anim.append(manim.FadeIn(manim_int))\\n                to_nums_anim.append(manim.FadeOut(block))\\n                to_blocks_anim.append(manim.FadeOut(manim_int))\\n                to_blocks_anim.append(manim.FadeIn(block))\\n        self.play(*to_nums_anim)      \\n        self.wait(1.3)\\n        self.play(*to_blocks_anim)\\n        self.wait(1.3)\\n        self.play(*to_nums_anim)\\n        self.wait(1.3)\\n        self.play(*to_blocks_anim)\\n        self.wait(1)\\n   \\n    def create_num_row(self, v):\\n        return manim.Group(*(manim.Integer(i, color=font_color) for i in v)).arrange(direction=manim.X_AXIS, buff= 0.5)\\n\\n    def eq_animated(self):\\n        xs = manim.Group()\\n        x_vecs = [create_2d_vec(num_input_boxes, manim.X_AXIS, colors[i]) for i in range(len(mix))] \\n        xs.add(*reversed(x_vecs))\\n        xs.arrange(direction=manim.Y_AXIS)        \\n        xs.move_to(manim.ORIGIN)\\n        lb_x = manim.MathTex(r'\\\\big[', color=font_color).scale(3).stretch_to_fit_height(xs.height + 0.4).next_to(xs, manim.LEFT)\\n        rb_x = manim.MathTex(r'\\\\big]', color=font_color).scale(3).stretch_to_fit_height(lb_x.height) .next_to(xs, manim.RIGHT)\\n        lb_x = create_bracket(xs.height + 0.4, open_dir=manim.RIGHT).next_to(xs, manim.LEFT)\\n        rb_x = create_bracket(xs.height + 0.4, open_dir=manim.LEFT).next_to(xs, manim.RIGHT)\\n        equality = manim.MathTex('=', color=font_color).next_to(rb_x, manim.RIGHT)\\n        self.add(xs, lb_x, rb_x, equality)\\n        ys = [create_2d_vec(num_input_boxes, manim.X_AXIS, result_color)]\\n        fs = [self.create_num_row(mixes[0])]\\n        f_buff = np.array([-2, 0, 0])\\n        y_buff = np.array([3, 0, 0])\\n        fs[0].move_to(x_vecs[0].get_critical_point([-1, 0, 0]) + f_buff)\\n        ys[0].move_to(x_vecs[0].get_critical_point([1, 0, 0]) + y_buff)        \\n        self.add(ys[0], fs[0])\\n\\n        def bracket_height():\\n            return ys[0].get_critical_point([0, 1, 0])[1] - ys[-1].get_critical_point([0, -1, 0])[1] + bracket_margin\\n        bracket_margin = 0.4\\n        #lb_f = manim.MathTex(r'\\\\big[', color=font_color).scale(2).stretch_to_fit_height(ys[0].height + bracket_margin).next_to(fs[0], manim.LEFT)\\n        lb_f = create_bracket(bracket_height()).next_to(fs[0], manim.LEFT)\\n        rb_f = create_bracket(bracket_height(), open_dir=manim.LEFT).next_to(fs[0], manim.RIGHT)\\n        lb_y = create_bracket(bracket_height()).next_to(ys[0], manim.LEFT)\\n        rb_y = create_bracket(bracket_height(), open_dir=manim.LEFT).next_to(ys[0], manim.RIGHT)\\n        self.add(lb_f, rb_f, lb_y, rb_y)\\n        \\n        cur = 0\\n        bracket_incr = 0.7\\n        for i in range(1, len(mixes)):\\n            cur += 1\\n            self.wait(1)\\n            y_pos = ys[-1].get_critical_point(np.array([0, -1, 0]))\\n            f_pos = fs[-1].get_critical_point(np.array([0, -1, 0]))\\n            buff = np.array([0, -0.5, 0])\\n            new_y_pos = y_pos + buff\\n            res_color = result_colors[i] if use_gradient else result_color\\n            ys.append(create_2d_vec(num_input_boxes, manim.X_AXIS, res_color).move_to(new_y_pos))\\n            new_f_pos = np.array([f_pos[0], new_y_pos[1], 0])\\n            fs.append(self.create_num_row(mixes[i]).move_to(new_f_pos))\\n            self.play(*[\\n                lb_f.animate.become(create_bracket(bracket_height(), open_dir=manim.RIGHT).align_to(lb_f, direction=[-1,1, 0])),\\n                rb_f.animate.become(create_bracket(bracket_height(), open_dir=manim.LEFT ).align_to(rb_f, direction=[-1,1, 0])),\\n                lb_y.animate.become(create_bracket(bracket_height(), open_dir=manim.RIGHT).align_to(lb_y, direction=[-1,1, 0])),\\n                rb_y.animate.become(create_bracket(bracket_height(), open_dir=manim.LEFT ).align_to(rb_y, direction=[-1,1, 0])),\\n            \\n            ])\\n            self.play(*[manim.FadeIn(ys[-1]), manim.FadeIn(fs[-1])])\\n\\nclass unused:\\n    def eq(self):\\n        xs = manim.Group()\\n        ys = manim.Group()  \\n        fs = manim.Group()        \\n        xs.add(*[create_2d_vec(num_input_boxes, manim.X_AXIS, colors[i]) for i in range(len(mix))])\\n        ys.add(*[create_2d_vec(num_input_boxes, manim.X_AXIS, result_colors[i]) for i in range(len(mixes))])\\n        fs.add(*[self.create_num_row(r) for r in mixes])\\n        xs.arrange(direction=manim.Y_AXIS)        \\n        ys.arrange(direction=manim.Y_AXIS)          \\n        fs.arrange(direction=manim.Y_AXIS)\\n        lb_tall = manim.MathTex(r'\\\\big[', color=font_color).scale(2).stretch_to_fit_height(fs.height + 0.4)\\n        rb_tall = manim.MathTex(r'\\\\big]', color=font_color).scale(2).stretch_to_fit_height(lb_tall.height)        \\n        lb_short = manim.MathTex(r'\\\\big[', color=font_color).scale(2).stretch_to_fit_height(xs.height + 0.4)\\n        rb_short = manim.MathTex(r'\\\\big]', color=font_color).scale(2).stretch_to_fit_height(lb_short.height)         \\n        eq = TargetObject(OrderedDict({\\n                    #manim.IntegerMatrix([[mix[0]], [mix[1]], [mix[2]]]).set_color(font_color),\\n                    'lb1' : lb_tall.copy(),\\n                    'F'   : fs,\\n                    'rb1' : rb_tall.copy(),\\n                    'lb2' : lb_short.copy(),\\n                    'X'   : xs,            \\n                    'rb2' : rb_short.copy(),             \\n                    '='   : manim.MathTex('=', color=font_color),\\n                    'lb3' : lb_tall.copy(),\\n                    'Y'   : ys,\\n                    'rb3' : rb_tall.copy()}))\\n        # Maintain position of equals sign.\\n        def stretch_to_y_height(o):\\n            pass#o.stretch_to_fit_height(eq.m['Y'].height + 0.4)\\n        \\n        def stretch_to_f_height(o):\\n            pass#o.stretch_to_fit_height(eq.m['F'].height + 0.4)\\n            \\n        eq.m['lb1'].add_updater(stretch_to_f_height)\\n        eq.m['rb1'].add_updater(stretch_to_f_height)\\n        eq.m['lb3'].add_updater(stretch_to_y_height)\\n        eq.m['rb3'].add_updater(stretch_to_y_height)\\n        eq.obj.arrange(direction=manim.X_AXIS)\\n        anims = []\\n        return eq\\n    \\n    def eq1(self):\\n        eq = manim.Mobject()\\n        spacing = 4.3 * scale\\n        offsets = np.array([1, 0.3, 0.3, 0.5, 1.15]) * scale\\n        \\n        for i in range(len(mix)):\\n            vec = create_2d_vec(num_input_boxes, manim.Y_AXIS, colors[i])\\n            vec_pos = spacing * (-len(mix) + i) + offsets[0]\\n            vec.move_to([vec_pos, 0, 0])\\n            mult = manim.Tex('$\\\\\\\\times$', color=font_color)\\n            mult.next_to(vec, buff=offsets[1])\\n            factor = manim.Tex(f'${mix[i]}$', color=font_color)\\n            factor.next_to(mult, buff=offsets[2])\\n            if(i < len(mix) - 1):\\n                plus = manim.Tex('$+$', color=font_color)\\n                plus.next_to(factor, buff=offsets[3])\\n            self.vecs.append(vec)\\n            self.factors.append(factor)\\n            self.other_text.extend([mult, plus])\\n            eq.add(vec, factor, mult, plus)\\n        self.equals = manim.Tex('=', color=font_color)\\n        self.equals.move_to([0, 0, 0])\\n        self.res = create_2d_vec(num_input_boxes, manim.Y_AXIS, result_color)\\n        self.res.next_to(self.equals, buff=offsets[4])\\n        eq.add(self.equals, self.res)\\n        eq.add(self.equals)\\n        return eq        \\n\"\u001b[0m\u001b[0;34m)\u001b[0m\u001b[0;34m\u001b[0m\u001b[0;34m\u001b[0m\u001b[0m\n\u001b[0m",
      "\u001b[0;32m/opt/conda/lib/python3.8/site-packages/IPython/core/interactiveshell.py\u001b[0m in \u001b[0;36mrun_cell_magic\u001b[0;34m(self, magic_name, line, cell)\u001b[0m\n\u001b[1;32m   2397\u001b[0m             \u001b[0;32mwith\u001b[0m \u001b[0mself\u001b[0m\u001b[0;34m.\u001b[0m\u001b[0mbuiltin_trap\u001b[0m\u001b[0;34m:\u001b[0m\u001b[0;34m\u001b[0m\u001b[0;34m\u001b[0m\u001b[0m\n\u001b[1;32m   2398\u001b[0m                 \u001b[0margs\u001b[0m \u001b[0;34m=\u001b[0m \u001b[0;34m(\u001b[0m\u001b[0mmagic_arg_s\u001b[0m\u001b[0;34m,\u001b[0m \u001b[0mcell\u001b[0m\u001b[0;34m)\u001b[0m\u001b[0;34m\u001b[0m\u001b[0;34m\u001b[0m\u001b[0m\n\u001b[0;32m-> 2399\u001b[0;31m                 \u001b[0mresult\u001b[0m \u001b[0;34m=\u001b[0m \u001b[0mfn\u001b[0m\u001b[0;34m(\u001b[0m\u001b[0;34m*\u001b[0m\u001b[0margs\u001b[0m\u001b[0;34m,\u001b[0m \u001b[0;34m**\u001b[0m\u001b[0mkwargs\u001b[0m\u001b[0;34m)\u001b[0m\u001b[0;34m\u001b[0m\u001b[0;34m\u001b[0m\u001b[0m\n\u001b[0m\u001b[1;32m   2400\u001b[0m             \u001b[0;32mreturn\u001b[0m \u001b[0mresult\u001b[0m\u001b[0;34m\u001b[0m\u001b[0;34m\u001b[0m\u001b[0m\n\u001b[1;32m   2401\u001b[0m \u001b[0;34m\u001b[0m\u001b[0m\n",
      "\u001b[0;32m<decorator-gen-863>\u001b[0m in \u001b[0;36mmanim\u001b[0;34m(self, line, cell, local_ns)\u001b[0m\n",
      "\u001b[0;32m/opt/conda/lib/python3.8/site-packages/IPython/core/magic.py\u001b[0m in \u001b[0;36m<lambda>\u001b[0;34m(f, *a, **k)\u001b[0m\n\u001b[1;32m    185\u001b[0m     \u001b[0;31m# but it's overkill for just that one bit of state.\u001b[0m\u001b[0;34m\u001b[0m\u001b[0;34m\u001b[0m\u001b[0;34m\u001b[0m\u001b[0m\n\u001b[1;32m    186\u001b[0m     \u001b[0;32mdef\u001b[0m \u001b[0mmagic_deco\u001b[0m\u001b[0;34m(\u001b[0m\u001b[0marg\u001b[0m\u001b[0;34m)\u001b[0m\u001b[0;34m:\u001b[0m\u001b[0;34m\u001b[0m\u001b[0;34m\u001b[0m\u001b[0m\n\u001b[0;32m--> 187\u001b[0;31m         \u001b[0mcall\u001b[0m \u001b[0;34m=\u001b[0m \u001b[0;32mlambda\u001b[0m \u001b[0mf\u001b[0m\u001b[0;34m,\u001b[0m \u001b[0;34m*\u001b[0m\u001b[0ma\u001b[0m\u001b[0;34m,\u001b[0m \u001b[0;34m**\u001b[0m\u001b[0mk\u001b[0m\u001b[0;34m:\u001b[0m \u001b[0mf\u001b[0m\u001b[0;34m(\u001b[0m\u001b[0;34m*\u001b[0m\u001b[0ma\u001b[0m\u001b[0;34m,\u001b[0m \u001b[0;34m**\u001b[0m\u001b[0mk\u001b[0m\u001b[0;34m)\u001b[0m\u001b[0;34m\u001b[0m\u001b[0;34m\u001b[0m\u001b[0m\n\u001b[0m\u001b[1;32m    188\u001b[0m \u001b[0;34m\u001b[0m\u001b[0m\n\u001b[1;32m    189\u001b[0m         \u001b[0;32mif\u001b[0m \u001b[0mcallable\u001b[0m\u001b[0;34m(\u001b[0m\u001b[0marg\u001b[0m\u001b[0;34m)\u001b[0m\u001b[0;34m:\u001b[0m\u001b[0;34m\u001b[0m\u001b[0;34m\u001b[0m\u001b[0m\n",
      "\u001b[0;32m/opt/conda/lib/python3.8/site-packages/manim/utils/ipython_magic.py\u001b[0m in \u001b[0;36mmanim\u001b[0;34m(self, line, cell, local_ns)\u001b[0m\n\u001b[1;32m    107\u001b[0m             \u001b[0;32mwith\u001b[0m \u001b[0mtempconfig\u001b[0m\u001b[0;34m(\u001b[0m\u001b[0mlocal_ns\u001b[0m\u001b[0;34m.\u001b[0m\u001b[0mget\u001b[0m\u001b[0;34m(\u001b[0m\u001b[0;34m\"config\"\u001b[0m\u001b[0;34m,\u001b[0m \u001b[0;34m{\u001b[0m\u001b[0;34m}\u001b[0m\u001b[0;34m)\u001b[0m\u001b[0;34m)\u001b[0m\u001b[0;34m:\u001b[0m\u001b[0;34m\u001b[0m\u001b[0;34m\u001b[0m\u001b[0m\n\u001b[1;32m    108\u001b[0m                 \u001b[0mconfig\u001b[0m\u001b[0;34m.\u001b[0m\u001b[0mdigest_args\u001b[0m\u001b[0;34m(\u001b[0m\u001b[0margs\u001b[0m\u001b[0;34m)\u001b[0m\u001b[0;34m\u001b[0m\u001b[0;34m\u001b[0m\u001b[0m\n\u001b[0;32m--> 109\u001b[0;31m                 \u001b[0mexec\u001b[0m\u001b[0;34m(\u001b[0m\u001b[0;34mf\"{config['scene_names'][0]}().render()\"\u001b[0m\u001b[0;34m,\u001b[0m \u001b[0mlocal_ns\u001b[0m\u001b[0;34m)\u001b[0m\u001b[0;34m\u001b[0m\u001b[0;34m\u001b[0m\u001b[0m\n\u001b[0m\u001b[1;32m    110\u001b[0m                 \u001b[0mlocal_path\u001b[0m \u001b[0;34m=\u001b[0m \u001b[0mPath\u001b[0m\u001b[0;34m(\u001b[0m\u001b[0mconfig\u001b[0m\u001b[0;34m[\u001b[0m\u001b[0;34m\"output_file\"\u001b[0m\u001b[0;34m]\u001b[0m\u001b[0;34m)\u001b[0m\u001b[0;34m.\u001b[0m\u001b[0mrelative_to\u001b[0m\u001b[0;34m(\u001b[0m\u001b[0mPath\u001b[0m\u001b[0;34m.\u001b[0m\u001b[0mcwd\u001b[0m\u001b[0;34m(\u001b[0m\u001b[0;34m)\u001b[0m\u001b[0;34m)\u001b[0m\u001b[0;34m\u001b[0m\u001b[0;34m\u001b[0m\u001b[0m\n\u001b[1;32m    111\u001b[0m                 tmpfile = (\n",
      "\u001b[0;32m<string>\u001b[0m in \u001b[0;36m<module>\u001b[0;34m\u001b[0m\n",
      "\u001b[0;32m/opt/conda/lib/python3.8/site-packages/manim/scene/scene.py\u001b[0m in \u001b[0;36mrender\u001b[0;34m(self, preview)\u001b[0m\n\u001b[1;32m    197\u001b[0m         \u001b[0mself\u001b[0m\u001b[0;34m.\u001b[0m\u001b[0msetup\u001b[0m\u001b[0;34m(\u001b[0m\u001b[0;34m)\u001b[0m\u001b[0;34m\u001b[0m\u001b[0;34m\u001b[0m\u001b[0m\n\u001b[1;32m    198\u001b[0m         \u001b[0;32mtry\u001b[0m\u001b[0;34m:\u001b[0m\u001b[0;34m\u001b[0m\u001b[0;34m\u001b[0m\u001b[0m\n\u001b[0;32m--> 199\u001b[0;31m             \u001b[0mself\u001b[0m\u001b[0;34m.\u001b[0m\u001b[0mconstruct\u001b[0m\u001b[0;34m(\u001b[0m\u001b[0;34m)\u001b[0m\u001b[0;34m\u001b[0m\u001b[0;34m\u001b[0m\u001b[0m\n\u001b[0m\u001b[1;32m    200\u001b[0m         \u001b[0;32mexcept\u001b[0m \u001b[0mEndSceneEarlyException\u001b[0m\u001b[0;34m:\u001b[0m\u001b[0;34m\u001b[0m\u001b[0;34m\u001b[0m\u001b[0m\n\u001b[1;32m    201\u001b[0m             \u001b[0;32mpass\u001b[0m\u001b[0;34m\u001b[0m\u001b[0;34m\u001b[0m\u001b[0m\n",
      "\u001b[0;32m<string>\u001b[0m in \u001b[0;36mconstruct\u001b[0;34m(self)\u001b[0m\n",
      "\u001b[0;32m<string>\u001b[0m in \u001b[0;36meq_animated\u001b[0;34m(self)\u001b[0m\n",
      "\u001b[0;32m/opt/conda/lib/python3.8/site-packages/manim/mobject/svg/tex_mobject.py\u001b[0m in \u001b[0;36m__init__\u001b[0;34m(self, arg_separator, substrings_to_isolate, tex_to_color_map, tex_environment, *tex_strings, **kwargs)\u001b[0m\n\u001b[1;32m    446\u001b[0m                     )\n\u001b[1;32m    447\u001b[0m                 )\n\u001b[0;32m--> 448\u001b[0;31m             \u001b[0;32mraise\u001b[0m \u001b[0mcompilation_error\u001b[0m\u001b[0;34m\u001b[0m\u001b[0;34m\u001b[0m\u001b[0m\n\u001b[0m\u001b[1;32m    449\u001b[0m         \u001b[0mself\u001b[0m\u001b[0;34m.\u001b[0m\u001b[0mset_color_by_tex_to_color_map\u001b[0m\u001b[0;34m(\u001b[0m\u001b[0mself\u001b[0m\u001b[0;34m.\u001b[0m\u001b[0mtex_to_color_map\u001b[0m\u001b[0;34m)\u001b[0m\u001b[0;34m\u001b[0m\u001b[0;34m\u001b[0m\u001b[0m\n\u001b[1;32m    450\u001b[0m \u001b[0;34m\u001b[0m\u001b[0m\n",
      "\u001b[0;32m/opt/conda/lib/python3.8/site-packages/manim/mobject/svg/tex_mobject.py\u001b[0m in \u001b[0;36m__init__\u001b[0;34m(self, arg_separator, substrings_to_isolate, tex_to_color_map, tex_environment, *tex_strings, **kwargs)\u001b[0m\n\u001b[1;32m    424\u001b[0m         \u001b[0mself\u001b[0m\u001b[0;34m.\u001b[0m\u001b[0mtex_strings\u001b[0m \u001b[0;34m=\u001b[0m \u001b[0mtex_strings\u001b[0m\u001b[0;34m\u001b[0m\u001b[0;34m\u001b[0m\u001b[0m\n\u001b[1;32m    425\u001b[0m         \u001b[0;32mtry\u001b[0m\u001b[0;34m:\u001b[0m\u001b[0;34m\u001b[0m\u001b[0;34m\u001b[0m\u001b[0m\n\u001b[0;32m--> 426\u001b[0;31m             SingleStringMathTex.__init__(\n\u001b[0m\u001b[1;32m    427\u001b[0m                 \u001b[0mself\u001b[0m\u001b[0;34m,\u001b[0m\u001b[0;34m\u001b[0m\u001b[0;34m\u001b[0m\u001b[0m\n\u001b[1;32m    428\u001b[0m                 \u001b[0mself\u001b[0m\u001b[0;34m.\u001b[0m\u001b[0marg_separator\u001b[0m\u001b[0;34m.\u001b[0m\u001b[0mjoin\u001b[0m\u001b[0;34m(\u001b[0m\u001b[0mtex_strings\u001b[0m\u001b[0;34m)\u001b[0m\u001b[0;34m,\u001b[0m\u001b[0;34m\u001b[0m\u001b[0;34m\u001b[0m\u001b[0m\n",
      "\u001b[0;32m/opt/conda/lib/python3.8/site-packages/manim/mobject/svg/tex_mobject.py\u001b[0m in \u001b[0;36m__init__\u001b[0;34m(self, tex_string, stroke_width, fill_opacity, background_stroke_width, background_stroke_color, should_center, height, organize_left_to_right, tex_environment, tex_template, **kwargs)\u001b[0m\n\u001b[1;32m    257\u001b[0m         \u001b[0;32massert\u001b[0m \u001b[0misinstance\u001b[0m\u001b[0;34m(\u001b[0m\u001b[0mtex_string\u001b[0m\u001b[0;34m,\u001b[0m \u001b[0mstr\u001b[0m\u001b[0;34m)\u001b[0m\u001b[0;34m\u001b[0m\u001b[0;34m\u001b[0m\u001b[0m\n\u001b[1;32m    258\u001b[0m         \u001b[0mself\u001b[0m\u001b[0;34m.\u001b[0m\u001b[0mtex_string\u001b[0m \u001b[0;34m=\u001b[0m \u001b[0mtex_string\u001b[0m\u001b[0;34m\u001b[0m\u001b[0;34m\u001b[0m\u001b[0m\n\u001b[0;32m--> 259\u001b[0;31m         file_name = tex_to_svg_file(\n\u001b[0m\u001b[1;32m    260\u001b[0m             \u001b[0mself\u001b[0m\u001b[0;34m.\u001b[0m\u001b[0mget_modified_expression\u001b[0m\u001b[0;34m(\u001b[0m\u001b[0mtex_string\u001b[0m\u001b[0;34m)\u001b[0m\u001b[0;34m,\u001b[0m\u001b[0;34m\u001b[0m\u001b[0;34m\u001b[0m\u001b[0m\n\u001b[1;32m    261\u001b[0m             \u001b[0menvironment\u001b[0m\u001b[0;34m=\u001b[0m\u001b[0mself\u001b[0m\u001b[0;34m.\u001b[0m\u001b[0mtex_environment\u001b[0m\u001b[0;34m,\u001b[0m\u001b[0;34m\u001b[0m\u001b[0;34m\u001b[0m\u001b[0m\n",
      "\u001b[0;32m/opt/conda/lib/python3.8/site-packages/manim/utils/tex_file_writing.py\u001b[0m in \u001b[0;36mtex_to_svg_file\u001b[0;34m(expression, environment, tex_template)\u001b[0m\n\u001b[1;32m     42\u001b[0m         \u001b[0mtex_template\u001b[0m \u001b[0;34m=\u001b[0m \u001b[0mconfig\u001b[0m\u001b[0;34m[\u001b[0m\u001b[0;34m\"tex_template\"\u001b[0m\u001b[0;34m]\u001b[0m\u001b[0;34m\u001b[0m\u001b[0;34m\u001b[0m\u001b[0m\n\u001b[1;32m     43\u001b[0m     \u001b[0mtex_file\u001b[0m \u001b[0;34m=\u001b[0m \u001b[0mgenerate_tex_file\u001b[0m\u001b[0;34m(\u001b[0m\u001b[0mexpression\u001b[0m\u001b[0;34m,\u001b[0m \u001b[0menvironment\u001b[0m\u001b[0;34m,\u001b[0m \u001b[0mtex_template\u001b[0m\u001b[0;34m)\u001b[0m\u001b[0;34m\u001b[0m\u001b[0;34m\u001b[0m\u001b[0m\n\u001b[0;32m---> 44\u001b[0;31m     dvi_file = compile_tex(\n\u001b[0m\u001b[1;32m     45\u001b[0m         \u001b[0mtex_file\u001b[0m\u001b[0;34m,\u001b[0m \u001b[0mtex_template\u001b[0m\u001b[0;34m.\u001b[0m\u001b[0mtex_compiler\u001b[0m\u001b[0;34m,\u001b[0m \u001b[0mtex_template\u001b[0m\u001b[0;34m.\u001b[0m\u001b[0moutput_format\u001b[0m\u001b[0;34m\u001b[0m\u001b[0;34m\u001b[0m\u001b[0m\n\u001b[1;32m     46\u001b[0m     )\n",
      "\u001b[0;32m/opt/conda/lib/python3.8/site-packages/manim/utils/tex_file_writing.py\u001b[0m in \u001b[0;36mcompile_tex\u001b[0;34m(tex_file, tex_compiler, output_format)\u001b[0m\n\u001b[1;32m    189\u001b[0m                             \u001b[0mlogger\u001b[0m\u001b[0;34m.\u001b[0m\u001b[0merror\u001b[0m\u001b[0;34m(\u001b[0m\u001b[0mline\u001b[0m\u001b[0;34m)\u001b[0m\u001b[0;34m\u001b[0m\u001b[0;34m\u001b[0m\u001b[0m\n\u001b[1;32m    190\u001b[0m \u001b[0;34m\u001b[0m\u001b[0m\n\u001b[0;32m--> 191\u001b[0;31m             raise ValueError(\n\u001b[0m\u001b[1;32m    192\u001b[0m                 \u001b[0;34mf\"{tex_compiler} error converting to\"\u001b[0m\u001b[0;34m\u001b[0m\u001b[0;34m\u001b[0m\u001b[0m\n\u001b[1;32m    193\u001b[0m                 \u001b[0;34mf\" {output_format[1:]}. See log output above or\"\u001b[0m\u001b[0;34m\u001b[0m\u001b[0;34m\u001b[0m\u001b[0m\n",
      "\u001b[0;31mValueError\u001b[0m: latex error converting to dvi. See log output above or the log file: media/Tex/3b9613821610fd57.log"
     ]
    }
   ],
   "source": [
    "%%manim -qh -r 1280,720 -o rows-combine-rows.mp4 RowsCombineRows\n",
    "\n",
    "\n",
    "def create_bracket(length=4.0, side_length=0.14, open_dir=manim.RIGHT):\n",
    "    obj = manim.VMobject(stroke_color=font_color)\n",
    "    obj.set_points_as_corners([np.array(p) for p in ((0, 0, 0), (side_length, 0, 0), (side_length, length, 0), (0,length, 0))])\n",
    "    if np.array_equal(open_dir, manim.LEFT):\n",
    "        pass\n",
    "    elif np.array_equal(open_dir, manim.RIGHT):\n",
    "        obj.flip(manim.Y_AXIS)\n",
    "    elif np.array_equal(open_dir, manim.UP):\n",
    "        obj.rotate_about_origin(manim.DEGREES*90)\n",
    "    elif np.array_equal(open_dir == manim.DOWN):\n",
    "        obj.flip(manim.Y_AXIS)\n",
    "        obj.rotate_about_origin(manim.DEGREES*90)\n",
    "    else:\n",
    "        raise Exception(f'Unexpected direction: {open_dir}')\n",
    "    return obj\n",
    "\n",
    "\n",
    "# Can't seem to get the svg version to work\n",
    "def create_brace_svg(length=1.0, side_length=0.2, open_dir=manim.RIGHT, stroke_width=0):\n",
    "    path_string_template = f'M0 0L{side_length} 0L{side_length} {length}L{0} {side_length}z'\n",
    "    obj = manim.SVGPathMobject(path_string=path_string_template, \n",
    "                               stroke_width=stroke_width,\n",
    "                               stroke_color=font_color,\n",
    "                               sharpness=2).set_color(font_color)\n",
    "    if np.array_equal(open_dir, manim.LEFT):\n",
    "        pass\n",
    "    elif np.array_equal(open_dir, manim.RIGHT):\n",
    "        obj.flip(manim.X_AXIS)\n",
    "    elif np.array_equal(open_dir, manim.UP):\n",
    "        obj.rotate_about_origin(manim.DEGREES*90)\n",
    "    elif np.array_equal(open_dir == manim.DOWN):\n",
    "        obj.flip(manim.X_AXIS)\n",
    "        obj.rotate_about_origin(manim.DEGREES*90)\n",
    "    else:\n",
    "        raise Exception(f'Unexpected direction: {open_dir}')\n",
    "    return obj\n",
    "\n",
    "\n",
    "\n",
    "\n",
    "class RowsCombineRows(manim.MovingCameraScene):\n",
    "    def __init__(self, *args, **kwargs):\n",
    "        super().__init__(*args, **kwargs)\n",
    "        self.vecs = []\n",
    "        self.res = None\n",
    "        self.factors = []\n",
    "        self.equals = None\n",
    "        self.other_text = [] \n",
    "        \n",
    "    def construct(self):\n",
    "        self.camera.frame_center = manim.ORIGIN + np.array([0.7, -2.5, 0])\n",
    "        self.camera.frame.scale(1.2)        \n",
    "        self.eq_animated()\n",
    "        return\n",
    "\n",
    "        fs = [eq2.m['F']]\n",
    "        ys = [eq2.m['Y']]\n",
    "        # Without partials, it's easy to accidentally not capture a copy of a variable in a lambda.\n",
    "        import functools\n",
    "        def update_y(prev_y, y):\n",
    "            y.next_to(prev_y)\n",
    "            \n",
    "        ys[0].add_updater(lambda o : o.next_to(eq2.m['lb3']))        \n",
    "        for i in range(1, len(mixes)):\n",
    "            ys.append(copy.deepcopy(ys[i-1]).next_to(ys[i-1]))\n",
    "            fs.append(create_num_col(mixes[i]).next_to(fs[i-1]))\n",
    "            ys[i].add_updater(functools.partial(update_y, ys[i-1]))\n",
    "        eq2.m['='].add_updater(lambda o : o.next_to(eq2.m['rb2']))\n",
    "        eq2.m['lb3'].add_updater(lambda o : o.next_to(eq2.m['=']))\n",
    "        current = 0\n",
    "        #eq2.m['rb3'].add_updater(lambda o : o.next_to(ys[current]))\n",
    "        for i in range(1, len(mixes)):\n",
    "            anims = []\n",
    "            # I can't get next_to to work for rb3. So use hacky shift instead.\n",
    "            #self.play(eq2.m['rb3'].animate.next_to(ys[i]))            \n",
    "            self.play(eq2.m['rb2'].animate.next_to(fs[i]),\n",
    "                      eq2.m['rb3'].animate.shift([2.4*scale, 0, 0]))\n",
    "            current = i\n",
    "            anims.append(manim.FadeIn(fs[i]))\n",
    "            anims.append(manim.FadeIn(ys[i]))\n",
    "            self.play(*anims)\n",
    "            self.wait(0.5)\n",
    "        self.wait(1)\n",
    "        \n",
    "        # Part 2.\n",
    "        to_nums_anim = []\n",
    "        to_blocks_anim = []\n",
    "        y = mixes @ X_in\n",
    "        block_num_pairs = list(zip([eq2.m['X0'], eq2.m['X1'], eq2.m['X2']], X_in)) + list(zip(ys, y))\n",
    "        for c,nums in block_num_pairs:\n",
    "            for block, n in zip(reversed(c), nums):\n",
    "                manim_int = manim.Integer(n, color=font_color).move_to(block)\n",
    "                to_nums_anim.append(manim.FadeIn(manim_int))\n",
    "                to_nums_anim.append(manim.FadeOut(block))\n",
    "                to_blocks_anim.append(manim.FadeOut(manim_int))\n",
    "                to_blocks_anim.append(manim.FadeIn(block))\n",
    "        self.play(*to_nums_anim)      \n",
    "        self.wait(1.3)\n",
    "        self.play(*to_blocks_anim)\n",
    "        self.wait(1.3)\n",
    "        self.play(*to_nums_anim)\n",
    "        self.wait(1.3)\n",
    "        self.play(*to_blocks_anim)\n",
    "        self.wait(1)\n",
    "   \n",
    "    def create_num_row(self, v):\n",
    "        return manim.Group(*(manim.Integer(i, color=font_color) for i in v)).arrange(direction=manim.X_AXIS, buff= 0.5)\n",
    "\n",
    "    def eq_animated(self):\n",
    "        xs = manim.Group()\n",
    "        x_vecs = [create_2d_vec(num_input_boxes, manim.X_AXIS, colors[i]) for i in range(len(mix))] \n",
    "        xs.add(*reversed(x_vecs))\n",
    "        xs.arrange(direction=manim.Y_AXIS)        \n",
    "        xs.move_to(manim.ORIGIN)\n",
    "        lb_x = manim.MathTex(r'\\big[', color=font_color).scale(3).stretch_to_fit_height(xs.height + 0.4).next_to(xs, manim.LEFT)\n",
    "        rb_x = manim.MathTex(r'\\big]', color=font_color).scale(3).stretch_to_fit_height(lb_x.height) .next_to(xs, manim.RIGHT)\n",
    "        lb_x = create_bracket(xs.height + 0.4, open_dir=manim.RIGHT).next_to(xs, manim.LEFT)\n",
    "        rb_x = create_bracket(xs.height + 0.4, open_dir=manim.LEFT).next_to(xs, manim.RIGHT)\n",
    "        equality = manim.MathTex('=', color=font_color).next_to(rb_x, manim.RIGHT)\n",
    "        self.add(xs, lb_x, rb_x, equality)\n",
    "        ys = [create_2d_vec(num_input_boxes, manim.X_AXIS, result_color)]\n",
    "        fs = [self.create_num_row(mixes[0])]\n",
    "        f_buff = np.array([-2, 0, 0])\n",
    "        y_buff = np.array([3, 0, 0])\n",
    "        fs[0].move_to(x_vecs[0].get_critical_point([-1, 0, 0]) + f_buff)\n",
    "        ys[0].move_to(x_vecs[0].get_critical_point([1, 0, 0]) + y_buff)        \n",
    "        self.add(ys[0], fs[0])\n",
    "\n",
    "        def bracket_height():\n",
    "            return ys[0].get_critical_point([0, 1, 0])[1] - ys[-1].get_critical_point([0, -1, 0])[1] + bracket_margin\n",
    "        bracket_margin = 0.4\n",
    "        #lb_f = manim.MathTex(r'\\big[', color=font_color).scale(2).stretch_to_fit_height(ys[0].height + bracket_margin).next_to(fs[0], manim.LEFT)\n",
    "        lb_f = create_bracket(bracket_height()).next_to(fs[0], manim.LEFT)\n",
    "        rb_f = create_bracket(bracket_height(), open_dir=manim.LEFT).next_to(fs[0], manim.RIGHT)\n",
    "        lb_y = create_bracket(bracket_height()).next_to(ys[0], manim.LEFT)\n",
    "        rb_y = create_bracket(bracket_height(), open_dir=manim.LEFT).next_to(ys[0], manim.RIGHT)\n",
    "        self.add(lb_f, rb_f, lb_y, rb_y)\n",
    "        \n",
    "        cur = 0\n",
    "        bracket_incr = 0.7\n",
    "        for i in range(1, len(mixes)):\n",
    "            cur += 1\n",
    "            self.wait(1)\n",
    "            y_pos = ys[-1].get_critical_point(np.array([0, -1, 0]))\n",
    "            f_pos = fs[-1].get_critical_point(np.array([0, -1, 0]))\n",
    "            buff = np.array([0, -0.5, 0])\n",
    "            new_y_pos = y_pos + buff\n",
    "            res_color = result_colors[i] if use_gradient else result_color\n",
    "            ys.append(create_2d_vec(num_input_boxes, manim.X_AXIS, res_color).move_to(new_y_pos))\n",
    "            new_f_pos = np.array([f_pos[0], new_y_pos[1], 0])\n",
    "            fs.append(self.create_num_row(mixes[i]).move_to(new_f_pos))\n",
    "            self.play(*[\n",
    "                lb_f.animate.become(create_bracket(bracket_height(), open_dir=manim.RIGHT).align_to(lb_f, direction=[-1,1, 0])),\n",
    "                rb_f.animate.become(create_bracket(bracket_height(), open_dir=manim.LEFT ).align_to(rb_f, direction=[-1,1, 0])),\n",
    "                lb_y.animate.become(create_bracket(bracket_height(), open_dir=manim.RIGHT).align_to(lb_y, direction=[-1,1, 0])),\n",
    "                rb_y.animate.become(create_bracket(bracket_height(), open_dir=manim.LEFT ).align_to(rb_y, direction=[-1,1, 0])),\n",
    "            \n",
    "            ])\n",
    "            self.play(*[manim.FadeIn(ys[-1]), manim.FadeIn(fs[-1])])\n",
    "\n",
    "class unused:\n",
    "    def eq(self):\n",
    "        xs = manim.Group()\n",
    "        ys = manim.Group()  \n",
    "        fs = manim.Group()        \n",
    "        xs.add(*[create_2d_vec(num_input_boxes, manim.X_AXIS, colors[i]) for i in range(len(mix))])\n",
    "        ys.add(*[create_2d_vec(num_input_boxes, manim.X_AXIS, result_colors[i]) for i in range(len(mixes))])\n",
    "        fs.add(*[self.create_num_row(r) for r in mixes])\n",
    "        xs.arrange(direction=manim.Y_AXIS)        \n",
    "        ys.arrange(direction=manim.Y_AXIS)          \n",
    "        fs.arrange(direction=manim.Y_AXIS)\n",
    "        lb_tall = manim.MathTex(r'\\big[', color=font_color).scale(2).stretch_to_fit_height(fs.height + 0.4)\n",
    "        rb_tall = manim.MathTex(r'\\big]', color=font_color).scale(2).stretch_to_fit_height(lb_tall.height)        \n",
    "        lb_short = manim.MathTex(r'\\big[', color=font_color).scale(2).stretch_to_fit_height(xs.height + 0.4)\n",
    "        rb_short = manim.MathTex(r'\\big]', color=font_color).scale(2).stretch_to_fit_height(lb_short.height)         \n",
    "        eq = TargetObject(OrderedDict({\n",
    "                    #manim.IntegerMatrix([[mix[0]], [mix[1]], [mix[2]]]).set_color(font_color),\n",
    "                    'lb1' : lb_tall.copy(),\n",
    "                    'F'   : fs,\n",
    "                    'rb1' : rb_tall.copy(),\n",
    "                    'lb2' : lb_short.copy(),\n",
    "                    'X'   : xs,            \n",
    "                    'rb2' : rb_short.copy(),             \n",
    "                    '='   : manim.MathTex('=', color=font_color),\n",
    "                    'lb3' : lb_tall.copy(),\n",
    "                    'Y'   : ys,\n",
    "                    'rb3' : rb_tall.copy()}))\n",
    "        # Maintain position of equals sign.\n",
    "        def stretch_to_y_height(o):\n",
    "            pass#o.stretch_to_fit_height(eq.m['Y'].height + 0.4)\n",
    "        \n",
    "        def stretch_to_f_height(o):\n",
    "            pass#o.stretch_to_fit_height(eq.m['F'].height + 0.4)\n",
    "            \n",
    "        eq.m['lb1'].add_updater(stretch_to_f_height)\n",
    "        eq.m['rb1'].add_updater(stretch_to_f_height)\n",
    "        eq.m['lb3'].add_updater(stretch_to_y_height)\n",
    "        eq.m['rb3'].add_updater(stretch_to_y_height)\n",
    "        eq.obj.arrange(direction=manim.X_AXIS)\n",
    "        anims = []\n",
    "        return eq\n",
    "    \n",
    "    def eq1(self):\n",
    "        eq = manim.Mobject()\n",
    "        spacing = 4.3 * scale\n",
    "        offsets = np.array([1, 0.3, 0.3, 0.5, 1.15]) * scale\n",
    "        \n",
    "        for i in range(len(mix)):\n",
    "            vec = create_2d_vec(num_input_boxes, manim.Y_AXIS, colors[i])\n",
    "            vec_pos = spacing * (-len(mix) + i) + offsets[0]\n",
    "            vec.move_to([vec_pos, 0, 0])\n",
    "            mult = manim.Tex('$\\\\times$', color=font_color)\n",
    "            mult.next_to(vec, buff=offsets[1])\n",
    "            factor = manim.Tex(f'${mix[i]}$', color=font_color)\n",
    "            factor.next_to(mult, buff=offsets[2])\n",
    "            if(i < len(mix) - 1):\n",
    "                plus = manim.Tex('$+$', color=font_color)\n",
    "                plus.next_to(factor, buff=offsets[3])\n",
    "            self.vecs.append(vec)\n",
    "            self.factors.append(factor)\n",
    "            self.other_text.extend([mult, plus])\n",
    "            eq.add(vec, factor, mult, plus)\n",
    "        self.equals = manim.Tex('=', color=font_color)\n",
    "        self.equals.move_to([0, 0, 0])\n",
    "        self.res = create_2d_vec(num_input_boxes, manim.Y_AXIS, result_color)\n",
    "        self.res.next_to(self.equals, buff=offsets[4])\n",
    "        eq.add(self.equals, self.res)\n",
    "        eq.add(self.equals)\n",
    "        return eq        "
   ]
  },
  {
   "cell_type": "code",
   "execution_count": 12,
   "id": "3c6fc136-118c-4ae2-9868-fd98abca7e47",
   "metadata": {},
   "outputs": [
    {
     "data": {
      "text/html": [
       "<pre style=\"white-space:pre;overflow-x:auto;line-height:normal;font-family:Menlo,'DejaVu Sans Mono',consolas,'Courier New',monospace\"><span style=\"color: #7fbfbf\">[05/29/21 08:41:30] </span><span style=\"color: #008000\">INFO</span>     <span style=\"color: #808000; font-weight: bold\">Writing</span> <span style=\"color: #008000\">\"2\"</span> to                            <a href=\"file:///opt/conda/lib/python3.8/site-packages/manim/utils/tex_file_writing.py\"><span style=\"color: #7f7f7f\">tex_file_writing.py</span></a><span style=\"color: #7f7f7f\">:81</span>\n",
       "                             media/Tex/db6edc3108d2d38a.tex                                  \n",
       "</pre>\n"
      ],
      "text/plain": [
       "<rich.jupyter.JupyterRenderable at 0x7f0d6b035f10>"
      ]
     },
     "metadata": {},
     "output_type": "display_data"
    },
    {
     "data": {
      "text/html": [
       "<pre style=\"white-space:pre;overflow-x:auto;line-height:normal;font-family:Menlo,'DejaVu Sans Mono',consolas,'Courier New',monospace\"><span style=\"color: #7fbfbf\">                    </span><span style=\"color: #800000; font-weight: bold\">ERROR</span>    LaTeX compilation error! latex reports:  <a href=\"file:///opt/conda/lib/python3.8/site-packages/manim/utils/tex_file_writing.py\"><span style=\"color: #7f7f7f\">tex_file_writing.py</span></a><span style=\"color: #7f7f7f\">:178</span>\n",
       "</pre>\n"
      ],
      "text/plain": [
       "<rich.jupyter.JupyterRenderable at 0x7f0d6b035790>"
      ]
     },
     "metadata": {},
     "output_type": "display_data"
    },
    {
     "data": {
      "text/html": [
       "<pre style=\"white-space:pre;overflow-x:auto;line-height:normal;font-family:Menlo,'DejaVu Sans Mono',consolas,'Courier New',monospace\"><span style=\"color: #7fbfbf\">                    </span><span style=\"color: #800000; font-weight: bold\">ERROR</span>    ! LaTeX Error: <span style=\"color: #808000; font-weight: bold\">File</span> `lmodern.sty' not    <a href=\"file:///opt/conda/lib/python3.8/site-packages/manim/utils/tex_file_writing.py\"><span style=\"color: #7f7f7f\">tex_file_writing.py</span></a><span style=\"color: #7f7f7f\">:189</span>\n",
       "                             found.                                                          \n",
       "                                                                                             \n",
       "</pre>\n"
      ],
      "text/plain": [
       "<rich.jupyter.JupyterRenderable at 0x7f0d6b035fa0>"
      ]
     },
     "metadata": {},
     "output_type": "display_data"
    },
    {
     "data": {
      "text/html": [
       "<pre style=\"white-space:pre;overflow-x:auto;line-height:normal;font-family:Menlo,'DejaVu Sans Mono',consolas,'Courier New',monospace\"><span style=\"color: #7fbfbf\">                    </span><span style=\"color: #800000; font-weight: bold\">ERROR</span>                                             <a href=\"file:///opt/conda/lib/python3.8/site-packages/manim/utils/tex_file_writing.py\"><span style=\"color: #7f7f7f\">tex_file_writing.py</span></a><span style=\"color: #7f7f7f\">:189</span>\n",
       "                                                                                             \n",
       "</pre>\n"
      ],
      "text/plain": [
       "<rich.jupyter.JupyterRenderable at 0x7f0d6b035ca0>"
      ]
     },
     "metadata": {},
     "output_type": "display_data"
    },
    {
     "data": {
      "text/html": [
       "<pre style=\"white-space:pre;overflow-x:auto;line-height:normal;font-family:Menlo,'DejaVu Sans Mono',consolas,'Courier New',monospace\"><span style=\"color: #7fbfbf\">                    </span><span style=\"color: #800000; font-weight: bold\">ERROR</span>    Type X to quit or <span style=\"font-weight: bold\">&lt;</span><span style=\"color: #ff00ff; font-weight: bold\">RETURN</span><span style=\"font-weight: bold\">&gt;</span> to proceed,   <a href=\"file:///opt/conda/lib/python3.8/site-packages/manim/utils/tex_file_writing.py\"><span style=\"color: #7f7f7f\">tex_file_writing.py</span></a><span style=\"color: #7f7f7f\">:189</span>\n",
       "                                                                                             \n",
       "</pre>\n"
      ],
      "text/plain": [
       "<rich.jupyter.JupyterRenderable at 0x7f0d6b035f10>"
      ]
     },
     "metadata": {},
     "output_type": "display_data"
    },
    {
     "data": {
      "text/html": [
       "<pre style=\"white-space:pre;overflow-x:auto;line-height:normal;font-family:Menlo,'DejaVu Sans Mono',consolas,'Courier New',monospace\"><span style=\"color: #7fbfbf\">                    </span><span style=\"color: #800000; font-weight: bold\">ERROR</span>    or enter new name. <span style=\"font-weight: bold\">(</span>Default extension:   <a href=\"file:///opt/conda/lib/python3.8/site-packages/manim/utils/tex_file_writing.py\"><span style=\"color: #7f7f7f\">tex_file_writing.py</span></a><span style=\"color: #7f7f7f\">:189</span>\n",
       "                             sty<span style=\"font-weight: bold\">)</span>                                                            \n",
       "                                                                                             \n",
       "</pre>\n"
      ],
      "text/plain": [
       "<rich.jupyter.JupyterRenderable at 0x7f0d6b035cd0>"
      ]
     },
     "metadata": {},
     "output_type": "display_data"
    },
    {
     "data": {
      "text/html": [
       "<pre style=\"white-space:pre;overflow-x:auto;line-height:normal;font-family:Menlo,'DejaVu Sans Mono',consolas,'Courier New',monospace\"><span style=\"color: #7fbfbf\">                    </span><span style=\"color: #800000; font-weight: bold\">ERROR</span>                                             <a href=\"file:///opt/conda/lib/python3.8/site-packages/manim/utils/tex_file_writing.py\"><span style=\"color: #7f7f7f\">tex_file_writing.py</span></a><span style=\"color: #7f7f7f\">:189</span>\n",
       "                                                                                             \n",
       "</pre>\n"
      ],
      "text/plain": [
       "<rich.jupyter.JupyterRenderable at 0x7f0d6b035790>"
      ]
     },
     "metadata": {},
     "output_type": "display_data"
    },
    {
     "data": {
      "text/html": [
       "<pre style=\"white-space:pre;overflow-x:auto;line-height:normal;font-family:Menlo,'DejaVu Sans Mono',consolas,'Courier New',monospace\"><span style=\"color: #7fbfbf\">                    </span><span style=\"color: #800000; font-weight: bold\">ERROR</span>    Enter file name:                         <a href=\"file:///opt/conda/lib/python3.8/site-packages/manim/utils/tex_file_writing.py\"><span style=\"color: #7f7f7f\">tex_file_writing.py</span></a><span style=\"color: #7f7f7f\">:189</span>\n",
       "                                                                                             \n",
       "</pre>\n"
      ],
      "text/plain": [
       "<rich.jupyter.JupyterRenderable at 0x7f0d6b035ee0>"
      ]
     },
     "metadata": {},
     "output_type": "display_data"
    },
    {
     "data": {
      "text/html": [
       "<pre style=\"white-space:pre;overflow-x:auto;line-height:normal;font-family:Menlo,'DejaVu Sans Mono',consolas,'Courier New',monospace\"><span style=\"color: #7fbfbf\">                    </span><span style=\"color: #800000; font-weight: bold\">ERROR</span>    ! Emergency stop.                        <a href=\"file:///opt/conda/lib/python3.8/site-packages/manim/utils/tex_file_writing.py\"><span style=\"color: #7f7f7f\">tex_file_writing.py</span></a><span style=\"color: #7f7f7f\">:189</span>\n",
       "                                                                                             \n",
       "</pre>\n"
      ],
      "text/plain": [
       "<rich.jupyter.JupyterRenderable at 0x7f0d6b035e80>"
      ]
     },
     "metadata": {},
     "output_type": "display_data"
    },
    {
     "data": {
      "text/html": [
       "<pre style=\"white-space:pre;overflow-x:auto;line-height:normal;font-family:Menlo,'DejaVu Sans Mono',consolas,'Courier New',monospace\"><span style=\"color: #7fbfbf\">                    </span><span style=\"color: #800000; font-weight: bold\">ERROR</span>    <span style=\"font-weight: bold\">&lt;</span><span style=\"color: #ff00ff; font-weight: bold\">read</span><span style=\"color: #000000\"> *</span><span style=\"font-weight: bold\">&gt;</span>                                 <a href=\"file:///opt/conda/lib/python3.8/site-packages/manim/utils/tex_file_writing.py\"><span style=\"color: #7f7f7f\">tex_file_writing.py</span></a><span style=\"color: #7f7f7f\">:189</span>\n",
       "                                                                                             \n",
       "</pre>\n"
      ],
      "text/plain": [
       "<rich.jupyter.JupyterRenderable at 0x7f0d6b035d60>"
      ]
     },
     "metadata": {},
     "output_type": "display_data"
    },
    {
     "data": {
      "text/html": [
       "<pre style=\"white-space:pre;overflow-x:auto;line-height:normal;font-family:Menlo,'DejaVu Sans Mono',consolas,'Courier New',monospace\"><span style=\"color: #7fbfbf\">                    </span><span style=\"color: #800000; font-weight: bold\">ERROR</span>                                             <a href=\"file:///opt/conda/lib/python3.8/site-packages/manim/utils/tex_file_writing.py\"><span style=\"color: #7f7f7f\">tex_file_writing.py</span></a><span style=\"color: #7f7f7f\">:189</span>\n",
       "                                                                                             \n",
       "</pre>\n"
      ],
      "text/plain": [
       "<rich.jupyter.JupyterRenderable at 0x7f0d6b035cd0>"
      ]
     },
     "metadata": {},
     "output_type": "display_data"
    },
    {
     "data": {
      "text/html": [
       "<pre style=\"white-space:pre;overflow-x:auto;line-height:normal;font-family:Menlo,'DejaVu Sans Mono',consolas,'Courier New',monospace\"><span style=\"color: #7fbfbf\">                    </span><span style=\"color: #800000; font-weight: bold\">ERROR</span>    l.<span style=\"color: #008000\">7</span> \\usepackage                          <a href=\"file:///opt/conda/lib/python3.8/site-packages/manim/utils/tex_file_writing.py\"><span style=\"color: #7f7f7f\">tex_file_writing.py</span></a><span style=\"color: #7f7f7f\">:189</span>\n",
       "                                                                                             \n",
       "</pre>\n"
      ],
      "text/plain": [
       "<rich.jupyter.JupyterRenderable at 0x7f0d6b035ee0>"
      ]
     },
     "metadata": {},
     "output_type": "display_data"
    },
    {
     "data": {
      "text/html": [
       "<pre style=\"white-space:pre;overflow-x:auto;line-height:normal;font-family:Menlo,'DejaVu Sans Mono',consolas,'Courier New',monospace\"><span style=\"color: #7fbfbf\">                    </span><span style=\"color: #800000; font-weight: bold\">ERROR</span>    ! Emergency stop.                        <a href=\"file:///opt/conda/lib/python3.8/site-packages/manim/utils/tex_file_writing.py\"><span style=\"color: #7f7f7f\">tex_file_writing.py</span></a><span style=\"color: #7f7f7f\">:189</span>\n",
       "                                                                                             \n",
       "</pre>\n"
      ],
      "text/plain": [
       "<rich.jupyter.JupyterRenderable at 0x7f0d6b035f40>"
      ]
     },
     "metadata": {},
     "output_type": "display_data"
    },
    {
     "data": {
      "text/html": [
       "<pre style=\"white-space:pre;overflow-x:auto;line-height:normal;font-family:Menlo,'DejaVu Sans Mono',consolas,'Courier New',monospace\"><span style=\"color: #7fbfbf\">                    </span><span style=\"color: #800000; font-weight: bold\">ERROR</span>    <span style=\"font-weight: bold\">&lt;</span><span style=\"color: #ff00ff; font-weight: bold\">read</span><span style=\"color: #000000\"> *</span><span style=\"font-weight: bold\">&gt;</span>                                 <a href=\"file:///opt/conda/lib/python3.8/site-packages/manim/utils/tex_file_writing.py\"><span style=\"color: #7f7f7f\">tex_file_writing.py</span></a><span style=\"color: #7f7f7f\">:189</span>\n",
       "                                                                                             \n",
       "</pre>\n"
      ],
      "text/plain": [
       "<rich.jupyter.JupyterRenderable at 0x7f0d6b0357f0>"
      ]
     },
     "metadata": {},
     "output_type": "display_data"
    },
    {
     "data": {
      "text/html": [
       "<pre style=\"white-space:pre;overflow-x:auto;line-height:normal;font-family:Menlo,'DejaVu Sans Mono',consolas,'Courier New',monospace\"><span style=\"color: #7fbfbf\">                    </span><span style=\"color: #800000; font-weight: bold\">ERROR</span>                                             <a href=\"file:///opt/conda/lib/python3.8/site-packages/manim/utils/tex_file_writing.py\"><span style=\"color: #7f7f7f\">tex_file_writing.py</span></a><span style=\"color: #7f7f7f\">:189</span>\n",
       "                                                                                             \n",
       "</pre>\n"
      ],
      "text/plain": [
       "<rich.jupyter.JupyterRenderable at 0x7f0d6b035df0>"
      ]
     },
     "metadata": {},
     "output_type": "display_data"
    },
    {
     "data": {
      "text/html": [
       "<pre style=\"white-space:pre;overflow-x:auto;line-height:normal;font-family:Menlo,'DejaVu Sans Mono',consolas,'Courier New',monospace\"><span style=\"color: #7fbfbf\">                    </span><span style=\"color: #800000; font-weight: bold\">ERROR</span>    l.<span style=\"color: #008000\">7</span> \\usepackage                          <a href=\"file:///opt/conda/lib/python3.8/site-packages/manim/utils/tex_file_writing.py\"><span style=\"color: #7f7f7f\">tex_file_writing.py</span></a><span style=\"color: #7f7f7f\">:189</span>\n",
       "                                                                                             \n",
       "</pre>\n"
      ],
      "text/plain": [
       "<rich.jupyter.JupyterRenderable at 0x7f0d6b035fd0>"
      ]
     },
     "metadata": {},
     "output_type": "display_data"
    },
    {
     "ename": "ValueError",
     "evalue": "latex error converting to dvi. See log output above or the log file: media/Tex/db6edc3108d2d38a.log",
     "output_type": "error",
     "traceback": [
      "\u001b[0;31m---------------------------------------------------------------------------\u001b[0m",
      "\u001b[0;31mValueError\u001b[0m                                Traceback (most recent call last)",
      "\u001b[0;32m<ipython-input-12-b14a5fb5efd0>\u001b[0m in \u001b[0;36m<module>\u001b[0;34m\u001b[0m\n\u001b[0;32m----> 1\u001b[0;31m \u001b[0mget_ipython\u001b[0m\u001b[0;34m(\u001b[0m\u001b[0;34m)\u001b[0m\u001b[0;34m.\u001b[0m\u001b[0mrun_cell_magic\u001b[0m\u001b[0;34m(\u001b[0m\u001b[0;34m'manim'\u001b[0m\u001b[0;34m,\u001b[0m \u001b[0;34m'-qh -r 1280,720 -o many-times.mp4 CRecipe'\u001b[0m\u001b[0;34m,\u001b[0m \u001b[0;34m\"\\ndef create_3d_vec(segments, color=None, opacity=1.0):\\n    box_size = 1*scale\\n    vector_ob = manim.VGroup()\\n    prisms = []\\n    for s in range(segments):\\n        p = manim.Prism([box_size, box_size, box_size])\\n        p.set_fill(color, opacity=opacity)\\n        p.align_on_border(manim.IN)\\n        p.set_stroke(color='#000000', width=1.0)\\n        prisms.append(p)\\n    vector_ob.add(*prisms)\\n    vector_ob.arrange(direction=-manim.Y_AXIS, buff=0)\\n    return vector_ob\\n\\n\\ndef surrounding_box(mobject, buff=0):\\n    prism = manim.Prism([mobject.width+buff, mobject.height+buff, mobject.depth+buff])\\n    prism.move_to(mobject.get_critical_point(direction=manim.ORIGIN))\\n    return prism\\n\\n\\ndef apply_scaffold_style(mobject):\\n    mobject.set_fill(opacity=0.1, color=bg_color)\\n    mobject.set_stroke(opacity=0.3)\\n    return mobject\\n\\n\\ndef create_vec_list(num_vecs, segments, pos):\\n    vec_list = manim.VMobject()\\n    for i in range(num_vecs):\\n        v = create_3d_vec(segments, colors[i])\\n        vec_list.add(v)\\n        vec_list.arrange(direction=manim.RIGHT) \\n        vec_list.move_to(pos)\\n    return vec_list\\n\\n    \\ndef create_mix_nums(vec_list, mix):\\n    mix_decimals = manim.VGroup()\\n    offset = np.array([0, -1.2, -0.5]) * scale\\n    for i in range(len(mix)):\\n        pos = vec_list[i].get_edge_center(manim.DOWN) + offset\\n        num = manim.DecimalNumber(mix[i], num_decimal_places=0, color=font_color)\\n        num.move_to(pos)\\n        mix_decimals.add(num)\\n    return mix_decimals\\n\\n\\ndef create_mix_result(vec_list, mix, target_point, color=result_color):\\n    dup_vecs = manim.VGroup()\\n    shift_dist = vec_list[0].depth + 0\\n    offset = 2 * scale\\n    dup_anims = []\\n    for i in range(len(vec_list)):\\n        dup_i = [copy.deepcopy(vec_list[i]) for j in range(mix[i])]\\n        for j in range(0, len(dup_i)):\\n            dist = j * shift_dist + offset\\n            dup_anims.append(dup_i[j].animate.shift(dist * manim.OUT))\\n        dup_vecs.add(*dup_i)\\n    def animation(scene):\\n        scene.add(dup_vecs)\\n        scene.play(*dup_anims)\\n        dup_vecs.set_fill(color)\\n        animations = [dv.animate.move_to(target_point) for dv in dup_vecs]\\n        def add_surrounding_box():\\n            bb = surrounding_box(dup_vecs, buff=0.2)   \\n            bb.set_color(color)\\n            bb.set_opacity(0.2)\\n            scene.add(bb)\\n            scene.wait(0.2)\\n            animations.extend([bb.animate.move_to(target_point), manim.ReplacementTransform(bb, replacement_vec)])\\n        # this doesn't work well enough to use.\\n        #add_surrounding_box()\\n        scene.play(*animations)\\n        scene.remove(dup_vecs)\\n    replacement_vec = create_3d_vec(num_input_boxes, color=color)\\n    replacement_vec.move_to(target_point)\\n    return replacement_vec, animation\\n\\n\\ndef create_mix_lines(vec_list, target_point):\\n    lines = []\\n    for i in range(len(vec_list)):\\n        start_point = vec_list[i].get_edge_center(manim.DOWN)\\n        # Should we move the start point to be at the bottom of the box?\\n        end_point = target_point + np.array([0, 2.05, -0.5])*scale\\n        l = manim.DashedLine(start_point, end_point, dash_length=0.02, \\n                             positive_space_ratio=0.2, color=line_color)\\n        # Doesn't seem to have an effect.\\n        #l.set_opacity(0.7)\\n        lines.append(l)\\n    g1 = manim.Group(*lines)\\n    return g1\\n\\ndef create_2d_vec(segments, direction=manim.X_AXIS, color=None, opacity=1.0):\\n    box_size = 1*scale\\n    vector_ob = manim.VMobject()\\n    rects = []\\n    for s in range(segments):\\n        r = manim.Square(side_length=box_size, color=color, fill_opacity=opacity)\\n        #r.align_on_border(manim.X_AXIS)\\n        r.set_stroke(color='#000000', width=1.0)\\n        rects.append(r)\\n    vector_ob.add(*rects)\\n    vector_ob.arrange(direction=direction, buff=0)\\n    return vector_ob\\n    \\nfrom collections import OrderedDict\\n\\nclass TargetObject():\\n    def __init__(self, obj_map : OrderedDict, draw_exclude=None, **kwargs):\\n        self.obj = manim.Mobject(**kwargs)\\n        self.obj.add(*obj_map.values())\\n        self.m = obj_map\\n        self.draw_exclude = set() if not draw_exclude else set(draw_exclude)\\n        \\n    def elements_to_draw(self):\\n        elems = [v for k,v in self.m.items() if k not in self.draw_exclude]\\n        return elems\\n\\n\\nclass ARecipe(manim.ThreeDScene):\\n    def construct(self):\\n        self.set_camera_orientation(phi=55*manim.DEGREES, theta=-115*manim.DEGREES, distance=400.0)\\n        #self.camera.background_color = '#f0f0f0'\\n        # Moving camera doesn't seem to work. A black dot is created.\\n        #self.move_camera(frame_center=target_point)\\n        vec_list = create_vec_list(num_inputs, num_input_boxes, pos=source_point)\\n        self.add(vec_list)        \\n        self.add(apply_scaffold_style(create_vec_list(1, num_input_boxes, pos=target_point)))\\n        self.add(create_mix_lines(vec_list, np.array(target_point)))\\n        self.add(*create_mix_nums(vec_list, mix))\\n        res_vec, animation = create_mix_result(vec_list, mix, target_point)\\n        animation(self)\\n        self.add(res_vec)\\n        self.wait()\\n\\n    \\nclass BRecipe(ARecipe):\\n    def construct(self):\\n        self.set_camera_orientation(phi=55*manim.DEGREES, theta=-115*manim.DEGREES, distance=400.0)\\n        vec_list = create_vec_list(num_inputs, num_input_boxes, pos=source_point)\\n        self.add(vec_list)        \\n        self.add(create_mix_lines(vec_list, np.array(target_point)))\\n        self.add(*create_mix_nums(vec_list, mix))\\n        res_vec, animation = create_mix_result(vec_list, mix, target_point)\\n        self.add(res_vec)\\n        num_extensions = 4\\n        def extend_vec(v, direction):\\n            fixed_ref = np.array([0, 0, 0]) - direction\\n            fixed_point = v.get_critical_point(fixed_ref)\\n            to_append = copy.deepcopy(v[-1])\\n            v.add(to_append)\\n            v.arrange(direction=manim.Y_AXIS, buff=0)\\n            v.move_to(fixed_point, aligned_edge=fixed_ref) \\n            return to_append\\n\\n        def extend_vecs():\\n            for i in range(num_extensions):\\n                self.wait(0.5)\\n                added = []\\n                for v in vec_list:\\n                    added.append(extend_vec(v, direction=np.array([0, 1, 0])))\\n                added.append(extend_vec(res_vec, direction=np.array([0, -1, 0])))\\n                # Some horrible z-order issues make this annimation not work well.\\n                #self.play(*[manim.FadeIn(b) for b in added])\\n        def shrink_vecs():\\n            for i in range(num_extensions):\\n                self.wait(0.1)\\n                for v in vec_list:\\n                    v.remove(v[-1])\\n                res_vec.remove(res_vec[0])\\n        extend_vecs()\\n        self.wait(1)\\n        shrink_vecs()\\n        self.wait()   \\n        \\n        \\nclass CRecipe(manim.ThreeDScene):\\n    def construct(self):\\n        offset = np.array([-3, 0, 0])\\n        self.set_camera_orientation(phi=55*manim.DEGREES, theta=-115*manim.DEGREES, distance=400.0)\\n        source_vecs = create_vec_list(num_inputs, num_input_boxes, pos=source_point + offset)\\n        self.add(source_vecs)            \\n        placement_point = np.array([1, -5, 0])*scale + offset\\n        mix_nums = None\\n        mix_lines = None\\n        for i, m in enumerate(mixes):\\n            # 1. Lines and numbers\\n            if mix_nums:\\n                mix_nums_next = create_mix_nums(source_vecs, m)\\n                mix_lines_next = create_mix_lines(source_vecs, np.array(placement_point))\\n                self.play(manim.ReplacementTransform(mix_nums, mix_nums_next), \\n                          manim.ReplacementTransform(mix_lines, mix_lines_next), \\n                          manim.FadeIn(apply_scaffold_style(create_vec_list(1, num_input_boxes, pos=placement_point))),run_time=0.4)\\n                mix_nums = mix_nums_next\\n                mix_lines = mix_lines_next\\n            else:\\n                assert mix_lines == None\\n                mix_nums = create_mix_nums(source_vecs, m)\\n                mix_lines = create_mix_lines(source_vecs, np.array(placement_point))\\n                self.add(*mix_nums, *mix_lines)\\n                self.add(apply_scaffold_style(create_vec_list(1, num_input_boxes, pos=placement_point)))\\n                \\n            # 2. Mix animation and result\\n            # The gradient just seems a bit distracting.\\n            color = result_colors[i] if use_gradient else result_color\\n            res_vec, animation = create_mix_result(source_vecs, m, placement_point, color=color)\\n            animation(self)\\n            self.add(res_vec)\\n            self.wait(0.5)\\n            placement_point = placement_point + np.array([1.5, 0, 0]) * scale\\n\"\u001b[0m\u001b[0;34m)\u001b[0m\u001b[0;34m\u001b[0m\u001b[0;34m\u001b[0m\u001b[0m\n\u001b[0m",
      "\u001b[0;32m/opt/conda/lib/python3.8/site-packages/IPython/core/interactiveshell.py\u001b[0m in \u001b[0;36mrun_cell_magic\u001b[0;34m(self, magic_name, line, cell)\u001b[0m\n\u001b[1;32m   2397\u001b[0m             \u001b[0;32mwith\u001b[0m \u001b[0mself\u001b[0m\u001b[0;34m.\u001b[0m\u001b[0mbuiltin_trap\u001b[0m\u001b[0;34m:\u001b[0m\u001b[0;34m\u001b[0m\u001b[0;34m\u001b[0m\u001b[0m\n\u001b[1;32m   2398\u001b[0m                 \u001b[0margs\u001b[0m \u001b[0;34m=\u001b[0m \u001b[0;34m(\u001b[0m\u001b[0mmagic_arg_s\u001b[0m\u001b[0;34m,\u001b[0m \u001b[0mcell\u001b[0m\u001b[0;34m)\u001b[0m\u001b[0;34m\u001b[0m\u001b[0;34m\u001b[0m\u001b[0m\n\u001b[0;32m-> 2399\u001b[0;31m                 \u001b[0mresult\u001b[0m \u001b[0;34m=\u001b[0m \u001b[0mfn\u001b[0m\u001b[0;34m(\u001b[0m\u001b[0;34m*\u001b[0m\u001b[0margs\u001b[0m\u001b[0;34m,\u001b[0m \u001b[0;34m**\u001b[0m\u001b[0mkwargs\u001b[0m\u001b[0;34m)\u001b[0m\u001b[0;34m\u001b[0m\u001b[0;34m\u001b[0m\u001b[0m\n\u001b[0m\u001b[1;32m   2400\u001b[0m             \u001b[0;32mreturn\u001b[0m \u001b[0mresult\u001b[0m\u001b[0;34m\u001b[0m\u001b[0;34m\u001b[0m\u001b[0m\n\u001b[1;32m   2401\u001b[0m \u001b[0;34m\u001b[0m\u001b[0m\n",
      "\u001b[0;32m<decorator-gen-863>\u001b[0m in \u001b[0;36mmanim\u001b[0;34m(self, line, cell, local_ns)\u001b[0m\n",
      "\u001b[0;32m/opt/conda/lib/python3.8/site-packages/IPython/core/magic.py\u001b[0m in \u001b[0;36m<lambda>\u001b[0;34m(f, *a, **k)\u001b[0m\n\u001b[1;32m    185\u001b[0m     \u001b[0;31m# but it's overkill for just that one bit of state.\u001b[0m\u001b[0;34m\u001b[0m\u001b[0;34m\u001b[0m\u001b[0;34m\u001b[0m\u001b[0m\n\u001b[1;32m    186\u001b[0m     \u001b[0;32mdef\u001b[0m \u001b[0mmagic_deco\u001b[0m\u001b[0;34m(\u001b[0m\u001b[0marg\u001b[0m\u001b[0;34m)\u001b[0m\u001b[0;34m:\u001b[0m\u001b[0;34m\u001b[0m\u001b[0;34m\u001b[0m\u001b[0m\n\u001b[0;32m--> 187\u001b[0;31m         \u001b[0mcall\u001b[0m \u001b[0;34m=\u001b[0m \u001b[0;32mlambda\u001b[0m \u001b[0mf\u001b[0m\u001b[0;34m,\u001b[0m \u001b[0;34m*\u001b[0m\u001b[0ma\u001b[0m\u001b[0;34m,\u001b[0m \u001b[0;34m**\u001b[0m\u001b[0mk\u001b[0m\u001b[0;34m:\u001b[0m \u001b[0mf\u001b[0m\u001b[0;34m(\u001b[0m\u001b[0;34m*\u001b[0m\u001b[0ma\u001b[0m\u001b[0;34m,\u001b[0m \u001b[0;34m**\u001b[0m\u001b[0mk\u001b[0m\u001b[0;34m)\u001b[0m\u001b[0;34m\u001b[0m\u001b[0;34m\u001b[0m\u001b[0m\n\u001b[0m\u001b[1;32m    188\u001b[0m \u001b[0;34m\u001b[0m\u001b[0m\n\u001b[1;32m    189\u001b[0m         \u001b[0;32mif\u001b[0m \u001b[0mcallable\u001b[0m\u001b[0;34m(\u001b[0m\u001b[0marg\u001b[0m\u001b[0;34m)\u001b[0m\u001b[0;34m:\u001b[0m\u001b[0;34m\u001b[0m\u001b[0;34m\u001b[0m\u001b[0m\n",
      "\u001b[0;32m/opt/conda/lib/python3.8/site-packages/manim/utils/ipython_magic.py\u001b[0m in \u001b[0;36mmanim\u001b[0;34m(self, line, cell, local_ns)\u001b[0m\n\u001b[1;32m    107\u001b[0m             \u001b[0;32mwith\u001b[0m \u001b[0mtempconfig\u001b[0m\u001b[0;34m(\u001b[0m\u001b[0mlocal_ns\u001b[0m\u001b[0;34m.\u001b[0m\u001b[0mget\u001b[0m\u001b[0;34m(\u001b[0m\u001b[0;34m\"config\"\u001b[0m\u001b[0;34m,\u001b[0m \u001b[0;34m{\u001b[0m\u001b[0;34m}\u001b[0m\u001b[0;34m)\u001b[0m\u001b[0;34m)\u001b[0m\u001b[0;34m:\u001b[0m\u001b[0;34m\u001b[0m\u001b[0;34m\u001b[0m\u001b[0m\n\u001b[1;32m    108\u001b[0m                 \u001b[0mconfig\u001b[0m\u001b[0;34m.\u001b[0m\u001b[0mdigest_args\u001b[0m\u001b[0;34m(\u001b[0m\u001b[0margs\u001b[0m\u001b[0;34m)\u001b[0m\u001b[0;34m\u001b[0m\u001b[0;34m\u001b[0m\u001b[0m\n\u001b[0;32m--> 109\u001b[0;31m                 \u001b[0mexec\u001b[0m\u001b[0;34m(\u001b[0m\u001b[0;34mf\"{config['scene_names'][0]}().render()\"\u001b[0m\u001b[0;34m,\u001b[0m \u001b[0mlocal_ns\u001b[0m\u001b[0;34m)\u001b[0m\u001b[0;34m\u001b[0m\u001b[0;34m\u001b[0m\u001b[0m\n\u001b[0m\u001b[1;32m    110\u001b[0m                 \u001b[0mlocal_path\u001b[0m \u001b[0;34m=\u001b[0m \u001b[0mPath\u001b[0m\u001b[0;34m(\u001b[0m\u001b[0mconfig\u001b[0m\u001b[0;34m[\u001b[0m\u001b[0;34m\"output_file\"\u001b[0m\u001b[0;34m]\u001b[0m\u001b[0;34m)\u001b[0m\u001b[0;34m.\u001b[0m\u001b[0mrelative_to\u001b[0m\u001b[0;34m(\u001b[0m\u001b[0mPath\u001b[0m\u001b[0;34m.\u001b[0m\u001b[0mcwd\u001b[0m\u001b[0;34m(\u001b[0m\u001b[0;34m)\u001b[0m\u001b[0;34m)\u001b[0m\u001b[0;34m\u001b[0m\u001b[0;34m\u001b[0m\u001b[0m\n\u001b[1;32m    111\u001b[0m                 tmpfile = (\n",
      "\u001b[0;32m<string>\u001b[0m in \u001b[0;36m<module>\u001b[0;34m\u001b[0m\n",
      "\u001b[0;32m/opt/conda/lib/python3.8/site-packages/manim/scene/scene.py\u001b[0m in \u001b[0;36mrender\u001b[0;34m(self, preview)\u001b[0m\n\u001b[1;32m    197\u001b[0m         \u001b[0mself\u001b[0m\u001b[0;34m.\u001b[0m\u001b[0msetup\u001b[0m\u001b[0;34m(\u001b[0m\u001b[0;34m)\u001b[0m\u001b[0;34m\u001b[0m\u001b[0;34m\u001b[0m\u001b[0m\n\u001b[1;32m    198\u001b[0m         \u001b[0;32mtry\u001b[0m\u001b[0;34m:\u001b[0m\u001b[0;34m\u001b[0m\u001b[0;34m\u001b[0m\u001b[0m\n\u001b[0;32m--> 199\u001b[0;31m             \u001b[0mself\u001b[0m\u001b[0;34m.\u001b[0m\u001b[0mconstruct\u001b[0m\u001b[0;34m(\u001b[0m\u001b[0;34m)\u001b[0m\u001b[0;34m\u001b[0m\u001b[0;34m\u001b[0m\u001b[0m\n\u001b[0m\u001b[1;32m    200\u001b[0m         \u001b[0;32mexcept\u001b[0m \u001b[0mEndSceneEarlyException\u001b[0m\u001b[0;34m:\u001b[0m\u001b[0;34m\u001b[0m\u001b[0;34m\u001b[0m\u001b[0m\n\u001b[1;32m    201\u001b[0m             \u001b[0;32mpass\u001b[0m\u001b[0;34m\u001b[0m\u001b[0;34m\u001b[0m\u001b[0m\n",
      "\u001b[0;32m<string>\u001b[0m in \u001b[0;36mconstruct\u001b[0;34m(self)\u001b[0m\n",
      "\u001b[0;32m<string>\u001b[0m in \u001b[0;36mcreate_mix_nums\u001b[0;34m(vec_list, mix)\u001b[0m\n",
      "\u001b[0;32m/opt/conda/lib/python3.8/site-packages/manim/mobject/numbers.py\u001b[0m in \u001b[0;36m__init__\u001b[0;34m(self, number, num_decimal_places, include_sign, group_with_commas, digit_to_digit_buff, show_ellipsis, unit, include_background_rectangle, edge_to_fix, **kwargs)\u001b[0m\n\u001b[1;32m     93\u001b[0m                 \u001b[0mnum_string\u001b[0m \u001b[0;34m=\u001b[0m \u001b[0mnum_string\u001b[0m\u001b[0;34m[\u001b[0m\u001b[0;36m1\u001b[0m\u001b[0;34m:\u001b[0m\u001b[0;34m]\u001b[0m\u001b[0;34m\u001b[0m\u001b[0;34m\u001b[0m\u001b[0m\n\u001b[1;32m     94\u001b[0m \u001b[0;34m\u001b[0m\u001b[0m\n\u001b[0;32m---> 95\u001b[0;31m         \u001b[0mself\u001b[0m\u001b[0;34m.\u001b[0m\u001b[0madd\u001b[0m\u001b[0;34m(\u001b[0m\u001b[0;34m*\u001b[0m\u001b[0;34m[\u001b[0m\u001b[0mSingleStringMathTex\u001b[0m\u001b[0;34m(\u001b[0m\u001b[0mchar\u001b[0m\u001b[0;34m,\u001b[0m \u001b[0;34m**\u001b[0m\u001b[0mkwargs\u001b[0m\u001b[0;34m)\u001b[0m \u001b[0;32mfor\u001b[0m \u001b[0mchar\u001b[0m \u001b[0;32min\u001b[0m \u001b[0mnum_string\u001b[0m\u001b[0;34m]\u001b[0m\u001b[0;34m)\u001b[0m\u001b[0;34m\u001b[0m\u001b[0;34m\u001b[0m\u001b[0m\n\u001b[0m\u001b[1;32m     96\u001b[0m \u001b[0;34m\u001b[0m\u001b[0m\n\u001b[1;32m     97\u001b[0m         \u001b[0;31m# Add non-numerical bits\u001b[0m\u001b[0;34m\u001b[0m\u001b[0;34m\u001b[0m\u001b[0;34m\u001b[0m\u001b[0m\n",
      "\u001b[0;32m/opt/conda/lib/python3.8/site-packages/manim/mobject/numbers.py\u001b[0m in \u001b[0;36m<listcomp>\u001b[0;34m(.0)\u001b[0m\n\u001b[1;32m     93\u001b[0m                 \u001b[0mnum_string\u001b[0m \u001b[0;34m=\u001b[0m \u001b[0mnum_string\u001b[0m\u001b[0;34m[\u001b[0m\u001b[0;36m1\u001b[0m\u001b[0;34m:\u001b[0m\u001b[0;34m]\u001b[0m\u001b[0;34m\u001b[0m\u001b[0;34m\u001b[0m\u001b[0m\n\u001b[1;32m     94\u001b[0m \u001b[0;34m\u001b[0m\u001b[0m\n\u001b[0;32m---> 95\u001b[0;31m         \u001b[0mself\u001b[0m\u001b[0;34m.\u001b[0m\u001b[0madd\u001b[0m\u001b[0;34m(\u001b[0m\u001b[0;34m*\u001b[0m\u001b[0;34m[\u001b[0m\u001b[0mSingleStringMathTex\u001b[0m\u001b[0;34m(\u001b[0m\u001b[0mchar\u001b[0m\u001b[0;34m,\u001b[0m \u001b[0;34m**\u001b[0m\u001b[0mkwargs\u001b[0m\u001b[0;34m)\u001b[0m \u001b[0;32mfor\u001b[0m \u001b[0mchar\u001b[0m \u001b[0;32min\u001b[0m \u001b[0mnum_string\u001b[0m\u001b[0;34m]\u001b[0m\u001b[0;34m)\u001b[0m\u001b[0;34m\u001b[0m\u001b[0;34m\u001b[0m\u001b[0m\n\u001b[0m\u001b[1;32m     96\u001b[0m \u001b[0;34m\u001b[0m\u001b[0m\n\u001b[1;32m     97\u001b[0m         \u001b[0;31m# Add non-numerical bits\u001b[0m\u001b[0;34m\u001b[0m\u001b[0;34m\u001b[0m\u001b[0;34m\u001b[0m\u001b[0m\n",
      "\u001b[0;32m/opt/conda/lib/python3.8/site-packages/manim/mobject/svg/tex_mobject.py\u001b[0m in \u001b[0;36m__init__\u001b[0;34m(self, tex_string, stroke_width, fill_opacity, background_stroke_width, background_stroke_color, should_center, height, organize_left_to_right, tex_environment, tex_template, **kwargs)\u001b[0m\n\u001b[1;32m    257\u001b[0m         \u001b[0;32massert\u001b[0m \u001b[0misinstance\u001b[0m\u001b[0;34m(\u001b[0m\u001b[0mtex_string\u001b[0m\u001b[0;34m,\u001b[0m \u001b[0mstr\u001b[0m\u001b[0;34m)\u001b[0m\u001b[0;34m\u001b[0m\u001b[0;34m\u001b[0m\u001b[0m\n\u001b[1;32m    258\u001b[0m         \u001b[0mself\u001b[0m\u001b[0;34m.\u001b[0m\u001b[0mtex_string\u001b[0m \u001b[0;34m=\u001b[0m \u001b[0mtex_string\u001b[0m\u001b[0;34m\u001b[0m\u001b[0;34m\u001b[0m\u001b[0m\n\u001b[0;32m--> 259\u001b[0;31m         file_name = tex_to_svg_file(\n\u001b[0m\u001b[1;32m    260\u001b[0m             \u001b[0mself\u001b[0m\u001b[0;34m.\u001b[0m\u001b[0mget_modified_expression\u001b[0m\u001b[0;34m(\u001b[0m\u001b[0mtex_string\u001b[0m\u001b[0;34m)\u001b[0m\u001b[0;34m,\u001b[0m\u001b[0;34m\u001b[0m\u001b[0;34m\u001b[0m\u001b[0m\n\u001b[1;32m    261\u001b[0m             \u001b[0menvironment\u001b[0m\u001b[0;34m=\u001b[0m\u001b[0mself\u001b[0m\u001b[0;34m.\u001b[0m\u001b[0mtex_environment\u001b[0m\u001b[0;34m,\u001b[0m\u001b[0;34m\u001b[0m\u001b[0;34m\u001b[0m\u001b[0m\n",
      "\u001b[0;32m/opt/conda/lib/python3.8/site-packages/manim/utils/tex_file_writing.py\u001b[0m in \u001b[0;36mtex_to_svg_file\u001b[0;34m(expression, environment, tex_template)\u001b[0m\n\u001b[1;32m     42\u001b[0m         \u001b[0mtex_template\u001b[0m \u001b[0;34m=\u001b[0m \u001b[0mconfig\u001b[0m\u001b[0;34m[\u001b[0m\u001b[0;34m\"tex_template\"\u001b[0m\u001b[0;34m]\u001b[0m\u001b[0;34m\u001b[0m\u001b[0;34m\u001b[0m\u001b[0m\n\u001b[1;32m     43\u001b[0m     \u001b[0mtex_file\u001b[0m \u001b[0;34m=\u001b[0m \u001b[0mgenerate_tex_file\u001b[0m\u001b[0;34m(\u001b[0m\u001b[0mexpression\u001b[0m\u001b[0;34m,\u001b[0m \u001b[0menvironment\u001b[0m\u001b[0;34m,\u001b[0m \u001b[0mtex_template\u001b[0m\u001b[0;34m)\u001b[0m\u001b[0;34m\u001b[0m\u001b[0;34m\u001b[0m\u001b[0m\n\u001b[0;32m---> 44\u001b[0;31m     dvi_file = compile_tex(\n\u001b[0m\u001b[1;32m     45\u001b[0m         \u001b[0mtex_file\u001b[0m\u001b[0;34m,\u001b[0m \u001b[0mtex_template\u001b[0m\u001b[0;34m.\u001b[0m\u001b[0mtex_compiler\u001b[0m\u001b[0;34m,\u001b[0m \u001b[0mtex_template\u001b[0m\u001b[0;34m.\u001b[0m\u001b[0moutput_format\u001b[0m\u001b[0;34m\u001b[0m\u001b[0;34m\u001b[0m\u001b[0m\n\u001b[1;32m     46\u001b[0m     )\n",
      "\u001b[0;32m/opt/conda/lib/python3.8/site-packages/manim/utils/tex_file_writing.py\u001b[0m in \u001b[0;36mcompile_tex\u001b[0;34m(tex_file, tex_compiler, output_format)\u001b[0m\n\u001b[1;32m    189\u001b[0m                             \u001b[0mlogger\u001b[0m\u001b[0;34m.\u001b[0m\u001b[0merror\u001b[0m\u001b[0;34m(\u001b[0m\u001b[0mline\u001b[0m\u001b[0;34m)\u001b[0m\u001b[0;34m\u001b[0m\u001b[0;34m\u001b[0m\u001b[0m\n\u001b[1;32m    190\u001b[0m \u001b[0;34m\u001b[0m\u001b[0m\n\u001b[0;32m--> 191\u001b[0;31m             raise ValueError(\n\u001b[0m\u001b[1;32m    192\u001b[0m                 \u001b[0;34mf\"{tex_compiler} error converting to\"\u001b[0m\u001b[0;34m\u001b[0m\u001b[0;34m\u001b[0m\u001b[0m\n\u001b[1;32m    193\u001b[0m                 \u001b[0;34mf\" {output_format[1:]}. See log output above or\"\u001b[0m\u001b[0;34m\u001b[0m\u001b[0;34m\u001b[0m\u001b[0m\n",
      "\u001b[0;31mValueError\u001b[0m: latex error converting to dvi. See log output above or the log file: media/Tex/db6edc3108d2d38a.log"
     ]
    }
   ],
   "source": [
    "%%manim -qh -r 1280,720 -o many-times.mp4 CRecipe\n",
    "\n",
    "def create_3d_vec(segments, color=None, opacity=1.0):\n",
    "    box_size = 1*scale\n",
    "    vector_ob = manim.VGroup()\n",
    "    prisms = []\n",
    "    for s in range(segments):\n",
    "        p = manim.Prism([box_size, box_size, box_size])\n",
    "        p.set_fill(color, opacity=opacity)\n",
    "        p.align_on_border(manim.IN)\n",
    "        p.set_stroke(color='#000000', width=1.0)\n",
    "        prisms.append(p)\n",
    "    vector_ob.add(*prisms)\n",
    "    vector_ob.arrange(direction=-manim.Y_AXIS, buff=0)\n",
    "    return vector_ob\n",
    "\n",
    "\n",
    "def surrounding_box(mobject, buff=0):\n",
    "    prism = manim.Prism([mobject.width+buff, mobject.height+buff, mobject.depth+buff])\n",
    "    prism.move_to(mobject.get_critical_point(direction=manim.ORIGIN))\n",
    "    return prism\n",
    "\n",
    "\n",
    "def apply_scaffold_style(mobject):\n",
    "    mobject.set_fill(opacity=0.1, color=bg_color)\n",
    "    mobject.set_stroke(opacity=0.3)\n",
    "    return mobject\n",
    "\n",
    "\n",
    "def create_vec_list(num_vecs, segments, pos):\n",
    "    vec_list = manim.VMobject()\n",
    "    for i in range(num_vecs):\n",
    "        v = create_3d_vec(segments, colors[i])\n",
    "        vec_list.add(v)\n",
    "        vec_list.arrange(direction=manim.RIGHT) \n",
    "        vec_list.move_to(pos)\n",
    "    return vec_list\n",
    "\n",
    "    \n",
    "def create_mix_nums(vec_list, mix):\n",
    "    mix_decimals = manim.VGroup()\n",
    "    offset = np.array([0, -1.2, -0.5]) * scale\n",
    "    for i in range(len(mix)):\n",
    "        pos = vec_list[i].get_edge_center(manim.DOWN) + offset\n",
    "        num = manim.DecimalNumber(mix[i], num_decimal_places=0, color=font_color)\n",
    "        num.move_to(pos)\n",
    "        mix_decimals.add(num)\n",
    "    return mix_decimals\n",
    "\n",
    "\n",
    "def create_mix_result(vec_list, mix, target_point, color=result_color):\n",
    "    dup_vecs = manim.VGroup()\n",
    "    shift_dist = vec_list[0].depth + 0\n",
    "    offset = 2 * scale\n",
    "    dup_anims = []\n",
    "    for i in range(len(vec_list)):\n",
    "        dup_i = [copy.deepcopy(vec_list[i]) for j in range(mix[i])]\n",
    "        for j in range(0, len(dup_i)):\n",
    "            dist = j * shift_dist + offset\n",
    "            dup_anims.append(dup_i[j].animate.shift(dist * manim.OUT))\n",
    "        dup_vecs.add(*dup_i)\n",
    "    def animation(scene):\n",
    "        scene.add(dup_vecs)\n",
    "        scene.play(*dup_anims)\n",
    "        dup_vecs.set_fill(color)\n",
    "        animations = [dv.animate.move_to(target_point) for dv in dup_vecs]\n",
    "        def add_surrounding_box():\n",
    "            bb = surrounding_box(dup_vecs, buff=0.2)   \n",
    "            bb.set_color(color)\n",
    "            bb.set_opacity(0.2)\n",
    "            scene.add(bb)\n",
    "            scene.wait(0.2)\n",
    "            animations.extend([bb.animate.move_to(target_point), manim.ReplacementTransform(bb, replacement_vec)])\n",
    "        # this doesn't work well enough to use.\n",
    "        #add_surrounding_box()\n",
    "        scene.play(*animations)\n",
    "        scene.remove(dup_vecs)\n",
    "    replacement_vec = create_3d_vec(num_input_boxes, color=color)\n",
    "    replacement_vec.move_to(target_point)\n",
    "    return replacement_vec, animation\n",
    "\n",
    "\n",
    "def create_mix_lines(vec_list, target_point):\n",
    "    lines = []\n",
    "    for i in range(len(vec_list)):\n",
    "        start_point = vec_list[i].get_edge_center(manim.DOWN)\n",
    "        # Should we move the start point to be at the bottom of the box?\n",
    "        end_point = target_point + np.array([0, 2.05, -0.5])*scale\n",
    "        l = manim.DashedLine(start_point, end_point, dash_length=0.02, \n",
    "                             positive_space_ratio=0.2, color=line_color)\n",
    "        # Doesn't seem to have an effect.\n",
    "        #l.set_opacity(0.7)\n",
    "        lines.append(l)\n",
    "    g1 = manim.Group(*lines)\n",
    "    return g1\n",
    "\n",
    "def create_2d_vec(segments, direction=manim.X_AXIS, color=None, opacity=1.0):\n",
    "    box_size = 1*scale\n",
    "    vector_ob = manim.VMobject()\n",
    "    rects = []\n",
    "    for s in range(segments):\n",
    "        r = manim.Square(side_length=box_size, color=color, fill_opacity=opacity)\n",
    "        #r.align_on_border(manim.X_AXIS)\n",
    "        r.set_stroke(color='#000000', width=1.0)\n",
    "        rects.append(r)\n",
    "    vector_ob.add(*rects)\n",
    "    vector_ob.arrange(direction=direction, buff=0)\n",
    "    return vector_ob\n",
    "    \n",
    "from collections import OrderedDict\n",
    "\n",
    "class TargetObject():\n",
    "    def __init__(self, obj_map : OrderedDict, draw_exclude=None, **kwargs):\n",
    "        self.obj = manim.Mobject(**kwargs)\n",
    "        self.obj.add(*obj_map.values())\n",
    "        self.m = obj_map\n",
    "        self.draw_exclude = set() if not draw_exclude else set(draw_exclude)\n",
    "        \n",
    "    def elements_to_draw(self):\n",
    "        elems = [v for k,v in self.m.items() if k not in self.draw_exclude]\n",
    "        return elems\n",
    "\n",
    "\n",
    "class ARecipe(manim.ThreeDScene):\n",
    "    def construct(self):\n",
    "        self.set_camera_orientation(phi=55*manim.DEGREES, theta=-115*manim.DEGREES, distance=400.0)\n",
    "        #self.camera.background_color = '#f0f0f0'\n",
    "        # Moving camera doesn't seem to work. A black dot is created.\n",
    "        #self.move_camera(frame_center=target_point)\n",
    "        vec_list = create_vec_list(num_inputs, num_input_boxes, pos=source_point)\n",
    "        self.add(vec_list)        \n",
    "        self.add(apply_scaffold_style(create_vec_list(1, num_input_boxes, pos=target_point)))\n",
    "        self.add(create_mix_lines(vec_list, np.array(target_point)))\n",
    "        self.add(*create_mix_nums(vec_list, mix))\n",
    "        res_vec, animation = create_mix_result(vec_list, mix, target_point)\n",
    "        animation(self)\n",
    "        self.add(res_vec)\n",
    "        self.wait()\n",
    "\n",
    "    \n",
    "class BRecipe(ARecipe):\n",
    "    def construct(self):\n",
    "        self.set_camera_orientation(phi=55*manim.DEGREES, theta=-115*manim.DEGREES, distance=400.0)\n",
    "        vec_list = create_vec_list(num_inputs, num_input_boxes, pos=source_point)\n",
    "        self.add(vec_list)        \n",
    "        self.add(create_mix_lines(vec_list, np.array(target_point)))\n",
    "        self.add(*create_mix_nums(vec_list, mix))\n",
    "        res_vec, animation = create_mix_result(vec_list, mix, target_point)\n",
    "        self.add(res_vec)\n",
    "        num_extensions = 4\n",
    "        def extend_vec(v, direction):\n",
    "            fixed_ref = np.array([0, 0, 0]) - direction\n",
    "            fixed_point = v.get_critical_point(fixed_ref)\n",
    "            to_append = copy.deepcopy(v[-1])\n",
    "            v.add(to_append)\n",
    "            v.arrange(direction=manim.Y_AXIS, buff=0)\n",
    "            v.move_to(fixed_point, aligned_edge=fixed_ref) \n",
    "            return to_append\n",
    "\n",
    "        def extend_vecs():\n",
    "            for i in range(num_extensions):\n",
    "                self.wait(0.5)\n",
    "                added = []\n",
    "                for v in vec_list:\n",
    "                    added.append(extend_vec(v, direction=np.array([0, 1, 0])))\n",
    "                added.append(extend_vec(res_vec, direction=np.array([0, -1, 0])))\n",
    "                # Some horrible z-order issues make this annimation not work well.\n",
    "                #self.play(*[manim.FadeIn(b) for b in added])\n",
    "        def shrink_vecs():\n",
    "            for i in range(num_extensions):\n",
    "                self.wait(0.1)\n",
    "                for v in vec_list:\n",
    "                    v.remove(v[-1])\n",
    "                res_vec.remove(res_vec[0])\n",
    "        extend_vecs()\n",
    "        self.wait(1)\n",
    "        shrink_vecs()\n",
    "        self.wait()   \n",
    "        \n",
    "        \n",
    "class CRecipe(manim.ThreeDScene):\n",
    "    def construct(self):\n",
    "        offset = np.array([-3, 0, 0])\n",
    "        self.set_camera_orientation(phi=55*manim.DEGREES, theta=-115*manim.DEGREES, distance=400.0)\n",
    "        source_vecs = create_vec_list(num_inputs, num_input_boxes, pos=source_point + offset)\n",
    "        self.add(source_vecs)            \n",
    "        placement_point = np.array([1, -5, 0])*scale + offset\n",
    "        mix_nums = None\n",
    "        mix_lines = None\n",
    "        for i, m in enumerate(mixes):\n",
    "            # 1. Lines and numbers\n",
    "            if mix_nums:\n",
    "                mix_nums_next = create_mix_nums(source_vecs, m)\n",
    "                mix_lines_next = create_mix_lines(source_vecs, np.array(placement_point))\n",
    "                self.play(manim.ReplacementTransform(mix_nums, mix_nums_next), \n",
    "                          manim.ReplacementTransform(mix_lines, mix_lines_next), \n",
    "                          manim.FadeIn(apply_scaffold_style(create_vec_list(1, num_input_boxes, pos=placement_point))),run_time=0.4)\n",
    "                mix_nums = mix_nums_next\n",
    "                mix_lines = mix_lines_next\n",
    "            else:\n",
    "                assert mix_lines == None\n",
    "                mix_nums = create_mix_nums(source_vecs, m)\n",
    "                mix_lines = create_mix_lines(source_vecs, np.array(placement_point))\n",
    "                self.add(*mix_nums, *mix_lines)\n",
    "                self.add(apply_scaffold_style(create_vec_list(1, num_input_boxes, pos=placement_point)))\n",
    "                \n",
    "            # 2. Mix animation and result\n",
    "            # The gradient just seems a bit distracting.\n",
    "            color = result_colors[i] if use_gradient else result_color\n",
    "            res_vec, animation = create_mix_result(source_vecs, m, placement_point, color=color)\n",
    "            animation(self)\n",
    "            self.add(res_vec)\n",
    "            self.wait(0.5)\n",
    "            placement_point = placement_point + np.array([1.5, 0, 0]) * scale"
   ]
  },
  {
   "cell_type": "code",
   "execution_count": null,
   "id": "2f8de3bc-63ee-4a90-b36b-c3a1070e8d0f",
   "metadata": {},
   "outputs": [],
   "source": [
    "%%manim -qh -r 1280,720 -o one-combination.mp4 ARecipe\n",
    "pass"
   ]
  },
  {
   "cell_type": "code",
   "execution_count": null,
   "id": "aa75c201-6bca-42df-b10f-511d49e8f698",
   "metadata": {},
   "outputs": [],
   "source": [
    "%%manim -qh -r 1280,720 -o resize-objects.mp4 BRecipe\n",
    "pass"
   ]
  },
  {
   "cell_type": "code",
   "execution_count": null,
   "id": "c88b9a6c-708c-43b8-86d7-01fefa7869bb",
   "metadata": {},
   "outputs": [],
   "source": [
    "%%manim -ql My2DScene\n",
    "\n",
    "import functools as ft\n",
    "import copy\n",
    "colors = ['#caf0f8', '#90e0ef', '#00b4d8', '#0096c7']\n",
    "\n",
    "class MyMatrix(manim.DecimalMatrix):\n",
    "    pass\n",
    "\n",
    "M = np.array([[2, 0.5, 1],[0.5, 1, 1]])\n",
    "M0 = np.zeros(M.shape)\n",
    "M = M0\n",
    "W = np.array([[3, 1, 4,1],[0, 2, 1, 0.5],[0.5, 0, 2, 0]])\n",
    "add1 = np.zeros(M.shape)\n",
    "add1[0, 1] = 1.0\n",
    "Z = M0 @ W\n",
    "\n",
    "class My2DScene(manim.Scene):\n",
    "    def construct(self):\n",
    "        M_matrix = MyMatrix(M)\n",
    "        M0_matrix = MyMatrix(M0)\n",
    "        Z_matrix = MyMatrix(Z)\n",
    "        W_matrix = MyMatrix(W)\n",
    "        arrow = manim.Arrow(start=manim.LEFT, end=manim.RIGHT, color='#505050')\n",
    "        matrix_eq = manim.VMobject()\n",
    "        #matrix_eq.add(M0_matrix, W_matrix, arrow, Z_matrix)\n",
    "        #matrix_eq.arrange()\n",
    "        #self.add(matrix_eq)\n",
    "        \n",
    "        #matrix_mult_ob.arrange()\n",
    "        #W_matrix.next_to(M0_matrix, manim.RIGHT)        \n",
    "        #arrow.next_to(W_matrix, manim.RIGHT)\n",
    "        #Z_matrix.next_to(arrow, manim.RIGHT)\n",
    "        #self.add(M0_matrix, W_matrix, arrow, Z_matrix)\n",
    "        #dup_row1 = copy.deepcopy(W_matrix.get_rows()[0])\n",
    "        #target_x = W_matrix.get_center()[1]\n",
    "        #y_offset = 2\n",
    "        #target_y = W_matrix.get_critical_point(manim.DOWN)[0] - 2\n",
    "        #animate_row_mult(self, dup_row1, 2.0, np.array([target_x, target_y, 0]))\n",
    "        #matrix_mult_ob.add(M_matrix, W_matrix)\n",
    "        #matrix_mult_ob.arrange()\n",
    "        #self.add(matrix_mult_ob)\n",
    "        \n",
    "        def plus(to_add, m, dt):\n",
    "            if m.mob_matrix.shape != to_add.shape:\n",
    "                raise Exception(\"shapes must match\")\n",
    "            rate = 0.2\n",
    "            factor = min(1.0, dt*rate)\n",
    "            for r in range(m.mob_matrix.shape[0]):\n",
    "                for c in range(m.mob_matrix.shape[1]):\n",
    "                    m.mob_matrix[r,c].set_value(m.mob_matrix[r,c].get_value() + \n",
    "                                                to_add[r,c]*factor)\n",
    "                    \n",
    "                    \n",
    "        def plus_complete(eq, dt):\n",
    "            rate = 0.4\n",
    "            factor = min(1.0, dt*rate)\n",
    "            print(dt)\n",
    "            global M\n",
    "            M = factor*add1 + M\n",
    "        \n",
    "        def get_M():\n",
    "            return MyMatrix(M).next_to(W_matrix, manim.LEFT)\n",
    "            \n",
    "        def get_mult_result():\n",
    "            y = M @ W\n",
    "            y_matrix = MyMatrix(y).next_to(arrow, manim.RIGHT)\n",
    "            return y_matrix\n",
    "        \n",
    "        matrix_eq.add(manim.always_redraw(get_M), \n",
    "                      W_matrix, arrow, manim.always_redraw(get_mult_result).next_to(arrow))\n",
    "        matrix_eq.add_updater(plus_complete)\n",
    "        matrix_eq.arrange()\n",
    "        self.add(matrix_eq)\n",
    "        #M_matrix.add_updater(ft.partial(plus, negM))\n",
    "        #matrix_eq.add_updater(lambda meq : meq.arrange())\n",
    "        self.wait(3)\n",
    "        \n",
    "                    \n",
    "            \n",
    "def animate_row_mult(scene, row, multiplier, target_pos, alignment=manim.ORIGIN):\n",
    "    init_values = [d.get_value() for d in row]\n",
    "    get_dist = lambda : np.linalg.norm(target_pos - row.get_critical_point(alignment))\n",
    "    init_dist = get_dist()\n",
    "\n",
    "    def updater(row):\n",
    "        for i, d in enumerate(row):\n",
    "            current_dist = get_dist()\n",
    "            progress = round(1 - current_dist/init_dist, 10)\n",
    "            temp_mult = 1 * (1 - progress) + multiplier * progress\n",
    "            d.set_value(init_values[i] * temp_mult)\n",
    "    #    decimal.add_updater(ft.partial(updater, init_val=init_values[i]))\n",
    "    #row.add_updater(updater)\n",
    "    #scene.play(row.animate.move_to(target_pos, alignment), run_time=3)\n",
    "    scene.play(row.animate.shift(target_pos - row.get_critical_point(alignment)))\n",
    "    scene.wait(1)"
   ]
  },
  {
   "cell_type": "code",
   "execution_count": 13,
   "id": "44129ed0-8c2e-48f4-b61e-4d069df2e44b",
   "metadata": {},
   "outputs": [
    {
     "data": {
      "text/html": [
       "<pre style=\"white-space:pre;overflow-x:auto;line-height:normal;font-family:Menlo,'DejaVu Sans Mono',consolas,'Courier New',monospace\"><span style=\"color: #7fbfbf\">[05/29/21 08:41:31] </span><span style=\"color: #008000\">INFO</span>     <span style=\"color: #808000; font-weight: bold\">Writing</span> <span style=\"color: #008000\">\"2.0\"</span> to                          <a href=\"file:///opt/conda/lib/python3.8/site-packages/manim/utils/tex_file_writing.py\"><span style=\"color: #7f7f7f\">tex_file_writing.py</span></a><span style=\"color: #7f7f7f\">:81</span>\n",
       "                             media/Tex/33bdc51ecdcab2ca.tex                                  \n",
       "</pre>\n"
      ],
      "text/plain": [
       "<rich.jupyter.JupyterRenderable at 0x7f0d6b4da4c0>"
      ]
     },
     "metadata": {},
     "output_type": "display_data"
    },
    {
     "data": {
      "text/html": [
       "<pre style=\"white-space:pre;overflow-x:auto;line-height:normal;font-family:Menlo,'DejaVu Sans Mono',consolas,'Courier New',monospace\"><span style=\"color: #7fbfbf\">                    </span><span style=\"color: #800000; font-weight: bold\">ERROR</span>    LaTeX compilation error! latex reports:  <a href=\"file:///opt/conda/lib/python3.8/site-packages/manim/utils/tex_file_writing.py\"><span style=\"color: #7f7f7f\">tex_file_writing.py</span></a><span style=\"color: #7f7f7f\">:178</span>\n",
       "</pre>\n"
      ],
      "text/plain": [
       "<rich.jupyter.JupyterRenderable at 0x7f0d6b4daa60>"
      ]
     },
     "metadata": {},
     "output_type": "display_data"
    },
    {
     "data": {
      "text/html": [
       "<pre style=\"white-space:pre;overflow-x:auto;line-height:normal;font-family:Menlo,'DejaVu Sans Mono',consolas,'Courier New',monospace\"><span style=\"color: #7fbfbf\">                    </span><span style=\"color: #800000; font-weight: bold\">ERROR</span>    ! LaTeX Error: <span style=\"color: #808000; font-weight: bold\">File</span> `lmodern.sty' not    <a href=\"file:///opt/conda/lib/python3.8/site-packages/manim/utils/tex_file_writing.py\"><span style=\"color: #7f7f7f\">tex_file_writing.py</span></a><span style=\"color: #7f7f7f\">:189</span>\n",
       "                             found.                                                          \n",
       "                                                                                             \n",
       "</pre>\n"
      ],
      "text/plain": [
       "<rich.jupyter.JupyterRenderable at 0x7f0d6b4dab50>"
      ]
     },
     "metadata": {},
     "output_type": "display_data"
    },
    {
     "data": {
      "text/html": [
       "<pre style=\"white-space:pre;overflow-x:auto;line-height:normal;font-family:Menlo,'DejaVu Sans Mono',consolas,'Courier New',monospace\"><span style=\"color: #7fbfbf\">                    </span><span style=\"color: #800000; font-weight: bold\">ERROR</span>                                             <a href=\"file:///opt/conda/lib/python3.8/site-packages/manim/utils/tex_file_writing.py\"><span style=\"color: #7f7f7f\">tex_file_writing.py</span></a><span style=\"color: #7f7f7f\">:189</span>\n",
       "                                                                                             \n",
       "</pre>\n"
      ],
      "text/plain": [
       "<rich.jupyter.JupyterRenderable at 0x7f0d6b4da430>"
      ]
     },
     "metadata": {},
     "output_type": "display_data"
    },
    {
     "data": {
      "text/html": [
       "<pre style=\"white-space:pre;overflow-x:auto;line-height:normal;font-family:Menlo,'DejaVu Sans Mono',consolas,'Courier New',monospace\"><span style=\"color: #7fbfbf\">                    </span><span style=\"color: #800000; font-weight: bold\">ERROR</span>    Type X to quit or <span style=\"font-weight: bold\">&lt;</span><span style=\"color: #ff00ff; font-weight: bold\">RETURN</span><span style=\"font-weight: bold\">&gt;</span> to proceed,   <a href=\"file:///opt/conda/lib/python3.8/site-packages/manim/utils/tex_file_writing.py\"><span style=\"color: #7f7f7f\">tex_file_writing.py</span></a><span style=\"color: #7f7f7f\">:189</span>\n",
       "                                                                                             \n",
       "</pre>\n"
      ],
      "text/plain": [
       "<rich.jupyter.JupyterRenderable at 0x7f0d6b4da4c0>"
      ]
     },
     "metadata": {},
     "output_type": "display_data"
    },
    {
     "data": {
      "text/html": [
       "<pre style=\"white-space:pre;overflow-x:auto;line-height:normal;font-family:Menlo,'DejaVu Sans Mono',consolas,'Courier New',monospace\"><span style=\"color: #7fbfbf\">                    </span><span style=\"color: #800000; font-weight: bold\">ERROR</span>    or enter new name. <span style=\"font-weight: bold\">(</span>Default extension:   <a href=\"file:///opt/conda/lib/python3.8/site-packages/manim/utils/tex_file_writing.py\"><span style=\"color: #7f7f7f\">tex_file_writing.py</span></a><span style=\"color: #7f7f7f\">:189</span>\n",
       "                             sty<span style=\"font-weight: bold\">)</span>                                                            \n",
       "                                                                                             \n",
       "</pre>\n"
      ],
      "text/plain": [
       "<rich.jupyter.JupyterRenderable at 0x7f0d6b4da670>"
      ]
     },
     "metadata": {},
     "output_type": "display_data"
    },
    {
     "data": {
      "text/html": [
       "<pre style=\"white-space:pre;overflow-x:auto;line-height:normal;font-family:Menlo,'DejaVu Sans Mono',consolas,'Courier New',monospace\"><span style=\"color: #7fbfbf\">                    </span><span style=\"color: #800000; font-weight: bold\">ERROR</span>                                             <a href=\"file:///opt/conda/lib/python3.8/site-packages/manim/utils/tex_file_writing.py\"><span style=\"color: #7f7f7f\">tex_file_writing.py</span></a><span style=\"color: #7f7f7f\">:189</span>\n",
       "                                                                                             \n",
       "</pre>\n"
      ],
      "text/plain": [
       "<rich.jupyter.JupyterRenderable at 0x7f0d6b4da4f0>"
      ]
     },
     "metadata": {},
     "output_type": "display_data"
    },
    {
     "data": {
      "text/html": [
       "<pre style=\"white-space:pre;overflow-x:auto;line-height:normal;font-family:Menlo,'DejaVu Sans Mono',consolas,'Courier New',monospace\"><span style=\"color: #7fbfbf\">                    </span><span style=\"color: #800000; font-weight: bold\">ERROR</span>    Enter file name:                         <a href=\"file:///opt/conda/lib/python3.8/site-packages/manim/utils/tex_file_writing.py\"><span style=\"color: #7f7f7f\">tex_file_writing.py</span></a><span style=\"color: #7f7f7f\">:189</span>\n",
       "                                                                                             \n",
       "</pre>\n"
      ],
      "text/plain": [
       "<rich.jupyter.JupyterRenderable at 0x7f0d6b4da8e0>"
      ]
     },
     "metadata": {},
     "output_type": "display_data"
    },
    {
     "data": {
      "text/html": [
       "<pre style=\"white-space:pre;overflow-x:auto;line-height:normal;font-family:Menlo,'DejaVu Sans Mono',consolas,'Courier New',monospace\"><span style=\"color: #7fbfbf\">                    </span><span style=\"color: #800000; font-weight: bold\">ERROR</span>    ! Emergency stop.                        <a href=\"file:///opt/conda/lib/python3.8/site-packages/manim/utils/tex_file_writing.py\"><span style=\"color: #7f7f7f\">tex_file_writing.py</span></a><span style=\"color: #7f7f7f\">:189</span>\n",
       "                                                                                             \n",
       "</pre>\n"
      ],
      "text/plain": [
       "<rich.jupyter.JupyterRenderable at 0x7f0d6b4daaf0>"
      ]
     },
     "metadata": {},
     "output_type": "display_data"
    },
    {
     "data": {
      "text/html": [
       "<pre style=\"white-space:pre;overflow-x:auto;line-height:normal;font-family:Menlo,'DejaVu Sans Mono',consolas,'Courier New',monospace\"><span style=\"color: #7fbfbf\">                    </span><span style=\"color: #800000; font-weight: bold\">ERROR</span>    <span style=\"font-weight: bold\">&lt;</span><span style=\"color: #ff00ff; font-weight: bold\">read</span><span style=\"color: #000000\"> *</span><span style=\"font-weight: bold\">&gt;</span>                                 <a href=\"file:///opt/conda/lib/python3.8/site-packages/manim/utils/tex_file_writing.py\"><span style=\"color: #7f7f7f\">tex_file_writing.py</span></a><span style=\"color: #7f7f7f\">:189</span>\n",
       "                                                                                             \n",
       "</pre>\n"
      ],
      "text/plain": [
       "<rich.jupyter.JupyterRenderable at 0x7f0d6b4dacd0>"
      ]
     },
     "metadata": {},
     "output_type": "display_data"
    },
    {
     "data": {
      "text/html": [
       "<pre style=\"white-space:pre;overflow-x:auto;line-height:normal;font-family:Menlo,'DejaVu Sans Mono',consolas,'Courier New',monospace\"><span style=\"color: #7fbfbf\">                    </span><span style=\"color: #800000; font-weight: bold\">ERROR</span>                                             <a href=\"file:///opt/conda/lib/python3.8/site-packages/manim/utils/tex_file_writing.py\"><span style=\"color: #7f7f7f\">tex_file_writing.py</span></a><span style=\"color: #7f7f7f\">:189</span>\n",
       "                                                                                             \n",
       "</pre>\n"
      ],
      "text/plain": [
       "<rich.jupyter.JupyterRenderable at 0x7f0d6b4da400>"
      ]
     },
     "metadata": {},
     "output_type": "display_data"
    },
    {
     "data": {
      "text/html": [
       "<pre style=\"white-space:pre;overflow-x:auto;line-height:normal;font-family:Menlo,'DejaVu Sans Mono',consolas,'Courier New',monospace\"><span style=\"color: #7fbfbf\">                    </span><span style=\"color: #800000; font-weight: bold\">ERROR</span>    l.<span style=\"color: #008000\">7</span> \\usepackage                          <a href=\"file:///opt/conda/lib/python3.8/site-packages/manim/utils/tex_file_writing.py\"><span style=\"color: #7f7f7f\">tex_file_writing.py</span></a><span style=\"color: #7f7f7f\">:189</span>\n",
       "                                                                                             \n",
       "</pre>\n"
      ],
      "text/plain": [
       "<rich.jupyter.JupyterRenderable at 0x7f0d6b4da460>"
      ]
     },
     "metadata": {},
     "output_type": "display_data"
    },
    {
     "data": {
      "text/html": [
       "<pre style=\"white-space:pre;overflow-x:auto;line-height:normal;font-family:Menlo,'DejaVu Sans Mono',consolas,'Courier New',monospace\"><span style=\"color: #7fbfbf\">                    </span><span style=\"color: #800000; font-weight: bold\">ERROR</span>    ! Emergency stop.                        <a href=\"file:///opt/conda/lib/python3.8/site-packages/manim/utils/tex_file_writing.py\"><span style=\"color: #7f7f7f\">tex_file_writing.py</span></a><span style=\"color: #7f7f7f\">:189</span>\n",
       "                                                                                             \n",
       "</pre>\n"
      ],
      "text/plain": [
       "<rich.jupyter.JupyterRenderable at 0x7f0d6b4da6d0>"
      ]
     },
     "metadata": {},
     "output_type": "display_data"
    },
    {
     "data": {
      "text/html": [
       "<pre style=\"white-space:pre;overflow-x:auto;line-height:normal;font-family:Menlo,'DejaVu Sans Mono',consolas,'Courier New',monospace\"><span style=\"color: #7fbfbf\">                    </span><span style=\"color: #800000; font-weight: bold\">ERROR</span>    <span style=\"font-weight: bold\">&lt;</span><span style=\"color: #ff00ff; font-weight: bold\">read</span><span style=\"color: #000000\"> *</span><span style=\"font-weight: bold\">&gt;</span>                                 <a href=\"file:///opt/conda/lib/python3.8/site-packages/manim/utils/tex_file_writing.py\"><span style=\"color: #7f7f7f\">tex_file_writing.py</span></a><span style=\"color: #7f7f7f\">:189</span>\n",
       "                                                                                             \n",
       "</pre>\n"
      ],
      "text/plain": [
       "<rich.jupyter.JupyterRenderable at 0x7f0d6b4da9d0>"
      ]
     },
     "metadata": {},
     "output_type": "display_data"
    },
    {
     "data": {
      "text/html": [
       "<pre style=\"white-space:pre;overflow-x:auto;line-height:normal;font-family:Menlo,'DejaVu Sans Mono',consolas,'Courier New',monospace\"><span style=\"color: #7fbfbf\">                    </span><span style=\"color: #800000; font-weight: bold\">ERROR</span>                                             <a href=\"file:///opt/conda/lib/python3.8/site-packages/manim/utils/tex_file_writing.py\"><span style=\"color: #7f7f7f\">tex_file_writing.py</span></a><span style=\"color: #7f7f7f\">:189</span>\n",
       "                                                                                             \n",
       "</pre>\n"
      ],
      "text/plain": [
       "<rich.jupyter.JupyterRenderable at 0x7f0d6b4da6a0>"
      ]
     },
     "metadata": {},
     "output_type": "display_data"
    },
    {
     "data": {
      "text/html": [
       "<pre style=\"white-space:pre;overflow-x:auto;line-height:normal;font-family:Menlo,'DejaVu Sans Mono',consolas,'Courier New',monospace\"><span style=\"color: #7fbfbf\">                    </span><span style=\"color: #800000; font-weight: bold\">ERROR</span>    l.<span style=\"color: #008000\">7</span> \\usepackage                          <a href=\"file:///opt/conda/lib/python3.8/site-packages/manim/utils/tex_file_writing.py\"><span style=\"color: #7f7f7f\">tex_file_writing.py</span></a><span style=\"color: #7f7f7f\">:189</span>\n",
       "                                                                                             \n",
       "</pre>\n"
      ],
      "text/plain": [
       "<rich.jupyter.JupyterRenderable at 0x7f0d6b4daa90>"
      ]
     },
     "metadata": {},
     "output_type": "display_data"
    },
    {
     "ename": "ValueError",
     "evalue": "latex error converting to dvi. See log output above or the log file: media/Tex/33bdc51ecdcab2ca.log",
     "output_type": "error",
     "traceback": [
      "\u001b[0;31m---------------------------------------------------------------------------\u001b[0m",
      "\u001b[0;31mValueError\u001b[0m                                Traceback (most recent call last)",
      "\u001b[0;32m<ipython-input-13-c48485516987>\u001b[0m in \u001b[0;36m<module>\u001b[0;34m\u001b[0m\n\u001b[0;32m----> 1\u001b[0;31m \u001b[0mget_ipython\u001b[0m\u001b[0;34m(\u001b[0m\u001b[0;34m)\u001b[0m\u001b[0;34m.\u001b[0m\u001b[0mrun_cell_magic\u001b[0m\u001b[0;34m(\u001b[0m\u001b[0;34m'manim'\u001b[0m\u001b[0;34m,\u001b[0m \u001b[0;34m'-ql MyScene'\u001b[0m\u001b[0;34m,\u001b[0m \u001b[0;34m\"\\ncolors = ['#caf0f8', '#90e0ef', '#00b4d8', '#0096c7']\\n\\nM = np.array([[2, 0.5, 1],[0.5, 1, 1]])\\nW = np.array([[2, 1, 4,1],[0, 2, 1, 0.5],[0.5, 0, 2, 0]])\\n\\nclass MyScene(manim.ThreeDScene):     \\n    def construct(self):\\n        #self.move_camera(distance=90*scale)\\n        #self.set_camera_orientation(phi=50*manim.DEGREES, theta=-60*manim.DEGREES)\\n        self.set_camera_orientation(phi=0, theta=-90*manim.DEGREES)\\n        axes = manim.ThreeDAxes()\\n        self.add(axes)\\n        M_prisms = self.matrix_as_prisms(M)\\n        W_prisims = self.matrix_as_prisms(W)\\n        M_matrix = manim.Matrix(M)\\n        W_matrix = manim.Matrix(W)\\n        #M_matrix.move_to(manim.ORIGIN, aligned_edge=[-1, 1, -1])\\n        #W_matrix.next_to(M_matrix, manim.RIGHT)\\n        matrix_mult_ob = manim.VMobject()\\n        matrix_mult_ob.add(M_matrix, W_matrix)\\n        matrix_mult_ob.arrange()\\n        matrix_mult_ob.move_to(manim.ORIGIN, aligned_edge=[-1, 1, -1])\\n        #self.add(M_matrix, W_matrix)\\n        self.add(matrix_mult_ob)\\n        self.move_camera(frame_center=np.array([10,50,0]))#matrix_mult_ob.get_center())\\n        #self.move_camera(phi=45*manim.DEGREES)\\n        #self.begin_ambient_camera_rotation(rate=0.25)\\n        self.wait(3)\\n        #self.stop_ambient_camera_rotation()\\n        \\n    def matrix_as_prisms(self, matrix, max_opacity=1.0, min_opacity=1.0):\\n        matrix_ob = manim.VMobject()\\n        opacity_step = (max_opacity - min_opacity) / matrix.shape[0]\\n        prisms = []\\n        for r in range(matrix.shape[0]):\\n            #for c in range(matrix.shape[1]):\\n             #   p = manim.Prism([width, depth, matrix[r, c]*scale])\\n             #   p.move_to(c*scale * manim.RIGHT + (r + r * row_spacing) * scale * manim.DOWN)#-0.5*matrix[r,c]*IN)\\n             #   p.align_on_border(manim.IN)\\n             #   p.set_fill(colors[r], opacity=max_opacity - r*opacity_step)\\n             #   p.set_stroke(color='#00000', width=1.0)\\n             #   matrix_ob.add(p)\\n            vec = self.vector_as_prisms(matrix[r], colors[r], opacity=max_opacity - r*opacity_step)\\n            matrix_ob.add(vec)\\n        matrix_ob.arrange(direction=np.array([0,-1,0]), center=False, coor_mask=np.array([0,1,0]))\\n        #matrix_ob.space_out_submobjects(factor=0.1)\\n        return matrix_ob\\n    \\n    def vector_as_prisms(self, vector, color=None, opacity=1.0):\\n        width = depth = 1\\n        vector_ob = manim.VMobject()\\n        prisms = []\\n        i = 0\\n        for val in vector:\\n            p = manim.Prism([width, depth, val])\\n            p.set_fill(color, opacity=opacity)\\n            p.align_on_border(manim.IN)\\n            #p.set_stroke(color='#00000', width=1.0)\\n            #bottom_left_corner = p.get_critical_point([-1,-1,-1])\\n            #p.shift(-val*scale*0.5*np.array([0,0,1]))\\n            #p.shift(np.array([2,0,0])*i)\\n            #i+=1\\n            prisms.append(p)\\n        vector_ob.add(*prisms)\\n        #vector_ob.to_edge(edge=manim.IN)\\n        vector_ob.arrange(direction=manim.X_AXIS, center=False, coor_mask=np.array([1,0,0]))\\n        return vector_ob\\n            \\n                \\n                \\n\"\u001b[0m\u001b[0;34m)\u001b[0m\u001b[0;34m\u001b[0m\u001b[0;34m\u001b[0m\u001b[0m\n\u001b[0m",
      "\u001b[0;32m/opt/conda/lib/python3.8/site-packages/IPython/core/interactiveshell.py\u001b[0m in \u001b[0;36mrun_cell_magic\u001b[0;34m(self, magic_name, line, cell)\u001b[0m\n\u001b[1;32m   2397\u001b[0m             \u001b[0;32mwith\u001b[0m \u001b[0mself\u001b[0m\u001b[0;34m.\u001b[0m\u001b[0mbuiltin_trap\u001b[0m\u001b[0;34m:\u001b[0m\u001b[0;34m\u001b[0m\u001b[0;34m\u001b[0m\u001b[0m\n\u001b[1;32m   2398\u001b[0m                 \u001b[0margs\u001b[0m \u001b[0;34m=\u001b[0m \u001b[0;34m(\u001b[0m\u001b[0mmagic_arg_s\u001b[0m\u001b[0;34m,\u001b[0m \u001b[0mcell\u001b[0m\u001b[0;34m)\u001b[0m\u001b[0;34m\u001b[0m\u001b[0;34m\u001b[0m\u001b[0m\n\u001b[0;32m-> 2399\u001b[0;31m                 \u001b[0mresult\u001b[0m \u001b[0;34m=\u001b[0m \u001b[0mfn\u001b[0m\u001b[0;34m(\u001b[0m\u001b[0;34m*\u001b[0m\u001b[0margs\u001b[0m\u001b[0;34m,\u001b[0m \u001b[0;34m**\u001b[0m\u001b[0mkwargs\u001b[0m\u001b[0;34m)\u001b[0m\u001b[0;34m\u001b[0m\u001b[0;34m\u001b[0m\u001b[0m\n\u001b[0m\u001b[1;32m   2400\u001b[0m             \u001b[0;32mreturn\u001b[0m \u001b[0mresult\u001b[0m\u001b[0;34m\u001b[0m\u001b[0;34m\u001b[0m\u001b[0m\n\u001b[1;32m   2401\u001b[0m \u001b[0;34m\u001b[0m\u001b[0m\n",
      "\u001b[0;32m<decorator-gen-863>\u001b[0m in \u001b[0;36mmanim\u001b[0;34m(self, line, cell, local_ns)\u001b[0m\n",
      "\u001b[0;32m/opt/conda/lib/python3.8/site-packages/IPython/core/magic.py\u001b[0m in \u001b[0;36m<lambda>\u001b[0;34m(f, *a, **k)\u001b[0m\n\u001b[1;32m    185\u001b[0m     \u001b[0;31m# but it's overkill for just that one bit of state.\u001b[0m\u001b[0;34m\u001b[0m\u001b[0;34m\u001b[0m\u001b[0;34m\u001b[0m\u001b[0m\n\u001b[1;32m    186\u001b[0m     \u001b[0;32mdef\u001b[0m \u001b[0mmagic_deco\u001b[0m\u001b[0;34m(\u001b[0m\u001b[0marg\u001b[0m\u001b[0;34m)\u001b[0m\u001b[0;34m:\u001b[0m\u001b[0;34m\u001b[0m\u001b[0;34m\u001b[0m\u001b[0m\n\u001b[0;32m--> 187\u001b[0;31m         \u001b[0mcall\u001b[0m \u001b[0;34m=\u001b[0m \u001b[0;32mlambda\u001b[0m \u001b[0mf\u001b[0m\u001b[0;34m,\u001b[0m \u001b[0;34m*\u001b[0m\u001b[0ma\u001b[0m\u001b[0;34m,\u001b[0m \u001b[0;34m**\u001b[0m\u001b[0mk\u001b[0m\u001b[0;34m:\u001b[0m \u001b[0mf\u001b[0m\u001b[0;34m(\u001b[0m\u001b[0;34m*\u001b[0m\u001b[0ma\u001b[0m\u001b[0;34m,\u001b[0m \u001b[0;34m**\u001b[0m\u001b[0mk\u001b[0m\u001b[0;34m)\u001b[0m\u001b[0;34m\u001b[0m\u001b[0;34m\u001b[0m\u001b[0m\n\u001b[0m\u001b[1;32m    188\u001b[0m \u001b[0;34m\u001b[0m\u001b[0m\n\u001b[1;32m    189\u001b[0m         \u001b[0;32mif\u001b[0m \u001b[0mcallable\u001b[0m\u001b[0;34m(\u001b[0m\u001b[0marg\u001b[0m\u001b[0;34m)\u001b[0m\u001b[0;34m:\u001b[0m\u001b[0;34m\u001b[0m\u001b[0;34m\u001b[0m\u001b[0m\n",
      "\u001b[0;32m/opt/conda/lib/python3.8/site-packages/manim/utils/ipython_magic.py\u001b[0m in \u001b[0;36mmanim\u001b[0;34m(self, line, cell, local_ns)\u001b[0m\n\u001b[1;32m    107\u001b[0m             \u001b[0;32mwith\u001b[0m \u001b[0mtempconfig\u001b[0m\u001b[0;34m(\u001b[0m\u001b[0mlocal_ns\u001b[0m\u001b[0;34m.\u001b[0m\u001b[0mget\u001b[0m\u001b[0;34m(\u001b[0m\u001b[0;34m\"config\"\u001b[0m\u001b[0;34m,\u001b[0m \u001b[0;34m{\u001b[0m\u001b[0;34m}\u001b[0m\u001b[0;34m)\u001b[0m\u001b[0;34m)\u001b[0m\u001b[0;34m:\u001b[0m\u001b[0;34m\u001b[0m\u001b[0;34m\u001b[0m\u001b[0m\n\u001b[1;32m    108\u001b[0m                 \u001b[0mconfig\u001b[0m\u001b[0;34m.\u001b[0m\u001b[0mdigest_args\u001b[0m\u001b[0;34m(\u001b[0m\u001b[0margs\u001b[0m\u001b[0;34m)\u001b[0m\u001b[0;34m\u001b[0m\u001b[0;34m\u001b[0m\u001b[0m\n\u001b[0;32m--> 109\u001b[0;31m                 \u001b[0mexec\u001b[0m\u001b[0;34m(\u001b[0m\u001b[0;34mf\"{config['scene_names'][0]}().render()\"\u001b[0m\u001b[0;34m,\u001b[0m \u001b[0mlocal_ns\u001b[0m\u001b[0;34m)\u001b[0m\u001b[0;34m\u001b[0m\u001b[0;34m\u001b[0m\u001b[0m\n\u001b[0m\u001b[1;32m    110\u001b[0m                 \u001b[0mlocal_path\u001b[0m \u001b[0;34m=\u001b[0m \u001b[0mPath\u001b[0m\u001b[0;34m(\u001b[0m\u001b[0mconfig\u001b[0m\u001b[0;34m[\u001b[0m\u001b[0;34m\"output_file\"\u001b[0m\u001b[0;34m]\u001b[0m\u001b[0;34m)\u001b[0m\u001b[0;34m.\u001b[0m\u001b[0mrelative_to\u001b[0m\u001b[0;34m(\u001b[0m\u001b[0mPath\u001b[0m\u001b[0;34m.\u001b[0m\u001b[0mcwd\u001b[0m\u001b[0;34m(\u001b[0m\u001b[0;34m)\u001b[0m\u001b[0;34m)\u001b[0m\u001b[0;34m\u001b[0m\u001b[0;34m\u001b[0m\u001b[0m\n\u001b[1;32m    111\u001b[0m                 tmpfile = (\n",
      "\u001b[0;32m<string>\u001b[0m in \u001b[0;36m<module>\u001b[0;34m\u001b[0m\n",
      "\u001b[0;32m/opt/conda/lib/python3.8/site-packages/manim/scene/scene.py\u001b[0m in \u001b[0;36mrender\u001b[0;34m(self, preview)\u001b[0m\n\u001b[1;32m    197\u001b[0m         \u001b[0mself\u001b[0m\u001b[0;34m.\u001b[0m\u001b[0msetup\u001b[0m\u001b[0;34m(\u001b[0m\u001b[0;34m)\u001b[0m\u001b[0;34m\u001b[0m\u001b[0;34m\u001b[0m\u001b[0m\n\u001b[1;32m    198\u001b[0m         \u001b[0;32mtry\u001b[0m\u001b[0;34m:\u001b[0m\u001b[0;34m\u001b[0m\u001b[0;34m\u001b[0m\u001b[0m\n\u001b[0;32m--> 199\u001b[0;31m             \u001b[0mself\u001b[0m\u001b[0;34m.\u001b[0m\u001b[0mconstruct\u001b[0m\u001b[0;34m(\u001b[0m\u001b[0;34m)\u001b[0m\u001b[0;34m\u001b[0m\u001b[0;34m\u001b[0m\u001b[0m\n\u001b[0m\u001b[1;32m    200\u001b[0m         \u001b[0;32mexcept\u001b[0m \u001b[0mEndSceneEarlyException\u001b[0m\u001b[0;34m:\u001b[0m\u001b[0;34m\u001b[0m\u001b[0;34m\u001b[0m\u001b[0m\n\u001b[1;32m    201\u001b[0m             \u001b[0;32mpass\u001b[0m\u001b[0;34m\u001b[0m\u001b[0;34m\u001b[0m\u001b[0m\n",
      "\u001b[0;32m<string>\u001b[0m in \u001b[0;36mconstruct\u001b[0;34m(self)\u001b[0m\n",
      "\u001b[0;32m/opt/conda/lib/python3.8/site-packages/manim/mobject/matrix.py\u001b[0m in \u001b[0;36m__init__\u001b[0;34m(self, matrix, v_buff, h_buff, bracket_h_buff, bracket_v_buff, add_background_rectangles_to_entries, include_background_rectangle, element_to_mobject, element_to_mobject_config, element_alignment_corner, left_bracket, right_bracket, **kwargs)\u001b[0m\n\u001b[1;32m    128\u001b[0m                 \u001b[0;34mf\"{self.__str__()} class requires a two-dimensional array!\"\u001b[0m\u001b[0;34m\u001b[0m\u001b[0;34m\u001b[0m\u001b[0m\n\u001b[1;32m    129\u001b[0m             )\n\u001b[0;32m--> 130\u001b[0;31m         \u001b[0mmob_matrix\u001b[0m \u001b[0;34m=\u001b[0m \u001b[0mself\u001b[0m\u001b[0;34m.\u001b[0m\u001b[0mmatrix_to_mob_matrix\u001b[0m\u001b[0;34m(\u001b[0m\u001b[0mmatrix\u001b[0m\u001b[0;34m)\u001b[0m\u001b[0;34m\u001b[0m\u001b[0;34m\u001b[0m\u001b[0m\n\u001b[0m\u001b[1;32m    131\u001b[0m         \u001b[0mself\u001b[0m\u001b[0;34m.\u001b[0m\u001b[0morganize_mob_matrix\u001b[0m\u001b[0;34m(\u001b[0m\u001b[0mmob_matrix\u001b[0m\u001b[0;34m)\u001b[0m\u001b[0;34m\u001b[0m\u001b[0;34m\u001b[0m\u001b[0m\n\u001b[1;32m    132\u001b[0m         \u001b[0mself\u001b[0m\u001b[0;34m.\u001b[0m\u001b[0melements\u001b[0m \u001b[0;34m=\u001b[0m \u001b[0mVGroup\u001b[0m\u001b[0;34m(\u001b[0m\u001b[0;34m*\u001b[0m\u001b[0mmob_matrix\u001b[0m\u001b[0;34m.\u001b[0m\u001b[0mflatten\u001b[0m\u001b[0;34m(\u001b[0m\u001b[0;34m)\u001b[0m\u001b[0;34m)\u001b[0m\u001b[0;34m\u001b[0m\u001b[0;34m\u001b[0m\u001b[0m\n",
      "\u001b[0;32m/opt/conda/lib/python3.8/site-packages/manim/mobject/matrix.py\u001b[0m in \u001b[0;36mmatrix_to_mob_matrix\u001b[0;34m(self, matrix)\u001b[0m\n\u001b[1;32m    142\u001b[0m \u001b[0;34m\u001b[0m\u001b[0m\n\u001b[1;32m    143\u001b[0m     \u001b[0;32mdef\u001b[0m \u001b[0mmatrix_to_mob_matrix\u001b[0m\u001b[0;34m(\u001b[0m\u001b[0mself\u001b[0m\u001b[0;34m,\u001b[0m \u001b[0mmatrix\u001b[0m\u001b[0;34m)\u001b[0m\u001b[0;34m:\u001b[0m\u001b[0;34m\u001b[0m\u001b[0;34m\u001b[0m\u001b[0m\n\u001b[0;32m--> 144\u001b[0;31m         return np.vectorize(self.element_to_mobject)(\n\u001b[0m\u001b[1;32m    145\u001b[0m             \u001b[0mmatrix\u001b[0m\u001b[0;34m,\u001b[0m \u001b[0;34m**\u001b[0m\u001b[0mself\u001b[0m\u001b[0;34m.\u001b[0m\u001b[0melement_to_mobject_config\u001b[0m\u001b[0;34m\u001b[0m\u001b[0;34m\u001b[0m\u001b[0m\n\u001b[1;32m    146\u001b[0m         )\n",
      "\u001b[0;32m/opt/conda/lib/python3.8/site-packages/numpy/lib/function_base.py\u001b[0m in \u001b[0;36m__call__\u001b[0;34m(self, *args, **kwargs)\u001b[0m\n\u001b[1;32m   2106\u001b[0m             \u001b[0mvargs\u001b[0m\u001b[0;34m.\u001b[0m\u001b[0mextend\u001b[0m\u001b[0;34m(\u001b[0m\u001b[0;34m[\u001b[0m\u001b[0mkwargs\u001b[0m\u001b[0;34m[\u001b[0m\u001b[0m_n\u001b[0m\u001b[0;34m]\u001b[0m \u001b[0;32mfor\u001b[0m \u001b[0m_n\u001b[0m \u001b[0;32min\u001b[0m \u001b[0mnames\u001b[0m\u001b[0;34m]\u001b[0m\u001b[0;34m)\u001b[0m\u001b[0;34m\u001b[0m\u001b[0;34m\u001b[0m\u001b[0m\n\u001b[1;32m   2107\u001b[0m \u001b[0;34m\u001b[0m\u001b[0m\n\u001b[0;32m-> 2108\u001b[0;31m         \u001b[0;32mreturn\u001b[0m \u001b[0mself\u001b[0m\u001b[0;34m.\u001b[0m\u001b[0m_vectorize_call\u001b[0m\u001b[0;34m(\u001b[0m\u001b[0mfunc\u001b[0m\u001b[0;34m=\u001b[0m\u001b[0mfunc\u001b[0m\u001b[0;34m,\u001b[0m \u001b[0margs\u001b[0m\u001b[0;34m=\u001b[0m\u001b[0mvargs\u001b[0m\u001b[0;34m)\u001b[0m\u001b[0;34m\u001b[0m\u001b[0;34m\u001b[0m\u001b[0m\n\u001b[0m\u001b[1;32m   2109\u001b[0m \u001b[0;34m\u001b[0m\u001b[0m\n\u001b[1;32m   2110\u001b[0m     \u001b[0;32mdef\u001b[0m \u001b[0m_get_ufunc_and_otypes\u001b[0m\u001b[0;34m(\u001b[0m\u001b[0mself\u001b[0m\u001b[0;34m,\u001b[0m \u001b[0mfunc\u001b[0m\u001b[0;34m,\u001b[0m \u001b[0margs\u001b[0m\u001b[0;34m)\u001b[0m\u001b[0;34m:\u001b[0m\u001b[0;34m\u001b[0m\u001b[0;34m\u001b[0m\u001b[0m\n",
      "\u001b[0;32m/opt/conda/lib/python3.8/site-packages/numpy/lib/function_base.py\u001b[0m in \u001b[0;36m_vectorize_call\u001b[0;34m(self, func, args)\u001b[0m\n\u001b[1;32m   2184\u001b[0m             \u001b[0mres\u001b[0m \u001b[0;34m=\u001b[0m \u001b[0mfunc\u001b[0m\u001b[0;34m(\u001b[0m\u001b[0;34m)\u001b[0m\u001b[0;34m\u001b[0m\u001b[0;34m\u001b[0m\u001b[0m\n\u001b[1;32m   2185\u001b[0m         \u001b[0;32melse\u001b[0m\u001b[0;34m:\u001b[0m\u001b[0;34m\u001b[0m\u001b[0;34m\u001b[0m\u001b[0m\n\u001b[0;32m-> 2186\u001b[0;31m             \u001b[0mufunc\u001b[0m\u001b[0;34m,\u001b[0m \u001b[0motypes\u001b[0m \u001b[0;34m=\u001b[0m \u001b[0mself\u001b[0m\u001b[0;34m.\u001b[0m\u001b[0m_get_ufunc_and_otypes\u001b[0m\u001b[0;34m(\u001b[0m\u001b[0mfunc\u001b[0m\u001b[0;34m=\u001b[0m\u001b[0mfunc\u001b[0m\u001b[0;34m,\u001b[0m \u001b[0margs\u001b[0m\u001b[0;34m=\u001b[0m\u001b[0margs\u001b[0m\u001b[0;34m)\u001b[0m\u001b[0;34m\u001b[0m\u001b[0;34m\u001b[0m\u001b[0m\n\u001b[0m\u001b[1;32m   2187\u001b[0m \u001b[0;34m\u001b[0m\u001b[0m\n\u001b[1;32m   2188\u001b[0m             \u001b[0;31m# Convert args to object arrays first\u001b[0m\u001b[0;34m\u001b[0m\u001b[0;34m\u001b[0m\u001b[0;34m\u001b[0m\u001b[0m\n",
      "\u001b[0;32m/opt/conda/lib/python3.8/site-packages/numpy/lib/function_base.py\u001b[0m in \u001b[0;36m_get_ufunc_and_otypes\u001b[0;34m(self, func, args)\u001b[0m\n\u001b[1;32m   2144\u001b[0m \u001b[0;34m\u001b[0m\u001b[0m\n\u001b[1;32m   2145\u001b[0m             \u001b[0minputs\u001b[0m \u001b[0;34m=\u001b[0m \u001b[0;34m[\u001b[0m\u001b[0marg\u001b[0m\u001b[0;34m.\u001b[0m\u001b[0mflat\u001b[0m\u001b[0;34m[\u001b[0m\u001b[0;36m0\u001b[0m\u001b[0;34m]\u001b[0m \u001b[0;32mfor\u001b[0m \u001b[0marg\u001b[0m \u001b[0;32min\u001b[0m \u001b[0margs\u001b[0m\u001b[0;34m]\u001b[0m\u001b[0;34m\u001b[0m\u001b[0;34m\u001b[0m\u001b[0m\n\u001b[0;32m-> 2146\u001b[0;31m             \u001b[0moutputs\u001b[0m \u001b[0;34m=\u001b[0m \u001b[0mfunc\u001b[0m\u001b[0;34m(\u001b[0m\u001b[0;34m*\u001b[0m\u001b[0minputs\u001b[0m\u001b[0;34m)\u001b[0m\u001b[0;34m\u001b[0m\u001b[0;34m\u001b[0m\u001b[0m\n\u001b[0m\u001b[1;32m   2147\u001b[0m \u001b[0;34m\u001b[0m\u001b[0m\n\u001b[1;32m   2148\u001b[0m             \u001b[0;31m# Performance note: profiling indicates that -- for simple\u001b[0m\u001b[0;34m\u001b[0m\u001b[0;34m\u001b[0m\u001b[0;34m\u001b[0m\u001b[0m\n",
      "\u001b[0;32m/opt/conda/lib/python3.8/site-packages/manim/mobject/svg/tex_mobject.py\u001b[0m in \u001b[0;36m__init__\u001b[0;34m(self, arg_separator, substrings_to_isolate, tex_to_color_map, tex_environment, *tex_strings, **kwargs)\u001b[0m\n\u001b[1;32m    446\u001b[0m                     )\n\u001b[1;32m    447\u001b[0m                 )\n\u001b[0;32m--> 448\u001b[0;31m             \u001b[0;32mraise\u001b[0m \u001b[0mcompilation_error\u001b[0m\u001b[0;34m\u001b[0m\u001b[0;34m\u001b[0m\u001b[0m\n\u001b[0m\u001b[1;32m    449\u001b[0m         \u001b[0mself\u001b[0m\u001b[0;34m.\u001b[0m\u001b[0mset_color_by_tex_to_color_map\u001b[0m\u001b[0;34m(\u001b[0m\u001b[0mself\u001b[0m\u001b[0;34m.\u001b[0m\u001b[0mtex_to_color_map\u001b[0m\u001b[0;34m)\u001b[0m\u001b[0;34m\u001b[0m\u001b[0;34m\u001b[0m\u001b[0m\n\u001b[1;32m    450\u001b[0m \u001b[0;34m\u001b[0m\u001b[0m\n",
      "\u001b[0;32m/opt/conda/lib/python3.8/site-packages/manim/mobject/svg/tex_mobject.py\u001b[0m in \u001b[0;36m__init__\u001b[0;34m(self, arg_separator, substrings_to_isolate, tex_to_color_map, tex_environment, *tex_strings, **kwargs)\u001b[0m\n\u001b[1;32m    424\u001b[0m         \u001b[0mself\u001b[0m\u001b[0;34m.\u001b[0m\u001b[0mtex_strings\u001b[0m \u001b[0;34m=\u001b[0m \u001b[0mtex_strings\u001b[0m\u001b[0;34m\u001b[0m\u001b[0;34m\u001b[0m\u001b[0m\n\u001b[1;32m    425\u001b[0m         \u001b[0;32mtry\u001b[0m\u001b[0;34m:\u001b[0m\u001b[0;34m\u001b[0m\u001b[0;34m\u001b[0m\u001b[0m\n\u001b[0;32m--> 426\u001b[0;31m             SingleStringMathTex.__init__(\n\u001b[0m\u001b[1;32m    427\u001b[0m                 \u001b[0mself\u001b[0m\u001b[0;34m,\u001b[0m\u001b[0;34m\u001b[0m\u001b[0;34m\u001b[0m\u001b[0m\n\u001b[1;32m    428\u001b[0m                 \u001b[0mself\u001b[0m\u001b[0;34m.\u001b[0m\u001b[0marg_separator\u001b[0m\u001b[0;34m.\u001b[0m\u001b[0mjoin\u001b[0m\u001b[0;34m(\u001b[0m\u001b[0mtex_strings\u001b[0m\u001b[0;34m)\u001b[0m\u001b[0;34m,\u001b[0m\u001b[0;34m\u001b[0m\u001b[0;34m\u001b[0m\u001b[0m\n",
      "\u001b[0;32m/opt/conda/lib/python3.8/site-packages/manim/mobject/svg/tex_mobject.py\u001b[0m in \u001b[0;36m__init__\u001b[0;34m(self, tex_string, stroke_width, fill_opacity, background_stroke_width, background_stroke_color, should_center, height, organize_left_to_right, tex_environment, tex_template, **kwargs)\u001b[0m\n\u001b[1;32m    257\u001b[0m         \u001b[0;32massert\u001b[0m \u001b[0misinstance\u001b[0m\u001b[0;34m(\u001b[0m\u001b[0mtex_string\u001b[0m\u001b[0;34m,\u001b[0m \u001b[0mstr\u001b[0m\u001b[0;34m)\u001b[0m\u001b[0;34m\u001b[0m\u001b[0;34m\u001b[0m\u001b[0m\n\u001b[1;32m    258\u001b[0m         \u001b[0mself\u001b[0m\u001b[0;34m.\u001b[0m\u001b[0mtex_string\u001b[0m \u001b[0;34m=\u001b[0m \u001b[0mtex_string\u001b[0m\u001b[0;34m\u001b[0m\u001b[0;34m\u001b[0m\u001b[0m\n\u001b[0;32m--> 259\u001b[0;31m         file_name = tex_to_svg_file(\n\u001b[0m\u001b[1;32m    260\u001b[0m             \u001b[0mself\u001b[0m\u001b[0;34m.\u001b[0m\u001b[0mget_modified_expression\u001b[0m\u001b[0;34m(\u001b[0m\u001b[0mtex_string\u001b[0m\u001b[0;34m)\u001b[0m\u001b[0;34m,\u001b[0m\u001b[0;34m\u001b[0m\u001b[0;34m\u001b[0m\u001b[0m\n\u001b[1;32m    261\u001b[0m             \u001b[0menvironment\u001b[0m\u001b[0;34m=\u001b[0m\u001b[0mself\u001b[0m\u001b[0;34m.\u001b[0m\u001b[0mtex_environment\u001b[0m\u001b[0;34m,\u001b[0m\u001b[0;34m\u001b[0m\u001b[0;34m\u001b[0m\u001b[0m\n",
      "\u001b[0;32m/opt/conda/lib/python3.8/site-packages/manim/utils/tex_file_writing.py\u001b[0m in \u001b[0;36mtex_to_svg_file\u001b[0;34m(expression, environment, tex_template)\u001b[0m\n\u001b[1;32m     42\u001b[0m         \u001b[0mtex_template\u001b[0m \u001b[0;34m=\u001b[0m \u001b[0mconfig\u001b[0m\u001b[0;34m[\u001b[0m\u001b[0;34m\"tex_template\"\u001b[0m\u001b[0;34m]\u001b[0m\u001b[0;34m\u001b[0m\u001b[0;34m\u001b[0m\u001b[0m\n\u001b[1;32m     43\u001b[0m     \u001b[0mtex_file\u001b[0m \u001b[0;34m=\u001b[0m \u001b[0mgenerate_tex_file\u001b[0m\u001b[0;34m(\u001b[0m\u001b[0mexpression\u001b[0m\u001b[0;34m,\u001b[0m \u001b[0menvironment\u001b[0m\u001b[0;34m,\u001b[0m \u001b[0mtex_template\u001b[0m\u001b[0;34m)\u001b[0m\u001b[0;34m\u001b[0m\u001b[0;34m\u001b[0m\u001b[0m\n\u001b[0;32m---> 44\u001b[0;31m     dvi_file = compile_tex(\n\u001b[0m\u001b[1;32m     45\u001b[0m         \u001b[0mtex_file\u001b[0m\u001b[0;34m,\u001b[0m \u001b[0mtex_template\u001b[0m\u001b[0;34m.\u001b[0m\u001b[0mtex_compiler\u001b[0m\u001b[0;34m,\u001b[0m \u001b[0mtex_template\u001b[0m\u001b[0;34m.\u001b[0m\u001b[0moutput_format\u001b[0m\u001b[0;34m\u001b[0m\u001b[0;34m\u001b[0m\u001b[0m\n\u001b[1;32m     46\u001b[0m     )\n",
      "\u001b[0;32m/opt/conda/lib/python3.8/site-packages/manim/utils/tex_file_writing.py\u001b[0m in \u001b[0;36mcompile_tex\u001b[0;34m(tex_file, tex_compiler, output_format)\u001b[0m\n\u001b[1;32m    189\u001b[0m                             \u001b[0mlogger\u001b[0m\u001b[0;34m.\u001b[0m\u001b[0merror\u001b[0m\u001b[0;34m(\u001b[0m\u001b[0mline\u001b[0m\u001b[0;34m)\u001b[0m\u001b[0;34m\u001b[0m\u001b[0;34m\u001b[0m\u001b[0m\n\u001b[1;32m    190\u001b[0m \u001b[0;34m\u001b[0m\u001b[0m\n\u001b[0;32m--> 191\u001b[0;31m             raise ValueError(\n\u001b[0m\u001b[1;32m    192\u001b[0m                 \u001b[0;34mf\"{tex_compiler} error converting to\"\u001b[0m\u001b[0;34m\u001b[0m\u001b[0;34m\u001b[0m\u001b[0m\n\u001b[1;32m    193\u001b[0m                 \u001b[0;34mf\" {output_format[1:]}. See log output above or\"\u001b[0m\u001b[0;34m\u001b[0m\u001b[0;34m\u001b[0m\u001b[0m\n",
      "\u001b[0;31mValueError\u001b[0m: latex error converting to dvi. See log output above or the log file: media/Tex/33bdc51ecdcab2ca.log"
     ]
    }
   ],
   "source": [
    "%%manim -ql MyScene\n",
    "\n",
    "colors = ['#caf0f8', '#90e0ef', '#00b4d8', '#0096c7']\n",
    "\n",
    "M = np.array([[2, 0.5, 1],[0.5, 1, 1]])\n",
    "W = np.array([[2, 1, 4,1],[0, 2, 1, 0.5],[0.5, 0, 2, 0]])\n",
    "\n",
    "class MyScene(manim.ThreeDScene):     \n",
    "    def construct(self):\n",
    "        #self.move_camera(distance=90*scale)\n",
    "        #self.set_camera_orientation(phi=50*manim.DEGREES, theta=-60*manim.DEGREES)\n",
    "        self.set_camera_orientation(phi=0, theta=-90*manim.DEGREES)\n",
    "        axes = manim.ThreeDAxes()\n",
    "        self.add(axes)\n",
    "        M_prisms = self.matrix_as_prisms(M)\n",
    "        W_prisims = self.matrix_as_prisms(W)\n",
    "        M_matrix = manim.Matrix(M)\n",
    "        W_matrix = manim.Matrix(W)\n",
    "        #M_matrix.move_to(manim.ORIGIN, aligned_edge=[-1, 1, -1])\n",
    "        #W_matrix.next_to(M_matrix, manim.RIGHT)\n",
    "        matrix_mult_ob = manim.VMobject()\n",
    "        matrix_mult_ob.add(M_matrix, W_matrix)\n",
    "        matrix_mult_ob.arrange()\n",
    "        matrix_mult_ob.move_to(manim.ORIGIN, aligned_edge=[-1, 1, -1])\n",
    "        #self.add(M_matrix, W_matrix)\n",
    "        self.add(matrix_mult_ob)\n",
    "        self.move_camera(frame_center=np.array([10,50,0]))#matrix_mult_ob.get_center())\n",
    "        #self.move_camera(phi=45*manim.DEGREES)\n",
    "        #self.begin_ambient_camera_rotation(rate=0.25)\n",
    "        self.wait(3)\n",
    "        #self.stop_ambient_camera_rotation()\n",
    "        \n",
    "    def matrix_as_prisms(self, matrix, max_opacity=1.0, min_opacity=1.0):\n",
    "        matrix_ob = manim.VMobject()\n",
    "        opacity_step = (max_opacity - min_opacity) / matrix.shape[0]\n",
    "        prisms = []\n",
    "        for r in range(matrix.shape[0]):\n",
    "            #for c in range(matrix.shape[1]):\n",
    "             #   p = manim.Prism([width, depth, matrix[r, c]*scale])\n",
    "             #   p.move_to(c*scale * manim.RIGHT + (r + r * row_spacing) * scale * manim.DOWN)#-0.5*matrix[r,c]*IN)\n",
    "             #   p.align_on_border(manim.IN)\n",
    "             #   p.set_fill(colors[r], opacity=max_opacity - r*opacity_step)\n",
    "             #   p.set_stroke(color='#00000', width=1.0)\n",
    "             #   matrix_ob.add(p)\n",
    "            vec = self.vector_as_prisms(matrix[r], colors[r], opacity=max_opacity - r*opacity_step)\n",
    "            matrix_ob.add(vec)\n",
    "        matrix_ob.arrange(direction=np.array([0,-1,0]), center=False, coor_mask=np.array([0,1,0]))\n",
    "        #matrix_ob.space_out_submobjects(factor=0.1)\n",
    "        return matrix_ob\n",
    "    \n",
    "    def vector_as_prisms(self, vector, color=None, opacity=1.0):\n",
    "        width = depth = 1\n",
    "        vector_ob = manim.VMobject()\n",
    "        prisms = []\n",
    "        i = 0\n",
    "        for val in vector:\n",
    "            p = manim.Prism([width, depth, val])\n",
    "            p.set_fill(color, opacity=opacity)\n",
    "            p.align_on_border(manim.IN)\n",
    "            #p.set_stroke(color='#00000', width=1.0)\n",
    "            #bottom_left_corner = p.get_critical_point([-1,-1,-1])\n",
    "            #p.shift(-val*scale*0.5*np.array([0,0,1]))\n",
    "            #p.shift(np.array([2,0,0])*i)\n",
    "            #i+=1\n",
    "            prisms.append(p)\n",
    "        vector_ob.add(*prisms)\n",
    "        #vector_ob.to_edge(edge=manim.IN)\n",
    "        vector_ob.arrange(direction=manim.X_AXIS, center=False, coor_mask=np.array([1,0,0]))\n",
    "        return vector_ob\n",
    "            \n",
    "                \n",
    "                \n"
   ]
  },
  {
   "cell_type": "code",
   "execution_count": 14,
   "id": "7aa36a4e-4533-45b1-99db-b2082be8bfc6",
   "metadata": {},
   "outputs": [],
   "source": [
    "# Graveyard\n",
    "\n",
    "\n",
    "\n",
    "class CombiningColumns3(manim.Scene):\n",
    "    def construct(self): \n",
    "        vecs = [create_2d_vec(num_input_boxes, manim.Y_AXIS, colors[i]) for i in range(len(mix))]\n",
    "        vec_identifiers = ['X0', 'X1', 'X2', 'Y']\n",
    "        factor_identifiers = ['f0', 'f1', 'f2']\n",
    "        all_identifiers = vec_identifiers + factor_identifiers + ['=']\n",
    "        \n",
    "        def repl(eq1, tex, obj):\n",
    "            idx = eq1.index_of_part_by_tex(tex)\n",
    "            repl = eq1[idx].become(obj.move_to(eq1[idx]))\n",
    "            return repl\n",
    "        \n",
    "        #def repl(obj1, )\n",
    "\n",
    "        def create_eqs():\n",
    "            # eq1\n",
    "            eq1 = manim.MathTex(r'X0 \\times f0 + X1 \\times f1 + X2 \\times f2 = Y', color=font_color,\n",
    "                                 substrings_to_isolate=all_identifiers)  \n",
    "            eq1_by_index = {k:eq1.index_of_part_by_tex(k) for k in ['X0', 'X1', 'X2', 'f0', 'f1', 'f2', 'Y']}\n",
    "            eq1_by_obj = {k:eq1.get_part_by_tex(k) for k in ['X0', 'X1', 'X2', 'f0', 'f1', 'f2', 'Y']}\n",
    "            x0, x1, x2 = (create_2d_vec(num_input_boxes, manim.Y_AXIS, colors[i]) for i in range(len(mix)))\n",
    "            f0, f1, f2 = (manim.Integer(i, color=font_color) for i in mix)\n",
    "            #f0, f1, f2 = (i for i in mix)\n",
    "            y = create_2d_vec(num_input_boxes,manim.Y_AXIS, result_color)\n",
    "            #xx = manim.MobjectMatrix([[x0.copy(), x1.copy(), x2.copy()]])\n",
    "            xx = manim.Matrix([['X0', 'X1', 'X2']])\n",
    "            ff = manim.IntegerMatrix([[0], [1], [2]])\n",
    "            print(manim.matrix_to_tex_string([[0,1, 2]]))\n",
    "            #yy = manim.MobjectMatrix(np.array([[y.copy()]]))  \n",
    "            xx.get_mob_matrix()[0,0].become(x0.copy().move_to(xx.get_mob_matrix()[0, 0]))\n",
    "            xx.get_mob_matrix()[0,1].become(x1.copy().move_to(xx.get_mob_matrix()[0, 1]))\n",
    "            xx.get_mob_matrix()[0,2].become(x2.copy().move_to(xx.get_mob_matrix()[0, 2]))\n",
    "            \n",
    "            repl(eq1, 'X0', x0)\n",
    "            repl(eq1, 'X1', x1)\n",
    "            repl(eq1, 'X2', x2)\n",
    "            repl(eq1, 'f0', f0)\n",
    "            repl(eq1, 'f1', f1)\n",
    "            repl(eq1, 'f2', f2)\n",
    "            repl(eq1, 'Y', y)\n",
    "            #eq1_by_obj['X1'].become(x1)\n",
    "            #eq1_by_obj['X2'].become(x2)\n",
    "            #eq1_by_obj['f0'].become(f0)\n",
    "            #eq1_by_obj['f1'].become(f1)\n",
    "            #eq1_by_obj['f2'].become(f2)\n",
    "            #eq1_by_obj['Y'].become(y)\n",
    "            # eq2\n",
    "\n",
    "            replacements = []\n",
    "            #replacements = [(x0, m[0,0]), (x1, m[0, 1]), (x2, m[0, 1]),\n",
    "            #                (f0, ff[0, 0]), (f1, m[1, 0]), (f2, m[2, 0]), (y, yy[0, 0])]\n",
    "            eq2 = manim.Tex('XX ff = YY', color=font_color, substrings_to_isolate=['XX', 'YY', 'ff'])\n",
    "            eq2.get_part_by_tex('XX').become(xx)\n",
    "            #eq2.get_part_by_tex('ff').become(ff)\n",
    "            #eq2.get_part_by_tex('yy').become(yy)\n",
    "            return eq1, eq2, replacements\n",
    "        eq1, eq2, replacements = create_eqs()\n",
    "        #eq2.shift([0, -2, 0])\n",
    "        self.add(eq2)\n",
    "        #self.add(eq1)\n",
    "        #self.wait(1)\n",
    "        #self.play(*[manim.ReplacementTransform(eq1[r[0]], eq2[r[1]]) for r in replacements])\n",
    "        #self.play(manim.ReplacementTransform(eq1, eq2))\n",
    "        #self.play(eq1.animate.fade(darkness=1), rate=4.0)\n",
    "\n",
    "class CombiningColumns2(manim.Scene):\n",
    "    def construct(self):\n",
    "        vecs = [create_2d_vec(num_input_boxes, manim.Y_AXIS, colors[i]) for i in range(len(mix))]\n",
    "        vecs.append(create_2d_vec(num_input_boxes,manim.Y_AXIS, result_color))\n",
    "        #          0     \n",
    "        #         X0 xf0 + X1 xf1 X2 xf2 = Y\n",
    "        #         [X0 & X1 & X2][f1 \\\\ f2 \\\\ f3] = [Y]\n",
    "        vec_identifiers = ['X0', 'X1', 'X2', 'Y']\n",
    "        factor_identifiers = ['f0', 'f1', 'f2']\n",
    "        all_identifiers = vec_identifiers + factor_identifiers + ['=']\n",
    "        eq1 = manim.MathTex('X0',       #0\n",
    "                            '\\\\times',  #1\n",
    "                            'f0',       #2\n",
    "                            '+',        #3\n",
    "                            'X1',       #4\n",
    "                            '\\\\times',  #5\n",
    "                            'f1',       #6\n",
    "                            '+',        #7\n",
    "                            'X2',       #8\n",
    "                            '\\\\times',  #9\n",
    "                            'f2',       #10\n",
    "                            '=',        #11\n",
    "                            'Y',        #12\n",
    "                            color=font_color, substrings_to_isolate=all_identifiers)\n",
    "        eq2 = manim.MathTex('\\\\left[',  #0\n",
    "                            'X0',       #1\n",
    "                            'X1',       #2\n",
    "                            'X2',       #3\n",
    "                            '\\\\right]', #4\n",
    "                            '=',        #5\n",
    "                            '\\\\left[',  #6\n",
    "                            'Y',        #7\n",
    "                            '\\\\right]', #8\n",
    "                            color=font_color,\n",
    "                           substrings_to_isolate=vec_identifiers) \n",
    "        #changes = [(0, 2, 4, 6, 8, 10, 12),\n",
    "        #           (1, , 3,)]        \n",
    "        eq1 = manim.MathTex(r'X0 \\times f0 + X1 \\times f1 + X2 \\times f2 = Y', color=font_color,\n",
    "                           substrings_to_isolate=all_identifiers)\n",
    "        eq2 = manim.MathTex(\n",
    "                        r'\\left[ X0 X1 X2 \\right] \\big[ f0  f1 f2 \\big] = \\left[ Y \\right]',\n",
    "                        #'\\\\left[ \\\\begin{array}{ccc}X0 & X1 & X2\\\\end{array} \\\\right] f0 f1 f0 Y',\n",
    "                        #r'\\left[ X0  X1  X2  \\right] \\big[ f0  f1 f2 \\big] = \\left[ Y \\right]',\n",
    "                        #r'\\left[ X0 X1 X2 \\right] \\begin{bmatrix} f0 \\\\ f1 \\\\ f2 \\end{bmatrix} = \\left[ Y \\right]',\n",
    "                        color=font_color, substrings_to_isolate=all_identifiers)\n",
    "        eq2.shift([0, -2, 0])\n",
    "        replacements = []\n",
    "        # Insert column vectors\n",
    "        for i in range(len(vecs)):\n",
    "            idx1 = eq1.index_of_part_by_tex(vec_identifiers[i])\n",
    "            idx2 = eq2.index_of_part_by_tex(vec_identifiers[i])\n",
    "            replacements.append((idx1, idx2))\n",
    "            cp1 = vecs[i].copy()\n",
    "            cp2 = vecs[i].copy()\n",
    "            cp1.move_to(eq1[idx1])\n",
    "            cp2.move_to(eq2[idx2])\n",
    "            eq1[idx1].become(cp1)\n",
    "            eq2[idx2].become(cp2) \n",
    "        for f in factor_identifiers + ['=']:\n",
    "            idx1 = eq1.index_of_part_by_tex(f)\n",
    "            idx2 = eq2.index_of_part_by_tex(f)\n",
    "            replacements.append((idx1, idx2)) \n",
    "        #self.add(eq2)\n",
    "        self.add(eq1)\n",
    "        #self.play(manim.Write(eq1))\n",
    "        self.wait(1)\n",
    "        eq2cp = eq2.copy()\n",
    "        self.play(*[manim.ReplacementTransform(eq1[r[0]], eq2[r[1]]) for r in replacements])\n",
    "        self.add(eq2cp)\n",
    "        self.wait(1)\n",
    "        #self.play(manim.ReplacementTransform(eq1, eq2))\n",
    "        #self.play(eq1.animate.fade(darkness=1), rate=4.0)\n",
    "        #self.add(eq2)"
   ]
  },
  {
   "cell_type": "code",
   "execution_count": 15,
   "id": "51efca11-7e79-4c0c-956e-918cca2fb807",
   "metadata": {},
   "outputs": [
    {
     "name": "stderr",
     "output_type": "stream",
     "text": [
      "UsageError: Line magic function `%%manim` not found.\n"
     ]
    }
   ],
   "source": [
    "# Testing out MobjectMatrix.\n",
    "%%manim -ql Test\n",
    "\n",
    "class Test(manim.Scene):\n",
    "    def construct(self):\n",
    "        def f1(m):\n",
    "            print(m)\n",
    "            return manim.Circle(m)\n",
    "        def f2(m):\n",
    "            print(m)\n",
    "            return m\n",
    "        circles = [[manim.Circle(1), manim.Circle(2), manim.Circle(3), manim.Circle(4)]]     \n",
    "        circles_np = np.array(circles, dtype=object)\n",
    "        ints = [[1, 2, 3, 4]]\n",
    "        m1 = manim.MobjectMatrix(ints,    element_to_mobject=f1)\n",
    "        # m2 = manim.MobjectMatrix(circles, element_to_mobject=f2)\n",
    "        c = circles_np[0,0]"
   ]
  },
  {
   "cell_type": "code",
   "execution_count": null,
   "id": "68e958fc-91a5-424e-80a3-00b1f9ce89f6",
   "metadata": {},
   "outputs": [],
   "source": []
  },
  {
   "cell_type": "code",
   "execution_count": null,
   "id": "7efda4fa-fdb8-4750-acfe-376573b6cfbc",
   "metadata": {},
   "outputs": [],
   "source": []
  },
  {
   "cell_type": "code",
   "execution_count": null,
   "id": "879dfba0-38b7-4d65-a228-52c2d39715da",
   "metadata": {},
   "outputs": [],
   "source": []
  }
 ],
 "metadata": {
  "kernelspec": {
   "display_name": "Python 3",
   "language": "python",
   "name": "python3"
  },
  "language_info": {
   "codemirror_mode": {
    "name": "ipython",
    "version": 3
   },
   "file_extension": ".py",
   "mimetype": "text/x-python",
   "name": "python",
   "nbconvert_exporter": "python",
   "pygments_lexer": "ipython3",
   "version": "3.8.8"
  }
 },
 "nbformat": 4,
 "nbformat_minor": 5
}
