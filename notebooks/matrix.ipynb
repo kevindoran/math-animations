{
 "cells": [
  {
   "cell_type": "code",
   "execution_count": 6,
   "id": "87fd5ea3-2f56-44f4-82b6-d73d1e52560e",
   "metadata": {},
   "outputs": [],
   "source": [
    "import manim as manim\n",
    "import numpy as np\n",
    "import copy\n",
    "import colormap\n",
    "import palettable"
   ]
  },
  {
   "cell_type": "code",
   "execution_count": 5,
   "id": "081a4b8e-c5c7-4c57-a449-5328c23277c8",
   "metadata": {},
   "outputs": [
    {
     "name": "stdout",
     "output_type": "stream",
     "text": [
      "Usage: manim [OPTIONS] COMMAND [ARGS]...\n",
      "\n",
      "  Animation engine for explanatory math videos\n",
      "\n",
      "Options:\n",
      "  --version  Show version and exit.\n",
      "  --help     Show this message and exit.\n",
      "\n",
      "Commands:\n",
      "  render*  Render SCENE(S) from the input FILE.\n",
      "  cfg      Manages Manim configuration files.\n",
      "  plugins  Manages Manim plugins.\n",
      "\n",
      "  Made with <3 by Manim Community developers.\n"
     ]
    }
   ],
   "source": [
    "%manim --help"
   ]
  },
  {
   "cell_type": "code",
   "execution_count": 35,
   "id": "9551e64c-d0d0-4f2d-8d5f-04dcdca7c2ea",
   "metadata": {},
   "outputs": [],
   "source": [
    "colors = ['#caf0f8', '#90e0ef', '#00b4d8', '#0096c7']\n",
    "# Gradient generated at: https://coolors.co/gradient-palette/83a566-628444?number=7\n",
    "result_colors = ['#caffbf', '#BEF0B0', '#B2E1A1', '#A7D293', '#9BC384', '#8FB475', '#83A566', '#7EA060', '#789A5B', '#739555', '#6D8F4F', '#688A4A'] \n",
    "result_colors = YlGn_9.hex_colors #Deep_20.hex_colors\n",
    "result_colors = [colormap.rgb2hex(*palettable.cartocolors.sequential.Emrld_7.mpl_colormap(n)) for n in np.linspace(0.0, 0.5, 10)]\n",
    "result_color = result_colors[0]\n",
    "\n",
    "use_gradient = True\n",
    "mixes = np.array([[2, 4, 1], [1, 1, 1], [0, 3, 2], [0, 1, 0], [4, 1, 0], [3, 0, 0], [2, 2, 2], [1, 1, 3], [1, 0, 2]])\n",
    "X_in =  np.array([[1, 0, 1, 3], [1, 4, 0, 0], [0, 0, 2, 0]])\n",
    "bg_color = '#f0f0f0'\n",
    "font_color = '#0a0a0a'\n",
    "line_color = '#7b7b7b'\n",
    "scale = 0.5\n",
    "target_point = np.array([1, -5, 0])*scale\n",
    "source_point = np.array([0, 2, 0])\n",
    "num_input_boxes = 4\n",
    "num_inputs = 3\n",
    "mix = [2, 4, 1]\n",
    "publish = True\n",
    "manim.config[\"background_color\"] = bg_color\n",
    "if publish:\n",
    "    manim.config.quality = 'production_quality'\n",
    "    manim.config.pixel_width = 1280\n",
    "    manim.config.pixel_height = 720\n",
    "    manim.config.frame_rate = 60\n",
    "else:\n",
    "    manim.config.quality = 'low_quality'\n",
    "    manim.config.pixel_width = 640\n",
    "    manim.config.pixel_height = 360\n",
    "    manim.config.frame_rate = 60\n"
   ]
  },
  {
   "cell_type": "code",
   "execution_count": 51,
   "id": "4a1c14df-dd97-4cd5-bed7-a465546a02cc",
   "metadata": {},
   "outputs": [
    {
     "data": {
      "text/html": [
       "<pre style=\"white-space:pre;overflow-x:auto;line-height:normal;font-family:Menlo,'DejaVu Sans Mono',consolas,'Courier New',monospace\"><span style=\"color: #7fbfbf\">[05/09/21 04:51:16] </span><span style=\"color: #008000\">INFO</span>     Animation <span style=\"color: #008000\">0</span> : Using cached data <span style=\"font-weight: bold\">(</span>hash :    <a href=\"file:///usr/local/lib/python3.8/site-packages/manim/renderer/cairo_renderer.py\"><span style=\"color: #7f7f7f\">cairo_renderer.py</span></a><span style=\"color: #7f7f7f\">:100</span>\n",
       "                             3740741628_2432241074_2927554823<span style=\"font-weight: bold\">)</span>                               \n",
       "</pre>\n"
      ],
      "text/plain": [
       "<rich.jupyter.JupyterRenderable at 0x7fe150a50970>"
      ]
     },
     "metadata": {},
     "output_type": "display_data"
    },
    {
     "name": "stderr",
     "output_type": "stream",
     "text": [
      "                                                                                                  \r"
     ]
    },
    {
     "data": {
      "text/html": [
       "<pre style=\"white-space:pre;overflow-x:auto;line-height:normal;font-family:Menlo,'DejaVu Sans Mono',consolas,'Courier New',monospace\"><span style=\"color: #7fbfbf\">[05/09/21 04:51:17] </span><span style=\"color: #008000\">INFO</span>     Animation <span style=\"color: #008000\">1</span> : Partial movie file        <a href=\"file:///usr/local/lib/python3.8/site-packages/manim/scene/scene_file_writer.py\"><span style=\"color: #7f7f7f\">scene_file_writer.py</span></a><span style=\"color: #7f7f7f\">:401</span>\n",
       "                             written in <span style=\"font-weight: bold\">{</span><span style=\"color: #008000\">'/manim/notebooks/media/vid</span>                         \n",
       "                             <span style=\"color: #008000\">eos/notebooks/720p60/partial_movie_file</span>                         \n",
       "                             <span style=\"color: #008000\">s/CombiningColumns/332458616_1864906680</span>                         \n",
       "                             <span style=\"color: #008000\">_2894452827.mp4'</span><span style=\"font-weight: bold\">}</span>                                               \n",
       "</pre>\n"
      ],
      "text/plain": [
       "<rich.jupyter.JupyterRenderable at 0x7fe124581bb0>"
      ]
     },
     "metadata": {},
     "output_type": "display_data"
    },
    {
     "data": {
      "text/html": [
       "<pre style=\"white-space:pre;overflow-x:auto;line-height:normal;font-family:Menlo,'DejaVu Sans Mono',consolas,'Courier New',monospace\"><span style=\"color: #7fbfbf\">                    </span><span style=\"color: #008000\">INFO</span>     Animation <span style=\"color: #008000\">2</span> : Partial movie file        <a href=\"file:///usr/local/lib/python3.8/site-packages/manim/scene/scene_file_writer.py\"><span style=\"color: #7f7f7f\">scene_file_writer.py</span></a><span style=\"color: #7f7f7f\">:401</span>\n",
       "                             written in <span style=\"font-weight: bold\">{</span><span style=\"color: #008000\">'/manim/notebooks/media/vid</span>                         \n",
       "                             <span style=\"color: #008000\">eos/notebooks/720p60/partial_movie_file</span>                         \n",
       "                             <span style=\"color: #008000\">s/CombiningColumns/332458616_2432241074</span>                         \n",
       "                             <span style=\"color: #008000\">_3980257583.mp4'</span><span style=\"font-weight: bold\">}</span>                                               \n",
       "</pre>\n"
      ],
      "text/plain": [
       "<rich.jupyter.JupyterRenderable at 0x7fe1245815b0>"
      ]
     },
     "metadata": {},
     "output_type": "display_data"
    },
    {
     "data": {
      "text/html": [
       "<pre style=\"white-space:pre;overflow-x:auto;line-height:normal;font-family:Menlo,'DejaVu Sans Mono',consolas,'Courier New',monospace\"><span style=\"color: #7fbfbf\">                    </span><span style=\"color: #008000\">INFO</span>                                             <a href=\"file:///usr/local/lib/python3.8/site-packages/manim/scene/scene_file_writer.py\"><span style=\"color: #7f7f7f\">scene_file_writer.py</span></a><span style=\"color: #7f7f7f\">:585</span>\n",
       "                             <span style=\"color: #808000; font-weight: bold\">File</span> ready at <span style=\"color: #800080\">/manim/notebooks/media/vi</span>                         \n",
       "                             <span style=\"color: #800080\">deos/notebooks/720p60/</span><span style=\"color: #ff00ff\">combining-columns</span>                         \n",
       "                             <span style=\"color: #ff00ff\">.mp4</span>                                                            \n",
       "                                                                                             \n",
       "</pre>\n"
      ],
      "text/plain": [
       "<rich.jupyter.JupyterRenderable at 0x7fe126574940>"
      ]
     },
     "metadata": {},
     "output_type": "display_data"
    },
    {
     "data": {
      "text/html": [
       "<pre style=\"white-space:pre;overflow-x:auto;line-height:normal;font-family:Menlo,'DejaVu Sans Mono',consolas,'Courier New',monospace\"><span style=\"color: #7fbfbf\">                    </span><span style=\"color: #008000\">INFO</span>     The partial movie directory is full <span style=\"font-weight: bold\">(</span>&gt;  <a href=\"file:///usr/local/lib/python3.8/site-packages/manim/scene/scene_file_writer.py\"><span style=\"color: #7f7f7f\">scene_file_writer.py</span></a><span style=\"color: #7f7f7f\">:563</span>\n",
       "                             <span style=\"color: #008000\">100</span> files<span style=\"font-weight: bold\">)</span>. Therefore, manim has                                \n",
       "                             removed <span style=\"color: #008000\">2</span> file<span style=\"font-weight: bold\">(</span>s<span style=\"font-weight: bold\">)</span> used by it the                                \n",
       "                             longest ago.You can change this                                 \n",
       "                             behaviour by changing max_files_cached                          \n",
       "                             in config.                                                      \n",
       "</pre>\n"
      ],
      "text/plain": [
       "<rich.jupyter.JupyterRenderable at 0x7fe1509f7310>"
      ]
     },
     "metadata": {},
     "output_type": "display_data"
    },
    {
     "data": {
      "text/html": [
       "<pre style=\"white-space:pre;overflow-x:auto;line-height:normal;font-family:Menlo,'DejaVu Sans Mono',consolas,'Courier New',monospace\"><span style=\"color: #7fbfbf\">                    </span><span style=\"color: #008000\">INFO</span>     <span style=\"color: #808000; font-weight: bold\">Rendered</span> CombiningColumns                           <a href=\"file:///usr/local/lib/python3.8/site-packages/manim/scene/scene.py\"><span style=\"color: #7f7f7f\">scene.py</span></a><span style=\"color: #7f7f7f\">:217</span>\n",
       "                             <span style=\"color: #808000; font-weight: bold\">Played</span> <span style=\"color: #008000\">3</span> <span style=\"color: #808000; font-weight: bold\">animations</span>                                             \n",
       "</pre>\n"
      ],
      "text/plain": [
       "<rich.jupyter.JupyterRenderable at 0x7fe14e52da60>"
      ]
     },
     "metadata": {},
     "output_type": "display_data"
    },
    {
     "data": {
      "text/html": [
       "<video src=\"media/jupyter/58b0ab40b1047e0100e5c1c42c0271038446f483.mp4\" controls autoplay loop style=\"max-width: 25vw;\"  >\n",
       "      Your browser does not support the <code>video</code> element.\n",
       "    </video>"
      ],
      "text/plain": [
       "<IPython.core.display.Video object>"
      ]
     },
     "metadata": {},
     "output_type": "display_data"
    }
   ],
   "source": [
    "%%manim -qh -r 1280,720 -o combining-columns.mp4 CombiningColumns\n",
    "\n",
    "#%%manim -qh -r 1280,720 -o linear-column-equation.png CombiningColumns\n",
    "\n",
    "manim.config.quality = 'production_quality'\n",
    "manim.config.pixel_width = 1280\n",
    "manim.config.pixel_height = 720\n",
    "manim.config.frame_rate = 60\n",
    "\n",
    "scale = 0.5\n",
    "\n",
    "   \n",
    "class CombiningColumns(manim.MovingCameraScene):\n",
    "    def __init__(self, *args, **kwargs):\n",
    "        super().__init__(*args, **kwargs)\n",
    "        self.vecs = []\n",
    "        self.res = None\n",
    "        self.factors = []\n",
    "        self.equals = None\n",
    "        self.other_text = [] \n",
    "        \n",
    "    def construct(self):\n",
    "        self.construct_to_matrix_notation()\n",
    "        #self.construct_adding_examples()\n",
    "        \n",
    "    def construct_to_matrix_notation(self):\n",
    "        self.camera.frame_center = manim.ORIGIN - np.array([2.1, 0, 0])        \n",
    "        eq1 = self.eq1()\n",
    "        eq2_target = self.eq2()\n",
    "        animations = self.anims(eq1, eq2_target)\n",
    "        self.add(eq1)\n",
    "        #return # return here for img\n",
    "        self.wait(1)\n",
    "        self.play(*animations)\n",
    "        self.add(eq2_target.obj)\n",
    "        self.remove(*self.other_text)\n",
    "        self.wait(1)\n",
    "        \n",
    "    def construct_adding_examples(self):\n",
    "        self.camera.frame_center = manim.ORIGIN - np.array([-3.5, 0, 0]) \n",
    "        self.camera.frame.scale(1.3)\n",
    "        self.eq1()\n",
    "        eq2 = self.eq2()\n",
    "        self.add(eq2.obj)\n",
    "        self.wait(1)\n",
    "        def create_num_col(v):\n",
    "            return manim.Group(*(manim.Integer(i, color=font_color) for i in v)).arrange(direction=-manim.Y_AXIS)\n",
    "\n",
    "        fs = [eq2.m['F']]\n",
    "        ys = [eq2.m['Y']]\n",
    "        # Without partials, it's easy to accidentally not capture a copy of a variable in a lambda.\n",
    "        import functools\n",
    "        def update_y(prev_y, y):\n",
    "            y.next_to(prev_y)\n",
    "            \n",
    "        ys[0].add_updater(lambda o : o.next_to(eq2.m['lb3']))        \n",
    "        for i in range(1, len(mixes)):          \n",
    "            ys.append(copy.deepcopy(ys[i-1]).next_to(ys[i-1]).set_fill(result_colors[i]))\n",
    "            fs.append(create_num_col(mixes[i]).next_to(fs[i-1]))\n",
    "            ys[i].add_updater(functools.partial(update_y, ys[i-1]))\n",
    "        eq2.m['='].add_updater(lambda o : o.next_to(eq2.m['rb2']))\n",
    "        eq2.m['lb3'].add_updater(lambda o : o.next_to(eq2.m['=']))\n",
    "        current = 0\n",
    "        #eq2.m['rb3'].add_updater(lambda o : o.next_to(ys[current]))\n",
    "        for i in range(1, len(mixes)):\n",
    "            anims = []\n",
    "            # I can't get next_to to work for rb3. So use hacky shift instead.\n",
    "            #self.play(eq2.m['rb3'].animate.next_to(ys[i]))            \n",
    "            self.play(eq2.m['rb2'].animate.next_to(fs[i]),\n",
    "                      eq2.m['rb3'].animate.shift([2.4*scale, 0, 0]))\n",
    "            current = i\n",
    "            anims.append(manim.FadeIn(fs[i]))\n",
    "            anims.append(manim.FadeIn(ys[i]))\n",
    "            self.play(*anims)\n",
    "            self.wait(0.5)\n",
    "        self.wait(1)\n",
    "        \n",
    "        # Part 2.\n",
    "        to_nums_anim = []\n",
    "        to_blocks_anim = []\n",
    "        y = mixes @ X_in\n",
    "        block_num_pairs = list(zip([eq2.m['X0'], eq2.m['X1'], eq2.m['X2']], X_in)) + list(zip(ys, y))\n",
    "        for c,nums in block_num_pairs:\n",
    "            for block, n in zip(reversed(c), nums):\n",
    "                manim_int = manim.Integer(n, color=font_color).move_to(block)\n",
    "                to_nums_anim.append(manim.FadeIn(manim_int))\n",
    "                to_nums_anim.append(manim.FadeOut(block))\n",
    "                to_blocks_anim.append(manim.FadeOut(manim_int))\n",
    "                to_blocks_anim.append(manim.FadeIn(block))\n",
    "        self.play(*to_nums_anim)      \n",
    "        self.wait(1.3)\n",
    "        self.play(*to_blocks_anim)\n",
    "        self.wait(1.3)\n",
    "        self.play(*to_nums_anim)\n",
    "        self.wait(1.3)\n",
    "        self.play(*to_blocks_anim)\n",
    "        self.wait(1)\n",
    "    \n",
    "    def eq2(self):\n",
    "        lb = manim.MathTex(r'\\big[', color=font_color).scale(2).stretch_to_fit_height(self.vecs[0].height + 0.2)\n",
    "        rb = manim.MathTex(r'\\big]', color=font_color).scale(2).stretch_to_fit_height(lb.height)\n",
    "        eq2_map = TargetObject(OrderedDict({\n",
    "                    #manim.IntegerMatrix([[mix[0]], [mix[1]], [mix[2]]]).set_color(font_color),\n",
    "                    'lb1' : lb.copy(),\n",
    "                    'X0'  : copy.deepcopy(self.vecs[0]),\n",
    "                    'X1'  : self.vecs[1].copy(),\n",
    "                    'X2'  : self.vecs[2].copy(),\n",
    "                    'rb1' : rb.copy(),\n",
    "                    'lb2' : lb.copy(),\n",
    "                    'F'   : manim.Group(*(manim.Integer(i, color=font_color) for i in mix)).arrange(direction=-manim.Y_AXIS),\n",
    "                    'rb2' : rb.copy(),             \n",
    "                    '='   : manim.MathTex('=', color=font_color),\n",
    "                    'lb3' : lb.copy(),\n",
    "                    'Y'   : self.res.copy(),\n",
    "                    'rb3' : rb.copy()}),\n",
    "                    draw_exclude={'F', 'X0', 'X1', 'X2', 'Y', '='})\n",
    "        eq2_map.obj.arrange(direction=manim.X_AXIS)\n",
    "        # Maintain position of equals sign.\n",
    "        equality_sign_disp = eq2_map.m['='].get_center() - self.equals.get_center()\n",
    "        eq2_map.obj.shift(-equality_sign_disp)\n",
    "        return eq2_map\n",
    "        \n",
    "        \n",
    "    def anims(self, eq1, eq2_map):\n",
    "        replacements = (\n",
    "            (self.vecs[0],    eq2_map.m['X0']),\n",
    "            (self.vecs[1],    eq2_map.m['X1']),      \n",
    "            (self.vecs[2],    eq2_map.m['X2']), \n",
    "            (self.res,        eq2_map.m['Y']),\n",
    "            (self.factors[0], eq2_map.m['F'][0]),\n",
    "            (self.factors[1], eq2_map.m['F'][1]),\n",
    "            (self.factors[2], eq2_map.m['F'][2]),\n",
    "            (self.equals,     eq2_map.m['='])\n",
    "        )\n",
    "        animations = [*(manim.ReplacementTransform(a, b) for a,b in replacements),\n",
    "                      *(manim.FadeIn(o) for o in eq2_map.elements_to_draw()),\n",
    "                     #manim.FadeIn(eq2_map.obj),\n",
    "                      *(manim.FadeOut(o) for o in self.other_text)]\n",
    "        return animations\n",
    "       \n",
    "    \n",
    "    def eq1(self):\n",
    "        eq = manim.Mobject()\n",
    "        spacing = 4.3 * scale\n",
    "        offsets = np.array([1, 0.3, 0.3, 0.5, 1.15]) * scale\n",
    "        \n",
    "        for i in range(len(mix)):\n",
    "            vec = create_2d_vec(num_input_boxes, manim.Y_AXIS, colors[i])\n",
    "            vec_pos = spacing * (-len(mix) + i) + offsets[0]\n",
    "            vec.move_to([vec_pos, 0, 0])\n",
    "            mult = manim.Tex('$\\\\times$', color=font_color)\n",
    "            mult.next_to(vec, buff=offsets[1])\n",
    "            factor = manim.Tex(f'${mix[i]}$', color=font_color)\n",
    "            factor.next_to(mult, buff=offsets[2])\n",
    "            if(i < len(mix) - 1):\n",
    "                plus = manim.Tex('$+$', color=font_color)\n",
    "                plus.next_to(factor, buff=offsets[3])\n",
    "            self.vecs.append(vec)\n",
    "            self.factors.append(factor)\n",
    "            self.other_text.extend([mult, plus])\n",
    "            eq.add(vec, factor, mult, plus)\n",
    "        self.equals = manim.Tex('=', color=font_color)\n",
    "        self.equals.move_to([0, 0, 0])\n",
    "        self.res = create_2d_vec(num_input_boxes, manim.Y_AXIS, result_color)\n",
    "        self.res.next_to(self.equals, buff=offsets[4])\n",
    "        eq.add(self.equals, self.res)\n",
    "        eq.add(self.equals)\n",
    "        return eq"
   ]
  },
  {
   "cell_type": "code",
   "execution_count": 43,
   "id": "0147b351-b56c-45a1-8d9e-138dd45dac7c",
   "metadata": {},
   "outputs": [
    {
     "data": {
      "text/html": [
       "<pre style=\"white-space:pre;overflow-x:auto;line-height:normal;font-family:Menlo,'DejaVu Sans Mono',consolas,'Courier New',monospace\"><span style=\"color: #7fbfbf\">[05/09/21 04:42:39] </span><span style=\"color: #008000\">INFO</span>     Animation <span style=\"color: #008000\">0</span> : Partial movie file        <a href=\"file:///usr/local/lib/python3.8/site-packages/manim/scene/scene_file_writer.py\"><span style=\"color: #7f7f7f\">scene_file_writer.py</span></a><span style=\"color: #7f7f7f\">:401</span>\n",
       "                             written in <span style=\"font-weight: bold\">{</span><span style=\"color: #008000\">'/manim/notebooks/media/vid</span>                         \n",
       "                             <span style=\"color: #008000\">eos/notebooks/720p60/partial_movie_file</span>                         \n",
       "                             <span style=\"color: #008000\">s/TransitionToNumbers/1513851329_243224</span>                         \n",
       "                             <span style=\"color: #008000\">1074_2610754588.mp4'</span><span style=\"font-weight: bold\">}</span>                                           \n",
       "</pre>\n"
      ],
      "text/plain": [
       "<rich.jupyter.JupyterRenderable at 0x7fe150e02280>"
      ]
     },
     "metadata": {},
     "output_type": "display_data"
    },
    {
     "name": "stderr",
     "output_type": "stream",
     "text": [
      "                                                                                                        \r"
     ]
    },
    {
     "data": {
      "text/html": [
       "<pre style=\"white-space:pre;overflow-x:auto;line-height:normal;font-family:Menlo,'DejaVu Sans Mono',consolas,'Courier New',monospace\"><span style=\"color: #7fbfbf\">[05/09/21 04:42:40] </span><span style=\"color: #008000\">INFO</span>     Animation <span style=\"color: #008000\">1</span> : Partial movie file        <a href=\"file:///usr/local/lib/python3.8/site-packages/manim/scene/scene_file_writer.py\"><span style=\"color: #7f7f7f\">scene_file_writer.py</span></a><span style=\"color: #7f7f7f\">:401</span>\n",
       "                             written in <span style=\"font-weight: bold\">{</span><span style=\"color: #008000\">'/manim/notebooks/media/vid</span>                         \n",
       "                             <span style=\"color: #008000\">eos/notebooks/720p60/partial_movie_file</span>                         \n",
       "                             <span style=\"color: #008000\">s/TransitionToNumbers/1525768966_229016</span>                         \n",
       "                             <span style=\"color: #008000\">6099_401169450.mp4'</span><span style=\"font-weight: bold\">}</span>                                            \n",
       "</pre>\n"
      ],
      "text/plain": [
       "<rich.jupyter.JupyterRenderable at 0x7fe14e590280>"
      ]
     },
     "metadata": {},
     "output_type": "display_data"
    },
    {
     "name": "stderr",
     "output_type": "stream",
     "text": [
      "                                                                                 \r"
     ]
    },
    {
     "data": {
      "text/html": [
       "<pre style=\"white-space:pre;overflow-x:auto;line-height:normal;font-family:Menlo,'DejaVu Sans Mono',consolas,'Courier New',monospace\"><span style=\"color: #7fbfbf\">[05/09/21 04:42:41] </span><span style=\"color: #008000\">INFO</span>     Animation <span style=\"color: #008000\">2</span> : Partial movie file        <a href=\"file:///usr/local/lib/python3.8/site-packages/manim/scene/scene_file_writer.py\"><span style=\"color: #7f7f7f\">scene_file_writer.py</span></a><span style=\"color: #7f7f7f\">:401</span>\n",
       "                             written in <span style=\"font-weight: bold\">{</span><span style=\"color: #008000\">'/manim/notebooks/media/vid</span>                         \n",
       "                             <span style=\"color: #008000\">eos/notebooks/720p60/partial_movie_file</span>                         \n",
       "                             <span style=\"color: #008000\">s/TransitionToNumbers/1525768966_671246</span>                         \n",
       "                             <span style=\"color: #008000\">227_2238971176.mp4'</span><span style=\"font-weight: bold\">}</span>                                            \n",
       "</pre>\n"
      ],
      "text/plain": [
       "<rich.jupyter.JupyterRenderable at 0x7fe14e72c820>"
      ]
     },
     "metadata": {},
     "output_type": "display_data"
    },
    {
     "data": {
      "text/html": [
       "<pre style=\"white-space:pre;overflow-x:auto;line-height:normal;font-family:Menlo,'DejaVu Sans Mono',consolas,'Courier New',monospace\"><span style=\"color: #7fbfbf\">                    </span><span style=\"color: #008000\">INFO</span>     Animation <span style=\"color: #008000\">3</span> : Partial movie file        <a href=\"file:///usr/local/lib/python3.8/site-packages/manim/scene/scene_file_writer.py\"><span style=\"color: #7f7f7f\">scene_file_writer.py</span></a><span style=\"color: #7f7f7f\">:401</span>\n",
       "                             written in <span style=\"font-weight: bold\">{</span><span style=\"color: #008000\">'/manim/notebooks/media/vid</span>                         \n",
       "                             <span style=\"color: #008000\">eos/notebooks/720p60/partial_movie_file</span>                         \n",
       "                             <span style=\"color: #008000\">s/TransitionToNumbers/1525768966_276392</span>                         \n",
       "                             <span style=\"color: #008000\">2376_1884226876.mp4'</span><span style=\"font-weight: bold\">}</span>                                           \n",
       "</pre>\n"
      ],
      "text/plain": [
       "<rich.jupyter.JupyterRenderable at 0x7fe1244eff40>"
      ]
     },
     "metadata": {},
     "output_type": "display_data"
    },
    {
     "name": "stderr",
     "output_type": "stream",
     "text": [
      "                                                                                                       \r"
     ]
    },
    {
     "data": {
      "text/html": [
       "<pre style=\"white-space:pre;overflow-x:auto;line-height:normal;font-family:Menlo,'DejaVu Sans Mono',consolas,'Courier New',monospace\"><span style=\"color: #7fbfbf\">[05/09/21 04:42:42] </span><span style=\"color: #008000\">INFO</span>     Animation <span style=\"color: #008000\">4</span> : Partial movie file        <a href=\"file:///usr/local/lib/python3.8/site-packages/manim/scene/scene_file_writer.py\"><span style=\"color: #7f7f7f\">scene_file_writer.py</span></a><span style=\"color: #7f7f7f\">:401</span>\n",
       "                             written in <span style=\"font-weight: bold\">{</span><span style=\"color: #008000\">'/manim/notebooks/media/vid</span>                         \n",
       "                             <span style=\"color: #008000\">eos/notebooks/720p60/partial_movie_file</span>                         \n",
       "                             <span style=\"color: #008000\">s/TransitionToNumbers/1525768966_383902</span>                         \n",
       "                             <span style=\"color: #008000\">3687_939266692.mp4'</span><span style=\"font-weight: bold\">}</span>                                            \n",
       "</pre>\n"
      ],
      "text/plain": [
       "<rich.jupyter.JupyterRenderable at 0x7fe14e576130>"
      ]
     },
     "metadata": {},
     "output_type": "display_data"
    },
    {
     "name": "stderr",
     "output_type": "stream",
     "text": [
      "                                                                                 \r"
     ]
    },
    {
     "data": {
      "text/html": [
       "<pre style=\"white-space:pre;overflow-x:auto;line-height:normal;font-family:Menlo,'DejaVu Sans Mono',consolas,'Courier New',monospace\"><span style=\"color: #7fbfbf\">[05/09/21 04:42:43] </span><span style=\"color: #008000\">INFO</span>     Animation <span style=\"color: #008000\">5</span> : Partial movie file        <a href=\"file:///usr/local/lib/python3.8/site-packages/manim/scene/scene_file_writer.py\"><span style=\"color: #7f7f7f\">scene_file_writer.py</span></a><span style=\"color: #7f7f7f\">:401</span>\n",
       "                             written in <span style=\"font-weight: bold\">{</span><span style=\"color: #008000\">'/manim/notebooks/media/vid</span>                         \n",
       "                             <span style=\"color: #008000\">eos/notebooks/720p60/partial_movie_file</span>                         \n",
       "                             <span style=\"color: #008000\">s/TransitionToNumbers/1525768966_192787</span>                         \n",
       "                             <span style=\"color: #008000\">2358_3399667534.mp4'</span><span style=\"font-weight: bold\">}</span>                                           \n",
       "</pre>\n"
      ],
      "text/plain": [
       "<rich.jupyter.JupyterRenderable at 0x7fe14e72c1f0>"
      ]
     },
     "metadata": {},
     "output_type": "display_data"
    },
    {
     "data": {
      "text/html": [
       "<pre style=\"white-space:pre;overflow-x:auto;line-height:normal;font-family:Menlo,'DejaVu Sans Mono',consolas,'Courier New',monospace\"><span style=\"color: #7fbfbf\">                    </span><span style=\"color: #008000\">INFO</span>     Animation <span style=\"color: #008000\">6</span> : Partial movie file        <a href=\"file:///usr/local/lib/python3.8/site-packages/manim/scene/scene_file_writer.py\"><span style=\"color: #7f7f7f\">scene_file_writer.py</span></a><span style=\"color: #7f7f7f\">:401</span>\n",
       "                             written in <span style=\"font-weight: bold\">{</span><span style=\"color: #008000\">'/manim/notebooks/media/vid</span>                         \n",
       "                             <span style=\"color: #008000\">eos/notebooks/720p60/partial_movie_file</span>                         \n",
       "                             <span style=\"color: #008000\">s/TransitionToNumbers/1525768966_276392</span>                         \n",
       "                             <span style=\"color: #008000\">2376_2656318045.mp4'</span><span style=\"font-weight: bold\">}</span>                                           \n",
       "</pre>\n"
      ],
      "text/plain": [
       "<rich.jupyter.JupyterRenderable at 0x7fe1510359a0>"
      ]
     },
     "metadata": {},
     "output_type": "display_data"
    },
    {
     "name": "stderr",
     "output_type": "stream",
     "text": [
      "                                                                                                       \r"
     ]
    },
    {
     "data": {
      "text/html": [
       "<pre style=\"white-space:pre;overflow-x:auto;line-height:normal;font-family:Menlo,'DejaVu Sans Mono',consolas,'Courier New',monospace\"><span style=\"color: #7fbfbf\">[05/09/21 04:42:44] </span><span style=\"color: #008000\">INFO</span>     Animation <span style=\"color: #008000\">7</span> : Partial movie file        <a href=\"file:///usr/local/lib/python3.8/site-packages/manim/scene/scene_file_writer.py\"><span style=\"color: #7f7f7f\">scene_file_writer.py</span></a><span style=\"color: #7f7f7f\">:401</span>\n",
       "                             written in <span style=\"font-weight: bold\">{</span><span style=\"color: #008000\">'/manim/notebooks/media/vid</span>                         \n",
       "                             <span style=\"color: #008000\">eos/notebooks/720p60/partial_movie_file</span>                         \n",
       "                             <span style=\"color: #008000\">s/TransitionToNumbers/1525768966_152144</span>                         \n",
       "                             <span style=\"color: #008000\">8116_828790668.mp4'</span><span style=\"font-weight: bold\">}</span>                                            \n",
       "</pre>\n"
      ],
      "text/plain": [
       "<rich.jupyter.JupyterRenderable at 0x7fe14e72c280>"
      ]
     },
     "metadata": {},
     "output_type": "display_data"
    },
    {
     "name": "stderr",
     "output_type": "stream",
     "text": [
      "                                                                                 \r"
     ]
    },
    {
     "data": {
      "text/html": [
       "<pre style=\"white-space:pre;overflow-x:auto;line-height:normal;font-family:Menlo,'DejaVu Sans Mono',consolas,'Courier New',monospace\"><span style=\"color: #7fbfbf\">[05/09/21 04:42:45] </span><span style=\"color: #008000\">INFO</span>     Animation <span style=\"color: #008000\">8</span> : Partial movie file        <a href=\"file:///usr/local/lib/python3.8/site-packages/manim/scene/scene_file_writer.py\"><span style=\"color: #7f7f7f\">scene_file_writer.py</span></a><span style=\"color: #7f7f7f\">:401</span>\n",
       "                             written in <span style=\"font-weight: bold\">{</span><span style=\"color: #008000\">'/manim/notebooks/media/vid</span>                         \n",
       "                             <span style=\"color: #008000\">eos/notebooks/720p60/partial_movie_file</span>                         \n",
       "                             <span style=\"color: #008000\">s/TransitionToNumbers/1525768966_131808</span>                         \n",
       "                             <span style=\"color: #008000\">0053_2124263644.mp4'</span><span style=\"font-weight: bold\">}</span>                                           \n",
       "</pre>\n"
      ],
      "text/plain": [
       "<rich.jupyter.JupyterRenderable at 0x7fe150fc7e50>"
      ]
     },
     "metadata": {},
     "output_type": "display_data"
    },
    {
     "data": {
      "text/html": [
       "<pre style=\"white-space:pre;overflow-x:auto;line-height:normal;font-family:Menlo,'DejaVu Sans Mono',consolas,'Courier New',monospace\"><span style=\"color: #7fbfbf\">[05/09/21 04:42:46] </span><span style=\"color: #008000\">INFO</span>     Animation <span style=\"color: #008000\">9</span> : Partial movie file        <a href=\"file:///usr/local/lib/python3.8/site-packages/manim/scene/scene_file_writer.py\"><span style=\"color: #7f7f7f\">scene_file_writer.py</span></a><span style=\"color: #7f7f7f\">:401</span>\n",
       "                             written in <span style=\"font-weight: bold\">{</span><span style=\"color: #008000\">'/manim/notebooks/media/vid</span>                         \n",
       "                             <span style=\"color: #008000\">eos/notebooks/720p60/partial_movie_file</span>                         \n",
       "                             <span style=\"color: #008000\">s/TransitionToNumbers/1525768966_276392</span>                         \n",
       "                             <span style=\"color: #008000\">2376_2410571951.mp4'</span><span style=\"font-weight: bold\">}</span>                                           \n",
       "</pre>\n"
      ],
      "text/plain": [
       "<rich.jupyter.JupyterRenderable at 0x7fe14e383f70>"
      ]
     },
     "metadata": {},
     "output_type": "display_data"
    },
    {
     "name": "stderr",
     "output_type": "stream",
     "text": [
      "                                                                                                        \r"
     ]
    },
    {
     "data": {
      "text/html": [
       "<pre style=\"white-space:pre;overflow-x:auto;line-height:normal;font-family:Menlo,'DejaVu Sans Mono',consolas,'Courier New',monospace\"><span style=\"color: #7fbfbf\">[05/09/21 04:42:47] </span><span style=\"color: #008000\">INFO</span>     Animation <span style=\"color: #008000\">10</span> : Partial movie file       <a href=\"file:///usr/local/lib/python3.8/site-packages/manim/scene/scene_file_writer.py\"><span style=\"color: #7f7f7f\">scene_file_writer.py</span></a><span style=\"color: #7f7f7f\">:401</span>\n",
       "                             written in <span style=\"font-weight: bold\">{</span><span style=\"color: #008000\">'/manim/notebooks/media/vid</span>                         \n",
       "                             <span style=\"color: #008000\">eos/notebooks/720p60/partial_movie_file</span>                         \n",
       "                             <span style=\"color: #008000\">s/TransitionToNumbers/1525768966_112116</span>                         \n",
       "                             <span style=\"color: #008000\">6258_884959072.mp4'</span><span style=\"font-weight: bold\">}</span>                                            \n",
       "</pre>\n"
      ],
      "text/plain": [
       "<rich.jupyter.JupyterRenderable at 0x7fe14e5903d0>"
      ]
     },
     "metadata": {},
     "output_type": "display_data"
    },
    {
     "name": "stderr",
     "output_type": "stream",
     "text": [
      "                                                                                  \r"
     ]
    },
    {
     "data": {
      "text/html": [
       "<pre style=\"white-space:pre;overflow-x:auto;line-height:normal;font-family:Menlo,'DejaVu Sans Mono',consolas,'Courier New',monospace\"><span style=\"color: #7fbfbf\">[05/09/21 04:42:48] </span><span style=\"color: #008000\">INFO</span>     Animation <span style=\"color: #008000\">11</span> : Partial movie file       <a href=\"file:///usr/local/lib/python3.8/site-packages/manim/scene/scene_file_writer.py\"><span style=\"color: #7f7f7f\">scene_file_writer.py</span></a><span style=\"color: #7f7f7f\">:401</span>\n",
       "                             written in <span style=\"font-weight: bold\">{</span><span style=\"color: #008000\">'/manim/notebooks/media/vid</span>                         \n",
       "                             <span style=\"color: #008000\">eos/notebooks/720p60/partial_movie_file</span>                         \n",
       "                             <span style=\"color: #008000\">s/TransitionToNumbers/1525768966_385909</span>                         \n",
       "                             <span style=\"color: #008000\">1928_3991712203.mp4'</span><span style=\"font-weight: bold\">}</span>                                           \n",
       "</pre>\n"
      ],
      "text/plain": [
       "<rich.jupyter.JupyterRenderable at 0x7fe14e6ae280>"
      ]
     },
     "metadata": {},
     "output_type": "display_data"
    },
    {
     "data": {
      "text/html": [
       "<pre style=\"white-space:pre;overflow-x:auto;line-height:normal;font-family:Menlo,'DejaVu Sans Mono',consolas,'Courier New',monospace\"><span style=\"color: #7fbfbf\">                    </span><span style=\"color: #008000\">INFO</span>     Animation <span style=\"color: #008000\">12</span> : Partial movie file       <a href=\"file:///usr/local/lib/python3.8/site-packages/manim/scene/scene_file_writer.py\"><span style=\"color: #7f7f7f\">scene_file_writer.py</span></a><span style=\"color: #7f7f7f\">:401</span>\n",
       "                             written in <span style=\"font-weight: bold\">{</span><span style=\"color: #008000\">'/manim/notebooks/media/vid</span>                         \n",
       "                             <span style=\"color: #008000\">eos/notebooks/720p60/partial_movie_file</span>                         \n",
       "                             <span style=\"color: #008000\">s/TransitionToNumbers/1525768966_276392</span>                         \n",
       "                             <span style=\"color: #008000\">2376_2822054902.mp4'</span><span style=\"font-weight: bold\">}</span>                                           \n",
       "</pre>\n"
      ],
      "text/plain": [
       "<rich.jupyter.JupyterRenderable at 0x7fe14e6854c0>"
      ]
     },
     "metadata": {},
     "output_type": "display_data"
    },
    {
     "name": "stderr",
     "output_type": "stream",
     "text": [
      "                                                                                                        \r"
     ]
    },
    {
     "data": {
      "text/html": [
       "<pre style=\"white-space:pre;overflow-x:auto;line-height:normal;font-family:Menlo,'DejaVu Sans Mono',consolas,'Courier New',monospace\"><span style=\"color: #7fbfbf\">[05/09/21 04:42:50] </span><span style=\"color: #008000\">INFO</span>     Animation <span style=\"color: #008000\">13</span> : Partial movie file       <a href=\"file:///usr/local/lib/python3.8/site-packages/manim/scene/scene_file_writer.py\"><span style=\"color: #7f7f7f\">scene_file_writer.py</span></a><span style=\"color: #7f7f7f\">:401</span>\n",
       "                             written in <span style=\"font-weight: bold\">{</span><span style=\"color: #008000\">'/manim/notebooks/media/vid</span>                         \n",
       "                             <span style=\"color: #008000\">eos/notebooks/720p60/partial_movie_file</span>                         \n",
       "                             <span style=\"color: #008000\">s/TransitionToNumbers/1525768966_201277</span>                         \n",
       "                             <span style=\"color: #008000\">945_220534935.mp4'</span><span style=\"font-weight: bold\">}</span>                                             \n",
       "</pre>\n"
      ],
      "text/plain": [
       "<rich.jupyter.JupyterRenderable at 0x7fe14e6843a0>"
      ]
     },
     "metadata": {},
     "output_type": "display_data"
    },
    {
     "name": "stderr",
     "output_type": "stream",
     "text": [
      "                                                                                  \r"
     ]
    },
    {
     "data": {
      "text/html": [
       "<pre style=\"white-space:pre;overflow-x:auto;line-height:normal;font-family:Menlo,'DejaVu Sans Mono',consolas,'Courier New',monospace\"><span style=\"color: #7fbfbf\">[05/09/21 04:42:51] </span><span style=\"color: #008000\">INFO</span>     Animation <span style=\"color: #008000\">14</span> : Partial movie file       <a href=\"file:///usr/local/lib/python3.8/site-packages/manim/scene/scene_file_writer.py\"><span style=\"color: #7f7f7f\">scene_file_writer.py</span></a><span style=\"color: #7f7f7f\">:401</span>\n",
       "                             written in <span style=\"font-weight: bold\">{</span><span style=\"color: #008000\">'/manim/notebooks/media/vid</span>                         \n",
       "                             <span style=\"color: #008000\">eos/notebooks/720p60/partial_movie_file</span>                         \n",
       "                             <span style=\"color: #008000\">s/TransitionToNumbers/1525768966_163164</span>                         \n",
       "                             <span style=\"color: #008000\">5013_3925539463.mp4'</span><span style=\"font-weight: bold\">}</span>                                           \n",
       "</pre>\n"
      ],
      "text/plain": [
       "<rich.jupyter.JupyterRenderable at 0x7fe14e4e1550>"
      ]
     },
     "metadata": {},
     "output_type": "display_data"
    },
    {
     "data": {
      "text/html": [
       "<pre style=\"white-space:pre;overflow-x:auto;line-height:normal;font-family:Menlo,'DejaVu Sans Mono',consolas,'Courier New',monospace\"><span style=\"color: #7fbfbf\">                    </span><span style=\"color: #008000\">INFO</span>     Animation <span style=\"color: #008000\">15</span> : Partial movie file       <a href=\"file:///usr/local/lib/python3.8/site-packages/manim/scene/scene_file_writer.py\"><span style=\"color: #7f7f7f\">scene_file_writer.py</span></a><span style=\"color: #7f7f7f\">:401</span>\n",
       "                             written in <span style=\"font-weight: bold\">{</span><span style=\"color: #008000\">'/manim/notebooks/media/vid</span>                         \n",
       "                             <span style=\"color: #008000\">eos/notebooks/720p60/partial_movie_file</span>                         \n",
       "                             <span style=\"color: #008000\">s/TransitionToNumbers/1525768966_276392</span>                         \n",
       "                             <span style=\"color: #008000\">2376_2458345050.mp4'</span><span style=\"font-weight: bold\">}</span>                                           \n",
       "</pre>\n"
      ],
      "text/plain": [
       "<rich.jupyter.JupyterRenderable at 0x7fe150b8af40>"
      ]
     },
     "metadata": {},
     "output_type": "display_data"
    },
    {
     "name": "stderr",
     "output_type": "stream",
     "text": [
      "                                                                                                        \r"
     ]
    },
    {
     "data": {
      "text/html": [
       "<pre style=\"white-space:pre;overflow-x:auto;line-height:normal;font-family:Menlo,'DejaVu Sans Mono',consolas,'Courier New',monospace\"><span style=\"color: #7fbfbf\">[05/09/21 04:42:53] </span><span style=\"color: #008000\">INFO</span>     Animation <span style=\"color: #008000\">16</span> : Partial movie file       <a href=\"file:///usr/local/lib/python3.8/site-packages/manim/scene/scene_file_writer.py\"><span style=\"color: #7f7f7f\">scene_file_writer.py</span></a><span style=\"color: #7f7f7f\">:401</span>\n",
       "                             written in <span style=\"font-weight: bold\">{</span><span style=\"color: #008000\">'/manim/notebooks/media/vid</span>                         \n",
       "                             <span style=\"color: #008000\">eos/notebooks/720p60/partial_movie_file</span>                         \n",
       "                             <span style=\"color: #008000\">s/TransitionToNumbers/1525768966_356690</span>                         \n",
       "                             <span style=\"color: #008000\">0082_3148956220.mp4'</span><span style=\"font-weight: bold\">}</span>                                           \n",
       "</pre>\n"
      ],
      "text/plain": [
       "<rich.jupyter.JupyterRenderable at 0x7fe14e2899d0>"
      ]
     },
     "metadata": {},
     "output_type": "display_data"
    },
    {
     "name": "stderr",
     "output_type": "stream",
     "text": [
      "                                                                                  \r"
     ]
    },
    {
     "data": {
      "text/html": [
       "<pre style=\"white-space:pre;overflow-x:auto;line-height:normal;font-family:Menlo,'DejaVu Sans Mono',consolas,'Courier New',monospace\"><span style=\"color: #7fbfbf\">[05/09/21 04:42:55] </span><span style=\"color: #008000\">INFO</span>     Animation <span style=\"color: #008000\">17</span> : Partial movie file       <a href=\"file:///usr/local/lib/python3.8/site-packages/manim/scene/scene_file_writer.py\"><span style=\"color: #7f7f7f\">scene_file_writer.py</span></a><span style=\"color: #7f7f7f\">:401</span>\n",
       "                             written in <span style=\"font-weight: bold\">{</span><span style=\"color: #008000\">'/manim/notebooks/media/vid</span>                         \n",
       "                             <span style=\"color: #008000\">eos/notebooks/720p60/partial_movie_file</span>                         \n",
       "                             <span style=\"color: #008000\">s/TransitionToNumbers/1525768966_362306</span>                         \n",
       "                             <span style=\"color: #008000\">9014_1563097063.mp4'</span><span style=\"font-weight: bold\">}</span>                                           \n",
       "</pre>\n"
      ],
      "text/plain": [
       "<rich.jupyter.JupyterRenderable at 0x7fe14e117700>"
      ]
     },
     "metadata": {},
     "output_type": "display_data"
    },
    {
     "data": {
      "text/html": [
       "<pre style=\"white-space:pre;overflow-x:auto;line-height:normal;font-family:Menlo,'DejaVu Sans Mono',consolas,'Courier New',monospace\"><span style=\"color: #7fbfbf\">                    </span><span style=\"color: #008000\">INFO</span>     Animation <span style=\"color: #008000\">18</span> : Partial movie file       <a href=\"file:///usr/local/lib/python3.8/site-packages/manim/scene/scene_file_writer.py\"><span style=\"color: #7f7f7f\">scene_file_writer.py</span></a><span style=\"color: #7f7f7f\">:401</span>\n",
       "                             written in <span style=\"font-weight: bold\">{</span><span style=\"color: #008000\">'/manim/notebooks/media/vid</span>                         \n",
       "                             <span style=\"color: #008000\">eos/notebooks/720p60/partial_movie_file</span>                         \n",
       "                             <span style=\"color: #008000\">s/TransitionToNumbers/1525768966_276392</span>                         \n",
       "                             <span style=\"color: #008000\">2376_2127152656.mp4'</span><span style=\"font-weight: bold\">}</span>                                           \n",
       "</pre>\n"
      ],
      "text/plain": [
       "<rich.jupyter.JupyterRenderable at 0x7fe14e281280>"
      ]
     },
     "metadata": {},
     "output_type": "display_data"
    },
    {
     "name": "stderr",
     "output_type": "stream",
     "text": [
      "                                                                                                        \r"
     ]
    },
    {
     "data": {
      "text/html": [
       "<pre style=\"white-space:pre;overflow-x:auto;line-height:normal;font-family:Menlo,'DejaVu Sans Mono',consolas,'Courier New',monospace\"><span style=\"color: #7fbfbf\">[05/09/21 04:42:57] </span><span style=\"color: #008000\">INFO</span>     Animation <span style=\"color: #008000\">19</span> : Partial movie file       <a href=\"file:///usr/local/lib/python3.8/site-packages/manim/scene/scene_file_writer.py\"><span style=\"color: #7f7f7f\">scene_file_writer.py</span></a><span style=\"color: #7f7f7f\">:401</span>\n",
       "                             written in <span style=\"font-weight: bold\">{</span><span style=\"color: #008000\">'/manim/notebooks/media/vid</span>                         \n",
       "                             <span style=\"color: #008000\">eos/notebooks/720p60/partial_movie_file</span>                         \n",
       "                             <span style=\"color: #008000\">s/TransitionToNumbers/1525768966_101018</span>                         \n",
       "                             <span style=\"color: #008000\">8517_3204206750.mp4'</span><span style=\"font-weight: bold\">}</span>                                           \n",
       "</pre>\n"
      ],
      "text/plain": [
       "<rich.jupyter.JupyterRenderable at 0x7fe14e188d90>"
      ]
     },
     "metadata": {},
     "output_type": "display_data"
    },
    {
     "name": "stderr",
     "output_type": "stream",
     "text": [
      "                                                                                  \r"
     ]
    },
    {
     "data": {
      "text/html": [
       "<pre style=\"white-space:pre;overflow-x:auto;line-height:normal;font-family:Menlo,'DejaVu Sans Mono',consolas,'Courier New',monospace\"><span style=\"color: #7fbfbf\">[05/09/21 04:42:59] </span><span style=\"color: #008000\">INFO</span>     Animation <span style=\"color: #008000\">20</span> : Partial movie file       <a href=\"file:///usr/local/lib/python3.8/site-packages/manim/scene/scene_file_writer.py\"><span style=\"color: #7f7f7f\">scene_file_writer.py</span></a><span style=\"color: #7f7f7f\">:401</span>\n",
       "                             written in <span style=\"font-weight: bold\">{</span><span style=\"color: #008000\">'/manim/notebooks/media/vid</span>                         \n",
       "                             <span style=\"color: #008000\">eos/notebooks/720p60/partial_movie_file</span>                         \n",
       "                             <span style=\"color: #008000\">s/TransitionToNumbers/1525768966_399111</span>                         \n",
       "                             <span style=\"color: #008000\">2306_1171300027.mp4'</span><span style=\"font-weight: bold\">}</span>                                           \n",
       "</pre>\n"
      ],
      "text/plain": [
       "<rich.jupyter.JupyterRenderable at 0x7fe1457c8a60>"
      ]
     },
     "metadata": {},
     "output_type": "display_data"
    },
    {
     "data": {
      "text/html": [
       "<pre style=\"white-space:pre;overflow-x:auto;line-height:normal;font-family:Menlo,'DejaVu Sans Mono',consolas,'Courier New',monospace\"><span style=\"color: #7fbfbf\">                    </span><span style=\"color: #008000\">INFO</span>     Animation <span style=\"color: #008000\">21</span> : Partial movie file       <a href=\"file:///usr/local/lib/python3.8/site-packages/manim/scene/scene_file_writer.py\"><span style=\"color: #7f7f7f\">scene_file_writer.py</span></a><span style=\"color: #7f7f7f\">:401</span>\n",
       "                             written in <span style=\"font-weight: bold\">{</span><span style=\"color: #008000\">'/manim/notebooks/media/vid</span>                         \n",
       "                             <span style=\"color: #008000\">eos/notebooks/720p60/partial_movie_file</span>                         \n",
       "                             <span style=\"color: #008000\">s/TransitionToNumbers/1525768966_276392</span>                         \n",
       "                             <span style=\"color: #008000\">2376_2265791802.mp4'</span><span style=\"font-weight: bold\">}</span>                                           \n",
       "</pre>\n"
      ],
      "text/plain": [
       "<rich.jupyter.JupyterRenderable at 0x7fe14e110100>"
      ]
     },
     "metadata": {},
     "output_type": "display_data"
    },
    {
     "name": "stderr",
     "output_type": "stream",
     "text": [
      "                                                                                                        \r"
     ]
    },
    {
     "data": {
      "text/html": [
       "<pre style=\"white-space:pre;overflow-x:auto;line-height:normal;font-family:Menlo,'DejaVu Sans Mono',consolas,'Courier New',monospace\"><span style=\"color: #7fbfbf\">[05/09/21 04:43:01] </span><span style=\"color: #008000\">INFO</span>     Animation <span style=\"color: #008000\">22</span> : Partial movie file       <a href=\"file:///usr/local/lib/python3.8/site-packages/manim/scene/scene_file_writer.py\"><span style=\"color: #7f7f7f\">scene_file_writer.py</span></a><span style=\"color: #7f7f7f\">:401</span>\n",
       "                             written in <span style=\"font-weight: bold\">{</span><span style=\"color: #008000\">'/manim/notebooks/media/vid</span>                         \n",
       "                             <span style=\"color: #008000\">eos/notebooks/720p60/partial_movie_file</span>                         \n",
       "                             <span style=\"color: #008000\">s/TransitionToNumbers/1525768966_331603</span>                         \n",
       "                             <span style=\"color: #008000\">9199_4105367359.mp4'</span><span style=\"font-weight: bold\">}</span>                                           \n",
       "</pre>\n"
      ],
      "text/plain": [
       "<rich.jupyter.JupyterRenderable at 0x7fe14e1171c0>"
      ]
     },
     "metadata": {},
     "output_type": "display_data"
    },
    {
     "name": "stderr",
     "output_type": "stream",
     "text": [
      "                                                                                  \r"
     ]
    },
    {
     "data": {
      "text/html": [
       "<pre style=\"white-space:pre;overflow-x:auto;line-height:normal;font-family:Menlo,'DejaVu Sans Mono',consolas,'Courier New',monospace\"><span style=\"color: #7fbfbf\">[05/09/21 04:43:03] </span><span style=\"color: #008000\">INFO</span>     Animation <span style=\"color: #008000\">23</span> : Partial movie file       <a href=\"file:///usr/local/lib/python3.8/site-packages/manim/scene/scene_file_writer.py\"><span style=\"color: #7f7f7f\">scene_file_writer.py</span></a><span style=\"color: #7f7f7f\">:401</span>\n",
       "                             written in <span style=\"font-weight: bold\">{</span><span style=\"color: #008000\">'/manim/notebooks/media/vid</span>                         \n",
       "                             <span style=\"color: #008000\">eos/notebooks/720p60/partial_movie_file</span>                         \n",
       "                             <span style=\"color: #008000\">s/TransitionToNumbers/1525768966_364674</span>                         \n",
       "                             <span style=\"color: #008000\">5334_3561669373.mp4'</span><span style=\"font-weight: bold\">}</span>                                           \n",
       "</pre>\n"
      ],
      "text/plain": [
       "<rich.jupyter.JupyterRenderable at 0x7fe14e8482e0>"
      ]
     },
     "metadata": {},
     "output_type": "display_data"
    },
    {
     "data": {
      "text/html": [
       "<pre style=\"white-space:pre;overflow-x:auto;line-height:normal;font-family:Menlo,'DejaVu Sans Mono',consolas,'Courier New',monospace\"><span style=\"color: #7fbfbf\">                    </span><span style=\"color: #008000\">INFO</span>     Animation <span style=\"color: #008000\">24</span> : Partial movie file       <a href=\"file:///usr/local/lib/python3.8/site-packages/manim/scene/scene_file_writer.py\"><span style=\"color: #7f7f7f\">scene_file_writer.py</span></a><span style=\"color: #7f7f7f\">:401</span>\n",
       "                             written in <span style=\"font-weight: bold\">{</span><span style=\"color: #008000\">'/manim/notebooks/media/vid</span>                         \n",
       "                             <span style=\"color: #008000\">eos/notebooks/720p60/partial_movie_file</span>                         \n",
       "                             <span style=\"color: #008000\">s/TransitionToNumbers/1525768966_276392</span>                         \n",
       "                             <span style=\"color: #008000\">2376_4090405153.mp4'</span><span style=\"font-weight: bold\">}</span>                                           \n",
       "</pre>\n"
      ],
      "text/plain": [
       "<rich.jupyter.JupyterRenderable at 0x7fe15108b100>"
      ]
     },
     "metadata": {},
     "output_type": "display_data"
    },
    {
     "data": {
      "text/html": [
       "<pre style=\"white-space:pre;overflow-x:auto;line-height:normal;font-family:Menlo,'DejaVu Sans Mono',consolas,'Courier New',monospace\"><span style=\"color: #7fbfbf\">[05/09/21 04:43:04] </span><span style=\"color: #008000\">INFO</span>     Animation <span style=\"color: #008000\">25</span> : Partial movie file       <a href=\"file:///usr/local/lib/python3.8/site-packages/manim/scene/scene_file_writer.py\"><span style=\"color: #7f7f7f\">scene_file_writer.py</span></a><span style=\"color: #7f7f7f\">:401</span>\n",
       "                             written in <span style=\"font-weight: bold\">{</span><span style=\"color: #008000\">'/manim/notebooks/media/vid</span>                         \n",
       "                             <span style=\"color: #008000\">eos/notebooks/720p60/partial_movie_file</span>                         \n",
       "                             <span style=\"color: #008000\">s/TransitionToNumbers/1525768966_243224</span>                         \n",
       "                             <span style=\"color: #008000\">1074_2665417477.mp4'</span><span style=\"font-weight: bold\">}</span>                                           \n",
       "</pre>\n"
      ],
      "text/plain": [
       "<rich.jupyter.JupyterRenderable at 0x7fe150f86e20>"
      ]
     },
     "metadata": {},
     "output_type": "display_data"
    },
    {
     "name": "stderr",
     "output_type": "stream",
     "text": [
      "                                                                                    \r"
     ]
    },
    {
     "data": {
      "text/html": [
       "<pre style=\"white-space:pre;overflow-x:auto;line-height:normal;font-family:Menlo,'DejaVu Sans Mono',consolas,'Courier New',monospace\"><span style=\"color: #7fbfbf\">[05/09/21 04:43:07] </span><span style=\"color: #008000\">INFO</span>     Animation <span style=\"color: #008000\">26</span> : Partial movie file       <a href=\"file:///usr/local/lib/python3.8/site-packages/manim/scene/scene_file_writer.py\"><span style=\"color: #7f7f7f\">scene_file_writer.py</span></a><span style=\"color: #7f7f7f\">:401</span>\n",
       "                             written in <span style=\"font-weight: bold\">{</span><span style=\"color: #008000\">'/manim/notebooks/media/vid</span>                         \n",
       "                             <span style=\"color: #008000\">eos/notebooks/720p60/partial_movie_file</span>                         \n",
       "                             <span style=\"color: #008000\">s/TransitionToNumbers/1525768966_351890</span>                         \n",
       "                             <span style=\"color: #008000\">0097_3619163139.mp4'</span><span style=\"font-weight: bold\">}</span>                                           \n",
       "</pre>\n"
      ],
      "text/plain": [
       "<rich.jupyter.JupyterRenderable at 0x7fe150b58a00>"
      ]
     },
     "metadata": {},
     "output_type": "display_data"
    },
    {
     "data": {
      "text/html": [
       "<pre style=\"white-space:pre;overflow-x:auto;line-height:normal;font-family:Menlo,'DejaVu Sans Mono',consolas,'Courier New',monospace\"><span style=\"color: #7fbfbf\">[05/09/21 04:43:08] </span><span style=\"color: #008000\">INFO</span>     Animation <span style=\"color: #008000\">27</span> : Partial movie file       <a href=\"file:///usr/local/lib/python3.8/site-packages/manim/scene/scene_file_writer.py\"><span style=\"color: #7f7f7f\">scene_file_writer.py</span></a><span style=\"color: #7f7f7f\">:401</span>\n",
       "                             written in <span style=\"font-weight: bold\">{</span><span style=\"color: #008000\">'/manim/notebooks/media/vid</span>                         \n",
       "                             <span style=\"color: #008000\">eos/notebooks/720p60/partial_movie_file</span>                         \n",
       "                             <span style=\"color: #008000\">s/TransitionToNumbers/1525768966_154275</span>                         \n",
       "                             <span style=\"color: #008000\">3228_1341516598.mp4'</span><span style=\"font-weight: bold\">}</span>                                           \n",
       "</pre>\n"
      ],
      "text/plain": [
       "<rich.jupyter.JupyterRenderable at 0x7fe150c56040>"
      ]
     },
     "metadata": {},
     "output_type": "display_data"
    },
    {
     "name": "stderr",
     "output_type": "stream",
     "text": [
      "                                                                                     \r"
     ]
    },
    {
     "data": {
      "text/html": [
       "<pre style=\"white-space:pre;overflow-x:auto;line-height:normal;font-family:Menlo,'DejaVu Sans Mono',consolas,'Courier New',monospace\"><span style=\"color: #7fbfbf\">[05/09/21 04:43:11] </span><span style=\"color: #008000\">INFO</span>     Animation <span style=\"color: #008000\">28</span> : Partial movie file       <a href=\"file:///usr/local/lib/python3.8/site-packages/manim/scene/scene_file_writer.py\"><span style=\"color: #7f7f7f\">scene_file_writer.py</span></a><span style=\"color: #7f7f7f\">:401</span>\n",
       "                             written in <span style=\"font-weight: bold\">{</span><span style=\"color: #008000\">'/manim/notebooks/media/vid</span>                         \n",
       "                             <span style=\"color: #008000\">eos/notebooks/720p60/partial_movie_file</span>                         \n",
       "                             <span style=\"color: #008000\">s/TransitionToNumbers/1525768966_212407</span>                         \n",
       "                             <span style=\"color: #008000\">068_2681549685.mp4'</span><span style=\"font-weight: bold\">}</span>                                            \n",
       "</pre>\n"
      ],
      "text/plain": [
       "<rich.jupyter.JupyterRenderable at 0x7fe150ed43d0>"
      ]
     },
     "metadata": {},
     "output_type": "display_data"
    },
    {
     "data": {
      "text/html": [
       "<pre style=\"white-space:pre;overflow-x:auto;line-height:normal;font-family:Menlo,'DejaVu Sans Mono',consolas,'Courier New',monospace\"><span style=\"color: #7fbfbf\">                    </span><span style=\"color: #008000\">INFO</span>     Animation <span style=\"color: #008000\">29</span> : Partial movie file       <a href=\"file:///usr/local/lib/python3.8/site-packages/manim/scene/scene_file_writer.py\"><span style=\"color: #7f7f7f\">scene_file_writer.py</span></a><span style=\"color: #7f7f7f\">:401</span>\n",
       "                             written in <span style=\"font-weight: bold\">{</span><span style=\"color: #008000\">'/manim/notebooks/media/vid</span>                         \n",
       "                             <span style=\"color: #008000\">eos/notebooks/720p60/partial_movie_file</span>                         \n",
       "                             <span style=\"color: #008000\">s/TransitionToNumbers/1525768966_154275</span>                         \n",
       "                             <span style=\"color: #008000\">3228_1752446575.mp4'</span><span style=\"font-weight: bold\">}</span>                                           \n",
       "</pre>\n"
      ],
      "text/plain": [
       "<rich.jupyter.JupyterRenderable at 0x7fe1457c8f70>"
      ]
     },
     "metadata": {},
     "output_type": "display_data"
    },
    {
     "name": "stderr",
     "output_type": "stream",
     "text": [
      "                                                                                    \r"
     ]
    },
    {
     "data": {
      "text/html": [
       "<pre style=\"white-space:pre;overflow-x:auto;line-height:normal;font-family:Menlo,'DejaVu Sans Mono',consolas,'Courier New',monospace\"><span style=\"color: #7fbfbf\">[05/09/21 04:43:14] </span><span style=\"color: #008000\">INFO</span>     Animation <span style=\"color: #008000\">30</span> : Partial movie file       <a href=\"file:///usr/local/lib/python3.8/site-packages/manim/scene/scene_file_writer.py\"><span style=\"color: #7f7f7f\">scene_file_writer.py</span></a><span style=\"color: #7f7f7f\">:401</span>\n",
       "                             written in <span style=\"font-weight: bold\">{</span><span style=\"color: #008000\">'/manim/notebooks/media/vid</span>                         \n",
       "                             <span style=\"color: #008000\">eos/notebooks/720p60/partial_movie_file</span>                         \n",
       "                             <span style=\"color: #008000\">s/TransitionToNumbers/1525768966_170872</span>                         \n",
       "                             <span style=\"color: #008000\">0376_2451325392.mp4'</span><span style=\"font-weight: bold\">}</span>                                           \n",
       "</pre>\n"
      ],
      "text/plain": [
       "<rich.jupyter.JupyterRenderable at 0x7fe150ddcfd0>"
      ]
     },
     "metadata": {},
     "output_type": "display_data"
    },
    {
     "data": {
      "text/html": [
       "<pre style=\"white-space:pre;overflow-x:auto;line-height:normal;font-family:Menlo,'DejaVu Sans Mono',consolas,'Courier New',monospace\"><span style=\"color: #7fbfbf\">[05/09/21 04:43:15] </span><span style=\"color: #008000\">INFO</span>     Animation <span style=\"color: #008000\">31</span> : Partial movie file       <a href=\"file:///usr/local/lib/python3.8/site-packages/manim/scene/scene_file_writer.py\"><span style=\"color: #7f7f7f\">scene_file_writer.py</span></a><span style=\"color: #7f7f7f\">:401</span>\n",
       "                             written in <span style=\"font-weight: bold\">{</span><span style=\"color: #008000\">'/manim/notebooks/media/vid</span>                         \n",
       "                             <span style=\"color: #008000\">eos/notebooks/720p60/partial_movie_file</span>                         \n",
       "                             <span style=\"color: #008000\">s/TransitionToNumbers/1525768966_154275</span>                         \n",
       "                             <span style=\"color: #008000\">3228_1963899279.mp4'</span><span style=\"font-weight: bold\">}</span>                                           \n",
       "</pre>\n"
      ],
      "text/plain": [
       "<rich.jupyter.JupyterRenderable at 0x7fe150db6160>"
      ]
     },
     "metadata": {},
     "output_type": "display_data"
    },
    {
     "name": "stderr",
     "output_type": "stream",
     "text": [
      "                                                                                     \r"
     ]
    },
    {
     "data": {
      "text/html": [
       "<pre style=\"white-space:pre;overflow-x:auto;line-height:normal;font-family:Menlo,'DejaVu Sans Mono',consolas,'Courier New',monospace\"><span style=\"color: #7fbfbf\">[05/09/21 04:43:18] </span><span style=\"color: #008000\">INFO</span>     Animation <span style=\"color: #008000\">32</span> : Partial movie file       <a href=\"file:///usr/local/lib/python3.8/site-packages/manim/scene/scene_file_writer.py\"><span style=\"color: #7f7f7f\">scene_file_writer.py</span></a><span style=\"color: #7f7f7f\">:401</span>\n",
       "                             written in <span style=\"font-weight: bold\">{</span><span style=\"color: #008000\">'/manim/notebooks/media/vid</span>                         \n",
       "                             <span style=\"color: #008000\">eos/notebooks/720p60/partial_movie_file</span>                         \n",
       "                             <span style=\"color: #008000\">s/TransitionToNumbers/1525768966_212184</span>                         \n",
       "                             <span style=\"color: #008000\">893_2714485990.mp4'</span><span style=\"font-weight: bold\">}</span>                                            \n",
       "</pre>\n"
      ],
      "text/plain": [
       "<rich.jupyter.JupyterRenderable at 0x7fe14e2b0c40>"
      ]
     },
     "metadata": {},
     "output_type": "display_data"
    },
    {
     "data": {
      "text/html": [
       "<pre style=\"white-space:pre;overflow-x:auto;line-height:normal;font-family:Menlo,'DejaVu Sans Mono',consolas,'Courier New',monospace\"><span style=\"color: #7fbfbf\">[05/09/21 04:43:19] </span><span style=\"color: #008000\">INFO</span>     Animation <span style=\"color: #008000\">33</span> : Partial movie file       <a href=\"file:///usr/local/lib/python3.8/site-packages/manim/scene/scene_file_writer.py\"><span style=\"color: #7f7f7f\">scene_file_writer.py</span></a><span style=\"color: #7f7f7f\">:401</span>\n",
       "                             written in <span style=\"font-weight: bold\">{</span><span style=\"color: #008000\">'/manim/notebooks/media/vid</span>                         \n",
       "                             <span style=\"color: #008000\">eos/notebooks/720p60/partial_movie_file</span>                         \n",
       "                             <span style=\"color: #008000\">s/TransitionToNumbers/1525768966_243224</span>                         \n",
       "                             <span style=\"color: #008000\">1074_2528516259.mp4'</span><span style=\"font-weight: bold\">}</span>                                           \n",
       "</pre>\n"
      ],
      "text/plain": [
       "<rich.jupyter.JupyterRenderable at 0x7fe14e33afa0>"
      ]
     },
     "metadata": {},
     "output_type": "display_data"
    },
    {
     "data": {
      "text/html": [
       "<pre style=\"white-space:pre;overflow-x:auto;line-height:normal;font-family:Menlo,'DejaVu Sans Mono',consolas,'Courier New',monospace\"><span style=\"color: #7fbfbf\">                    </span><span style=\"color: #008000\">INFO</span>                                             <a href=\"file:///usr/local/lib/python3.8/site-packages/manim/scene/scene_file_writer.py\"><span style=\"color: #7f7f7f\">scene_file_writer.py</span></a><span style=\"color: #7f7f7f\">:585</span>\n",
       "                             <span style=\"color: #808000; font-weight: bold\">File</span> ready at <span style=\"color: #800080\">/manim/notebooks/media/vi</span>                         \n",
       "                             <span style=\"color: #800080\">deos/notebooks/720p60/</span><span style=\"color: #ff00ff\">combining-columns</span>                         \n",
       "                             <span style=\"color: #ff00ff\">-extension.mp4</span>                                                  \n",
       "                                                                                             \n",
       "</pre>\n"
      ],
      "text/plain": [
       "<rich.jupyter.JupyterRenderable at 0x7fe150cbe730>"
      ]
     },
     "metadata": {},
     "output_type": "display_data"
    },
    {
     "data": {
      "text/html": [
       "<pre style=\"white-space:pre;overflow-x:auto;line-height:normal;font-family:Menlo,'DejaVu Sans Mono',consolas,'Courier New',monospace\"><span style=\"color: #7fbfbf\">                    </span><span style=\"color: #008000\">INFO</span>     The partial movie directory is full <span style=\"font-weight: bold\">(</span>&gt;  <a href=\"file:///usr/local/lib/python3.8/site-packages/manim/scene/scene_file_writer.py\"><span style=\"color: #7f7f7f\">scene_file_writer.py</span></a><span style=\"color: #7f7f7f\">:563</span>\n",
       "                             <span style=\"color: #008000\">100</span> files<span style=\"font-weight: bold\">)</span>. Therefore, manim has                                \n",
       "                             removed <span style=\"color: #008000\">34</span> file<span style=\"font-weight: bold\">(</span>s<span style=\"font-weight: bold\">)</span> used by it the                               \n",
       "                             longest ago.You can change this                                 \n",
       "                             behaviour by changing max_files_cached                          \n",
       "                             in config.                                                      \n",
       "</pre>\n"
      ],
      "text/plain": [
       "<rich.jupyter.JupyterRenderable at 0x7fe1510580a0>"
      ]
     },
     "metadata": {},
     "output_type": "display_data"
    },
    {
     "data": {
      "text/html": [
       "<pre style=\"white-space:pre;overflow-x:auto;line-height:normal;font-family:Menlo,'DejaVu Sans Mono',consolas,'Courier New',monospace\"><span style=\"color: #7fbfbf\">                    </span><span style=\"color: #008000\">INFO</span>     <span style=\"color: #808000; font-weight: bold\">Rendered</span> TransitionToNumbers                        <a href=\"file:///usr/local/lib/python3.8/site-packages/manim/scene/scene.py\"><span style=\"color: #7f7f7f\">scene.py</span></a><span style=\"color: #7f7f7f\">:217</span>\n",
       "                             <span style=\"color: #808000; font-weight: bold\">Played</span> <span style=\"color: #008000\">34</span> <span style=\"color: #808000; font-weight: bold\">animations</span>                                            \n",
       "</pre>\n"
      ],
      "text/plain": [
       "<rich.jupyter.JupyterRenderable at 0x7fe150f28100>"
      ]
     },
     "metadata": {},
     "output_type": "display_data"
    },
    {
     "data": {
      "text/html": [
       "<video src=\"media/jupyter/a49346bd74f802843e04c3e6f1153f6b1e7706bf.mp4\" controls autoplay loop style=\"max-width: 25vw;\"  >\n",
       "      Your browser does not support the <code>video</code> element.\n",
       "    </video>"
      ],
      "text/plain": [
       "<IPython.core.display.Video object>"
      ]
     },
     "metadata": {},
     "output_type": "display_data"
    }
   ],
   "source": [
    "%%manim -qh -r 1280,720 -o combining-columns-extension.mp4 TransitionToNumbers\n",
    "\n",
    "class TransitionToNumbers(CombiningColumns):\n",
    "    def construct(self):\n",
    "        super().construct_adding_examples()"
   ]
  },
  {
   "cell_type": "code",
   "execution_count": 48,
   "id": "f6d61071-326c-4d2d-a7a2-30c021663a48",
   "metadata": {},
   "outputs": [
    {
     "data": {
      "text/html": [
       "<pre style=\"white-space:pre;overflow-x:auto;line-height:normal;font-family:Menlo,'DejaVu Sans Mono',consolas,'Courier New',monospace\"><span style=\"color: #7fbfbf\">[05/09/21 04:49:12] </span><span style=\"color: #008000\">INFO</span>     Animation <span style=\"color: #008000\">0</span> : Using cached data <span style=\"font-weight: bold\">(</span>hash :    <a href=\"file:///usr/local/lib/python3.8/site-packages/manim/renderer/cairo_renderer.py\"><span style=\"color: #7f7f7f\">cairo_renderer.py</span></a><span style=\"color: #7f7f7f\">:100</span>\n",
       "                             2429694228_2432241074_2829772612<span style=\"font-weight: bold\">)</span>                               \n",
       "</pre>\n"
      ],
      "text/plain": [
       "<rich.jupyter.JupyterRenderable at 0x7fe150bf0820>"
      ]
     },
     "metadata": {},
     "output_type": "display_data"
    },
    {
     "name": "stderr",
     "output_type": "stream",
     "text": [
      "                                                                                               \r"
     ]
    },
    {
     "data": {
      "text/html": [
       "<pre style=\"white-space:pre;overflow-x:auto;line-height:normal;font-family:Menlo,'DejaVu Sans Mono',consolas,'Courier New',monospace\"><span style=\"color: #7fbfbf\">[05/09/21 04:49:13] </span><span style=\"color: #008000\">INFO</span>     Animation <span style=\"color: #008000\">1</span> : Partial movie file        <a href=\"file:///usr/local/lib/python3.8/site-packages/manim/scene/scene_file_writer.py\"><span style=\"color: #7f7f7f\">scene_file_writer.py</span></a><span style=\"color: #7f7f7f\">:401</span>\n",
       "                             written in <span style=\"font-weight: bold\">{</span><span style=\"color: #008000\">'/manim/notebooks/media/vid</span>                         \n",
       "                             <span style=\"color: #008000\">eos/notebooks/720p60/partial_movie_file</span>                         \n",
       "                             <span style=\"color: #008000\">s/RowsCombineRows/1952873950_1516991423</span>                         \n",
       "                             <span style=\"color: #008000\">_1424625995.mp4'</span><span style=\"font-weight: bold\">}</span>                                               \n",
       "</pre>\n"
      ],
      "text/plain": [
       "<rich.jupyter.JupyterRenderable at 0x7fe14e492d00>"
      ]
     },
     "metadata": {},
     "output_type": "display_data"
    },
    {
     "name": "stderr",
     "output_type": "stream",
     "text": [
      "                                                                                     \r"
     ]
    },
    {
     "data": {
      "text/html": [
       "<pre style=\"white-space:pre;overflow-x:auto;line-height:normal;font-family:Menlo,'DejaVu Sans Mono',consolas,'Courier New',monospace\"><span style=\"color: #7fbfbf\">                    </span><span style=\"color: #008000\">INFO</span>     Animation <span style=\"color: #008000\">2</span> : Partial movie file        <a href=\"file:///usr/local/lib/python3.8/site-packages/manim/scene/scene_file_writer.py\"><span style=\"color: #7f7f7f\">scene_file_writer.py</span></a><span style=\"color: #7f7f7f\">:401</span>\n",
       "                             written in <span style=\"font-weight: bold\">{</span><span style=\"color: #008000\">'/manim/notebooks/media/vid</span>                         \n",
       "                             <span style=\"color: #008000\">eos/notebooks/720p60/partial_movie_file</span>                         \n",
       "                             <span style=\"color: #008000\">s/RowsCombineRows/1952873950_1305393207</span>                         \n",
       "                             <span style=\"color: #008000\">_53773139.mp4'</span><span style=\"font-weight: bold\">}</span>                                                 \n",
       "</pre>\n"
      ],
      "text/plain": [
       "<rich.jupyter.JupyterRenderable at 0x7fe14e70c3d0>"
      ]
     },
     "metadata": {},
     "output_type": "display_data"
    },
    {
     "data": {
      "text/html": [
       "<pre style=\"white-space:pre;overflow-x:auto;line-height:normal;font-family:Menlo,'DejaVu Sans Mono',consolas,'Courier New',monospace\"><span style=\"color: #7fbfbf\">[05/09/21 04:49:14] </span><span style=\"color: #008000\">INFO</span>     Animation <span style=\"color: #008000\">3</span> : Partial movie file        <a href=\"file:///usr/local/lib/python3.8/site-packages/manim/scene/scene_file_writer.py\"><span style=\"color: #7f7f7f\">scene_file_writer.py</span></a><span style=\"color: #7f7f7f\">:401</span>\n",
       "                             written in <span style=\"font-weight: bold\">{</span><span style=\"color: #008000\">'/manim/notebooks/media/vid</span>                         \n",
       "                             <span style=\"color: #008000\">eos/notebooks/720p60/partial_movie_file</span>                         \n",
       "                             <span style=\"color: #008000\">s/RowsCombineRows/1952873950_2432241074</span>                         \n",
       "                             <span style=\"color: #008000\">_2603099871.mp4'</span><span style=\"font-weight: bold\">}</span>                                               \n",
       "</pre>\n"
      ],
      "text/plain": [
       "<rich.jupyter.JupyterRenderable at 0x7fe14e6f6370>"
      ]
     },
     "metadata": {},
     "output_type": "display_data"
    },
    {
     "name": "stderr",
     "output_type": "stream",
     "text": [
      "                                                                                               \r"
     ]
    },
    {
     "data": {
      "text/html": [
       "<pre style=\"white-space:pre;overflow-x:auto;line-height:normal;font-family:Menlo,'DejaVu Sans Mono',consolas,'Courier New',monospace\"><span style=\"color: #7fbfbf\">                    </span><span style=\"color: #008000\">INFO</span>     Animation <span style=\"color: #008000\">4</span> : Partial movie file        <a href=\"file:///usr/local/lib/python3.8/site-packages/manim/scene/scene_file_writer.py\"><span style=\"color: #7f7f7f\">scene_file_writer.py</span></a><span style=\"color: #7f7f7f\">:401</span>\n",
       "                             written in <span style=\"font-weight: bold\">{</span><span style=\"color: #008000\">'/manim/notebooks/media/vid</span>                         \n",
       "                             <span style=\"color: #008000\">eos/notebooks/720p60/partial_movie_file</span>                         \n",
       "                             <span style=\"color: #008000\">s/RowsCombineRows/1952873950_140342352_</span>                         \n",
       "                             <span style=\"color: #008000\">2812567011.mp4'</span><span style=\"font-weight: bold\">}</span>                                                \n",
       "</pre>\n"
      ],
      "text/plain": [
       "<rich.jupyter.JupyterRenderable at 0x7fe14e85af10>"
      ]
     },
     "metadata": {},
     "output_type": "display_data"
    },
    {
     "name": "stderr",
     "output_type": "stream",
     "text": [
      "                                                                                     \r"
     ]
    },
    {
     "data": {
      "text/html": [
       "<pre style=\"white-space:pre;overflow-x:auto;line-height:normal;font-family:Menlo,'DejaVu Sans Mono',consolas,'Courier New',monospace\"><span style=\"color: #7fbfbf\">[05/09/21 04:49:15] </span><span style=\"color: #008000\">INFO</span>     Animation <span style=\"color: #008000\">5</span> : Partial movie file        <a href=\"file:///usr/local/lib/python3.8/site-packages/manim/scene/scene_file_writer.py\"><span style=\"color: #7f7f7f\">scene_file_writer.py</span></a><span style=\"color: #7f7f7f\">:401</span>\n",
       "                             written in <span style=\"font-weight: bold\">{</span><span style=\"color: #008000\">'/manim/notebooks/media/vid</span>                         \n",
       "                             <span style=\"color: #008000\">eos/notebooks/720p60/partial_movie_file</span>                         \n",
       "                             <span style=\"color: #008000\">s/RowsCombineRows/1952873950_4237653941</span>                         \n",
       "                             <span style=\"color: #008000\">_1381456912.mp4'</span><span style=\"font-weight: bold\">}</span>                                               \n",
       "</pre>\n"
      ],
      "text/plain": [
       "<rich.jupyter.JupyterRenderable at 0x7fe14e7fea30>"
      ]
     },
     "metadata": {},
     "output_type": "display_data"
    },
    {
     "data": {
      "text/html": [
       "<pre style=\"white-space:pre;overflow-x:auto;line-height:normal;font-family:Menlo,'DejaVu Sans Mono',consolas,'Courier New',monospace\"><span style=\"color: #7fbfbf\">                    </span><span style=\"color: #008000\">INFO</span>     Animation <span style=\"color: #008000\">6</span> : Partial movie file        <a href=\"file:///usr/local/lib/python3.8/site-packages/manim/scene/scene_file_writer.py\"><span style=\"color: #7f7f7f\">scene_file_writer.py</span></a><span style=\"color: #7f7f7f\">:401</span>\n",
       "                             written in <span style=\"font-weight: bold\">{</span><span style=\"color: #008000\">'/manim/notebooks/media/vid</span>                         \n",
       "                             <span style=\"color: #008000\">eos/notebooks/720p60/partial_movie_file</span>                         \n",
       "                             <span style=\"color: #008000\">s/RowsCombineRows/1952873950_2432241074</span>                         \n",
       "                             <span style=\"color: #008000\">_2584910476.mp4'</span><span style=\"font-weight: bold\">}</span>                                               \n",
       "</pre>\n"
      ],
      "text/plain": [
       "<rich.jupyter.JupyterRenderable at 0x7fe1457e4880>"
      ]
     },
     "metadata": {},
     "output_type": "display_data"
    },
    {
     "name": "stderr",
     "output_type": "stream",
     "text": [
      "                                                                                               \r"
     ]
    },
    {
     "data": {
      "text/html": [
       "<pre style=\"white-space:pre;overflow-x:auto;line-height:normal;font-family:Menlo,'DejaVu Sans Mono',consolas,'Courier New',monospace\"><span style=\"color: #7fbfbf\">[05/09/21 04:49:16] </span><span style=\"color: #008000\">INFO</span>     Animation <span style=\"color: #008000\">7</span> : Partial movie file        <a href=\"file:///usr/local/lib/python3.8/site-packages/manim/scene/scene_file_writer.py\"><span style=\"color: #7f7f7f\">scene_file_writer.py</span></a><span style=\"color: #7f7f7f\">:401</span>\n",
       "                             written in <span style=\"font-weight: bold\">{</span><span style=\"color: #008000\">'/manim/notebooks/media/vid</span>                         \n",
       "                             <span style=\"color: #008000\">eos/notebooks/720p60/partial_movie_file</span>                         \n",
       "                             <span style=\"color: #008000\">s/RowsCombineRows/1952873950_2048856927</span>                         \n",
       "                             <span style=\"color: #008000\">_4088651000.mp4'</span><span style=\"font-weight: bold\">}</span>                                               \n",
       "</pre>\n"
      ],
      "text/plain": [
       "<rich.jupyter.JupyterRenderable at 0x7fe14e6f7310>"
      ]
     },
     "metadata": {},
     "output_type": "display_data"
    },
    {
     "name": "stderr",
     "output_type": "stream",
     "text": [
      "                                                                                     \r"
     ]
    },
    {
     "data": {
      "text/html": [
       "<pre style=\"white-space:pre;overflow-x:auto;line-height:normal;font-family:Menlo,'DejaVu Sans Mono',consolas,'Courier New',monospace\"><span style=\"color: #7fbfbf\">                    </span><span style=\"color: #008000\">INFO</span>     Animation <span style=\"color: #008000\">8</span> : Partial movie file        <a href=\"file:///usr/local/lib/python3.8/site-packages/manim/scene/scene_file_writer.py\"><span style=\"color: #7f7f7f\">scene_file_writer.py</span></a><span style=\"color: #7f7f7f\">:401</span>\n",
       "                             written in <span style=\"font-weight: bold\">{</span><span style=\"color: #008000\">'/manim/notebooks/media/vid</span>                         \n",
       "                             <span style=\"color: #008000\">eos/notebooks/720p60/partial_movie_file</span>                         \n",
       "                             <span style=\"color: #008000\">s/RowsCombineRows/1952873950_3514997602</span>                         \n",
       "                             <span style=\"color: #008000\">_1093202181.mp4'</span><span style=\"font-weight: bold\">}</span>                                               \n",
       "</pre>\n"
      ],
      "text/plain": [
       "<rich.jupyter.JupyterRenderable at 0x7fe14e86ab50>"
      ]
     },
     "metadata": {},
     "output_type": "display_data"
    },
    {
     "data": {
      "text/html": [
       "<pre style=\"white-space:pre;overflow-x:auto;line-height:normal;font-family:Menlo,'DejaVu Sans Mono',consolas,'Courier New',monospace\"><span style=\"color: #7fbfbf\">[05/09/21 04:49:17] </span><span style=\"color: #008000\">INFO</span>     Animation <span style=\"color: #008000\">9</span> : Partial movie file        <a href=\"file:///usr/local/lib/python3.8/site-packages/manim/scene/scene_file_writer.py\"><span style=\"color: #7f7f7f\">scene_file_writer.py</span></a><span style=\"color: #7f7f7f\">:401</span>\n",
       "                             written in <span style=\"font-weight: bold\">{</span><span style=\"color: #008000\">'/manim/notebooks/media/vid</span>                         \n",
       "                             <span style=\"color: #008000\">eos/notebooks/720p60/partial_movie_file</span>                         \n",
       "                             <span style=\"color: #008000\">s/RowsCombineRows/1952873950_2432241074</span>                         \n",
       "                             <span style=\"color: #008000\">_1675314765.mp4'</span><span style=\"font-weight: bold\">}</span>                                               \n",
       "</pre>\n"
      ],
      "text/plain": [
       "<rich.jupyter.JupyterRenderable at 0x7fe150e737c0>"
      ]
     },
     "metadata": {},
     "output_type": "display_data"
    },
    {
     "name": "stderr",
     "output_type": "stream",
     "text": [
      "                                                                                                \r"
     ]
    },
    {
     "data": {
      "text/html": [
       "<pre style=\"white-space:pre;overflow-x:auto;line-height:normal;font-family:Menlo,'DejaVu Sans Mono',consolas,'Courier New',monospace\"><span style=\"color: #7fbfbf\">                    </span><span style=\"color: #008000\">INFO</span>     Animation <span style=\"color: #008000\">10</span> : Partial movie file       <a href=\"file:///usr/local/lib/python3.8/site-packages/manim/scene/scene_file_writer.py\"><span style=\"color: #7f7f7f\">scene_file_writer.py</span></a><span style=\"color: #7f7f7f\">:401</span>\n",
       "                             written in <span style=\"font-weight: bold\">{</span><span style=\"color: #008000\">'/manim/notebooks/media/vid</span>                         \n",
       "                             <span style=\"color: #008000\">eos/notebooks/720p60/partial_movie_file</span>                         \n",
       "                             <span style=\"color: #008000\">s/RowsCombineRows/1952873950_280165001_</span>                         \n",
       "                             <span style=\"color: #008000\">236804514.mp4'</span><span style=\"font-weight: bold\">}</span>                                                 \n",
       "</pre>\n"
      ],
      "text/plain": [
       "<rich.jupyter.JupyterRenderable at 0x7fe14e7fed00>"
      ]
     },
     "metadata": {},
     "output_type": "display_data"
    },
    {
     "name": "stderr",
     "output_type": "stream",
     "text": [
      "                                                                                      \r"
     ]
    },
    {
     "data": {
      "text/html": [
       "<pre style=\"white-space:pre;overflow-x:auto;line-height:normal;font-family:Menlo,'DejaVu Sans Mono',consolas,'Courier New',monospace\"><span style=\"color: #7fbfbf\">[05/09/21 04:49:18] </span><span style=\"color: #008000\">INFO</span>     Animation <span style=\"color: #008000\">11</span> : Partial movie file       <a href=\"file:///usr/local/lib/python3.8/site-packages/manim/scene/scene_file_writer.py\"><span style=\"color: #7f7f7f\">scene_file_writer.py</span></a><span style=\"color: #7f7f7f\">:401</span>\n",
       "                             written in <span style=\"font-weight: bold\">{</span><span style=\"color: #008000\">'/manim/notebooks/media/vid</span>                         \n",
       "                             <span style=\"color: #008000\">eos/notebooks/720p60/partial_movie_file</span>                         \n",
       "                             <span style=\"color: #008000\">s/RowsCombineRows/1952873950_4035068026</span>                         \n",
       "                             <span style=\"color: #008000\">_768518403.mp4'</span><span style=\"font-weight: bold\">}</span>                                                \n",
       "</pre>\n"
      ],
      "text/plain": [
       "<rich.jupyter.JupyterRenderable at 0x7fe150f5f5b0>"
      ]
     },
     "metadata": {},
     "output_type": "display_data"
    },
    {
     "data": {
      "text/html": [
       "<pre style=\"white-space:pre;overflow-x:auto;line-height:normal;font-family:Menlo,'DejaVu Sans Mono',consolas,'Courier New',monospace\"><span style=\"color: #7fbfbf\">                    </span><span style=\"color: #008000\">INFO</span>     Animation <span style=\"color: #008000\">12</span> : Partial movie file       <a href=\"file:///usr/local/lib/python3.8/site-packages/manim/scene/scene_file_writer.py\"><span style=\"color: #7f7f7f\">scene_file_writer.py</span></a><span style=\"color: #7f7f7f\">:401</span>\n",
       "                             written in <span style=\"font-weight: bold\">{</span><span style=\"color: #008000\">'/manim/notebooks/media/vid</span>                         \n",
       "                             <span style=\"color: #008000\">eos/notebooks/720p60/partial_movie_file</span>                         \n",
       "                             <span style=\"color: #008000\">s/RowsCombineRows/1952873950_2432241074</span>                         \n",
       "                             <span style=\"color: #008000\">_2523071595.mp4'</span><span style=\"font-weight: bold\">}</span>                                               \n",
       "</pre>\n"
      ],
      "text/plain": [
       "<rich.jupyter.JupyterRenderable at 0x7fe14e347670>"
      ]
     },
     "metadata": {},
     "output_type": "display_data"
    },
    {
     "name": "stderr",
     "output_type": "stream",
     "text": [
      "                                                                                                \r"
     ]
    },
    {
     "data": {
      "text/html": [
       "<pre style=\"white-space:pre;overflow-x:auto;line-height:normal;font-family:Menlo,'DejaVu Sans Mono',consolas,'Courier New',monospace\"><span style=\"color: #7fbfbf\">[05/09/21 04:49:19] </span><span style=\"color: #008000\">INFO</span>     Animation <span style=\"color: #008000\">13</span> : Partial movie file       <a href=\"file:///usr/local/lib/python3.8/site-packages/manim/scene/scene_file_writer.py\"><span style=\"color: #7f7f7f\">scene_file_writer.py</span></a><span style=\"color: #7f7f7f\">:401</span>\n",
       "                             written in <span style=\"font-weight: bold\">{</span><span style=\"color: #008000\">'/manim/notebooks/media/vid</span>                         \n",
       "                             <span style=\"color: #008000\">eos/notebooks/720p60/partial_movie_file</span>                         \n",
       "                             <span style=\"color: #008000\">s/RowsCombineRows/1952873950_2403658985</span>                         \n",
       "                             <span style=\"color: #008000\">_4249684567.mp4'</span><span style=\"font-weight: bold\">}</span>                                               \n",
       "</pre>\n"
      ],
      "text/plain": [
       "<rich.jupyter.JupyterRenderable at 0x7fe12441c640>"
      ]
     },
     "metadata": {},
     "output_type": "display_data"
    },
    {
     "name": "stderr",
     "output_type": "stream",
     "text": [
      "                                                                                      \r"
     ]
    },
    {
     "data": {
      "text/html": [
       "<pre style=\"white-space:pre;overflow-x:auto;line-height:normal;font-family:Menlo,'DejaVu Sans Mono',consolas,'Courier New',monospace\"><span style=\"color: #7fbfbf\">                    </span><span style=\"color: #008000\">INFO</span>     Animation <span style=\"color: #008000\">14</span> : Partial movie file       <a href=\"file:///usr/local/lib/python3.8/site-packages/manim/scene/scene_file_writer.py\"><span style=\"color: #7f7f7f\">scene_file_writer.py</span></a><span style=\"color: #7f7f7f\">:401</span>\n",
       "                             written in <span style=\"font-weight: bold\">{</span><span style=\"color: #008000\">'/manim/notebooks/media/vid</span>                         \n",
       "                             <span style=\"color: #008000\">eos/notebooks/720p60/partial_movie_file</span>                         \n",
       "                             <span style=\"color: #008000\">s/RowsCombineRows/1952873950_2498737643</span>                         \n",
       "                             <span style=\"color: #008000\">_287025581.mp4'</span><span style=\"font-weight: bold\">}</span>                                                \n",
       "</pre>\n"
      ],
      "text/plain": [
       "<rich.jupyter.JupyterRenderable at 0x7fe150bf00d0>"
      ]
     },
     "metadata": {},
     "output_type": "display_data"
    },
    {
     "data": {
      "text/html": [
       "<pre style=\"white-space:pre;overflow-x:auto;line-height:normal;font-family:Menlo,'DejaVu Sans Mono',consolas,'Courier New',monospace\"><span style=\"color: #7fbfbf\">[05/09/21 04:49:20] </span><span style=\"color: #008000\">INFO</span>     Animation <span style=\"color: #008000\">15</span> : Partial movie file       <a href=\"file:///usr/local/lib/python3.8/site-packages/manim/scene/scene_file_writer.py\"><span style=\"color: #7f7f7f\">scene_file_writer.py</span></a><span style=\"color: #7f7f7f\">:401</span>\n",
       "                             written in <span style=\"font-weight: bold\">{</span><span style=\"color: #008000\">'/manim/notebooks/media/vid</span>                         \n",
       "                             <span style=\"color: #008000\">eos/notebooks/720p60/partial_movie_file</span>                         \n",
       "                             <span style=\"color: #008000\">s/RowsCombineRows/1952873950_2432241074</span>                         \n",
       "                             <span style=\"color: #008000\">_2720996120.mp4'</span><span style=\"font-weight: bold\">}</span>                                               \n",
       "</pre>\n"
      ],
      "text/plain": [
       "<rich.jupyter.JupyterRenderable at 0x7fe150e770d0>"
      ]
     },
     "metadata": {},
     "output_type": "display_data"
    },
    {
     "name": "stderr",
     "output_type": "stream",
     "text": [
      "                                                                                                \r"
     ]
    },
    {
     "data": {
      "text/html": [
       "<pre style=\"white-space:pre;overflow-x:auto;line-height:normal;font-family:Menlo,'DejaVu Sans Mono',consolas,'Courier New',monospace\"><span style=\"color: #7fbfbf\">[05/09/21 04:49:21] </span><span style=\"color: #008000\">INFO</span>     Animation <span style=\"color: #008000\">16</span> : Partial movie file       <a href=\"file:///usr/local/lib/python3.8/site-packages/manim/scene/scene_file_writer.py\"><span style=\"color: #7f7f7f\">scene_file_writer.py</span></a><span style=\"color: #7f7f7f\">:401</span>\n",
       "                             written in <span style=\"font-weight: bold\">{</span><span style=\"color: #008000\">'/manim/notebooks/media/vid</span>                         \n",
       "                             <span style=\"color: #008000\">eos/notebooks/720p60/partial_movie_file</span>                         \n",
       "                             <span style=\"color: #008000\">s/RowsCombineRows/1952873950_1419706972</span>                         \n",
       "                             <span style=\"color: #008000\">_1688426552.mp4'</span><span style=\"font-weight: bold\">}</span>                                               \n",
       "</pre>\n"
      ],
      "text/plain": [
       "<rich.jupyter.JupyterRenderable at 0x7fe12441cb50>"
      ]
     },
     "metadata": {},
     "output_type": "display_data"
    },
    {
     "name": "stderr",
     "output_type": "stream",
     "text": [
      "                                                                                      \r"
     ]
    },
    {
     "data": {
      "text/html": [
       "<pre style=\"white-space:pre;overflow-x:auto;line-height:normal;font-family:Menlo,'DejaVu Sans Mono',consolas,'Courier New',monospace\"><span style=\"color: #7fbfbf\">                    </span><span style=\"color: #008000\">INFO</span>     Animation <span style=\"color: #008000\">17</span> : Partial movie file       <a href=\"file:///usr/local/lib/python3.8/site-packages/manim/scene/scene_file_writer.py\"><span style=\"color: #7f7f7f\">scene_file_writer.py</span></a><span style=\"color: #7f7f7f\">:401</span>\n",
       "                             written in <span style=\"font-weight: bold\">{</span><span style=\"color: #008000\">'/manim/notebooks/media/vid</span>                         \n",
       "                             <span style=\"color: #008000\">eos/notebooks/720p60/partial_movie_file</span>                         \n",
       "                             <span style=\"color: #008000\">s/RowsCombineRows/1952873950_2188494269</span>                         \n",
       "                             <span style=\"color: #008000\">_2403574506.mp4'</span><span style=\"font-weight: bold\">}</span>                                               \n",
       "</pre>\n"
      ],
      "text/plain": [
       "<rich.jupyter.JupyterRenderable at 0x7fe14e86a460>"
      ]
     },
     "metadata": {},
     "output_type": "display_data"
    },
    {
     "data": {
      "text/html": [
       "<pre style=\"white-space:pre;overflow-x:auto;line-height:normal;font-family:Menlo,'DejaVu Sans Mono',consolas,'Courier New',monospace\"><span style=\"color: #7fbfbf\">[05/09/21 04:49:22] </span><span style=\"color: #008000\">INFO</span>     Animation <span style=\"color: #008000\">18</span> : Partial movie file       <a href=\"file:///usr/local/lib/python3.8/site-packages/manim/scene/scene_file_writer.py\"><span style=\"color: #7f7f7f\">scene_file_writer.py</span></a><span style=\"color: #7f7f7f\">:401</span>\n",
       "                             written in <span style=\"font-weight: bold\">{</span><span style=\"color: #008000\">'/manim/notebooks/media/vid</span>                         \n",
       "                             <span style=\"color: #008000\">eos/notebooks/720p60/partial_movie_file</span>                         \n",
       "                             <span style=\"color: #008000\">s/RowsCombineRows/1952873950_2432241074</span>                         \n",
       "                             <span style=\"color: #008000\">_1284387196.mp4'</span><span style=\"font-weight: bold\">}</span>                                               \n",
       "</pre>\n"
      ],
      "text/plain": [
       "<rich.jupyter.JupyterRenderable at 0x7fe14e7fecd0>"
      ]
     },
     "metadata": {},
     "output_type": "display_data"
    },
    {
     "name": "stderr",
     "output_type": "stream",
     "text": [
      "                                                                                               \r"
     ]
    },
    {
     "data": {
      "text/html": [
       "<pre style=\"white-space:pre;overflow-x:auto;line-height:normal;font-family:Menlo,'DejaVu Sans Mono',consolas,'Courier New',monospace\"><span style=\"color: #7fbfbf\">[05/09/21 04:49:23] </span><span style=\"color: #008000\">INFO</span>     Animation <span style=\"color: #008000\">19</span> : Partial movie file       <a href=\"file:///usr/local/lib/python3.8/site-packages/manim/scene/scene_file_writer.py\"><span style=\"color: #7f7f7f\">scene_file_writer.py</span></a><span style=\"color: #7f7f7f\">:401</span>\n",
       "                             written in <span style=\"font-weight: bold\">{</span><span style=\"color: #008000\">'/manim/notebooks/media/vid</span>                         \n",
       "                             <span style=\"color: #008000\">eos/notebooks/720p60/partial_movie_file</span>                         \n",
       "                             <span style=\"color: #008000\">s/RowsCombineRows/1952873950_657933914_</span>                         \n",
       "                             <span style=\"color: #008000\">309850421.mp4'</span><span style=\"font-weight: bold\">}</span>                                                 \n",
       "</pre>\n"
      ],
      "text/plain": [
       "<rich.jupyter.JupyterRenderable at 0x7fe150e73910>"
      ]
     },
     "metadata": {},
     "output_type": "display_data"
    },
    {
     "name": "stderr",
     "output_type": "stream",
     "text": [
      "                                                                                      \r"
     ]
    },
    {
     "data": {
      "text/html": [
       "<pre style=\"white-space:pre;overflow-x:auto;line-height:normal;font-family:Menlo,'DejaVu Sans Mono',consolas,'Courier New',monospace\"><span style=\"color: #7fbfbf\">                    </span><span style=\"color: #008000\">INFO</span>     Animation <span style=\"color: #008000\">20</span> : Partial movie file       <a href=\"file:///usr/local/lib/python3.8/site-packages/manim/scene/scene_file_writer.py\"><span style=\"color: #7f7f7f\">scene_file_writer.py</span></a><span style=\"color: #7f7f7f\">:401</span>\n",
       "                             written in <span style=\"font-weight: bold\">{</span><span style=\"color: #008000\">'/manim/notebooks/media/vid</span>                         \n",
       "                             <span style=\"color: #008000\">eos/notebooks/720p60/partial_movie_file</span>                         \n",
       "                             <span style=\"color: #008000\">s/RowsCombineRows/1952873950_1734905084</span>                         \n",
       "                             <span style=\"color: #008000\">_839628544.mp4'</span><span style=\"font-weight: bold\">}</span>                                                \n",
       "</pre>\n"
      ],
      "text/plain": [
       "<rich.jupyter.JupyterRenderable at 0x7fe150e67910>"
      ]
     },
     "metadata": {},
     "output_type": "display_data"
    },
    {
     "data": {
      "text/html": [
       "<pre style=\"white-space:pre;overflow-x:auto;line-height:normal;font-family:Menlo,'DejaVu Sans Mono',consolas,'Courier New',monospace\"><span style=\"color: #7fbfbf\">[05/09/21 04:49:24] </span><span style=\"color: #008000\">INFO</span>     Animation <span style=\"color: #008000\">21</span> : Partial movie file       <a href=\"file:///usr/local/lib/python3.8/site-packages/manim/scene/scene_file_writer.py\"><span style=\"color: #7f7f7f\">scene_file_writer.py</span></a><span style=\"color: #7f7f7f\">:401</span>\n",
       "                             written in <span style=\"font-weight: bold\">{</span><span style=\"color: #008000\">'/manim/notebooks/media/vid</span>                         \n",
       "                             <span style=\"color: #008000\">eos/notebooks/720p60/partial_movie_file</span>                         \n",
       "                             <span style=\"color: #008000\">s/RowsCombineRows/1952873950_2432241074</span>                         \n",
       "                             <span style=\"color: #008000\">_1379706393.mp4'</span><span style=\"font-weight: bold\">}</span>                                               \n",
       "</pre>\n"
      ],
      "text/plain": [
       "<rich.jupyter.JupyterRenderable at 0x7fe14e86a460>"
      ]
     },
     "metadata": {},
     "output_type": "display_data"
    },
    {
     "name": "stderr",
     "output_type": "stream",
     "text": [
      "                                                                                               \r"
     ]
    },
    {
     "data": {
      "text/html": [
       "<pre style=\"white-space:pre;overflow-x:auto;line-height:normal;font-family:Menlo,'DejaVu Sans Mono',consolas,'Courier New',monospace\"><span style=\"color: #7fbfbf\">[05/09/21 04:49:25] </span><span style=\"color: #008000\">INFO</span>     Animation <span style=\"color: #008000\">22</span> : Partial movie file       <a href=\"file:///usr/local/lib/python3.8/site-packages/manim/scene/scene_file_writer.py\"><span style=\"color: #7f7f7f\">scene_file_writer.py</span></a><span style=\"color: #7f7f7f\">:401</span>\n",
       "                             written in <span style=\"font-weight: bold\">{</span><span style=\"color: #008000\">'/manim/notebooks/media/vid</span>                         \n",
       "                             <span style=\"color: #008000\">eos/notebooks/720p60/partial_movie_file</span>                         \n",
       "                             <span style=\"color: #008000\">s/RowsCombineRows/1952873950_3519417794</span>                         \n",
       "                             <span style=\"color: #008000\">_603976837.mp4'</span><span style=\"font-weight: bold\">}</span>                                                \n",
       "</pre>\n"
      ],
      "text/plain": [
       "<rich.jupyter.JupyterRenderable at 0x7fe14e492670>"
      ]
     },
     "metadata": {},
     "output_type": "display_data"
    },
    {
     "name": "stderr",
     "output_type": "stream",
     "text": [
      "                                                                                      \r"
     ]
    },
    {
     "data": {
      "text/html": [
       "<pre style=\"white-space:pre;overflow-x:auto;line-height:normal;font-family:Menlo,'DejaVu Sans Mono',consolas,'Courier New',monospace\"><span style=\"color: #7fbfbf\">                    </span><span style=\"color: #008000\">INFO</span>     Animation <span style=\"color: #008000\">23</span> : Partial movie file       <a href=\"file:///usr/local/lib/python3.8/site-packages/manim/scene/scene_file_writer.py\"><span style=\"color: #7f7f7f\">scene_file_writer.py</span></a><span style=\"color: #7f7f7f\">:401</span>\n",
       "                             written in <span style=\"font-weight: bold\">{</span><span style=\"color: #008000\">'/manim/notebooks/media/vid</span>                         \n",
       "                             <span style=\"color: #008000\">eos/notebooks/720p60/partial_movie_file</span>                         \n",
       "                             <span style=\"color: #008000\">s/RowsCombineRows/1952873950_300833003_</span>                         \n",
       "                             <span style=\"color: #008000\">2862586677.mp4'</span><span style=\"font-weight: bold\">}</span>                                                \n",
       "</pre>\n"
      ],
      "text/plain": [
       "<rich.jupyter.JupyterRenderable at 0x7fe150f5f580>"
      ]
     },
     "metadata": {},
     "output_type": "display_data"
    },
    {
     "data": {
      "text/html": [
       "<pre style=\"white-space:pre;overflow-x:auto;line-height:normal;font-family:Menlo,'DejaVu Sans Mono',consolas,'Courier New',monospace\"><span style=\"color: #7fbfbf\">                    </span><span style=\"color: #008000\">INFO</span>                                             <a href=\"file:///usr/local/lib/python3.8/site-packages/manim/scene/scene_file_writer.py\"><span style=\"color: #7f7f7f\">scene_file_writer.py</span></a><span style=\"color: #7f7f7f\">:585</span>\n",
       "                             <span style=\"color: #808000; font-weight: bold\">File</span> ready at <span style=\"color: #800080\">/manim/notebooks/media/vi</span>                         \n",
       "                             <span style=\"color: #800080\">deos/notebooks/720p60/</span><span style=\"color: #ff00ff\">rows-combine-rows</span>                         \n",
       "                             <span style=\"color: #ff00ff\">.mp4</span>                                                            \n",
       "                                                                                             \n",
       "</pre>\n"
      ],
      "text/plain": [
       "<rich.jupyter.JupyterRenderable at 0x7fe150f5fa30>"
      ]
     },
     "metadata": {},
     "output_type": "display_data"
    },
    {
     "data": {
      "text/html": [
       "<pre style=\"white-space:pre;overflow-x:auto;line-height:normal;font-family:Menlo,'DejaVu Sans Mono',consolas,'Courier New',monospace\"><span style=\"color: #7fbfbf\">                    </span><span style=\"color: #008000\">INFO</span>     The partial movie directory is full <span style=\"font-weight: bold\">(</span>&gt;  <a href=\"file:///usr/local/lib/python3.8/site-packages/manim/scene/scene_file_writer.py\"><span style=\"color: #7f7f7f\">scene_file_writer.py</span></a><span style=\"color: #7f7f7f\">:563</span>\n",
       "                             <span style=\"color: #008000\">100</span> files<span style=\"font-weight: bold\">)</span>. Therefore, manim has                                \n",
       "                             removed <span style=\"color: #008000\">23</span> file<span style=\"font-weight: bold\">(</span>s<span style=\"font-weight: bold\">)</span> used by it the                               \n",
       "                             longest ago.You can change this                                 \n",
       "                             behaviour by changing max_files_cached                          \n",
       "                             in config.                                                      \n",
       "</pre>\n"
      ],
      "text/plain": [
       "<rich.jupyter.JupyterRenderable at 0x7fe150f5fa30>"
      ]
     },
     "metadata": {},
     "output_type": "display_data"
    },
    {
     "data": {
      "text/html": [
       "<pre style=\"white-space:pre;overflow-x:auto;line-height:normal;font-family:Menlo,'DejaVu Sans Mono',consolas,'Courier New',monospace\"><span style=\"color: #7fbfbf\">                    </span><span style=\"color: #008000\">INFO</span>     <span style=\"color: #808000; font-weight: bold\">Rendered</span> RowsCombineRows                            <a href=\"file:///usr/local/lib/python3.8/site-packages/manim/scene/scene.py\"><span style=\"color: #7f7f7f\">scene.py</span></a><span style=\"color: #7f7f7f\">:217</span>\n",
       "                             <span style=\"color: #808000; font-weight: bold\">Played</span> <span style=\"color: #008000\">24</span> <span style=\"color: #808000; font-weight: bold\">animations</span>                                            \n",
       "</pre>\n"
      ],
      "text/plain": [
       "<rich.jupyter.JupyterRenderable at 0x7fe150f5f1f0>"
      ]
     },
     "metadata": {},
     "output_type": "display_data"
    },
    {
     "data": {
      "text/html": [
       "<video src=\"media/jupyter/3fee528acf2587565a0b96b2b741789bf73da9da.mp4\" controls autoplay loop style=\"max-width: 25vw;\"  >\n",
       "      Your browser does not support the <code>video</code> element.\n",
       "    </video>"
      ],
      "text/plain": [
       "<IPython.core.display.Video object>"
      ]
     },
     "metadata": {},
     "output_type": "display_data"
    }
   ],
   "source": [
    "%%manim -qh -r 1280,720 -o rows-combine-rows.mp4 RowsCombineRows\n",
    "\n",
    "\n",
    "def create_bracket(length=4.0, side_length=0.14, open_dir=manim.RIGHT):\n",
    "    obj = manim.VMobject(stroke_color=font_color)\n",
    "    obj.set_points_as_corners([np.array(p) for p in ((0, 0, 0), (side_length, 0, 0), (side_length, length, 0), (0,length, 0))])\n",
    "    if np.array_equal(open_dir, manim.LEFT):\n",
    "        pass\n",
    "    elif np.array_equal(open_dir, manim.RIGHT):\n",
    "        obj.flip(manim.Y_AXIS)\n",
    "    elif np.array_equal(open_dir, manim.UP):\n",
    "        obj.rotate_about_origin(manim.DEGREES*90)\n",
    "    elif np.array_equal(open_dir == manim.DOWN):\n",
    "        obj.flip(manim.Y_AXIS)\n",
    "        obj.rotate_about_origin(manim.DEGREES*90)\n",
    "    else:\n",
    "        raise Exception(f'Unexpected direction: {open_dir}')\n",
    "    return obj\n",
    "\n",
    "\n",
    "# Can't seem to get the svg version to work\n",
    "def create_brace_svg(length=1.0, side_length=0.2, open_dir=manim.RIGHT, stroke_width=0):\n",
    "    path_string_template = f'M0 0L{side_length} 0L{side_length} {length}L{0} {side_length}z'\n",
    "    obj = manim.SVGPathMobject(path_string=path_string_template, \n",
    "                               stroke_width=stroke_width,\n",
    "                               stroke_color=font_color,\n",
    "                               sharpness=2).set_color(font_color)\n",
    "    if np.array_equal(open_dir, manim.LEFT):\n",
    "        pass\n",
    "    elif np.array_equal(open_dir, manim.RIGHT):\n",
    "        obj.flip(manim.X_AXIS)\n",
    "    elif np.array_equal(open_dir, manim.UP):\n",
    "        obj.rotate_about_origin(manim.DEGREES*90)\n",
    "    elif np.array_equal(open_dir == manim.DOWN):\n",
    "        obj.flip(manim.X_AXIS)\n",
    "        obj.rotate_about_origin(manim.DEGREES*90)\n",
    "    else:\n",
    "        raise Exception(f'Unexpected direction: {open_dir}')\n",
    "    return obj\n",
    "\n",
    "\n",
    "\n",
    "\n",
    "class RowsCombineRows(manim.MovingCameraScene):\n",
    "    def __init__(self, *args, **kwargs):\n",
    "        super().__init__(*args, **kwargs)\n",
    "        self.vecs = []\n",
    "        self.res = None\n",
    "        self.factors = []\n",
    "        self.equals = None\n",
    "        self.other_text = [] \n",
    "        \n",
    "    def construct(self):\n",
    "        self.camera.frame_center = manim.ORIGIN + np.array([0.7, -2.5, 0])\n",
    "        self.camera.frame.scale(1.2)        \n",
    "        self.eq_animated()\n",
    "        return\n",
    "\n",
    "        fs = [eq2.m['F']]\n",
    "        ys = [eq2.m['Y']]\n",
    "        # Without partials, it's easy to accidentally not capture a copy of a variable in a lambda.\n",
    "        import functools\n",
    "        def update_y(prev_y, y):\n",
    "            y.next_to(prev_y)\n",
    "            \n",
    "        ys[0].add_updater(lambda o : o.next_to(eq2.m['lb3']))        \n",
    "        for i in range(1, len(mixes)):\n",
    "            ys.append(copy.deepcopy(ys[i-1]).next_to(ys[i-1]))\n",
    "            fs.append(create_num_col(mixes[i]).next_to(fs[i-1]))\n",
    "            ys[i].add_updater(functools.partial(update_y, ys[i-1]))\n",
    "        eq2.m['='].add_updater(lambda o : o.next_to(eq2.m['rb2']))\n",
    "        eq2.m['lb3'].add_updater(lambda o : o.next_to(eq2.m['=']))\n",
    "        current = 0\n",
    "        #eq2.m['rb3'].add_updater(lambda o : o.next_to(ys[current]))\n",
    "        for i in range(1, len(mixes)):\n",
    "            anims = []\n",
    "            # I can't get next_to to work for rb3. So use hacky shift instead.\n",
    "            #self.play(eq2.m['rb3'].animate.next_to(ys[i]))            \n",
    "            self.play(eq2.m['rb2'].animate.next_to(fs[i]),\n",
    "                      eq2.m['rb3'].animate.shift([2.4*scale, 0, 0]))\n",
    "            current = i\n",
    "            anims.append(manim.FadeIn(fs[i]))\n",
    "            anims.append(manim.FadeIn(ys[i]))\n",
    "            self.play(*anims)\n",
    "            self.wait(0.5)\n",
    "        self.wait(1)\n",
    "        \n",
    "        # Part 2.\n",
    "        to_nums_anim = []\n",
    "        to_blocks_anim = []\n",
    "        y = mixes @ X_in\n",
    "        block_num_pairs = list(zip([eq2.m['X0'], eq2.m['X1'], eq2.m['X2']], X_in)) + list(zip(ys, y))\n",
    "        for c,nums in block_num_pairs:\n",
    "            for block, n in zip(reversed(c), nums):\n",
    "                manim_int = manim.Integer(n, color=font_color).move_to(block)\n",
    "                to_nums_anim.append(manim.FadeIn(manim_int))\n",
    "                to_nums_anim.append(manim.FadeOut(block))\n",
    "                to_blocks_anim.append(manim.FadeOut(manim_int))\n",
    "                to_blocks_anim.append(manim.FadeIn(block))\n",
    "        self.play(*to_nums_anim)      \n",
    "        self.wait(1.3)\n",
    "        self.play(*to_blocks_anim)\n",
    "        self.wait(1.3)\n",
    "        self.play(*to_nums_anim)\n",
    "        self.wait(1.3)\n",
    "        self.play(*to_blocks_anim)\n",
    "        self.wait(1)\n",
    "   \n",
    "    def create_num_row(self, v):\n",
    "        return manim.Group(*(manim.Integer(i, color=font_color) for i in v)).arrange(direction=manim.X_AXIS, buff= 0.5)\n",
    "\n",
    "    def eq_animated(self):\n",
    "        xs = manim.Group()\n",
    "        x_vecs = [create_2d_vec(num_input_boxes, manim.X_AXIS, colors[i]) for i in range(len(mix))] \n",
    "        xs.add(*reversed(x_vecs))\n",
    "        xs.arrange(direction=manim.Y_AXIS)        \n",
    "        xs.move_to(manim.ORIGIN)\n",
    "        lb_x = manim.MathTex(r'\\big[', color=font_color).scale(3).stretch_to_fit_height(xs.height + 0.4).next_to(xs, manim.LEFT)\n",
    "        rb_x = manim.MathTex(r'\\big]', color=font_color).scale(3).stretch_to_fit_height(lb_x.height) .next_to(xs, manim.RIGHT)\n",
    "        lb_x = create_bracket(xs.height + 0.4, open_dir=manim.RIGHT).next_to(xs, manim.LEFT)\n",
    "        rb_x = create_bracket(xs.height + 0.4, open_dir=manim.LEFT).next_to(xs, manim.RIGHT)\n",
    "        equality = manim.MathTex('=', color=font_color).next_to(rb_x, manim.RIGHT)\n",
    "        self.add(xs, lb_x, rb_x, equality)\n",
    "        ys = [create_2d_vec(num_input_boxes, manim.X_AXIS, result_color)]\n",
    "        fs = [self.create_num_row(mixes[0])]\n",
    "        f_buff = np.array([-2, 0, 0])\n",
    "        y_buff = np.array([3, 0, 0])\n",
    "        fs[0].move_to(x_vecs[0].get_critical_point([-1, 0, 0]) + f_buff)\n",
    "        ys[0].move_to(x_vecs[0].get_critical_point([1, 0, 0]) + y_buff)        \n",
    "        self.add(ys[0], fs[0])\n",
    "\n",
    "        def bracket_height():\n",
    "            return ys[0].get_critical_point([0, 1, 0])[1] - ys[-1].get_critical_point([0, -1, 0])[1] + bracket_margin\n",
    "        bracket_margin = 0.4\n",
    "        #lb_f = manim.MathTex(r'\\big[', color=font_color).scale(2).stretch_to_fit_height(ys[0].height + bracket_margin).next_to(fs[0], manim.LEFT)\n",
    "        lb_f = create_bracket(bracket_height()).next_to(fs[0], manim.LEFT)\n",
    "        rb_f = create_bracket(bracket_height(), open_dir=manim.LEFT).next_to(fs[0], manim.RIGHT)\n",
    "        lb_y = create_bracket(bracket_height()).next_to(ys[0], manim.LEFT)\n",
    "        rb_y = create_bracket(bracket_height(), open_dir=manim.LEFT).next_to(ys[0], manim.RIGHT)\n",
    "        self.add(lb_f, rb_f, lb_y, rb_y)\n",
    "        \n",
    "        cur = 0\n",
    "        bracket_incr = 0.7\n",
    "        for i in range(1, len(mixes)):\n",
    "            cur += 1\n",
    "            self.wait(1)\n",
    "            y_pos = ys[-1].get_critical_point(np.array([0, -1, 0]))\n",
    "            f_pos = fs[-1].get_critical_point(np.array([0, -1, 0]))\n",
    "            buff = np.array([0, -0.5, 0])\n",
    "            new_y_pos = y_pos + buff\n",
    "            res_color = result_colors[i] if use_gradient else result_color\n",
    "            ys.append(create_2d_vec(num_input_boxes, manim.X_AXIS, res_color).move_to(new_y_pos))\n",
    "            new_f_pos = np.array([f_pos[0], new_y_pos[1], 0])\n",
    "            fs.append(self.create_num_row(mixes[i]).move_to(new_f_pos))\n",
    "            self.play(*[\n",
    "                lb_f.animate.become(create_bracket(bracket_height(), open_dir=manim.RIGHT).align_to(lb_f, direction=[-1,1, 0])),\n",
    "                rb_f.animate.become(create_bracket(bracket_height(), open_dir=manim.LEFT ).align_to(rb_f, direction=[-1,1, 0])),\n",
    "                lb_y.animate.become(create_bracket(bracket_height(), open_dir=manim.RIGHT).align_to(lb_y, direction=[-1,1, 0])),\n",
    "                rb_y.animate.become(create_bracket(bracket_height(), open_dir=manim.LEFT ).align_to(rb_y, direction=[-1,1, 0])),\n",
    "            \n",
    "            ])\n",
    "            self.play(*[manim.FadeIn(ys[-1]), manim.FadeIn(fs[-1])])\n",
    "\n",
    "class unused:\n",
    "    def eq(self):\n",
    "        xs = manim.Group()\n",
    "        ys = manim.Group()  \n",
    "        fs = manim.Group()        \n",
    "        xs.add(*[create_2d_vec(num_input_boxes, manim.X_AXIS, colors[i]) for i in range(len(mix))])\n",
    "        ys.add(*[create_2d_vec(num_input_boxes, manim.X_AXIS, result_colors[i]) for i in range(len(mixes))])\n",
    "        fs.add(*[self.create_num_row(r) for r in mixes])\n",
    "        xs.arrange(direction=manim.Y_AXIS)        \n",
    "        ys.arrange(direction=manim.Y_AXIS)          \n",
    "        fs.arrange(direction=manim.Y_AXIS)\n",
    "        lb_tall = manim.MathTex(r'\\big[', color=font_color).scale(2).stretch_to_fit_height(fs.height + 0.4)\n",
    "        rb_tall = manim.MathTex(r'\\big]', color=font_color).scale(2).stretch_to_fit_height(lb_tall.height)        \n",
    "        lb_short = manim.MathTex(r'\\big[', color=font_color).scale(2).stretch_to_fit_height(xs.height + 0.4)\n",
    "        rb_short = manim.MathTex(r'\\big]', color=font_color).scale(2).stretch_to_fit_height(lb_short.height)         \n",
    "        eq = TargetObject(OrderedDict({\n",
    "                    #manim.IntegerMatrix([[mix[0]], [mix[1]], [mix[2]]]).set_color(font_color),\n",
    "                    'lb1' : lb_tall.copy(),\n",
    "                    'F'   : fs,\n",
    "                    'rb1' : rb_tall.copy(),\n",
    "                    'lb2' : lb_short.copy(),\n",
    "                    'X'   : xs,            \n",
    "                    'rb2' : rb_short.copy(),             \n",
    "                    '='   : manim.MathTex('=', color=font_color),\n",
    "                    'lb3' : lb_tall.copy(),\n",
    "                    'Y'   : ys,\n",
    "                    'rb3' : rb_tall.copy()}))\n",
    "        # Maintain position of equals sign.\n",
    "        def stretch_to_y_height(o):\n",
    "            pass#o.stretch_to_fit_height(eq.m['Y'].height + 0.4)\n",
    "        \n",
    "        def stretch_to_f_height(o):\n",
    "            pass#o.stretch_to_fit_height(eq.m['F'].height + 0.4)\n",
    "            \n",
    "        eq.m['lb1'].add_updater(stretch_to_f_height)\n",
    "        eq.m['rb1'].add_updater(stretch_to_f_height)\n",
    "        eq.m['lb3'].add_updater(stretch_to_y_height)\n",
    "        eq.m['rb3'].add_updater(stretch_to_y_height)\n",
    "        eq.obj.arrange(direction=manim.X_AXIS)\n",
    "        anims = []\n",
    "        return eq\n",
    "    \n",
    "    def eq1(self):\n",
    "        eq = manim.Mobject()\n",
    "        spacing = 4.3 * scale\n",
    "        offsets = np.array([1, 0.3, 0.3, 0.5, 1.15]) * scale\n",
    "        \n",
    "        for i in range(len(mix)):\n",
    "            vec = create_2d_vec(num_input_boxes, manim.Y_AXIS, colors[i])\n",
    "            vec_pos = spacing * (-len(mix) + i) + offsets[0]\n",
    "            vec.move_to([vec_pos, 0, 0])\n",
    "            mult = manim.Tex('$\\\\times$', color=font_color)\n",
    "            mult.next_to(vec, buff=offsets[1])\n",
    "            factor = manim.Tex(f'${mix[i]}$', color=font_color)\n",
    "            factor.next_to(mult, buff=offsets[2])\n",
    "            if(i < len(mix) - 1):\n",
    "                plus = manim.Tex('$+$', color=font_color)\n",
    "                plus.next_to(factor, buff=offsets[3])\n",
    "            self.vecs.append(vec)\n",
    "            self.factors.append(factor)\n",
    "            self.other_text.extend([mult, plus])\n",
    "            eq.add(vec, factor, mult, plus)\n",
    "        self.equals = manim.Tex('=', color=font_color)\n",
    "        self.equals.move_to([0, 0, 0])\n",
    "        self.res = create_2d_vec(num_input_boxes, manim.Y_AXIS, result_color)\n",
    "        self.res.next_to(self.equals, buff=offsets[4])\n",
    "        eq.add(self.equals, self.res)\n",
    "        eq.add(self.equals)\n",
    "        return eq        "
   ]
  },
  {
   "cell_type": "code",
   "execution_count": 26,
   "id": "3c6fc136-118c-4ae2-9868-fd98abca7e47",
   "metadata": {},
   "outputs": [
    {
     "name": "stderr",
     "output_type": "stream",
     "text": [
      "                                                                                                             \r"
     ]
    },
    {
     "data": {
      "text/html": [
       "<pre style=\"white-space:pre;overflow-x:auto;line-height:normal;font-family:Menlo,'DejaVu Sans Mono',consolas,'Courier New',monospace\"><span style=\"color: #7fbfbf\">[05/09/21 04:30:18] </span><span style=\"color: #008000\">INFO</span>     Animation <span style=\"color: #008000\">0</span> : Partial movie file        <a href=\"file:///usr/local/lib/python3.8/site-packages/manim/scene/scene_file_writer.py\"><span style=\"color: #7f7f7f\">scene_file_writer.py</span></a><span style=\"color: #7f7f7f\">:401</span>\n",
       "                             written in <span style=\"font-weight: bold\">{</span><span style=\"color: #008000\">'/manim/notebooks/media/vid</span>                         \n",
       "                             <span style=\"color: #008000\">eos/notebooks/720p60/partial_movie_file</span>                         \n",
       "                             <span style=\"color: #008000\">s/CRecipe/3157264259_1381318718_1559302</span>                         \n",
       "                             <span style=\"color: #008000\">942.mp4'</span><span style=\"font-weight: bold\">}</span>                                                       \n",
       "</pre>\n"
      ],
      "text/plain": [
       "<rich.jupyter.JupyterRenderable at 0x7fe124389190>"
      ]
     },
     "metadata": {},
     "output_type": "display_data"
    },
    {
     "name": "stderr",
     "output_type": "stream",
     "text": [
      "                                                                                                             \r"
     ]
    },
    {
     "data": {
      "text/html": [
       "<pre style=\"white-space:pre;overflow-x:auto;line-height:normal;font-family:Menlo,'DejaVu Sans Mono',consolas,'Courier New',monospace\"><span style=\"color: #7fbfbf\">[05/09/21 04:30:26] </span><span style=\"color: #008000\">INFO</span>     Animation <span style=\"color: #008000\">1</span> : Partial movie file        <a href=\"file:///usr/local/lib/python3.8/site-packages/manim/scene/scene_file_writer.py\"><span style=\"color: #7f7f7f\">scene_file_writer.py</span></a><span style=\"color: #7f7f7f\">:401</span>\n",
       "                             written in <span style=\"font-weight: bold\">{</span><span style=\"color: #008000\">'/manim/notebooks/media/vid</span>                         \n",
       "                             <span style=\"color: #008000\">eos/notebooks/720p60/partial_movie_file</span>                         \n",
       "                             <span style=\"color: #008000\">s/CRecipe/682978632_3549171416_92614634</span>                         \n",
       "                             <span style=\"color: #008000\">0.mp4'</span><span style=\"font-weight: bold\">}</span>                                                         \n",
       "</pre>\n"
      ],
      "text/plain": [
       "<rich.jupyter.JupyterRenderable at 0x7fe150f72670>"
      ]
     },
     "metadata": {},
     "output_type": "display_data"
    },
    {
     "data": {
      "text/html": [
       "<pre style=\"white-space:pre;overflow-x:auto;line-height:normal;font-family:Menlo,'DejaVu Sans Mono',consolas,'Courier New',monospace\"><span style=\"color: #7fbfbf\">[05/09/21 04:30:27] </span><span style=\"color: #008000\">INFO</span>     Animation <span style=\"color: #008000\">2</span> : Partial movie file        <a href=\"file:///usr/local/lib/python3.8/site-packages/manim/scene/scene_file_writer.py\"><span style=\"color: #7f7f7f\">scene_file_writer.py</span></a><span style=\"color: #7f7f7f\">:401</span>\n",
       "                             written in <span style=\"font-weight: bold\">{</span><span style=\"color: #008000\">'/manim/notebooks/media/vid</span>                         \n",
       "                             <span style=\"color: #008000\">eos/notebooks/720p60/partial_movie_file</span>                         \n",
       "                             <span style=\"color: #008000\">s/CRecipe/682978632_2763922376_24587300</span>                         \n",
       "                             <span style=\"color: #008000\">6.mp4'</span><span style=\"font-weight: bold\">}</span>                                                         \n",
       "</pre>\n"
      ],
      "text/plain": [
       "<rich.jupyter.JupyterRenderable at 0x7fe150f72e80>"
      ]
     },
     "metadata": {},
     "output_type": "display_data"
    },
    {
     "name": "stderr",
     "output_type": "stream",
     "text": [
      "                                                                                                                 \r"
     ]
    },
    {
     "data": {
      "text/html": [
       "<pre style=\"white-space:pre;overflow-x:auto;line-height:normal;font-family:Menlo,'DejaVu Sans Mono',consolas,'Courier New',monospace\"><span style=\"color: #7fbfbf\">[05/09/21 04:30:28] </span><span style=\"color: #008000\">INFO</span>     Animation <span style=\"color: #008000\">3</span> : Partial movie file        <a href=\"file:///usr/local/lib/python3.8/site-packages/manim/scene/scene_file_writer.py\"><span style=\"color: #7f7f7f\">scene_file_writer.py</span></a><span style=\"color: #7f7f7f\">:401</span>\n",
       "                             written in <span style=\"font-weight: bold\">{</span><span style=\"color: #008000\">'/manim/notebooks/media/vid</span>                         \n",
       "                             <span style=\"color: #008000\">eos/notebooks/720p60/partial_movie_file</span>                         \n",
       "                             <span style=\"color: #008000\">s/CRecipe/682978632_3641370074_36461840</span>                         \n",
       "                             <span style=\"color: #008000\">25.mp4'</span><span style=\"font-weight: bold\">}</span>                                                        \n",
       "</pre>\n"
      ],
      "text/plain": [
       "<rich.jupyter.JupyterRenderable at 0x7fe150ed0b50>"
      ]
     },
     "metadata": {},
     "output_type": "display_data"
    },
    {
     "name": "stderr",
     "output_type": "stream",
     "text": [
      "                                                                                                             \r"
     ]
    },
    {
     "data": {
      "text/html": [
       "<pre style=\"white-space:pre;overflow-x:auto;line-height:normal;font-family:Menlo,'DejaVu Sans Mono',consolas,'Courier New',monospace\"><span style=\"color: #7fbfbf\">[05/09/21 04:30:32] </span><span style=\"color: #008000\">INFO</span>     Animation <span style=\"color: #008000\">4</span> : Partial movie file        <a href=\"file:///usr/local/lib/python3.8/site-packages/manim/scene/scene_file_writer.py\"><span style=\"color: #7f7f7f\">scene_file_writer.py</span></a><span style=\"color: #7f7f7f\">:401</span>\n",
       "                             written in <span style=\"font-weight: bold\">{</span><span style=\"color: #008000\">'/manim/notebooks/media/vid</span>                         \n",
       "                             <span style=\"color: #008000\">eos/notebooks/720p60/partial_movie_file</span>                         \n",
       "                             <span style=\"color: #008000\">s/CRecipe/682978632_1040726656_33315481</span>                         \n",
       "                             <span style=\"color: #008000\">2.mp4'</span><span style=\"font-weight: bold\">}</span>                                                         \n",
       "</pre>\n"
      ],
      "text/plain": [
       "<rich.jupyter.JupyterRenderable at 0x7fe1509f7dc0>"
      ]
     },
     "metadata": {},
     "output_type": "display_data"
    },
    {
     "name": "stderr",
     "output_type": "stream",
     "text": [
      "                                                                                                             \r"
     ]
    },
    {
     "data": {
      "text/html": [
       "<pre style=\"white-space:pre;overflow-x:auto;line-height:normal;font-family:Menlo,'DejaVu Sans Mono',consolas,'Courier New',monospace\"><span style=\"color: #7fbfbf\">[05/09/21 04:30:36] </span><span style=\"color: #008000\">INFO</span>     Animation <span style=\"color: #008000\">5</span> : Partial movie file        <a href=\"file:///usr/local/lib/python3.8/site-packages/manim/scene/scene_file_writer.py\"><span style=\"color: #7f7f7f\">scene_file_writer.py</span></a><span style=\"color: #7f7f7f\">:401</span>\n",
       "                             written in <span style=\"font-weight: bold\">{</span><span style=\"color: #008000\">'/manim/notebooks/media/vid</span>                         \n",
       "                             <span style=\"color: #008000\">eos/notebooks/720p60/partial_movie_file</span>                         \n",
       "                             <span style=\"color: #008000\">s/CRecipe/682978632_1076368571_11350744</span>                         \n",
       "                             <span style=\"color: #008000\">21.mp4'</span><span style=\"font-weight: bold\">}</span>                                                        \n",
       "</pre>\n"
      ],
      "text/plain": [
       "<rich.jupyter.JupyterRenderable at 0x7fe150edcdc0>"
      ]
     },
     "metadata": {},
     "output_type": "display_data"
    },
    {
     "data": {
      "text/html": [
       "<pre style=\"white-space:pre;overflow-x:auto;line-height:normal;font-family:Menlo,'DejaVu Sans Mono',consolas,'Courier New',monospace\"><span style=\"color: #7fbfbf\">[05/09/21 04:30:37] </span><span style=\"color: #008000\">INFO</span>     Animation <span style=\"color: #008000\">6</span> : Partial movie file        <a href=\"file:///usr/local/lib/python3.8/site-packages/manim/scene/scene_file_writer.py\"><span style=\"color: #7f7f7f\">scene_file_writer.py</span></a><span style=\"color: #7f7f7f\">:401</span>\n",
       "                             written in <span style=\"font-weight: bold\">{</span><span style=\"color: #008000\">'/manim/notebooks/media/vid</span>                         \n",
       "                             <span style=\"color: #008000\">eos/notebooks/720p60/partial_movie_file</span>                         \n",
       "                             <span style=\"color: #008000\">s/CRecipe/682978632_2763922376_12443347</span>                         \n",
       "                             <span style=\"color: #008000\">35.mp4'</span><span style=\"font-weight: bold\">}</span>                                                        \n",
       "</pre>\n"
      ],
      "text/plain": [
       "<rich.jupyter.JupyterRenderable at 0x7fe14e4b8d90>"
      ]
     },
     "metadata": {},
     "output_type": "display_data"
    },
    {
     "name": "stderr",
     "output_type": "stream",
     "text": [
      "                                                                                                                 \r"
     ]
    },
    {
     "data": {
      "text/html": [
       "<pre style=\"white-space:pre;overflow-x:auto;line-height:normal;font-family:Menlo,'DejaVu Sans Mono',consolas,'Courier New',monospace\"><span style=\"color: #7fbfbf\">[05/09/21 04:30:39] </span><span style=\"color: #008000\">INFO</span>     Animation <span style=\"color: #008000\">7</span> : Partial movie file        <a href=\"file:///usr/local/lib/python3.8/site-packages/manim/scene/scene_file_writer.py\"><span style=\"color: #7f7f7f\">scene_file_writer.py</span></a><span style=\"color: #7f7f7f\">:401</span>\n",
       "                             written in <span style=\"font-weight: bold\">{</span><span style=\"color: #008000\">'/manim/notebooks/media/vid</span>                         \n",
       "                             <span style=\"color: #008000\">eos/notebooks/720p60/partial_movie_file</span>                         \n",
       "                             <span style=\"color: #008000\">s/CRecipe/682978632_3523172015_34774313</span>                         \n",
       "                             <span style=\"color: #008000\">50.mp4'</span><span style=\"font-weight: bold\">}</span>                                                        \n",
       "</pre>\n"
      ],
      "text/plain": [
       "<rich.jupyter.JupyterRenderable at 0x7fe15106d280>"
      ]
     },
     "metadata": {},
     "output_type": "display_data"
    },
    {
     "name": "stderr",
     "output_type": "stream",
     "text": [
      "                                                                                                             \r"
     ]
    },
    {
     "data": {
      "text/html": [
       "<pre style=\"white-space:pre;overflow-x:auto;line-height:normal;font-family:Menlo,'DejaVu Sans Mono',consolas,'Courier New',monospace\"><span style=\"color: #7fbfbf\">[05/09/21 04:30:45] </span><span style=\"color: #008000\">INFO</span>     Animation <span style=\"color: #008000\">8</span> : Partial movie file        <a href=\"file:///usr/local/lib/python3.8/site-packages/manim/scene/scene_file_writer.py\"><span style=\"color: #7f7f7f\">scene_file_writer.py</span></a><span style=\"color: #7f7f7f\">:401</span>\n",
       "                             written in <span style=\"font-weight: bold\">{</span><span style=\"color: #008000\">'/manim/notebooks/media/vid</span>                         \n",
       "                             <span style=\"color: #008000\">eos/notebooks/720p60/partial_movie_file</span>                         \n",
       "                             <span style=\"color: #008000\">s/CRecipe/682978632_1392587579_28095248</span>                         \n",
       "                             <span style=\"color: #008000\">4.mp4'</span><span style=\"font-weight: bold\">}</span>                                                         \n",
       "</pre>\n"
      ],
      "text/plain": [
       "<rich.jupyter.JupyterRenderable at 0x7fe150e9c670>"
      ]
     },
     "metadata": {},
     "output_type": "display_data"
    },
    {
     "name": "stderr",
     "output_type": "stream",
     "text": [
      "                                                                                                             \r"
     ]
    },
    {
     "data": {
      "text/html": [
       "<pre style=\"white-space:pre;overflow-x:auto;line-height:normal;font-family:Menlo,'DejaVu Sans Mono',consolas,'Courier New',monospace\"><span style=\"color: #7fbfbf\">[05/09/21 04:30:52] </span><span style=\"color: #008000\">INFO</span>     Animation <span style=\"color: #008000\">9</span> : Partial movie file        <a href=\"file:///usr/local/lib/python3.8/site-packages/manim/scene/scene_file_writer.py\"><span style=\"color: #7f7f7f\">scene_file_writer.py</span></a><span style=\"color: #7f7f7f\">:401</span>\n",
       "                             written in <span style=\"font-weight: bold\">{</span><span style=\"color: #008000\">'/manim/notebooks/media/vid</span>                         \n",
       "                             <span style=\"color: #008000\">eos/notebooks/720p60/partial_movie_file</span>                         \n",
       "                             <span style=\"color: #008000\">s/CRecipe/682978632_2633387724_38997487</span>                         \n",
       "                             <span style=\"color: #008000\">42.mp4'</span><span style=\"font-weight: bold\">}</span>                                                        \n",
       "</pre>\n"
      ],
      "text/plain": [
       "<rich.jupyter.JupyterRenderable at 0x7fe150c79310>"
      ]
     },
     "metadata": {},
     "output_type": "display_data"
    },
    {
     "data": {
      "text/html": [
       "<pre style=\"white-space:pre;overflow-x:auto;line-height:normal;font-family:Menlo,'DejaVu Sans Mono',consolas,'Courier New',monospace\"><span style=\"color: #7fbfbf\">                    </span><span style=\"color: #008000\">INFO</span>     Animation <span style=\"color: #008000\">10</span> : Partial movie file       <a href=\"file:///usr/local/lib/python3.8/site-packages/manim/scene/scene_file_writer.py\"><span style=\"color: #7f7f7f\">scene_file_writer.py</span></a><span style=\"color: #7f7f7f\">:401</span>\n",
       "                             written in <span style=\"font-weight: bold\">{</span><span style=\"color: #008000\">'/manim/notebooks/media/vid</span>                         \n",
       "                             <span style=\"color: #008000\">eos/notebooks/720p60/partial_movie_file</span>                         \n",
       "                             <span style=\"color: #008000\">s/CRecipe/682978632_2763922376_76179930</span>                         \n",
       "                             <span style=\"color: #008000\">0.mp4'</span><span style=\"font-weight: bold\">}</span>                                                         \n",
       "</pre>\n"
      ],
      "text/plain": [
       "<rich.jupyter.JupyterRenderable at 0x7fe150e9ca00>"
      ]
     },
     "metadata": {},
     "output_type": "display_data"
    },
    {
     "name": "stderr",
     "output_type": "stream",
     "text": [
      "                                                                                                                  \r"
     ]
    },
    {
     "data": {
      "text/html": [
       "<pre style=\"white-space:pre;overflow-x:auto;line-height:normal;font-family:Menlo,'DejaVu Sans Mono',consolas,'Courier New',monospace\"><span style=\"color: #7fbfbf\">[05/09/21 04:30:55] </span><span style=\"color: #008000\">INFO</span>     Animation <span style=\"color: #008000\">11</span> : Partial movie file       <a href=\"file:///usr/local/lib/python3.8/site-packages/manim/scene/scene_file_writer.py\"><span style=\"color: #7f7f7f\">scene_file_writer.py</span></a><span style=\"color: #7f7f7f\">:401</span>\n",
       "                             written in <span style=\"font-weight: bold\">{</span><span style=\"color: #008000\">'/manim/notebooks/media/vid</span>                         \n",
       "                             <span style=\"color: #008000\">eos/notebooks/720p60/partial_movie_file</span>                         \n",
       "                             <span style=\"color: #008000\">s/CRecipe/682978632_3351851160_29355985</span>                         \n",
       "                             <span style=\"color: #008000\">92.mp4'</span><span style=\"font-weight: bold\">}</span>                                                        \n",
       "</pre>\n"
      ],
      "text/plain": [
       "<rich.jupyter.JupyterRenderable at 0x7fe150e3d3a0>"
      ]
     },
     "metadata": {},
     "output_type": "display_data"
    },
    {
     "name": "stderr",
     "output_type": "stream",
     "text": [
      "                                                                                                        \r"
     ]
    },
    {
     "data": {
      "text/html": [
       "<pre style=\"white-space:pre;overflow-x:auto;line-height:normal;font-family:Menlo,'DejaVu Sans Mono',consolas,'Courier New',monospace\"><span style=\"color: #7fbfbf\">[05/09/21 04:30:57] </span><span style=\"color: #008000\">INFO</span>     Animation <span style=\"color: #008000\">12</span> : Partial movie file       <a href=\"file:///usr/local/lib/python3.8/site-packages/manim/scene/scene_file_writer.py\"><span style=\"color: #7f7f7f\">scene_file_writer.py</span></a><span style=\"color: #7f7f7f\">:401</span>\n",
       "                             written in <span style=\"font-weight: bold\">{</span><span style=\"color: #008000\">'/manim/notebooks/media/vid</span>                         \n",
       "                             <span style=\"color: #008000\">eos/notebooks/720p60/partial_movie_file</span>                         \n",
       "                             <span style=\"color: #008000\">s/CRecipe/682978632_3673089993_23270210</span>                         \n",
       "                             <span style=\"color: #008000\">83.mp4'</span><span style=\"font-weight: bold\">}</span>                                                        \n",
       "</pre>\n"
      ],
      "text/plain": [
       "<rich.jupyter.JupyterRenderable at 0x7fe151062ca0>"
      ]
     },
     "metadata": {},
     "output_type": "display_data"
    },
    {
     "name": "stderr",
     "output_type": "stream",
     "text": [
      "                                                                                                        \r"
     ]
    },
    {
     "data": {
      "text/html": [
       "<pre style=\"white-space:pre;overflow-x:auto;line-height:normal;font-family:Menlo,'DejaVu Sans Mono',consolas,'Courier New',monospace\"><span style=\"color: #7fbfbf\">[05/09/21 04:30:59] </span><span style=\"color: #008000\">INFO</span>     Animation <span style=\"color: #008000\">13</span> : Partial movie file       <a href=\"file:///usr/local/lib/python3.8/site-packages/manim/scene/scene_file_writer.py\"><span style=\"color: #7f7f7f\">scene_file_writer.py</span></a><span style=\"color: #7f7f7f\">:401</span>\n",
       "                             written in <span style=\"font-weight: bold\">{</span><span style=\"color: #008000\">'/manim/notebooks/media/vid</span>                         \n",
       "                             <span style=\"color: #008000\">eos/notebooks/720p60/partial_movie_file</span>                         \n",
       "                             <span style=\"color: #008000\">s/CRecipe/682978632_3020277601_12462971</span>                         \n",
       "                             <span style=\"color: #008000\">76.mp4'</span><span style=\"font-weight: bold\">}</span>                                                        \n",
       "</pre>\n"
      ],
      "text/plain": [
       "<rich.jupyter.JupyterRenderable at 0x7fe150ca7700>"
      ]
     },
     "metadata": {},
     "output_type": "display_data"
    },
    {
     "data": {
      "text/html": [
       "<pre style=\"white-space:pre;overflow-x:auto;line-height:normal;font-family:Menlo,'DejaVu Sans Mono',consolas,'Courier New',monospace\"><span style=\"color: #7fbfbf\">                    </span><span style=\"color: #008000\">INFO</span>     Animation <span style=\"color: #008000\">14</span> : Partial movie file       <a href=\"file:///usr/local/lib/python3.8/site-packages/manim/scene/scene_file_writer.py\"><span style=\"color: #7f7f7f\">scene_file_writer.py</span></a><span style=\"color: #7f7f7f\">:401</span>\n",
       "                             written in <span style=\"font-weight: bold\">{</span><span style=\"color: #008000\">'/manim/notebooks/media/vid</span>                         \n",
       "                             <span style=\"color: #008000\">eos/notebooks/720p60/partial_movie_file</span>                         \n",
       "                             <span style=\"color: #008000\">s/CRecipe/682978632_2763922376_86398739</span>                         \n",
       "                             <span style=\"color: #008000\">8.mp4'</span><span style=\"font-weight: bold\">}</span>                                                         \n",
       "</pre>\n"
      ],
      "text/plain": [
       "<rich.jupyter.JupyterRenderable at 0x7fe150f7dc70>"
      ]
     },
     "metadata": {},
     "output_type": "display_data"
    },
    {
     "name": "stderr",
     "output_type": "stream",
     "text": [
      "                                                                                                                  \r"
     ]
    },
    {
     "data": {
      "text/html": [
       "<pre style=\"white-space:pre;overflow-x:auto;line-height:normal;font-family:Menlo,'DejaVu Sans Mono',consolas,'Courier New',monospace\"><span style=\"color: #7fbfbf\">[05/09/21 04:31:02] </span><span style=\"color: #008000\">INFO</span>     Animation <span style=\"color: #008000\">15</span> : Partial movie file       <a href=\"file:///usr/local/lib/python3.8/site-packages/manim/scene/scene_file_writer.py\"><span style=\"color: #7f7f7f\">scene_file_writer.py</span></a><span style=\"color: #7f7f7f\">:401</span>\n",
       "                             written in <span style=\"font-weight: bold\">{</span><span style=\"color: #008000\">'/manim/notebooks/media/vid</span>                         \n",
       "                             <span style=\"color: #008000\">eos/notebooks/720p60/partial_movie_file</span>                         \n",
       "                             <span style=\"color: #008000\">s/CRecipe/682978632_358959273_360394078</span>                         \n",
       "                             <span style=\"color: #008000\">.mp4'</span><span style=\"font-weight: bold\">}</span>                                                          \n",
       "</pre>\n"
      ],
      "text/plain": [
       "<rich.jupyter.JupyterRenderable at 0x7fe12455f520>"
      ]
     },
     "metadata": {},
     "output_type": "display_data"
    },
    {
     "name": "stderr",
     "output_type": "stream",
     "text": [
      "                                                                                                              \r"
     ]
    },
    {
     "data": {
      "text/html": [
       "<pre style=\"white-space:pre;overflow-x:auto;line-height:normal;font-family:Menlo,'DejaVu Sans Mono',consolas,'Courier New',monospace\"><span style=\"color: #7fbfbf\">[05/09/21 04:31:08] </span><span style=\"color: #008000\">INFO</span>     Animation <span style=\"color: #008000\">16</span> : Partial movie file       <a href=\"file:///usr/local/lib/python3.8/site-packages/manim/scene/scene_file_writer.py\"><span style=\"color: #7f7f7f\">scene_file_writer.py</span></a><span style=\"color: #7f7f7f\">:401</span>\n",
       "                             written in <span style=\"font-weight: bold\">{</span><span style=\"color: #008000\">'/manim/notebooks/media/vid</span>                         \n",
       "                             <span style=\"color: #008000\">eos/notebooks/720p60/partial_movie_file</span>                         \n",
       "                             <span style=\"color: #008000\">s/CRecipe/682978632_2855490427_59131139</span>                         \n",
       "                             <span style=\"color: #008000\">2.mp4'</span><span style=\"font-weight: bold\">}</span>                                                         \n",
       "</pre>\n"
      ],
      "text/plain": [
       "<rich.jupyter.JupyterRenderable at 0x7fe14e495f40>"
      ]
     },
     "metadata": {},
     "output_type": "display_data"
    },
    {
     "name": "stderr",
     "output_type": "stream",
     "text": [
      "                                                                                                              \r"
     ]
    },
    {
     "data": {
      "text/html": [
       "<pre style=\"white-space:pre;overflow-x:auto;line-height:normal;font-family:Menlo,'DejaVu Sans Mono',consolas,'Courier New',monospace\"><span style=\"color: #7fbfbf\">[05/09/21 04:31:15] </span><span style=\"color: #008000\">INFO</span>     Animation <span style=\"color: #008000\">17</span> : Partial movie file       <a href=\"file:///usr/local/lib/python3.8/site-packages/manim/scene/scene_file_writer.py\"><span style=\"color: #7f7f7f\">scene_file_writer.py</span></a><span style=\"color: #7f7f7f\">:401</span>\n",
       "                             written in <span style=\"font-weight: bold\">{</span><span style=\"color: #008000\">'/manim/notebooks/media/vid</span>                         \n",
       "                             <span style=\"color: #008000\">eos/notebooks/720p60/partial_movie_file</span>                         \n",
       "                             <span style=\"color: #008000\">s/CRecipe/682978632_834079696_343314731</span>                         \n",
       "                             <span style=\"color: #008000\">1.mp4'</span><span style=\"font-weight: bold\">}</span>                                                         \n",
       "</pre>\n"
      ],
      "text/plain": [
       "<rich.jupyter.JupyterRenderable at 0x7fe14e6f5e80>"
      ]
     },
     "metadata": {},
     "output_type": "display_data"
    },
    {
     "data": {
      "text/html": [
       "<pre style=\"white-space:pre;overflow-x:auto;line-height:normal;font-family:Menlo,'DejaVu Sans Mono',consolas,'Courier New',monospace\"><span style=\"color: #7fbfbf\">[05/09/21 04:31:16] </span><span style=\"color: #008000\">INFO</span>     Animation <span style=\"color: #008000\">18</span> : Partial movie file       <a href=\"file:///usr/local/lib/python3.8/site-packages/manim/scene/scene_file_writer.py\"><span style=\"color: #7f7f7f\">scene_file_writer.py</span></a><span style=\"color: #7f7f7f\">:401</span>\n",
       "                             written in <span style=\"font-weight: bold\">{</span><span style=\"color: #008000\">'/manim/notebooks/media/vid</span>                         \n",
       "                             <span style=\"color: #008000\">eos/notebooks/720p60/partial_movie_file</span>                         \n",
       "                             <span style=\"color: #008000\">s/CRecipe/682978632_2763922376_38152802</span>                         \n",
       "                             <span style=\"color: #008000\">90.mp4'</span><span style=\"font-weight: bold\">}</span>                                                        \n",
       "</pre>\n"
      ],
      "text/plain": [
       "<rich.jupyter.JupyterRenderable at 0x7fe14e495ac0>"
      ]
     },
     "metadata": {},
     "output_type": "display_data"
    },
    {
     "name": "stderr",
     "output_type": "stream",
     "text": [
      "                                                                                                                  \r"
     ]
    },
    {
     "data": {
      "text/html": [
       "<pre style=\"white-space:pre;overflow-x:auto;line-height:normal;font-family:Menlo,'DejaVu Sans Mono',consolas,'Courier New',monospace\"><span style=\"color: #7fbfbf\">[05/09/21 04:31:19] </span><span style=\"color: #008000\">INFO</span>     Animation <span style=\"color: #008000\">19</span> : Partial movie file       <a href=\"file:///usr/local/lib/python3.8/site-packages/manim/scene/scene_file_writer.py\"><span style=\"color: #7f7f7f\">scene_file_writer.py</span></a><span style=\"color: #7f7f7f\">:401</span>\n",
       "                             written in <span style=\"font-weight: bold\">{</span><span style=\"color: #008000\">'/manim/notebooks/media/vid</span>                         \n",
       "                             <span style=\"color: #008000\">eos/notebooks/720p60/partial_movie_file</span>                         \n",
       "                             <span style=\"color: #008000\">s/CRecipe/682978632_3199681252_18857451</span>                         \n",
       "                             <span style=\"color: #008000\">67.mp4'</span><span style=\"font-weight: bold\">}</span>                                                        \n",
       "</pre>\n"
      ],
      "text/plain": [
       "<rich.jupyter.JupyterRenderable at 0x7fe14e85e880>"
      ]
     },
     "metadata": {},
     "output_type": "display_data"
    },
    {
     "name": "stderr",
     "output_type": "stream",
     "text": [
      "                                                                                                              \r"
     ]
    },
    {
     "data": {
      "text/html": [
       "<pre style=\"white-space:pre;overflow-x:auto;line-height:normal;font-family:Menlo,'DejaVu Sans Mono',consolas,'Courier New',monospace\"><span style=\"color: #7fbfbf\">[05/09/21 04:31:23] </span><span style=\"color: #008000\">INFO</span>     Animation <span style=\"color: #008000\">20</span> : Partial movie file       <a href=\"file:///usr/local/lib/python3.8/site-packages/manim/scene/scene_file_writer.py\"><span style=\"color: #7f7f7f\">scene_file_writer.py</span></a><span style=\"color: #7f7f7f\">:401</span>\n",
       "                             written in <span style=\"font-weight: bold\">{</span><span style=\"color: #008000\">'/manim/notebooks/media/vid</span>                         \n",
       "                             <span style=\"color: #008000\">eos/notebooks/720p60/partial_movie_file</span>                         \n",
       "                             <span style=\"color: #008000\">s/CRecipe/682978632_132095618_334700246</span>                         \n",
       "                             <span style=\"color: #008000\">4.mp4'</span><span style=\"font-weight: bold\">}</span>                                                         \n",
       "</pre>\n"
      ],
      "text/plain": [
       "<rich.jupyter.JupyterRenderable at 0x7fe15108b9d0>"
      ]
     },
     "metadata": {},
     "output_type": "display_data"
    },
    {
     "name": "stderr",
     "output_type": "stream",
     "text": [
      "                                                                                                              \r"
     ]
    },
    {
     "data": {
      "text/html": [
       "<pre style=\"white-space:pre;overflow-x:auto;line-height:normal;font-family:Menlo,'DejaVu Sans Mono',consolas,'Courier New',monospace\"><span style=\"color: #7fbfbf\">[05/09/21 04:31:28] </span><span style=\"color: #008000\">INFO</span>     Animation <span style=\"color: #008000\">21</span> : Partial movie file       <a href=\"file:///usr/local/lib/python3.8/site-packages/manim/scene/scene_file_writer.py\"><span style=\"color: #7f7f7f\">scene_file_writer.py</span></a><span style=\"color: #7f7f7f\">:401</span>\n",
       "                             written in <span style=\"font-weight: bold\">{</span><span style=\"color: #008000\">'/manim/notebooks/media/vid</span>                         \n",
       "                             <span style=\"color: #008000\">eos/notebooks/720p60/partial_movie_file</span>                         \n",
       "                             <span style=\"color: #008000\">s/CRecipe/682978632_1134400534_41081102</span>                         \n",
       "                             <span style=\"color: #008000\">72.mp4'</span><span style=\"font-weight: bold\">}</span>                                                        \n",
       "</pre>\n"
      ],
      "text/plain": [
       "<rich.jupyter.JupyterRenderable at 0x7fe150bf0eb0>"
      ]
     },
     "metadata": {},
     "output_type": "display_data"
    },
    {
     "data": {
      "text/html": [
       "<pre style=\"white-space:pre;overflow-x:auto;line-height:normal;font-family:Menlo,'DejaVu Sans Mono',consolas,'Courier New',monospace\"><span style=\"color: #7fbfbf\">[05/09/21 04:31:29] </span><span style=\"color: #008000\">INFO</span>     Animation <span style=\"color: #008000\">22</span> : Partial movie file       <a href=\"file:///usr/local/lib/python3.8/site-packages/manim/scene/scene_file_writer.py\"><span style=\"color: #7f7f7f\">scene_file_writer.py</span></a><span style=\"color: #7f7f7f\">:401</span>\n",
       "                             written in <span style=\"font-weight: bold\">{</span><span style=\"color: #008000\">'/manim/notebooks/media/vid</span>                         \n",
       "                             <span style=\"color: #008000\">eos/notebooks/720p60/partial_movie_file</span>                         \n",
       "                             <span style=\"color: #008000\">s/CRecipe/682978632_2763922376_10579417</span>                         \n",
       "                             <span style=\"color: #008000\">73.mp4'</span><span style=\"font-weight: bold\">}</span>                                                        \n",
       "</pre>\n"
      ],
      "text/plain": [
       "<rich.jupyter.JupyterRenderable at 0x7fe126b4f490>"
      ]
     },
     "metadata": {},
     "output_type": "display_data"
    },
    {
     "name": "stderr",
     "output_type": "stream",
     "text": [
      "                                                                                                                  \r"
     ]
    },
    {
     "data": {
      "text/html": [
       "<pre style=\"white-space:pre;overflow-x:auto;line-height:normal;font-family:Menlo,'DejaVu Sans Mono',consolas,'Courier New',monospace\"><span style=\"color: #7fbfbf\">[05/09/21 04:31:31] </span><span style=\"color: #008000\">INFO</span>     Animation <span style=\"color: #008000\">23</span> : Partial movie file       <a href=\"file:///usr/local/lib/python3.8/site-packages/manim/scene/scene_file_writer.py\"><span style=\"color: #7f7f7f\">scene_file_writer.py</span></a><span style=\"color: #7f7f7f\">:401</span>\n",
       "                             written in <span style=\"font-weight: bold\">{</span><span style=\"color: #008000\">'/manim/notebooks/media/vid</span>                         \n",
       "                             <span style=\"color: #008000\">eos/notebooks/720p60/partial_movie_file</span>                         \n",
       "                             <span style=\"color: #008000\">s/CRecipe/682978632_2372645235_34313230</span>                         \n",
       "                             <span style=\"color: #008000\">48.mp4'</span><span style=\"font-weight: bold\">}</span>                                                        \n",
       "</pre>\n"
      ],
      "text/plain": [
       "<rich.jupyter.JupyterRenderable at 0x7fe12456ccd0>"
      ]
     },
     "metadata": {},
     "output_type": "display_data"
    },
    {
     "name": "stderr",
     "output_type": "stream",
     "text": [
      "                                                                                                              \r"
     ]
    },
    {
     "data": {
      "text/html": [
       "<pre style=\"white-space:pre;overflow-x:auto;line-height:normal;font-family:Menlo,'DejaVu Sans Mono',consolas,'Courier New',monospace\"><span style=\"color: #7fbfbf\">[05/09/21 04:31:40] </span><span style=\"color: #008000\">INFO</span>     Animation <span style=\"color: #008000\">24</span> : Partial movie file       <a href=\"file:///usr/local/lib/python3.8/site-packages/manim/scene/scene_file_writer.py\"><span style=\"color: #7f7f7f\">scene_file_writer.py</span></a><span style=\"color: #7f7f7f\">:401</span>\n",
       "                             written in <span style=\"font-weight: bold\">{</span><span style=\"color: #008000\">'/manim/notebooks/media/vid</span>                         \n",
       "                             <span style=\"color: #008000\">eos/notebooks/720p60/partial_movie_file</span>                         \n",
       "                             <span style=\"color: #008000\">s/CRecipe/682978632_439912453_410685581</span>                         \n",
       "                             <span style=\"color: #008000\">.mp4'</span><span style=\"font-weight: bold\">}</span>                                                          \n",
       "</pre>\n"
      ],
      "text/plain": [
       "<rich.jupyter.JupyterRenderable at 0x7fe1510433d0>"
      ]
     },
     "metadata": {},
     "output_type": "display_data"
    },
    {
     "name": "stderr",
     "output_type": "stream",
     "text": [
      "                                                                                                              \r"
     ]
    },
    {
     "data": {
      "text/html": [
       "<pre style=\"white-space:pre;overflow-x:auto;line-height:normal;font-family:Menlo,'DejaVu Sans Mono',consolas,'Courier New',monospace\"><span style=\"color: #7fbfbf\">[05/09/21 04:31:48] </span><span style=\"color: #008000\">INFO</span>     Animation <span style=\"color: #008000\">25</span> : Partial movie file       <a href=\"file:///usr/local/lib/python3.8/site-packages/manim/scene/scene_file_writer.py\"><span style=\"color: #7f7f7f\">scene_file_writer.py</span></a><span style=\"color: #7f7f7f\">:401</span>\n",
       "                             written in <span style=\"font-weight: bold\">{</span><span style=\"color: #008000\">'/manim/notebooks/media/vid</span>                         \n",
       "                             <span style=\"color: #008000\">eos/notebooks/720p60/partial_movie_file</span>                         \n",
       "                             <span style=\"color: #008000\">s/CRecipe/682978632_1448436679_25311601</span>                         \n",
       "                             <span style=\"color: #008000\">43.mp4'</span><span style=\"font-weight: bold\">}</span>                                                        \n",
       "</pre>\n"
      ],
      "text/plain": [
       "<rich.jupyter.JupyterRenderable at 0x7fe14e738df0>"
      ]
     },
     "metadata": {},
     "output_type": "display_data"
    },
    {
     "data": {
      "text/html": [
       "<pre style=\"white-space:pre;overflow-x:auto;line-height:normal;font-family:Menlo,'DejaVu Sans Mono',consolas,'Courier New',monospace\"><span style=\"color: #7fbfbf\">[05/09/21 04:31:49] </span><span style=\"color: #008000\">INFO</span>     Animation <span style=\"color: #008000\">26</span> : Partial movie file       <a href=\"file:///usr/local/lib/python3.8/site-packages/manim/scene/scene_file_writer.py\"><span style=\"color: #7f7f7f\">scene_file_writer.py</span></a><span style=\"color: #7f7f7f\">:401</span>\n",
       "                             written in <span style=\"font-weight: bold\">{</span><span style=\"color: #008000\">'/manim/notebooks/media/vid</span>                         \n",
       "                             <span style=\"color: #008000\">eos/notebooks/720p60/partial_movie_file</span>                         \n",
       "                             <span style=\"color: #008000\">s/CRecipe/682978632_2763922376_25246509</span>                         \n",
       "                             <span style=\"color: #008000\">45.mp4'</span><span style=\"font-weight: bold\">}</span>                                                        \n",
       "</pre>\n"
      ],
      "text/plain": [
       "<rich.jupyter.JupyterRenderable at 0x7fe150edc4c0>"
      ]
     },
     "metadata": {},
     "output_type": "display_data"
    },
    {
     "name": "stderr",
     "output_type": "stream",
     "text": [
      "                                                                                                                  \r"
     ]
    },
    {
     "data": {
      "text/html": [
       "<pre style=\"white-space:pre;overflow-x:auto;line-height:normal;font-family:Menlo,'DejaVu Sans Mono',consolas,'Courier New',monospace\"><span style=\"color: #7fbfbf\">[05/09/21 04:31:52] </span><span style=\"color: #008000\">INFO</span>     Animation <span style=\"color: #008000\">27</span> : Partial movie file       <a href=\"file:///usr/local/lib/python3.8/site-packages/manim/scene/scene_file_writer.py\"><span style=\"color: #7f7f7f\">scene_file_writer.py</span></a><span style=\"color: #7f7f7f\">:401</span>\n",
       "                             written in <span style=\"font-weight: bold\">{</span><span style=\"color: #008000\">'/manim/notebooks/media/vid</span>                         \n",
       "                             <span style=\"color: #008000\">eos/notebooks/720p60/partial_movie_file</span>                         \n",
       "                             <span style=\"color: #008000\">s/CRecipe/682978632_2151673522_18528289</span>                         \n",
       "                             <span style=\"color: #008000\">02.mp4'</span><span style=\"font-weight: bold\">}</span>                                                        \n",
       "</pre>\n"
      ],
      "text/plain": [
       "<rich.jupyter.JupyterRenderable at 0x7fe150d62970>"
      ]
     },
     "metadata": {},
     "output_type": "display_data"
    },
    {
     "name": "stderr",
     "output_type": "stream",
     "text": [
      "                                                                                                              \r"
     ]
    },
    {
     "data": {
      "text/html": [
       "<pre style=\"white-space:pre;overflow-x:auto;line-height:normal;font-family:Menlo,'DejaVu Sans Mono',consolas,'Courier New',monospace\"><span style=\"color: #7fbfbf\">[05/09/21 04:31:59] </span><span style=\"color: #008000\">INFO</span>     Animation <span style=\"color: #008000\">28</span> : Partial movie file       <a href=\"file:///usr/local/lib/python3.8/site-packages/manim/scene/scene_file_writer.py\"><span style=\"color: #7f7f7f\">scene_file_writer.py</span></a><span style=\"color: #7f7f7f\">:401</span>\n",
       "                             written in <span style=\"font-weight: bold\">{</span><span style=\"color: #008000\">'/manim/notebooks/media/vid</span>                         \n",
       "                             <span style=\"color: #008000\">eos/notebooks/720p60/partial_movie_file</span>                         \n",
       "                             <span style=\"color: #008000\">s/CRecipe/682978632_1587304897_88615403</span>                         \n",
       "                             <span style=\"color: #008000\">0.mp4'</span><span style=\"font-weight: bold\">}</span>                                                         \n",
       "</pre>\n"
      ],
      "text/plain": [
       "<rich.jupyter.JupyterRenderable at 0x7fe150c55bb0>"
      ]
     },
     "metadata": {},
     "output_type": "display_data"
    },
    {
     "name": "stderr",
     "output_type": "stream",
     "text": [
      "                                                                                                              \r"
     ]
    },
    {
     "data": {
      "text/html": [
       "<pre style=\"white-space:pre;overflow-x:auto;line-height:normal;font-family:Menlo,'DejaVu Sans Mono',consolas,'Courier New',monospace\"><span style=\"color: #7fbfbf\">[05/09/21 04:32:06] </span><span style=\"color: #008000\">INFO</span>     Animation <span style=\"color: #008000\">29</span> : Partial movie file       <a href=\"file:///usr/local/lib/python3.8/site-packages/manim/scene/scene_file_writer.py\"><span style=\"color: #7f7f7f\">scene_file_writer.py</span></a><span style=\"color: #7f7f7f\">:401</span>\n",
       "                             written in <span style=\"font-weight: bold\">{</span><span style=\"color: #008000\">'/manim/notebooks/media/vid</span>                         \n",
       "                             <span style=\"color: #008000\">eos/notebooks/720p60/partial_movie_file</span>                         \n",
       "                             <span style=\"color: #008000\">s/CRecipe/682978632_2012006418_13257918</span>                         \n",
       "                             <span style=\"color: #008000\">63.mp4'</span><span style=\"font-weight: bold\">}</span>                                                        \n",
       "</pre>\n"
      ],
      "text/plain": [
       "<rich.jupyter.JupyterRenderable at 0x7fe150b71b50>"
      ]
     },
     "metadata": {},
     "output_type": "display_data"
    },
    {
     "data": {
      "text/html": [
       "<pre style=\"white-space:pre;overflow-x:auto;line-height:normal;font-family:Menlo,'DejaVu Sans Mono',consolas,'Courier New',monospace\"><span style=\"color: #7fbfbf\">[05/09/21 04:32:07] </span><span style=\"color: #008000\">INFO</span>     Animation <span style=\"color: #008000\">30</span> : Partial movie file       <a href=\"file:///usr/local/lib/python3.8/site-packages/manim/scene/scene_file_writer.py\"><span style=\"color: #7f7f7f\">scene_file_writer.py</span></a><span style=\"color: #7f7f7f\">:401</span>\n",
       "                             written in <span style=\"font-weight: bold\">{</span><span style=\"color: #008000\">'/manim/notebooks/media/vid</span>                         \n",
       "                             <span style=\"color: #008000\">eos/notebooks/720p60/partial_movie_file</span>                         \n",
       "                             <span style=\"color: #008000\">s/CRecipe/682978632_2763922376_36844629</span>                         \n",
       "                             <span style=\"color: #008000\">05.mp4'</span><span style=\"font-weight: bold\">}</span>                                                        \n",
       "</pre>\n"
      ],
      "text/plain": [
       "<rich.jupyter.JupyterRenderable at 0x7fe14e5dc5e0>"
      ]
     },
     "metadata": {},
     "output_type": "display_data"
    },
    {
     "name": "stderr",
     "output_type": "stream",
     "text": [
      "                                                                                                                  \r"
     ]
    },
    {
     "data": {
      "text/html": [
       "<pre style=\"white-space:pre;overflow-x:auto;line-height:normal;font-family:Menlo,'DejaVu Sans Mono',consolas,'Courier New',monospace\"><span style=\"color: #7fbfbf\">[05/09/21 04:32:10] </span><span style=\"color: #008000\">INFO</span>     Animation <span style=\"color: #008000\">31</span> : Partial movie file       <a href=\"file:///usr/local/lib/python3.8/site-packages/manim/scene/scene_file_writer.py\"><span style=\"color: #7f7f7f\">scene_file_writer.py</span></a><span style=\"color: #7f7f7f\">:401</span>\n",
       "                             written in <span style=\"font-weight: bold\">{</span><span style=\"color: #008000\">'/manim/notebooks/media/vid</span>                         \n",
       "                             <span style=\"color: #008000\">eos/notebooks/720p60/partial_movie_file</span>                         \n",
       "                             <span style=\"color: #008000\">s/CRecipe/682978632_186683397_233499314</span>                         \n",
       "                             <span style=\"color: #008000\">0.mp4'</span><span style=\"font-weight: bold\">}</span>                                                         \n",
       "</pre>\n"
      ],
      "text/plain": [
       "<rich.jupyter.JupyterRenderable at 0x7fe14e51e580>"
      ]
     },
     "metadata": {},
     "output_type": "display_data"
    },
    {
     "name": "stderr",
     "output_type": "stream",
     "text": [
      "                                                                                                              \r"
     ]
    },
    {
     "data": {
      "text/html": [
       "<pre style=\"white-space:pre;overflow-x:auto;line-height:normal;font-family:Menlo,'DejaVu Sans Mono',consolas,'Courier New',monospace\"><span style=\"color: #7fbfbf\">[05/09/21 04:32:15] </span><span style=\"color: #008000\">INFO</span>     Animation <span style=\"color: #008000\">32</span> : Partial movie file       <a href=\"file:///usr/local/lib/python3.8/site-packages/manim/scene/scene_file_writer.py\"><span style=\"color: #7f7f7f\">scene_file_writer.py</span></a><span style=\"color: #7f7f7f\">:401</span>\n",
       "                             written in <span style=\"font-weight: bold\">{</span><span style=\"color: #008000\">'/manim/notebooks/media/vid</span>                         \n",
       "                             <span style=\"color: #008000\">eos/notebooks/720p60/partial_movie_file</span>                         \n",
       "                             <span style=\"color: #008000\">s/CRecipe/682978632_4191454593_13503441</span>                         \n",
       "                             <span style=\"color: #008000\">25.mp4'</span><span style=\"font-weight: bold\">}</span>                                                        \n",
       "</pre>\n"
      ],
      "text/plain": [
       "<rich.jupyter.JupyterRenderable at 0x7fe12456e3a0>"
      ]
     },
     "metadata": {},
     "output_type": "display_data"
    },
    {
     "name": "stderr",
     "output_type": "stream",
     "text": [
      "                                                                                                              \r"
     ]
    },
    {
     "data": {
      "text/html": [
       "<pre style=\"white-space:pre;overflow-x:auto;line-height:normal;font-family:Menlo,'DejaVu Sans Mono',consolas,'Courier New',monospace\"><span style=\"color: #7fbfbf\">[05/09/21 04:32:19] </span><span style=\"color: #008000\">INFO</span>     Animation <span style=\"color: #008000\">33</span> : Partial movie file       <a href=\"file:///usr/local/lib/python3.8/site-packages/manim/scene/scene_file_writer.py\"><span style=\"color: #7f7f7f\">scene_file_writer.py</span></a><span style=\"color: #7f7f7f\">:401</span>\n",
       "                             written in <span style=\"font-weight: bold\">{</span><span style=\"color: #008000\">'/manim/notebooks/media/vid</span>                         \n",
       "                             <span style=\"color: #008000\">eos/notebooks/720p60/partial_movie_file</span>                         \n",
       "                             <span style=\"color: #008000\">s/CRecipe/682978632_3267722588_62095497</span>                         \n",
       "                             <span style=\"color: #008000\">1.mp4'</span><span style=\"font-weight: bold\">}</span>                                                         \n",
       "</pre>\n"
      ],
      "text/plain": [
       "<rich.jupyter.JupyterRenderable at 0x7fe12652c280>"
      ]
     },
     "metadata": {},
     "output_type": "display_data"
    },
    {
     "data": {
      "text/html": [
       "<pre style=\"white-space:pre;overflow-x:auto;line-height:normal;font-family:Menlo,'DejaVu Sans Mono',consolas,'Courier New',monospace\"><span style=\"color: #7fbfbf\">[05/09/21 04:32:21] </span><span style=\"color: #008000\">INFO</span>     Animation <span style=\"color: #008000\">34</span> : Partial movie file       <a href=\"file:///usr/local/lib/python3.8/site-packages/manim/scene/scene_file_writer.py\"><span style=\"color: #7f7f7f\">scene_file_writer.py</span></a><span style=\"color: #7f7f7f\">:401</span>\n",
       "                             written in <span style=\"font-weight: bold\">{</span><span style=\"color: #008000\">'/manim/notebooks/media/vid</span>                         \n",
       "                             <span style=\"color: #008000\">eos/notebooks/720p60/partial_movie_file</span>                         \n",
       "                             <span style=\"color: #008000\">s/CRecipe/682978632_2763922376_11618066</span>                         \n",
       "                             <span style=\"color: #008000\">26.mp4'</span><span style=\"font-weight: bold\">}</span>                                                        \n",
       "</pre>\n"
      ],
      "text/plain": [
       "<rich.jupyter.JupyterRenderable at 0x7fe12652c910>"
      ]
     },
     "metadata": {},
     "output_type": "display_data"
    },
    {
     "data": {
      "text/html": [
       "<pre style=\"white-space:pre;overflow-x:auto;line-height:normal;font-family:Menlo,'DejaVu Sans Mono',consolas,'Courier New',monospace\"><span style=\"color: #7fbfbf\">                    </span><span style=\"color: #008000\">INFO</span>                                             <a href=\"file:///usr/local/lib/python3.8/site-packages/manim/scene/scene_file_writer.py\"><span style=\"color: #7f7f7f\">scene_file_writer.py</span></a><span style=\"color: #7f7f7f\">:585</span>\n",
       "                             <span style=\"color: #808000; font-weight: bold\">File</span> ready at <span style=\"color: #800080\">/manim/notebooks/media/vi</span>                         \n",
       "                             <span style=\"color: #800080\">deos/notebooks/720p60/</span><span style=\"color: #ff00ff\">many-times.mp4</span>                            \n",
       "                                                                                             \n",
       "</pre>\n"
      ],
      "text/plain": [
       "<rich.jupyter.JupyterRenderable at 0x7fe12652cee0>"
      ]
     },
     "metadata": {},
     "output_type": "display_data"
    },
    {
     "data": {
      "text/html": [
       "<pre style=\"white-space:pre;overflow-x:auto;line-height:normal;font-family:Menlo,'DejaVu Sans Mono',consolas,'Courier New',monospace\"><span style=\"color: #7fbfbf\">                    </span><span style=\"color: #008000\">INFO</span>     The partial movie directory is full <span style=\"font-weight: bold\">(</span>&gt;  <a href=\"file:///usr/local/lib/python3.8/site-packages/manim/scene/scene_file_writer.py\"><span style=\"color: #7f7f7f\">scene_file_writer.py</span></a><span style=\"color: #7f7f7f\">:563</span>\n",
       "                             <span style=\"color: #008000\">100</span> files<span style=\"font-weight: bold\">)</span>. Therefore, manim has                                \n",
       "                             removed <span style=\"color: #008000\">35</span> file<span style=\"font-weight: bold\">(</span>s<span style=\"font-weight: bold\">)</span> used by it the                               \n",
       "                             longest ago.You can change this                                 \n",
       "                             behaviour by changing max_files_cached                          \n",
       "                             in config.                                                      \n",
       "</pre>\n"
      ],
      "text/plain": [
       "<rich.jupyter.JupyterRenderable at 0x7fe150b61a60>"
      ]
     },
     "metadata": {},
     "output_type": "display_data"
    },
    {
     "data": {
      "text/html": [
       "<pre style=\"white-space:pre;overflow-x:auto;line-height:normal;font-family:Menlo,'DejaVu Sans Mono',consolas,'Courier New',monospace\"><span style=\"color: #7fbfbf\">                    </span><span style=\"color: #008000\">INFO</span>     <span style=\"color: #808000; font-weight: bold\">Rendered</span> CRecipe                                    <a href=\"file:///usr/local/lib/python3.8/site-packages/manim/scene/scene.py\"><span style=\"color: #7f7f7f\">scene.py</span></a><span style=\"color: #7f7f7f\">:217</span>\n",
       "                             <span style=\"color: #808000; font-weight: bold\">Played</span> <span style=\"color: #008000\">35</span> <span style=\"color: #808000; font-weight: bold\">animations</span>                                            \n",
       "</pre>\n"
      ],
      "text/plain": [
       "<rich.jupyter.JupyterRenderable at 0x7fe14e51e5b0>"
      ]
     },
     "metadata": {},
     "output_type": "display_data"
    },
    {
     "data": {
      "text/html": [
       "<video src=\"media/jupyter/071eab479941187d1591d676fa9a1994e921d46f.mp4\" controls autoplay loop style=\"max-width: 25vw;\"  >\n",
       "      Your browser does not support the <code>video</code> element.\n",
       "    </video>"
      ],
      "text/plain": [
       "<IPython.core.display.Video object>"
      ]
     },
     "metadata": {},
     "output_type": "display_data"
    }
   ],
   "source": [
    "%%manim -qh -r 1280,720 -o many-times.mp4 CRecipe\n",
    "\n",
    "def create_3d_vec(segments, color=None, opacity=1.0):\n",
    "    box_size = 1*scale\n",
    "    vector_ob = manim.VGroup()\n",
    "    prisms = []\n",
    "    for s in range(segments):\n",
    "        p = manim.Prism([box_size, box_size, box_size])\n",
    "        p.set_fill(color, opacity=opacity)\n",
    "        p.align_on_border(manim.IN)\n",
    "        p.set_stroke(color='#000000', width=1.0)\n",
    "        prisms.append(p)\n",
    "    vector_ob.add(*prisms)\n",
    "    vector_ob.arrange(direction=-manim.Y_AXIS, buff=0)\n",
    "    return vector_ob\n",
    "\n",
    "\n",
    "def surrounding_box(mobject, buff=0):\n",
    "    prism = manim.Prism([mobject.width+buff, mobject.height+buff, mobject.depth+buff])\n",
    "    prism.move_to(mobject.get_critical_point(direction=manim.ORIGIN))\n",
    "    return prism\n",
    "\n",
    "\n",
    "def apply_scaffold_style(mobject):\n",
    "    mobject.set_fill(opacity=0.1, color=bg_color)\n",
    "    mobject.set_stroke(opacity=0.3)\n",
    "    return mobject\n",
    "\n",
    "\n",
    "def create_vec_list(num_vecs, segments, pos):\n",
    "    vec_list = manim.VMobject()\n",
    "    for i in range(num_vecs):\n",
    "        v = create_3d_vec(segments, colors[i])\n",
    "        vec_list.add(v)\n",
    "        vec_list.arrange(direction=manim.RIGHT) \n",
    "        vec_list.move_to(pos)\n",
    "    return vec_list\n",
    "\n",
    "    \n",
    "def create_mix_nums(vec_list, mix):\n",
    "    mix_decimals = manim.VGroup()\n",
    "    offset = np.array([0, -1.2, -0.5]) * scale\n",
    "    for i in range(len(mix)):\n",
    "        pos = vec_list[i].get_edge_center(manim.DOWN) + offset\n",
    "        num = manim.DecimalNumber(mix[i], num_decimal_places=0, color=font_color)\n",
    "        num.move_to(pos)\n",
    "        mix_decimals.add(num)\n",
    "    return mix_decimals\n",
    "\n",
    "\n",
    "def create_mix_result(vec_list, mix, target_point, color=result_color):\n",
    "    dup_vecs = manim.VGroup()\n",
    "    shift_dist = vec_list[0].depth + 0\n",
    "    offset = 2 * scale\n",
    "    dup_anims = []\n",
    "    for i in range(len(vec_list)):\n",
    "        dup_i = [copy.deepcopy(vec_list[i]) for j in range(mix[i])]\n",
    "        for j in range(0, len(dup_i)):\n",
    "            dist = j * shift_dist + offset\n",
    "            dup_anims.append(dup_i[j].animate.shift(dist * manim.OUT))\n",
    "        dup_vecs.add(*dup_i)\n",
    "    def animation(scene):\n",
    "        scene.add(dup_vecs)\n",
    "        scene.play(*dup_anims)\n",
    "        dup_vecs.set_fill(color)\n",
    "        animations = [dv.animate.move_to(target_point) for dv in dup_vecs]\n",
    "        def add_surrounding_box():\n",
    "            bb = surrounding_box(dup_vecs, buff=0.2)   \n",
    "            bb.set_color(color)\n",
    "            bb.set_opacity(0.2)\n",
    "            scene.add(bb)\n",
    "            scene.wait(0.2)\n",
    "            animations.extend([bb.animate.move_to(target_point), manim.ReplacementTransform(bb, replacement_vec)])\n",
    "        # this doesn't work well enough to use.\n",
    "        #add_surrounding_box()\n",
    "        scene.play(*animations)\n",
    "        scene.remove(dup_vecs)\n",
    "    replacement_vec = create_3d_vec(num_input_boxes, color=color)\n",
    "    replacement_vec.move_to(target_point)\n",
    "    return replacement_vec, animation\n",
    "\n",
    "\n",
    "def create_mix_lines(vec_list, target_point):\n",
    "    lines = []\n",
    "    for i in range(len(vec_list)):\n",
    "        start_point = vec_list[i].get_edge_center(manim.DOWN)\n",
    "        # Should we move the start point to be at the bottom of the box?\n",
    "        end_point = target_point + np.array([0, 2.05, -0.5])*scale\n",
    "        l = manim.DashedLine(start_point, end_point, dash_length=0.02, \n",
    "                             positive_space_ratio=0.2, color=line_color)\n",
    "        # Doesn't seem to have an effect.\n",
    "        #l.set_opacity(0.7)\n",
    "        lines.append(l)\n",
    "    g1 = manim.Group(*lines)\n",
    "    return g1\n",
    "\n",
    "def create_2d_vec(segments, direction=manim.X_AXIS, color=None, opacity=1.0):\n",
    "    box_size = 1*scale\n",
    "    vector_ob = manim.VMobject()\n",
    "    rects = []\n",
    "    for s in range(segments):\n",
    "        r = manim.Square(side_length=box_size, color=color, fill_opacity=opacity)\n",
    "        #r.align_on_border(manim.X_AXIS)\n",
    "        r.set_stroke(color='#000000', width=1.0)\n",
    "        rects.append(r)\n",
    "    vector_ob.add(*rects)\n",
    "    vector_ob.arrange(direction=direction, buff=0)\n",
    "    return vector_ob\n",
    "    \n",
    "from collections import OrderedDict\n",
    "\n",
    "class TargetObject():\n",
    "    def __init__(self, obj_map : OrderedDict, draw_exclude=None, **kwargs):\n",
    "        self.obj = manim.Mobject(**kwargs)\n",
    "        self.obj.add(*obj_map.values())\n",
    "        self.m = obj_map\n",
    "        self.draw_exclude = set() if not draw_exclude else set(draw_exclude)\n",
    "        \n",
    "    def elements_to_draw(self):\n",
    "        elems = [v for k,v in self.m.items() if k not in self.draw_exclude]\n",
    "        return elems\n",
    "\n",
    "\n",
    "class ARecipe(manim.ThreeDScene):\n",
    "    def construct(self):\n",
    "        self.set_camera_orientation(phi=55*manim.DEGREES, theta=-115*manim.DEGREES, distance=400.0)\n",
    "        #self.camera.background_color = '#f0f0f0'\n",
    "        # Moving camera doesn't seem to work. A black dot is created.\n",
    "        #self.move_camera(frame_center=target_point)\n",
    "        vec_list = create_vec_list(num_inputs, num_input_boxes, pos=source_point)\n",
    "        self.add(vec_list)        \n",
    "        self.add(apply_scaffold_style(create_vec_list(1, num_input_boxes, pos=target_point)))\n",
    "        self.add(create_mix_lines(vec_list, np.array(target_point)))\n",
    "        self.add(*create_mix_nums(vec_list, mix))\n",
    "        res_vec, animation = create_mix_result(vec_list, mix, target_point)\n",
    "        animation(self)\n",
    "        self.add(res_vec)\n",
    "        self.wait()\n",
    "\n",
    "    \n",
    "class BRecipe(ARecipe):\n",
    "    def construct(self):\n",
    "        self.set_camera_orientation(phi=55*manim.DEGREES, theta=-115*manim.DEGREES, distance=400.0)\n",
    "        vec_list = create_vec_list(num_inputs, num_input_boxes, pos=source_point)\n",
    "        self.add(vec_list)        \n",
    "        self.add(create_mix_lines(vec_list, np.array(target_point)))\n",
    "        self.add(*create_mix_nums(vec_list, mix))\n",
    "        res_vec, animation = create_mix_result(vec_list, mix, target_point)\n",
    "        self.add(res_vec)\n",
    "        num_extensions = 4\n",
    "        def extend_vec(v, direction):\n",
    "            fixed_ref = np.array([0, 0, 0]) - direction\n",
    "            fixed_point = v.get_critical_point(fixed_ref)\n",
    "            to_append = copy.deepcopy(v[-1])\n",
    "            v.add(to_append)\n",
    "            v.arrange(direction=manim.Y_AXIS, buff=0)\n",
    "            v.move_to(fixed_point, aligned_edge=fixed_ref) \n",
    "            return to_append\n",
    "\n",
    "        def extend_vecs():\n",
    "            for i in range(num_extensions):\n",
    "                self.wait(0.5)\n",
    "                added = []\n",
    "                for v in vec_list:\n",
    "                    added.append(extend_vec(v, direction=np.array([0, 1, 0])))\n",
    "                added.append(extend_vec(res_vec, direction=np.array([0, -1, 0])))\n",
    "                # Some horrible z-order issues make this annimation not work well.\n",
    "                #self.play(*[manim.FadeIn(b) for b in added])\n",
    "        def shrink_vecs():\n",
    "            for i in range(num_extensions):\n",
    "                self.wait(0.1)\n",
    "                for v in vec_list:\n",
    "                    v.remove(v[-1])\n",
    "                res_vec.remove(res_vec[0])\n",
    "        extend_vecs()\n",
    "        self.wait(1)\n",
    "        shrink_vecs()\n",
    "        self.wait()   \n",
    "        \n",
    "        \n",
    "class CRecipe(manim.ThreeDScene):\n",
    "    def construct(self):\n",
    "        offset = np.array([-3, 0, 0])\n",
    "        self.set_camera_orientation(phi=55*manim.DEGREES, theta=-115*manim.DEGREES, distance=400.0)\n",
    "        source_vecs = create_vec_list(num_inputs, num_input_boxes, pos=source_point + offset)\n",
    "        self.add(source_vecs)            \n",
    "        placement_point = np.array([1, -5, 0])*scale + offset\n",
    "        mix_nums = None\n",
    "        mix_lines = None\n",
    "        for i, m in enumerate(mixes):\n",
    "            # 1. Lines and numbers\n",
    "            if mix_nums:\n",
    "                mix_nums_next = create_mix_nums(source_vecs, m)\n",
    "                mix_lines_next = create_mix_lines(source_vecs, np.array(placement_point))\n",
    "                self.play(manim.ReplacementTransform(mix_nums, mix_nums_next), \n",
    "                          manim.ReplacementTransform(mix_lines, mix_lines_next), \n",
    "                          manim.FadeIn(apply_scaffold_style(create_vec_list(1, num_input_boxes, pos=placement_point))),run_time=0.4)\n",
    "                mix_nums = mix_nums_next\n",
    "                mix_lines = mix_lines_next\n",
    "            else:\n",
    "                assert mix_lines == None\n",
    "                mix_nums = create_mix_nums(source_vecs, m)\n",
    "                mix_lines = create_mix_lines(source_vecs, np.array(placement_point))\n",
    "                self.add(*mix_nums, *mix_lines)\n",
    "                self.add(apply_scaffold_style(create_vec_list(1, num_input_boxes, pos=placement_point)))\n",
    "                \n",
    "            # 2. Mix animation and result\n",
    "            # The gradient just seems a bit distracting.\n",
    "            color = result_colors[i] if use_gradient else result_color\n",
    "            res_vec, animation = create_mix_result(source_vecs, m, placement_point, color=color)\n",
    "            animation(self)\n",
    "            self.add(res_vec)\n",
    "            self.wait(0.5)\n",
    "            placement_point = placement_point + np.array([1.5, 0, 0]) * scale"
   ]
  },
  {
   "cell_type": "code",
   "execution_count": 45,
   "id": "2f8de3bc-63ee-4a90-b36b-c3a1070e8d0f",
   "metadata": {},
   "outputs": [
    {
     "name": "stderr",
     "output_type": "stream",
     "text": [
      "                                                                                                             \r"
     ]
    },
    {
     "data": {
      "text/html": [
       "<pre style=\"white-space:pre;overflow-x:auto;line-height:normal;font-family:Menlo,'DejaVu Sans Mono',consolas,'Courier New',monospace\"><span style=\"color: #7fbfbf\">[05/09/21 04:43:41] </span><span style=\"color: #008000\">INFO</span>     Animation <span style=\"color: #008000\">0</span> : Partial movie file        <a href=\"file:///usr/local/lib/python3.8/site-packages/manim/scene/scene_file_writer.py\"><span style=\"color: #7f7f7f\">scene_file_writer.py</span></a><span style=\"color: #7f7f7f\">:401</span>\n",
       "                             written in <span style=\"font-weight: bold\">{</span><span style=\"color: #008000\">'/manim/notebooks/media/vid</span>                         \n",
       "                             <span style=\"color: #008000\">eos/notebooks/720p60/partial_movie_file</span>                         \n",
       "                             <span style=\"color: #008000\">s/ARecipe/3157264259_3367046316_1521328</span>                         \n",
       "                             <span style=\"color: #008000\">452.mp4'</span><span style=\"font-weight: bold\">}</span>                                                       \n",
       "</pre>\n"
      ],
      "text/plain": [
       "<rich.jupyter.JupyterRenderable at 0x7fe1458304c0>"
      ]
     },
     "metadata": {},
     "output_type": "display_data"
    },
    {
     "name": "stderr",
     "output_type": "stream",
     "text": [
      "                                                                                                             \r"
     ]
    },
    {
     "data": {
      "text/html": [
       "<pre style=\"white-space:pre;overflow-x:auto;line-height:normal;font-family:Menlo,'DejaVu Sans Mono',consolas,'Courier New',monospace\"><span style=\"color: #7fbfbf\">[05/09/21 04:43:50] </span><span style=\"color: #008000\">INFO</span>     Animation <span style=\"color: #008000\">1</span> : Partial movie file        <a href=\"file:///usr/local/lib/python3.8/site-packages/manim/scene/scene_file_writer.py\"><span style=\"color: #7f7f7f\">scene_file_writer.py</span></a><span style=\"color: #7f7f7f\">:401</span>\n",
       "                             written in <span style=\"font-weight: bold\">{</span><span style=\"color: #008000\">'/manim/notebooks/media/vid</span>                         \n",
       "                             <span style=\"color: #008000\">eos/notebooks/720p60/partial_movie_file</span>                         \n",
       "                             <span style=\"color: #008000\">s/ARecipe/682978632_3691757844_32436169</span>                         \n",
       "                             <span style=\"color: #008000\">93.mp4'</span><span style=\"font-weight: bold\">}</span>                                                        \n",
       "</pre>\n"
      ],
      "text/plain": [
       "<rich.jupyter.JupyterRenderable at 0x7fe150fd77c0>"
      ]
     },
     "metadata": {},
     "output_type": "display_data"
    },
    {
     "data": {
      "text/html": [
       "<pre style=\"white-space:pre;overflow-x:auto;line-height:normal;font-family:Menlo,'DejaVu Sans Mono',consolas,'Courier New',monospace\"><span style=\"color: #7fbfbf\">                    </span><span style=\"color: #008000\">INFO</span>     Animation <span style=\"color: #008000\">2</span> : Partial movie file        <a href=\"file:///usr/local/lib/python3.8/site-packages/manim/scene/scene_file_writer.py\"><span style=\"color: #7f7f7f\">scene_file_writer.py</span></a><span style=\"color: #7f7f7f\">:401</span>\n",
       "                             written in <span style=\"font-weight: bold\">{</span><span style=\"color: #008000\">'/manim/notebooks/media/vid</span>                         \n",
       "                             <span style=\"color: #008000\">eos/notebooks/720p60/partial_movie_file</span>                         \n",
       "                             <span style=\"color: #008000\">s/ARecipe/682978632_1615497636_31029243</span>                         \n",
       "                             <span style=\"color: #008000\">03.mp4'</span><span style=\"font-weight: bold\">}</span>                                                        \n",
       "</pre>\n"
      ],
      "text/plain": [
       "<rich.jupyter.JupyterRenderable at 0x7fe14e0bf430>"
      ]
     },
     "metadata": {},
     "output_type": "display_data"
    },
    {
     "data": {
      "text/html": [
       "<pre style=\"white-space:pre;overflow-x:auto;line-height:normal;font-family:Menlo,'DejaVu Sans Mono',consolas,'Courier New',monospace\"><span style=\"color: #7fbfbf\">                    </span><span style=\"color: #008000\">INFO</span>                                             <a href=\"file:///usr/local/lib/python3.8/site-packages/manim/scene/scene_file_writer.py\"><span style=\"color: #7f7f7f\">scene_file_writer.py</span></a><span style=\"color: #7f7f7f\">:585</span>\n",
       "                             <span style=\"color: #808000; font-weight: bold\">File</span> ready at <span style=\"color: #800080\">/manim/notebooks/media/vi</span>                         \n",
       "                             <span style=\"color: #800080\">deos/notebooks/720p60/</span><span style=\"color: #ff00ff\">one-combination.m</span>                         \n",
       "                             <span style=\"color: #ff00ff\">p4</span>                                                              \n",
       "                                                                                             \n",
       "</pre>\n"
      ],
      "text/plain": [
       "<rich.jupyter.JupyterRenderable at 0x7fe145830640>"
      ]
     },
     "metadata": {},
     "output_type": "display_data"
    },
    {
     "data": {
      "text/html": [
       "<pre style=\"white-space:pre;overflow-x:auto;line-height:normal;font-family:Menlo,'DejaVu Sans Mono',consolas,'Courier New',monospace\"><span style=\"color: #7fbfbf\">                    </span><span style=\"color: #008000\">INFO</span>     <span style=\"color: #808000; font-weight: bold\">Rendered</span> ARecipe                                    <a href=\"file:///usr/local/lib/python3.8/site-packages/manim/scene/scene.py\"><span style=\"color: #7f7f7f\">scene.py</span></a><span style=\"color: #7f7f7f\">:217</span>\n",
       "                             <span style=\"color: #808000; font-weight: bold\">Played</span> <span style=\"color: #008000\">3</span> <span style=\"color: #808000; font-weight: bold\">animations</span>                                             \n",
       "</pre>\n"
      ],
      "text/plain": [
       "<rich.jupyter.JupyterRenderable at 0x7fe145830100>"
      ]
     },
     "metadata": {},
     "output_type": "display_data"
    },
    {
     "data": {
      "text/html": [
       "<video src=\"media/jupyter/40c3c44c5b2fa9f995daa4a28488425228aed918.mp4\" controls autoplay loop style=\"max-width: 25vw;\"  >\n",
       "      Your browser does not support the <code>video</code> element.\n",
       "    </video>"
      ],
      "text/plain": [
       "<IPython.core.display.Video object>"
      ]
     },
     "metadata": {},
     "output_type": "display_data"
    }
   ],
   "source": [
    "%%manim -qh -r 1280,720 -o one-combination.mp4 ARecipe\n",
    "pass"
   ]
  },
  {
   "cell_type": "code",
   "execution_count": 46,
   "id": "aa75c201-6bca-42df-b10f-511d49e8f698",
   "metadata": {},
   "outputs": [
    {
     "data": {
      "text/html": [
       "<pre style=\"white-space:pre;overflow-x:auto;line-height:normal;font-family:Menlo,'DejaVu Sans Mono',consolas,'Courier New',monospace\"><span style=\"color: #7fbfbf\">[05/09/21 04:43:51] </span><span style=\"color: #008000\">INFO</span>     Animation <span style=\"color: #008000\">0</span> : Partial movie file        <a href=\"file:///usr/local/lib/python3.8/site-packages/manim/scene/scene_file_writer.py\"><span style=\"color: #7f7f7f\">scene_file_writer.py</span></a><span style=\"color: #7f7f7f\">:401</span>\n",
       "                             written in <span style=\"font-weight: bold\">{</span><span style=\"color: #008000\">'/manim/notebooks/media/vid</span>                         \n",
       "                             <span style=\"color: #008000\">eos/notebooks/720p60/partial_movie_file</span>                         \n",
       "                             <span style=\"color: #008000\">s/BRecipe/3157264259_2763922376_8605813</span>                         \n",
       "                             <span style=\"color: #008000\">37.mp4'</span><span style=\"font-weight: bold\">}</span>                                                        \n",
       "</pre>\n"
      ],
      "text/plain": [
       "<rich.jupyter.JupyterRenderable at 0x7fe14e235f40>"
      ]
     },
     "metadata": {},
     "output_type": "display_data"
    },
    {
     "data": {
      "text/html": [
       "<pre style=\"white-space:pre;overflow-x:auto;line-height:normal;font-family:Menlo,'DejaVu Sans Mono',consolas,'Courier New',monospace\"><span style=\"color: #7fbfbf\">[05/09/21 04:43:52] </span><span style=\"color: #008000\">INFO</span>     Animation <span style=\"color: #008000\">1</span> : Partial movie file        <a href=\"file:///usr/local/lib/python3.8/site-packages/manim/scene/scene_file_writer.py\"><span style=\"color: #7f7f7f\">scene_file_writer.py</span></a><span style=\"color: #7f7f7f\">:401</span>\n",
       "                             written in <span style=\"font-weight: bold\">{</span><span style=\"color: #008000\">'/manim/notebooks/media/vid</span>                         \n",
       "                             <span style=\"color: #008000\">eos/notebooks/720p60/partial_movie_file</span>                         \n",
       "                             <span style=\"color: #008000\">s/BRecipe/682978632_2763922376_24424386</span>                         \n",
       "                             <span style=\"color: #008000\">01.mp4'</span><span style=\"font-weight: bold\">}</span>                                                        \n",
       "</pre>\n"
      ],
      "text/plain": [
       "<rich.jupyter.JupyterRenderable at 0x7fe150fd7040>"
      ]
     },
     "metadata": {},
     "output_type": "display_data"
    },
    {
     "data": {
      "text/html": [
       "<pre style=\"white-space:pre;overflow-x:auto;line-height:normal;font-family:Menlo,'DejaVu Sans Mono',consolas,'Courier New',monospace\"><span style=\"color: #7fbfbf\">                    </span><span style=\"color: #008000\">INFO</span>     Animation <span style=\"color: #008000\">2</span> : Partial movie file        <a href=\"file:///usr/local/lib/python3.8/site-packages/manim/scene/scene_file_writer.py\"><span style=\"color: #7f7f7f\">scene_file_writer.py</span></a><span style=\"color: #7f7f7f\">:401</span>\n",
       "                             written in <span style=\"font-weight: bold\">{</span><span style=\"color: #008000\">'/manim/notebooks/media/vid</span>                         \n",
       "                             <span style=\"color: #008000\">eos/notebooks/720p60/partial_movie_file</span>                         \n",
       "                             <span style=\"color: #008000\">s/BRecipe/682978632_2763922376_15004702</span>                         \n",
       "                             <span style=\"color: #008000\">18.mp4'</span><span style=\"font-weight: bold\">}</span>                                                        \n",
       "</pre>\n"
      ],
      "text/plain": [
       "<rich.jupyter.JupyterRenderable at 0x7fe150fe8d30>"
      ]
     },
     "metadata": {},
     "output_type": "display_data"
    },
    {
     "data": {
      "text/html": [
       "<pre style=\"white-space:pre;overflow-x:auto;line-height:normal;font-family:Menlo,'DejaVu Sans Mono',consolas,'Courier New',monospace\"><span style=\"color: #7fbfbf\">[05/09/21 04:43:53] </span><span style=\"color: #008000\">INFO</span>     Animation <span style=\"color: #008000\">3</span> : Partial movie file        <a href=\"file:///usr/local/lib/python3.8/site-packages/manim/scene/scene_file_writer.py\"><span style=\"color: #7f7f7f\">scene_file_writer.py</span></a><span style=\"color: #7f7f7f\">:401</span>\n",
       "                             written in <span style=\"font-weight: bold\">{</span><span style=\"color: #008000\">'/manim/notebooks/media/vid</span>                         \n",
       "                             <span style=\"color: #008000\">eos/notebooks/720p60/partial_movie_file</span>                         \n",
       "                             <span style=\"color: #008000\">s/BRecipe/682978632_2763922376_40418812</span>                         \n",
       "                             <span style=\"color: #008000\">98.mp4'</span><span style=\"font-weight: bold\">}</span>                                                        \n",
       "</pre>\n"
      ],
      "text/plain": [
       "<rich.jupyter.JupyterRenderable at 0x7fe14e264af0>"
      ]
     },
     "metadata": {},
     "output_type": "display_data"
    },
    {
     "data": {
      "text/html": [
       "<pre style=\"white-space:pre;overflow-x:auto;line-height:normal;font-family:Menlo,'DejaVu Sans Mono',consolas,'Courier New',monospace\"><span style=\"color: #7fbfbf\">[05/09/21 04:43:54] </span><span style=\"color: #008000\">INFO</span>     Animation <span style=\"color: #008000\">4</span> : Partial movie file        <a href=\"file:///usr/local/lib/python3.8/site-packages/manim/scene/scene_file_writer.py\"><span style=\"color: #7f7f7f\">scene_file_writer.py</span></a><span style=\"color: #7f7f7f\">:401</span>\n",
       "                             written in <span style=\"font-weight: bold\">{</span><span style=\"color: #008000\">'/manim/notebooks/media/vid</span>                         \n",
       "                             <span style=\"color: #008000\">eos/notebooks/720p60/partial_movie_file</span>                         \n",
       "                             <span style=\"color: #008000\">s/BRecipe/682978632_2432241074_12650920</span>                         \n",
       "                             <span style=\"color: #008000\">93.mp4'</span><span style=\"font-weight: bold\">}</span>                                                        \n",
       "</pre>\n"
      ],
      "text/plain": [
       "<rich.jupyter.JupyterRenderable at 0x7fe14e20b790>"
      ]
     },
     "metadata": {},
     "output_type": "display_data"
    },
    {
     "data": {
      "text/html": [
       "<pre style=\"white-space:pre;overflow-x:auto;line-height:normal;font-family:Menlo,'DejaVu Sans Mono',consolas,'Courier New',monospace\"><span style=\"color: #7fbfbf\">                    </span><span style=\"color: #008000\">INFO</span>     Animation <span style=\"color: #008000\">5</span> : Partial movie file        <a href=\"file:///usr/local/lib/python3.8/site-packages/manim/scene/scene_file_writer.py\"><span style=\"color: #7f7f7f\">scene_file_writer.py</span></a><span style=\"color: #7f7f7f\">:401</span>\n",
       "                             written in <span style=\"font-weight: bold\">{</span><span style=\"color: #008000\">'/manim/notebooks/media/vid</span>                         \n",
       "                             <span style=\"color: #008000\">eos/notebooks/720p60/partial_movie_file</span>                         \n",
       "                             <span style=\"color: #008000\">s/BRecipe/682978632_1211702935_30932724</span>                         \n",
       "                             <span style=\"color: #008000\">55.mp4'</span><span style=\"font-weight: bold\">}</span>                                                        \n",
       "</pre>\n"
      ],
      "text/plain": [
       "<rich.jupyter.JupyterRenderable at 0x7fe150ac2fa0>"
      ]
     },
     "metadata": {},
     "output_type": "display_data"
    },
    {
     "data": {
      "text/html": [
       "<pre style=\"white-space:pre;overflow-x:auto;line-height:normal;font-family:Menlo,'DejaVu Sans Mono',consolas,'Courier New',monospace\"><span style=\"color: #7fbfbf\">[05/09/21 04:43:55] </span><span style=\"color: #008000\">INFO</span>     Animation <span style=\"color: #008000\">6</span> : Partial movie file        <a href=\"file:///usr/local/lib/python3.8/site-packages/manim/scene/scene_file_writer.py\"><span style=\"color: #7f7f7f\">scene_file_writer.py</span></a><span style=\"color: #7f7f7f\">:401</span>\n",
       "                             written in <span style=\"font-weight: bold\">{</span><span style=\"color: #008000\">'/manim/notebooks/media/vid</span>                         \n",
       "                             <span style=\"color: #008000\">eos/notebooks/720p60/partial_movie_file</span>                         \n",
       "                             <span style=\"color: #008000\">s/BRecipe/682978632_1211702935_32127470</span>                         \n",
       "                             <span style=\"color: #008000\">07.mp4'</span><span style=\"font-weight: bold\">}</span>                                                        \n",
       "</pre>\n"
      ],
      "text/plain": [
       "<rich.jupyter.JupyterRenderable at 0x7fe14e235d90>"
      ]
     },
     "metadata": {},
     "output_type": "display_data"
    },
    {
     "data": {
      "text/html": [
       "<pre style=\"white-space:pre;overflow-x:auto;line-height:normal;font-family:Menlo,'DejaVu Sans Mono',consolas,'Courier New',monospace\"><span style=\"color: #7fbfbf\">                    </span><span style=\"color: #008000\">INFO</span>     Animation <span style=\"color: #008000\">7</span> : Partial movie file        <a href=\"file:///usr/local/lib/python3.8/site-packages/manim/scene/scene_file_writer.py\"><span style=\"color: #7f7f7f\">scene_file_writer.py</span></a><span style=\"color: #7f7f7f\">:401</span>\n",
       "                             written in <span style=\"font-weight: bold\">{</span><span style=\"color: #008000\">'/manim/notebooks/media/vid</span>                         \n",
       "                             <span style=\"color: #008000\">eos/notebooks/720p60/partial_movie_file</span>                         \n",
       "                             <span style=\"color: #008000\">s/BRecipe/682978632_1211702935_19838439</span>                         \n",
       "                             <span style=\"color: #008000\">97.mp4'</span><span style=\"font-weight: bold\">}</span>                                                        \n",
       "</pre>\n"
      ],
      "text/plain": [
       "<rich.jupyter.JupyterRenderable at 0x7fe150ac2fa0>"
      ]
     },
     "metadata": {},
     "output_type": "display_data"
    },
    {
     "data": {
      "text/html": [
       "<pre style=\"white-space:pre;overflow-x:auto;line-height:normal;font-family:Menlo,'DejaVu Sans Mono',consolas,'Courier New',monospace\"><span style=\"color: #7fbfbf\">[05/09/21 04:43:56] </span><span style=\"color: #008000\">INFO</span>     Animation <span style=\"color: #008000\">8</span> : Partial movie file        <a href=\"file:///usr/local/lib/python3.8/site-packages/manim/scene/scene_file_writer.py\"><span style=\"color: #7f7f7f\">scene_file_writer.py</span></a><span style=\"color: #7f7f7f\">:401</span>\n",
       "                             written in <span style=\"font-weight: bold\">{</span><span style=\"color: #008000\">'/manim/notebooks/media/vid</span>                         \n",
       "                             <span style=\"color: #008000\">eos/notebooks/720p60/partial_movie_file</span>                         \n",
       "                             <span style=\"color: #008000\">s/BRecipe/682978632_1211702935_62015788</span>                         \n",
       "                             <span style=\"color: #008000\">7.mp4'</span><span style=\"font-weight: bold\">}</span>                                                         \n",
       "</pre>\n"
      ],
      "text/plain": [
       "<rich.jupyter.JupyterRenderable at 0x7fe14e4314f0>"
      ]
     },
     "metadata": {},
     "output_type": "display_data"
    },
    {
     "data": {
      "text/html": [
       "<pre style=\"white-space:pre;overflow-x:auto;line-height:normal;font-family:Menlo,'DejaVu Sans Mono',consolas,'Courier New',monospace\"><span style=\"color: #7fbfbf\">                    </span><span style=\"color: #008000\">INFO</span>     Animation <span style=\"color: #008000\">9</span> : Partial movie file        <a href=\"file:///usr/local/lib/python3.8/site-packages/manim/scene/scene_file_writer.py\"><span style=\"color: #7f7f7f\">scene_file_writer.py</span></a><span style=\"color: #7f7f7f\">:401</span>\n",
       "                             written in <span style=\"font-weight: bold\">{</span><span style=\"color: #008000\">'/manim/notebooks/media/vid</span>                         \n",
       "                             <span style=\"color: #008000\">eos/notebooks/720p60/partial_movie_file</span>                         \n",
       "                             <span style=\"color: #008000\">s/BRecipe/682978632_1615497636_10614406</span>                         \n",
       "                             <span style=\"color: #008000\">80.mp4'</span><span style=\"font-weight: bold\">}</span>                                                        \n",
       "</pre>\n"
      ],
      "text/plain": [
       "<rich.jupyter.JupyterRenderable at 0x7fe14e264af0>"
      ]
     },
     "metadata": {},
     "output_type": "display_data"
    },
    {
     "data": {
      "text/html": [
       "<pre style=\"white-space:pre;overflow-x:auto;line-height:normal;font-family:Menlo,'DejaVu Sans Mono',consolas,'Courier New',monospace\"><span style=\"color: #7fbfbf\">                    </span><span style=\"color: #008000\">INFO</span>                                             <a href=\"file:///usr/local/lib/python3.8/site-packages/manim/scene/scene_file_writer.py\"><span style=\"color: #7f7f7f\">scene_file_writer.py</span></a><span style=\"color: #7f7f7f\">:585</span>\n",
       "                             <span style=\"color: #808000; font-weight: bold\">File</span> ready at <span style=\"color: #800080\">/manim/notebooks/media/vi</span>                         \n",
       "                             <span style=\"color: #800080\">deos/notebooks/720p60/</span><span style=\"color: #ff00ff\">resize-objects.mp</span>                         \n",
       "                             <span style=\"color: #ff00ff\">4</span>                                                               \n",
       "                                                                                             \n",
       "</pre>\n"
      ],
      "text/plain": [
       "<rich.jupyter.JupyterRenderable at 0x7fe14e264af0>"
      ]
     },
     "metadata": {},
     "output_type": "display_data"
    },
    {
     "data": {
      "text/html": [
       "<pre style=\"white-space:pre;overflow-x:auto;line-height:normal;font-family:Menlo,'DejaVu Sans Mono',consolas,'Courier New',monospace\"><span style=\"color: #7fbfbf\">                    </span><span style=\"color: #008000\">INFO</span>     <span style=\"color: #808000; font-weight: bold\">Rendered</span> BRecipe                                    <a href=\"file:///usr/local/lib/python3.8/site-packages/manim/scene/scene.py\"><span style=\"color: #7f7f7f\">scene.py</span></a><span style=\"color: #7f7f7f\">:217</span>\n",
       "                             <span style=\"color: #808000; font-weight: bold\">Played</span> <span style=\"color: #008000\">10</span> <span style=\"color: #808000; font-weight: bold\">animations</span>                                            \n",
       "</pre>\n"
      ],
      "text/plain": [
       "<rich.jupyter.JupyterRenderable at 0x7fe14e264af0>"
      ]
     },
     "metadata": {},
     "output_type": "display_data"
    },
    {
     "data": {
      "text/html": [
       "<video src=\"media/jupyter/b6e8fdd57e8d9460ee5147ea66d6b5ee221374d7.mp4\" controls autoplay loop style=\"max-width: 25vw;\"  >\n",
       "      Your browser does not support the <code>video</code> element.\n",
       "    </video>"
      ],
      "text/plain": [
       "<IPython.core.display.Video object>"
      ]
     },
     "metadata": {},
     "output_type": "display_data"
    }
   ],
   "source": [
    "%%manim -qh -r 1280,720 -o resize-objects.mp4 BRecipe\n",
    "pass"
   ]
  },
  {
   "cell_type": "code",
   "execution_count": 6,
   "id": "c88b9a6c-708c-43b8-86d7-01fefa7869bb",
   "metadata": {},
   "outputs": [
    {
     "name": "stderr",
     "output_type": "stream",
     "text": [
      "/usr/local/lib/python3.8/site-packages/numpy/core/_asarray.py:102: VisibleDeprecationWarning: Creating an ndarray from nested sequences exceeding the maximum number of dimensions of 32 is deprecated. If you mean to do this, you must specify 'dtype=object' when creating the ndarray.\n",
      "  return array(a, dtype, copy=False, order=order)\n"
     ]
    },
    {
     "name": "stdout",
     "output_type": "stream",
     "text": [
      "0\n"
     ]
    },
    {
     "name": "stderr",
     "output_type": "stream",
     "text": [
      "Waiting 0:   0%|          | 0/45 [00:00<?, ?it/s]/usr/local/lib/python3.8/site-packages/numpy/core/_asarray.py:102: VisibleDeprecationWarning: Creating an ndarray from nested sequences exceeding the maximum number of dimensions of 32 is deprecated. If you mean to do this, you must specify 'dtype=object' when creating the ndarray.\n",
      "  return array(a, dtype, copy=False, order=order)\n"
     ]
    },
    {
     "name": "stdout",
     "output_type": "stream",
     "text": [
      "0.0\n"
     ]
    },
    {
     "name": "stderr",
     "output_type": "stream",
     "text": [
      "Waiting 0:   2%|▏         | 1/45 [00:00<00:10,  4.35it/s]"
     ]
    },
    {
     "name": "stdout",
     "output_type": "stream",
     "text": [
      "0.06666666666666667\n"
     ]
    },
    {
     "name": "stderr",
     "output_type": "stream",
     "text": [
      "Waiting 0:   4%|▍         | 2/45 [00:00<00:09,  4.60it/s]"
     ]
    },
    {
     "name": "stdout",
     "output_type": "stream",
     "text": [
      "0.06666666666666667\n"
     ]
    },
    {
     "name": "stderr",
     "output_type": "stream",
     "text": [
      "Waiting 0:   7%|▋         | 3/45 [00:00<00:09,  4.52it/s]"
     ]
    },
    {
     "name": "stdout",
     "output_type": "stream",
     "text": [
      "0.06666666666666668\n"
     ]
    },
    {
     "name": "stderr",
     "output_type": "stream",
     "text": [
      "Waiting 0:   9%|▉         | 4/45 [00:00<00:09,  4.45it/s]"
     ]
    },
    {
     "name": "stdout",
     "output_type": "stream",
     "text": [
      "0.06666666666666665\n"
     ]
    },
    {
     "name": "stderr",
     "output_type": "stream",
     "text": [
      "Waiting 0:  11%|█         | 5/45 [00:01<00:09,  4.36it/s]"
     ]
    },
    {
     "name": "stdout",
     "output_type": "stream",
     "text": [
      "0.06666666666666665\n"
     ]
    },
    {
     "name": "stderr",
     "output_type": "stream",
     "text": [
      "Waiting 0:  13%|█▎        | 6/45 [00:01<00:08,  4.35it/s]"
     ]
    },
    {
     "name": "stdout",
     "output_type": "stream",
     "text": [
      "0.06666666666666671\n"
     ]
    },
    {
     "name": "stderr",
     "output_type": "stream",
     "text": [
      "Waiting 0:  16%|█▌        | 7/45 [00:01<00:09,  4.15it/s]"
     ]
    },
    {
     "name": "stdout",
     "output_type": "stream",
     "text": [
      "0.06666666666666665\n"
     ]
    },
    {
     "name": "stderr",
     "output_type": "stream",
     "text": [
      "Waiting 0:  18%|█▊        | 8/45 [00:01<00:08,  4.19it/s]"
     ]
    },
    {
     "name": "stdout",
     "output_type": "stream",
     "text": [
      "0.06666666666666665\n"
     ]
    },
    {
     "name": "stderr",
     "output_type": "stream",
     "text": [
      "Waiting 0:  20%|██        | 9/45 [00:02<00:08,  4.23it/s]"
     ]
    },
    {
     "name": "stdout",
     "output_type": "stream",
     "text": [
      "0.06666666666666665\n"
     ]
    },
    {
     "name": "stderr",
     "output_type": "stream",
     "text": [
      "Waiting 0:  22%|██▏       | 10/45 [00:02<00:08,  4.19it/s]"
     ]
    },
    {
     "name": "stdout",
     "output_type": "stream",
     "text": [
      "0.06666666666666665\n"
     ]
    },
    {
     "name": "stderr",
     "output_type": "stream",
     "text": [
      "Waiting 0:  24%|██▍       | 11/45 [00:02<00:07,  4.26it/s]"
     ]
    },
    {
     "name": "stdout",
     "output_type": "stream",
     "text": [
      "0.06666666666666665\n"
     ]
    },
    {
     "name": "stderr",
     "output_type": "stream",
     "text": [
      "Waiting 0:  27%|██▋       | 12/45 [00:02<00:07,  4.32it/s]"
     ]
    },
    {
     "name": "stdout",
     "output_type": "stream",
     "text": [
      "0.06666666666666676\n"
     ]
    },
    {
     "name": "stderr",
     "output_type": "stream",
     "text": [
      "Waiting 0:  29%|██▉       | 13/45 [00:03<00:07,  4.34it/s]"
     ]
    },
    {
     "name": "stdout",
     "output_type": "stream",
     "text": [
      "0.06666666666666665\n"
     ]
    },
    {
     "name": "stderr",
     "output_type": "stream",
     "text": [
      "Waiting 0:  31%|███       | 14/45 [00:03<00:07,  4.37it/s]"
     ]
    },
    {
     "name": "stdout",
     "output_type": "stream",
     "text": [
      "0.06666666666666665\n"
     ]
    },
    {
     "name": "stderr",
     "output_type": "stream",
     "text": [
      "Waiting 0:  33%|███▎      | 15/45 [00:03<00:06,  4.35it/s]"
     ]
    },
    {
     "name": "stdout",
     "output_type": "stream",
     "text": [
      "0.06666666666666665\n"
     ]
    },
    {
     "name": "stderr",
     "output_type": "stream",
     "text": [
      "Waiting 0:  36%|███▌      | 16/45 [00:03<00:06,  4.33it/s]"
     ]
    },
    {
     "name": "stdout",
     "output_type": "stream",
     "text": [
      "0.06666666666666665\n"
     ]
    },
    {
     "name": "stderr",
     "output_type": "stream",
     "text": [
      "Waiting 0:  38%|███▊      | 17/45 [00:03<00:06,  4.31it/s]"
     ]
    },
    {
     "name": "stdout",
     "output_type": "stream",
     "text": [
      "0.06666666666666665\n"
     ]
    },
    {
     "name": "stderr",
     "output_type": "stream",
     "text": [
      "Waiting 0:  40%|████      | 18/45 [00:04<00:06,  4.13it/s]"
     ]
    },
    {
     "name": "stdout",
     "output_type": "stream",
     "text": [
      "0.06666666666666665\n"
     ]
    },
    {
     "name": "stderr",
     "output_type": "stream",
     "text": [
      "Waiting 0:  42%|████▏     | 19/45 [00:04<00:06,  4.02it/s]"
     ]
    },
    {
     "name": "stdout",
     "output_type": "stream",
     "text": [
      "0.06666666666666665\n"
     ]
    },
    {
     "name": "stderr",
     "output_type": "stream",
     "text": [
      "Waiting 0:  44%|████▍     | 20/45 [00:04<00:06,  3.99it/s]"
     ]
    },
    {
     "name": "stdout",
     "output_type": "stream",
     "text": [
      "0.06666666666666665\n"
     ]
    },
    {
     "name": "stderr",
     "output_type": "stream",
     "text": [
      "Waiting 0:  47%|████▋     | 21/45 [00:04<00:06,  3.97it/s]"
     ]
    },
    {
     "name": "stdout",
     "output_type": "stream",
     "text": [
      "0.06666666666666665\n"
     ]
    },
    {
     "name": "stderr",
     "output_type": "stream",
     "text": [
      "Waiting 0:  49%|████▉     | 22/45 [00:05<00:05,  3.95it/s]"
     ]
    },
    {
     "name": "stdout",
     "output_type": "stream",
     "text": [
      "0.06666666666666665\n"
     ]
    },
    {
     "name": "stderr",
     "output_type": "stream",
     "text": [
      "Waiting 0:  51%|█████     | 23/45 [00:05<00:05,  3.92it/s]"
     ]
    },
    {
     "name": "stdout",
     "output_type": "stream",
     "text": [
      "0.06666666666666665\n"
     ]
    },
    {
     "name": "stderr",
     "output_type": "stream",
     "text": [
      "Waiting 0:  53%|█████▎    | 24/45 [00:05<00:05,  3.90it/s]"
     ]
    },
    {
     "name": "stdout",
     "output_type": "stream",
     "text": [
      "0.06666666666666687\n"
     ]
    },
    {
     "name": "stderr",
     "output_type": "stream",
     "text": [
      "Waiting 0:  56%|█████▌    | 25/45 [00:06<00:05,  3.89it/s]"
     ]
    },
    {
     "name": "stdout",
     "output_type": "stream",
     "text": [
      "0.06666666666666665\n"
     ]
    },
    {
     "name": "stderr",
     "output_type": "stream",
     "text": [
      "Waiting 0:  58%|█████▊    | 26/45 [00:06<00:04,  3.88it/s]"
     ]
    },
    {
     "name": "stdout",
     "output_type": "stream",
     "text": [
      "0.06666666666666665\n"
     ]
    },
    {
     "name": "stderr",
     "output_type": "stream",
     "text": [
      "Waiting 0:  60%|██████    | 27/45 [00:06<00:04,  3.85it/s]"
     ]
    },
    {
     "name": "stdout",
     "output_type": "stream",
     "text": [
      "0.06666666666666665\n"
     ]
    },
    {
     "name": "stderr",
     "output_type": "stream",
     "text": [
      "Waiting 0:  62%|██████▏   | 28/45 [00:06<00:04,  3.70it/s]"
     ]
    },
    {
     "name": "stdout",
     "output_type": "stream",
     "text": [
      "0.06666666666666665\n"
     ]
    },
    {
     "name": "stderr",
     "output_type": "stream",
     "text": [
      "Waiting 0:  64%|██████▍   | 29/45 [00:07<00:04,  3.73it/s]"
     ]
    },
    {
     "name": "stdout",
     "output_type": "stream",
     "text": [
      "0.06666666666666665\n"
     ]
    },
    {
     "name": "stderr",
     "output_type": "stream",
     "text": [
      "Waiting 0:  67%|██████▋   | 30/45 [00:07<00:04,  3.71it/s]"
     ]
    },
    {
     "name": "stdout",
     "output_type": "stream",
     "text": [
      "0.06666666666666665\n"
     ]
    },
    {
     "name": "stderr",
     "output_type": "stream",
     "text": [
      "Waiting 0:  69%|██████▉   | 31/45 [00:07<00:03,  3.70it/s]"
     ]
    },
    {
     "name": "stdout",
     "output_type": "stream",
     "text": [
      "0.06666666666666643\n"
     ]
    },
    {
     "name": "stderr",
     "output_type": "stream",
     "text": [
      "Waiting 0:  71%|███████   | 32/45 [00:07<00:03,  3.69it/s]"
     ]
    },
    {
     "name": "stdout",
     "output_type": "stream",
     "text": [
      "0.06666666666666687\n"
     ]
    },
    {
     "name": "stderr",
     "output_type": "stream",
     "text": [
      "Waiting 0:  73%|███████▎  | 33/45 [00:08<00:03,  3.66it/s]"
     ]
    },
    {
     "name": "stdout",
     "output_type": "stream",
     "text": [
      "0.06666666666666687\n"
     ]
    },
    {
     "name": "stderr",
     "output_type": "stream",
     "text": [
      "Waiting 0:  76%|███████▌  | 34/45 [00:08<00:03,  3.64it/s]"
     ]
    },
    {
     "name": "stdout",
     "output_type": "stream",
     "text": [
      "0.06666666666666643\n"
     ]
    },
    {
     "name": "stderr",
     "output_type": "stream",
     "text": [
      "Waiting 0:  78%|███████▊  | 35/45 [00:08<00:02,  3.57it/s]"
     ]
    },
    {
     "name": "stdout",
     "output_type": "stream",
     "text": [
      "0.06666666666666687\n"
     ]
    },
    {
     "name": "stderr",
     "output_type": "stream",
     "text": [
      "Waiting 0:  80%|████████  | 36/45 [00:09<00:02,  3.52it/s]"
     ]
    },
    {
     "name": "stdout",
     "output_type": "stream",
     "text": [
      "0.06666666666666643\n"
     ]
    },
    {
     "name": "stderr",
     "output_type": "stream",
     "text": [
      "Waiting 0:  82%|████████▏ | 37/45 [00:09<00:02,  3.44it/s]"
     ]
    },
    {
     "name": "stdout",
     "output_type": "stream",
     "text": [
      "0.06666666666666687\n"
     ]
    },
    {
     "name": "stderr",
     "output_type": "stream",
     "text": [
      "Waiting 0:  84%|████████▍ | 38/45 [00:09<00:02,  3.38it/s]"
     ]
    },
    {
     "name": "stdout",
     "output_type": "stream",
     "text": [
      "0.06666666666666643\n"
     ]
    },
    {
     "name": "stderr",
     "output_type": "stream",
     "text": [
      "Waiting 0:  87%|████████▋ | 39/45 [00:09<00:01,  3.33it/s]"
     ]
    },
    {
     "name": "stdout",
     "output_type": "stream",
     "text": [
      "0.06666666666666687\n"
     ]
    },
    {
     "name": "stderr",
     "output_type": "stream",
     "text": [
      "Waiting 0:  89%|████████▉ | 40/45 [00:10<00:01,  3.30it/s]"
     ]
    },
    {
     "name": "stdout",
     "output_type": "stream",
     "text": [
      "0.06666666666666643\n"
     ]
    },
    {
     "name": "stderr",
     "output_type": "stream",
     "text": [
      "Waiting 0:  91%|█████████ | 41/45 [00:10<00:01,  3.27it/s]"
     ]
    },
    {
     "name": "stdout",
     "output_type": "stream",
     "text": [
      "0.06666666666666687\n"
     ]
    },
    {
     "name": "stderr",
     "output_type": "stream",
     "text": [
      "Waiting 0:  93%|█████████▎| 42/45 [00:10<00:00,  3.24it/s]"
     ]
    },
    {
     "name": "stdout",
     "output_type": "stream",
     "text": [
      "0.06666666666666643\n"
     ]
    },
    {
     "name": "stderr",
     "output_type": "stream",
     "text": [
      "Waiting 0:  96%|█████████▌| 43/45 [00:11<00:00,  3.20it/s]"
     ]
    },
    {
     "name": "stdout",
     "output_type": "stream",
     "text": [
      "0.06666666666666687\n"
     ]
    },
    {
     "name": "stderr",
     "output_type": "stream",
     "text": [
      "Waiting 0:  98%|█████████▊| 44/45 [00:11<00:00,  3.18it/s]"
     ]
    },
    {
     "name": "stdout",
     "output_type": "stream",
     "text": [
      "0.06666666666666643\n"
     ]
    },
    {
     "name": "stderr",
     "output_type": "stream",
     "text": [
      "                                                          \r"
     ]
    },
    {
     "name": "stdout",
     "output_type": "stream",
     "text": [
      "0\n"
     ]
    },
    {
     "data": {
      "text/html": [
       "<pre style=\"white-space:pre;overflow-x:auto;line-height:normal;font-family:Menlo,'DejaVu Sans Mono',consolas,'Courier New',monospace\"><span style=\"color: #7fbfbf\">[05/04/21 06:25:22] </span><span style=\"color: #008000\">INFO</span>     Animation <span style=\"color: #008000\">0</span> : Partial movie file        <a href=\"file:///usr/local/lib/python3.8/site-packages/manim/scene/scene_file_writer.py\"><span style=\"color: #7f7f7f\">scene_file_writer.py</span></a><span style=\"color: #7f7f7f\">:401</span>\n",
       "                             written in <span style=\"font-weight: bold\">{</span><span style=\"color: #008000\">'/manim/notebooks/media/vid</span>                         \n",
       "                             <span style=\"color: #008000\">eos/notebooks/480p15/partial_movie_file</span>                         \n",
       "                             <span style=\"color: #008000\">s/My2DScene/1694171206_3010425686_10113</span>                         \n",
       "                             <span style=\"color: #008000\">9217.mp4'</span><span style=\"font-weight: bold\">}</span>                                                      \n",
       "</pre>\n"
      ],
      "text/plain": [
       "<rich.jupyter.JupyterRenderable at 0x7f8ab05a0fa0>"
      ]
     },
     "metadata": {},
     "output_type": "display_data"
    },
    {
     "data": {
      "text/html": [
       "<pre style=\"white-space:pre;overflow-x:auto;line-height:normal;font-family:Menlo,'DejaVu Sans Mono',consolas,'Courier New',monospace\"><span style=\"color: #7fbfbf\">                    </span><span style=\"color: #008000\">INFO</span>                                             <a href=\"file:///usr/local/lib/python3.8/site-packages/manim/scene/scene_file_writer.py\"><span style=\"color: #7f7f7f\">scene_file_writer.py</span></a><span style=\"color: #7f7f7f\">:585</span>\n",
       "                             <span style=\"color: #808000; font-weight: bold\">File</span> ready at <span style=\"color: #800080\">/manim/notebooks/media/vi</span>                         \n",
       "                             <span style=\"color: #800080\">deos/notebooks/480p15/</span><span style=\"color: #ff00ff\">My2DScene.mp4</span>                             \n",
       "                                                                                             \n",
       "</pre>\n"
      ],
      "text/plain": [
       "<rich.jupyter.JupyterRenderable at 0x7f8ab05a0fa0>"
      ]
     },
     "metadata": {},
     "output_type": "display_data"
    },
    {
     "data": {
      "text/html": [
       "<pre style=\"white-space:pre;overflow-x:auto;line-height:normal;font-family:Menlo,'DejaVu Sans Mono',consolas,'Courier New',monospace\"><span style=\"color: #7fbfbf\">                    </span><span style=\"color: #008000\">INFO</span>     <span style=\"color: #808000; font-weight: bold\">Rendered</span> My2DScene                                  <a href=\"file:///usr/local/lib/python3.8/site-packages/manim/scene/scene.py\"><span style=\"color: #7f7f7f\">scene.py</span></a><span style=\"color: #7f7f7f\">:199</span>\n",
       "                             <span style=\"color: #808000; font-weight: bold\">Played</span> <span style=\"color: #008000\">1</span> <span style=\"color: #808000; font-weight: bold\">animations</span>                                             \n",
       "</pre>\n"
      ],
      "text/plain": [
       "<rich.jupyter.JupyterRenderable at 0x7f8ab05a0b20>"
      ]
     },
     "metadata": {},
     "output_type": "display_data"
    },
    {
     "data": {
      "text/html": [
       "<video src=\"media/jupyter/440c12690ced10bdc17c62923c0b455fd70268f4.mp4\" controls autoplay loop style=\"max-width: 25vw;\"  >\n",
       "      Your browser does not support the <code>video</code> element.\n",
       "    </video>"
      ],
      "text/plain": [
       "<IPython.core.display.Video object>"
      ]
     },
     "metadata": {},
     "output_type": "display_data"
    }
   ],
   "source": [
    "%%manim -ql My2DScene\n",
    "\n",
    "import functools as ft\n",
    "import copy\n",
    "colors = ['#caf0f8', '#90e0ef', '#00b4d8', '#0096c7']\n",
    "\n",
    "class MyMatrix(manim.DecimalMatrix):\n",
    "    pass\n",
    "\n",
    "M = np.array([[2, 0.5, 1],[0.5, 1, 1]])\n",
    "M0 = np.zeros(M.shape)\n",
    "M = M0\n",
    "W = np.array([[3, 1, 4,1],[0, 2, 1, 0.5],[0.5, 0, 2, 0]])\n",
    "add1 = np.zeros(M.shape)\n",
    "add1[0, 1] = 1.0\n",
    "Z = M0 @ W\n",
    "\n",
    "class My2DScene(manim.Scene):\n",
    "    def construct(self):\n",
    "        M_matrix = MyMatrix(M)\n",
    "        M0_matrix = MyMatrix(M0)\n",
    "        Z_matrix = MyMatrix(Z)\n",
    "        W_matrix = MyMatrix(W)\n",
    "        arrow = manim.Arrow(start=manim.LEFT, end=manim.RIGHT, color='#505050')\n",
    "        matrix_eq = manim.VMobject()\n",
    "        #matrix_eq.add(M0_matrix, W_matrix, arrow, Z_matrix)\n",
    "        #matrix_eq.arrange()\n",
    "        #self.add(matrix_eq)\n",
    "        \n",
    "        #matrix_mult_ob.arrange()\n",
    "        #W_matrix.next_to(M0_matrix, manim.RIGHT)        \n",
    "        #arrow.next_to(W_matrix, manim.RIGHT)\n",
    "        #Z_matrix.next_to(arrow, manim.RIGHT)\n",
    "        #self.add(M0_matrix, W_matrix, arrow, Z_matrix)\n",
    "        #dup_row1 = copy.deepcopy(W_matrix.get_rows()[0])\n",
    "        #target_x = W_matrix.get_center()[1]\n",
    "        #y_offset = 2\n",
    "        #target_y = W_matrix.get_critical_point(manim.DOWN)[0] - 2\n",
    "        #animate_row_mult(self, dup_row1, 2.0, np.array([target_x, target_y, 0]))\n",
    "        #matrix_mult_ob.add(M_matrix, W_matrix)\n",
    "        #matrix_mult_ob.arrange()\n",
    "        #self.add(matrix_mult_ob)\n",
    "        \n",
    "        def plus(to_add, m, dt):\n",
    "            if m.mob_matrix.shape != to_add.shape:\n",
    "                raise Exception(\"shapes must match\")\n",
    "            rate = 0.2\n",
    "            factor = min(1.0, dt*rate)\n",
    "            for r in range(m.mob_matrix.shape[0]):\n",
    "                for c in range(m.mob_matrix.shape[1]):\n",
    "                    m.mob_matrix[r,c].set_value(m.mob_matrix[r,c].get_value() + \n",
    "                                                to_add[r,c]*factor)\n",
    "                    \n",
    "                    \n",
    "        def plus_complete(eq, dt):\n",
    "            rate = 0.4\n",
    "            factor = min(1.0, dt*rate)\n",
    "            print(dt)\n",
    "            global M\n",
    "            M = factor*add1 + M\n",
    "        \n",
    "        def get_M():\n",
    "            return MyMatrix(M).next_to(W_matrix, manim.LEFT)\n",
    "            \n",
    "        def get_mult_result():\n",
    "            y = M @ W\n",
    "            y_matrix = MyMatrix(y).next_to(arrow, manim.RIGHT)\n",
    "            return y_matrix\n",
    "        \n",
    "        matrix_eq.add(manim.always_redraw(get_M), \n",
    "                      W_matrix, arrow, manim.always_redraw(get_mult_result).next_to(arrow))\n",
    "        matrix_eq.add_updater(plus_complete)\n",
    "        matrix_eq.arrange()\n",
    "        self.add(matrix_eq)\n",
    "        #M_matrix.add_updater(ft.partial(plus, negM))\n",
    "        #matrix_eq.add_updater(lambda meq : meq.arrange())\n",
    "        self.wait(3)\n",
    "        \n",
    "                    \n",
    "            \n",
    "def animate_row_mult(scene, row, multiplier, target_pos, alignment=manim.ORIGIN):\n",
    "    init_values = [d.get_value() for d in row]\n",
    "    get_dist = lambda : np.linalg.norm(target_pos - row.get_critical_point(alignment))\n",
    "    init_dist = get_dist()\n",
    "\n",
    "    def updater(row):\n",
    "        for i, d in enumerate(row):\n",
    "            current_dist = get_dist()\n",
    "            progress = round(1 - current_dist/init_dist, 10)\n",
    "            temp_mult = 1 * (1 - progress) + multiplier * progress\n",
    "            d.set_value(init_values[i] * temp_mult)\n",
    "    #    decimal.add_updater(ft.partial(updater, init_val=init_values[i]))\n",
    "    #row.add_updater(updater)\n",
    "    #scene.play(row.animate.move_to(target_pos, alignment), run_time=3)\n",
    "    scene.play(row.animate.shift(target_pos - row.get_critical_point(alignment)))\n",
    "    scene.wait(1)"
   ]
  },
  {
   "cell_type": "code",
   "execution_count": 7,
   "id": "44129ed0-8c2e-48f4-b61e-4d069df2e44b",
   "metadata": {},
   "outputs": [
    {
     "name": "stderr",
     "output_type": "stream",
     "text": [
      "/usr/local/lib/python3.8/site-packages/numpy/core/_asarray.py:102: VisibleDeprecationWarning: Creating an ndarray from nested sequences exceeding the maximum number of dimensions of 32 is deprecated. If you mean to do this, you must specify 'dtype=object' when creating the ndarray.\n",
      "  return array(a, dtype, copy=False, order=order)\n",
      "                                                                                 \r"
     ]
    },
    {
     "data": {
      "text/html": [
       "<pre style=\"white-space:pre;overflow-x:auto;line-height:normal;font-family:Menlo,'DejaVu Sans Mono',consolas,'Courier New',monospace\"><span style=\"color: #7fbfbf\">[05/04/21 06:25:24] </span><span style=\"color: #008000\">INFO</span>     Animation <span style=\"color: #008000\">0</span> : Partial movie file        <a href=\"file:///usr/local/lib/python3.8/site-packages/manim/scene/scene_file_writer.py\"><span style=\"color: #7f7f7f\">scene_file_writer.py</span></a><span style=\"color: #7f7f7f\">:401</span>\n",
       "                             written in <span style=\"font-weight: bold\">{</span><span style=\"color: #008000\">'/manim/notebooks/media/vid</span>                         \n",
       "                             <span style=\"color: #008000\">eos/notebooks/480p15/partial_movie_file</span>                         \n",
       "                             <span style=\"color: #008000\">s/MyScene/2660467682_702053902_34907134</span>                         \n",
       "                             <span style=\"color: #008000\">54.mp4'</span><span style=\"font-weight: bold\">}</span>                                                        \n",
       "</pre>\n"
      ],
      "text/plain": [
       "<rich.jupyter.JupyterRenderable at 0x7f8ab0791c70>"
      ]
     },
     "metadata": {},
     "output_type": "display_data"
    },
    {
     "data": {
      "text/html": [
       "<pre style=\"white-space:pre;overflow-x:auto;line-height:normal;font-family:Menlo,'DejaVu Sans Mono',consolas,'Courier New',monospace\"><span style=\"color: #7fbfbf\">[05/04/21 06:25:26] </span><span style=\"color: #008000\">INFO</span>     Animation <span style=\"color: #008000\">1</span> : Partial movie file        <a href=\"file:///usr/local/lib/python3.8/site-packages/manim/scene/scene_file_writer.py\"><span style=\"color: #7f7f7f\">scene_file_writer.py</span></a><span style=\"color: #7f7f7f\">:401</span>\n",
       "                             written in <span style=\"font-weight: bold\">{</span><span style=\"color: #008000\">'/manim/notebooks/media/vid</span>                         \n",
       "                             <span style=\"color: #008000\">eos/notebooks/480p15/partial_movie_file</span>                         \n",
       "                             <span style=\"color: #008000\">s/MyScene/42459752_171535338_3368390139</span>                         \n",
       "                             <span style=\"color: #008000\">.mp4'</span><span style=\"font-weight: bold\">}</span>                                                          \n",
       "</pre>\n"
      ],
      "text/plain": [
       "<rich.jupyter.JupyterRenderable at 0x7f8ab0aba700>"
      ]
     },
     "metadata": {},
     "output_type": "display_data"
    },
    {
     "data": {
      "text/html": [
       "<pre style=\"white-space:pre;overflow-x:auto;line-height:normal;font-family:Menlo,'DejaVu Sans Mono',consolas,'Courier New',monospace\"><span style=\"color: #7fbfbf\">                    </span><span style=\"color: #008000\">INFO</span>                                             <a href=\"file:///usr/local/lib/python3.8/site-packages/manim/scene/scene_file_writer.py\"><span style=\"color: #7f7f7f\">scene_file_writer.py</span></a><span style=\"color: #7f7f7f\">:585</span>\n",
       "                             <span style=\"color: #808000; font-weight: bold\">File</span> ready at <span style=\"color: #800080\">/manim/notebooks/media/vi</span>                         \n",
       "                             <span style=\"color: #800080\">deos/notebooks/480p15/</span><span style=\"color: #ff00ff\">MyScene.mp4</span>                               \n",
       "                                                                                             \n",
       "</pre>\n"
      ],
      "text/plain": [
       "<rich.jupyter.JupyterRenderable at 0x7f8ab0aba6d0>"
      ]
     },
     "metadata": {},
     "output_type": "display_data"
    },
    {
     "data": {
      "text/html": [
       "<pre style=\"white-space:pre;overflow-x:auto;line-height:normal;font-family:Menlo,'DejaVu Sans Mono',consolas,'Courier New',monospace\"><span style=\"color: #7fbfbf\">                    </span><span style=\"color: #008000\">INFO</span>     <span style=\"color: #808000; font-weight: bold\">Rendered</span> MyScene                                    <a href=\"file:///usr/local/lib/python3.8/site-packages/manim/scene/scene.py\"><span style=\"color: #7f7f7f\">scene.py</span></a><span style=\"color: #7f7f7f\">:199</span>\n",
       "                             <span style=\"color: #808000; font-weight: bold\">Played</span> <span style=\"color: #008000\">2</span> <span style=\"color: #808000; font-weight: bold\">animations</span>                                             \n",
       "</pre>\n"
      ],
      "text/plain": [
       "<rich.jupyter.JupyterRenderable at 0x7f8ab07b5820>"
      ]
     },
     "metadata": {},
     "output_type": "display_data"
    },
    {
     "data": {
      "text/html": [
       "<video src=\"media/jupyter/3ea7942e8ffba2e5a1033f9065093a625dd18e07.mp4\" controls autoplay loop style=\"max-width: 25vw;\"  >\n",
       "      Your browser does not support the <code>video</code> element.\n",
       "    </video>"
      ],
      "text/plain": [
       "<IPython.core.display.Video object>"
      ]
     },
     "metadata": {},
     "output_type": "display_data"
    }
   ],
   "source": [
    "%%manim -ql MyScene\n",
    "\n",
    "colors = ['#caf0f8', '#90e0ef', '#00b4d8', '#0096c7']\n",
    "\n",
    "M = np.array([[2, 0.5, 1],[0.5, 1, 1]])\n",
    "W = np.array([[2, 1, 4,1],[0, 2, 1, 0.5],[0.5, 0, 2, 0]])\n",
    "\n",
    "class MyScene(manim.ThreeDScene):     \n",
    "    def construct(self):\n",
    "        #self.move_camera(distance=90*scale)\n",
    "        #self.set_camera_orientation(phi=50*manim.DEGREES, theta=-60*manim.DEGREES)\n",
    "        self.set_camera_orientation(phi=0, theta=-90*manim.DEGREES)\n",
    "        axes = manim.ThreeDAxes()\n",
    "        self.add(axes)\n",
    "        M_prisms = self.matrix_as_prisms(M)\n",
    "        W_prisims = self.matrix_as_prisms(W)\n",
    "        M_matrix = manim.Matrix(M)\n",
    "        W_matrix = manim.Matrix(W)\n",
    "        #M_matrix.move_to(manim.ORIGIN, aligned_edge=[-1, 1, -1])\n",
    "        #W_matrix.next_to(M_matrix, manim.RIGHT)\n",
    "        matrix_mult_ob = manim.VMobject()\n",
    "        matrix_mult_ob.add(M_matrix, W_matrix)\n",
    "        matrix_mult_ob.arrange()\n",
    "        matrix_mult_ob.move_to(manim.ORIGIN, aligned_edge=[-1, 1, -1])\n",
    "        #self.add(M_matrix, W_matrix)\n",
    "        self.add(matrix_mult_ob)\n",
    "        self.move_camera(frame_center=np.array([10,50,0]))#matrix_mult_ob.get_center())\n",
    "        #self.move_camera(phi=45*manim.DEGREES)\n",
    "        #self.begin_ambient_camera_rotation(rate=0.25)\n",
    "        self.wait(3)\n",
    "        #self.stop_ambient_camera_rotation()\n",
    "        \n",
    "    def matrix_as_prisms(self, matrix, max_opacity=1.0, min_opacity=1.0):\n",
    "        matrix_ob = manim.VMobject()\n",
    "        opacity_step = (max_opacity - min_opacity) / matrix.shape[0]\n",
    "        prisms = []\n",
    "        for r in range(matrix.shape[0]):\n",
    "            #for c in range(matrix.shape[1]):\n",
    "             #   p = manim.Prism([width, depth, matrix[r, c]*scale])\n",
    "             #   p.move_to(c*scale * manim.RIGHT + (r + r * row_spacing) * scale * manim.DOWN)#-0.5*matrix[r,c]*IN)\n",
    "             #   p.align_on_border(manim.IN)\n",
    "             #   p.set_fill(colors[r], opacity=max_opacity - r*opacity_step)\n",
    "             #   p.set_stroke(color='#00000', width=1.0)\n",
    "             #   matrix_ob.add(p)\n",
    "            vec = self.vector_as_prisms(matrix[r], colors[r], opacity=max_opacity - r*opacity_step)\n",
    "            matrix_ob.add(vec)\n",
    "        matrix_ob.arrange(direction=np.array([0,-1,0]), center=False, coor_mask=np.array([0,1,0]))\n",
    "        #matrix_ob.space_out_submobjects(factor=0.1)\n",
    "        return matrix_ob\n",
    "    \n",
    "    def vector_as_prisms(self, vector, color=None, opacity=1.0):\n",
    "        width = depth = 1\n",
    "        vector_ob = manim.VMobject()\n",
    "        prisms = []\n",
    "        i = 0\n",
    "        for val in vector:\n",
    "            p = manim.Prism([width, depth, val])\n",
    "            p.set_fill(color, opacity=opacity)\n",
    "            p.align_on_border(manim.IN)\n",
    "            #p.set_stroke(color='#00000', width=1.0)\n",
    "            #bottom_left_corner = p.get_critical_point([-1,-1,-1])\n",
    "            #p.shift(-val*scale*0.5*np.array([0,0,1]))\n",
    "            #p.shift(np.array([2,0,0])*i)\n",
    "            #i+=1\n",
    "            prisms.append(p)\n",
    "        vector_ob.add(*prisms)\n",
    "        #vector_ob.to_edge(edge=manim.IN)\n",
    "        vector_ob.arrange(direction=manim.X_AXIS, center=False, coor_mask=np.array([1,0,0]))\n",
    "        return vector_ob\n",
    "            \n",
    "                \n",
    "                \n"
   ]
  },
  {
   "cell_type": "code",
   "execution_count": null,
   "id": "7aa36a4e-4533-45b1-99db-b2082be8bfc6",
   "metadata": {},
   "outputs": [],
   "source": [
    "# Graveyard\n",
    "\n",
    "\n",
    "\n",
    "class CombiningColumns3(manim.Scene):\n",
    "    def construct(self): \n",
    "        vecs = [create_2d_vec(num_input_boxes, manim.Y_AXIS, colors[i]) for i in range(len(mix))]\n",
    "        vec_identifiers = ['X0', 'X1', 'X2', 'Y']\n",
    "        factor_identifiers = ['f0', 'f1', 'f2']\n",
    "        all_identifiers = vec_identifiers + factor_identifiers + ['=']\n",
    "        \n",
    "        def repl(eq1, tex, obj):\n",
    "            idx = eq1.index_of_part_by_tex(tex)\n",
    "            repl = eq1[idx].become(obj.move_to(eq1[idx]))\n",
    "            return repl\n",
    "        \n",
    "        #def repl(obj1, )\n",
    "\n",
    "        def create_eqs():\n",
    "            # eq1\n",
    "            eq1 = manim.MathTex(r'X0 \\times f0 + X1 \\times f1 + X2 \\times f2 = Y', color=font_color,\n",
    "                                 substrings_to_isolate=all_identifiers)  \n",
    "            eq1_by_index = {k:eq1.index_of_part_by_tex(k) for k in ['X0', 'X1', 'X2', 'f0', 'f1', 'f2', 'Y']}\n",
    "            eq1_by_obj = {k:eq1.get_part_by_tex(k) for k in ['X0', 'X1', 'X2', 'f0', 'f1', 'f2', 'Y']}\n",
    "            x0, x1, x2 = (create_2d_vec(num_input_boxes, manim.Y_AXIS, colors[i]) for i in range(len(mix)))\n",
    "            f0, f1, f2 = (manim.Integer(i, color=font_color) for i in mix)\n",
    "            #f0, f1, f2 = (i for i in mix)\n",
    "            y = create_2d_vec(num_input_boxes,manim.Y_AXIS, result_color)\n",
    "            #xx = manim.MobjectMatrix([[x0.copy(), x1.copy(), x2.copy()]])\n",
    "            xx = manim.Matrix([['X0', 'X1', 'X2']])\n",
    "            ff = manim.IntegerMatrix([[0], [1], [2]])\n",
    "            print(manim.matrix_to_tex_string([[0,1, 2]]))\n",
    "            #yy = manim.MobjectMatrix(np.array([[y.copy()]]))  \n",
    "            xx.get_mob_matrix()[0,0].become(x0.copy().move_to(xx.get_mob_matrix()[0, 0]))\n",
    "            xx.get_mob_matrix()[0,1].become(x1.copy().move_to(xx.get_mob_matrix()[0, 1]))\n",
    "            xx.get_mob_matrix()[0,2].become(x2.copy().move_to(xx.get_mob_matrix()[0, 2]))\n",
    "            \n",
    "            repl(eq1, 'X0', x0)\n",
    "            repl(eq1, 'X1', x1)\n",
    "            repl(eq1, 'X2', x2)\n",
    "            repl(eq1, 'f0', f0)\n",
    "            repl(eq1, 'f1', f1)\n",
    "            repl(eq1, 'f2', f2)\n",
    "            repl(eq1, 'Y', y)\n",
    "            #eq1_by_obj['X1'].become(x1)\n",
    "            #eq1_by_obj['X2'].become(x2)\n",
    "            #eq1_by_obj['f0'].become(f0)\n",
    "            #eq1_by_obj['f1'].become(f1)\n",
    "            #eq1_by_obj['f2'].become(f2)\n",
    "            #eq1_by_obj['Y'].become(y)\n",
    "            # eq2\n",
    "\n",
    "            replacements = []\n",
    "            #replacements = [(x0, m[0,0]), (x1, m[0, 1]), (x2, m[0, 1]),\n",
    "            #                (f0, ff[0, 0]), (f1, m[1, 0]), (f2, m[2, 0]), (y, yy[0, 0])]\n",
    "            eq2 = manim.Tex('XX ff = YY', color=font_color, substrings_to_isolate=['XX', 'YY', 'ff'])\n",
    "            eq2.get_part_by_tex('XX').become(xx)\n",
    "            #eq2.get_part_by_tex('ff').become(ff)\n",
    "            #eq2.get_part_by_tex('yy').become(yy)\n",
    "            return eq1, eq2, replacements\n",
    "        eq1, eq2, replacements = create_eqs()\n",
    "        #eq2.shift([0, -2, 0])\n",
    "        self.add(eq2)\n",
    "        #self.add(eq1)\n",
    "        #self.wait(1)\n",
    "        #self.play(*[manim.ReplacementTransform(eq1[r[0]], eq2[r[1]]) for r in replacements])\n",
    "        #self.play(manim.ReplacementTransform(eq1, eq2))\n",
    "        #self.play(eq1.animate.fade(darkness=1), rate=4.0)\n",
    "\n",
    "class CombiningColumns2(manim.Scene):\n",
    "    def construct(self):\n",
    "        vecs = [create_2d_vec(num_input_boxes, manim.Y_AXIS, colors[i]) for i in range(len(mix))]\n",
    "        vecs.append(create_2d_vec(num_input_boxes,manim.Y_AXIS, result_color))\n",
    "        #          0     \n",
    "        #         X0 xf0 + X1 xf1 X2 xf2 = Y\n",
    "        #         [X0 & X1 & X2][f1 \\\\ f2 \\\\ f3] = [Y]\n",
    "        vec_identifiers = ['X0', 'X1', 'X2', 'Y']\n",
    "        factor_identifiers = ['f0', 'f1', 'f2']\n",
    "        all_identifiers = vec_identifiers + factor_identifiers + ['=']\n",
    "        eq1 = manim.MathTex('X0',       #0\n",
    "                            '\\\\times',  #1\n",
    "                            'f0',       #2\n",
    "                            '+',        #3\n",
    "                            'X1',       #4\n",
    "                            '\\\\times',  #5\n",
    "                            'f1',       #6\n",
    "                            '+',        #7\n",
    "                            'X2',       #8\n",
    "                            '\\\\times',  #9\n",
    "                            'f2',       #10\n",
    "                            '=',        #11\n",
    "                            'Y',        #12\n",
    "                            color=font_color, substrings_to_isolate=all_identifiers)\n",
    "        eq2 = manim.MathTex('\\\\left[',  #0\n",
    "                            'X0',       #1\n",
    "                            'X1',       #2\n",
    "                            'X2',       #3\n",
    "                            '\\\\right]', #4\n",
    "                            '=',        #5\n",
    "                            '\\\\left[',  #6\n",
    "                            'Y',        #7\n",
    "                            '\\\\right]', #8\n",
    "                            color=font_color,\n",
    "                           substrings_to_isolate=vec_identifiers) \n",
    "        #changes = [(0, 2, 4, 6, 8, 10, 12),\n",
    "        #           (1, , 3,)]        \n",
    "        eq1 = manim.MathTex(r'X0 \\times f0 + X1 \\times f1 + X2 \\times f2 = Y', color=font_color,\n",
    "                           substrings_to_isolate=all_identifiers)\n",
    "        eq2 = manim.MathTex(\n",
    "                        r'\\left[ X0 X1 X2 \\right] \\big[ f0  f1 f2 \\big] = \\left[ Y \\right]',\n",
    "                        #'\\\\left[ \\\\begin{array}{ccc}X0 & X1 & X2\\\\end{array} \\\\right] f0 f1 f0 Y',\n",
    "                        #r'\\left[ X0  X1  X2  \\right] \\big[ f0  f1 f2 \\big] = \\left[ Y \\right]',\n",
    "                        #r'\\left[ X0 X1 X2 \\right] \\begin{bmatrix} f0 \\\\ f1 \\\\ f2 \\end{bmatrix} = \\left[ Y \\right]',\n",
    "                        color=font_color, substrings_to_isolate=all_identifiers)\n",
    "        eq2.shift([0, -2, 0])\n",
    "        replacements = []\n",
    "        # Insert column vectors\n",
    "        for i in range(len(vecs)):\n",
    "            idx1 = eq1.index_of_part_by_tex(vec_identifiers[i])\n",
    "            idx2 = eq2.index_of_part_by_tex(vec_identifiers[i])\n",
    "            replacements.append((idx1, idx2))\n",
    "            cp1 = vecs[i].copy()\n",
    "            cp2 = vecs[i].copy()\n",
    "            cp1.move_to(eq1[idx1])\n",
    "            cp2.move_to(eq2[idx2])\n",
    "            eq1[idx1].become(cp1)\n",
    "            eq2[idx2].become(cp2) \n",
    "        for f in factor_identifiers + ['=']:\n",
    "            idx1 = eq1.index_of_part_by_tex(f)\n",
    "            idx2 = eq2.index_of_part_by_tex(f)\n",
    "            replacements.append((idx1, idx2)) \n",
    "        #self.add(eq2)\n",
    "        self.add(eq1)\n",
    "        #self.play(manim.Write(eq1))\n",
    "        self.wait(1)\n",
    "        eq2cp = eq2.copy()\n",
    "        self.play(*[manim.ReplacementTransform(eq1[r[0]], eq2[r[1]]) for r in replacements])\n",
    "        self.add(eq2cp)\n",
    "        self.wait(1)\n",
    "        #self.play(manim.ReplacementTransform(eq1, eq2))\n",
    "        #self.play(eq1.animate.fade(darkness=1), rate=4.0)\n",
    "        #self.add(eq2)"
   ]
  },
  {
   "cell_type": "code",
   "execution_count": 297,
   "id": "51efca11-7e79-4c0c-956e-918cca2fb807",
   "metadata": {},
   "outputs": [
    {
     "name": "stdout",
     "output_type": "stream",
     "text": [
      "1\n",
      "1\n",
      "2\n",
      "3\n",
      "4\n"
     ]
    },
    {
     "name": "stderr",
     "output_type": "stream",
     "text": [
      "/usr/local/lib/python3.8/site-packages/numpy/core/_asarray.py:102: VisibleDeprecationWarning: Creating an ndarray from nested sequences exceeding the maximum number of dimensions of 32 is deprecated. If you mean to do this, you must specify 'dtype=object' when creating the ndarray.\n",
      "  return array(a, dtype, copy=False, order=order)\n"
     ]
    },
    {
     "data": {
      "text/html": [
       "<pre style=\"white-space:pre;overflow-x:auto;line-height:normal;font-family:Menlo,'DejaVu Sans Mono',consolas,'Courier New',monospace\"><span style=\"color: #7fbfbf\">[05/07/21 02:21:33] </span><span style=\"color: #008000\">INFO</span>                                             <a href=\"file:///usr/local/lib/python3.8/site-packages/manim/scene/scene_file_writer.py\"><span style=\"color: #7f7f7f\">scene_file_writer.py</span></a><span style=\"color: #7f7f7f\">:585</span>\n",
       "                             <span style=\"color: #808000; font-weight: bold\">File</span> ready at <span style=\"color: #800080\">/manim/notebooks/media/im</span>                         \n",
       "                             <span style=\"color: #800080\">ages/notebooks/</span><span style=\"color: #ff00ff\">Test_ManimCE_v0.6.0.png</span>                          \n",
       "                                                                                             \n",
       "</pre>\n"
      ],
      "text/plain": [
       "<rich.jupyter.JupyterRenderable at 0x7f31eed7ccd0>"
      ]
     },
     "metadata": {},
     "output_type": "display_data"
    },
    {
     "data": {
      "text/html": [
       "<pre style=\"white-space:pre;overflow-x:auto;line-height:normal;font-family:Menlo,'DejaVu Sans Mono',consolas,'Courier New',monospace\"><span style=\"color: #7fbfbf\">                    </span><span style=\"color: #008000\">INFO</span>     <span style=\"color: #808000; font-weight: bold\">Rendered</span> Test                                       <a href=\"file:///usr/local/lib/python3.8/site-packages/manim/scene/scene.py\"><span style=\"color: #7f7f7f\">scene.py</span></a><span style=\"color: #7f7f7f\">:217</span>\n",
       "                             <span style=\"color: #808000; font-weight: bold\">Played</span> <span style=\"color: #008000\">0</span> <span style=\"color: #808000; font-weight: bold\">animations</span>                                             \n",
       "</pre>\n"
      ],
      "text/plain": [
       "<rich.jupyter.JupyterRenderable at 0x7f31eed7ce80>"
      ]
     },
     "metadata": {},
     "output_type": "display_data"
    },
    {
     "ename": "FileNotFoundError",
     "evalue": "[Errno 2] No such file or directory: 'media/jupyter/077c4e083f870f98dcde3434d653f1acbdae52fc.png'",
     "output_type": "error",
     "traceback": [
      "\u001b[0;31m---------------------------------------------------------------------------\u001b[0m",
      "\u001b[0;31mFileNotFoundError\u001b[0m                         Traceback (most recent call last)",
      "\u001b[0;32m<ipython-input-297-1b6703373902>\u001b[0m in \u001b[0;36m<module>\u001b[0;34m\u001b[0m\n\u001b[0;32m----> 1\u001b[0;31m \u001b[0mget_ipython\u001b[0m\u001b[0;34m(\u001b[0m\u001b[0;34m)\u001b[0m\u001b[0;34m.\u001b[0m\u001b[0mrun_cell_magic\u001b[0m\u001b[0;34m(\u001b[0m\u001b[0;34m'manim'\u001b[0m\u001b[0;34m,\u001b[0m \u001b[0;34m'-ql Test'\u001b[0m\u001b[0;34m,\u001b[0m \u001b[0;34m'\\nclass Test(manim.Scene):\\n\\n    \\n    def construct(self):\\n        def f1(m):\\n            print(m)\\n            return manim.Circle(m)\\n        def f2(m):\\n            print(m)\\n            return m\\n        circles = [[manim.Circle(1), manim.Circle(2), manim.Circle(3), manim.Circle(4)]]     \\n        circles_np = np.array(circles, dtype=object)\\n        ints = [[1, 2, 3, 4]]\\n        m1 = manim.MobjectMatrix(ints,    element_to_mobject=f1)\\n        # m2 = manim.MobjectMatrix(circles, element_to_mobject=f2)\\n        c = circles_np[0,0]\\n'\u001b[0m\u001b[0;34m)\u001b[0m\u001b[0;34m\u001b[0m\u001b[0;34m\u001b[0m\u001b[0m\n\u001b[0m",
      "\u001b[0;32m/usr/local/lib/python3.8/site-packages/IPython/core/interactiveshell.py\u001b[0m in \u001b[0;36mrun_cell_magic\u001b[0;34m(self, magic_name, line, cell)\u001b[0m\n\u001b[1;32m   2401\u001b[0m             \u001b[0;32mwith\u001b[0m \u001b[0mself\u001b[0m\u001b[0;34m.\u001b[0m\u001b[0mbuiltin_trap\u001b[0m\u001b[0;34m:\u001b[0m\u001b[0;34m\u001b[0m\u001b[0;34m\u001b[0m\u001b[0m\n\u001b[1;32m   2402\u001b[0m                 \u001b[0margs\u001b[0m \u001b[0;34m=\u001b[0m \u001b[0;34m(\u001b[0m\u001b[0mmagic_arg_s\u001b[0m\u001b[0;34m,\u001b[0m \u001b[0mcell\u001b[0m\u001b[0;34m)\u001b[0m\u001b[0;34m\u001b[0m\u001b[0;34m\u001b[0m\u001b[0m\n\u001b[0;32m-> 2403\u001b[0;31m                 \u001b[0mresult\u001b[0m \u001b[0;34m=\u001b[0m \u001b[0mfn\u001b[0m\u001b[0;34m(\u001b[0m\u001b[0;34m*\u001b[0m\u001b[0margs\u001b[0m\u001b[0;34m,\u001b[0m \u001b[0;34m**\u001b[0m\u001b[0mkwargs\u001b[0m\u001b[0;34m)\u001b[0m\u001b[0;34m\u001b[0m\u001b[0;34m\u001b[0m\u001b[0m\n\u001b[0m\u001b[1;32m   2404\u001b[0m             \u001b[0;32mreturn\u001b[0m \u001b[0mresult\u001b[0m\u001b[0;34m\u001b[0m\u001b[0;34m\u001b[0m\u001b[0m\n\u001b[1;32m   2405\u001b[0m \u001b[0;34m\u001b[0m\u001b[0m\n",
      "\u001b[0;32m<decorator-gen-863>\u001b[0m in \u001b[0;36mmanim\u001b[0;34m(self, line, cell, local_ns)\u001b[0m\n",
      "\u001b[0;32m/usr/local/lib/python3.8/site-packages/IPython/core/magic.py\u001b[0m in \u001b[0;36m<lambda>\u001b[0;34m(f, *a, **k)\u001b[0m\n\u001b[1;32m    185\u001b[0m     \u001b[0;31m# but it's overkill for just that one bit of state.\u001b[0m\u001b[0;34m\u001b[0m\u001b[0;34m\u001b[0m\u001b[0;34m\u001b[0m\u001b[0m\n\u001b[1;32m    186\u001b[0m     \u001b[0;32mdef\u001b[0m \u001b[0mmagic_deco\u001b[0m\u001b[0;34m(\u001b[0m\u001b[0marg\u001b[0m\u001b[0;34m)\u001b[0m\u001b[0;34m:\u001b[0m\u001b[0;34m\u001b[0m\u001b[0;34m\u001b[0m\u001b[0m\n\u001b[0;32m--> 187\u001b[0;31m         \u001b[0mcall\u001b[0m \u001b[0;34m=\u001b[0m \u001b[0;32mlambda\u001b[0m \u001b[0mf\u001b[0m\u001b[0;34m,\u001b[0m \u001b[0;34m*\u001b[0m\u001b[0ma\u001b[0m\u001b[0;34m,\u001b[0m \u001b[0;34m**\u001b[0m\u001b[0mk\u001b[0m\u001b[0;34m:\u001b[0m \u001b[0mf\u001b[0m\u001b[0;34m(\u001b[0m\u001b[0;34m*\u001b[0m\u001b[0ma\u001b[0m\u001b[0;34m,\u001b[0m \u001b[0;34m**\u001b[0m\u001b[0mk\u001b[0m\u001b[0;34m)\u001b[0m\u001b[0;34m\u001b[0m\u001b[0;34m\u001b[0m\u001b[0m\n\u001b[0m\u001b[1;32m    188\u001b[0m \u001b[0;34m\u001b[0m\u001b[0m\n\u001b[1;32m    189\u001b[0m         \u001b[0;32mif\u001b[0m \u001b[0mcallable\u001b[0m\u001b[0;34m(\u001b[0m\u001b[0marg\u001b[0m\u001b[0;34m)\u001b[0m\u001b[0;34m:\u001b[0m\u001b[0;34m\u001b[0m\u001b[0;34m\u001b[0m\u001b[0m\n",
      "\u001b[0;32m/usr/local/lib/python3.8/site-packages/manim/utils/ipython_magic.py\u001b[0m in \u001b[0;36mmanim\u001b[0;34m(self, line, cell, local_ns)\u001b[0m\n\u001b[1;32m    116\u001b[0m \u001b[0;34m\u001b[0m\u001b[0m\n\u001b[1;32m    117\u001b[0m                 \u001b[0;32mif\u001b[0m \u001b[0mlocal_path\u001b[0m \u001b[0;32min\u001b[0m \u001b[0mself\u001b[0m\u001b[0;34m.\u001b[0m\u001b[0mrendered_files\u001b[0m\u001b[0;34m:\u001b[0m\u001b[0;34m\u001b[0m\u001b[0;34m\u001b[0m\u001b[0m\n\u001b[0;32m--> 118\u001b[0;31m                     \u001b[0mself\u001b[0m\u001b[0;34m.\u001b[0m\u001b[0mrendered_files\u001b[0m\u001b[0;34m[\u001b[0m\u001b[0mlocal_path\u001b[0m\u001b[0;34m]\u001b[0m\u001b[0;34m.\u001b[0m\u001b[0munlink\u001b[0m\u001b[0;34m(\u001b[0m\u001b[0;34m)\u001b[0m\u001b[0;34m\u001b[0m\u001b[0;34m\u001b[0m\u001b[0m\n\u001b[0m\u001b[1;32m    119\u001b[0m                 \u001b[0mself\u001b[0m\u001b[0;34m.\u001b[0m\u001b[0mrendered_files\u001b[0m\u001b[0;34m[\u001b[0m\u001b[0mlocal_path\u001b[0m\u001b[0;34m]\u001b[0m \u001b[0;34m=\u001b[0m \u001b[0mtmpfile\u001b[0m\u001b[0;34m\u001b[0m\u001b[0;34m\u001b[0m\u001b[0m\n\u001b[1;32m    120\u001b[0m                 \u001b[0mos\u001b[0m\u001b[0;34m.\u001b[0m\u001b[0mmakedirs\u001b[0m\u001b[0;34m(\u001b[0m\u001b[0mtmpfile\u001b[0m\u001b[0;34m.\u001b[0m\u001b[0mparent\u001b[0m\u001b[0;34m,\u001b[0m \u001b[0mexist_ok\u001b[0m\u001b[0;34m=\u001b[0m\u001b[0;32mTrue\u001b[0m\u001b[0;34m)\u001b[0m\u001b[0;34m\u001b[0m\u001b[0;34m\u001b[0m\u001b[0m\n",
      "\u001b[0;32m/usr/local/lib/python3.8/pathlib.py\u001b[0m in \u001b[0;36munlink\u001b[0;34m(self, missing_ok)\u001b[0m\n\u001b[1;32m   1322\u001b[0m             \u001b[0mself\u001b[0m\u001b[0;34m.\u001b[0m\u001b[0m_raise_closed\u001b[0m\u001b[0;34m(\u001b[0m\u001b[0;34m)\u001b[0m\u001b[0;34m\u001b[0m\u001b[0;34m\u001b[0m\u001b[0m\n\u001b[1;32m   1323\u001b[0m         \u001b[0;32mtry\u001b[0m\u001b[0;34m:\u001b[0m\u001b[0;34m\u001b[0m\u001b[0;34m\u001b[0m\u001b[0m\n\u001b[0;32m-> 1324\u001b[0;31m             \u001b[0mself\u001b[0m\u001b[0;34m.\u001b[0m\u001b[0m_accessor\u001b[0m\u001b[0;34m.\u001b[0m\u001b[0munlink\u001b[0m\u001b[0;34m(\u001b[0m\u001b[0mself\u001b[0m\u001b[0;34m)\u001b[0m\u001b[0;34m\u001b[0m\u001b[0;34m\u001b[0m\u001b[0m\n\u001b[0m\u001b[1;32m   1325\u001b[0m         \u001b[0;32mexcept\u001b[0m \u001b[0mFileNotFoundError\u001b[0m\u001b[0;34m:\u001b[0m\u001b[0;34m\u001b[0m\u001b[0;34m\u001b[0m\u001b[0m\n\u001b[1;32m   1326\u001b[0m             \u001b[0;32mif\u001b[0m \u001b[0;32mnot\u001b[0m \u001b[0mmissing_ok\u001b[0m\u001b[0;34m:\u001b[0m\u001b[0;34m\u001b[0m\u001b[0;34m\u001b[0m\u001b[0m\n",
      "\u001b[0;31mFileNotFoundError\u001b[0m: [Errno 2] No such file or directory: 'media/jupyter/077c4e083f870f98dcde3434d653f1acbdae52fc.png'"
     ]
    }
   ],
   "source": [
    "# Testing out MobjectMatrix.\n",
    "%%manim -ql Test\n",
    "\n",
    "class Test(manim.Scene):\n",
    "    def construct(self):\n",
    "        def f1(m):\n",
    "            print(m)\n",
    "            return manim.Circle(m)\n",
    "        def f2(m):\n",
    "            print(m)\n",
    "            return m\n",
    "        circles = [[manim.Circle(1), manim.Circle(2), manim.Circle(3), manim.Circle(4)]]     \n",
    "        circles_np = np.array(circles, dtype=object)\n",
    "        ints = [[1, 2, 3, 4]]\n",
    "        m1 = manim.MobjectMatrix(ints,    element_to_mobject=f1)\n",
    "        # m2 = manim.MobjectMatrix(circles, element_to_mobject=f2)\n",
    "        c = circles_np[0,0]"
   ]
  }
 ],
 "metadata": {
  "kernelspec": {
   "display_name": "Python 3",
   "language": "python",
   "name": "python3"
  },
  "language_info": {
   "codemirror_mode": {
    "name": "ipython",
    "version": 3
   },
   "file_extension": ".py",
   "mimetype": "text/x-python",
   "name": "python",
   "nbconvert_exporter": "python",
   "pygments_lexer": "ipython3",
   "version": "3.8.9"
  }
 },
 "nbformat": 4,
 "nbformat_minor": 5
}
